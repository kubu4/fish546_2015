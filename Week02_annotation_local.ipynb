{
 "metadata": {
  "name": "",
  "signature": "sha256:176c18519345926403f8e61d8c02eac7c95a71ef796a77e9374a5329f7ea2ddc"
 },
 "nbformat": 3,
 "nbformat_minor": 0,
 "worksheets": [
  {
   "cells": [
    {
     "cell_type": "code",
     "collapsed": false,
     "input": [
      "pwd"
     ],
     "language": "python",
     "metadata": {},
     "outputs": [
      {
       "metadata": {},
       "output_type": "pyout",
       "prompt_number": 1,
       "text": [
        "u'/Volumes/Data/Sam/fish546_2015'"
       ]
      }
     ],
     "prompt_number": 1
    },
    {
     "cell_type": "code",
     "collapsed": false,
     "input": [
      "cd /usr/local/bioinformatics/"
     ],
     "language": "python",
     "metadata": {},
     "outputs": [
      {
       "output_type": "stream",
       "stream": "stdout",
       "text": [
        "/usr/local/bioinformatics\n"
       ]
      }
     ],
     "prompt_number": 9
    },
    {
     "cell_type": "code",
     "collapsed": false,
     "input": [
      "ls"
     ],
     "language": "python",
     "metadata": {},
     "outputs": [
      {
       "output_type": "stream",
       "stream": "stdout",
       "text": [
        "\u001b[34mFastQC\u001b[m\u001b[m/                     \u001b[35mbowtie\u001b[m\u001b[m@                     \u001b[35mfastx_toolkit\u001b[m\u001b[m@              \u001b[34mncbi-blast-2.2.29+\u001b[m\u001b[m/         source.sh\r\n",
        "\u001b[35mTrimmomatic\u001b[m\u001b[m@                \u001b[34mbowtie-1.0.0\u001b[m\u001b[m/               \u001b[34mfastx_toolkit-0.0.13.2\u001b[m\u001b[m/     \u001b[35mngsplot\u001b[m\u001b[m@                    \u001b[35mstacks\u001b[m\u001b[m@\r\n",
        "\u001b[34mTrimmomatic-0.30\u001b[m\u001b[m/           \u001b[35mbowtie2\u001b[m\u001b[m@                    \u001b[35mhmmer\u001b[m\u001b[m@                      \u001b[34mngsplot-2.08\u001b[m\u001b[m/               \u001b[34mstacks-1.13\u001b[m\u001b[m/\r\n",
        "\u001b[35mTrinotate\u001b[m\u001b[m@                  \u001b[34mbowtie2-2.1.0\u001b[m\u001b[m/              \u001b[34mhmmer-3.1b1\u001b[m\u001b[m/                \u001b[35mrsem\u001b[m\u001b[m@                       \u001b[34mtophat-2.0.13.OSX_x86_64\u001b[m\u001b[m/\r\n",
        "\u001b[34mTrinotate_r20140708\u001b[m\u001b[m/        \u001b[34mcufflinks-2.2.1.OSX_x86_64\u001b[m\u001b[m/ \u001b[34mlibgtextutils-0.6.1\u001b[m\u001b[m/        \u001b[34mrsem-1.2.10\u001b[m\u001b[m/                \u001b[35mtrinity\u001b[m\u001b[m@\r\n",
        "\u001b[34manaconda\u001b[m\u001b[m/                   \u001b[34mdbs\u001b[m\u001b[m/                        \u001b[35mncbi-blast\u001b[m\u001b[m@                 \u001b[34msignalp-4.1\u001b[m\u001b[m/                \u001b[34mtrinityrnaseq_r20131110\u001b[m\u001b[m/\r\n"
       ]
      }
     ],
     "prompt_number": 19
    },
    {
     "cell_type": "code",
     "collapsed": false,
     "input": [
      "!curl -O https://github.com/arq5x/bedtools2/releases/download/v2.22.1/bedtools-2.22.1.tar.gz"
     ],
     "language": "python",
     "metadata": {},
     "outputs": [
      {
       "output_type": "stream",
       "stream": "stdout",
       "text": [
        "  % Total    % Received % Xferd  Average Speed   Time    Time     Time  Current\r\n",
        "                                 Dload  Upload   Total   Spent    Left  Speed\r\n",
        "\r",
        "  0     0    0     0    0     0      0      0 --:--:-- --:--:-- --:--:--     0\r",
        "  0     0    0     0    0     0      0      0 --:--:-- --:--:-- --:--:--     0"
       ]
      },
      {
       "output_type": "stream",
       "stream": "stdout",
       "text": [
        "\r",
        "100   401    0   401    0     0    713      0 --:--:-- --:--:-- --:--:--   713\r\n"
       ]
      }
     ],
     "prompt_number": 20
    },
    {
     "cell_type": "code",
     "collapsed": false,
     "input": [],
     "language": "python",
     "metadata": {},
     "outputs": [
      {
       "output_type": "stream",
       "stream": "stdout",
       "text": [
        "\u001b[34mFastQC\u001b[m\u001b[m/                     \u001b[35mbowtie\u001b[m\u001b[m@                     \u001b[34mfastx_toolkit-0.0.13.2\u001b[m\u001b[m/     \u001b[34mngsplot-2.08\u001b[m\u001b[m/               \u001b[34mtophat-2.0.13.OSX_x86_64\u001b[m\u001b[m/\r\n",
        "\u001b[35mTrimmomatic\u001b[m\u001b[m@                \u001b[34mbowtie-1.0.0\u001b[m\u001b[m/               \u001b[35mhmmer\u001b[m\u001b[m@                      \u001b[35mrsem\u001b[m\u001b[m@                       \u001b[35mtrinity\u001b[m\u001b[m@\r\n",
        "\u001b[34mTrimmomatic-0.30\u001b[m\u001b[m/           \u001b[35mbowtie2\u001b[m\u001b[m@                    \u001b[34mhmmer-3.1b1\u001b[m\u001b[m/                \u001b[34mrsem-1.2.10\u001b[m\u001b[m/                \u001b[34mtrinityrnaseq_r20131110\u001b[m\u001b[m/\r\n",
        "\u001b[35mTrinotate\u001b[m\u001b[m@                  \u001b[34mbowtie2-2.1.0\u001b[m\u001b[m/              \u001b[34mlibgtextutils-0.6.1\u001b[m\u001b[m/        \u001b[34msignalp-4.1\u001b[m\u001b[m/\r\n",
        "\u001b[34mTrinotate_r20140708\u001b[m\u001b[m/        \u001b[34mcufflinks-2.2.1.OSX_x86_64\u001b[m\u001b[m/ \u001b[35mncbi-blast\u001b[m\u001b[m@                 source.sh\r\n",
        "\u001b[34manaconda\u001b[m\u001b[m/                   \u001b[34mdbs\u001b[m\u001b[m/                        \u001b[34mncbi-blast-2.2.29+\u001b[m\u001b[m/         \u001b[35mstacks\u001b[m\u001b[m@\r\n",
        "bedtools-2.22.1.tar.gz      \u001b[35mfastx_toolkit\u001b[m\u001b[m@              \u001b[35mngsplot\u001b[m\u001b[m@                    \u001b[34mstacks-1.13\u001b[m\u001b[m/\r\n"
       ]
      }
     ],
     "prompt_number": 21
    },
    {
     "cell_type": "code",
     "collapsed": false,
     "input": [
      "!tar -zxvf bedtools-2.22.1.tar.gz"
     ],
     "language": "python",
     "metadata": {},
     "outputs": [
      {
       "output_type": "stream",
       "stream": "stdout",
       "text": [
        "tar: Unrecognized archive format\r\n",
        "tar: Error exit delayed from previous errors.\r\n"
       ]
      }
     ],
     "prompt_number": 22
    },
    {
     "cell_type": "code",
     "collapsed": false,
     "input": [
      "!curl -O https://s3.amazonaws.com/github-cloud/releases/15059334"
     ],
     "language": "python",
     "metadata": {},
     "outputs": [
      {
       "output_type": "stream",
       "stream": "stdout",
       "text": [
        "  % Total    % Received % Xferd  Average Speed   Time    Time     Time  Current\r\n",
        "                                 Dload  Upload   Total   Spent    Left  Speed\r\n",
        "\r",
        "  0     0    0     0    0     0      0      0 --:--:-- --:--:-- --:--:--     0"
       ]
      },
      {
       "output_type": "stream",
       "stream": "stdout",
       "text": [
        "\r",
        "100   231    0   231    0     0    323      0 --:--:-- --:--:-- --:--:--   323\r\n"
       ]
      }
     ],
     "prompt_number": 23
    },
    {
     "cell_type": "code",
     "collapsed": false,
     "input": [
      "ls"
     ],
     "language": "python",
     "metadata": {},
     "outputs": [
      {
       "output_type": "stream",
       "stream": "stdout",
       "text": [
        "15059334                    bedtools-2.22.1.tar.gz      \u001b[35mfastx_toolkit\u001b[m\u001b[m@              \u001b[35mngsplot\u001b[m\u001b[m@                    \u001b[34mstacks-1.13\u001b[m\u001b[m/\r\n",
        "\u001b[34mFastQC\u001b[m\u001b[m/                     \u001b[35mbowtie\u001b[m\u001b[m@                     \u001b[34mfastx_toolkit-0.0.13.2\u001b[m\u001b[m/     \u001b[34mngsplot-2.08\u001b[m\u001b[m/               \u001b[34mtophat-2.0.13.OSX_x86_64\u001b[m\u001b[m/\r\n",
        "\u001b[35mTrimmomatic\u001b[m\u001b[m@                \u001b[34mbowtie-1.0.0\u001b[m\u001b[m/               \u001b[35mhmmer\u001b[m\u001b[m@                      \u001b[35mrsem\u001b[m\u001b[m@                       \u001b[35mtrinity\u001b[m\u001b[m@\r\n",
        "\u001b[34mTrimmomatic-0.30\u001b[m\u001b[m/           \u001b[35mbowtie2\u001b[m\u001b[m@                    \u001b[34mhmmer-3.1b1\u001b[m\u001b[m/                \u001b[34mrsem-1.2.10\u001b[m\u001b[m/                \u001b[34mtrinityrnaseq_r20131110\u001b[m\u001b[m/\r\n",
        "\u001b[35mTrinotate\u001b[m\u001b[m@                  \u001b[34mbowtie2-2.1.0\u001b[m\u001b[m/              \u001b[34mlibgtextutils-0.6.1\u001b[m\u001b[m/        \u001b[34msignalp-4.1\u001b[m\u001b[m/\r\n",
        "\u001b[34mTrinotate_r20140708\u001b[m\u001b[m/        \u001b[34mcufflinks-2.2.1.OSX_x86_64\u001b[m\u001b[m/ \u001b[35mncbi-blast\u001b[m\u001b[m@                 source.sh\r\n",
        "\u001b[34manaconda\u001b[m\u001b[m/                   \u001b[34mdbs\u001b[m\u001b[m/                        \u001b[34mncbi-blast-2.2.29+\u001b[m\u001b[m/         \u001b[35mstacks\u001b[m\u001b[m@\r\n"
       ]
      }
     ],
     "prompt_number": 25
    },
    {
     "cell_type": "code",
     "collapsed": false,
     "input": [
      "!tar -zxvf 15059334"
     ],
     "language": "python",
     "metadata": {},
     "outputs": [
      {
       "output_type": "stream",
       "stream": "stdout",
       "text": [
        "tar: Unrecognized archive format\r\n",
        "tar: Error exit delayed from previous errors.\r\n"
       ]
      }
     ],
     "prompt_number": 26
    },
    {
     "cell_type": "code",
     "collapsed": false,
     "input": [
      "!rm 15059334"
     ],
     "language": "python",
     "metadata": {},
     "outputs": [],
     "prompt_number": 27
    },
    {
     "cell_type": "code",
     "collapsed": false,
     "input": [
      "!rm bedtools-2.22.1.tar.gz"
     ],
     "language": "python",
     "metadata": {},
     "outputs": [],
     "prompt_number": 28
    },
    {
     "cell_type": "code",
     "collapsed": false,
     "input": [
      "!curl -O https://github.com/arq5x/bedtools2/releases/download/v2.22.0/bedtools-2.22.0.tar.gz"
     ],
     "language": "python",
     "metadata": {},
     "outputs": [
      {
       "output_type": "stream",
       "stream": "stdout",
       "text": [
        "  % Total    % Received % Xferd  Average Speed   Time    Time     Time  Current\r\n",
        "                                 Dload  Upload   Total   Spent    Left  Speed\r\n",
        "\r",
        "  0     0    0     0    0     0      0      0 --:--:-- --:--:-- --:--:--     0"
       ]
      },
      {
       "output_type": "stream",
       "stream": "stdout",
       "text": [
        "\r",
        "100   399    0   399    0     0    841      0 --:--:-- --:--:-- --:--:--   841\r\n"
       ]
      }
     ],
     "prompt_number": 29
    },
    {
     "cell_type": "code",
     "collapsed": false,
     "input": [
      "ls"
     ],
     "language": "python",
     "metadata": {},
     "outputs": [
      {
       "output_type": "stream",
       "stream": "stdout",
       "text": [
        "\u001b[34mFastQC\u001b[m\u001b[m/                     \u001b[35mbowtie\u001b[m\u001b[m@                     \u001b[34mfastx_toolkit-0.0.13.2\u001b[m\u001b[m/     \u001b[34mngsplot-2.08\u001b[m\u001b[m/               \u001b[34mtophat-2.0.13.OSX_x86_64\u001b[m\u001b[m/\r\n",
        "\u001b[35mTrimmomatic\u001b[m\u001b[m@                \u001b[34mbowtie-1.0.0\u001b[m\u001b[m/               \u001b[35mhmmer\u001b[m\u001b[m@                      \u001b[35mrsem\u001b[m\u001b[m@                       \u001b[35mtrinity\u001b[m\u001b[m@\r\n",
        "\u001b[34mTrimmomatic-0.30\u001b[m\u001b[m/           \u001b[35mbowtie2\u001b[m\u001b[m@                    \u001b[34mhmmer-3.1b1\u001b[m\u001b[m/                \u001b[34mrsem-1.2.10\u001b[m\u001b[m/                \u001b[34mtrinityrnaseq_r20131110\u001b[m\u001b[m/\r\n",
        "\u001b[35mTrinotate\u001b[m\u001b[m@                  \u001b[34mbowtie2-2.1.0\u001b[m\u001b[m/              \u001b[34mlibgtextutils-0.6.1\u001b[m\u001b[m/        \u001b[34msignalp-4.1\u001b[m\u001b[m/\r\n",
        "\u001b[34mTrinotate_r20140708\u001b[m\u001b[m/        \u001b[34mcufflinks-2.2.1.OSX_x86_64\u001b[m\u001b[m/ \u001b[35mncbi-blast\u001b[m\u001b[m@                 source.sh\r\n",
        "\u001b[34manaconda\u001b[m\u001b[m/                   \u001b[34mdbs\u001b[m\u001b[m/                        \u001b[34mncbi-blast-2.2.29+\u001b[m\u001b[m/         \u001b[35mstacks\u001b[m\u001b[m@\r\n",
        "bedtools-2.22.0.tar.gz      \u001b[35mfastx_toolkit\u001b[m\u001b[m@              \u001b[35mngsplot\u001b[m\u001b[m@                    \u001b[34mstacks-1.13\u001b[m\u001b[m/\r\n"
       ]
      }
     ],
     "prompt_number": 30
    },
    {
     "cell_type": "code",
     "collapsed": false,
     "input": [
      "!tar -zxvf bedtools-2.22.0.tar.gz"
     ],
     "language": "python",
     "metadata": {},
     "outputs": [
      {
       "output_type": "stream",
       "stream": "stdout",
       "text": [
        "tar: Unrecognized archive format\r\n",
        "tar: Error exit delayed from previous errors.\r\n"
       ]
      }
     ],
     "prompt_number": 31
    },
    {
     "cell_type": "code",
     "collapsed": false,
     "input": [
      "!curl -O https://github.com/arq5x/bedtools2/releases/download/v2.22.1/bedtools-2.22.1.tar.gz"
     ],
     "language": "python",
     "metadata": {},
     "outputs": [
      {
       "output_type": "stream",
       "stream": "stdout",
       "text": [
        "  % Total    % Received % Xferd  Average Speed   Time    Time     Time  Current\r\n",
        "                                 Dload  Upload   Total   Spent    Left  Speed\r\n",
        "\r",
        "  0     0    0     0    0     0      0      0 --:--:-- --:--:-- --:--:--     0"
       ]
      },
      {
       "output_type": "stream",
       "stream": "stdout",
       "text": [
        "\r",
        "  0     0    0     0    0     0      0      0 --:--:-- --:--:-- --:--:--     0"
       ]
      },
      {
       "output_type": "stream",
       "stream": "stdout",
       "text": [
        "\r",
        "100   403    0   403    0     0    729      0 --:--:-- --:--:-- --:--:--   728\r\n"
       ]
      }
     ],
     "prompt_number": 32
    },
    {
     "cell_type": "code",
     "collapsed": false,
     "input": [
      "ls"
     ],
     "language": "python",
     "metadata": {},
     "outputs": [
      {
       "output_type": "stream",
       "stream": "stdout",
       "text": [
        "\u001b[34mFastQC\u001b[m\u001b[m/                     bedtools-2.22.1.tar.gz      \u001b[35mfastx_toolkit\u001b[m\u001b[m@              \u001b[35mngsplot\u001b[m\u001b[m@                    \u001b[34mstacks-1.13\u001b[m\u001b[m/\r\n",
        "\u001b[35mTrimmomatic\u001b[m\u001b[m@                \u001b[35mbowtie\u001b[m\u001b[m@                     \u001b[34mfastx_toolkit-0.0.13.2\u001b[m\u001b[m/     \u001b[34mngsplot-2.08\u001b[m\u001b[m/               \u001b[34mtophat-2.0.13.OSX_x86_64\u001b[m\u001b[m/\r\n",
        "\u001b[34mTrimmomatic-0.30\u001b[m\u001b[m/           \u001b[34mbowtie-1.0.0\u001b[m\u001b[m/               \u001b[35mhmmer\u001b[m\u001b[m@                      \u001b[35mrsem\u001b[m\u001b[m@                       \u001b[35mtrinity\u001b[m\u001b[m@\r\n",
        "\u001b[35mTrinotate\u001b[m\u001b[m@                  \u001b[35mbowtie2\u001b[m\u001b[m@                    \u001b[34mhmmer-3.1b1\u001b[m\u001b[m/                \u001b[34mrsem-1.2.10\u001b[m\u001b[m/                \u001b[34mtrinityrnaseq_r20131110\u001b[m\u001b[m/\r\n",
        "\u001b[34mTrinotate_r20140708\u001b[m\u001b[m/        \u001b[34mbowtie2-2.1.0\u001b[m\u001b[m/              \u001b[34mlibgtextutils-0.6.1\u001b[m\u001b[m/        \u001b[34msignalp-4.1\u001b[m\u001b[m/\r\n",
        "\u001b[34manaconda\u001b[m\u001b[m/                   \u001b[34mcufflinks-2.2.1.OSX_x86_64\u001b[m\u001b[m/ \u001b[35mncbi-blast\u001b[m\u001b[m@                 source.sh\r\n",
        "bedtools-2.22.0.tar.gz      \u001b[34mdbs\u001b[m\u001b[m/                        \u001b[34mncbi-blast-2.2.29+\u001b[m\u001b[m/         \u001b[35mstacks\u001b[m\u001b[m@\r\n"
       ]
      }
     ],
     "prompt_number": 33
    },
    {
     "cell_type": "code",
     "collapsed": false,
     "input": [
      "!tar -zxvf bedtools-2.22.1.tar.gz"
     ],
     "language": "python",
     "metadata": {},
     "outputs": [
      {
       "output_type": "stream",
       "stream": "stdout",
       "text": [
        "tar: Unrecognized archive format\r\n",
        "tar: Error exit delayed from previous errors.\r\n"
       ]
      }
     ],
     "prompt_number": 34
    },
    {
     "cell_type": "code",
     "collapsed": false,
     "input": [
      "!curl -O https://github.com/arq5x/bedtools2/releases/download/v2.22.1/bedtools-2.22.1.tar.gz > BEDtools.tar.gz"
     ],
     "language": "python",
     "metadata": {},
     "outputs": [
      {
       "output_type": "stream",
       "stream": "stdout",
       "text": [
        "  % Total    % Received % Xferd  Average Speed   Time    Time     Time  Current\r\n",
        "                                 Dload  Upload   Total   Spent    Left  Speed\r\n",
        "\r",
        "  0     0    0     0    0     0      0      0 --:--:-- --:--:-- --:--:--     0"
       ]
      },
      {
       "output_type": "stream",
       "stream": "stdout",
       "text": [
        "\r",
        "  0     0    0     0    0     0      0      0 --:--:-- --:--:-- --:--:--     0"
       ]
      },
      {
       "output_type": "stream",
       "stream": "stdout",
       "text": [
        "\r",
        "100   399    0   399    0     0    392      0 --:--:--  0:00:01 --:--:--   393\r\n"
       ]
      }
     ],
     "prompt_number": 37
    },
    {
     "cell_type": "code",
     "collapsed": false,
     "input": [
      "!tar -zxvf bedtools-2.22.1.tar.gz"
     ],
     "language": "python",
     "metadata": {},
     "outputs": [
      {
       "output_type": "stream",
       "stream": "stdout",
       "text": [
        "tar: Unrecognized archive format\r\n",
        "tar: Error exit delayed from previous errors.\r\n"
       ]
      }
     ],
     "prompt_number": 36
    },
    {
     "cell_type": "code",
     "collapsed": false,
     "input": [
      "!curl https://github.com/arq5x/bedtools2/releases/download/v2.22.1/bedtools-2.22.1.tar.gz > bedtools-2.22.1.tar.gz"
     ],
     "language": "python",
     "metadata": {},
     "outputs": [
      {
       "output_type": "stream",
       "stream": "stdout",
       "text": [
        "  % Total    % Received % Xferd  Average Speed   Time    Time     Time  Current\r\n",
        "                                 Dload  Upload   Total   Spent    Left  Speed\r\n",
        "\r",
        "  0     0    0     0    0     0      0      0 --:--:-- --:--:-- --:--:--     0"
       ]
      },
      {
       "output_type": "stream",
       "stream": "stdout",
       "text": [
        "\r",
        "  0     0    0     0    0     0      0      0 --:--:-- --:--:-- --:--:--     0"
       ]
      },
      {
       "output_type": "stream",
       "stream": "stdout",
       "text": [
        "\r",
        "100   399    0   399    0     0    793      0 --:--:-- --:--:-- --:--:--   793\r\n"
       ]
      }
     ],
     "prompt_number": 38
    },
    {
     "cell_type": "code",
     "collapsed": false,
     "input": [
      "!tar -zxvf bedtools-2.22.1.tar.gz"
     ],
     "language": "python",
     "metadata": {},
     "outputs": [
      {
       "output_type": "stream",
       "stream": "stdout",
       "text": [
        "tar: Unrecognized archive format\r\n",
        "tar: Error exit delayed from previous errors.\r\n"
       ]
      }
     ],
     "prompt_number": 39
    },
    {
     "cell_type": "code",
     "collapsed": false,
     "input": [
      "#downloaded bedtools on my computer and scp to hummingbird:\n",
      "#/usr/local/bioinformatics\n",
      "#Unzipped and unpacked tarball:\n",
      "#tar -zxvf bedtools-2.22.1.tar.gz\n",
      "#Changed to bedtools2 directory and ran \"sudo make\"\n",
      "#Added bedtools to PATH by editing source.sh file:\n",
      "## bedtools\n",
      "#export PATH=${BIO}/bedtools-2.22.1:${PATH}"
     ],
     "language": "python",
     "metadata": {},
     "outputs": [],
     "prompt_number": 1
    },
    {
     "cell_type": "code",
     "collapsed": false,
     "input": [
      "#The previous step didn't work, so I repeated the steps:\n",
      "#downloaded bedtools on my computer and scp to hummingbird:\n",
      "#/usr/local/bioinformatics\n",
      "#Unzipped and unpacked tarball:\n",
      "#tar -zxvf bedtools-2.22.1.tar.gz\n",
      "#Changed to bedtools2 directory and ran \"sudo make all\"\n",
      "#Added bedtools to PATH by editing source.sh file:\n",
      "## bedtools\n",
      "#export PATH=${BIO}/bedtools-2.22.1/bin:${PATH}\n",
      "#tried to use bedtools, didn't work\n",
      "#ran \"sudo bedtools\" which worked\n",
      "#don't need sudo any more"
     ],
     "language": "python",
     "metadata": {},
     "outputs": [],
     "prompt_number": 2
    },
    {
     "cell_type": "code",
     "collapsed": false,
     "input": [
      "#verify bedtools is installed\n",
      "!which bedtools"
     ],
     "language": "python",
     "metadata": {},
     "outputs": [
      {
       "output_type": "stream",
       "stream": "stdout",
       "text": [
        "/usr/local/bioinformatics/bedtools-2.22.1/bin/bedtools\r\n"
       ]
      }
     ],
     "prompt_number": 3
    },
    {
     "cell_type": "markdown",
     "metadata": {},
     "source": [
      "Resolved download issue.  Curl command for the host repo requires the -L flag (handles a URL redirect that is not apparent).  So, this will work\n",
      "```\n",
      "curl -OL https://github.com/arq5x/bedtools2/releases/download/v2.22.1/bedtools-2.22.1.tar.gz\n",
      "```\n",
      "Got an answer to this question by posting an issue on the BEDtools github page:\n",
      "\n",
      "https://github.com/arq5x/bedtools2/issues/189#issuecomment-73487571"
     ]
    },
    {
     "cell_type": "code",
     "collapsed": false,
     "input": [
      "pwd"
     ],
     "language": "python",
     "metadata": {},
     "outputs": [
      {
       "metadata": {},
       "output_type": "pyout",
       "prompt_number": 1,
       "text": [
        "u'/Users/Sam'"
       ]
      }
     ],
     "prompt_number": 1
    },
    {
     "cell_type": "code",
     "collapsed": false,
     "input": [
      "!fish546"
     ],
     "language": "python",
     "metadata": {},
     "outputs": [
      {
       "output_type": "stream",
       "stream": "stdout",
       "text": [
        "/bin/sh: fish546: command not found\r\n"
       ]
      }
     ],
     "prompt_number": 2
    },
    {
     "cell_type": "code",
     "collapsed": false,
     "input": [
      "!which bedtools"
     ],
     "language": "python",
     "metadata": {},
     "outputs": [
      {
       "output_type": "stream",
       "stream": "stdout",
       "text": [
        "/usr/local/bioinformatics/bedtools-2.22.1/bin/bedtools\r\n"
       ]
      }
     ],
     "prompt_number": 3
    },
    {
     "cell_type": "code",
     "collapsed": false,
     "input": [
      "cd /Volumes/Data/Sam/fish546_2015/gigasHSrnaSeq/analysis/bedtools/annotation/"
     ],
     "language": "python",
     "metadata": {},
     "outputs": [
      {
       "output_type": "stream",
       "stream": "stdout",
       "text": [
        "/Volumes/Data/Sam/fish546_2015/gigasHSrnaSeq/analysis/bedtools/annotation\n"
       ]
      }
     ],
     "prompt_number": 6
    },
    {
     "cell_type": "code",
     "collapsed": false,
     "input": [
      "#annotate the cuffmerge gtf\n",
      "!time bedtools getfasta -fi /Volumes/Eagle/trilobite/Crassostrea_gigas_ensembl_tracks/Crassostrea_gigas.GCA_000297895.1.22.dna_sm.genome.fa \\\n",
      "-bed /Volumes/Data/Sam/fish546_2015/gigasHSrnaSeq/analysis/cuffmerge/merged_asm/merged.gtf -fo mergedGTF.fa"
     ],
     "language": "python",
     "metadata": {},
     "outputs": [
      {
       "output_type": "stream",
       "stream": "stdout",
       "text": [
        "\r\n",
        "real\t0m27.274s\r\n",
        "user\t0m6.528s\r\n",
        "sys\t0m4.190s\r\n"
       ]
      }
     ],
     "prompt_number": 8
    },
    {
     "cell_type": "code",
     "collapsed": false,
     "input": [
      "!head -3 mergedGTF.fa"
     ],
     "language": "python",
     "metadata": {},
     "outputs": [
      {
       "output_type": "stream",
       "stream": "stdout",
       "text": [
        ">C12764:27-201\r\n",
        "ATAATTTCCGTATGATTATGTTCCAAATGTATAAATTAGTAAAATCTTCTCTGTGGAATAAAAGATTTTGTTTCTTTATTGTGGTACATTTCGGCTTTATACGTCGTGGAATTTAGCTGGCAAGGTCAGTGTACTCCTAGCCCTGTCTTCTCCCGGGATTTGGCCTTGGCCTTG\r\n",
        ">C12768:3-189\r\n"
       ]
      }
     ],
     "prompt_number": 9
    },
    {
     "cell_type": "code",
     "collapsed": false,
     "input": [
      "!grep '>' mergedGTF.fa | wc -l"
     ],
     "language": "python",
     "metadata": {},
     "outputs": [
      {
       "output_type": "stream",
       "stream": "stdout",
       "text": [
        "  280585\r\n"
       ]
      }
     ],
     "prompt_number": 14
    },
    {
     "cell_type": "code",
     "collapsed": false,
     "input": [
      "!blastx \\\n",
      "-db uniprot_sprot \\\n",
      "-query mergedGTF.fa \\\n",
      "-out mergedGTFblastx.tab \\\n",
      "-outfmt 6 \\\n",
      "-max_target_seqs 1 \\\n",
      "-num_threads 16"
     ],
     "language": "python",
     "metadata": {},
     "outputs": [
      {
       "output_type": "stream",
       "stream": "stdout",
       "text": [
        "Selenocysteine (U) at position 59 replaced by X\r\n",
        "Selenocysteine (U) at position 318 replaced by X\r\n",
        "Selenocysteine (U) at position 330 replaced by X\r\n",
        "Selenocysteine (U) at position 345 replaced by X\r\n",
        "Selenocysteine (U) at position 352 replaced by X\r\n",
        "Selenocysteine (U) at position 367 replaced by X\r\n",
        "Selenocysteine (U) at position 369 replaced by X\r\n",
        "Selenocysteine (U) at position 376 replaced by X\r\n",
        "Selenocysteine (U) at position 378 replaced by X\r\n"
       ]
      },
      {
       "output_type": "stream",
       "stream": "stdout",
       "text": [
        "Selenocysteine (U) at position 387 replaced by X\r\n",
        "Selenocysteine (U) at position 387 replaced by X\r\n",
        "Selenocysteine (U) at position 388 replaced by X\r\n",
        "Selenocysteine (U) at position 387 replaced by X\r\n"
       ]
      },
      {
       "output_type": "stream",
       "stream": "stdout",
       "text": [
        "Selenocysteine (U) at position 47 replaced by X\r\n"
       ]
      },
      {
       "output_type": "stream",
       "stream": "stdout",
       "text": [
        "Selenocysteine (U) at position 637 replaced by X\r\n",
        "Selenocysteine (U) at position 690 replaced by X\r\n"
       ]
      },
      {
       "output_type": "stream",
       "stream": "stdout",
       "text": [
        "Selenocysteine (U) at position 132 replaced by X\r\n"
       ]
      },
      {
       "output_type": "stream",
       "stream": "stdout",
       "text": [
        "Selenocysteine (U) at position 189 replaced by X\r\n"
       ]
      },
      {
       "output_type": "stream",
       "stream": "stdout",
       "text": [
        "Selenocysteine (U) at position 73 replaced by X\r\n"
       ]
      },
      {
       "output_type": "stream",
       "stream": "stdout",
       "text": [
        "Selenocysteine (U) at position 40 replaced by X\r\n",
        "Selenocysteine (U) at position 40 replaced by X\r\n",
        "Selenocysteine (U) at position 40 replaced by X\r\n",
        "Selenocysteine (U) at position 40 replaced by X\r\n",
        "Selenocysteine (U) at position 40 replaced by X\r\n"
       ]
      },
      {
       "output_type": "stream",
       "stream": "stdout",
       "text": [
        "Selenocysteine (U) at position 498 replaced by X\r\n",
        "Selenocysteine (U) at position 498 replaced by X\r\n",
        "Selenocysteine (U) at position 648 replaced by X\r\n",
        "Selenocysteine (U) at position 648 replaced by X\r\n",
        "Selenocysteine (U) at position 498 replaced by X\r\n",
        "Selenocysteine (U) at position 498 replaced by X\r\n",
        "Selenocysteine (U) at position 498 replaced by X\r\n",
        "Selenocysteine (U) at position 498 replaced by X\r\n",
        "Selenocysteine (U) at position 498 replaced by X\r\n"
       ]
      },
      {
       "output_type": "stream",
       "stream": "stdout",
       "text": [
        "Selenocysteine (U) at position 494 replaced by X\r\n"
       ]
      },
      {
       "output_type": "stream",
       "stream": "stdout",
       "text": [
        "Selenocysteine (U) at position 112 replaced by X\r\n"
       ]
      },
      {
       "output_type": "stream",
       "stream": "stdout",
       "text": [
        "Selenocysteine (U) at position 59 replaced by X\r\n",
        "Selenocysteine (U) at position 267 replaced by X\r\n",
        "Selenocysteine (U) at position 273 replaced by X\r\n",
        "Selenocysteine (U) at position 279 replaced by X\r\n",
        "Selenocysteine (U) at position 290 replaced by X\r\n",
        "Selenocysteine (U) at position 292 replaced by X\r\n",
        "Selenocysteine (U) at position 294 replaced by X\r\n",
        "Selenocysteine (U) at position 310 replaced by X\r\n",
        "Selenocysteine (U) at position 320 replaced by X\r\n",
        "Selenocysteine (U) at position 322 replaced by X\r\n",
        "Selenocysteine (U) at position 336 replaced by X\r\n",
        "Selenocysteine (U) at position 338 replaced by X\r\n",
        "Selenocysteine (U) at position 346 replaced by X\r\n",
        "Selenocysteine (U) at position 353 replaced by X\r\n",
        "Selenocysteine (U) at position 355 replaced by X\r\n",
        "Selenocysteine (U) at position 362 replaced by X\r\n",
        "Selenocysteine (U) at position 364 replaced by X\r\n",
        "Selenocysteine (U) at position 64 replaced by X\r\n",
        "Selenocysteine (U) at position 59 replaced by X\r\n",
        "Selenocysteine (U) at position 297 replaced by X\r\n",
        "Selenocysteine (U) at position 307 replaced by X\r\n",
        "Selenocysteine (U) at position 338 replaced by X\r\n",
        "Selenocysteine (U) at position 350 replaced by X\r\n",
        "Selenocysteine (U) at position 363 replaced by X\r\n",
        "Selenocysteine (U) at position 365 replaced by X\r\n",
        "Selenocysteine (U) at position 372 replaced by X\r\n",
        "Selenocysteine (U) at position 388 replaced by X\r\n",
        "Selenocysteine (U) at position 390 replaced by X\r\n",
        "Selenocysteine (U) at position 397 replaced by X\r\n",
        "Selenocysteine (U) at position 399 replaced by X\r\n",
        "Selenocysteine (U) at position 59 replaced by X\r\n",
        "Selenocysteine (U) at position 300 replaced by X\r\n",
        "Selenocysteine (U) at position 318 replaced by X\r\n",
        "Selenocysteine (U) at position 330 replaced by X\r\n",
        "Selenocysteine (U) at position 345 replaced by X\r\n",
        "Selenocysteine (U) at position 352 replaced by X\r\n",
        "Selenocysteine (U) at position 367 replaced by X\r\n",
        "Selenocysteine (U) at position 369 replaced by X\r\n",
        "Selenocysteine (U) at position 376 replaced by X\r\n",
        "Selenocysteine (U) at position 378 replaced by X\r\n",
        "Selenocysteine (U) at position 59 replaced by X\r\n",
        "Selenocysteine (U) at position 300 replaced by X\r\n",
        "Selenocysteine (U) at position 318 replaced by X\r\n",
        "Selenocysteine (U) at position 330 replaced by X\r\n",
        "Selenocysteine (U) at position 345 replaced by X\r\n",
        "Selenocysteine (U) at position 352 replaced by X\r\n",
        "Selenocysteine (U) at position 367 replaced by X\r\n",
        "Selenocysteine (U) at position 369 replaced by X\r\n",
        "Selenocysteine (U) at position 376 replaced by X\r\n",
        "Selenocysteine (U) at position 378 replaced by X\r\n",
        "Selenocysteine (U) at position 59 replaced by X\r\n",
        "Selenocysteine (U) at position 259 replaced by X\r\n",
        "Selenocysteine (U) at position 277 replaced by X\r\n",
        "Selenocysteine (U) at position 318 replaced by X\r\n",
        "Selenocysteine (U) at position 330 replaced by X\r\n",
        "Selenocysteine (U) at position 352 replaced by X\r\n",
        "Selenocysteine (U) at position 366 replaced by X\r\n",
        "Selenocysteine (U) at position 368 replaced by X\r\n",
        "Selenocysteine (U) at position 375 replaced by X\r\n",
        "Selenocysteine (U) at position 377 replaced by X\r\n",
        "Selenocysteine (U) at position 59 replaced by X\r\n",
        "Selenocysteine (U) at position 318 replaced by X\r\n",
        "Selenocysteine (U) at position 330 replaced by X\r\n",
        "Selenocysteine (U) at position 345 replaced by X\r\n",
        "Selenocysteine (U) at position 352 replaced by X\r\n",
        "Selenocysteine (U) at position 367 replaced by X\r\n",
        "Selenocysteine (U) at position 369 replaced by X\r\n",
        "Selenocysteine (U) at position 376 replaced by X\r\n",
        "Selenocysteine (U) at position 378 replaced by X\r\n",
        "Selenocysteine (U) at position 59 replaced by X\r\n",
        "Selenocysteine (U) at position 264 replaced by X\r\n",
        "Selenocysteine (U) at position 282 replaced by X\r\n",
        "Selenocysteine (U) at position 323 replaced by X\r\n",
        "Selenocysteine (U) at position 335 replaced by X\r\n",
        "Selenocysteine (U) at position 357 replaced by X\r\n",
        "Selenocysteine (U) at position 371 replaced by X\r\n",
        "Selenocysteine (U) at position 373 replaced by X\r\n",
        "Selenocysteine (U) at position 380 replaced by X\r\n",
        "Selenocysteine (U) at position 382 replaced by X\r\n",
        "Selenocysteine (U) at position 59 replaced by X\r\n",
        "Selenocysteine (U) at position 264 replaced by X\r\n",
        "Selenocysteine (U) at position 282 replaced by X\r\n",
        "Selenocysteine (U) at position 323 replaced by X\r\n",
        "Selenocysteine (U) at position 335 replaced by X\r\n",
        "Selenocysteine (U) at position 357 replaced by X\r\n",
        "Selenocysteine (U) at position 371 replaced by X\r\n",
        "Selenocysteine (U) at position 373 replaced by X\r\n",
        "Selenocysteine (U) at position 380 replaced by X\r\n",
        "Selenocysteine (U) at position 382 replaced by X\r\n"
       ]
      },
      {
       "output_type": "stream",
       "stream": "stdout",
       "text": [
        "Selenocysteine (U) at position 95 replaced by X\r\n",
        "Selenocysteine (U) at position 95 replaced by X\r\n",
        "Selenocysteine (U) at position 95 replaced by X\r\n"
       ]
      },
      {
       "output_type": "stream",
       "stream": "stdout",
       "text": [
        "Selenocysteine (U) at position 350 replaced by X\r\n"
       ]
      },
      {
       "output_type": "stream",
       "stream": "stdout",
       "text": [
        "Selenocysteine (U) at position 193 replaced by X\r\n",
        "Selenocysteine (U) at position 193 replaced by X\r\n"
       ]
      },
      {
       "output_type": "stream",
       "stream": "stdout",
       "text": [
        "Selenocysteine (U) at position 498 replaced by X\r\n",
        "Selenocysteine (U) at position 648 replaced by X\r\n",
        "Selenocysteine (U) at position 612 replaced by X\r\n",
        "Selenocysteine (U) at position 498 replaced by X\r\n",
        "Selenocysteine (U) at position 498 replaced by X\r\n",
        "Selenocysteine (U) at position 498 replaced by X\r\n",
        "Selenocysteine (U) at position 510 replaced by X\r\n",
        "Selenocysteine (U) at position 523 replaced by X\r\n",
        "Selenocysteine (U) at position 523 replaced by X\r\n",
        "Selenocysteine (U) at position 525 replaced by X\r\n",
        "Selenocysteine (U) at position 642 replaced by X\r\n",
        "Selenocysteine (U) at position 651 replaced by X\r\n"
       ]
      },
      {
       "output_type": "stream",
       "stream": "stdout",
       "text": [
        "Selenocysteine (U) at position 498 replaced by X\r\n",
        "Selenocysteine (U) at position 498 replaced by X\r\n",
        "Selenocysteine (U) at position 498 replaced by X\r\n",
        "Selenocysteine (U) at position 498 replaced by X\r\n",
        "Selenocysteine (U) at position 498 replaced by X\r\n",
        "Selenocysteine (U) at position 498 replaced by X\r\n",
        "Selenocysteine (U) at position 666 replaced by X\r\n",
        "Selenocysteine (U) at position 666 replaced by X\r\n",
        "Selenocysteine (U) at position 666 replaced by X\r\n",
        "Selenocysteine (U) at position 666 replaced by X\r\n"
       ]
      },
      {
       "output_type": "stream",
       "stream": "stdout",
       "text": [
        "Selenocysteine (U) at position 666 replaced by X\r\n",
        "Selenocysteine (U) at position 666 replaced by X\r\n",
        "Selenocysteine (U) at position 494 replaced by X\r\n",
        "Selenocysteine (U) at position 494 replaced by X\r\n",
        "Selenocysteine (U) at position 494 replaced by X\r\n",
        "Selenocysteine (U) at position 494 replaced by X\r\n",
        "Selenocysteine (U) at position 494 replaced by X\r\n",
        "Selenocysteine (U) at position 494 replaced by X\r\n",
        "Selenocysteine (U) at position 648 replaced by X\r\n",
        "Selenocysteine (U) at position 648 replaced by X\r\n",
        "Selenocysteine (U) at position 648 replaced by X\r\n",
        "Selenocysteine (U) at position 648 replaced by X\r\n",
        "Selenocysteine (U) at position 648 replaced by X\r\n",
        "Selenocysteine (U) at position 648 replaced by X\r\n",
        "Selenocysteine (U) at position 612 replaced by X\r\n",
        "Selenocysteine (U) at position 612 replaced by X\r\n",
        "Selenocysteine (U) at position 612 replaced by X\r\n",
        "Selenocysteine (U) at position 612 replaced by X\r\n",
        "Selenocysteine (U) at position 612 replaced by X\r\n",
        "Selenocysteine (U) at position 612 replaced by X\r\n",
        "Selenocysteine (U) at position 498 replaced by X\r\n",
        "Selenocysteine (U) at position 498 replaced by X\r\n",
        "Selenocysteine (U) at position 498 replaced by X\r\n",
        "Selenocysteine (U) at position 498 replaced by X\r\n",
        "Selenocysteine (U) at position 498 replaced by X\r\n",
        "Selenocysteine (U) at position 498 replaced by X\r\n",
        "Selenocysteine (U) at position 498 replaced by X\r\n",
        "Selenocysteine (U) at position 498 replaced by X\r\n",
        "Selenocysteine (U) at position 498 replaced by X\r\n",
        "Selenocysteine (U) at position 498 replaced by X\r\n",
        "Selenocysteine (U) at position 498 replaced by X\r\n",
        "Selenocysteine (U) at position 498 replaced by X\r\n",
        "Selenocysteine (U) at position 498 replaced by X\r\n",
        "Selenocysteine (U) at position 498 replaced by X\r\n",
        "Selenocysteine (U) at position 498 replaced by X\r\n",
        "Selenocysteine (U) at position 498 replaced by X\r\n",
        "Selenocysteine (U) at position 498 replaced by X\r\n",
        "Selenocysteine (U) at position 510 replaced by X\r\n",
        "Selenocysteine (U) at position 510 replaced by X\r\n",
        "Selenocysteine (U) at position 510 replaced by X\r\n",
        "Selenocysteine (U) at position 510 replaced by X\r\n",
        "Selenocysteine (U) at position 510 replaced by X\r\n",
        "Selenocysteine (U) at position 510 replaced by X\r\n",
        "Selenocysteine (U) at position 523 replaced by X\r\n",
        "Selenocysteine (U) at position 523 replaced by X\r\n",
        "Selenocysteine (U) at position 523 replaced by X\r\n",
        "Selenocysteine (U) at position 523 replaced by X\r\n",
        "Selenocysteine (U) at position 523 replaced by X\r\n",
        "Selenocysteine (U) at position 523 replaced by X\r\n",
        "Selenocysteine (U) at position 523 replaced by X\r\n",
        "Selenocysteine (U) at position 523 replaced by X\r\n",
        "Selenocysteine (U) at position 523 replaced by X\r\n",
        "Selenocysteine (U) at position 523 replaced by X\r\n",
        "Selenocysteine (U) at position 523 replaced by X\r\n",
        "Selenocysteine (U) at position 523 replaced by X\r\n",
        "Selenocysteine (U) at position 525 replaced by X\r\n",
        "Selenocysteine (U) at position 525 replaced by X\r\n",
        "Selenocysteine (U) at position 525 replaced by X\r\n",
        "Selenocysteine (U) at position 525 replaced by X\r\n",
        "Selenocysteine (U) at position 525 replaced by X\r\n",
        "Selenocysteine (U) at position 642 replaced by X\r\n",
        "Selenocysteine (U) at position 642 replaced by X\r\n",
        "Selenocysteine (U) at position 642 replaced by X\r\n",
        "Selenocysteine (U) at position 642 replaced by X\r\n",
        "Selenocysteine (U) at position 642 replaced by X\r\n",
        "Selenocysteine (U) at position 642 replaced by X\r\n",
        "Selenocysteine (U) at position 651 replaced by X\r\n",
        "Selenocysteine (U) at position 651 replaced by X\r\n",
        "Selenocysteine (U) at position 651 replaced by X\r\n",
        "Selenocysteine (U) at position 651 replaced by X\r\n",
        "Selenocysteine (U) at position 651 replaced by X\r\n",
        "Selenocysteine (U) at position 651 replaced by X\r\n",
        "Selenocysteine (U) at position 651 replaced by X\r\n"
       ]
      },
      {
       "output_type": "stream",
       "stream": "stdout",
       "text": [
        "Selenocysteine (U) at position 133 replaced by X\r\n",
        "Selenocysteine (U) at position 266 replaced by X\r\n",
        "Selenocysteine (U) at position 132 replaced by X\r\n",
        "Selenocysteine (U) at position 265 replaced by X\r\n",
        "Selenocysteine (U) at position 133 replaced by X\r\n",
        "Selenocysteine (U) at position 266 replaced by X\r\n",
        "Selenocysteine (U) at position 128 replaced by X\r\n",
        "Selenocysteine (U) at position 261 replaced by X\r\n",
        "Selenocysteine (U) at position 133 replaced by X\r\n",
        "Selenocysteine (U) at position 266 replaced by X\r\n"
       ]
      },
      {
       "output_type": "stream",
       "stream": "stdout",
       "text": [
        "Selenocysteine (U) at position 637 replaced by X\r\n",
        "Selenocysteine (U) at position 690 replaced by X\r\n"
       ]
      },
      {
       "output_type": "stream",
       "stream": "stdout",
       "text": [
        "Selenocysteine (U) at position 59 replaced by X\r\n",
        "Selenocysteine (U) at position 297 replaced by X\r\n",
        "Selenocysteine (U) at position 307 replaced by X\r\n",
        "Selenocysteine (U) at position 338 replaced by X\r\n",
        "Selenocysteine (U) at position 350 replaced by X\r\n",
        "Selenocysteine (U) at position 363 replaced by X\r\n",
        "Selenocysteine (U) at position 365 replaced by X\r\n",
        "Selenocysteine (U) at position 372 replaced by X\r\n",
        "Selenocysteine (U) at position 388 replaced by X\r\n",
        "Selenocysteine (U) at position 390 replaced by X\r\n",
        "Selenocysteine (U) at position 397 replaced by X\r\n",
        "Selenocysteine (U) at position 399 replaced by X\r\n"
       ]
      },
      {
       "output_type": "stream",
       "stream": "stdout",
       "text": [
        "Selenocysteine (U) at position 637 replaced by X\r\n",
        "Selenocysteine (U) at position 690 replaced by X\r\n"
       ]
      },
      {
       "output_type": "stream",
       "stream": "stdout",
       "text": [
        "Selenocysteine (U) at position 47 replaced by X\r\n",
        "Selenocysteine (U) at position 49 replaced by X\r\n",
        "Selenocysteine (U) at position 53 replaced by X\r\n",
        "Selenocysteine (U) at position 49 replaced by X\r\n",
        "Selenocysteine (U) at position 49 replaced by X\r\n",
        "Selenocysteine (U) at position 49 replaced by X\r\n"
       ]
      },
      {
       "output_type": "stream",
       "stream": "stdout",
       "text": [
        "Selenocysteine (U) at position 196 replaced by X\r\n"
       ]
      },
      {
       "output_type": "stream",
       "stream": "stdout",
       "text": [
        "Selenocysteine (U) at position 196 replaced by X\r\n"
       ]
      },
      {
       "output_type": "stream",
       "stream": "stdout",
       "text": [
        "Selenocysteine (U) at position 59 replaced by X\r\n",
        "Selenocysteine (U) at position 264 replaced by X\r\n",
        "Selenocysteine (U) at position 282 replaced by X\r\n",
        "Selenocysteine (U) at position 323 replaced by X\r\n",
        "Selenocysteine (U) at position 335 replaced by X\r\n",
        "Selenocysteine (U) at position 357 replaced by X\r\n",
        "Selenocysteine (U) at position 371 replaced by X\r\n",
        "Selenocysteine (U) at position 373 replaced by X\r\n",
        "Selenocysteine (U) at position 380 replaced by X\r\n",
        "Selenocysteine (U) at position 382 replaced by X\r\n"
       ]
      },
      {
       "output_type": "stream",
       "stream": "stdout",
       "text": [
        "Selenocysteine (U) at position 144 replaced by X\r\n",
        "Selenocysteine (U) at position 122 replaced by X\r\n",
        "Selenocysteine (U) at position 144 replaced by X\r\n",
        "Selenocysteine (U) at position 144 replaced by X\r\n"
       ]
      },
      {
       "output_type": "stream",
       "stream": "stdout",
       "text": [
        "Selenocysteine (U) at position 64 replaced by X\r\n"
       ]
      },
      {
       "output_type": "stream",
       "stream": "stdout",
       "text": [
        "Selenocysteine (U) at position 132 replaced by X\r\n"
       ]
      },
      {
       "output_type": "stream",
       "stream": "stdout",
       "text": [
        "Selenocysteine (U) at position 388 replaced by X\r\n"
       ]
      },
      {
       "output_type": "stream",
       "stream": "stdout",
       "text": [
        "Selenocysteine (U) at position 690 replaced by X\r\n"
       ]
      },
      {
       "output_type": "stream",
       "stream": "stdout",
       "text": [
        "Selenocysteine (U) at position 690 replaced by X\r\n",
        "Selenocysteine (U) at position 690 replaced by X\r\n"
       ]
      },
      {
       "output_type": "stream",
       "stream": "stdout",
       "text": [
        "Selenocysteine (U) at position 59 replaced by X\r\n",
        "Selenocysteine (U) at position 264 replaced by X\r\n",
        "Selenocysteine (U) at position 282 replaced by X\r\n",
        "Selenocysteine (U) at position 323 replaced by X\r\n",
        "Selenocysteine (U) at position 335 replaced by X\r\n",
        "Selenocysteine (U) at position 357 replaced by X\r\n",
        "Selenocysteine (U) at position 371 replaced by X\r\n",
        "Selenocysteine (U) at position 373 replaced by X\r\n",
        "Selenocysteine (U) at position 380 replaced by X\r\n",
        "Selenocysteine (U) at position 382 replaced by X\r\n"
       ]
      },
      {
       "output_type": "stream",
       "stream": "stdout",
       "text": [
        "Selenocysteine (U) at position 13 replaced by X\r\n",
        "Selenocysteine (U) at position 13 replaced by X\r\n"
       ]
      },
      {
       "output_type": "stream",
       "stream": "stdout",
       "text": [
        "Selenocysteine (U) at position 13 replaced by X\r\n",
        "Selenocysteine (U) at position 13 replaced by X\r\n",
        "Selenocysteine (U) at position 13 replaced by X\r\n",
        "Selenocysteine (U) at position 13 replaced by X\r\n"
       ]
      },
      {
       "output_type": "stream",
       "stream": "stdout",
       "text": [
        "Selenocysteine (U) at position 273 replaced by X\r\n"
       ]
      },
      {
       "output_type": "stream",
       "stream": "stdout",
       "text": [
        "Selenocysteine (U) at position 637 replaced by X\r\n",
        "Selenocysteine (U) at position 637 replaced by X\r\n",
        "Selenocysteine (U) at position 637 replaced by X\r\n",
        "Selenocysteine (U) at position 637 replaced by X\r\n",
        "Selenocysteine (U) at position 637 replaced by X\r\n",
        "Selenocysteine (U) at position 690 replaced by X\r\n",
        "Selenocysteine (U) at position 690 replaced by X\r\n",
        "Selenocysteine (U) at position 690 replaced by X\r\n",
        "Selenocysteine (U) at position 690 replaced by X\r\n",
        "Selenocysteine (U) at position 690 replaced by X\r\n",
        "Selenocysteine (U) at position 690 replaced by X\r\n",
        "Selenocysteine (U) at position 690 replaced by X\r\n"
       ]
      },
      {
       "output_type": "stream",
       "stream": "stdout",
       "text": [
        "Selenocysteine (U) at position 637 replaced by X\r\n",
        "Selenocysteine (U) at position 637 replaced by X\r\n",
        "Selenocysteine (U) at position 637 replaced by X\r\n",
        "Selenocysteine (U) at position 637 replaced by X\r\n",
        "Selenocysteine (U) at position 637 replaced by X\r\n",
        "Selenocysteine (U) at position 637 replaced by X\r\n",
        "Selenocysteine (U) at position 690 replaced by X\r\n",
        "Selenocysteine (U) at position 690 replaced by X\r\n",
        "Selenocysteine (U) at position 690 replaced by X\r\n",
        "Selenocysteine (U) at position 690 replaced by X\r\n",
        "Selenocysteine (U) at position 690 replaced by X\r\n",
        "Selenocysteine (U) at position 690 replaced by X\r\n",
        "Selenocysteine (U) at position 690 replaced by X\r\n"
       ]
      },
      {
       "output_type": "stream",
       "stream": "stdout",
       "text": [
        "Selenocysteine (U) at position 16 replaced by X\r\n"
       ]
      },
      {
       "output_type": "stream",
       "stream": "stdout",
       "text": [
        "Selenocysteine (U) at position 16 replaced by X\r\n",
        "Selenocysteine (U) at position 16 replaced by X\r\n"
       ]
      },
      {
       "output_type": "stream",
       "stream": "stdout",
       "text": [
        "Selenocysteine (U) at position 93 replaced by X\r\n"
       ]
      },
      {
       "output_type": "stream",
       "stream": "stdout",
       "text": [
        "Selenocysteine (U) at position 93 replaced by X\r\n",
        "Selenocysteine (U) at position 93 replaced by X\r\n",
        "Selenocysteine (U) at position 95 replaced by X\r\n",
        "Selenocysteine (U) at position 95 replaced by X\r\n",
        "Selenocysteine (U) at position 95 replaced by X\r\n",
        "Selenocysteine (U) at position 95 replaced by X\r\n",
        "Selenocysteine (U) at position 95 replaced by X\r\n",
        "Selenocysteine (U) at position 95 replaced by X\r\n",
        "Selenocysteine (U) at position 95 replaced by X\r\n",
        "Selenocysteine (U) at position 95 replaced by X\r\n",
        "Selenocysteine (U) at position 95 replaced by X\r\n",
        "Selenocysteine (U) at position 95 replaced by X\r\n",
        "Selenocysteine (U) at position 95 replaced by X\r\n",
        "Selenocysteine (U) at position 95 replaced by X\r\n",
        "Selenocysteine (U) at position 95 replaced by X\r\n",
        "Selenocysteine (U) at position 95 replaced by X\r\n",
        "Selenocysteine (U) at position 95 replaced by X\r\n",
        "Selenocysteine (U) at position 95 replaced by X\r\n",
        "Selenocysteine (U) at position 95 replaced by X\r\n",
        "Selenocysteine (U) at position 95 replaced by X\r\n"
       ]
      },
      {
       "output_type": "stream",
       "stream": "stdout",
       "text": [
        "Selenocysteine (U) at position 436 replaced by X\r\n",
        "Selenocysteine (U) at position 436 replaced by X\r\n",
        "Selenocysteine (U) at position 436 replaced by X\r\n"
       ]
      },
      {
       "output_type": "stream",
       "stream": "stdout",
       "text": [
        "Selenocysteine (U) at position 93 replaced by X\r\n",
        "Selenocysteine (U) at position 95 replaced by X\r\n",
        "Selenocysteine (U) at position 95 replaced by X\r\n",
        "Selenocysteine (U) at position 95 replaced by X\r\n",
        "Selenocysteine (U) at position 95 replaced by X\r\n",
        "Selenocysteine (U) at position 95 replaced by X\r\n",
        "Selenocysteine (U) at position 95 replaced by X\r\n"
       ]
      },
      {
       "output_type": "stream",
       "stream": "stdout",
       "text": [
        "Selenocysteine (U) at position 349 replaced by X\r\n"
       ]
      },
      {
       "output_type": "stream",
       "stream": "stdout",
       "text": [
        "Selenocysteine (U) at position 127 replaced by X\r\n",
        "Selenocysteine (U) at position 462 replaced by X\r\n",
        "Selenocysteine (U) at position 127 replaced by X\r\n",
        "Selenocysteine (U) at position 462 replaced by X\r\n"
       ]
      },
      {
       "output_type": "stream",
       "stream": "stdout",
       "text": [
        "Selenocysteine (U) at position 127 replaced by X\r\n",
        "Selenocysteine (U) at position 462 replaced by X\r\n",
        "Selenocysteine (U) at position 127 replaced by X\r\n",
        "Selenocysteine (U) at position 462 replaced by X\r\n"
       ]
      },
      {
       "output_type": "stream",
       "stream": "stdout",
       "text": [
        "Selenocysteine (U) at position 189 replaced by X\r\n"
       ]
      },
      {
       "output_type": "stream",
       "stream": "stdout",
       "text": [
        "Selenocysteine (U) at position 64 replaced by X\r\n"
       ]
      },
      {
       "output_type": "stream",
       "stream": "stdout",
       "text": [
        "Selenocysteine (U) at position 59 replaced by X\r\n",
        "Selenocysteine (U) at position 267 replaced by X\r\n",
        "Selenocysteine (U) at position 273 replaced by X\r\n",
        "Selenocysteine (U) at position 279 replaced by X\r\n",
        "Selenocysteine (U) at position 290 replaced by X\r\n",
        "Selenocysteine (U) at position 292 replaced by X\r\n",
        "Selenocysteine (U) at position 294 replaced by X\r\n",
        "Selenocysteine (U) at position 310 replaced by X\r\n",
        "Selenocysteine (U) at position 320 replaced by X\r\n",
        "Selenocysteine (U) at position 322 replaced by X\r\n",
        "Selenocysteine (U) at position 336 replaced by X\r\n",
        "Selenocysteine (U) at position 338 replaced by X\r\n",
        "Selenocysteine (U) at position 346 replaced by X\r\n",
        "Selenocysteine (U) at position 353 replaced by X\r\n",
        "Selenocysteine (U) at position 355 replaced by X\r\n",
        "Selenocysteine (U) at position 362 replaced by X\r\n",
        "Selenocysteine (U) at position 364 replaced by X\r\n"
       ]
      },
      {
       "output_type": "stream",
       "stream": "stdout",
       "text": [
        "Selenocysteine (U) at position 665 replaced by X\r\n",
        "Selenocysteine (U) at position 665 replaced by X\r\n"
       ]
      },
      {
       "output_type": "stream",
       "stream": "stdout",
       "text": [
        "Selenocysteine (U) at position 637 replaced by X\r\n",
        "Selenocysteine (U) at position 690 replaced by X\r\n"
       ]
      },
      {
       "output_type": "stream",
       "stream": "stdout",
       "text": [
        "Selenocysteine (U) at position 510 replaced by X\r\n"
       ]
      },
      {
       "output_type": "stream",
       "stream": "stdout",
       "text": [
        "Selenocysteine (U) at position 690 replaced by X\r\n"
       ]
      },
      {
       "output_type": "stream",
       "stream": "stdout",
       "text": [
        "Selenocysteine (U) at position 129 replaced by X\r\n",
        "Selenocysteine (U) at position 129 replaced by X\r\n"
       ]
      },
      {
       "output_type": "stream",
       "stream": "stdout",
       "text": [
        "Selenocysteine (U) at position 52 replaced by X\r\n",
        "Selenocysteine (U) at position 52 replaced by X\r\n",
        "Selenocysteine (U) at position 52 replaced by X\r\n",
        "Selenocysteine (U) at position 52 replaced by X\r\n"
       ]
      },
      {
       "output_type": "stream",
       "stream": "stdout",
       "text": [
        "Selenocysteine (U) at position 16 replaced by X\r\n"
       ]
      },
      {
       "output_type": "stream",
       "stream": "stdout",
       "text": [
        "Selenocysteine (U) at position 510 replaced by X\r\n"
       ]
      },
      {
       "output_type": "stream",
       "stream": "stdout",
       "text": [
        "Selenocysteine (U) at position 612 replaced by X\r\n"
       ]
      },
      {
       "output_type": "stream",
       "stream": "stdout",
       "text": [
        "Selenocysteine (U) at position 690 replaced by X\r\n"
       ]
      },
      {
       "output_type": "stream",
       "stream": "stdout",
       "text": [
        "Selenocysteine (U) at position 690 replaced by X\r\n"
       ]
      },
      {
       "output_type": "stream",
       "stream": "stdout",
       "text": [
        "Selenocysteine (U) at position 93 replaced by X\r\n"
       ]
      },
      {
       "output_type": "stream",
       "stream": "stdout",
       "text": [
        "Selenocysteine (U) at position 690 replaced by X\r\n"
       ]
      },
      {
       "output_type": "stream",
       "stream": "stdout",
       "text": [
        "Selenocysteine (U) at position 192 replaced by X\r\n",
        "Selenocysteine (U) at position 187 replaced by X\r\n"
       ]
      },
      {
       "output_type": "stream",
       "stream": "stdout",
       "text": [
        "Selenocysteine (U) at position 666 replaced by X\r\n"
       ]
      },
      {
       "output_type": "stream",
       "stream": "stdout",
       "text": [
        "Selenocysteine (U) at position 637 replaced by X\r\n",
        "Selenocysteine (U) at position 637 replaced by X\r\n",
        "Selenocysteine (U) at position 637 replaced by X\r\n",
        "Selenocysteine (U) at position 690 replaced by X\r\n",
        "Selenocysteine (U) at position 690 replaced by X\r\n"
       ]
      },
      {
       "output_type": "stream",
       "stream": "stdout",
       "text": [
        "Selenocysteine (U) at position 637 replaced by X\r\n",
        "Selenocysteine (U) at position 637 replaced by X\r\n",
        "Selenocysteine (U) at position 637 replaced by X\r\n",
        "Selenocysteine (U) at position 637 replaced by X\r\n",
        "Selenocysteine (U) at position 637 replaced by X\r\n",
        "Selenocysteine (U) at position 637 replaced by X\r\n",
        "Selenocysteine (U) at position 637 replaced by X\r\n",
        "Selenocysteine (U) at position 690 replaced by X\r\n",
        "Selenocysteine (U) at position 690 replaced by X\r\n",
        "Selenocysteine (U) at position 690 replaced by X\r\n",
        "Selenocysteine (U) at position 690 replaced by X\r\n",
        "Selenocysteine (U) at position 690 replaced by X\r\n",
        "Selenocysteine (U) at position 690 replaced by X\r\n"
       ]
      },
      {
       "output_type": "stream",
       "stream": "stdout",
       "text": [
        "Selenocysteine (U) at position 637 replaced by X\r\n",
        "Selenocysteine (U) at position 637 replaced by X\r\n"
       ]
      },
      {
       "output_type": "stream",
       "stream": "stdout",
       "text": [
        "Selenocysteine (U) at position 196 replaced by X\r\n"
       ]
      },
      {
       "output_type": "stream",
       "stream": "stdout",
       "text": [
        "Selenocysteine (U) at position 349 replaced by X\r\n"
       ]
      },
      {
       "output_type": "stream",
       "stream": "stdout",
       "text": [
        "Selenocysteine (U) at position 37 replaced by X\r\n"
       ]
      },
      {
       "output_type": "stream",
       "stream": "stdout",
       "text": [
        "Selenocysteine (U) at position 59 replaced by X\r\n",
        "Selenocysteine (U) at position 297 replaced by X\r\n",
        "Selenocysteine (U) at position 307 replaced by X\r\n",
        "Selenocysteine (U) at position 338 replaced by X\r\n",
        "Selenocysteine (U) at position 350 replaced by X\r\n",
        "Selenocysteine (U) at position 363 replaced by X\r\n",
        "Selenocysteine (U) at position 365 replaced by X\r\n",
        "Selenocysteine (U) at position 372 replaced by X\r\n",
        "Selenocysteine (U) at position 388 replaced by X\r\n",
        "Selenocysteine (U) at position 390 replaced by X\r\n",
        "Selenocysteine (U) at position 397 replaced by X\r\n",
        "Selenocysteine (U) at position 399 replaced by X\r\n",
        "Selenocysteine (U) at position 59 replaced by X\r\n",
        "Selenocysteine (U) at position 297 replaced by X\r\n",
        "Selenocysteine (U) at position 307 replaced by X\r\n",
        "Selenocysteine (U) at position 338 replaced by X\r\n",
        "Selenocysteine (U) at position 350 replaced by X\r\n",
        "Selenocysteine (U) at position 363 replaced by X\r\n",
        "Selenocysteine (U) at position 365 replaced by X\r\n",
        "Selenocysteine (U) at position 372 replaced by X\r\n",
        "Selenocysteine (U) at position 388 replaced by X\r\n",
        "Selenocysteine (U) at position 390 replaced by X\r\n",
        "Selenocysteine (U) at position 397 replaced by X\r\n",
        "Selenocysteine (U) at position 399 replaced by X\r\n"
       ]
      },
      {
       "output_type": "stream",
       "stream": "stdout",
       "text": [
        "Selenocysteine (U) at position 637 replaced by X\r\n"
       ]
      },
      {
       "output_type": "stream",
       "stream": "stdout",
       "text": [
        "Selenocysteine (U) at position 188 replaced by X\r\n"
       ]
      },
      {
       "output_type": "stream",
       "stream": "stdout",
       "text": [
        "Selenocysteine (U) at position 188 replaced by X\r\n",
        "Selenocysteine (U) at position 188 replaced by X\r\n",
        "Selenocysteine (U) at position 188 replaced by X\r\n",
        "Selenocysteine (U) at position 84 replaced by X\r\n"
       ]
      },
      {
       "output_type": "stream",
       "stream": "stdout",
       "text": [
        "Selenocysteine (U) at position 73 replaced by X\r\n",
        "Selenocysteine (U) at position 73 replaced by X\r\n",
        "Selenocysteine (U) at position 73 replaced by X\r\n",
        "Selenocysteine (U) at position 73 replaced by X\r\n",
        "Selenocysteine (U) at position 73 replaced by X\r\n",
        "Selenocysteine (U) at position 73 replaced by X\r\n",
        "Selenocysteine (U) at position 73 replaced by X\r\n",
        "Selenocysteine (U) at position 73 replaced by X\r\n",
        "Selenocysteine (U) at position 73 replaced by X\r\n",
        "Selenocysteine (U) at position 73 replaced by X\r\n",
        "Selenocysteine (U) at position 73 replaced by X\r\n",
        "Selenocysteine (U) at position 73 replaced by X\r\n"
       ]
      },
      {
       "output_type": "stream",
       "stream": "stdout",
       "text": [
        "Selenocysteine (U) at position 73 replaced by X\r\n",
        "Selenocysteine (U) at position 73 replaced by X\r\n",
        "Selenocysteine (U) at position 73 replaced by X\r\n",
        "Selenocysteine (U) at position 73 replaced by X\r\n",
        "Selenocysteine (U) at position 73 replaced by X\r\n",
        "Selenocysteine (U) at position 73 replaced by X\r\n"
       ]
      },
      {
       "output_type": "stream",
       "stream": "stdout",
       "text": [
        "Selenocysteine (U) at position 59 replaced by X\r\n",
        "Selenocysteine (U) at position 297 replaced by X\r\n",
        "Selenocysteine (U) at position 307 replaced by X\r\n",
        "Selenocysteine (U) at position 338 replaced by X\r\n",
        "Selenocysteine (U) at position 350 replaced by X\r\n",
        "Selenocysteine (U) at position 363 replaced by X\r\n",
        "Selenocysteine (U) at position 365 replaced by X\r\n",
        "Selenocysteine (U) at position 372 replaced by X\r\n",
        "Selenocysteine (U) at position 388 replaced by X\r\n",
        "Selenocysteine (U) at position 390 replaced by X\r\n",
        "Selenocysteine (U) at position 397 replaced by X\r\n",
        "Selenocysteine (U) at position 399 replaced by X\r\n",
        "Selenocysteine (U) at position 59 replaced by X\r\n",
        "Selenocysteine (U) at position 297 replaced by X\r\n",
        "Selenocysteine (U) at position 307 replaced by X\r\n",
        "Selenocysteine (U) at position 338 replaced by X\r\n",
        "Selenocysteine (U) at position 350 replaced by X\r\n",
        "Selenocysteine (U) at position 363 replaced by X\r\n",
        "Selenocysteine (U) at position 365 replaced by X\r\n",
        "Selenocysteine (U) at position 372 replaced by X\r\n",
        "Selenocysteine (U) at position 388 replaced by X\r\n",
        "Selenocysteine (U) at position 390 replaced by X\r\n",
        "Selenocysteine (U) at position 397 replaced by X\r\n",
        "Selenocysteine (U) at position 399 replaced by X\r\n"
       ]
      },
      {
       "output_type": "stream",
       "stream": "stdout",
       "text": [
        "Selenocysteine (U) at position 59 replaced by X\r\n",
        "Selenocysteine (U) at position 297 replaced by X\r\n",
        "Selenocysteine (U) at position 307 replaced by X\r\n",
        "Selenocysteine (U) at position 338 replaced by X\r\n",
        "Selenocysteine (U) at position 350 replaced by X\r\n",
        "Selenocysteine (U) at position 363 replaced by X\r\n",
        "Selenocysteine (U) at position 365 replaced by X\r\n",
        "Selenocysteine (U) at position 372 replaced by X\r\n",
        "Selenocysteine (U) at position 388 replaced by X\r\n",
        "Selenocysteine (U) at position 390 replaced by X\r\n",
        "Selenocysteine (U) at position 397 replaced by X\r\n",
        "Selenocysteine (U) at position 399 replaced by X\r\n"
       ]
      },
      {
       "output_type": "stream",
       "stream": "stdout",
       "text": [
        "Selenocysteine (U) at position 187 replaced by X\r\n",
        "Selenocysteine (U) at position 188 replaced by X\r\n"
       ]
      },
      {
       "output_type": "stream",
       "stream": "stdout",
       "text": [
        "Selenocysteine (U) at position 637 replaced by X\r\n"
       ]
      },
      {
       "output_type": "stream",
       "stream": "stdout",
       "text": [
        "Selenocysteine (U) at position 17 replaced by X\r\n"
       ]
      },
      {
       "output_type": "stream",
       "stream": "stdout",
       "text": [
        "Selenocysteine (U) at position 637 replaced by X\r\n",
        "Selenocysteine (U) at position 637 replaced by X\r\n",
        "Selenocysteine (U) at position 690 replaced by X\r\n",
        "Selenocysteine (U) at position 690 replaced by X\r\n"
       ]
      },
      {
       "output_type": "stream",
       "stream": "stdout",
       "text": [
        "Selenocysteine (U) at position 637 replaced by X\r\n",
        "Selenocysteine (U) at position 637 replaced by X\r\n",
        "Selenocysteine (U) at position 637 replaced by X\r\n",
        "Selenocysteine (U) at position 690 replaced by X\r\n",
        "Selenocysteine (U) at position 690 replaced by X\r\n",
        "Selenocysteine (U) at position 690 replaced by X\r\n"
       ]
      },
      {
       "output_type": "stream",
       "stream": "stdout",
       "text": [
        "Selenocysteine (U) at position 196 replaced by X\r\n"
       ]
      },
      {
       "output_type": "stream",
       "stream": "stdout",
       "text": [
        "Selenocysteine (U) at position 196 replaced by X\r\n"
       ]
      },
      {
       "output_type": "stream",
       "stream": "stdout",
       "text": [
        "Selenocysteine (U) at position 196 replaced by X\r\n"
       ]
      },
      {
       "output_type": "stream",
       "stream": "stdout",
       "text": [
        "Selenocysteine (U) at position 75 replaced by X\r\n",
        "Selenocysteine (U) at position 75 replaced by X\r\n",
        "Selenocysteine (U) at position 47 replaced by X\r\n",
        "Selenocysteine (U) at position 47 replaced by X\r\n",
        "Selenocysteine (U) at position 47 replaced by X\r\n",
        "Selenocysteine (U) at position 47 replaced by X\r\n",
        "Selenocysteine (U) at position 43 replaced by X\r\n",
        "Selenocysteine (U) at position 43 replaced by X\r\n",
        "Selenocysteine (U) at position 43 replaced by X\r\n",
        "Selenocysteine (U) at position 43 replaced by X\r\n",
        "Selenocysteine (U) at position 43 replaced by X\r\n",
        "Selenocysteine (U) at position 43 replaced by X\r\n",
        "Selenocysteine (U) at position 43 replaced by X\r\n",
        "Selenocysteine (U) at position 43 replaced by X\r\n"
       ]
      },
      {
       "output_type": "stream",
       "stream": "stdout",
       "text": [
        "Selenocysteine (U) at position 73 replaced by X\r\n",
        "Selenocysteine (U) at position 73 replaced by X\r\n",
        "Selenocysteine (U) at position 73 replaced by X\r\n",
        "Selenocysteine (U) at position 73 replaced by X\r\n",
        "Selenocysteine (U) at position 73 replaced by X\r\n",
        "Selenocysteine (U) at position 73 replaced by X\r\n",
        "Selenocysteine (U) at position 73 replaced by X\r\n",
        "Selenocysteine (U) at position 73 replaced by X\r\n",
        "Selenocysteine (U) at position 73 replaced by X\r\n",
        "Selenocysteine (U) at position 73 replaced by X\r\n",
        "Selenocysteine (U) at position 73 replaced by X\r\n",
        "Selenocysteine (U) at position 73 replaced by X\r\n",
        "Selenocysteine (U) at position 73 replaced by X\r\n",
        "Selenocysteine (U) at position 73 replaced by X\r\n",
        "Selenocysteine (U) at position 73 replaced by X\r\n",
        "Selenocysteine (U) at position 73 replaced by X\r\n",
        "Selenocysteine (U) at position 129 replaced by X\r\n",
        "Selenocysteine (U) at position 129 replaced by X\r\n",
        "Selenocysteine (U) at position 129 replaced by X\r\n",
        "Selenocysteine (U) at position 129 replaced by X\r\n",
        "Selenocysteine (U) at position 129 replaced by X\r\n",
        "Selenocysteine (U) at position 129 replaced by X\r\n",
        "Selenocysteine (U) at position 129 replaced by X\r\n",
        "Selenocysteine (U) at position 129 replaced by X\r\n",
        "Selenocysteine (U) at position 129 replaced by X\r\n",
        "Selenocysteine (U) at position 129 replaced by X\r\n",
        "Selenocysteine (U) at position 129 replaced by X\r\n",
        "Selenocysteine (U) at position 129 replaced by X\r\n",
        "Selenocysteine (U) at position 129 replaced by X\r\n",
        "Selenocysteine (U) at position 129 replaced by X\r\n",
        "Selenocysteine (U) at position 129 replaced by X\r\n",
        "Selenocysteine (U) at position 129 replaced by X\r\n",
        "Selenocysteine (U) at position 73 replaced by X\r\n",
        "Selenocysteine (U) at position 73 replaced by X\r\n",
        "Selenocysteine (U) at position 73 replaced by X\r\n",
        "Selenocysteine (U) at position 73 replaced by X\r\n",
        "Selenocysteine (U) at position 73 replaced by X\r\n",
        "Selenocysteine (U) at position 73 replaced by X\r\n",
        "Selenocysteine (U) at position 73 replaced by X\r\n",
        "Selenocysteine (U) at position 73 replaced by X\r\n",
        "Selenocysteine (U) at position 73 replaced by X\r\n",
        "Selenocysteine (U) at position 73 replaced by X\r\n",
        "Selenocysteine (U) at position 73 replaced by X\r\n",
        "Selenocysteine (U) at position 73 replaced by X\r\n",
        "Selenocysteine (U) at position 73 replaced by X\r\n",
        "Selenocysteine (U) at position 73 replaced by X\r\n",
        "Selenocysteine (U) at position 73 replaced by X\r\n",
        "Selenocysteine (U) at position 73 replaced by X\r\n",
        "Selenocysteine (U) at position 73 replaced by X\r\n",
        "Selenocysteine (U) at position 73 replaced by X\r\n",
        "Selenocysteine (U) at position 73 replaced by X\r\n",
        "Selenocysteine (U) at position 73 replaced by X\r\n",
        "Selenocysteine (U) at position 73 replaced by X\r\n",
        "Selenocysteine (U) at position 73 replaced by X\r\n",
        "Selenocysteine (U) at position 73 replaced by X\r\n",
        "Selenocysteine (U) at position 73 replaced by X\r\n",
        "Selenocysteine (U) at position 73 replaced by X\r\n",
        "Selenocysteine (U) at position 73 replaced by X\r\n",
        "Selenocysteine (U) at position 73 replaced by X\r\n",
        "Selenocysteine (U) at position 73 replaced by X\r\n",
        "Selenocysteine (U) at position 73 replaced by X\r\n",
        "Selenocysteine (U) at position 73 replaced by X\r\n",
        "Selenocysteine (U) at position 73 replaced by X\r\n",
        "Selenocysteine (U) at position 73 replaced by X\r\n",
        "Selenocysteine (U) at position 73 replaced by X\r\n",
        "Selenocysteine (U) at position 73 replaced by X\r\n",
        "Selenocysteine (U) at position 73 replaced by X\r\n",
        "Selenocysteine (U) at position 73 replaced by X\r\n",
        "Selenocysteine (U) at position 73 replaced by X\r\n",
        "Selenocysteine (U) at position 73 replaced by X\r\n",
        "Selenocysteine (U) at position 73 replaced by X\r\n",
        "Selenocysteine (U) at position 73 replaced by X\r\n",
        "Selenocysteine (U) at position 73 replaced by X\r\n",
        "Selenocysteine (U) at position 73 replaced by X\r\n",
        "Selenocysteine (U) at position 73 replaced by X\r\n",
        "Selenocysteine (U) at position 73 replaced by X\r\n",
        "Selenocysteine (U) at position 73 replaced by X\r\n",
        "Selenocysteine (U) at position 73 replaced by X\r\n",
        "Selenocysteine (U) at position 73 replaced by X\r\n",
        "Selenocysteine (U) at position 73 replaced by X\r\n"
       ]
      },
      {
       "output_type": "stream",
       "stream": "stdout",
       "text": [
        "Selenocysteine (U) at position 73 replaced by X\r\n",
        "Selenocysteine (U) at position 73 replaced by X\r\n",
        "Selenocysteine (U) at position 73 replaced by X\r\n",
        "Selenocysteine (U) at position 73 replaced by X\r\n",
        "Selenocysteine (U) at position 73 replaced by X\r\n",
        "Selenocysteine (U) at position 73 replaced by X\r\n",
        "Selenocysteine (U) at position 73 replaced by X\r\n",
        "Selenocysteine (U) at position 73 replaced by X\r\n",
        "Selenocysteine (U) at position 73 replaced by X\r\n",
        "Selenocysteine (U) at position 73 replaced by X\r\n",
        "Selenocysteine (U) at position 73 replaced by X\r\n",
        "Selenocysteine (U) at position 73 replaced by X\r\n",
        "Selenocysteine (U) at position 73 replaced by X\r\n",
        "Selenocysteine (U) at position 73 replaced by X\r\n",
        "Selenocysteine (U) at position 73 replaced by X\r\n",
        "Selenocysteine (U) at position 73 replaced by X\r\n"
       ]
      },
      {
       "output_type": "stream",
       "stream": "stdout",
       "text": [
        "Selenocysteine (U) at position 75 replaced by X\r\n",
        "Selenocysteine (U) at position 47 replaced by X\r\n",
        "Selenocysteine (U) at position 47 replaced by X\r\n",
        "Selenocysteine (U) at position 43 replaced by X\r\n",
        "Selenocysteine (U) at position 43 replaced by X\r\n",
        "Selenocysteine (U) at position 43 replaced by X\r\n",
        "Selenocysteine (U) at position 43 replaced by X\r\n",
        "Selenocysteine (U) at position 73 replaced by X\r\n",
        "Selenocysteine (U) at position 73 replaced by X\r\n",
        "Selenocysteine (U) at position 73 replaced by X\r\n",
        "Selenocysteine (U) at position 73 replaced by X\r\n",
        "Selenocysteine (U) at position 73 replaced by X\r\n",
        "Selenocysteine (U) at position 73 replaced by X\r\n",
        "Selenocysteine (U) at position 73 replaced by X\r\n",
        "Selenocysteine (U) at position 73 replaced by X\r\n",
        "Selenocysteine (U) at position 129 replaced by X\r\n",
        "Selenocysteine (U) at position 129 replaced by X\r\n",
        "Selenocysteine (U) at position 129 replaced by X\r\n",
        "Selenocysteine (U) at position 129 replaced by X\r\n",
        "Selenocysteine (U) at position 129 replaced by X\r\n",
        "Selenocysteine (U) at position 129 replaced by X\r\n",
        "Selenocysteine (U) at position 129 replaced by X\r\n",
        "Selenocysteine (U) at position 129 replaced by X\r\n",
        "Selenocysteine (U) at position 73 replaced by X\r\n",
        "Selenocysteine (U) at position 73 replaced by X\r\n",
        "Selenocysteine (U) at position 73 replaced by X\r\n",
        "Selenocysteine (U) at position 73 replaced by X\r\n",
        "Selenocysteine (U) at position 73 replaced by X\r\n",
        "Selenocysteine (U) at position 73 replaced by X\r\n",
        "Selenocysteine (U) at position 73 replaced by X\r\n",
        "Selenocysteine (U) at position 73 replaced by X\r\n",
        "Selenocysteine (U) at position 73 replaced by X\r\n",
        "Selenocysteine (U) at position 73 replaced by X\r\n",
        "Selenocysteine (U) at position 73 replaced by X\r\n",
        "Selenocysteine (U) at position 73 replaced by X\r\n",
        "Selenocysteine (U) at position 73 replaced by X\r\n",
        "Selenocysteine (U) at position 73 replaced by X\r\n",
        "Selenocysteine (U) at position 73 replaced by X\r\n",
        "Selenocysteine (U) at position 73 replaced by X\r\n",
        "Selenocysteine (U) at position 73 replaced by X\r\n",
        "Selenocysteine (U) at position 73 replaced by X\r\n",
        "Selenocysteine (U) at position 73 replaced by X\r\n",
        "Selenocysteine (U) at position 73 replaced by X\r\n",
        "Selenocysteine (U) at position 73 replaced by X\r\n",
        "Selenocysteine (U) at position 73 replaced by X\r\n",
        "Selenocysteine (U) at position 73 replaced by X\r\n",
        "Selenocysteine (U) at position 73 replaced by X\r\n",
        "Selenocysteine (U) at position 73 replaced by X\r\n",
        "Selenocysteine (U) at position 73 replaced by X\r\n",
        "Selenocysteine (U) at position 73 replaced by X\r\n",
        "Selenocysteine (U) at position 73 replaced by X\r\n",
        "Selenocysteine (U) at position 73 replaced by X\r\n",
        "Selenocysteine (U) at position 73 replaced by X\r\n",
        "Selenocysteine (U) at position 73 replaced by X\r\n",
        "Selenocysteine (U) at position 73 replaced by X\r\n"
       ]
      },
      {
       "output_type": "stream",
       "stream": "stdout",
       "text": [
        "Selenocysteine (U) at position 129 replaced by X\r\n"
       ]
      },
      {
       "output_type": "stream",
       "stream": "stdout",
       "text": [
        "Selenocysteine (U) at position 59 replaced by X\r\n",
        "Selenocysteine (U) at position 297 replaced by X\r\n",
        "Selenocysteine (U) at position 307 replaced by X\r\n",
        "Selenocysteine (U) at position 338 replaced by X\r\n",
        "Selenocysteine (U) at position 350 replaced by X\r\n",
        "Selenocysteine (U) at position 363 replaced by X\r\n",
        "Selenocysteine (U) at position 365 replaced by X\r\n",
        "Selenocysteine (U) at position 372 replaced by X\r\n",
        "Selenocysteine (U) at position 388 replaced by X\r\n",
        "Selenocysteine (U) at position 390 replaced by X\r\n",
        "Selenocysteine (U) at position 397 replaced by X\r\n",
        "Selenocysteine (U) at position 399 replaced by X\r\n"
       ]
      },
      {
       "output_type": "stream",
       "stream": "stdout",
       "text": [
        "Selenocysteine (U) at position 59 replaced by X\r\n",
        "Selenocysteine (U) at position 297 replaced by X\r\n",
        "Selenocysteine (U) at position 307 replaced by X\r\n",
        "Selenocysteine (U) at position 338 replaced by X\r\n",
        "Selenocysteine (U) at position 350 replaced by X\r\n",
        "Selenocysteine (U) at position 363 replaced by X\r\n",
        "Selenocysteine (U) at position 365 replaced by X\r\n",
        "Selenocysteine (U) at position 372 replaced by X\r\n",
        "Selenocysteine (U) at position 388 replaced by X\r\n",
        "Selenocysteine (U) at position 390 replaced by X\r\n",
        "Selenocysteine (U) at position 397 replaced by X\r\n",
        "Selenocysteine (U) at position 399 replaced by X\r\n"
       ]
      },
      {
       "output_type": "stream",
       "stream": "stdout",
       "text": [
        "Selenocysteine (U) at position 59 replaced by X\r\n",
        "Selenocysteine (U) at position 297 replaced by X\r\n",
        "Selenocysteine (U) at position 307 replaced by X\r\n",
        "Selenocysteine (U) at position 338 replaced by X\r\n",
        "Selenocysteine (U) at position 350 replaced by X\r\n",
        "Selenocysteine (U) at position 363 replaced by X\r\n",
        "Selenocysteine (U) at position 365 replaced by X\r\n",
        "Selenocysteine (U) at position 372 replaced by X\r\n",
        "Selenocysteine (U) at position 388 replaced by X\r\n",
        "Selenocysteine (U) at position 390 replaced by X\r\n",
        "Selenocysteine (U) at position 397 replaced by X\r\n",
        "Selenocysteine (U) at position 399 replaced by X\r\n"
       ]
      },
      {
       "output_type": "stream",
       "stream": "stdout",
       "text": [
        "Selenocysteine (U) at position 188 replaced by X\r\n",
        "Selenocysteine (U) at position 189 replaced by X\r\n",
        "Selenocysteine (U) at position 189 replaced by X\r\n"
       ]
      },
      {
       "output_type": "stream",
       "stream": "stdout",
       "text": [
        "Selenocysteine (U) at position 93 replaced by X\r\n",
        "Selenocysteine (U) at position 93 replaced by X\r\n",
        "Selenocysteine (U) at position 93 replaced by X\r\n",
        "Selenocysteine (U) at position 84 replaced by X\r\n",
        "Selenocysteine (U) at position 84 replaced by X\r\n",
        "Selenocysteine (U) at position 84 replaced by X\r\n",
        "Selenocysteine (U) at position 93 replaced by X\r\n",
        "Selenocysteine (U) at position 93 replaced by X\r\n",
        "Selenocysteine (U) at position 93 replaced by X\r\n",
        "Selenocysteine (U) at position 93 replaced by X\r\n",
        "Selenocysteine (U) at position 93 replaced by X\r\n",
        "Selenocysteine (U) at position 93 replaced by X\r\n",
        "Selenocysteine (U) at position 84 replaced by X\r\n",
        "Selenocysteine (U) at position 84 replaced by X\r\n",
        "Selenocysteine (U) at position 84 replaced by X\r\n",
        "Selenocysteine (U) at position 93 replaced by X\r\n",
        "Selenocysteine (U) at position 93 replaced by X\r\n",
        "Selenocysteine (U) at position 93 replaced by X\r\n",
        "Selenocysteine (U) at position 93 replaced by X\r\n",
        "Selenocysteine (U) at position 93 replaced by X\r\n",
        "Selenocysteine (U) at position 93 replaced by X\r\n"
       ]
      },
      {
       "output_type": "stream",
       "stream": "stdout",
       "text": [
        "Selenocysteine (U) at position 690 replaced by X\r\n"
       ]
      },
      {
       "output_type": "stream",
       "stream": "stdout",
       "text": [
        "Selenocysteine (U) at position 121 replaced by X\r\n"
       ]
      },
      {
       "output_type": "stream",
       "stream": "stdout",
       "text": [
        "Selenocysteine (U) at position 121 replaced by X\r\n",
        "Selenocysteine (U) at position 121 replaced by X\r\n"
       ]
      },
      {
       "output_type": "stream",
       "stream": "stdout",
       "text": [
        "Selenocysteine (U) at position 92 replaced by X\r\n",
        "Selenocysteine (U) at position 92 replaced by X\r\n",
        "Selenocysteine (U) at position 92 replaced by X\r\n",
        "Selenocysteine (U) at position 92 replaced by X\r\n",
        "Selenocysteine (U) at position 92 replaced by X\r\n",
        "Selenocysteine (U) at position 92 replaced by X\r\n"
       ]
      },
      {
       "output_type": "stream",
       "stream": "stdout",
       "text": [
        "Selenocysteine (U) at position 59 replaced by X\r\n",
        "Selenocysteine (U) at position 297 replaced by X\r\n",
        "Selenocysteine (U) at position 307 replaced by X\r\n",
        "Selenocysteine (U) at position 338 replaced by X\r\n",
        "Selenocysteine (U) at position 350 replaced by X\r\n",
        "Selenocysteine (U) at position 363 replaced by X\r\n",
        "Selenocysteine (U) at position 365 replaced by X\r\n",
        "Selenocysteine (U) at position 372 replaced by X\r\n",
        "Selenocysteine (U) at position 388 replaced by X\r\n",
        "Selenocysteine (U) at position 390 replaced by X\r\n",
        "Selenocysteine (U) at position 397 replaced by X\r\n",
        "Selenocysteine (U) at position 399 replaced by X\r\n",
        "Selenocysteine (U) at position 59 replaced by X\r\n",
        "Selenocysteine (U) at position 297 replaced by X\r\n",
        "Selenocysteine (U) at position 307 replaced by X\r\n",
        "Selenocysteine (U) at position 338 replaced by X\r\n",
        "Selenocysteine (U) at position 350 replaced by X\r\n",
        "Selenocysteine (U) at position 363 replaced by X\r\n",
        "Selenocysteine (U) at position 365 replaced by X\r\n",
        "Selenocysteine (U) at position 372 replaced by X\r\n",
        "Selenocysteine (U) at position 388 replaced by X\r\n",
        "Selenocysteine (U) at position 390 replaced by X\r\n",
        "Selenocysteine (U) at position 397 replaced by X\r\n",
        "Selenocysteine (U) at position 399 replaced by X\r\n"
       ]
      },
      {
       "output_type": "stream",
       "stream": "stdout",
       "text": [
        "Selenocysteine (U) at position 64 replaced by X\r\n"
       ]
      },
      {
       "output_type": "stream",
       "stream": "stdout",
       "text": [
        "Selenocysteine (U) at position 196 replaced by X\r\n"
       ]
      },
      {
       "output_type": "stream",
       "stream": "stdout",
       "text": [
        "Selenocysteine (U) at position 196 replaced by X\r\n"
       ]
      },
      {
       "output_type": "stream",
       "stream": "stdout",
       "text": [
        "Selenocysteine (U) at position 140 replaced by X\r\n"
       ]
      },
      {
       "output_type": "stream",
       "stream": "stdout",
       "text": [
        "Selenocysteine (U) at position 192 replaced by X\r\n"
       ]
      },
      {
       "output_type": "stream",
       "stream": "stdout",
       "text": [
        "Selenocysteine (U) at position 273 replaced by X\r\n"
       ]
      },
      {
       "output_type": "stream",
       "stream": "stdout",
       "text": [
        "Selenocysteine (U) at position 44 replaced by X\r\n"
       ]
      },
      {
       "output_type": "stream",
       "stream": "stdout",
       "text": [
        "Selenocysteine (U) at position 193 replaced by X\r\n"
       ]
      },
      {
       "output_type": "stream",
       "stream": "stdout",
       "text": [
        "Selenocysteine (U) at position 121 replaced by X\r\n",
        "Selenocysteine (U) at position 121 replaced by X\r\n",
        "Selenocysteine (U) at position 121 replaced by X\r\n",
        "Selenocysteine (U) at position 121 replaced by X\r\n",
        "Selenocysteine (U) at position 126 replaced by X\r\n",
        "Selenocysteine (U) at position 126 replaced by X\r\n"
       ]
      },
      {
       "output_type": "stream",
       "stream": "stdout",
       "text": [
        "Selenocysteine (U) at position 123 replaced by X\r\n"
       ]
      },
      {
       "output_type": "stream",
       "stream": "stdout",
       "text": [
        "Selenocysteine (U) at position 92 replaced by X\r\n",
        "Selenocysteine (U) at position 92 replaced by X\r\n",
        "Selenocysteine (U) at position 92 replaced by X\r\n",
        "Selenocysteine (U) at position 92 replaced by X\r\n",
        "Selenocysteine (U) at position 47 replaced by X\r\n",
        "Selenocysteine (U) at position 47 replaced by X\r\n",
        "Selenocysteine (U) at position 59 replaced by X\r\n",
        "Selenocysteine (U) at position 297 replaced by X\r\n",
        "Selenocysteine (U) at position 307 replaced by X\r\n",
        "Selenocysteine (U) at position 338 replaced by X\r\n",
        "Selenocysteine (U) at position 350 replaced by X\r\n",
        "Selenocysteine (U) at position 363 replaced by X\r\n",
        "Selenocysteine (U) at position 365 replaced by X\r\n",
        "Selenocysteine (U) at position 372 replaced by X\r\n",
        "Selenocysteine (U) at position 388 replaced by X\r\n",
        "Selenocysteine (U) at position 390 replaced by X\r\n",
        "Selenocysteine (U) at position 397 replaced by X\r\n",
        "Selenocysteine (U) at position 399 replaced by X\r\n"
       ]
      },
      {
       "output_type": "stream",
       "stream": "stdout",
       "text": [
        "Selenocysteine (U) at position 47 replaced by X\r\n",
        "Selenocysteine (U) at position 47 replaced by X\r\n"
       ]
      },
      {
       "output_type": "stream",
       "stream": "stdout",
       "text": [
        "Selenocysteine (U) at position 637 replaced by X\r\n",
        "Selenocysteine (U) at position 690 replaced by X\r\n"
       ]
      },
      {
       "output_type": "stream",
       "stream": "stdout",
       "text": [
        "Selenocysteine (U) at position 637 replaced by X\r\n",
        "Selenocysteine (U) at position 637 replaced by X\r\n",
        "Selenocysteine (U) at position 637 replaced by X\r\n",
        "Selenocysteine (U) at position 637 replaced by X\r\n",
        "Selenocysteine (U) at position 637 replaced by X\r\n"
       ]
      },
      {
       "output_type": "stream",
       "stream": "stdout",
       "text": [
        "Selenocysteine (U) at position 637 replaced by X\r\n",
        "Selenocysteine (U) at position 637 replaced by X\r\n",
        "Selenocysteine (U) at position 637 replaced by X\r\n",
        "Selenocysteine (U) at position 637 replaced by X\r\n",
        "Selenocysteine (U) at position 637 replaced by X\r\n",
        "Selenocysteine (U) at position 637 replaced by X\r\n",
        "Selenocysteine (U) at position 690 replaced by X\r\n",
        "Selenocysteine (U) at position 690 replaced by X\r\n",
        "Selenocysteine (U) at position 690 replaced by X\r\n",
        "Selenocysteine (U) at position 690 replaced by X\r\n",
        "Selenocysteine (U) at position 690 replaced by X\r\n",
        "Selenocysteine (U) at position 690 replaced by X\r\n",
        "Selenocysteine (U) at position 690 replaced by X\r\n",
        "Selenocysteine (U) at position 690 replaced by X\r\n",
        "Selenocysteine (U) at position 690 replaced by X\r\n",
        "Selenocysteine (U) at position 690 replaced by X\r\n",
        "Selenocysteine (U) at position 690 replaced by X\r\n"
       ]
      },
      {
       "output_type": "stream",
       "stream": "stdout",
       "text": [
        "Selenocysteine (U) at position 37 replaced by X\r\n"
       ]
      },
      {
       "output_type": "stream",
       "stream": "stdout",
       "text": [
        "Selenocysteine (U) at position 44 replaced by X\r\n",
        "Selenocysteine (U) at position 44 replaced by X\r\n",
        "Selenocysteine (U) at position 38 replaced by X\r\n"
       ]
      },
      {
       "output_type": "stream",
       "stream": "stdout",
       "text": [
        "Selenocysteine (U) at position 37 replaced by X\r\n"
       ]
      },
      {
       "output_type": "stream",
       "stream": "stdout",
       "text": [
        "Selenocysteine (U) at position 44 replaced by X\r\n",
        "Selenocysteine (U) at position 44 replaced by X\r\n",
        "Selenocysteine (U) at position 38 replaced by X\r\n"
       ]
      },
      {
       "output_type": "stream",
       "stream": "stdout",
       "text": [
        "Selenocysteine (U) at position 37 replaced by X\r\n"
       ]
      },
      {
       "output_type": "stream",
       "stream": "stdout",
       "text": [
        "Selenocysteine (U) at position 44 replaced by X\r\n",
        "Selenocysteine (U) at position 44 replaced by X\r\n",
        "Selenocysteine (U) at position 38 replaced by X\r\n"
       ]
      },
      {
       "output_type": "stream",
       "stream": "stdout",
       "text": [
        "Selenocysteine (U) at position 84 replaced by X\r\n"
       ]
      },
      {
       "output_type": "stream",
       "stream": "stdout",
       "text": [
        "Selenocysteine (U) at position 42 replaced by X\r\n"
       ]
      },
      {
       "output_type": "stream",
       "stream": "stdout",
       "text": [
        "Selenocysteine (U) at position 59 replaced by X\r\n",
        "Selenocysteine (U) at position 297 replaced by X\r\n",
        "Selenocysteine (U) at position 307 replaced by X\r\n",
        "Selenocysteine (U) at position 338 replaced by X\r\n",
        "Selenocysteine (U) at position 350 replaced by X\r\n",
        "Selenocysteine (U) at position 363 replaced by X\r\n",
        "Selenocysteine (U) at position 365 replaced by X\r\n",
        "Selenocysteine (U) at position 372 replaced by X\r\n",
        "Selenocysteine (U) at position 388 replaced by X\r\n",
        "Selenocysteine (U) at position 390 replaced by X\r\n",
        "Selenocysteine (U) at position 397 replaced by X\r\n",
        "Selenocysteine (U) at position 399 replaced by X\r\n",
        "Selenocysteine (U) at position 59 replaced by X\r\n",
        "Selenocysteine (U) at position 297 replaced by X\r\n",
        "Selenocysteine (U) at position 307 replaced by X\r\n",
        "Selenocysteine (U) at position 338 replaced by X\r\n",
        "Selenocysteine (U) at position 350 replaced by X\r\n",
        "Selenocysteine (U) at position 363 replaced by X\r\n",
        "Selenocysteine (U) at position 365 replaced by X\r\n",
        "Selenocysteine (U) at position 372 replaced by X\r\n",
        "Selenocysteine (U) at position 388 replaced by X\r\n",
        "Selenocysteine (U) at position 390 replaced by X\r\n",
        "Selenocysteine (U) at position 397 replaced by X\r\n",
        "Selenocysteine (U) at position 399 replaced by X\r\n"
       ]
      },
      {
       "output_type": "stream",
       "stream": "stdout",
       "text": [
        "Selenocysteine (U) at position 129 replaced by X\r\n",
        "Selenocysteine (U) at position 129 replaced by X\r\n"
       ]
      },
      {
       "output_type": "stream",
       "stream": "stdout",
       "text": [
        "Selenocysteine (U) at position 666 replaced by X\r\n",
        "Selenocysteine (U) at position 666 replaced by X\r\n",
        "Selenocysteine (U) at position 666 replaced by X\r\n"
       ]
      },
      {
       "output_type": "stream",
       "stream": "stdout",
       "text": [
        "Selenocysteine (U) at position 120 replaced by X\r\n",
        "Selenocysteine (U) at position 120 replaced by X\r\n"
       ]
      },
      {
       "output_type": "stream",
       "stream": "stdout",
       "text": [
        "Selenocysteine (U) at position 59 replaced by X\r\n",
        "Selenocysteine (U) at position 318 replaced by X\r\n",
        "Selenocysteine (U) at position 330 replaced by X\r\n",
        "Selenocysteine (U) at position 345 replaced by X\r\n",
        "Selenocysteine (U) at position 352 replaced by X\r\n",
        "Selenocysteine (U) at position 367 replaced by X\r\n",
        "Selenocysteine (U) at position 369 replaced by X\r\n",
        "Selenocysteine (U) at position 376 replaced by X\r\n",
        "Selenocysteine (U) at position 378 replaced by X\r\n"
       ]
      },
      {
       "output_type": "stream",
       "stream": "stdout",
       "text": [
        "Selenocysteine (U) at position 200 replaced by X\r\n"
       ]
      },
      {
       "output_type": "stream",
       "stream": "stdout",
       "text": [
        "Selenocysteine (U) at position 189 replaced by X\r\n",
        "Selenocysteine (U) at position 189 replaced by X\r\n"
       ]
      },
      {
       "output_type": "stream",
       "stream": "stdout",
       "text": [
        "Selenocysteine (U) at position 7 replaced by X\r\n"
       ]
      },
      {
       "output_type": "stream",
       "stream": "stdout",
       "text": [
        "Selenocysteine (U) at position 131 replaced by X\r\n"
       ]
      },
      {
       "output_type": "stream",
       "stream": "stdout",
       "text": [
        "Selenocysteine (U) at position 25 replaced by X\r\n"
       ]
      },
      {
       "output_type": "stream",
       "stream": "stdout",
       "text": [
        "Selenocysteine (U) at position 24 replaced by X\r\n"
       ]
      },
      {
       "output_type": "stream",
       "stream": "stdout",
       "text": [
        "Selenocysteine (U) at position 387 replaced by X\r\n",
        "Selenocysteine (U) at position 387 replaced by X\r\n",
        "Selenocysteine (U) at position 387 replaced by X\r\n",
        "Selenocysteine (U) at position 387 replaced by X\r\n",
        "Selenocysteine (U) at position 387 replaced by X\r\n",
        "Selenocysteine (U) at position 387 replaced by X\r\n"
       ]
      },
      {
       "output_type": "stream",
       "stream": "stdout",
       "text": [
        "Selenocysteine (U) at position 388 replaced by X\r\n",
        "Selenocysteine (U) at position 388 replaced by X\r\n",
        "Selenocysteine (U) at position 388 replaced by X\r\n",
        "Selenocysteine (U) at position 387 replaced by X\r\n",
        "Selenocysteine (U) at position 387 replaced by X\r\n",
        "Selenocysteine (U) at position 387 replaced by X\r\n"
       ]
      },
      {
       "output_type": "stream",
       "stream": "stdout",
       "text": [
        "Selenocysteine (U) at position 637 replaced by X\r\n"
       ]
      },
      {
       "output_type": "stream",
       "stream": "stdout",
       "text": [
        "Selenocysteine (U) at position 59 replaced by X\r\n",
        "Selenocysteine (U) at position 297 replaced by X\r\n",
        "Selenocysteine (U) at position 307 replaced by X\r\n",
        "Selenocysteine (U) at position 338 replaced by X\r\n",
        "Selenocysteine (U) at position 350 replaced by X\r\n",
        "Selenocysteine (U) at position 363 replaced by X\r\n",
        "Selenocysteine (U) at position 365 replaced by X\r\n",
        "Selenocysteine (U) at position 372 replaced by X\r\n",
        "Selenocysteine (U) at position 388 replaced by X\r\n",
        "Selenocysteine (U) at position 390 replaced by X\r\n",
        "Selenocysteine (U) at position 397 replaced by X\r\n",
        "Selenocysteine (U) at position 399 replaced by X\r\n"
       ]
      },
      {
       "output_type": "stream",
       "stream": "stdout",
       "text": [
        "Selenocysteine (U) at position 16 replaced by X\r\n"
       ]
      },
      {
       "output_type": "stream",
       "stream": "stdout",
       "text": [
        "Selenocysteine (U) at position 690 replaced by X\r\n"
       ]
      },
      {
       "output_type": "stream",
       "stream": "stdout",
       "text": [
        "Selenocysteine (U) at position 106 replaced by X\r\n"
       ]
      },
      {
       "output_type": "stream",
       "stream": "stdout",
       "text": [
        "Selenocysteine (U) at position 637 replaced by X\r\n",
        "Selenocysteine (U) at position 637 replaced by X\r\n",
        "Selenocysteine (U) at position 637 replaced by X\r\n",
        "Selenocysteine (U) at position 690 replaced by X\r\n",
        "Selenocysteine (U) at position 690 replaced by X\r\n",
        "Selenocysteine (U) at position 690 replaced by X\r\n"
       ]
      },
      {
       "output_type": "stream",
       "stream": "stdout",
       "text": [
        "Selenocysteine (U) at position 109 replaced by X\r\n",
        "Selenocysteine (U) at position 109 replaced by X\r\n"
       ]
      },
      {
       "output_type": "stream",
       "stream": "stdout",
       "text": [
        "Selenocysteine (U) at position 189 replaced by X\r\n",
        "Selenocysteine (U) at position 189 replaced by X\r\n"
       ]
      },
      {
       "output_type": "stream",
       "stream": "stdout",
       "text": [
        "Selenocysteine (U) at position 387 replaced by X\r\n",
        "Selenocysteine (U) at position 387 replaced by X\r\n",
        "Selenocysteine (U) at position 387 replaced by X\r\n"
       ]
      },
      {
       "output_type": "stream",
       "stream": "stdout",
       "text": [
        "Selenocysteine (U) at position 189 replaced by X\r\n",
        "Selenocysteine (U) at position 189 replaced by X\r\n"
       ]
      },
      {
       "output_type": "stream",
       "stream": "stdout",
       "text": [
        "Selenocysteine (U) at position 73 replaced by X\r\n"
       ]
      },
      {
       "output_type": "stream",
       "stream": "stdout",
       "text": [
        "Selenocysteine (U) at position 648 replaced by X\r\n",
        "Selenocysteine (U) at position 498 replaced by X\r\n"
       ]
      },
      {
       "output_type": "stream",
       "stream": "stdout",
       "text": [
        "Selenocysteine (U) at position 648 replaced by X\r\n",
        "Selenocysteine (U) at position 648 replaced by X\r\n",
        "Selenocysteine (U) at position 498 replaced by X\r\n",
        "Selenocysteine (U) at position 498 replaced by X\r\n"
       ]
      },
      {
       "output_type": "stream",
       "stream": "stdout",
       "text": [
        "Selenocysteine (U) at position 64 replaced by X\r\n",
        "Selenocysteine (U) at position 64 replaced by X\r\n"
       ]
      },
      {
       "output_type": "stream",
       "stream": "stdout",
       "text": [
        "Selenocysteine (U) at position 204 replaced by X\r\n"
       ]
      },
      {
       "output_type": "stream",
       "stream": "stdout",
       "text": [
        "Selenocysteine (U) at position 133 replaced by X\r\n",
        "Selenocysteine (U) at position 266 replaced by X\r\n"
       ]
      },
      {
       "output_type": "stream",
       "stream": "stdout",
       "text": [
        "Selenocysteine (U) at position 131 replaced by X\r\n"
       ]
      },
      {
       "output_type": "stream",
       "stream": "stdout",
       "text": [
        "Selenocysteine (U) at position 131 replaced by X\r\n",
        "Selenocysteine (U) at position 131 replaced by X\r\n",
        "Selenocysteine (U) at position 131 replaced by X\r\n"
       ]
      },
      {
       "output_type": "stream",
       "stream": "stdout",
       "text": [
        "Selenocysteine (U) at position 59 replaced by X\r\n",
        "Selenocysteine (U) at position 318 replaced by X\r\n",
        "Selenocysteine (U) at position 330 replaced by X\r\n",
        "Selenocysteine (U) at position 345 replaced by X\r\n",
        "Selenocysteine (U) at position 352 replaced by X\r\n",
        "Selenocysteine (U) at position 367 replaced by X\r\n",
        "Selenocysteine (U) at position 369 replaced by X\r\n",
        "Selenocysteine (U) at position 376 replaced by X\r\n",
        "Selenocysteine (U) at position 378 replaced by X\r\n"
       ]
      },
      {
       "output_type": "stream",
       "stream": "stdout",
       "text": [
        "Selenocysteine (U) at position 613 replaced by X\r\n",
        "Selenocysteine (U) at position 613 replaced by X\r\n",
        "Selenocysteine (U) at position 613 replaced by X\r\n",
        "Selenocysteine (U) at position 613 replaced by X\r\n",
        "Selenocysteine (U) at position 613 replaced by X\r\n",
        "Selenocysteine (U) at position 613 replaced by X\r\n",
        "Selenocysteine (U) at position 613 replaced by X\r\n",
        "Selenocysteine (U) at position 613 replaced by X\r\n",
        "Selenocysteine (U) at position 613 replaced by X\r\n",
        "Selenocysteine (U) at position 613 replaced by X\r\n",
        "Selenocysteine (U) at position 613 replaced by X\r\n",
        "Selenocysteine (U) at position 613 replaced by X\r\n",
        "Selenocysteine (U) at position 613 replaced by X\r\n",
        "Selenocysteine (U) at position 613 replaced by X\r\n",
        "Selenocysteine (U) at position 613 replaced by X\r\n",
        "Selenocysteine (U) at position 613 replaced by X\r\n",
        "Selenocysteine (U) at position 613 replaced by X\r\n",
        "Selenocysteine (U) at position 613 replaced by X\r\n",
        "Selenocysteine (U) at position 613 replaced by X\r\n"
       ]
      },
      {
       "output_type": "stream",
       "stream": "stdout",
       "text": [
        "Selenocysteine (U) at position 613 replaced by X\r\n",
        "Selenocysteine (U) at position 613 replaced by X\r\n",
        "Selenocysteine (U) at position 613 replaced by X\r\n",
        "Selenocysteine (U) at position 613 replaced by X\r\n",
        "Selenocysteine (U) at position 613 replaced by X\r\n",
        "Selenocysteine (U) at position 613 replaced by X\r\n",
        "Selenocysteine (U) at position 613 replaced by X\r\n",
        "Selenocysteine (U) at position 613 replaced by X\r\n",
        "Selenocysteine (U) at position 613 replaced by X\r\n",
        "Selenocysteine (U) at position 613 replaced by X\r\n",
        "Selenocysteine (U) at position 613 replaced by X\r\n",
        "Selenocysteine (U) at position 613 replaced by X\r\n",
        "Selenocysteine (U) at position 613 replaced by X\r\n",
        "Selenocysteine (U) at position 613 replaced by X\r\n",
        "Selenocysteine (U) at position 613 replaced by X\r\n",
        "Selenocysteine (U) at position 613 replaced by X\r\n",
        "Selenocysteine (U) at position 613 replaced by X\r\n",
        "Selenocysteine (U) at position 613 replaced by X\r\n",
        "Selenocysteine (U) at position 613 replaced by X\r\n",
        "Selenocysteine (U) at position 613 replaced by X\r\n",
        "Selenocysteine (U) at position 613 replaced by X\r\n",
        "Selenocysteine (U) at position 613 replaced by X\r\n",
        "Selenocysteine (U) at position 613 replaced by X\r\n",
        "Selenocysteine (U) at position 613 replaced by X\r\n",
        "Selenocysteine (U) at position 613 replaced by X\r\n",
        "Selenocysteine (U) at position 613 replaced by X\r\n",
        "Selenocysteine (U) at position 613 replaced by X\r\n",
        "Selenocysteine (U) at position 613 replaced by X\r\n",
        "Selenocysteine (U) at position 613 replaced by X\r\n",
        "Selenocysteine (U) at position 613 replaced by X\r\n",
        "Selenocysteine (U) at position 613 replaced by X\r\n",
        "Selenocysteine (U) at position 613 replaced by X\r\n",
        "Selenocysteine (U) at position 613 replaced by X\r\n",
        "Selenocysteine (U) at position 613 replaced by X\r\n",
        "Selenocysteine (U) at position 613 replaced by X\r\n",
        "Selenocysteine (U) at position 613 replaced by X\r\n",
        "Selenocysteine (U) at position 613 replaced by X\r\n",
        "Selenocysteine (U) at position 613 replaced by X\r\n"
       ]
      },
      {
       "output_type": "stream",
       "stream": "stdout",
       "text": [
        "Selenocysteine (U) at position 613 replaced by X\r\n",
        "Selenocysteine (U) at position 613 replaced by X\r\n",
        "Selenocysteine (U) at position 613 replaced by X\r\n",
        "Selenocysteine (U) at position 613 replaced by X\r\n",
        "Selenocysteine (U) at position 613 replaced by X\r\n",
        "Selenocysteine (U) at position 613 replaced by X\r\n",
        "Selenocysteine (U) at position 613 replaced by X\r\n",
        "Selenocysteine (U) at position 613 replaced by X\r\n",
        "Selenocysteine (U) at position 613 replaced by X\r\n",
        "Selenocysteine (U) at position 613 replaced by X\r\n",
        "Selenocysteine (U) at position 613 replaced by X\r\n",
        "Selenocysteine (U) at position 613 replaced by X\r\n"
       ]
      },
      {
       "output_type": "stream",
       "stream": "stdout",
       "text": [
        "Selenocysteine (U) at position 613 replaced by X\r\n"
       ]
      },
      {
       "output_type": "stream",
       "stream": "stdout",
       "text": [
        "Selenocysteine (U) at position 430 replaced by X\r\n"
       ]
      },
      {
       "output_type": "stream",
       "stream": "stdout",
       "text": [
        "Selenocysteine (U) at position 121 replaced by X\r\n",
        "Selenocysteine (U) at position 121 replaced by X\r\n",
        "Selenocysteine (U) at position 121 replaced by X\r\n",
        "Selenocysteine (U) at position 120 replaced by X\r\n",
        "Selenocysteine (U) at position 120 replaced by X\r\n",
        "Selenocysteine (U) at position 120 replaced by X\r\n"
       ]
      },
      {
       "output_type": "stream",
       "stream": "stdout",
       "text": [
        "Selenocysteine (U) at position 494 replaced by X\r\n",
        "Selenocysteine (U) at position 510 replaced by X\r\n",
        "Selenocysteine (U) at position 523 replaced by X\r\n"
       ]
      },
      {
       "output_type": "stream",
       "stream": "stdout",
       "text": [
        "Selenocysteine (U) at position 59 replaced by X\r\n",
        "Selenocysteine (U) at position 300 replaced by X\r\n",
        "Selenocysteine (U) at position 318 replaced by X\r\n",
        "Selenocysteine (U) at position 330 replaced by X\r\n",
        "Selenocysteine (U) at position 345 replaced by X\r\n",
        "Selenocysteine (U) at position 352 replaced by X\r\n",
        "Selenocysteine (U) at position 367 replaced by X\r\n",
        "Selenocysteine (U) at position 369 replaced by X\r\n",
        "Selenocysteine (U) at position 376 replaced by X\r\n",
        "Selenocysteine (U) at position 378 replaced by X\r\n",
        "Selenocysteine (U) at position 59 replaced by X\r\n",
        "Selenocysteine (U) at position 300 replaced by X\r\n",
        "Selenocysteine (U) at position 318 replaced by X\r\n",
        "Selenocysteine (U) at position 330 replaced by X\r\n",
        "Selenocysteine (U) at position 345 replaced by X\r\n",
        "Selenocysteine (U) at position 352 replaced by X\r\n",
        "Selenocysteine (U) at position 367 replaced by X\r\n",
        "Selenocysteine (U) at position 369 replaced by X\r\n",
        "Selenocysteine (U) at position 376 replaced by X\r\n",
        "Selenocysteine (U) at position 378 replaced by X\r\n",
        "Selenocysteine (U) at position 59 replaced by X\r\n",
        "Selenocysteine (U) at position 300 replaced by X\r\n",
        "Selenocysteine (U) at position 318 replaced by X\r\n",
        "Selenocysteine (U) at position 330 replaced by X\r\n",
        "Selenocysteine (U) at position 345 replaced by X\r\n",
        "Selenocysteine (U) at position 352 replaced by X\r\n",
        "Selenocysteine (U) at position 367 replaced by X\r\n",
        "Selenocysteine (U) at position 369 replaced by X\r\n",
        "Selenocysteine (U) at position 376 replaced by X\r\n",
        "Selenocysteine (U) at position 378 replaced by X\r\n",
        "Selenocysteine (U) at position 59 replaced by X\r\n",
        "Selenocysteine (U) at position 318 replaced by X\r\n",
        "Selenocysteine (U) at position 330 replaced by X\r\n",
        "Selenocysteine (U) at position 345 replaced by X\r\n",
        "Selenocysteine (U) at position 352 replaced by X\r\n",
        "Selenocysteine (U) at position 367 replaced by X\r\n",
        "Selenocysteine (U) at position 369 replaced by X\r\n",
        "Selenocysteine (U) at position 376 replaced by X\r\n",
        "Selenocysteine (U) at position 378 replaced by X\r\n",
        "Selenocysteine (U) at position 59 replaced by X\r\n",
        "Selenocysteine (U) at position 318 replaced by X\r\n",
        "Selenocysteine (U) at position 330 replaced by X\r\n",
        "Selenocysteine (U) at position 345 replaced by X\r\n",
        "Selenocysteine (U) at position 352 replaced by X\r\n",
        "Selenocysteine (U) at position 367 replaced by X\r\n",
        "Selenocysteine (U) at position 369 replaced by X\r\n",
        "Selenocysteine (U) at position 376 replaced by X\r\n",
        "Selenocysteine (U) at position 378 replaced by X\r\n",
        "Selenocysteine (U) at position 59 replaced by X\r\n",
        "Selenocysteine (U) at position 318 replaced by X\r\n",
        "Selenocysteine (U) at position 330 replaced by X\r\n",
        "Selenocysteine (U) at position 345 replaced by X\r\n",
        "Selenocysteine (U) at position 352 replaced by X\r\n",
        "Selenocysteine (U) at position 367 replaced by X\r\n",
        "Selenocysteine (U) at position 369 replaced by X\r\n",
        "Selenocysteine (U) at position 376 replaced by X\r\n",
        "Selenocysteine (U) at position 378 replaced by X\r\n"
       ]
      },
      {
       "output_type": "stream",
       "stream": "stdout",
       "text": [
        "Selenocysteine (U) at position 44 replaced by X\r\n",
        "Selenocysteine (U) at position 44 replaced by X\r\n",
        "Selenocysteine (U) at position 44 replaced by X\r\n"
       ]
      },
      {
       "output_type": "stream",
       "stream": "stdout",
       "text": [
        "Selenocysteine (U) at position 144 replaced by X\r\n",
        "Selenocysteine (U) at position 144 replaced by X\r\n",
        "Selenocysteine (U) at position 144 replaced by X\r\n"
       ]
      },
      {
       "output_type": "stream",
       "stream": "stdout",
       "text": [
        "Selenocysteine (U) at position 132 replaced by X\r\n"
       ]
      },
      {
       "output_type": "stream",
       "stream": "stdout",
       "text": [
        "Selenocysteine (U) at position 47 replaced by X\r\n"
       ]
      },
      {
       "output_type": "stream",
       "stream": "stdout",
       "text": [
        "Selenocysteine (U) at position 648 replaced by X\r\n",
        "Selenocysteine (U) at position 648 replaced by X\r\n",
        "Selenocysteine (U) at position 498 replaced by X\r\n",
        "Selenocysteine (U) at position 498 replaced by X\r\n",
        "Selenocysteine (U) at position 510 replaced by X\r\n",
        "Selenocysteine (U) at position 510 replaced by X\r\n",
        "Selenocysteine (U) at position 523 replaced by X\r\n",
        "Selenocysteine (U) at position 523 replaced by X\r\n",
        "Selenocysteine (U) at position 523 replaced by X\r\n",
        "Selenocysteine (U) at position 523 replaced by X\r\n",
        "Selenocysteine (U) at position 523 replaced by X\r\n",
        "Selenocysteine (U) at position 523 replaced by X\r\n",
        "Selenocysteine (U) at position 525 replaced by X\r\n",
        "Selenocysteine (U) at position 525 replaced by X\r\n",
        "Selenocysteine (U) at position 642 replaced by X\r\n",
        "Selenocysteine (U) at position 642 replaced by X\r\n",
        "Selenocysteine (U) at position 642 replaced by X\r\n",
        "Selenocysteine (U) at position 642 replaced by X\r\n",
        "Selenocysteine (U) at position 651 replaced by X\r\n",
        "Selenocysteine (U) at position 651 replaced by X\r\n"
       ]
      },
      {
       "output_type": "stream",
       "stream": "stdout",
       "text": [
        "Selenocysteine (U) at position 651 replaced by X\r\n",
        "Selenocysteine (U) at position 651 replaced by X\r\n"
       ]
      },
      {
       "output_type": "stream",
       "stream": "stdout",
       "text": [
        "Selenocysteine (U) at position 47 replaced by X\r\n"
       ]
      },
      {
       "output_type": "stream",
       "stream": "stdout",
       "text": [
        "Selenocysteine (U) at position 612 replaced by X\r\n"
       ]
      },
      {
       "output_type": "stream",
       "stream": "stdout",
       "text": [
        "Selenocysteine (U) at position 93 replaced by X\r\n"
       ]
      },
      {
       "output_type": "stream",
       "stream": "stdout",
       "text": [
        "Selenocysteine (U) at position 200 replaced by X\r\n"
       ]
      },
      {
       "output_type": "stream",
       "stream": "stdout",
       "text": [
        "Selenocysteine (U) at position 59 replaced by X\r\n",
        "Selenocysteine (U) at position 300 replaced by X\r\n",
        "Selenocysteine (U) at position 318 replaced by X\r\n",
        "Selenocysteine (U) at position 330 replaced by X\r\n",
        "Selenocysteine (U) at position 345 replaced by X\r\n",
        "Selenocysteine (U) at position 352 replaced by X\r\n",
        "Selenocysteine (U) at position 367 replaced by X\r\n",
        "Selenocysteine (U) at position 369 replaced by X\r\n",
        "Selenocysteine (U) at position 376 replaced by X\r\n",
        "Selenocysteine (U) at position 378 replaced by X\r\n",
        "Selenocysteine (U) at position 59 replaced by X\r\n",
        "Selenocysteine (U) at position 300 replaced by X\r\n",
        "Selenocysteine (U) at position 318 replaced by X\r\n",
        "Selenocysteine (U) at position 330 replaced by X\r\n",
        "Selenocysteine (U) at position 345 replaced by X\r\n",
        "Selenocysteine (U) at position 352 replaced by X\r\n",
        "Selenocysteine (U) at position 367 replaced by X\r\n",
        "Selenocysteine (U) at position 369 replaced by X\r\n",
        "Selenocysteine (U) at position 376 replaced by X\r\n",
        "Selenocysteine (U) at position 378 replaced by X\r\n",
        "Selenocysteine (U) at position 59 replaced by X\r\n",
        "Selenocysteine (U) at position 259 replaced by X\r\n",
        "Selenocysteine (U) at position 277 replaced by X\r\n",
        "Selenocysteine (U) at position 318 replaced by X\r\n",
        "Selenocysteine (U) at position 330 replaced by X\r\n",
        "Selenocysteine (U) at position 352 replaced by X\r\n",
        "Selenocysteine (U) at position 366 replaced by X\r\n",
        "Selenocysteine (U) at position 368 replaced by X\r\n",
        "Selenocysteine (U) at position 375 replaced by X\r\n",
        "Selenocysteine (U) at position 377 replaced by X\r\n",
        "Selenocysteine (U) at position 59 replaced by X\r\n",
        "Selenocysteine (U) at position 318 replaced by X\r\n",
        "Selenocysteine (U) at position 330 replaced by X\r\n",
        "Selenocysteine (U) at position 345 replaced by X\r\n",
        "Selenocysteine (U) at position 352 replaced by X\r\n",
        "Selenocysteine (U) at position 367 replaced by X\r\n",
        "Selenocysteine (U) at position 369 replaced by X\r\n",
        "Selenocysteine (U) at position 376 replaced by X\r\n",
        "Selenocysteine (U) at position 378 replaced by X\r\n",
        "Selenocysteine (U) at position 59 replaced by X\r\n",
        "Selenocysteine (U) at position 318 replaced by X\r\n",
        "Selenocysteine (U) at position 330 replaced by X\r\n",
        "Selenocysteine (U) at position 345 replaced by X\r\n",
        "Selenocysteine (U) at position 352 replaced by X\r\n",
        "Selenocysteine (U) at position 367 replaced by X\r\n",
        "Selenocysteine (U) at position 369 replaced by X\r\n",
        "Selenocysteine (U) at position 376 replaced by X\r\n",
        "Selenocysteine (U) at position 378 replaced by X\r\n",
        "Selenocysteine (U) at position 59 replaced by X\r\n",
        "Selenocysteine (U) at position 264 replaced by X\r\n",
        "Selenocysteine (U) at position 282 replaced by X\r\n",
        "Selenocysteine (U) at position 323 replaced by X\r\n",
        "Selenocysteine (U) at position 335 replaced by X\r\n",
        "Selenocysteine (U) at position 357 replaced by X\r\n",
        "Selenocysteine (U) at position 371 replaced by X\r\n",
        "Selenocysteine (U) at position 373 replaced by X\r\n",
        "Selenocysteine (U) at position 380 replaced by X\r\n",
        "Selenocysteine (U) at position 382 replaced by X\r\n"
       ]
      },
      {
       "output_type": "stream",
       "stream": "stdout",
       "text": [
        "Selenocysteine (U) at position 59 replaced by X\r\n",
        "Selenocysteine (U) at position 300 replaced by X\r\n",
        "Selenocysteine (U) at position 318 replaced by X\r\n",
        "Selenocysteine (U) at position 330 replaced by X\r\n",
        "Selenocysteine (U) at position 345 replaced by X\r\n",
        "Selenocysteine (U) at position 352 replaced by X\r\n",
        "Selenocysteine (U) at position 367 replaced by X\r\n",
        "Selenocysteine (U) at position 369 replaced by X\r\n",
        "Selenocysteine (U) at position 376 replaced by X\r\n",
        "Selenocysteine (U) at position 378 replaced by X\r\n",
        "Selenocysteine (U) at position 59 replaced by X\r\n",
        "Selenocysteine (U) at position 300 replaced by X\r\n",
        "Selenocysteine (U) at position 318 replaced by X\r\n",
        "Selenocysteine (U) at position 330 replaced by X\r\n",
        "Selenocysteine (U) at position 345 replaced by X\r\n",
        "Selenocysteine (U) at position 352 replaced by X\r\n",
        "Selenocysteine (U) at position 367 replaced by X\r\n",
        "Selenocysteine (U) at position 369 replaced by X\r\n",
        "Selenocysteine (U) at position 376 replaced by X\r\n",
        "Selenocysteine (U) at position 378 replaced by X\r\n",
        "Selenocysteine (U) at position 59 replaced by X\r\n",
        "Selenocysteine (U) at position 300 replaced by X\r\n",
        "Selenocysteine (U) at position 318 replaced by X\r\n",
        "Selenocysteine (U) at position 330 replaced by X\r\n",
        "Selenocysteine (U) at position 345 replaced by X\r\n",
        "Selenocysteine (U) at position 352 replaced by X\r\n",
        "Selenocysteine (U) at position 367 replaced by X\r\n",
        "Selenocysteine (U) at position 369 replaced by X\r\n",
        "Selenocysteine (U) at position 376 replaced by X\r\n",
        "Selenocysteine (U) at position 378 replaced by X\r\n",
        "Selenocysteine (U) at position 59 replaced by X\r\n",
        "Selenocysteine (U) at position 259 replaced by X\r\n",
        "Selenocysteine (U) at position 277 replaced by X\r\n",
        "Selenocysteine (U) at position 318 replaced by X\r\n",
        "Selenocysteine (U) at position 330 replaced by X\r\n",
        "Selenocysteine (U) at position 352 replaced by X\r\n",
        "Selenocysteine (U) at position 366 replaced by X\r\n",
        "Selenocysteine (U) at position 368 replaced by X\r\n",
        "Selenocysteine (U) at position 375 replaced by X\r\n",
        "Selenocysteine (U) at position 377 replaced by X\r\n",
        "Selenocysteine (U) at position 59 replaced by X\r\n",
        "Selenocysteine (U) at position 259 replaced by X\r\n",
        "Selenocysteine (U) at position 277 replaced by X\r\n",
        "Selenocysteine (U) at position 318 replaced by X\r\n",
        "Selenocysteine (U) at position 330 replaced by X\r\n",
        "Selenocysteine (U) at position 352 replaced by X\r\n",
        "Selenocysteine (U) at position 366 replaced by X\r\n",
        "Selenocysteine (U) at position 368 replaced by X\r\n",
        "Selenocysteine (U) at position 375 replaced by X\r\n",
        "Selenocysteine (U) at position 377 replaced by X\r\n",
        "Selenocysteine (U) at position 59 replaced by X\r\n",
        "Selenocysteine (U) at position 318 replaced by X\r\n",
        "Selenocysteine (U) at position 330 replaced by X\r\n",
        "Selenocysteine (U) at position 345 replaced by X\r\n",
        "Selenocysteine (U) at position 352 replaced by X\r\n",
        "Selenocysteine (U) at position 367 replaced by X\r\n",
        "Selenocysteine (U) at position 369 replaced by X\r\n",
        "Selenocysteine (U) at position 376 replaced by X\r\n",
        "Selenocysteine (U) at position 378 replaced by X\r\n",
        "Selenocysteine (U) at position 59 replaced by X\r\n",
        "Selenocysteine (U) at position 318 replaced by X\r\n",
        "Selenocysteine (U) at position 330 replaced by X\r\n",
        "Selenocysteine (U) at position 345 replaced by X\r\n",
        "Selenocysteine (U) at position 352 replaced by X\r\n",
        "Selenocysteine (U) at position 367 replaced by X\r\n",
        "Selenocysteine (U) at position 369 replaced by X\r\n",
        "Selenocysteine (U) at position 376 replaced by X\r\n",
        "Selenocysteine (U) at position 378 replaced by X\r\n",
        "Selenocysteine (U) at position 59 replaced by X\r\n",
        "Selenocysteine (U) at position 318 replaced by X\r\n",
        "Selenocysteine (U) at position 330 replaced by X\r\n",
        "Selenocysteine (U) at position 345 replaced by X\r\n",
        "Selenocysteine (U) at position 352 replaced by X\r\n",
        "Selenocysteine (U) at position 367 replaced by X\r\n",
        "Selenocysteine (U) at position 369 replaced by X\r\n",
        "Selenocysteine (U) at position 376 replaced by X\r\n",
        "Selenocysteine (U) at position 378 replaced by X\r\n",
        "Selenocysteine (U) at position 59 replaced by X\r\n",
        "Selenocysteine (U) at position 264 replaced by X\r\n",
        "Selenocysteine (U) at position 282 replaced by X\r\n",
        "Selenocysteine (U) at position 323 replaced by X\r\n",
        "Selenocysteine (U) at position 335 replaced by X\r\n",
        "Selenocysteine (U) at position 357 replaced by X\r\n",
        "Selenocysteine (U) at position 371 replaced by X\r\n",
        "Selenocysteine (U) at position 373 replaced by X\r\n",
        "Selenocysteine (U) at position 380 replaced by X\r\n",
        "Selenocysteine (U) at position 382 replaced by X\r\n",
        "Selenocysteine (U) at position 59 replaced by X\r\n",
        "Selenocysteine (U) at position 264 replaced by X\r\n",
        "Selenocysteine (U) at position 282 replaced by X\r\n",
        "Selenocysteine (U) at position 323 replaced by X\r\n",
        "Selenocysteine (U) at position 335 replaced by X\r\n",
        "Selenocysteine (U) at position 357 replaced by X\r\n",
        "Selenocysteine (U) at position 371 replaced by X\r\n",
        "Selenocysteine (U) at position 373 replaced by X\r\n",
        "Selenocysteine (U) at position 380 replaced by X\r\n",
        "Selenocysteine (U) at position 382 replaced by X\r\n"
       ]
      },
      {
       "output_type": "stream",
       "stream": "stdout",
       "text": [
        "Selenocysteine (U) at position 59 replaced by X\r\n",
        "Selenocysteine (U) at position 259 replaced by X\r\n",
        "Selenocysteine (U) at position 277 replaced by X\r\n",
        "Selenocysteine (U) at position 318 replaced by X\r\n",
        "Selenocysteine (U) at position 330 replaced by X\r\n",
        "Selenocysteine (U) at position 352 replaced by X\r\n",
        "Selenocysteine (U) at position 366 replaced by X\r\n",
        "Selenocysteine (U) at position 368 replaced by X\r\n",
        "Selenocysteine (U) at position 375 replaced by X\r\n",
        "Selenocysteine (U) at position 377 replaced by X\r\n",
        "Selenocysteine (U) at position 59 replaced by X\r\n",
        "Selenocysteine (U) at position 264 replaced by X\r\n",
        "Selenocysteine (U) at position 282 replaced by X\r\n",
        "Selenocysteine (U) at position 323 replaced by X\r\n",
        "Selenocysteine (U) at position 335 replaced by X\r\n",
        "Selenocysteine (U) at position 357 replaced by X\r\n",
        "Selenocysteine (U) at position 371 replaced by X\r\n",
        "Selenocysteine (U) at position 373 replaced by X\r\n",
        "Selenocysteine (U) at position 380 replaced by X\r\n",
        "Selenocysteine (U) at position 382 replaced by X\r\n"
       ]
      },
      {
       "output_type": "stream",
       "stream": "stdout",
       "text": [
        "Selenocysteine (U) at position 637 replaced by X\r\n",
        "Selenocysteine (U) at position 637 replaced by X\r\n",
        "Selenocysteine (U) at position 637 replaced by X\r\n"
       ]
      },
      {
       "output_type": "stream",
       "stream": "stdout",
       "text": [
        "Selenocysteine (U) at position 430 replaced by X\r\n",
        "Selenocysteine (U) at position 127 replaced by X\r\n",
        "Selenocysteine (U) at position 462 replaced by X\r\n",
        "Selenocysteine (U) at position 436 replaced by X\r\n"
       ]
      },
      {
       "output_type": "stream",
       "stream": "stdout",
       "text": [
        "Selenocysteine (U) at position 612 replaced by X\r\n"
       ]
      },
      {
       "output_type": "stream",
       "stream": "stdout",
       "text": [
        "Selenocysteine (U) at position 130 replaced by X\r\n"
       ]
      },
      {
       "output_type": "stream",
       "stream": "stdout",
       "text": [
        "Selenocysteine (U) at position 59 replaced by X\r\n",
        "Selenocysteine (U) at position 267 replaced by X\r\n",
        "Selenocysteine (U) at position 273 replaced by X\r\n",
        "Selenocysteine (U) at position 279 replaced by X\r\n",
        "Selenocysteine (U) at position 290 replaced by X\r\n",
        "Selenocysteine (U) at position 292 replaced by X\r\n",
        "Selenocysteine (U) at position 294 replaced by X\r\n",
        "Selenocysteine (U) at position 310 replaced by X\r\n",
        "Selenocysteine (U) at position 320 replaced by X\r\n",
        "Selenocysteine (U) at position 322 replaced by X\r\n",
        "Selenocysteine (U) at position 336 replaced by X\r\n",
        "Selenocysteine (U) at position 338 replaced by X\r\n",
        "Selenocysteine (U) at position 346 replaced by X\r\n",
        "Selenocysteine (U) at position 353 replaced by X\r\n",
        "Selenocysteine (U) at position 355 replaced by X\r\n",
        "Selenocysteine (U) at position 362 replaced by X\r\n",
        "Selenocysteine (U) at position 364 replaced by X\r\n"
       ]
      },
      {
       "output_type": "stream",
       "stream": "stdout",
       "text": [
        "Selenocysteine (U) at position 59 replaced by X\r\n",
        "Selenocysteine (U) at position 267 replaced by X\r\n",
        "Selenocysteine (U) at position 273 replaced by X\r\n",
        "Selenocysteine (U) at position 279 replaced by X\r\n",
        "Selenocysteine (U) at position 290 replaced by X\r\n",
        "Selenocysteine (U) at position 292 replaced by X\r\n",
        "Selenocysteine (U) at position 294 replaced by X\r\n",
        "Selenocysteine (U) at position 310 replaced by X\r\n",
        "Selenocysteine (U) at position 320 replaced by X\r\n",
        "Selenocysteine (U) at position 322 replaced by X\r\n",
        "Selenocysteine (U) at position 336 replaced by X\r\n",
        "Selenocysteine (U) at position 338 replaced by X\r\n",
        "Selenocysteine (U) at position 346 replaced by X\r\n",
        "Selenocysteine (U) at position 353 replaced by X\r\n",
        "Selenocysteine (U) at position 355 replaced by X\r\n",
        "Selenocysteine (U) at position 362 replaced by X\r\n",
        "Selenocysteine (U) at position 364 replaced by X\r\n"
       ]
      },
      {
       "output_type": "stream",
       "stream": "stdout",
       "text": [
        "Selenocysteine (U) at position 144 replaced by X\r\n",
        "Selenocysteine (U) at position 144 replaced by X\r\n",
        "Selenocysteine (U) at position 144 replaced by X\r\n",
        "Selenocysteine (U) at position 144 replaced by X\r\n"
       ]
      },
      {
       "output_type": "stream",
       "stream": "stdout",
       "text": [
        "Selenocysteine (U) at position 436 replaced by X\r\n",
        "Selenocysteine (U) at position 436 replaced by X\r\n",
        "Selenocysteine (U) at position 436 replaced by X\r\n",
        "Selenocysteine (U) at position 436 replaced by X\r\n"
       ]
      },
      {
       "output_type": "stream",
       "stream": "stdout",
       "text": [
        "Selenocysteine (U) at position 144 replaced by X\r\n",
        "Selenocysteine (U) at position 144 replaced by X\r\n",
        "Selenocysteine (U) at position 144 replaced by X\r\n",
        "Selenocysteine (U) at position 144 replaced by X\r\n"
       ]
      },
      {
       "output_type": "stream",
       "stream": "stdout",
       "text": [
        "Selenocysteine (U) at position 436 replaced by X\r\n",
        "Selenocysteine (U) at position 436 replaced by X\r\n",
        "Selenocysteine (U) at position 436 replaced by X\r\n",
        "Selenocysteine (U) at position 436 replaced by X\r\n"
       ]
      },
      {
       "output_type": "stream",
       "stream": "stdout",
       "text": [
        "Selenocysteine (U) at position 16 replaced by X\r\n"
       ]
      },
      {
       "output_type": "stream",
       "stream": "stdout",
       "text": [
        "Selenocysteine (U) at position 637 replaced by X\r\n"
       ]
      },
      {
       "output_type": "stream",
       "stream": "stdout",
       "text": [
        "Selenocysteine (U) at position 436 replaced by X\r\n"
       ]
      },
      {
       "output_type": "stream",
       "stream": "stdout",
       "text": [
        "Selenocysteine (U) at position 44 replaced by X\r\n"
       ]
      },
      {
       "output_type": "stream",
       "stream": "stdout",
       "text": [
        "Selenocysteine (U) at position 637 replaced by X\r\n"
       ]
      },
      {
       "output_type": "stream",
       "stream": "stdout",
       "text": [
        "Selenocysteine (U) at position 52 replaced by X\r\n"
       ]
      },
      {
       "output_type": "stream",
       "stream": "stdout",
       "text": [
        "Selenocysteine (U) at position 47 replaced by X\r\n",
        "Selenocysteine (U) at position 47 replaced by X\r\n",
        "Selenocysteine (U) at position 52 replaced by X\r\n",
        "Selenocysteine (U) at position 46 replaced by X\r\n",
        "Selenocysteine (U) at position 47 replaced by X\r\n",
        "Selenocysteine (U) at position 40 replaced by X\r\n"
       ]
      },
      {
       "output_type": "stream",
       "stream": "stdout",
       "text": [
        "Selenocysteine (U) at position 59 replaced by X\r\n",
        "Selenocysteine (U) at position 297 replaced by X\r\n",
        "Selenocysteine (U) at position 307 replaced by X\r\n",
        "Selenocysteine (U) at position 338 replaced by X\r\n",
        "Selenocysteine (U) at position 350 replaced by X\r\n",
        "Selenocysteine (U) at position 363 replaced by X\r\n",
        "Selenocysteine (U) at position 365 replaced by X\r\n",
        "Selenocysteine (U) at position 372 replaced by X\r\n",
        "Selenocysteine (U) at position 388 replaced by X\r\n",
        "Selenocysteine (U) at position 390 replaced by X\r\n",
        "Selenocysteine (U) at position 397 replaced by X\r\n",
        "Selenocysteine (U) at position 399 replaced by X\r\n"
       ]
      },
      {
       "output_type": "stream",
       "stream": "stdout",
       "text": [
        "Selenocysteine (U) at position 92 replaced by X\r\n",
        "Selenocysteine (U) at position 92 replaced by X\r\n"
       ]
      },
      {
       "output_type": "stream",
       "stream": "stdout",
       "text": [
        "Selenocysteine (U) at position 189 replaced by X\r\n"
       ]
      },
      {
       "output_type": "stream",
       "stream": "stdout",
       "text": [
        "Selenocysteine (U) at position 189 replaced by X\r\n"
       ]
      },
      {
       "output_type": "stream",
       "stream": "stdout",
       "text": [
        "Selenocysteine (U) at position 40 replaced by X\r\n",
        "Selenocysteine (U) at position 40 replaced by X\r\n",
        "Selenocysteine (U) at position 40 replaced by X\r\n",
        "Selenocysteine (U) at position 40 replaced by X\r\n",
        "Selenocysteine (U) at position 40 replaced by X\r\n",
        "Selenocysteine (U) at position 40 replaced by X\r\n"
       ]
      },
      {
       "output_type": "stream",
       "stream": "stdout",
       "text": [
        "Selenocysteine (U) at position 59 replaced by X\r\n",
        "Selenocysteine (U) at position 267 replaced by X\r\n",
        "Selenocysteine (U) at position 273 replaced by X\r\n",
        "Selenocysteine (U) at position 279 replaced by X\r\n",
        "Selenocysteine (U) at position 290 replaced by X\r\n",
        "Selenocysteine (U) at position 292 replaced by X\r\n",
        "Selenocysteine (U) at position 294 replaced by X\r\n",
        "Selenocysteine (U) at position 310 replaced by X\r\n",
        "Selenocysteine (U) at position 320 replaced by X\r\n",
        "Selenocysteine (U) at position 322 replaced by X\r\n",
        "Selenocysteine (U) at position 336 replaced by X\r\n",
        "Selenocysteine (U) at position 338 replaced by X\r\n",
        "Selenocysteine (U) at position 346 replaced by X\r\n",
        "Selenocysteine (U) at position 353 replaced by X\r\n",
        "Selenocysteine (U) at position 355 replaced by X\r\n",
        "Selenocysteine (U) at position 362 replaced by X\r\n",
        "Selenocysteine (U) at position 364 replaced by X\r\n",
        "Selenocysteine (U) at position 59 replaced by X\r\n",
        "Selenocysteine (U) at position 267 replaced by X\r\n",
        "Selenocysteine (U) at position 273 replaced by X\r\n",
        "Selenocysteine (U) at position 279 replaced by X\r\n",
        "Selenocysteine (U) at position 290 replaced by X\r\n",
        "Selenocysteine (U) at position 292 replaced by X\r\n",
        "Selenocysteine (U) at position 294 replaced by X\r\n",
        "Selenocysteine (U) at position 310 replaced by X\r\n",
        "Selenocysteine (U) at position 320 replaced by X\r\n",
        "Selenocysteine (U) at position 322 replaced by X\r\n",
        "Selenocysteine (U) at position 336 replaced by X\r\n",
        "Selenocysteine (U) at position 338 replaced by X\r\n",
        "Selenocysteine (U) at position 346 replaced by X\r\n",
        "Selenocysteine (U) at position 353 replaced by X\r\n",
        "Selenocysteine (U) at position 355 replaced by X\r\n",
        "Selenocysteine (U) at position 362 replaced by X\r\n",
        "Selenocysteine (U) at position 364 replaced by X\r\n"
       ]
      },
      {
       "output_type": "stream",
       "stream": "stdout",
       "text": [
        "Selenocysteine (U) at position 498 replaced by X\r\n",
        "Selenocysteine (U) at position 648 replaced by X\r\n",
        "Selenocysteine (U) at position 498 replaced by X\r\n",
        "Selenocysteine (U) at position 498 replaced by X\r\n",
        "Selenocysteine (U) at position 498 replaced by X\r\n"
       ]
      },
      {
       "output_type": "stream",
       "stream": "stdout",
       "text": [
        "Selenocysteine (U) at position 498 replaced by X\r\n",
        "Selenocysteine (U) at position 648 replaced by X\r\n",
        "Selenocysteine (U) at position 498 replaced by X\r\n",
        "Selenocysteine (U) at position 498 replaced by X\r\n",
        "Selenocysteine (U) at position 498 replaced by X\r\n"
       ]
      },
      {
       "output_type": "stream",
       "stream": "stdout",
       "text": [
        "Selenocysteine (U) at position 637 replaced by X\r\n"
       ]
      },
      {
       "output_type": "stream",
       "stream": "stdout",
       "text": [
        "Selenocysteine (U) at position 126 replaced by X\r\n"
       ]
      },
      {
       "output_type": "stream",
       "stream": "stdout",
       "text": [
        "Selenocysteine (U) at position 20 replaced by X\r\n",
        "Selenocysteine (U) at position 88 replaced by X\r\n"
       ]
      },
      {
       "output_type": "stream",
       "stream": "stdout",
       "text": [
        "Selenocysteine (U) at position 204 replaced by X\r\n",
        "Selenocysteine (U) at position 204 replaced by X\r\n"
       ]
      },
      {
       "output_type": "stream",
       "stream": "stdout",
       "text": [
        "Selenocysteine (U) at position 59 replaced by X\r\n",
        "Selenocysteine (U) at position 267 replaced by X\r\n",
        "Selenocysteine (U) at position 273 replaced by X\r\n",
        "Selenocysteine (U) at position 279 replaced by X\r\n",
        "Selenocysteine (U) at position 290 replaced by X\r\n",
        "Selenocysteine (U) at position 292 replaced by X\r\n",
        "Selenocysteine (U) at position 294 replaced by X\r\n",
        "Selenocysteine (U) at position 310 replaced by X\r\n",
        "Selenocysteine (U) at position 320 replaced by X\r\n",
        "Selenocysteine (U) at position 322 replaced by X\r\n",
        "Selenocysteine (U) at position 336 replaced by X\r\n",
        "Selenocysteine (U) at position 338 replaced by X\r\n",
        "Selenocysteine (U) at position 346 replaced by X\r\n",
        "Selenocysteine (U) at position 353 replaced by X\r\n",
        "Selenocysteine (U) at position 355 replaced by X\r\n",
        "Selenocysteine (U) at position 362 replaced by X\r\n",
        "Selenocysteine (U) at position 364 replaced by X\r\n"
       ]
      },
      {
       "output_type": "stream",
       "stream": "stdout",
       "text": [
        "Selenocysteine (U) at position 666 replaced by X\r\n",
        "Selenocysteine (U) at position 666 replaced by X\r\n",
        "Selenocysteine (U) at position 666 replaced by X\r\n"
       ]
      },
      {
       "output_type": "stream",
       "stream": "stdout",
       "text": [
        "Selenocysteine (U) at position 131 replaced by X\r\n"
       ]
      },
      {
       "output_type": "stream",
       "stream": "stdout",
       "text": [
        "Selenocysteine (U) at position 131 replaced by X\r\n"
       ]
      },
      {
       "output_type": "stream",
       "stream": "stdout",
       "text": [
        "Selenocysteine (U) at position 84 replaced by X\r\n"
       ]
      },
      {
       "output_type": "stream",
       "stream": "stdout",
       "text": [
        "Selenocysteine (U) at position 59 replaced by X\r\n",
        "Selenocysteine (U) at position 259 replaced by X\r\n",
        "Selenocysteine (U) at position 277 replaced by X\r\n",
        "Selenocysteine (U) at position 318 replaced by X\r\n",
        "Selenocysteine (U) at position 330 replaced by X\r\n",
        "Selenocysteine (U) at position 352 replaced by X\r\n",
        "Selenocysteine (U) at position 366 replaced by X\r\n",
        "Selenocysteine (U) at position 368 replaced by X\r\n",
        "Selenocysteine (U) at position 375 replaced by X\r\n",
        "Selenocysteine (U) at position 377 replaced by X\r\n"
       ]
      },
      {
       "output_type": "stream",
       "stream": "stdout",
       "text": [
        "Selenocysteine (U) at position 43 replaced by X\r\n"
       ]
      },
      {
       "output_type": "stream",
       "stream": "stdout",
       "text": [
        "Selenocysteine (U) at position 59 replaced by X\r\n",
        "Selenocysteine (U) at position 297 replaced by X\r\n",
        "Selenocysteine (U) at position 307 replaced by X\r\n",
        "Selenocysteine (U) at position 338 replaced by X\r\n",
        "Selenocysteine (U) at position 350 replaced by X\r\n",
        "Selenocysteine (U) at position 363 replaced by X\r\n",
        "Selenocysteine (U) at position 365 replaced by X\r\n",
        "Selenocysteine (U) at position 372 replaced by X\r\n",
        "Selenocysteine (U) at position 388 replaced by X\r\n",
        "Selenocysteine (U) at position 390 replaced by X\r\n",
        "Selenocysteine (U) at position 397 replaced by X\r\n",
        "Selenocysteine (U) at position 399 replaced by X\r\n"
       ]
      },
      {
       "output_type": "stream",
       "stream": "stdout",
       "text": [
        "Selenocysteine (U) at position 349 replaced by X\r\n"
       ]
      },
      {
       "output_type": "stream",
       "stream": "stdout",
       "text": [
        "Selenocysteine (U) at position 47 replaced by X\r\n"
       ]
      },
      {
       "output_type": "stream",
       "stream": "stdout",
       "text": [
        "Selenocysteine (U) at position 59 replaced by X\r\n",
        "Selenocysteine (U) at position 297 replaced by X\r\n",
        "Selenocysteine (U) at position 307 replaced by X\r\n",
        "Selenocysteine (U) at position 338 replaced by X\r\n",
        "Selenocysteine (U) at position 350 replaced by X\r\n",
        "Selenocysteine (U) at position 363 replaced by X\r\n",
        "Selenocysteine (U) at position 365 replaced by X\r\n",
        "Selenocysteine (U) at position 372 replaced by X\r\n",
        "Selenocysteine (U) at position 388 replaced by X\r\n",
        "Selenocysteine (U) at position 390 replaced by X\r\n",
        "Selenocysteine (U) at position 397 replaced by X\r\n",
        "Selenocysteine (U) at position 399 replaced by X\r\n"
       ]
      },
      {
       "output_type": "stream",
       "stream": "stdout",
       "text": [
        "Selenocysteine (U) at position 13 replaced by X\r\n",
        "Selenocysteine (U) at position 64 replaced by X\r\n"
       ]
      },
      {
       "output_type": "stream",
       "stream": "stdout",
       "text": [
        "Selenocysteine (U) at position 131 replaced by X\r\n",
        "Selenocysteine (U) at position 131 replaced by X\r\n"
       ]
      },
      {
       "output_type": "stream",
       "stream": "stdout",
       "text": [
        "Selenocysteine (U) at position 430 replaced by X\r\n"
       ]
      },
      {
       "output_type": "stream",
       "stream": "stdout",
       "text": [
        "Selenocysteine (U) at position 642 replaced by X\r\n"
       ]
      },
      {
       "output_type": "stream",
       "stream": "stdout",
       "text": [
        "Selenocysteine (U) at position 132 replaced by X\r\n"
       ]
      },
      {
       "output_type": "stream",
       "stream": "stdout",
       "text": [
        "Selenocysteine (U) at position 85 replaced by X\r\n"
       ]
      },
      {
       "output_type": "stream",
       "stream": "stdout",
       "text": [
        "Selenocysteine (U) at position 59 replaced by X\r\n",
        "Selenocysteine (U) at position 297 replaced by X\r\n",
        "Selenocysteine (U) at position 307 replaced by X\r\n",
        "Selenocysteine (U) at position 338 replaced by X\r\n",
        "Selenocysteine (U) at position 350 replaced by X\r\n",
        "Selenocysteine (U) at position 363 replaced by X\r\n",
        "Selenocysteine (U) at position 365 replaced by X\r\n",
        "Selenocysteine (U) at position 372 replaced by X\r\n",
        "Selenocysteine (U) at position 388 replaced by X\r\n",
        "Selenocysteine (U) at position 390 replaced by X\r\n",
        "Selenocysteine (U) at position 397 replaced by X\r\n",
        "Selenocysteine (U) at position 399 replaced by X\r\n"
       ]
      },
      {
       "output_type": "stream",
       "stream": "stdout",
       "text": [
        "Selenocysteine (U) at position 59 replaced by X\r\n",
        "Selenocysteine (U) at position 297 replaced by X\r\n",
        "Selenocysteine (U) at position 307 replaced by X\r\n",
        "Selenocysteine (U) at position 338 replaced by X\r\n",
        "Selenocysteine (U) at position 350 replaced by X\r\n",
        "Selenocysteine (U) at position 363 replaced by X\r\n",
        "Selenocysteine (U) at position 365 replaced by X\r\n",
        "Selenocysteine (U) at position 372 replaced by X\r\n",
        "Selenocysteine (U) at position 388 replaced by X\r\n",
        "Selenocysteine (U) at position 390 replaced by X\r\n",
        "Selenocysteine (U) at position 397 replaced by X\r\n",
        "Selenocysteine (U) at position 399 replaced by X\r\n"
       ]
      },
      {
       "output_type": "stream",
       "stream": "stdout",
       "text": [
        "Selenocysteine (U) at position 690 replaced by X\r\n"
       ]
      },
      {
       "output_type": "stream",
       "stream": "stdout",
       "text": [
        "Selenocysteine (U) at position 59 replaced by X\r\n",
        "Selenocysteine (U) at position 259 replaced by X\r\n",
        "Selenocysteine (U) at position 277 replaced by X\r\n",
        "Selenocysteine (U) at position 318 replaced by X\r\n",
        "Selenocysteine (U) at position 330 replaced by X\r\n",
        "Selenocysteine (U) at position 352 replaced by X\r\n",
        "Selenocysteine (U) at position 366 replaced by X\r\n",
        "Selenocysteine (U) at position 368 replaced by X\r\n",
        "Selenocysteine (U) at position 375 replaced by X\r\n",
        "Selenocysteine (U) at position 377 replaced by X\r\n"
       ]
      },
      {
       "output_type": "stream",
       "stream": "stdout",
       "text": [
        "Selenocysteine (U) at position 204 replaced by X\r\n"
       ]
      },
      {
       "output_type": "stream",
       "stream": "stdout",
       "text": [
        "Selenocysteine (U) at position 13 replaced by X\r\n",
        "Selenocysteine (U) at position 13 replaced by X\r\n",
        "Selenocysteine (U) at position 13 replaced by X\r\n",
        "Selenocysteine (U) at position 13 replaced by X\r\n"
       ]
      },
      {
       "output_type": "stream",
       "stream": "stdout",
       "text": [
        "Selenocysteine (U) at position 637 replaced by X\r\n"
       ]
      },
      {
       "output_type": "stream",
       "stream": "stdout",
       "text": [
        "Selenocysteine (U) at position 637 replaced by X\r\n"
       ]
      },
      {
       "output_type": "stream",
       "stream": "stdout",
       "text": [
        "Selenocysteine (U) at position 59 replaced by X\r\n",
        "Selenocysteine (U) at position 297 replaced by X\r\n",
        "Selenocysteine (U) at position 307 replaced by X\r\n",
        "Selenocysteine (U) at position 338 replaced by X\r\n",
        "Selenocysteine (U) at position 350 replaced by X\r\n",
        "Selenocysteine (U) at position 363 replaced by X\r\n",
        "Selenocysteine (U) at position 365 replaced by X\r\n",
        "Selenocysteine (U) at position 372 replaced by X\r\n",
        "Selenocysteine (U) at position 388 replaced by X\r\n",
        "Selenocysteine (U) at position 390 replaced by X\r\n",
        "Selenocysteine (U) at position 397 replaced by X\r\n",
        "Selenocysteine (U) at position 399 replaced by X\r\n"
       ]
      },
      {
       "output_type": "stream",
       "stream": "stdout",
       "text": [
        "Selenocysteine (U) at position 637 replaced by X\r\n",
        "Selenocysteine (U) at position 637 replaced by X\r\n",
        "Selenocysteine (U) at position 637 replaced by X\r\n",
        "Selenocysteine (U) at position 690 replaced by X\r\n",
        "Selenocysteine (U) at position 690 replaced by X\r\n",
        "Selenocysteine (U) at position 690 replaced by X\r\n"
       ]
      },
      {
       "output_type": "stream",
       "stream": "stdout",
       "text": [
        "Selenocysteine (U) at position 59 replaced by X\r\n",
        "Selenocysteine (U) at position 267 replaced by X\r\n",
        "Selenocysteine (U) at position 273 replaced by X\r\n",
        "Selenocysteine (U) at position 279 replaced by X\r\n",
        "Selenocysteine (U) at position 290 replaced by X\r\n",
        "Selenocysteine (U) at position 292 replaced by X\r\n",
        "Selenocysteine (U) at position 294 replaced by X\r\n",
        "Selenocysteine (U) at position 310 replaced by X\r\n",
        "Selenocysteine (U) at position 320 replaced by X\r\n",
        "Selenocysteine (U) at position 322 replaced by X\r\n",
        "Selenocysteine (U) at position 336 replaced by X\r\n",
        "Selenocysteine (U) at position 338 replaced by X\r\n",
        "Selenocysteine (U) at position 346 replaced by X\r\n",
        "Selenocysteine (U) at position 353 replaced by X\r\n",
        "Selenocysteine (U) at position 355 replaced by X\r\n",
        "Selenocysteine (U) at position 362 replaced by X\r\n",
        "Selenocysteine (U) at position 364 replaced by X\r\n"
       ]
      },
      {
       "output_type": "stream",
       "stream": "stdout",
       "text": [
        "Selenocysteine (U) at position 637 replaced by X\r\n",
        "Selenocysteine (U) at position 637 replaced by X\r\n",
        "Selenocysteine (U) at position 690 replaced by X\r\n",
        "Selenocysteine (U) at position 690 replaced by X\r\n",
        "Selenocysteine (U) at position 690 replaced by X\r\n",
        "Selenocysteine (U) at position 690 replaced by X\r\n",
        "Selenocysteine (U) at position 690 replaced by X\r\n"
       ]
      },
      {
       "output_type": "stream",
       "stream": "stdout",
       "text": [
        "Selenocysteine (U) at position 126 replaced by X\r\n",
        "Selenocysteine (U) at position 126 replaced by X\r\n"
       ]
      },
      {
       "output_type": "stream",
       "stream": "stdout",
       "text": [
        "Selenocysteine (U) at position 126 replaced by X\r\n",
        "Selenocysteine (U) at position 126 replaced by X\r\n"
       ]
      },
      {
       "output_type": "stream",
       "stream": "stdout",
       "text": [
        "Selenocysteine (U) at position 128 replaced by X\r\n",
        "Selenocysteine (U) at position 261 replaced by X\r\n"
       ]
      },
      {
       "output_type": "stream",
       "stream": "stdout",
       "text": [
        "Selenocysteine (U) at position 37 replaced by X\r\n"
       ]
      },
      {
       "output_type": "stream",
       "stream": "stdout",
       "text": [
        "Selenocysteine (U) at position 16 replaced by X\r\n",
        "Selenocysteine (U) at position 16 replaced by X\r\n"
       ]
      },
      {
       "output_type": "stream",
       "stream": "stdout",
       "text": [
        "Selenocysteine (U) at position 430 replaced by X\r\n"
       ]
      },
      {
       "output_type": "stream",
       "stream": "stdout",
       "text": [
        "Selenocysteine (U) at position 637 replaced by X\r\n",
        "Selenocysteine (U) at position 637 replaced by X\r\n",
        "Selenocysteine (U) at position 637 replaced by X\r\n"
       ]
      },
      {
       "output_type": "stream",
       "stream": "stdout",
       "text": [
        "Selenocysteine (U) at position 64 replaced by X\r\n"
       ]
      },
      {
       "output_type": "stream",
       "stream": "stdout",
       "text": [
        "Selenocysteine (U) at position 666 replaced by X\r\n",
        "Selenocysteine (U) at position 642 replaced by X\r\n"
       ]
      },
      {
       "output_type": "stream",
       "stream": "stdout",
       "text": [
        "Selenocysteine (U) at position 144 replaced by X\r\n",
        "Selenocysteine (U) at position 144 replaced by X\r\n",
        "Selenocysteine (U) at position 144 replaced by X\r\n",
        "Selenocysteine (U) at position 144 replaced by X\r\n"
       ]
      },
      {
       "output_type": "stream",
       "stream": "stdout",
       "text": [
        "Selenocysteine (U) at position 15 replaced by X\r\n",
        "Selenocysteine (U) at position 15 replaced by X\r\n",
        "Selenocysteine (U) at position 15 replaced by X\r\n",
        "Selenocysteine (U) at position 15 replaced by X\r\n"
       ]
      },
      {
       "output_type": "stream",
       "stream": "stdout",
       "text": [
        "Selenocysteine (U) at position 126 replaced by X\r\n"
       ]
      },
      {
       "output_type": "stream",
       "stream": "stdout",
       "text": [
        "Selenocysteine (U) at position 73 replaced by X\r\n",
        "Selenocysteine (U) at position 73 replaced by X\r\n",
        "Selenocysteine (U) at position 73 replaced by X\r\n",
        "Selenocysteine (U) at position 73 replaced by X\r\n",
        "Selenocysteine (U) at position 73 replaced by X\r\n",
        "Selenocysteine (U) at position 73 replaced by X\r\n",
        "Selenocysteine (U) at position 73 replaced by X\r\n"
       ]
      },
      {
       "output_type": "stream",
       "stream": "stdout",
       "text": [
        "Selenocysteine (U) at position 59 replaced by X\r\n",
        "Selenocysteine (U) at position 297 replaced by X\r\n",
        "Selenocysteine (U) at position 307 replaced by X\r\n",
        "Selenocysteine (U) at position 338 replaced by X\r\n",
        "Selenocysteine (U) at position 350 replaced by X\r\n",
        "Selenocysteine (U) at position 363 replaced by X\r\n",
        "Selenocysteine (U) at position 365 replaced by X\r\n",
        "Selenocysteine (U) at position 372 replaced by X\r\n",
        "Selenocysteine (U) at position 388 replaced by X\r\n",
        "Selenocysteine (U) at position 390 replaced by X\r\n",
        "Selenocysteine (U) at position 397 replaced by X\r\n",
        "Selenocysteine (U) at position 399 replaced by X\r\n",
        "Selenocysteine (U) at position 59 replaced by X\r\n",
        "Selenocysteine (U) at position 297 replaced by X\r\n",
        "Selenocysteine (U) at position 307 replaced by X\r\n",
        "Selenocysteine (U) at position 338 replaced by X\r\n",
        "Selenocysteine (U) at position 350 replaced by X\r\n",
        "Selenocysteine (U) at position 363 replaced by X\r\n",
        "Selenocysteine (U) at position 365 replaced by X\r\n",
        "Selenocysteine (U) at position 372 replaced by X\r\n",
        "Selenocysteine (U) at position 388 replaced by X\r\n",
        "Selenocysteine (U) at position 390 replaced by X\r\n",
        "Selenocysteine (U) at position 397 replaced by X\r\n",
        "Selenocysteine (U) at position 399 replaced by X\r\n"
       ]
      },
      {
       "output_type": "stream",
       "stream": "stdout",
       "text": [
        "Selenocysteine (U) at position 493 replaced by X\r\n",
        "Selenocysteine (U) at position 493 replaced by X\r\n"
       ]
      },
      {
       "output_type": "stream",
       "stream": "stdout",
       "text": [
        "Selenocysteine (U) at position 498 replaced by X\r\n",
        "Selenocysteine (U) at position 498 replaced by X\r\n",
        "Selenocysteine (U) at position 498 replaced by X\r\n",
        "Selenocysteine (U) at position 498 replaced by X\r\n"
       ]
      },
      {
       "output_type": "stream",
       "stream": "stdout",
       "text": [
        "Selenocysteine (U) at position 20 replaced by X\r\n",
        "Selenocysteine (U) at position 88 replaced by X\r\n",
        "Selenocysteine (U) at position 20 replaced by X\r\n",
        "Selenocysteine (U) at position 88 replaced by X\r\n"
       ]
      },
      {
       "output_type": "stream",
       "stream": "stdout",
       "text": [
        "Selenocysteine (U) at position 121 replaced by X\r\n",
        "Selenocysteine (U) at position 121 replaced by X\r\n",
        "Selenocysteine (U) at position 121 replaced by X\r\n",
        "Selenocysteine (U) at position 121 replaced by X\r\n",
        "Selenocysteine (U) at position 126 replaced by X\r\n",
        "Selenocysteine (U) at position 126 replaced by X\r\n",
        "Selenocysteine (U) at position 126 replaced by X\r\n",
        "Selenocysteine (U) at position 126 replaced by X\r\n",
        "Selenocysteine (U) at position 126 replaced by X\r\n",
        "Selenocysteine (U) at position 126 replaced by X\r\n",
        "Selenocysteine (U) at position 126 replaced by X\r\n",
        "Selenocysteine (U) at position 126 replaced by X\r\n",
        "Selenocysteine (U) at position 126 replaced by X\r\n",
        "Selenocysteine (U) at position 126 replaced by X\r\n",
        "Selenocysteine (U) at position 126 replaced by X\r\n",
        "Selenocysteine (U) at position 126 replaced by X\r\n"
       ]
      },
      {
       "output_type": "stream",
       "stream": "stdout",
       "text": [
        "Selenocysteine (U) at position 665 replaced by X\r\n"
       ]
      },
      {
       "output_type": "stream",
       "stream": "stdout",
       "text": [
        "Selenocysteine (U) at position 665 replaced by X\r\n",
        "Selenocysteine (U) at position 665 replaced by X\r\n"
       ]
      },
      {
       "output_type": "stream",
       "stream": "stdout",
       "text": [
        "Selenocysteine (U) at position 59 replaced by X\r\n",
        "Selenocysteine (U) at position 297 replaced by X\r\n",
        "Selenocysteine (U) at position 307 replaced by X\r\n",
        "Selenocysteine (U) at position 338 replaced by X\r\n",
        "Selenocysteine (U) at position 350 replaced by X\r\n",
        "Selenocysteine (U) at position 363 replaced by X\r\n",
        "Selenocysteine (U) at position 365 replaced by X\r\n",
        "Selenocysteine (U) at position 372 replaced by X\r\n",
        "Selenocysteine (U) at position 388 replaced by X\r\n",
        "Selenocysteine (U) at position 390 replaced by X\r\n",
        "Selenocysteine (U) at position 397 replaced by X\r\n",
        "Selenocysteine (U) at position 399 replaced by X\r\n",
        "Selenocysteine (U) at position 59 replaced by X\r\n",
        "Selenocysteine (U) at position 297 replaced by X\r\n",
        "Selenocysteine (U) at position 307 replaced by X\r\n",
        "Selenocysteine (U) at position 338 replaced by X\r\n",
        "Selenocysteine (U) at position 350 replaced by X\r\n",
        "Selenocysteine (U) at position 363 replaced by X\r\n",
        "Selenocysteine (U) at position 365 replaced by X\r\n",
        "Selenocysteine (U) at position 372 replaced by X\r\n",
        "Selenocysteine (U) at position 388 replaced by X\r\n",
        "Selenocysteine (U) at position 390 replaced by X\r\n",
        "Selenocysteine (U) at position 397 replaced by X\r\n",
        "Selenocysteine (U) at position 399 replaced by X\r\n"
       ]
      },
      {
       "output_type": "stream",
       "stream": "stdout",
       "text": [
        "Selenocysteine (U) at position 59 replaced by X\r\n",
        "Selenocysteine (U) at position 297 replaced by X\r\n",
        "Selenocysteine (U) at position 307 replaced by X\r\n",
        "Selenocysteine (U) at position 338 replaced by X\r\n",
        "Selenocysteine (U) at position 350 replaced by X\r\n",
        "Selenocysteine (U) at position 363 replaced by X\r\n",
        "Selenocysteine (U) at position 365 replaced by X\r\n",
        "Selenocysteine (U) at position 372 replaced by X\r\n",
        "Selenocysteine (U) at position 388 replaced by X\r\n",
        "Selenocysteine (U) at position 390 replaced by X\r\n",
        "Selenocysteine (U) at position 397 replaced by X\r\n",
        "Selenocysteine (U) at position 399 replaced by X\r\n"
       ]
      },
      {
       "output_type": "stream",
       "stream": "stdout",
       "text": [
        "Selenocysteine (U) at position 193 replaced by X\r\n"
       ]
      },
      {
       "output_type": "stream",
       "stream": "stdout",
       "text": [
        "Selenocysteine (U) at position 40 replaced by X\r\n",
        "Selenocysteine (U) at position 40 replaced by X\r\n",
        "Selenocysteine (U) at position 40 replaced by X\r\n",
        "Selenocysteine (U) at position 40 replaced by X\r\n",
        "Selenocysteine (U) at position 40 replaced by X\r\n"
       ]
      },
      {
       "output_type": "stream",
       "stream": "stdout",
       "text": [
        "Selenocysteine (U) at position 131 replaced by X\r\n"
       ]
      },
      {
       "output_type": "stream",
       "stream": "stdout",
       "text": [
        "Selenocysteine (U) at position 126 replaced by X\r\n"
       ]
      },
      {
       "output_type": "stream",
       "stream": "stdout",
       "text": [
        "Selenocysteine (U) at position 74 replaced by X\r\n"
       ]
      },
      {
       "output_type": "stream",
       "stream": "stdout",
       "text": [
        "Selenocysteine (U) at position 430 replaced by X\r\n",
        "Selenocysteine (U) at position 127 replaced by X\r\n",
        "Selenocysteine (U) at position 462 replaced by X\r\n",
        "Selenocysteine (U) at position 436 replaced by X\r\n"
       ]
      },
      {
       "output_type": "stream",
       "stream": "stdout",
       "text": [
        "Selenocysteine (U) at position 690 replaced by X\r\n"
       ]
      },
      {
       "output_type": "stream",
       "stream": "stdout",
       "text": [
        "Selenocysteine (U) at position 344 replaced by X\r\n"
       ]
      },
      {
       "output_type": "stream",
       "stream": "stdout",
       "text": [
        "Selenocysteine (U) at position 690 replaced by X\r\n"
       ]
      },
      {
       "output_type": "stream",
       "stream": "stdout",
       "text": [
        "Selenocysteine (U) at position 64 replaced by X\r\n",
        "Selenocysteine (U) at position 59 replaced by X\r\n",
        "Selenocysteine (U) at position 300 replaced by X\r\n",
        "Selenocysteine (U) at position 318 replaced by X\r\n",
        "Selenocysteine (U) at position 330 replaced by X\r\n",
        "Selenocysteine (U) at position 345 replaced by X\r\n",
        "Selenocysteine (U) at position 352 replaced by X\r\n",
        "Selenocysteine (U) at position 367 replaced by X\r\n",
        "Selenocysteine (U) at position 369 replaced by X\r\n",
        "Selenocysteine (U) at position 376 replaced by X\r\n",
        "Selenocysteine (U) at position 378 replaced by X\r\n",
        "Selenocysteine (U) at position 59 replaced by X\r\n",
        "Selenocysteine (U) at position 259 replaced by X\r\n",
        "Selenocysteine (U) at position 277 replaced by X\r\n",
        "Selenocysteine (U) at position 318 replaced by X\r\n",
        "Selenocysteine (U) at position 330 replaced by X\r\n",
        "Selenocysteine (U) at position 352 replaced by X\r\n",
        "Selenocysteine (U) at position 366 replaced by X\r\n",
        "Selenocysteine (U) at position 368 replaced by X\r\n",
        "Selenocysteine (U) at position 375 replaced by X\r\n",
        "Selenocysteine (U) at position 377 replaced by X\r\n",
        "Selenocysteine (U) at position 59 replaced by X\r\n",
        "Selenocysteine (U) at position 318 replaced by X\r\n",
        "Selenocysteine (U) at position 330 replaced by X\r\n",
        "Selenocysteine (U) at position 345 replaced by X\r\n",
        "Selenocysteine (U) at position 352 replaced by X\r\n",
        "Selenocysteine (U) at position 367 replaced by X\r\n",
        "Selenocysteine (U) at position 369 replaced by X\r\n",
        "Selenocysteine (U) at position 376 replaced by X\r\n",
        "Selenocysteine (U) at position 378 replaced by X\r\n",
        "Selenocysteine (U) at position 59 replaced by X\r\n",
        "Selenocysteine (U) at position 264 replaced by X\r\n",
        "Selenocysteine (U) at position 282 replaced by X\r\n",
        "Selenocysteine (U) at position 323 replaced by X\r\n",
        "Selenocysteine (U) at position 335 replaced by X\r\n",
        "Selenocysteine (U) at position 357 replaced by X\r\n",
        "Selenocysteine (U) at position 371 replaced by X\r\n",
        "Selenocysteine (U) at position 373 replaced by X\r\n",
        "Selenocysteine (U) at position 380 replaced by X\r\n",
        "Selenocysteine (U) at position 382 replaced by X\r\n"
       ]
      },
      {
       "output_type": "stream",
       "stream": "stdout",
       "text": [
        "Selenocysteine (U) at position 637 replaced by X\r\n",
        "Selenocysteine (U) at position 637 replaced by X\r\n"
       ]
      },
      {
       "output_type": "stream",
       "stream": "stdout",
       "text": [
        "Selenocysteine (U) at position 47 replaced by X\r\n"
       ]
      },
      {
       "output_type": "stream",
       "stream": "stdout",
       "text": [
        "Selenocysteine (U) at position 47 replaced by X\r\n"
       ]
      },
      {
       "output_type": "stream",
       "stream": "stdout",
       "text": [
        "Selenocysteine (U) at position 273 replaced by X\r\n"
       ]
      },
      {
       "output_type": "stream",
       "stream": "stdout",
       "text": [
        "Selenocysteine (U) at position 37 replaced by X\r\n"
       ]
      },
      {
       "output_type": "stream",
       "stream": "stdout",
       "text": [
        "Selenocysteine (U) at position 134 replaced by X\r\n"
       ]
      },
      {
       "output_type": "stream",
       "stream": "stdout",
       "text": [
        "Selenocysteine (U) at position 637 replaced by X\r\n"
       ]
      },
      {
       "output_type": "stream",
       "stream": "stdout",
       "text": [
        "Selenocysteine (U) at position 510 replaced by X\r\n",
        "Selenocysteine (U) at position 642 replaced by X\r\n"
       ]
      },
      {
       "output_type": "stream",
       "stream": "stdout",
       "text": [
        "Selenocysteine (U) at position 690 replaced by X\r\n"
       ]
      },
      {
       "output_type": "stream",
       "stream": "stdout",
       "text": [
        "Selenocysteine (U) at position 140 replaced by X\r\n",
        "Selenocysteine (U) at position 140 replaced by X\r\n"
       ]
      },
      {
       "output_type": "stream",
       "stream": "stdout",
       "text": [
        "Selenocysteine (U) at position 13 replaced by X\r\n",
        "Selenocysteine (U) at position 13 replaced by X\r\n",
        "Selenocysteine (U) at position 13 replaced by X\r\n",
        "Selenocysteine (U) at position 13 replaced by X\r\n",
        "Selenocysteine (U) at position 13 replaced by X\r\n",
        "Selenocysteine (U) at position 13 replaced by X\r\n",
        "Selenocysteine (U) at position 13 replaced by X\r\n"
       ]
      },
      {
       "output_type": "stream",
       "stream": "stdout",
       "text": [
        "Selenocysteine (U) at position 144 replaced by X\r\n",
        "Selenocysteine (U) at position 144 replaced by X\r\n",
        "Selenocysteine (U) at position 144 replaced by X\r\n",
        "Selenocysteine (U) at position 144 replaced by X\r\n"
       ]
      },
      {
       "output_type": "stream",
       "stream": "stdout",
       "text": [
        "Selenocysteine (U) at position 436 replaced by X\r\n"
       ]
      },
      {
       "output_type": "stream",
       "stream": "stdout",
       "text": [
        "Selenocysteine (U) at position 144 replaced by X\r\n",
        "Selenocysteine (U) at position 144 replaced by X\r\n",
        "Selenocysteine (U) at position 144 replaced by X\r\n",
        "Selenocysteine (U) at position 144 replaced by X\r\n"
       ]
      },
      {
       "output_type": "stream",
       "stream": "stdout",
       "text": [
        "Selenocysteine (U) at position 436 replaced by X\r\n"
       ]
      },
      {
       "output_type": "stream",
       "stream": "stdout",
       "text": [
        "Selenocysteine (U) at position 59 replaced by X\r\n",
        "Selenocysteine (U) at position 297 replaced by X\r\n",
        "Selenocysteine (U) at position 307 replaced by X\r\n",
        "Selenocysteine (U) at position 338 replaced by X\r\n",
        "Selenocysteine (U) at position 350 replaced by X\r\n",
        "Selenocysteine (U) at position 363 replaced by X\r\n",
        "Selenocysteine (U) at position 365 replaced by X\r\n",
        "Selenocysteine (U) at position 372 replaced by X\r\n",
        "Selenocysteine (U) at position 388 replaced by X\r\n",
        "Selenocysteine (U) at position 390 replaced by X\r\n",
        "Selenocysteine (U) at position 397 replaced by X\r\n",
        "Selenocysteine (U) at position 399 replaced by X\r\n"
       ]
      },
      {
       "output_type": "stream",
       "stream": "stdout",
       "text": [
        "Selenocysteine (U) at position 73 replaced by X\r\n"
       ]
      },
      {
       "output_type": "stream",
       "stream": "stdout",
       "text": [
        "Selenocysteine (U) at position 85 replaced by X\r\n",
        "Selenocysteine (U) at position 85 replaced by X\r\n",
        "Selenocysteine (U) at position 74 replaced by X\r\n",
        "Selenocysteine (U) at position 74 replaced by X\r\n"
       ]
      },
      {
       "output_type": "stream",
       "stream": "stdout",
       "text": [
        "Selenocysteine (U) at position 59 replaced by X\r\n",
        "Selenocysteine (U) at position 267 replaced by X\r\n",
        "Selenocysteine (U) at position 273 replaced by X\r\n",
        "Selenocysteine (U) at position 279 replaced by X\r\n",
        "Selenocysteine (U) at position 290 replaced by X\r\n",
        "Selenocysteine (U) at position 292 replaced by X\r\n",
        "Selenocysteine (U) at position 294 replaced by X\r\n",
        "Selenocysteine (U) at position 310 replaced by X\r\n",
        "Selenocysteine (U) at position 320 replaced by X\r\n",
        "Selenocysteine (U) at position 322 replaced by X\r\n",
        "Selenocysteine (U) at position 336 replaced by X\r\n",
        "Selenocysteine (U) at position 338 replaced by X\r\n",
        "Selenocysteine (U) at position 346 replaced by X\r\n",
        "Selenocysteine (U) at position 353 replaced by X\r\n",
        "Selenocysteine (U) at position 355 replaced by X\r\n",
        "Selenocysteine (U) at position 362 replaced by X\r\n",
        "Selenocysteine (U) at position 364 replaced by X\r\n"
       ]
      },
      {
       "output_type": "stream",
       "stream": "stdout",
       "text": [
        "Selenocysteine (U) at position 85 replaced by X\r\n",
        "Selenocysteine (U) at position 85 replaced by X\r\n",
        "Selenocysteine (U) at position 85 replaced by X\r\n",
        "Selenocysteine (U) at position 85 replaced by X\r\n",
        "Selenocysteine (U) at position 85 replaced by X\r\n",
        "Selenocysteine (U) at position 85 replaced by X\r\n",
        "Selenocysteine (U) at position 85 replaced by X\r\n",
        "Selenocysteine (U) at position 85 replaced by X\r\n",
        "Selenocysteine (U) at position 85 replaced by X\r\n",
        "Selenocysteine (U) at position 85 replaced by X\r\n",
        "Selenocysteine (U) at position 74 replaced by X\r\n",
        "Selenocysteine (U) at position 74 replaced by X\r\n",
        "Selenocysteine (U) at position 74 replaced by X\r\n",
        "Selenocysteine (U) at position 74 replaced by X\r\n",
        "Selenocysteine (U) at position 74 replaced by X\r\n",
        "Selenocysteine (U) at position 74 replaced by X\r\n",
        "Selenocysteine (U) at position 74 replaced by X\r\n",
        "Selenocysteine (U) at position 74 replaced by X\r\n"
       ]
      },
      {
       "output_type": "stream",
       "stream": "stdout",
       "text": [
        "Selenocysteine (U) at position 85 replaced by X\r\n",
        "Selenocysteine (U) at position 85 replaced by X\r\n",
        "Selenocysteine (U) at position 85 replaced by X\r\n",
        "Selenocysteine (U) at position 85 replaced by X\r\n",
        "Selenocysteine (U) at position 74 replaced by X\r\n",
        "Selenocysteine (U) at position 74 replaced by X\r\n",
        "Selenocysteine (U) at position 74 replaced by X\r\n"
       ]
      },
      {
       "output_type": "stream",
       "stream": "stdout",
       "text": [
        "Selenocysteine (U) at position 498 replaced by X\r\n",
        "Selenocysteine (U) at position 498 replaced by X\r\n",
        "Selenocysteine (U) at position 498 replaced by X\r\n",
        "Selenocysteine (U) at position 498 replaced by X\r\n",
        "Selenocysteine (U) at position 498 replaced by X\r\n",
        "Selenocysteine (U) at position 498 replaced by X\r\n",
        "Selenocysteine (U) at position 498 replaced by X\r\n",
        "Selenocysteine (U) at position 498 replaced by X\r\n",
        "Selenocysteine (U) at position 498 replaced by X\r\n",
        "Selenocysteine (U) at position 498 replaced by X\r\n",
        "Selenocysteine (U) at position 498 replaced by X\r\n",
        "Selenocysteine (U) at position 498 replaced by X\r\n",
        "Selenocysteine (U) at position 498 replaced by X\r\n",
        "Selenocysteine (U) at position 498 replaced by X\r\n",
        "Selenocysteine (U) at position 498 replaced by X\r\n",
        "Selenocysteine (U) at position 498 replaced by X\r\n",
        "Selenocysteine (U) at position 498 replaced by X\r\n",
        "Selenocysteine (U) at position 498 replaced by X\r\n",
        "Selenocysteine (U) at position 498 replaced by X\r\n",
        "Selenocysteine (U) at position 498 replaced by X\r\n",
        "Selenocysteine (U) at position 498 replaced by X\r\n",
        "Selenocysteine (U) at position 498 replaced by X\r\n",
        "Selenocysteine (U) at position 498 replaced by X\r\n",
        "Selenocysteine (U) at position 498 replaced by X\r\n",
        "Selenocysteine (U) at position 666 replaced by X\r\n",
        "Selenocysteine (U) at position 666 replaced by X\r\n",
        "Selenocysteine (U) at position 666 replaced by X\r\n",
        "Selenocysteine (U) at position 666 replaced by X\r\n",
        "Selenocysteine (U) at position 666 replaced by X\r\n",
        "Selenocysteine (U) at position 666 replaced by X\r\n",
        "Selenocysteine (U) at position 666 replaced by X\r\n",
        "Selenocysteine (U) at position 666 replaced by X\r\n",
        "Selenocysteine (U) at position 666 replaced by X\r\n",
        "Selenocysteine (U) at position 666 replaced by X\r\n",
        "Selenocysteine (U) at position 666 replaced by X\r\n",
        "Selenocysteine (U) at position 666 replaced by X\r\n",
        "Selenocysteine (U) at position 666 replaced by X\r\n",
        "Selenocysteine (U) at position 666 replaced by X\r\n",
        "Selenocysteine (U) at position 666 replaced by X\r\n",
        "Selenocysteine (U) at position 666 replaced by X\r\n",
        "Selenocysteine (U) at position 666 replaced by X\r\n",
        "Selenocysteine (U) at position 666 replaced by X\r\n",
        "Selenocysteine (U) at position 666 replaced by X\r\n",
        "Selenocysteine (U) at position 666 replaced by X\r\n",
        "Selenocysteine (U) at position 666 replaced by X\r\n",
        "Selenocysteine (U) at position 666 replaced by X\r\n",
        "Selenocysteine (U) at position 494 replaced by X\r\n",
        "Selenocysteine (U) at position 494 replaced by X\r\n",
        "Selenocysteine (U) at position 494 replaced by X\r\n",
        "Selenocysteine (U) at position 494 replaced by X\r\n",
        "Selenocysteine (U) at position 494 replaced by X\r\n",
        "Selenocysteine (U) at position 494 replaced by X\r\n",
        "Selenocysteine (U) at position 494 replaced by X\r\n",
        "Selenocysteine (U) at position 494 replaced by X\r\n",
        "Selenocysteine (U) at position 494 replaced by X\r\n",
        "Selenocysteine (U) at position 494 replaced by X\r\n",
        "Selenocysteine (U) at position 494 replaced by X\r\n",
        "Selenocysteine (U) at position 494 replaced by X\r\n",
        "Selenocysteine (U) at position 494 replaced by X\r\n",
        "Selenocysteine (U) at position 494 replaced by X\r\n",
        "Selenocysteine (U) at position 494 replaced by X\r\n",
        "Selenocysteine (U) at position 494 replaced by X\r\n",
        "Selenocysteine (U) at position 494 replaced by X\r\n",
        "Selenocysteine (U) at position 494 replaced by X\r\n",
        "Selenocysteine (U) at position 494 replaced by X\r\n",
        "Selenocysteine (U) at position 494 replaced by X\r\n",
        "Selenocysteine (U) at position 494 replaced by X\r\n",
        "Selenocysteine (U) at position 494 replaced by X\r\n",
        "Selenocysteine (U) at position 494 replaced by X\r\n",
        "Selenocysteine (U) at position 494 replaced by X\r\n",
        "Selenocysteine (U) at position 648 replaced by X\r\n",
        "Selenocysteine (U) at position 648 replaced by X\r\n",
        "Selenocysteine (U) at position 648 replaced by X\r\n",
        "Selenocysteine (U) at position 648 replaced by X\r\n",
        "Selenocysteine (U) at position 648 replaced by X\r\n",
        "Selenocysteine (U) at position 648 replaced by X\r\n",
        "Selenocysteine (U) at position 648 replaced by X\r\n",
        "Selenocysteine (U) at position 648 replaced by X\r\n"
       ]
      },
      {
       "output_type": "stream",
       "stream": "stdout",
       "text": [
        "Selenocysteine (U) at position 648 replaced by X\r\n",
        "Selenocysteine (U) at position 648 replaced by X\r\n",
        "Selenocysteine (U) at position 648 replaced by X\r\n",
        "Selenocysteine (U) at position 648 replaced by X\r\n",
        "Selenocysteine (U) at position 648 replaced by X\r\n",
        "Selenocysteine (U) at position 648 replaced by X\r\n",
        "Selenocysteine (U) at position 648 replaced by X\r\n",
        "Selenocysteine (U) at position 648 replaced by X\r\n",
        "Selenocysteine (U) at position 648 replaced by X\r\n",
        "Selenocysteine (U) at position 648 replaced by X\r\n",
        "Selenocysteine (U) at position 648 replaced by X\r\n",
        "Selenocysteine (U) at position 648 replaced by X\r\n",
        "Selenocysteine (U) at position 648 replaced by X\r\n",
        "Selenocysteine (U) at position 648 replaced by X\r\n",
        "Selenocysteine (U) at position 648 replaced by X\r\n",
        "Selenocysteine (U) at position 648 replaced by X\r\n",
        "Selenocysteine (U) at position 612 replaced by X\r\n",
        "Selenocysteine (U) at position 612 replaced by X\r\n",
        "Selenocysteine (U) at position 612 replaced by X\r\n",
        "Selenocysteine (U) at position 612 replaced by X\r\n",
        "Selenocysteine (U) at position 612 replaced by X\r\n",
        "Selenocysteine (U) at position 612 replaced by X\r\n",
        "Selenocysteine (U) at position 612 replaced by X\r\n",
        "Selenocysteine (U) at position 612 replaced by X\r\n",
        "Selenocysteine (U) at position 612 replaced by X\r\n",
        "Selenocysteine (U) at position 612 replaced by X\r\n",
        "Selenocysteine (U) at position 612 replaced by X\r\n",
        "Selenocysteine (U) at position 612 replaced by X\r\n",
        "Selenocysteine (U) at position 612 replaced by X\r\n",
        "Selenocysteine (U) at position 612 replaced by X\r\n",
        "Selenocysteine (U) at position 612 replaced by X\r\n",
        "Selenocysteine (U) at position 612 replaced by X\r\n",
        "Selenocysteine (U) at position 612 replaced by X\r\n",
        "Selenocysteine (U) at position 612 replaced by X\r\n",
        "Selenocysteine (U) at position 612 replaced by X\r\n",
        "Selenocysteine (U) at position 612 replaced by X\r\n",
        "Selenocysteine (U) at position 612 replaced by X\r\n",
        "Selenocysteine (U) at position 612 replaced by X\r\n",
        "Selenocysteine (U) at position 612 replaced by X\r\n",
        "Selenocysteine (U) at position 612 replaced by X\r\n",
        "Selenocysteine (U) at position 612 replaced by X\r\n",
        "Selenocysteine (U) at position 612 replaced by X\r\n",
        "Selenocysteine (U) at position 498 replaced by X\r\n",
        "Selenocysteine (U) at position 498 replaced by X\r\n",
        "Selenocysteine (U) at position 498 replaced by X\r\n",
        "Selenocysteine (U) at position 498 replaced by X\r\n",
        "Selenocysteine (U) at position 498 replaced by X\r\n",
        "Selenocysteine (U) at position 498 replaced by X\r\n",
        "Selenocysteine (U) at position 498 replaced by X\r\n",
        "Selenocysteine (U) at position 498 replaced by X\r\n",
        "Selenocysteine (U) at position 498 replaced by X\r\n",
        "Selenocysteine (U) at position 498 replaced by X\r\n",
        "Selenocysteine (U) at position 498 replaced by X\r\n",
        "Selenocysteine (U) at position 498 replaced by X\r\n",
        "Selenocysteine (U) at position 498 replaced by X\r\n",
        "Selenocysteine (U) at position 498 replaced by X\r\n",
        "Selenocysteine (U) at position 498 replaced by X\r\n",
        "Selenocysteine (U) at position 498 replaced by X\r\n",
        "Selenocysteine (U) at position 498 replaced by X\r\n",
        "Selenocysteine (U) at position 498 replaced by X\r\n",
        "Selenocysteine (U) at position 498 replaced by X\r\n",
        "Selenocysteine (U) at position 498 replaced by X\r\n",
        "Selenocysteine (U) at position 498 replaced by X\r\n",
        "Selenocysteine (U) at position 498 replaced by X\r\n",
        "Selenocysteine (U) at position 498 replaced by X\r\n",
        "Selenocysteine (U) at position 498 replaced by X\r\n",
        "Selenocysteine (U) at position 498 replaced by X\r\n",
        "Selenocysteine (U) at position 498 replaced by X\r\n",
        "Selenocysteine (U) at position 498 replaced by X\r\n",
        "Selenocysteine (U) at position 498 replaced by X\r\n",
        "Selenocysteine (U) at position 498 replaced by X\r\n",
        "Selenocysteine (U) at position 498 replaced by X\r\n",
        "Selenocysteine (U) at position 498 replaced by X\r\n",
        "Selenocysteine (U) at position 498 replaced by X\r\n",
        "Selenocysteine (U) at position 498 replaced by X\r\n",
        "Selenocysteine (U) at position 498 replaced by X\r\n",
        "Selenocysteine (U) at position 498 replaced by X\r\n",
        "Selenocysteine (U) at position 498 replaced by X\r\n",
        "Selenocysteine (U) at position 498 replaced by X\r\n",
        "Selenocysteine (U) at position 498 replaced by X\r\n",
        "Selenocysteine (U) at position 498 replaced by X\r\n",
        "Selenocysteine (U) at position 498 replaced by X\r\n",
        "Selenocysteine (U) at position 498 replaced by X\r\n",
        "Selenocysteine (U) at position 498 replaced by X\r\n",
        "Selenocysteine (U) at position 498 replaced by X\r\n",
        "Selenocysteine (U) at position 498 replaced by X\r\n",
        "Selenocysteine (U) at position 498 replaced by X\r\n",
        "Selenocysteine (U) at position 498 replaced by X\r\n",
        "Selenocysteine (U) at position 498 replaced by X\r\n",
        "Selenocysteine (U) at position 498 replaced by X\r\n",
        "Selenocysteine (U) at position 498 replaced by X\r\n",
        "Selenocysteine (U) at position 498 replaced by X\r\n",
        "Selenocysteine (U) at position 498 replaced by X\r\n",
        "Selenocysteine (U) at position 498 replaced by X\r\n",
        "Selenocysteine (U) at position 498 replaced by X\r\n",
        "Selenocysteine (U) at position 498 replaced by X\r\n",
        "Selenocysteine (U) at position 498 replaced by X\r\n",
        "Selenocysteine (U) at position 498 replaced by X\r\n",
        "Selenocysteine (U) at position 498 replaced by X\r\n",
        "Selenocysteine (U) at position 498 replaced by X\r\n",
        "Selenocysteine (U) at position 498 replaced by X\r\n",
        "Selenocysteine (U) at position 498 replaced by X\r\n",
        "Selenocysteine (U) at position 498 replaced by X\r\n",
        "Selenocysteine (U) at position 498 replaced by X\r\n"
       ]
      },
      {
       "output_type": "stream",
       "stream": "stdout",
       "text": [
        "Selenocysteine (U) at position 498 replaced by X\r\n",
        "Selenocysteine (U) at position 498 replaced by X\r\n",
        "Selenocysteine (U) at position 498 replaced by X\r\n",
        "Selenocysteine (U) at position 498 replaced by X\r\n",
        "Selenocysteine (U) at position 498 replaced by X\r\n",
        "Selenocysteine (U) at position 498 replaced by X\r\n",
        "Selenocysteine (U) at position 498 replaced by X\r\n",
        "Selenocysteine (U) at position 498 replaced by X\r\n",
        "Selenocysteine (U) at position 498 replaced by X\r\n",
        "Selenocysteine (U) at position 498 replaced by X\r\n",
        "Selenocysteine (U) at position 510 replaced by X\r\n",
        "Selenocysteine (U) at position 510 replaced by X\r\n",
        "Selenocysteine (U) at position 510 replaced by X\r\n",
        "Selenocysteine (U) at position 510 replaced by X\r\n",
        "Selenocysteine (U) at position 510 replaced by X\r\n",
        "Selenocysteine (U) at position 510 replaced by X\r\n",
        "Selenocysteine (U) at position 510 replaced by X\r\n",
        "Selenocysteine (U) at position 510 replaced by X\r\n",
        "Selenocysteine (U) at position 510 replaced by X\r\n",
        "Selenocysteine (U) at position 510 replaced by X\r\n",
        "Selenocysteine (U) at position 510 replaced by X\r\n",
        "Selenocysteine (U) at position 510 replaced by X\r\n",
        "Selenocysteine (U) at position 510 replaced by X\r\n",
        "Selenocysteine (U) at position 510 replaced by X\r\n",
        "Selenocysteine (U) at position 510 replaced by X\r\n",
        "Selenocysteine (U) at position 510 replaced by X\r\n",
        "Selenocysteine (U) at position 510 replaced by X\r\n",
        "Selenocysteine (U) at position 510 replaced by X\r\n",
        "Selenocysteine (U) at position 510 replaced by X\r\n",
        "Selenocysteine (U) at position 510 replaced by X\r\n",
        "Selenocysteine (U) at position 523 replaced by X\r\n",
        "Selenocysteine (U) at position 523 replaced by X\r\n",
        "Selenocysteine (U) at position 523 replaced by X\r\n",
        "Selenocysteine (U) at position 523 replaced by X\r\n",
        "Selenocysteine (U) at position 523 replaced by X\r\n",
        "Selenocysteine (U) at position 523 replaced by X\r\n",
        "Selenocysteine (U) at position 523 replaced by X\r\n",
        "Selenocysteine (U) at position 523 replaced by X\r\n",
        "Selenocysteine (U) at position 523 replaced by X\r\n",
        "Selenocysteine (U) at position 523 replaced by X\r\n",
        "Selenocysteine (U) at position 523 replaced by X\r\n",
        "Selenocysteine (U) at position 523 replaced by X\r\n",
        "Selenocysteine (U) at position 523 replaced by X\r\n",
        "Selenocysteine (U) at position 523 replaced by X\r\n",
        "Selenocysteine (U) at position 523 replaced by X\r\n",
        "Selenocysteine (U) at position 523 replaced by X\r\n",
        "Selenocysteine (U) at position 523 replaced by X\r\n",
        "Selenocysteine (U) at position 523 replaced by X\r\n",
        "Selenocysteine (U) at position 523 replaced by X\r\n",
        "Selenocysteine (U) at position 523 replaced by X\r\n",
        "Selenocysteine (U) at position 523 replaced by X\r\n",
        "Selenocysteine (U) at position 523 replaced by X\r\n",
        "Selenocysteine (U) at position 523 replaced by X\r\n",
        "Selenocysteine (U) at position 523 replaced by X\r\n",
        "Selenocysteine (U) at position 523 replaced by X\r\n",
        "Selenocysteine (U) at position 523 replaced by X\r\n",
        "Selenocysteine (U) at position 523 replaced by X\r\n",
        "Selenocysteine (U) at position 523 replaced by X\r\n",
        "Selenocysteine (U) at position 523 replaced by X\r\n",
        "Selenocysteine (U) at position 523 replaced by X\r\n",
        "Selenocysteine (U) at position 523 replaced by X\r\n",
        "Selenocysteine (U) at position 523 replaced by X\r\n",
        "Selenocysteine (U) at position 523 replaced by X\r\n",
        "Selenocysteine (U) at position 523 replaced by X\r\n",
        "Selenocysteine (U) at position 523 replaced by X\r\n",
        "Selenocysteine (U) at position 523 replaced by X\r\n",
        "Selenocysteine (U) at position 523 replaced by X\r\n",
        "Selenocysteine (U) at position 523 replaced by X\r\n",
        "Selenocysteine (U) at position 523 replaced by X\r\n",
        "Selenocysteine (U) at position 523 replaced by X\r\n",
        "Selenocysteine (U) at position 523 replaced by X\r\n",
        "Selenocysteine (U) at position 523 replaced by X\r\n",
        "Selenocysteine (U) at position 525 replaced by X\r\n",
        "Selenocysteine (U) at position 525 replaced by X\r\n",
        "Selenocysteine (U) at position 525 replaced by X\r\n",
        "Selenocysteine (U) at position 525 replaced by X\r\n",
        "Selenocysteine (U) at position 525 replaced by X\r\n",
        "Selenocysteine (U) at position 525 replaced by X\r\n",
        "Selenocysteine (U) at position 525 replaced by X\r\n",
        "Selenocysteine (U) at position 525 replaced by X\r\n",
        "Selenocysteine (U) at position 525 replaced by X\r\n",
        "Selenocysteine (U) at position 525 replaced by X\r\n",
        "Selenocysteine (U) at position 525 replaced by X\r\n",
        "Selenocysteine (U) at position 525 replaced by X\r\n",
        "Selenocysteine (U) at position 525 replaced by X\r\n",
        "Selenocysteine (U) at position 525 replaced by X\r\n",
        "Selenocysteine (U) at position 525 replaced by X\r\n",
        "Selenocysteine (U) at position 525 replaced by X\r\n",
        "Selenocysteine (U) at position 525 replaced by X\r\n",
        "Selenocysteine (U) at position 525 replaced by X\r\n",
        "Selenocysteine (U) at position 525 replaced by X\r\n",
        "Selenocysteine (U) at position 525 replaced by X\r\n",
        "Selenocysteine (U) at position 642 replaced by X\r\n",
        "Selenocysteine (U) at position 642 replaced by X\r\n",
        "Selenocysteine (U) at position 642 replaced by X\r\n",
        "Selenocysteine (U) at position 642 replaced by X\r\n",
        "Selenocysteine (U) at position 642 replaced by X\r\n",
        "Selenocysteine (U) at position 642 replaced by X\r\n",
        "Selenocysteine (U) at position 642 replaced by X\r\n",
        "Selenocysteine (U) at position 642 replaced by X\r\n",
        "Selenocysteine (U) at position 642 replaced by X\r\n",
        "Selenocysteine (U) at position 642 replaced by X\r\n",
        "Selenocysteine (U) at position 642 replaced by X\r\n",
        "Selenocysteine (U) at position 642 replaced by X\r\n",
        "Selenocysteine (U) at position 642 replaced by X\r\n",
        "Selenocysteine (U) at position 642 replaced by X\r\n",
        "Selenocysteine (U) at position 642 replaced by X\r\n"
       ]
      },
      {
       "output_type": "stream",
       "stream": "stdout",
       "text": [
        "Selenocysteine (U) at position 642 replaced by X\r\n",
        "Selenocysteine (U) at position 642 replaced by X\r\n",
        "Selenocysteine (U) at position 642 replaced by X\r\n",
        "Selenocysteine (U) at position 642 replaced by X\r\n",
        "Selenocysteine (U) at position 642 replaced by X\r\n",
        "Selenocysteine (U) at position 642 replaced by X\r\n",
        "Selenocysteine (U) at position 642 replaced by X\r\n",
        "Selenocysteine (U) at position 642 replaced by X\r\n",
        "Selenocysteine (U) at position 642 replaced by X\r\n",
        "Selenocysteine (U) at position 642 replaced by X\r\n",
        "Selenocysteine (U) at position 642 replaced by X\r\n",
        "Selenocysteine (U) at position 651 replaced by X\r\n",
        "Selenocysteine (U) at position 651 replaced by X\r\n",
        "Selenocysteine (U) at position 651 replaced by X\r\n",
        "Selenocysteine (U) at position 651 replaced by X\r\n",
        "Selenocysteine (U) at position 651 replaced by X\r\n",
        "Selenocysteine (U) at position 651 replaced by X\r\n",
        "Selenocysteine (U) at position 651 replaced by X\r\n",
        "Selenocysteine (U) at position 651 replaced by X\r\n",
        "Selenocysteine (U) at position 651 replaced by X\r\n",
        "Selenocysteine (U) at position 651 replaced by X\r\n",
        "Selenocysteine (U) at position 651 replaced by X\r\n",
        "Selenocysteine (U) at position 651 replaced by X\r\n",
        "Selenocysteine (U) at position 651 replaced by X\r\n",
        "Selenocysteine (U) at position 651 replaced by X\r\n",
        "Selenocysteine (U) at position 651 replaced by X\r\n",
        "Selenocysteine (U) at position 651 replaced by X\r\n",
        "Selenocysteine (U) at position 651 replaced by X\r\n",
        "Selenocysteine (U) at position 651 replaced by X\r\n",
        "Selenocysteine (U) at position 651 replaced by X\r\n",
        "Selenocysteine (U) at position 651 replaced by X\r\n",
        "Selenocysteine (U) at position 651 replaced by X\r\n",
        "Selenocysteine (U) at position 651 replaced by X\r\n",
        "Selenocysteine (U) at position 651 replaced by X\r\n",
        "Selenocysteine (U) at position 651 replaced by X\r\n",
        "Selenocysteine (U) at position 651 replaced by X\r\n",
        "Selenocysteine (U) at position 651 replaced by X\r\n",
        "Selenocysteine (U) at position 651 replaced by X\r\n",
        "Selenocysteine (U) at position 651 replaced by X\r\n",
        "Selenocysteine (U) at position 651 replaced by X\r\n"
       ]
      },
      {
       "output_type": "stream",
       "stream": "stdout",
       "text": [
        "Selenocysteine (U) at position 613 replaced by X\r\n",
        "Selenocysteine (U) at position 613 replaced by X\r\n",
        "Selenocysteine (U) at position 613 replaced by X\r\n",
        "Selenocysteine (U) at position 613 replaced by X\r\n",
        "Selenocysteine (U) at position 613 replaced by X\r\n",
        "Selenocysteine (U) at position 613 replaced by X\r\n",
        "Selenocysteine (U) at position 613 replaced by X\r\n"
       ]
      },
      {
       "output_type": "stream",
       "stream": "stdout",
       "text": [
        "Selenocysteine (U) at position 613 replaced by X\r\n",
        "Selenocysteine (U) at position 613 replaced by X\r\n"
       ]
      },
      {
       "output_type": "stream",
       "stream": "stdout",
       "text": [
        "Selenocysteine (U) at position 196 replaced by X\r\n"
       ]
      },
      {
       "output_type": "stream",
       "stream": "stdout",
       "text": [
        "Selenocysteine (U) at position 637 replaced by X\r\n",
        "Selenocysteine (U) at position 690 replaced by X\r\n"
       ]
      },
      {
       "output_type": "stream",
       "stream": "stdout",
       "text": [
        "Selenocysteine (U) at position 637 replaced by X\r\n",
        "Selenocysteine (U) at position 690 replaced by X\r\n"
       ]
      },
      {
       "output_type": "stream",
       "stream": "stdout",
       "text": [
        "Selenocysteine (U) at position 59 replaced by X\r\n",
        "Selenocysteine (U) at position 297 replaced by X\r\n",
        "Selenocysteine (U) at position 307 replaced by X\r\n",
        "Selenocysteine (U) at position 338 replaced by X\r\n",
        "Selenocysteine (U) at position 350 replaced by X\r\n",
        "Selenocysteine (U) at position 363 replaced by X\r\n",
        "Selenocysteine (U) at position 365 replaced by X\r\n",
        "Selenocysteine (U) at position 372 replaced by X\r\n",
        "Selenocysteine (U) at position 388 replaced by X\r\n",
        "Selenocysteine (U) at position 390 replaced by X\r\n",
        "Selenocysteine (U) at position 397 replaced by X\r\n",
        "Selenocysteine (U) at position 399 replaced by X\r\n"
       ]
      },
      {
       "output_type": "stream",
       "stream": "stdout",
       "text": [
        "Selenocysteine (U) at position 59 replaced by X\r\n",
        "Selenocysteine (U) at position 297 replaced by X\r\n",
        "Selenocysteine (U) at position 307 replaced by X\r\n",
        "Selenocysteine (U) at position 338 replaced by X\r\n",
        "Selenocysteine (U) at position 350 replaced by X\r\n",
        "Selenocysteine (U) at position 363 replaced by X\r\n",
        "Selenocysteine (U) at position 365 replaced by X\r\n",
        "Selenocysteine (U) at position 372 replaced by X\r\n",
        "Selenocysteine (U) at position 388 replaced by X\r\n",
        "Selenocysteine (U) at position 390 replaced by X\r\n",
        "Selenocysteine (U) at position 397 replaced by X\r\n",
        "Selenocysteine (U) at position 399 replaced by X\r\n"
       ]
      },
      {
       "output_type": "stream",
       "stream": "stdout",
       "text": [
        "Selenocysteine (U) at position 59 replaced by X\r\n",
        "Selenocysteine (U) at position 300 replaced by X\r\n",
        "Selenocysteine (U) at position 318 replaced by X\r\n",
        "Selenocysteine (U) at position 330 replaced by X\r\n",
        "Selenocysteine (U) at position 345 replaced by X\r\n",
        "Selenocysteine (U) at position 352 replaced by X\r\n",
        "Selenocysteine (U) at position 367 replaced by X\r\n",
        "Selenocysteine (U) at position 369 replaced by X\r\n",
        "Selenocysteine (U) at position 376 replaced by X\r\n",
        "Selenocysteine (U) at position 378 replaced by X\r\n",
        "Selenocysteine (U) at position 59 replaced by X\r\n",
        "Selenocysteine (U) at position 318 replaced by X\r\n",
        "Selenocysteine (U) at position 330 replaced by X\r\n",
        "Selenocysteine (U) at position 345 replaced by X\r\n",
        "Selenocysteine (U) at position 352 replaced by X\r\n",
        "Selenocysteine (U) at position 367 replaced by X\r\n",
        "Selenocysteine (U) at position 369 replaced by X\r\n",
        "Selenocysteine (U) at position 376 replaced by X\r\n",
        "Selenocysteine (U) at position 378 replaced by X\r\n"
       ]
      },
      {
       "output_type": "stream",
       "stream": "stdout",
       "text": [
        "Selenocysteine (U) at position 21 replaced by X\r\n"
       ]
      },
      {
       "output_type": "stream",
       "stream": "stdout",
       "text": [
        "Selenocysteine (U) at position 59 replaced by X\r\n",
        "Selenocysteine (U) at position 300 replaced by X\r\n",
        "Selenocysteine (U) at position 318 replaced by X\r\n",
        "Selenocysteine (U) at position 330 replaced by X\r\n",
        "Selenocysteine (U) at position 345 replaced by X\r\n",
        "Selenocysteine (U) at position 352 replaced by X\r\n",
        "Selenocysteine (U) at position 367 replaced by X\r\n",
        "Selenocysteine (U) at position 369 replaced by X\r\n",
        "Selenocysteine (U) at position 376 replaced by X\r\n",
        "Selenocysteine (U) at position 378 replaced by X\r\n",
        "Selenocysteine (U) at position 59 replaced by X\r\n",
        "Selenocysteine (U) at position 300 replaced by X\r\n",
        "Selenocysteine (U) at position 318 replaced by X\r\n",
        "Selenocysteine (U) at position 330 replaced by X\r\n",
        "Selenocysteine (U) at position 345 replaced by X\r\n",
        "Selenocysteine (U) at position 352 replaced by X\r\n",
        "Selenocysteine (U) at position 367 replaced by X\r\n",
        "Selenocysteine (U) at position 369 replaced by X\r\n",
        "Selenocysteine (U) at position 376 replaced by X\r\n",
        "Selenocysteine (U) at position 378 replaced by X\r\n"
       ]
      },
      {
       "output_type": "stream",
       "stream": "stdout",
       "text": [
        "Selenocysteine (U) at position 59 replaced by X\r\n",
        "Selenocysteine (U) at position 300 replaced by X\r\n",
        "Selenocysteine (U) at position 318 replaced by X\r\n",
        "Selenocysteine (U) at position 330 replaced by X\r\n",
        "Selenocysteine (U) at position 345 replaced by X\r\n",
        "Selenocysteine (U) at position 352 replaced by X\r\n",
        "Selenocysteine (U) at position 367 replaced by X\r\n",
        "Selenocysteine (U) at position 369 replaced by X\r\n",
        "Selenocysteine (U) at position 376 replaced by X\r\n",
        "Selenocysteine (U) at position 378 replaced by X\r\n"
       ]
      },
      {
       "output_type": "stream",
       "stream": "stdout",
       "text": [
        "Selenocysteine (U) at position 49 replaced by X\r\n",
        "Selenocysteine (U) at position 49 replaced by X\r\n",
        "Selenocysteine (U) at position 47 replaced by X\r\n",
        "Selenocysteine (U) at position 47 replaced by X\r\n",
        "Selenocysteine (U) at position 47 replaced by X\r\n",
        "Selenocysteine (U) at position 47 replaced by X\r\n",
        "Selenocysteine (U) at position 47 replaced by X\r\n",
        "Selenocysteine (U) at position 47 replaced by X\r\n",
        "Selenocysteine (U) at position 47 replaced by X\r\n",
        "Selenocysteine (U) at position 47 replaced by X\r\n",
        "Selenocysteine (U) at position 47 replaced by X\r\n",
        "Selenocysteine (U) at position 47 replaced by X\r\n",
        "Selenocysteine (U) at position 46 replaced by X\r\n",
        "Selenocysteine (U) at position 46 replaced by X\r\n",
        "Selenocysteine (U) at position 47 replaced by X\r\n",
        "Selenocysteine (U) at position 47 replaced by X\r\n",
        "Selenocysteine (U) at position 40 replaced by X\r\n",
        "Selenocysteine (U) at position 40 replaced by X\r\n",
        "Selenocysteine (U) at position 40 replaced by X\r\n",
        "Selenocysteine (U) at position 40 replaced by X\r\n",
        "Selenocysteine (U) at position 40 replaced by X\r\n",
        "Selenocysteine (U) at position 40 replaced by X\r\n",
        "Selenocysteine (U) at position 40 replaced by X\r\n",
        "Selenocysteine (U) at position 40 replaced by X\r\n",
        "Selenocysteine (U) at position 40 replaced by X\r\n",
        "Selenocysteine (U) at position 40 replaced by X\r\n",
        "Selenocysteine (U) at position 40 replaced by X\r\n",
        "Selenocysteine (U) at position 40 replaced by X\r\n"
       ]
      },
      {
       "output_type": "stream",
       "stream": "stdout",
       "text": [
        "Selenocysteine (U) at position 21 replaced by X\r\n",
        "Selenocysteine (U) at position 21 replaced by X\r\n"
       ]
      },
      {
       "output_type": "stream",
       "stream": "stdout",
       "text": [
        "Selenocysteine (U) at position 49 replaced by X\r\n",
        "Selenocysteine (U) at position 49 replaced by X\r\n",
        "Selenocysteine (U) at position 49 replaced by X\r\n",
        "Selenocysteine (U) at position 47 replaced by X\r\n",
        "Selenocysteine (U) at position 47 replaced by X\r\n",
        "Selenocysteine (U) at position 47 replaced by X\r\n",
        "Selenocysteine (U) at position 47 replaced by X\r\n",
        "Selenocysteine (U) at position 47 replaced by X\r\n",
        "Selenocysteine (U) at position 47 replaced by X\r\n",
        "Selenocysteine (U) at position 47 replaced by X\r\n",
        "Selenocysteine (U) at position 47 replaced by X\r\n",
        "Selenocysteine (U) at position 47 replaced by X\r\n",
        "Selenocysteine (U) at position 47 replaced by X\r\n",
        "Selenocysteine (U) at position 47 replaced by X\r\n"
       ]
      },
      {
       "output_type": "stream",
       "stream": "stdout",
       "text": [
        "Selenocysteine (U) at position 47 replaced by X\r\n",
        "Selenocysteine (U) at position 47 replaced by X\r\n",
        "Selenocysteine (U) at position 47 replaced by X\r\n",
        "Selenocysteine (U) at position 47 replaced by X\r\n",
        "Selenocysteine (U) at position 46 replaced by X\r\n",
        "Selenocysteine (U) at position 46 replaced by X\r\n",
        "Selenocysteine (U) at position 46 replaced by X\r\n",
        "Selenocysteine (U) at position 47 replaced by X\r\n",
        "Selenocysteine (U) at position 47 replaced by X\r\n",
        "Selenocysteine (U) at position 47 replaced by X\r\n",
        "Selenocysteine (U) at position 40 replaced by X\r\n",
        "Selenocysteine (U) at position 40 replaced by X\r\n",
        "Selenocysteine (U) at position 40 replaced by X\r\n",
        "Selenocysteine (U) at position 40 replaced by X\r\n",
        "Selenocysteine (U) at position 40 replaced by X\r\n",
        "Selenocysteine (U) at position 40 replaced by X\r\n",
        "Selenocysteine (U) at position 40 replaced by X\r\n",
        "Selenocysteine (U) at position 40 replaced by X\r\n",
        "Selenocysteine (U) at position 40 replaced by X\r\n",
        "Selenocysteine (U) at position 40 replaced by X\r\n",
        "Selenocysteine (U) at position 40 replaced by X\r\n",
        "Selenocysteine (U) at position 40 replaced by X\r\n",
        "Selenocysteine (U) at position 40 replaced by X\r\n",
        "Selenocysteine (U) at position 40 replaced by X\r\n",
        "Selenocysteine (U) at position 40 replaced by X\r\n",
        "Selenocysteine (U) at position 40 replaced by X\r\n",
        "Selenocysteine (U) at position 40 replaced by X\r\n",
        "Selenocysteine (U) at position 40 replaced by X\r\n"
       ]
      },
      {
       "output_type": "stream",
       "stream": "stdout",
       "text": [
        "Selenocysteine (U) at position 21 replaced by X\r\n",
        "Selenocysteine (U) at position 21 replaced by X\r\n",
        "Selenocysteine (U) at position 21 replaced by X\r\n"
       ]
      },
      {
       "output_type": "stream",
       "stream": "stdout",
       "text": [
        "Selenocysteine (U) at position 49 replaced by X\r\n",
        "Selenocysteine (U) at position 49 replaced by X\r\n",
        "Selenocysteine (U) at position 47 replaced by X\r\n",
        "Selenocysteine (U) at position 47 replaced by X\r\n",
        "Selenocysteine (U) at position 47 replaced by X\r\n",
        "Selenocysteine (U) at position 47 replaced by X\r\n",
        "Selenocysteine (U) at position 47 replaced by X\r\n",
        "Selenocysteine (U) at position 47 replaced by X\r\n",
        "Selenocysteine (U) at position 47 replaced by X\r\n",
        "Selenocysteine (U) at position 47 replaced by X\r\n",
        "Selenocysteine (U) at position 47 replaced by X\r\n",
        "Selenocysteine (U) at position 47 replaced by X\r\n",
        "Selenocysteine (U) at position 46 replaced by X\r\n",
        "Selenocysteine (U) at position 46 replaced by X\r\n",
        "Selenocysteine (U) at position 47 replaced by X\r\n",
        "Selenocysteine (U) at position 47 replaced by X\r\n",
        "Selenocysteine (U) at position 40 replaced by X\r\n",
        "Selenocysteine (U) at position 40 replaced by X\r\n",
        "Selenocysteine (U) at position 40 replaced by X\r\n",
        "Selenocysteine (U) at position 40 replaced by X\r\n",
        "Selenocysteine (U) at position 40 replaced by X\r\n",
        "Selenocysteine (U) at position 40 replaced by X\r\n",
        "Selenocysteine (U) at position 40 replaced by X\r\n",
        "Selenocysteine (U) at position 40 replaced by X\r\n",
        "Selenocysteine (U) at position 40 replaced by X\r\n",
        "Selenocysteine (U) at position 40 replaced by X\r\n",
        "Selenocysteine (U) at position 40 replaced by X\r\n",
        "Selenocysteine (U) at position 40 replaced by X\r\n"
       ]
      },
      {
       "output_type": "stream",
       "stream": "stdout",
       "text": [
        "Selenocysteine (U) at position 21 replaced by X\r\n",
        "Selenocysteine (U) at position 21 replaced by X\r\n"
       ]
      },
      {
       "output_type": "stream",
       "stream": "stdout",
       "text": [
        "Selenocysteine (U) at position 127 replaced by X\r\n",
        "Selenocysteine (U) at position 462 replaced by X\r\n"
       ]
      },
      {
       "output_type": "stream",
       "stream": "stdout",
       "text": [
        "Selenocysteine (U) at position 133 replaced by X\r\n",
        "Selenocysteine (U) at position 266 replaced by X\r\n",
        "Selenocysteine (U) at position 133 replaced by X\r\n",
        "Selenocysteine (U) at position 266 replaced by X\r\n",
        "Selenocysteine (U) at position 132 replaced by X\r\n",
        "Selenocysteine (U) at position 265 replaced by X\r\n",
        "Selenocysteine (U) at position 132 replaced by X\r\n",
        "Selenocysteine (U) at position 265 replaced by X\r\n",
        "Selenocysteine (U) at position 130 replaced by X\r\n",
        "Selenocysteine (U) at position 263 replaced by X\r\n",
        "Selenocysteine (U) at position 130 replaced by X\r\n",
        "Selenocysteine (U) at position 263 replaced by X\r\n",
        "Selenocysteine (U) at position 133 replaced by X\r\n",
        "Selenocysteine (U) at position 266 replaced by X\r\n",
        "Selenocysteine (U) at position 133 replaced by X\r\n",
        "Selenocysteine (U) at position 266 replaced by X\r\n",
        "Selenocysteine (U) at position 130 replaced by X\r\n",
        "Selenocysteine (U) at position 263 replaced by X\r\n",
        "Selenocysteine (U) at position 130 replaced by X\r\n",
        "Selenocysteine (U) at position 263 replaced by X\r\n"
       ]
      },
      {
       "output_type": "stream",
       "stream": "stdout",
       "text": [
        "Selenocysteine (U) at position 133 replaced by X\r\n",
        "Selenocysteine (U) at position 266 replaced by X\r\n",
        "Selenocysteine (U) at position 133 replaced by X\r\n",
        "Selenocysteine (U) at position 266 replaced by X\r\n",
        "Selenocysteine (U) at position 132 replaced by X\r\n",
        "Selenocysteine (U) at position 265 replaced by X\r\n",
        "Selenocysteine (U) at position 132 replaced by X\r\n",
        "Selenocysteine (U) at position 265 replaced by X\r\n",
        "Selenocysteine (U) at position 130 replaced by X\r\n",
        "Selenocysteine (U) at position 263 replaced by X\r\n",
        "Selenocysteine (U) at position 130 replaced by X\r\n",
        "Selenocysteine (U) at position 263 replaced by X\r\n",
        "Selenocysteine (U) at position 133 replaced by X\r\n",
        "Selenocysteine (U) at position 266 replaced by X\r\n",
        "Selenocysteine (U) at position 133 replaced by X\r\n",
        "Selenocysteine (U) at position 266 replaced by X\r\n",
        "Selenocysteine (U) at position 130 replaced by X\r\n",
        "Selenocysteine (U) at position 263 replaced by X\r\n",
        "Selenocysteine (U) at position 130 replaced by X\r\n",
        "Selenocysteine (U) at position 263 replaced by X\r\n",
        "Selenocysteine (U) at position 637 replaced by X\r\n"
       ]
      },
      {
       "output_type": "stream",
       "stream": "stdout",
       "text": [
        "Selenocysteine (U) at position 344 replaced by X\r\n"
       ]
      },
      {
       "output_type": "stream",
       "stream": "stdout",
       "text": [
        "Selenocysteine (U) at position 350 replaced by X\r\n"
       ]
      },
      {
       "output_type": "stream",
       "stream": "stdout",
       "text": [
        "Selenocysteine (U) at position 430 replaced by X\r\n",
        "Selenocysteine (U) at position 430 replaced by X\r\n",
        "Selenocysteine (U) at position 436 replaced by X\r\n",
        "Selenocysteine (U) at position 436 replaced by X\r\n"
       ]
      },
      {
       "output_type": "stream",
       "stream": "stdout",
       "text": [
        "Selenocysteine (U) at position 273 replaced by X\r\n"
       ]
      },
      {
       "output_type": "stream",
       "stream": "stdout",
       "text": [
        "Selenocysteine (U) at position 7 replaced by X\r\n",
        "Selenocysteine (U) at position 273 replaced by X\r\n"
       ]
      },
      {
       "output_type": "stream",
       "stream": "stdout",
       "text": [
        "Selenocysteine (U) at position 92 replaced by X\r\n"
       ]
      },
      {
       "output_type": "stream",
       "stream": "stdout",
       "text": [
        "Selenocysteine (U) at position 637 replaced by X\r\n"
       ]
      },
      {
       "output_type": "stream",
       "stream": "stdout",
       "text": [
        "Selenocysteine (U) at position 388 replaced by X\r\n",
        "Selenocysteine (U) at position 388 replaced by X\r\n"
       ]
      },
      {
       "output_type": "stream",
       "stream": "stdout",
       "text": [
        "Selenocysteine (U) at position 196 replaced by X\r\n"
       ]
      },
      {
       "output_type": "stream",
       "stream": "stdout",
       "text": [
        "Selenocysteine (U) at position 387 replaced by X\r\n"
       ]
      },
      {
       "output_type": "stream",
       "stream": "stdout",
       "text": [
        "Selenocysteine (U) at position 637 replaced by X\r\n"
       ]
      },
      {
       "output_type": "stream",
       "stream": "stdout",
       "text": [
        "Selenocysteine (U) at position 637 replaced by X\r\n",
        "Selenocysteine (U) at position 637 replaced by X\r\n",
        "Selenocysteine (U) at position 690 replaced by X\r\n",
        "Selenocysteine (U) at position 690 replaced by X\r\n"
       ]
      },
      {
       "output_type": "stream",
       "stream": "stdout",
       "text": [
        "Selenocysteine (U) at position 666 replaced by X\r\n",
        "Selenocysteine (U) at position 666 replaced by X\r\n",
        "Selenocysteine (U) at position 666 replaced by X\r\n",
        "Selenocysteine (U) at position 498 replaced by X\r\n",
        "Selenocysteine (U) at position 498 replaced by X\r\n",
        "Selenocysteine (U) at position 498 replaced by X\r\n",
        "Selenocysteine (U) at position 642 replaced by X\r\n",
        "Selenocysteine (U) at position 642 replaced by X\r\n",
        "Selenocysteine (U) at position 642 replaced by X\r\n",
        "Selenocysteine (U) at position 651 replaced by X\r\n",
        "Selenocysteine (U) at position 651 replaced by X\r\n",
        "Selenocysteine (U) at position 651 replaced by X\r\n"
       ]
      },
      {
       "output_type": "stream",
       "stream": "stdout",
       "text": [
        "Selenocysteine (U) at position 144 replaced by X\r\n",
        "Selenocysteine (U) at position 144 replaced by X\r\n",
        "Selenocysteine (U) at position 144 replaced by X\r\n"
       ]
      },
      {
       "output_type": "stream",
       "stream": "stdout",
       "text": [
        "Selenocysteine (U) at position 47 replaced by X\r\n",
        "Selenocysteine (U) at position 47 replaced by X\r\n"
       ]
      },
      {
       "output_type": "stream",
       "stream": "stdout",
       "text": [
        "Selenocysteine (U) at position 59 replaced by X\r\n",
        "Selenocysteine (U) at position 297 replaced by X\r\n",
        "Selenocysteine (U) at position 307 replaced by X\r\n",
        "Selenocysteine (U) at position 338 replaced by X\r\n",
        "Selenocysteine (U) at position 350 replaced by X\r\n",
        "Selenocysteine (U) at position 363 replaced by X\r\n",
        "Selenocysteine (U) at position 365 replaced by X\r\n",
        "Selenocysteine (U) at position 372 replaced by X\r\n",
        "Selenocysteine (U) at position 388 replaced by X\r\n",
        "Selenocysteine (U) at position 390 replaced by X\r\n",
        "Selenocysteine (U) at position 397 replaced by X\r\n",
        "Selenocysteine (U) at position 399 replaced by X\r\n",
        "Selenocysteine (U) at position 59 replaced by X\r\n",
        "Selenocysteine (U) at position 297 replaced by X\r\n",
        "Selenocysteine (U) at position 307 replaced by X\r\n",
        "Selenocysteine (U) at position 338 replaced by X\r\n",
        "Selenocysteine (U) at position 350 replaced by X\r\n",
        "Selenocysteine (U) at position 363 replaced by X\r\n",
        "Selenocysteine (U) at position 365 replaced by X\r\n",
        "Selenocysteine (U) at position 372 replaced by X\r\n",
        "Selenocysteine (U) at position 388 replaced by X\r\n",
        "Selenocysteine (U) at position 390 replaced by X\r\n",
        "Selenocysteine (U) at position 397 replaced by X\r\n",
        "Selenocysteine (U) at position 399 replaced by X\r\n"
       ]
      },
      {
       "output_type": "stream",
       "stream": "stdout",
       "text": [
        "Selenocysteine (U) at position 106 replaced by X\r\n"
       ]
      },
      {
       "output_type": "stream",
       "stream": "stdout",
       "text": [
        "Selenocysteine (U) at position 134 replaced by X\r\n"
       ]
      },
      {
       "output_type": "stream",
       "stream": "stdout",
       "text": [
        "Selenocysteine (U) at position 133 replaced by X\r\n",
        "Selenocysteine (U) at position 266 replaced by X\r\n"
       ]
      },
      {
       "output_type": "stream",
       "stream": "stdout",
       "text": [
        "Selenocysteine (U) at position 84 replaced by X\r\n"
       ]
      },
      {
       "output_type": "stream",
       "stream": "stdout",
       "text": [
        "Selenocysteine (U) at position 37 replaced by X\r\n"
       ]
      },
      {
       "output_type": "stream",
       "stream": "stdout",
       "text": [
        "Selenocysteine (U) at position 130 replaced by X\r\n"
       ]
      },
      {
       "output_type": "stream",
       "stream": "stdout",
       "text": [
        "Selenocysteine (U) at position 59 replaced by X\r\n",
        "Selenocysteine (U) at position 259 replaced by X\r\n",
        "Selenocysteine (U) at position 277 replaced by X\r\n",
        "Selenocysteine (U) at position 318 replaced by X\r\n",
        "Selenocysteine (U) at position 330 replaced by X\r\n",
        "Selenocysteine (U) at position 352 replaced by X\r\n",
        "Selenocysteine (U) at position 366 replaced by X\r\n",
        "Selenocysteine (U) at position 368 replaced by X\r\n",
        "Selenocysteine (U) at position 375 replaced by X\r\n",
        "Selenocysteine (U) at position 377 replaced by X\r\n"
       ]
      },
      {
       "output_type": "stream",
       "stream": "stdout",
       "text": [
        "Selenocysteine (U) at position 59 replaced by X\r\n",
        "Selenocysteine (U) at position 259 replaced by X\r\n",
        "Selenocysteine (U) at position 277 replaced by X\r\n",
        "Selenocysteine (U) at position 318 replaced by X\r\n",
        "Selenocysteine (U) at position 330 replaced by X\r\n",
        "Selenocysteine (U) at position 352 replaced by X\r\n",
        "Selenocysteine (U) at position 366 replaced by X\r\n",
        "Selenocysteine (U) at position 368 replaced by X\r\n",
        "Selenocysteine (U) at position 375 replaced by X\r\n",
        "Selenocysteine (U) at position 377 replaced by X\r\n",
        "Selenocysteine (U) at position 59 replaced by X\r\n",
        "Selenocysteine (U) at position 259 replaced by X\r\n",
        "Selenocysteine (U) at position 277 replaced by X\r\n",
        "Selenocysteine (U) at position 318 replaced by X\r\n",
        "Selenocysteine (U) at position 330 replaced by X\r\n",
        "Selenocysteine (U) at position 352 replaced by X\r\n",
        "Selenocysteine (U) at position 366 replaced by X\r\n",
        "Selenocysteine (U) at position 368 replaced by X\r\n",
        "Selenocysteine (U) at position 375 replaced by X\r\n",
        "Selenocysteine (U) at position 377 replaced by X\r\n"
       ]
      },
      {
       "output_type": "stream",
       "stream": "stdout",
       "text": [
        "Selenocysteine (U) at position 25 replaced by X\r\n"
       ]
      },
      {
       "output_type": "stream",
       "stream": "stdout",
       "text": [
        "Selenocysteine (U) at position 84 replaced by X\r\n"
       ]
      },
      {
       "output_type": "stream",
       "stream": "stdout",
       "text": [
        "Selenocysteine (U) at position 64 replaced by X\r\n",
        "Selenocysteine (U) at position 59 replaced by X\r\n",
        "Selenocysteine (U) at position 297 replaced by X\r\n",
        "Selenocysteine (U) at position 307 replaced by X\r\n",
        "Selenocysteine (U) at position 338 replaced by X\r\n",
        "Selenocysteine (U) at position 350 replaced by X\r\n",
        "Selenocysteine (U) at position 363 replaced by X\r\n",
        "Selenocysteine (U) at position 365 replaced by X\r\n",
        "Selenocysteine (U) at position 372 replaced by X\r\n",
        "Selenocysteine (U) at position 388 replaced by X\r\n",
        "Selenocysteine (U) at position 390 replaced by X\r\n",
        "Selenocysteine (U) at position 397 replaced by X\r\n",
        "Selenocysteine (U) at position 399 replaced by X\r\n",
        "Selenocysteine (U) at position 59 replaced by X\r\n",
        "Selenocysteine (U) at position 297 replaced by X\r\n",
        "Selenocysteine (U) at position 307 replaced by X\r\n",
        "Selenocysteine (U) at position 338 replaced by X\r\n",
        "Selenocysteine (U) at position 350 replaced by X\r\n",
        "Selenocysteine (U) at position 363 replaced by X\r\n",
        "Selenocysteine (U) at position 365 replaced by X\r\n",
        "Selenocysteine (U) at position 372 replaced by X\r\n",
        "Selenocysteine (U) at position 388 replaced by X\r\n",
        "Selenocysteine (U) at position 390 replaced by X\r\n",
        "Selenocysteine (U) at position 397 replaced by X\r\n",
        "Selenocysteine (U) at position 399 replaced by X\r\n"
       ]
      },
      {
       "output_type": "stream",
       "stream": "stdout",
       "text": [
        "Selenocysteine (U) at position 637 replaced by X\r\n"
       ]
      },
      {
       "output_type": "stream",
       "stream": "stdout",
       "text": [
        "Selenocysteine (U) at position 59 replaced by X\r\n",
        "Selenocysteine (U) at position 300 replaced by X\r\n",
        "Selenocysteine (U) at position 318 replaced by X\r\n",
        "Selenocysteine (U) at position 330 replaced by X\r\n",
        "Selenocysteine (U) at position 345 replaced by X\r\n",
        "Selenocysteine (U) at position 352 replaced by X\r\n",
        "Selenocysteine (U) at position 367 replaced by X\r\n",
        "Selenocysteine (U) at position 369 replaced by X\r\n",
        "Selenocysteine (U) at position 376 replaced by X\r\n",
        "Selenocysteine (U) at position 378 replaced by X\r\n",
        "Selenocysteine (U) at position 59 replaced by X\r\n",
        "Selenocysteine (U) at position 318 replaced by X\r\n",
        "Selenocysteine (U) at position 330 replaced by X\r\n",
        "Selenocysteine (U) at position 345 replaced by X\r\n",
        "Selenocysteine (U) at position 352 replaced by X\r\n",
        "Selenocysteine (U) at position 367 replaced by X\r\n",
        "Selenocysteine (U) at position 369 replaced by X\r\n",
        "Selenocysteine (U) at position 376 replaced by X\r\n",
        "Selenocysteine (U) at position 378 replaced by X\r\n"
       ]
      },
      {
       "output_type": "stream",
       "stream": "stdout",
       "text": [
        "Selenocysteine (U) at position 121 replaced by X\r\n",
        "Selenocysteine (U) at position 121 replaced by X\r\n"
       ]
      },
      {
       "output_type": "stream",
       "stream": "stdout",
       "text": [
        "Selenocysteine (U) at position 121 replaced by X\r\n",
        "Selenocysteine (U) at position 121 replaced by X\r\n"
       ]
      },
      {
       "output_type": "stream",
       "stream": "stdout",
       "text": [
        "Selenocysteine (U) at position 388 replaced by X\r\n"
       ]
      },
      {
       "output_type": "stream",
       "stream": "stdout",
       "text": [
        "Selenocysteine (U) at position 388 replaced by X\r\n"
       ]
      },
      {
       "output_type": "stream",
       "stream": "stdout",
       "text": [
        "Selenocysteine (U) at position 64 replaced by X\r\n",
        "Selenocysteine (U) at position 64 replaced by X\r\n"
       ]
      },
      {
       "output_type": "stream",
       "stream": "stdout",
       "text": [
        "Selenocysteine (U) at position 64 replaced by X\r\n"
       ]
      },
      {
       "output_type": "stream",
       "stream": "stdout",
       "text": [
        "Selenocysteine (U) at position 637 replaced by X\r\n",
        "Selenocysteine (U) at position 637 replaced by X\r\n",
        "Selenocysteine (U) at position 637 replaced by X\r\n",
        "Selenocysteine (U) at position 690 replaced by X\r\n",
        "Selenocysteine (U) at position 690 replaced by X\r\n",
        "Selenocysteine (U) at position 690 replaced by X\r\n"
       ]
      },
      {
       "output_type": "stream",
       "stream": "stdout",
       "text": [
        "Selenocysteine (U) at position 64 replaced by X\r\n"
       ]
      },
      {
       "output_type": "stream",
       "stream": "stdout",
       "text": [
        "Selenocysteine (U) at position 637 replaced by X\r\n",
        "Selenocysteine (U) at position 637 replaced by X\r\n",
        "Selenocysteine (U) at position 690 replaced by X\r\n",
        "Selenocysteine (U) at position 690 replaced by X\r\n"
       ]
      },
      {
       "output_type": "stream",
       "stream": "stdout",
       "text": [
        "Selenocysteine (U) at position 637 replaced by X\r\n"
       ]
      },
      {
       "output_type": "stream",
       "stream": "stdout",
       "text": [
        "Selenocysteine (U) at position 648 replaced by X\r\n"
       ]
      },
      {
       "output_type": "stream",
       "stream": "stdout",
       "text": [
        "Selenocysteine (U) at position 192 replaced by X\r\n",
        "Selenocysteine (U) at position 187 replaced by X\r\n"
       ]
      },
      {
       "output_type": "stream",
       "stream": "stdout",
       "text": [
        "Selenocysteine (U) at position 16 replaced by X\r\n",
        "Selenocysteine (U) at position 59 replaced by X\r\n",
        "Selenocysteine (U) at position 267 replaced by X\r\n",
        "Selenocysteine (U) at position 273 replaced by X\r\n",
        "Selenocysteine (U) at position 279 replaced by X\r\n",
        "Selenocysteine (U) at position 290 replaced by X\r\n",
        "Selenocysteine (U) at position 292 replaced by X\r\n",
        "Selenocysteine (U) at position 294 replaced by X\r\n",
        "Selenocysteine (U) at position 310 replaced by X\r\n",
        "Selenocysteine (U) at position 320 replaced by X\r\n",
        "Selenocysteine (U) at position 322 replaced by X\r\n",
        "Selenocysteine (U) at position 336 replaced by X\r\n",
        "Selenocysteine (U) at position 338 replaced by X\r\n",
        "Selenocysteine (U) at position 346 replaced by X\r\n",
        "Selenocysteine (U) at position 353 replaced by X\r\n",
        "Selenocysteine (U) at position 355 replaced by X\r\n",
        "Selenocysteine (U) at position 362 replaced by X\r\n",
        "Selenocysteine (U) at position 364 replaced by X\r\n",
        "Selenocysteine (U) at position 59 replaced by X\r\n",
        "Selenocysteine (U) at position 297 replaced by X\r\n",
        "Selenocysteine (U) at position 307 replaced by X\r\n",
        "Selenocysteine (U) at position 338 replaced by X\r\n",
        "Selenocysteine (U) at position 350 replaced by X\r\n",
        "Selenocysteine (U) at position 363 replaced by X\r\n",
        "Selenocysteine (U) at position 365 replaced by X\r\n",
        "Selenocysteine (U) at position 372 replaced by X\r\n",
        "Selenocysteine (U) at position 388 replaced by X\r\n",
        "Selenocysteine (U) at position 390 replaced by X\r\n",
        "Selenocysteine (U) at position 397 replaced by X\r\n",
        "Selenocysteine (U) at position 399 replaced by X\r\n"
       ]
      },
      {
       "output_type": "stream",
       "stream": "stdout",
       "text": [
        "Selenocysteine (U) at position 612 replaced by X\r\n"
       ]
      },
      {
       "output_type": "stream",
       "stream": "stdout",
       "text": [
        "Selenocysteine (U) at position 59 replaced by X\r\n",
        "Selenocysteine (U) at position 267 replaced by X\r\n",
        "Selenocysteine (U) at position 273 replaced by X\r\n",
        "Selenocysteine (U) at position 279 replaced by X\r\n",
        "Selenocysteine (U) at position 290 replaced by X\r\n",
        "Selenocysteine (U) at position 292 replaced by X\r\n",
        "Selenocysteine (U) at position 294 replaced by X\r\n",
        "Selenocysteine (U) at position 310 replaced by X\r\n",
        "Selenocysteine (U) at position 320 replaced by X\r\n",
        "Selenocysteine (U) at position 322 replaced by X\r\n",
        "Selenocysteine (U) at position 336 replaced by X\r\n",
        "Selenocysteine (U) at position 338 replaced by X\r\n",
        "Selenocysteine (U) at position 346 replaced by X\r\n",
        "Selenocysteine (U) at position 353 replaced by X\r\n",
        "Selenocysteine (U) at position 355 replaced by X\r\n",
        "Selenocysteine (U) at position 362 replaced by X\r\n",
        "Selenocysteine (U) at position 364 replaced by X\r\n",
        "Selenocysteine (U) at position 59 replaced by X\r\n",
        "Selenocysteine (U) at position 267 replaced by X\r\n",
        "Selenocysteine (U) at position 273 replaced by X\r\n",
        "Selenocysteine (U) at position 279 replaced by X\r\n",
        "Selenocysteine (U) at position 290 replaced by X\r\n",
        "Selenocysteine (U) at position 292 replaced by X\r\n",
        "Selenocysteine (U) at position 294 replaced by X\r\n",
        "Selenocysteine (U) at position 310 replaced by X\r\n",
        "Selenocysteine (U) at position 320 replaced by X\r\n",
        "Selenocysteine (U) at position 322 replaced by X\r\n",
        "Selenocysteine (U) at position 336 replaced by X\r\n",
        "Selenocysteine (U) at position 338 replaced by X\r\n",
        "Selenocysteine (U) at position 346 replaced by X\r\n",
        "Selenocysteine (U) at position 353 replaced by X\r\n",
        "Selenocysteine (U) at position 355 replaced by X\r\n",
        "Selenocysteine (U) at position 362 replaced by X\r\n",
        "Selenocysteine (U) at position 364 replaced by X\r\n"
       ]
      },
      {
       "output_type": "stream",
       "stream": "stdout",
       "text": [
        "Selenocysteine (U) at position 40 replaced by X\r\n",
        "Selenocysteine (U) at position 40 replaced by X\r\n",
        "Selenocysteine (U) at position 40 replaced by X\r\n"
       ]
      },
      {
       "output_type": "stream",
       "stream": "stdout",
       "text": [
        "Selenocysteine (U) at position 49 replaced by X\r\n"
       ]
      },
      {
       "output_type": "stream",
       "stream": "stdout",
       "text": [
        "Selenocysteine (U) at position 648 replaced by X\r\n",
        "Selenocysteine (U) at position 642 replaced by X\r\n",
        "Selenocysteine (U) at position 651 replaced by X\r\n"
       ]
      },
      {
       "output_type": "stream",
       "stream": "stdout",
       "text": [
        "Selenocysteine (U) at position 648 replaced by X\r\n",
        "Selenocysteine (U) at position 648 replaced by X\r\n",
        "Selenocysteine (U) at position 648 replaced by X\r\n",
        "Selenocysteine (U) at position 642 replaced by X\r\n",
        "Selenocysteine (U) at position 642 replaced by X\r\n",
        "Selenocysteine (U) at position 642 replaced by X\r\n",
        "Selenocysteine (U) at position 651 replaced by X\r\n",
        "Selenocysteine (U) at position 651 replaced by X\r\n",
        "Selenocysteine (U) at position 651 replaced by X\r\n"
       ]
      },
      {
       "output_type": "stream",
       "stream": "stdout",
       "text": [
        "Selenocysteine (U) at position 637 replaced by X\r\n",
        "Selenocysteine (U) at position 690 replaced by X\r\n"
       ]
      },
      {
       "output_type": "stream",
       "stream": "stdout",
       "text": [
        "Selenocysteine (U) at position 637 replaced by X\r\n"
       ]
      },
      {
       "output_type": "stream",
       "stream": "stdout",
       "text": [
        "Selenocysteine (U) at position 637 replaced by X\r\n",
        "Selenocysteine (U) at position 637 replaced by X\r\n"
       ]
      },
      {
       "output_type": "stream",
       "stream": "stdout",
       "text": [
        "Selenocysteine (U) at position 59 replaced by X\r\n",
        "Selenocysteine (U) at position 264 replaced by X\r\n",
        "Selenocysteine (U) at position 282 replaced by X\r\n",
        "Selenocysteine (U) at position 323 replaced by X\r\n",
        "Selenocysteine (U) at position 335 replaced by X\r\n",
        "Selenocysteine (U) at position 357 replaced by X\r\n",
        "Selenocysteine (U) at position 371 replaced by X\r\n",
        "Selenocysteine (U) at position 373 replaced by X\r\n",
        "Selenocysteine (U) at position 380 replaced by X\r\n",
        "Selenocysteine (U) at position 382 replaced by X\r\n"
       ]
      },
      {
       "output_type": "stream",
       "stream": "stdout",
       "text": [
        "Selenocysteine (U) at position 59 replaced by X\r\n",
        "Selenocysteine (U) at position 267 replaced by X\r\n",
        "Selenocysteine (U) at position 273 replaced by X\r\n",
        "Selenocysteine (U) at position 279 replaced by X\r\n",
        "Selenocysteine (U) at position 290 replaced by X\r\n",
        "Selenocysteine (U) at position 292 replaced by X\r\n",
        "Selenocysteine (U) at position 294 replaced by X\r\n",
        "Selenocysteine (U) at position 310 replaced by X\r\n",
        "Selenocysteine (U) at position 320 replaced by X\r\n",
        "Selenocysteine (U) at position 322 replaced by X\r\n",
        "Selenocysteine (U) at position 336 replaced by X\r\n",
        "Selenocysteine (U) at position 338 replaced by X\r\n",
        "Selenocysteine (U) at position 346 replaced by X\r\n",
        "Selenocysteine (U) at position 353 replaced by X\r\n",
        "Selenocysteine (U) at position 355 replaced by X\r\n",
        "Selenocysteine (U) at position 362 replaced by X\r\n",
        "Selenocysteine (U) at position 364 replaced by X\r\n",
        "Selenocysteine (U) at position 59 replaced by X\r\n",
        "Selenocysteine (U) at position 267 replaced by X\r\n",
        "Selenocysteine (U) at position 273 replaced by X\r\n",
        "Selenocysteine (U) at position 279 replaced by X\r\n",
        "Selenocysteine (U) at position 290 replaced by X\r\n",
        "Selenocysteine (U) at position 292 replaced by X\r\n",
        "Selenocysteine (U) at position 294 replaced by X\r\n",
        "Selenocysteine (U) at position 310 replaced by X\r\n",
        "Selenocysteine (U) at position 320 replaced by X\r\n",
        "Selenocysteine (U) at position 322 replaced by X\r\n",
        "Selenocysteine (U) at position 336 replaced by X\r\n",
        "Selenocysteine (U) at position 338 replaced by X\r\n",
        "Selenocysteine (U) at position 346 replaced by X\r\n",
        "Selenocysteine (U) at position 353 replaced by X\r\n",
        "Selenocysteine (U) at position 355 replaced by X\r\n",
        "Selenocysteine (U) at position 362 replaced by X\r\n",
        "Selenocysteine (U) at position 364 replaced by X\r\n"
       ]
      },
      {
       "output_type": "stream",
       "stream": "stdout",
       "text": [
        "Selenocysteine (U) at position 200 replaced by X\r\n"
       ]
      },
      {
       "output_type": "stream",
       "stream": "stdout",
       "text": [
        "Selenocysteine (U) at position 129 replaced by X\r\n"
       ]
      },
      {
       "output_type": "stream",
       "stream": "stdout",
       "text": [
        "Selenocysteine (U) at position 52 replaced by X\r\n",
        "Selenocysteine (U) at position 52 replaced by X\r\n",
        "Selenocysteine (U) at position 46 replaced by X\r\n"
       ]
      },
      {
       "output_type": "stream",
       "stream": "stdout",
       "text": [
        "Selenocysteine (U) at position 59 replaced by X\r\n",
        "Selenocysteine (U) at position 297 replaced by X\r\n",
        "Selenocysteine (U) at position 307 replaced by X\r\n",
        "Selenocysteine (U) at position 338 replaced by X\r\n",
        "Selenocysteine (U) at position 350 replaced by X\r\n",
        "Selenocysteine (U) at position 363 replaced by X\r\n",
        "Selenocysteine (U) at position 365 replaced by X\r\n",
        "Selenocysteine (U) at position 372 replaced by X\r\n",
        "Selenocysteine (U) at position 388 replaced by X\r\n",
        "Selenocysteine (U) at position 390 replaced by X\r\n",
        "Selenocysteine (U) at position 397 replaced by X\r\n",
        "Selenocysteine (U) at position 399 replaced by X\r\n"
       ]
      },
      {
       "output_type": "stream",
       "stream": "stdout",
       "text": [
        "Selenocysteine (U) at position 273 replaced by X\r\n",
        "Selenocysteine (U) at position 273 replaced by X\r\n"
       ]
      },
      {
       "output_type": "stream",
       "stream": "stdout",
       "text": [
        "Selenocysteine (U) at position 47 replaced by X\r\n"
       ]
      },
      {
       "output_type": "stream",
       "stream": "stdout",
       "text": [
        "Selenocysteine (U) at position 126 replaced by X\r\n",
        "Selenocysteine (U) at position 126 replaced by X\r\n"
       ]
      },
      {
       "output_type": "stream",
       "stream": "stdout",
       "text": [
        "Selenocysteine (U) at position 196 replaced by X\r\n"
       ]
      },
      {
       "output_type": "stream",
       "stream": "stdout",
       "text": [
        "Selenocysteine (U) at position 642 replaced by X\r\n",
        "Selenocysteine (U) at position 642 replaced by X\r\n",
        "Selenocysteine (U) at position 651 replaced by X\r\n",
        "Selenocysteine (U) at position 651 replaced by X\r\n"
       ]
      },
      {
       "output_type": "stream",
       "stream": "stdout",
       "text": [
        "Selenocysteine (U) at position 49 replaced by X\r\n",
        "Selenocysteine (U) at position 47 replaced by X\r\n",
        "Selenocysteine (U) at position 47 replaced by X\r\n",
        "Selenocysteine (U) at position 47 replaced by X\r\n",
        "Selenocysteine (U) at position 47 replaced by X\r\n",
        "Selenocysteine (U) at position 46 replaced by X\r\n"
       ]
      },
      {
       "output_type": "stream",
       "stream": "stdout",
       "text": [
        "Selenocysteine (U) at position 387 replaced by X\r\n",
        "Selenocysteine (U) at position 387 replaced by X\r\n",
        "Selenocysteine (U) at position 388 replaced by X\r\n",
        "Selenocysteine (U) at position 388 replaced by X\r\n",
        "Selenocysteine (U) at position 387 replaced by X\r\n",
        "Selenocysteine (U) at position 387 replaced by X\r\n"
       ]
      },
      {
       "output_type": "stream",
       "stream": "stdout",
       "text": [
        "Selenocysteine (U) at position 387 replaced by X\r\n",
        "Selenocysteine (U) at position 387 replaced by X\r\n",
        "Selenocysteine (U) at position 388 replaced by X\r\n",
        "Selenocysteine (U) at position 387 replaced by X\r\n"
       ]
      },
      {
       "output_type": "stream",
       "stream": "stdout",
       "text": [
        "Selenocysteine (U) at position 387 replaced by X\r\n",
        "Selenocysteine (U) at position 387 replaced by X\r\n",
        "Selenocysteine (U) at position 388 replaced by X\r\n",
        "Selenocysteine (U) at position 387 replaced by X\r\n"
       ]
      },
      {
       "output_type": "stream",
       "stream": "stdout",
       "text": [
        "Selenocysteine (U) at position 387 replaced by X\r\n",
        "Selenocysteine (U) at position 387 replaced by X\r\n",
        "Selenocysteine (U) at position 388 replaced by X\r\n",
        "Selenocysteine (U) at position 387 replaced by X\r\n"
       ]
      },
      {
       "output_type": "stream",
       "stream": "stdout",
       "text": [
        "Selenocysteine (U) at position 133 replaced by X\r\n",
        "Selenocysteine (U) at position 266 replaced by X\r\n",
        "Selenocysteine (U) at position 130 replaced by X\r\n",
        "Selenocysteine (U) at position 263 replaced by X\r\n",
        "Selenocysteine (U) at position 128 replaced by X\r\n",
        "Selenocysteine (U) at position 261 replaced by X\r\n",
        "Selenocysteine (U) at position 130 replaced by X\r\n",
        "Selenocysteine (U) at position 263 replaced by X\r\n"
       ]
      },
      {
       "output_type": "stream",
       "stream": "stdout",
       "text": [
        "Selenocysteine (U) at position 193 replaced by X\r\n"
       ]
      },
      {
       "output_type": "stream",
       "stream": "stdout",
       "text": [
        "Selenocysteine (U) at position 193 replaced by X\r\n"
       ]
      },
      {
       "output_type": "stream",
       "stream": "stdout",
       "text": [
        "Selenocysteine (U) at position 193 replaced by X\r\n",
        "Selenocysteine (U) at position 193 replaced by X\r\n"
       ]
      },
      {
       "output_type": "stream",
       "stream": "stdout",
       "text": [
        "Selenocysteine (U) at position 47 replaced by X\r\n"
       ]
      },
      {
       "output_type": "stream",
       "stream": "stdout",
       "text": [
        "Selenocysteine (U) at position 84 replaced by X\r\n"
       ]
      },
      {
       "output_type": "stream",
       "stream": "stdout",
       "text": [
        "Selenocysteine (U) at position 46 replaced by X\r\n"
       ]
      },
      {
       "output_type": "stream",
       "stream": "stdout",
       "text": [
        "Selenocysteine (U) at position 121 replaced by X\r\n"
       ]
      },
      {
       "output_type": "stream",
       "stream": "stdout",
       "text": [
        "Selenocysteine (U) at position 127 replaced by X\r\n",
        "Selenocysteine (U) at position 462 replaced by X\r\n"
       ]
      },
      {
       "output_type": "stream",
       "stream": "stdout",
       "text": [
        "Selenocysteine (U) at position 612 replaced by X\r\n"
       ]
      },
      {
       "output_type": "stream",
       "stream": "stdout",
       "text": [
        "Selenocysteine (U) at position 44 replaced by X\r\n"
       ]
      },
      {
       "output_type": "stream",
       "stream": "stdout",
       "text": [
        "Selenocysteine (U) at position 493 replaced by X\r\n"
       ]
      },
      {
       "output_type": "stream",
       "stream": "stdout",
       "text": [
        "Selenocysteine (U) at position 189 replaced by X\r\n",
        "Selenocysteine (U) at position 189 replaced by X\r\n"
       ]
      },
      {
       "output_type": "stream",
       "stream": "stdout",
       "text": [
        "Selenocysteine (U) at position 129 replaced by X\r\n"
       ]
      },
      {
       "output_type": "stream",
       "stream": "stdout",
       "text": [
        "Selenocysteine (U) at position 200 replaced by X\r\n"
       ]
      },
      {
       "output_type": "stream",
       "stream": "stdout",
       "text": [
        "Selenocysteine (U) at position 690 replaced by X\r\n",
        "Selenocysteine (U) at position 667 replaced by X\r\n",
        "Selenocysteine (U) at position 665 replaced by X\r\n"
       ]
      },
      {
       "output_type": "stream",
       "stream": "stdout",
       "text": [
        "Selenocysteine (U) at position 20 replaced by X\r\n",
        "Selenocysteine (U) at position 88 replaced by X\r\n"
       ]
      },
      {
       "output_type": "stream",
       "stream": "stdout",
       "text": [
        "Selenocysteine (U) at position 204 replaced by X\r\n"
       ]
      },
      {
       "output_type": "stream",
       "stream": "stdout",
       "text": [
        "Selenocysteine (U) at position 129 replaced by X\r\n",
        "Selenocysteine (U) at position 129 replaced by X\r\n"
       ]
      },
      {
       "output_type": "stream",
       "stream": "stdout",
       "text": [
        "Selenocysteine (U) at position 637 replaced by X\r\n",
        "Selenocysteine (U) at position 637 replaced by X\r\n",
        "Selenocysteine (U) at position 637 replaced by X\r\n",
        "Selenocysteine (U) at position 637 replaced by X\r\n",
        "Selenocysteine (U) at position 637 replaced by X\r\n",
        "Selenocysteine (U) at position 637 replaced by X\r\n",
        "Selenocysteine (U) at position 690 replaced by X\r\n",
        "Selenocysteine (U) at position 690 replaced by X\r\n"
       ]
      },
      {
       "output_type": "stream",
       "stream": "stdout",
       "text": [
        "Selenocysteine (U) at position 273 replaced by X\r\n",
        "Selenocysteine (U) at position 273 replaced by X\r\n"
       ]
      },
      {
       "output_type": "stream",
       "stream": "stdout",
       "text": [
        "Selenocysteine (U) at position 690 replaced by X\r\n"
       ]
      },
      {
       "output_type": "stream",
       "stream": "stdout",
       "text": [
        "Selenocysteine (U) at position 7 replaced by X\r\n"
       ]
      },
      {
       "output_type": "stream",
       "stream": "stdout",
       "text": [
        "Selenocysteine (U) at position 59 replaced by X\r\n",
        "Selenocysteine (U) at position 300 replaced by X\r\n",
        "Selenocysteine (U) at position 318 replaced by X\r\n",
        "Selenocysteine (U) at position 330 replaced by X\r\n",
        "Selenocysteine (U) at position 345 replaced by X\r\n",
        "Selenocysteine (U) at position 352 replaced by X\r\n",
        "Selenocysteine (U) at position 367 replaced by X\r\n",
        "Selenocysteine (U) at position 369 replaced by X\r\n",
        "Selenocysteine (U) at position 376 replaced by X\r\n",
        "Selenocysteine (U) at position 378 replaced by X\r\n",
        "Selenocysteine (U) at position 59 replaced by X\r\n",
        "Selenocysteine (U) at position 318 replaced by X\r\n",
        "Selenocysteine (U) at position 330 replaced by X\r\n",
        "Selenocysteine (U) at position 345 replaced by X\r\n",
        "Selenocysteine (U) at position 352 replaced by X\r\n",
        "Selenocysteine (U) at position 367 replaced by X\r\n",
        "Selenocysteine (U) at position 369 replaced by X\r\n",
        "Selenocysteine (U) at position 376 replaced by X\r\n",
        "Selenocysteine (U) at position 378 replaced by X\r\n"
       ]
      },
      {
       "output_type": "stream",
       "stream": "stdout",
       "text": [
        "Selenocysteine (U) at position 64 replaced by X\r\n",
        "Selenocysteine (U) at position 64 replaced by X\r\n"
       ]
      },
      {
       "output_type": "stream",
       "stream": "stdout",
       "text": [
        "Selenocysteine (U) at position 48 replaced by X\r\n",
        "Selenocysteine (U) at position 48 replaced by X\r\n"
       ]
      },
      {
       "output_type": "stream",
       "stream": "stdout",
       "text": [
        "Selenocysteine (U) at position 493 replaced by X\r\n"
       ]
      },
      {
       "output_type": "stream",
       "stream": "stdout",
       "text": [
        "Selenocysteine (U) at position 93 replaced by X\r\n",
        "Selenocysteine (U) at position 93 replaced by X\r\n",
        "Selenocysteine (U) at position 93 replaced by X\r\n"
       ]
      },
      {
       "output_type": "stream",
       "stream": "stdout",
       "text": [
        "Selenocysteine (U) at position 131 replaced by X\r\n"
       ]
      },
      {
       "output_type": "stream",
       "stream": "stdout",
       "text": [
        "Selenocysteine (U) at position 523 replaced by X\r\n",
        "Selenocysteine (U) at position 523 replaced by X\r\n"
       ]
      },
      {
       "output_type": "stream",
       "stream": "stdout",
       "text": [
        "Selenocysteine (U) at position 59 replaced by X\r\n",
        "Selenocysteine (U) at position 297 replaced by X\r\n",
        "Selenocysteine (U) at position 307 replaced by X\r\n",
        "Selenocysteine (U) at position 338 replaced by X\r\n",
        "Selenocysteine (U) at position 350 replaced by X\r\n",
        "Selenocysteine (U) at position 363 replaced by X\r\n",
        "Selenocysteine (U) at position 365 replaced by X\r\n",
        "Selenocysteine (U) at position 372 replaced by X\r\n",
        "Selenocysteine (U) at position 388 replaced by X\r\n",
        "Selenocysteine (U) at position 390 replaced by X\r\n",
        "Selenocysteine (U) at position 397 replaced by X\r\n",
        "Selenocysteine (U) at position 399 replaced by X\r\n"
       ]
      },
      {
       "output_type": "stream",
       "stream": "stdout",
       "text": [
        "Selenocysteine (U) at position 59 replaced by X\r\n",
        "Selenocysteine (U) at position 264 replaced by X\r\n",
        "Selenocysteine (U) at position 282 replaced by X\r\n",
        "Selenocysteine (U) at position 323 replaced by X\r\n",
        "Selenocysteine (U) at position 335 replaced by X\r\n",
        "Selenocysteine (U) at position 357 replaced by X\r\n",
        "Selenocysteine (U) at position 371 replaced by X\r\n",
        "Selenocysteine (U) at position 373 replaced by X\r\n",
        "Selenocysteine (U) at position 380 replaced by X\r\n",
        "Selenocysteine (U) at position 382 replaced by X\r\n"
       ]
      },
      {
       "output_type": "stream",
       "stream": "stdout",
       "text": [
        "Selenocysteine (U) at position 196 replaced by X\r\n",
        "Selenocysteine (U) at position 196 replaced by X\r\n",
        "Selenocysteine (U) at position 196 replaced by X\r\n"
       ]
      },
      {
       "output_type": "stream",
       "stream": "stdout",
       "text": [
        "Selenocysteine (U) at position 196 replaced by X\r\n"
       ]
      },
      {
       "output_type": "stream",
       "stream": "stdout",
       "text": [
        "Selenocysteine (U) at position 690 replaced by X\r\n"
       ]
      },
      {
       "output_type": "stream",
       "stream": "stdout",
       "text": [
        "Selenocysteine (U) at position 38 replaced by X\r\n"
       ]
      },
      {
       "output_type": "stream",
       "stream": "stdout",
       "text": [
        "Selenocysteine (U) at position 64 replaced by X\r\n"
       ]
      },
      {
       "output_type": "stream",
       "stream": "stdout",
       "text": [
        "Selenocysteine (U) at position 95 replaced by X\r\n",
        "Selenocysteine (U) at position 95 replaced by X\r\n"
       ]
      },
      {
       "output_type": "stream",
       "stream": "stdout",
       "text": [
        "Selenocysteine (U) at position 47 replaced by X\r\n",
        "Selenocysteine (U) at position 47 replaced by X\r\n"
       ]
      },
      {
       "output_type": "stream",
       "stream": "stdout",
       "text": [
        "Selenocysteine (U) at position 127 replaced by X\r\n",
        "Selenocysteine (U) at position 462 replaced by X\r\n"
       ]
      },
      {
       "output_type": "stream",
       "stream": "stdout",
       "text": [
        "Selenocysteine (U) at position 16 replaced by X\r\n",
        "Selenocysteine (U) at position 16 replaced by X\r\n"
       ]
      },
      {
       "output_type": "stream",
       "stream": "stdout",
       "text": [
        "Selenocysteine (U) at position 430 replaced by X\r\n",
        "Selenocysteine (U) at position 430 replaced by X\r\n",
        "Selenocysteine (U) at position 59 replaced by X\r\n",
        "Selenocysteine (U) at position 259 replaced by X\r\n",
        "Selenocysteine (U) at position 277 replaced by X\r\n",
        "Selenocysteine (U) at position 318 replaced by X\r\n",
        "Selenocysteine (U) at position 330 replaced by X\r\n",
        "Selenocysteine (U) at position 352 replaced by X\r\n",
        "Selenocysteine (U) at position 366 replaced by X\r\n",
        "Selenocysteine (U) at position 368 replaced by X\r\n",
        "Selenocysteine (U) at position 375 replaced by X\r\n",
        "Selenocysteine (U) at position 377 replaced by X\r\n",
        "Selenocysteine (U) at position 59 replaced by X\r\n",
        "Selenocysteine (U) at position 264 replaced by X\r\n",
        "Selenocysteine (U) at position 282 replaced by X\r\n",
        "Selenocysteine (U) at position 323 replaced by X\r\n",
        "Selenocysteine (U) at position 335 replaced by X\r\n",
        "Selenocysteine (U) at position 357 replaced by X\r\n",
        "Selenocysteine (U) at position 371 replaced by X\r\n",
        "Selenocysteine (U) at position 373 replaced by X\r\n",
        "Selenocysteine (U) at position 380 replaced by X\r\n",
        "Selenocysteine (U) at position 382 replaced by X\r\n"
       ]
      },
      {
       "output_type": "stream",
       "stream": "stdout",
       "text": [
        "Selenocysteine (U) at position 47 replaced by X\r\n",
        "Selenocysteine (U) at position 47 replaced by X\r\n"
       ]
      },
      {
       "output_type": "stream",
       "stream": "stdout",
       "text": [
        "Selenocysteine (U) at position 152 replaced by X\r\n"
       ]
      },
      {
       "output_type": "stream",
       "stream": "stdout",
       "text": [
        "Selenocysteine (U) at position 152 replaced by X\r\n"
       ]
      },
      {
       "output_type": "stream",
       "stream": "stdout",
       "text": [
        "Selenocysteine (U) at position 152 replaced by X\r\n"
       ]
      },
      {
       "output_type": "stream",
       "stream": "stdout",
       "text": [
        "Selenocysteine (U) at position 637 replaced by X\r\n"
       ]
      },
      {
       "output_type": "stream",
       "stream": "stdout",
       "text": [
        "Selenocysteine (U) at position 127 replaced by X\r\n",
        "Selenocysteine (U) at position 462 replaced by X\r\n"
       ]
      },
      {
       "output_type": "stream",
       "stream": "stdout",
       "text": [
        "Selenocysteine (U) at position 17 replaced by X\r\n"
       ]
      },
      {
       "output_type": "stream",
       "stream": "stdout",
       "text": [
        "Selenocysteine (U) at position 17 replaced by X\r\n"
       ]
      },
      {
       "output_type": "stream",
       "stream": "stdout",
       "text": [
        "Selenocysteine (U) at position 131 replaced by X\r\n"
       ]
      },
      {
       "output_type": "stream",
       "stream": "stdout",
       "text": [
        "Selenocysteine (U) at position 52 replaced by X\r\n",
        "Selenocysteine (U) at position 52 replaced by X\r\n",
        "Selenocysteine (U) at position 47 replaced by X\r\n",
        "Selenocysteine (U) at position 47 replaced by X\r\n",
        "Selenocysteine (U) at position 47 replaced by X\r\n",
        "Selenocysteine (U) at position 47 replaced by X\r\n",
        "Selenocysteine (U) at position 75 replaced by X\r\n"
       ]
      },
      {
       "output_type": "stream",
       "stream": "stdout",
       "text": [
        "Selenocysteine (U) at position 49 replaced by X\r\n",
        "Selenocysteine (U) at position 49 replaced by X\r\n",
        "Selenocysteine (U) at position 47 replaced by X\r\n",
        "Selenocysteine (U) at position 47 replaced by X\r\n",
        "Selenocysteine (U) at position 47 replaced by X\r\n",
        "Selenocysteine (U) at position 47 replaced by X\r\n",
        "Selenocysteine (U) at position 47 replaced by X\r\n",
        "Selenocysteine (U) at position 47 replaced by X\r\n",
        "Selenocysteine (U) at position 47 replaced by X\r\n",
        "Selenocysteine (U) at position 47 replaced by X\r\n",
        "Selenocysteine (U) at position 52 replaced by X\r\n",
        "Selenocysteine (U) at position 52 replaced by X\r\n",
        "Selenocysteine (U) at position 47 replaced by X\r\n",
        "Selenocysteine (U) at position 47 replaced by X\r\n",
        "Selenocysteine (U) at position 46 replaced by X\r\n",
        "Selenocysteine (U) at position 46 replaced by X\r\n",
        "Selenocysteine (U) at position 47 replaced by X\r\n",
        "Selenocysteine (U) at position 47 replaced by X\r\n",
        "Selenocysteine (U) at position 43 replaced by X\r\n",
        "Selenocysteine (U) at position 40 replaced by X\r\n",
        "Selenocysteine (U) at position 40 replaced by X\r\n",
        "Selenocysteine (U) at position 40 replaced by X\r\n",
        "Selenocysteine (U) at position 40 replaced by X\r\n",
        "Selenocysteine (U) at position 40 replaced by X\r\n",
        "Selenocysteine (U) at position 40 replaced by X\r\n",
        "Selenocysteine (U) at position 40 replaced by X\r\n",
        "Selenocysteine (U) at position 40 replaced by X\r\n",
        "Selenocysteine (U) at position 40 replaced by X\r\n",
        "Selenocysteine (U) at position 40 replaced by X\r\n",
        "Selenocysteine (U) at position 40 replaced by X\r\n",
        "Selenocysteine (U) at position 40 replaced by X\r\n",
        "Selenocysteine (U) at position 40 replaced by X\r\n",
        "Selenocysteine (U) at position 40 replaced by X\r\n",
        "Selenocysteine (U) at position 40 replaced by X\r\n",
        "Selenocysteine (U) at position 40 replaced by X\r\n",
        "Selenocysteine (U) at position 73 replaced by X\r\n",
        "Selenocysteine (U) at position 73 replaced by X\r\n",
        "Selenocysteine (U) at position 73 replaced by X\r\n",
        "Selenocysteine (U) at position 73 replaced by X\r\n",
        "Selenocysteine (U) at position 73 replaced by X\r\n",
        "Selenocysteine (U) at position 73 replaced by X\r\n",
        "Selenocysteine (U) at position 73 replaced by X\r\n",
        "Selenocysteine (U) at position 73 replaced by X\r\n",
        "Selenocysteine (U) at position 73 replaced by X\r\n",
        "Selenocysteine (U) at position 73 replaced by X\r\n",
        "Selenocysteine (U) at position 73 replaced by X\r\n",
        "Selenocysteine (U) at position 73 replaced by X\r\n",
        "Selenocysteine (U) at position 73 replaced by X\r\n",
        "Selenocysteine (U) at position 73 replaced by X\r\n",
        "Selenocysteine (U) at position 73 replaced by X\r\n"
       ]
      },
      {
       "output_type": "stream",
       "stream": "stdout",
       "text": [
        "Selenocysteine (U) at position 64 replaced by X\r\n",
        "Selenocysteine (U) at position 64 replaced by X\r\n"
       ]
      },
      {
       "output_type": "stream",
       "stream": "stdout",
       "text": [
        "Selenocysteine (U) at position 84 replaced by X\r\n"
       ]
      },
      {
       "output_type": "stream",
       "stream": "stdout",
       "text": [
        "Selenocysteine (U) at position 59 replaced by X\r\n",
        "Selenocysteine (U) at position 264 replaced by X\r\n",
        "Selenocysteine (U) at position 282 replaced by X\r\n",
        "Selenocysteine (U) at position 323 replaced by X\r\n",
        "Selenocysteine (U) at position 335 replaced by X\r\n",
        "Selenocysteine (U) at position 357 replaced by X\r\n",
        "Selenocysteine (U) at position 371 replaced by X\r\n",
        "Selenocysteine (U) at position 373 replaced by X\r\n",
        "Selenocysteine (U) at position 380 replaced by X\r\n",
        "Selenocysteine (U) at position 382 replaced by X\r\n"
       ]
      },
      {
       "output_type": "stream",
       "stream": "stdout",
       "text": [
        "Selenocysteine (U) at position 613 replaced by X\r\n",
        "Selenocysteine (U) at position 613 replaced by X\r\n"
       ]
      },
      {
       "output_type": "stream",
       "stream": "stdout",
       "text": [
        "Selenocysteine (U) at position 92 replaced by X\r\n",
        "Selenocysteine (U) at position 92 replaced by X\r\n"
       ]
      },
      {
       "output_type": "stream",
       "stream": "stdout",
       "text": [
        "Selenocysteine (U) at position 13 replaced by X\r\n",
        "Selenocysteine (U) at position 13 replaced by X\r\n",
        "Selenocysteine (U) at position 13 replaced by X\r\n",
        "Selenocysteine (U) at position 13 replaced by X\r\n",
        "Selenocysteine (U) at position 13 replaced by X\r\n",
        "Selenocysteine (U) at position 13 replaced by X\r\n",
        "Selenocysteine (U) at position 13 replaced by X\r\n",
        "Selenocysteine (U) at position 13 replaced by X\r\n",
        "Selenocysteine (U) at position 13 replaced by X\r\n",
        "Selenocysteine (U) at position 13 replaced by X\r\n",
        "Selenocysteine (U) at position 13 replaced by X\r\n",
        "Selenocysteine (U) at position 13 replaced by X\r\n",
        "Selenocysteine (U) at position 13 replaced by X\r\n",
        "Selenocysteine (U) at position 13 replaced by X\r\n"
       ]
      },
      {
       "output_type": "stream",
       "stream": "stdout",
       "text": [
        "Selenocysteine (U) at position 193 replaced by X\r\n"
       ]
      },
      {
       "output_type": "stream",
       "stream": "stdout",
       "text": [
        "Selenocysteine (U) at position 387 replaced by X\r\n",
        "Selenocysteine (U) at position 388 replaced by X\r\n"
       ]
      },
      {
       "output_type": "stream",
       "stream": "stdout",
       "text": [
        "Selenocysteine (U) at position 126 replaced by X\r\n",
        "Selenocysteine (U) at position 126 replaced by X\r\n",
        "Selenocysteine (U) at position 126 replaced by X\r\n",
        "Selenocysteine (U) at position 126 replaced by X\r\n",
        "Selenocysteine (U) at position 126 replaced by X\r\n",
        "Selenocysteine (U) at position 126 replaced by X\r\n"
       ]
      },
      {
       "output_type": "stream",
       "stream": "stdout",
       "text": [
        "Selenocysteine (U) at position 612 replaced by X\r\n"
       ]
      },
      {
       "output_type": "stream",
       "stream": "stdout",
       "text": [
        "Selenocysteine (U) at position 126 replaced by X\r\n"
       ]
      },
      {
       "output_type": "stream",
       "stream": "stdout",
       "text": [
        "Selenocysteine (U) at position 126 replaced by X\r\n"
       ]
      },
      {
       "output_type": "stream",
       "stream": "stdout",
       "text": [
        "Selenocysteine (U) at position 16 replaced by X\r\n",
        "Selenocysteine (U) at position 16 replaced by X\r\n"
       ]
      },
      {
       "output_type": "stream",
       "stream": "stdout",
       "text": [
        "Selenocysteine (U) at position 46 replaced by X\r\n"
       ]
      },
      {
       "output_type": "stream",
       "stream": "stdout",
       "text": [
        "Selenocysteine (U) at position 189 replaced by X\r\n"
       ]
      },
      {
       "output_type": "stream",
       "stream": "stdout",
       "text": [
        "Selenocysteine (U) at position 193 replaced by X\r\n",
        "Selenocysteine (U) at position 193 replaced by X\r\n"
       ]
      },
      {
       "output_type": "stream",
       "stream": "stdout",
       "text": [
        "Selenocysteine (U) at position 59 replaced by X\r\n",
        "Selenocysteine (U) at position 300 replaced by X\r\n",
        "Selenocysteine (U) at position 318 replaced by X\r\n",
        "Selenocysteine (U) at position 330 replaced by X\r\n",
        "Selenocysteine (U) at position 345 replaced by X\r\n",
        "Selenocysteine (U) at position 352 replaced by X\r\n",
        "Selenocysteine (U) at position 367 replaced by X\r\n",
        "Selenocysteine (U) at position 369 replaced by X\r\n",
        "Selenocysteine (U) at position 376 replaced by X\r\n",
        "Selenocysteine (U) at position 378 replaced by X\r\n",
        "Selenocysteine (U) at position 59 replaced by X\r\n",
        "Selenocysteine (U) at position 300 replaced by X\r\n",
        "Selenocysteine (U) at position 318 replaced by X\r\n",
        "Selenocysteine (U) at position 330 replaced by X\r\n",
        "Selenocysteine (U) at position 345 replaced by X\r\n",
        "Selenocysteine (U) at position 352 replaced by X\r\n",
        "Selenocysteine (U) at position 367 replaced by X\r\n",
        "Selenocysteine (U) at position 369 replaced by X\r\n",
        "Selenocysteine (U) at position 376 replaced by X\r\n",
        "Selenocysteine (U) at position 378 replaced by X\r\n",
        "Selenocysteine (U) at position 59 replaced by X\r\n",
        "Selenocysteine (U) at position 318 replaced by X\r\n",
        "Selenocysteine (U) at position 330 replaced by X\r\n",
        "Selenocysteine (U) at position 345 replaced by X\r\n",
        "Selenocysteine (U) at position 352 replaced by X\r\n",
        "Selenocysteine (U) at position 367 replaced by X\r\n",
        "Selenocysteine (U) at position 369 replaced by X\r\n",
        "Selenocysteine (U) at position 376 replaced by X\r\n",
        "Selenocysteine (U) at position 378 replaced by X\r\n",
        "Selenocysteine (U) at position 59 replaced by X\r\n",
        "Selenocysteine (U) at position 318 replaced by X\r\n",
        "Selenocysteine (U) at position 330 replaced by X\r\n",
        "Selenocysteine (U) at position 345 replaced by X\r\n",
        "Selenocysteine (U) at position 352 replaced by X\r\n",
        "Selenocysteine (U) at position 367 replaced by X\r\n",
        "Selenocysteine (U) at position 369 replaced by X\r\n",
        "Selenocysteine (U) at position 376 replaced by X\r\n",
        "Selenocysteine (U) at position 378 replaced by X\r\n"
       ]
      },
      {
       "output_type": "stream",
       "stream": "stdout",
       "text": [
        "Selenocysteine (U) at position 350 replaced by X\r\n"
       ]
      },
      {
       "output_type": "stream",
       "stream": "stdout",
       "text": [
        "Selenocysteine (U) at position 637 replaced by X\r\n"
       ]
      },
      {
       "output_type": "stream",
       "stream": "stdout",
       "text": [
        "Selenocysteine (U) at position 59 replaced by X\r\n",
        "Selenocysteine (U) at position 297 replaced by X\r\n",
        "Selenocysteine (U) at position 307 replaced by X\r\n",
        "Selenocysteine (U) at position 338 replaced by X\r\n",
        "Selenocysteine (U) at position 350 replaced by X\r\n",
        "Selenocysteine (U) at position 363 replaced by X\r\n",
        "Selenocysteine (U) at position 365 replaced by X\r\n",
        "Selenocysteine (U) at position 372 replaced by X\r\n",
        "Selenocysteine (U) at position 388 replaced by X\r\n",
        "Selenocysteine (U) at position 390 replaced by X\r\n",
        "Selenocysteine (U) at position 397 replaced by X\r\n",
        "Selenocysteine (U) at position 399 replaced by X\r\n"
       ]
      },
      {
       "output_type": "stream",
       "stream": "stdout",
       "text": [
        "Selenocysteine (U) at position 204 replaced by X\r\n"
       ]
      },
      {
       "output_type": "stream",
       "stream": "stdout",
       "text": [
        "Selenocysteine (U) at position 73 replaced by X\r\n"
       ]
      },
      {
       "output_type": "stream",
       "stream": "stdout",
       "text": [
        "Selenocysteine (U) at position 132 replaced by X\r\n"
       ]
      },
      {
       "output_type": "stream",
       "stream": "stdout",
       "text": [
        "Selenocysteine (U) at position 196 replaced by X\r\n"
       ]
      },
      {
       "output_type": "stream",
       "stream": "stdout",
       "text": [
        "Selenocysteine (U) at position 126 replaced by X\r\n",
        "Selenocysteine (U) at position 126 replaced by X\r\n"
       ]
      },
      {
       "output_type": "stream",
       "stream": "stdout",
       "text": [
        "Selenocysteine (U) at position 637 replaced by X\r\n"
       ]
      },
      {
       "output_type": "stream",
       "stream": "stdout",
       "text": [
        "Selenocysteine (U) at position 193 replaced by X\r\n"
       ]
      },
      {
       "output_type": "stream",
       "stream": "stdout",
       "text": [
        "Selenocysteine (U) at position 193 replaced by X\r\n"
       ]
      },
      {
       "output_type": "stream",
       "stream": "stdout",
       "text": [
        "Selenocysteine (U) at position 273 replaced by X\r\n"
       ]
      },
      {
       "output_type": "stream",
       "stream": "stdout",
       "text": [
        "Selenocysteine (U) at position 273 replaced by X\r\n"
       ]
      },
      {
       "output_type": "stream",
       "stream": "stdout",
       "text": [
        "Selenocysteine (U) at position 494 replaced by X\r\n"
       ]
      },
      {
       "output_type": "stream",
       "stream": "stdout",
       "text": [
        "Selenocysteine (U) at position 193 replaced by X\r\n"
       ]
      },
      {
       "output_type": "stream",
       "stream": "stdout",
       "text": [
        "Selenocysteine (U) at position 193 replaced by X\r\n",
        "Selenocysteine (U) at position 193 replaced by X\r\n"
       ]
      },
      {
       "output_type": "stream",
       "stream": "stdout",
       "text": [
        "Selenocysteine (U) at position 523 replaced by X\r\n"
       ]
      },
      {
       "output_type": "stream",
       "stream": "stdout",
       "text": [
        "Selenocysteine (U) at position 106 replaced by X\r\n"
       ]
      },
      {
       "output_type": "stream",
       "stream": "stdout",
       "text": [
        "Selenocysteine (U) at position 129 replaced by X\r\n"
       ]
      },
      {
       "output_type": "stream",
       "stream": "stdout",
       "text": [
        "Selenocysteine (U) at position 93 replaced by X\r\n",
        "Selenocysteine (U) at position 93 replaced by X\r\n",
        "Selenocysteine (U) at position 92 replaced by X\r\n",
        "Selenocysteine (U) at position 92 replaced by X\r\n",
        "Selenocysteine (U) at position 92 replaced by X\r\n",
        "Selenocysteine (U) at position 92 replaced by X\r\n",
        "Selenocysteine (U) at position 92 replaced by X\r\n",
        "Selenocysteine (U) at position 92 replaced by X\r\n",
        "Selenocysteine (U) at position 92 replaced by X\r\n",
        "Selenocysteine (U) at position 92 replaced by X\r\n",
        "Selenocysteine (U) at position 92 replaced by X\r\n",
        "Selenocysteine (U) at position 92 replaced by X\r\n"
       ]
      },
      {
       "output_type": "stream",
       "stream": "stdout",
       "text": [
        "Selenocysteine (U) at position 192 replaced by X\r\n",
        "Selenocysteine (U) at position 192 replaced by X\r\n"
       ]
      },
      {
       "output_type": "stream",
       "stream": "stdout",
       "text": [
        "Selenocysteine (U) at position 387 replaced by X\r\n",
        "Selenocysteine (U) at position 388 replaced by X\r\n",
        "Selenocysteine (U) at position 387 replaced by X\r\n"
       ]
      },
      {
       "output_type": "stream",
       "stream": "stdout",
       "text": [
        "Selenocysteine (U) at position 651 replaced by X\r\n",
        "Selenocysteine (U) at position 651 replaced by X\r\n"
       ]
      },
      {
       "output_type": "stream",
       "stream": "stdout",
       "text": [
        "Selenocysteine (U) at position 498 replaced by X\r\n",
        "Selenocysteine (U) at position 498 replaced by X\r\n",
        "Selenocysteine (U) at position 498 replaced by X\r\n",
        "Selenocysteine (U) at position 498 replaced by X\r\n",
        "Selenocysteine (U) at position 498 replaced by X\r\n",
        "Selenocysteine (U) at position 498 replaced by X\r\n",
        "Selenocysteine (U) at position 666 replaced by X\r\n",
        "Selenocysteine (U) at position 666 replaced by X\r\n",
        "Selenocysteine (U) at position 666 replaced by X\r\n",
        "Selenocysteine (U) at position 666 replaced by X\r\n",
        "Selenocysteine (U) at position 494 replaced by X\r\n",
        "Selenocysteine (U) at position 494 replaced by X\r\n",
        "Selenocysteine (U) at position 494 replaced by X\r\n",
        "Selenocysteine (U) at position 494 replaced by X\r\n",
        "Selenocysteine (U) at position 494 replaced by X\r\n",
        "Selenocysteine (U) at position 648 replaced by X\r\n",
        "Selenocysteine (U) at position 648 replaced by X\r\n",
        "Selenocysteine (U) at position 648 replaced by X\r\n",
        "Selenocysteine (U) at position 648 replaced by X\r\n",
        "Selenocysteine (U) at position 648 replaced by X\r\n",
        "Selenocysteine (U) at position 648 replaced by X\r\n",
        "Selenocysteine (U) at position 612 replaced by X\r\n",
        "Selenocysteine (U) at position 612 replaced by X\r\n",
        "Selenocysteine (U) at position 612 replaced by X\r\n",
        "Selenocysteine (U) at position 612 replaced by X\r\n",
        "Selenocysteine (U) at position 612 replaced by X\r\n"
       ]
      },
      {
       "output_type": "stream",
       "stream": "stdout",
       "text": [
        "Selenocysteine (U) at position 612 replaced by X\r\n",
        "Selenocysteine (U) at position 498 replaced by X\r\n",
        "Selenocysteine (U) at position 498 replaced by X\r\n",
        "Selenocysteine (U) at position 498 replaced by X\r\n",
        "Selenocysteine (U) at position 498 replaced by X\r\n",
        "Selenocysteine (U) at position 498 replaced by X\r\n",
        "Selenocysteine (U) at position 498 replaced by X\r\n",
        "Selenocysteine (U) at position 498 replaced by X\r\n",
        "Selenocysteine (U) at position 498 replaced by X\r\n",
        "Selenocysteine (U) at position 498 replaced by X\r\n",
        "Selenocysteine (U) at position 498 replaced by X\r\n",
        "Selenocysteine (U) at position 498 replaced by X\r\n",
        "Selenocysteine (U) at position 498 replaced by X\r\n",
        "Selenocysteine (U) at position 498 replaced by X\r\n",
        "Selenocysteine (U) at position 498 replaced by X\r\n",
        "Selenocysteine (U) at position 498 replaced by X\r\n",
        "Selenocysteine (U) at position 498 replaced by X\r\n",
        "Selenocysteine (U) at position 498 replaced by X\r\n",
        "Selenocysteine (U) at position 498 replaced by X\r\n",
        "Selenocysteine (U) at position 510 replaced by X\r\n",
        "Selenocysteine (U) at position 510 replaced by X\r\n",
        "Selenocysteine (U) at position 510 replaced by X\r\n",
        "Selenocysteine (U) at position 510 replaced by X\r\n",
        "Selenocysteine (U) at position 510 replaced by X\r\n",
        "Selenocysteine (U) at position 510 replaced by X\r\n",
        "Selenocysteine (U) at position 523 replaced by X\r\n",
        "Selenocysteine (U) at position 523 replaced by X\r\n",
        "Selenocysteine (U) at position 523 replaced by X\r\n",
        "Selenocysteine (U) at position 523 replaced by X\r\n",
        "Selenocysteine (U) at position 523 replaced by X\r\n",
        "Selenocysteine (U) at position 523 replaced by X\r\n",
        "Selenocysteine (U) at position 523 replaced by X\r\n",
        "Selenocysteine (U) at position 523 replaced by X\r\n",
        "Selenocysteine (U) at position 523 replaced by X\r\n",
        "Selenocysteine (U) at position 523 replaced by X\r\n",
        "Selenocysteine (U) at position 523 replaced by X\r\n",
        "Selenocysteine (U) at position 523 replaced by X\r\n",
        "Selenocysteine (U) at position 525 replaced by X\r\n",
        "Selenocysteine (U) at position 525 replaced by X\r\n",
        "Selenocysteine (U) at position 525 replaced by X\r\n",
        "Selenocysteine (U) at position 525 replaced by X\r\n",
        "Selenocysteine (U) at position 525 replaced by X\r\n",
        "Selenocysteine (U) at position 525 replaced by X\r\n",
        "Selenocysteine (U) at position 642 replaced by X\r\n",
        "Selenocysteine (U) at position 642 replaced by X\r\n",
        "Selenocysteine (U) at position 642 replaced by X\r\n",
        "Selenocysteine (U) at position 642 replaced by X\r\n",
        "Selenocysteine (U) at position 642 replaced by X\r\n",
        "Selenocysteine (U) at position 642 replaced by X\r\n",
        "Selenocysteine (U) at position 651 replaced by X\r\n",
        "Selenocysteine (U) at position 651 replaced by X\r\n",
        "Selenocysteine (U) at position 651 replaced by X\r\n",
        "Selenocysteine (U) at position 651 replaced by X\r\n",
        "Selenocysteine (U) at position 651 replaced by X\r\n",
        "Selenocysteine (U) at position 651 replaced by X\r\n"
       ]
      },
      {
       "output_type": "stream",
       "stream": "stdout",
       "text": [
        "Selenocysteine (U) at position 613 replaced by X\r\n",
        "Selenocysteine (U) at position 613 replaced by X\r\n",
        "Selenocysteine (U) at position 613 replaced by X\r\n",
        "Selenocysteine (U) at position 613 replaced by X\r\n",
        "Selenocysteine (U) at position 613 replaced by X\r\n",
        "Selenocysteine (U) at position 613 replaced by X\r\n",
        "Selenocysteine (U) at position 613 replaced by X\r\n",
        "Selenocysteine (U) at position 613 replaced by X\r\n"
       ]
      },
      {
       "output_type": "stream",
       "stream": "stdout",
       "text": [
        "Selenocysteine (U) at position 19 replaced by X\r\n"
       ]
      },
      {
       "output_type": "stream",
       "stream": "stdout",
       "text": [
        "Selenocysteine (U) at position 93 replaced by X\r\n"
       ]
      },
      {
       "output_type": "stream",
       "stream": "stdout",
       "text": [
        "Selenocysteine (U) at position 59 replaced by X\r\n",
        "Selenocysteine (U) at position 297 replaced by X\r\n",
        "Selenocysteine (U) at position 307 replaced by X\r\n",
        "Selenocysteine (U) at position 338 replaced by X\r\n",
        "Selenocysteine (U) at position 350 replaced by X\r\n",
        "Selenocysteine (U) at position 363 replaced by X\r\n",
        "Selenocysteine (U) at position 365 replaced by X\r\n",
        "Selenocysteine (U) at position 372 replaced by X\r\n",
        "Selenocysteine (U) at position 388 replaced by X\r\n",
        "Selenocysteine (U) at position 390 replaced by X\r\n",
        "Selenocysteine (U) at position 397 replaced by X\r\n",
        "Selenocysteine (U) at position 399 replaced by X\r\n"
       ]
      },
      {
       "output_type": "stream",
       "stream": "stdout",
       "text": [
        "Selenocysteine (U) at position 59 replaced by X\r\n",
        "Selenocysteine (U) at position 297 replaced by X\r\n",
        "Selenocysteine (U) at position 307 replaced by X\r\n",
        "Selenocysteine (U) at position 338 replaced by X\r\n",
        "Selenocysteine (U) at position 350 replaced by X\r\n",
        "Selenocysteine (U) at position 363 replaced by X\r\n",
        "Selenocysteine (U) at position 365 replaced by X\r\n",
        "Selenocysteine (U) at position 372 replaced by X\r\n",
        "Selenocysteine (U) at position 388 replaced by X\r\n",
        "Selenocysteine (U) at position 390 replaced by X\r\n",
        "Selenocysteine (U) at position 397 replaced by X\r\n",
        "Selenocysteine (U) at position 399 replaced by X\r\n",
        "Selenocysteine (U) at position 59 replaced by X\r\n",
        "Selenocysteine (U) at position 297 replaced by X\r\n",
        "Selenocysteine (U) at position 307 replaced by X\r\n",
        "Selenocysteine (U) at position 338 replaced by X\r\n",
        "Selenocysteine (U) at position 350 replaced by X\r\n",
        "Selenocysteine (U) at position 363 replaced by X\r\n",
        "Selenocysteine (U) at position 365 replaced by X\r\n",
        "Selenocysteine (U) at position 372 replaced by X\r\n",
        "Selenocysteine (U) at position 388 replaced by X\r\n",
        "Selenocysteine (U) at position 390 replaced by X\r\n",
        "Selenocysteine (U) at position 397 replaced by X\r\n",
        "Selenocysteine (U) at position 399 replaced by X\r\n"
       ]
      },
      {
       "output_type": "stream",
       "stream": "stdout",
       "text": [
        "Selenocysteine (U) at position 273 replaced by X\r\n",
        "Selenocysteine (U) at position 273 replaced by X\r\n"
       ]
      },
      {
       "output_type": "stream",
       "stream": "stdout",
       "text": [
        "Selenocysteine (U) at position 690 replaced by X\r\n",
        "Selenocysteine (U) at position 690 replaced by X\r\n",
        "Selenocysteine (U) at position 690 replaced by X\r\n",
        "Selenocysteine (U) at position 690 replaced by X\r\n",
        "Selenocysteine (U) at position 690 replaced by X\r\n",
        "Selenocysteine (U) at position 690 replaced by X\r\n",
        "Selenocysteine (U) at position 690 replaced by X\r\n",
        "Selenocysteine (U) at position 690 replaced by X\r\n",
        "Selenocysteine (U) at position 690 replaced by X\r\n",
        "Selenocysteine (U) at position 690 replaced by X\r\n",
        "Selenocysteine (U) at position 667 replaced by X\r\n",
        "Selenocysteine (U) at position 667 replaced by X\r\n",
        "Selenocysteine (U) at position 667 replaced by X\r\n",
        "Selenocysteine (U) at position 667 replaced by X\r\n",
        "Selenocysteine (U) at position 667 replaced by X\r\n",
        "Selenocysteine (U) at position 667 replaced by X\r\n",
        "Selenocysteine (U) at position 667 replaced by X\r\n",
        "Selenocysteine (U) at position 667 replaced by X\r\n",
        "Selenocysteine (U) at position 667 replaced by X\r\n",
        "Selenocysteine (U) at position 667 replaced by X\r\n",
        "Selenocysteine (U) at position 667 replaced by X\r\n",
        "Selenocysteine (U) at position 665 replaced by X\r\n",
        "Selenocysteine (U) at position 665 replaced by X\r\n",
        "Selenocysteine (U) at position 665 replaced by X\r\n",
        "Selenocysteine (U) at position 665 replaced by X\r\n",
        "Selenocysteine (U) at position 665 replaced by X\r\n",
        "Selenocysteine (U) at position 665 replaced by X\r\n",
        "Selenocysteine (U) at position 665 replaced by X\r\n",
        "Selenocysteine (U) at position 665 replaced by X\r\n",
        "Selenocysteine (U) at position 665 replaced by X\r\n",
        "Selenocysteine (U) at position 665 replaced by X\r\n",
        "Selenocysteine (U) at position 665 replaced by X\r\n"
       ]
      },
      {
       "output_type": "stream",
       "stream": "stdout",
       "text": [
        "Selenocysteine (U) at position 129 replaced by X\r\n"
       ]
      },
      {
       "output_type": "stream",
       "stream": "stdout",
       "text": [
        "Selenocysteine (U) at position 129 replaced by X\r\n"
       ]
      },
      {
       "output_type": "stream",
       "stream": "stdout",
       "text": [
        "Selenocysteine (U) at position 498 replaced by X\r\n"
       ]
      },
      {
       "output_type": "stream",
       "stream": "stdout",
       "text": [
        "Selenocysteine (U) at position 84 replaced by X\r\n",
        "Selenocysteine (U) at position 60 replaced by X\r\n"
       ]
      },
      {
       "output_type": "stream",
       "stream": "stdout",
       "text": [
        "Selenocysteine (U) at position 637 replaced by X\r\n"
       ]
      },
      {
       "output_type": "stream",
       "stream": "stdout",
       "text": [
        "Selenocysteine (U) at position 120 replaced by X\r\n"
       ]
      },
      {
       "output_type": "stream",
       "stream": "stdout",
       "text": [
        "Selenocysteine (U) at position 37 replaced by X\r\n",
        "Selenocysteine (U) at position 37 replaced by X\r\n",
        "Selenocysteine (U) at position 37 replaced by X\r\n"
       ]
      },
      {
       "output_type": "stream",
       "stream": "stdout",
       "text": [
        "Selenocysteine (U) at position 37 replaced by X\r\n"
       ]
      },
      {
       "output_type": "stream",
       "stream": "stdout",
       "text": [
        "Selenocysteine (U) at position 59 replaced by X\r\n",
        "Selenocysteine (U) at position 297 replaced by X\r\n",
        "Selenocysteine (U) at position 307 replaced by X\r\n",
        "Selenocysteine (U) at position 338 replaced by X\r\n",
        "Selenocysteine (U) at position 350 replaced by X\r\n",
        "Selenocysteine (U) at position 363 replaced by X\r\n",
        "Selenocysteine (U) at position 365 replaced by X\r\n",
        "Selenocysteine (U) at position 372 replaced by X\r\n",
        "Selenocysteine (U) at position 388 replaced by X\r\n",
        "Selenocysteine (U) at position 390 replaced by X\r\n",
        "Selenocysteine (U) at position 397 replaced by X\r\n",
        "Selenocysteine (U) at position 399 replaced by X\r\n"
       ]
      },
      {
       "output_type": "stream",
       "stream": "stdout",
       "text": [
        "Selenocysteine (U) at position 59 replaced by X\r\n",
        "Selenocysteine (U) at position 318 replaced by X\r\n",
        "Selenocysteine (U) at position 330 replaced by X\r\n",
        "Selenocysteine (U) at position 345 replaced by X\r\n",
        "Selenocysteine (U) at position 352 replaced by X\r\n",
        "Selenocysteine (U) at position 367 replaced by X\r\n",
        "Selenocysteine (U) at position 369 replaced by X\r\n",
        "Selenocysteine (U) at position 376 replaced by X\r\n",
        "Selenocysteine (U) at position 378 replaced by X\r\n"
       ]
      },
      {
       "output_type": "stream",
       "stream": "stdout",
       "text": [
        "Selenocysteine (U) at position 690 replaced by X\r\n"
       ]
      },
      {
       "output_type": "stream",
       "stream": "stdout",
       "text": [
        "Selenocysteine (U) at position 59 replaced by X\r\n",
        "Selenocysteine (U) at position 297 replaced by X\r\n",
        "Selenocysteine (U) at position 307 replaced by X\r\n",
        "Selenocysteine (U) at position 338 replaced by X\r\n",
        "Selenocysteine (U) at position 350 replaced by X\r\n",
        "Selenocysteine (U) at position 363 replaced by X\r\n",
        "Selenocysteine (U) at position 365 replaced by X\r\n",
        "Selenocysteine (U) at position 372 replaced by X\r\n",
        "Selenocysteine (U) at position 388 replaced by X\r\n",
        "Selenocysteine (U) at position 390 replaced by X\r\n",
        "Selenocysteine (U) at position 397 replaced by X\r\n",
        "Selenocysteine (U) at position 399 replaced by X\r\n",
        "Selenocysteine (U) at position 59 replaced by X\r\n",
        "Selenocysteine (U) at position 318 replaced by X\r\n",
        "Selenocysteine (U) at position 330 replaced by X\r\n",
        "Selenocysteine (U) at position 345 replaced by X\r\n",
        "Selenocysteine (U) at position 352 replaced by X\r\n",
        "Selenocysteine (U) at position 367 replaced by X\r\n",
        "Selenocysteine (U) at position 369 replaced by X\r\n",
        "Selenocysteine (U) at position 376 replaced by X\r\n",
        "Selenocysteine (U) at position 378 replaced by X\r\n"
       ]
      },
      {
       "output_type": "stream",
       "stream": "stdout",
       "text": [
        "Selenocysteine (U) at position 15 replaced by X\r\n"
       ]
      },
      {
       "output_type": "stream",
       "stream": "stdout",
       "text": [
        "Selenocysteine (U) at position 15 replaced by X\r\n",
        "Selenocysteine (U) at position 15 replaced by X\r\n"
       ]
      },
      {
       "output_type": "stream",
       "stream": "stdout",
       "text": [
        "Selenocysteine (U) at position 47 replaced by X\r\n"
       ]
      },
      {
       "output_type": "stream",
       "stream": "stdout",
       "text": [
        "Selenocysteine (U) at position 95 replaced by X\r\n",
        "Selenocysteine (U) at position 95 replaced by X\r\n"
       ]
      },
      {
       "output_type": "stream",
       "stream": "stdout",
       "text": [
        "Selenocysteine (U) at position 92 replaced by X\r\n"
       ]
      },
      {
       "output_type": "stream",
       "stream": "stdout",
       "text": [
        "Selenocysteine (U) at position 59 replaced by X\r\n",
        "Selenocysteine (U) at position 267 replaced by X\r\n",
        "Selenocysteine (U) at position 273 replaced by X\r\n",
        "Selenocysteine (U) at position 279 replaced by X\r\n",
        "Selenocysteine (U) at position 290 replaced by X\r\n",
        "Selenocysteine (U) at position 292 replaced by X\r\n",
        "Selenocysteine (U) at position 294 replaced by X\r\n",
        "Selenocysteine (U) at position 310 replaced by X\r\n",
        "Selenocysteine (U) at position 320 replaced by X\r\n",
        "Selenocysteine (U) at position 322 replaced by X\r\n",
        "Selenocysteine (U) at position 336 replaced by X\r\n",
        "Selenocysteine (U) at position 338 replaced by X\r\n",
        "Selenocysteine (U) at position 346 replaced by X\r\n",
        "Selenocysteine (U) at position 353 replaced by X\r\n",
        "Selenocysteine (U) at position 355 replaced by X\r\n",
        "Selenocysteine (U) at position 362 replaced by X\r\n",
        "Selenocysteine (U) at position 364 replaced by X\r\n"
       ]
      },
      {
       "output_type": "stream",
       "stream": "stdout",
       "text": [
        "Selenocysteine (U) at position 74 replaced by X\r\n"
       ]
      },
      {
       "output_type": "stream",
       "stream": "stdout",
       "text": [
        "Selenocysteine (U) at position 74 replaced by X\r\n"
       ]
      },
      {
       "output_type": "stream",
       "stream": "stdout",
       "text": [
        "Selenocysteine (U) at position 430 replaced by X\r\n",
        "Selenocysteine (U) at position 430 replaced by X\r\n",
        "Selenocysteine (U) at position 430 replaced by X\r\n",
        "Selenocysteine (U) at position 430 replaced by X\r\n",
        "Selenocysteine (U) at position 430 replaced by X\r\n",
        "Selenocysteine (U) at position 430 replaced by X\r\n",
        "Selenocysteine (U) at position 430 replaced by X\r\n",
        "Selenocysteine (U) at position 430 replaced by X\r\n",
        "Selenocysteine (U) at position 430 replaced by X\r\n",
        "Selenocysteine (U) at position 430 replaced by X\r\n",
        "Selenocysteine (U) at position 430 replaced by X\r\n",
        "Selenocysteine (U) at position 430 replaced by X\r\n",
        "Selenocysteine (U) at position 127 replaced by X\r\n",
        "Selenocysteine (U) at position 462 replaced by X\r\n",
        "Selenocysteine (U) at position 127 replaced by X\r\n",
        "Selenocysteine (U) at position 462 replaced by X\r\n",
        "Selenocysteine (U) at position 127 replaced by X\r\n",
        "Selenocysteine (U) at position 462 replaced by X\r\n",
        "Selenocysteine (U) at position 127 replaced by X\r\n",
        "Selenocysteine (U) at position 462 replaced by X\r\n",
        "Selenocysteine (U) at position 127 replaced by X\r\n",
        "Selenocysteine (U) at position 462 replaced by X\r\n",
        "Selenocysteine (U) at position 127 replaced by X\r\n",
        "Selenocysteine (U) at position 462 replaced by X\r\n",
        "Selenocysteine (U) at position 127 replaced by X\r\n",
        "Selenocysteine (U) at position 462 replaced by X\r\n",
        "Selenocysteine (U) at position 127 replaced by X\r\n",
        "Selenocysteine (U) at position 462 replaced by X\r\n",
        "Selenocysteine (U) at position 127 replaced by X\r\n",
        "Selenocysteine (U) at position 462 replaced by X\r\n",
        "Selenocysteine (U) at position 127 replaced by X\r\n",
        "Selenocysteine (U) at position 462 replaced by X\r\n",
        "Selenocysteine (U) at position 127 replaced by X\r\n",
        "Selenocysteine (U) at position 462 replaced by X\r\n",
        "Selenocysteine (U) at position 127 replaced by X\r\n",
        "Selenocysteine (U) at position 462 replaced by X\r\n",
        "Selenocysteine (U) at position 127 replaced by X\r\n",
        "Selenocysteine (U) at position 462 replaced by X\r\n",
        "Selenocysteine (U) at position 127 replaced by X\r\n",
        "Selenocysteine (U) at position 462 replaced by X\r\n",
        "Selenocysteine (U) at position 436 replaced by X\r\n",
        "Selenocysteine (U) at position 436 replaced by X\r\n",
        "Selenocysteine (U) at position 436 replaced by X\r\n",
        "Selenocysteine (U) at position 436 replaced by X\r\n",
        "Selenocysteine (U) at position 436 replaced by X\r\n",
        "Selenocysteine (U) at position 436 replaced by X\r\n",
        "Selenocysteine (U) at position 436 replaced by X\r\n",
        "Selenocysteine (U) at position 436 replaced by X\r\n",
        "Selenocysteine (U) at position 436 replaced by X\r\n",
        "Selenocysteine (U) at position 436 replaced by X\r\n",
        "Selenocysteine (U) at position 436 replaced by X\r\n",
        "Selenocysteine (U) at position 436 replaced by X\r\n",
        "Selenocysteine (U) at position 59 replaced by X\r\n",
        "Selenocysteine (U) at position 267 replaced by X\r\n",
        "Selenocysteine (U) at position 273 replaced by X\r\n",
        "Selenocysteine (U) at position 279 replaced by X\r\n",
        "Selenocysteine (U) at position 290 replaced by X\r\n",
        "Selenocysteine (U) at position 292 replaced by X\r\n",
        "Selenocysteine (U) at position 294 replaced by X\r\n",
        "Selenocysteine (U) at position 310 replaced by X\r\n",
        "Selenocysteine (U) at position 320 replaced by X\r\n",
        "Selenocysteine (U) at position 322 replaced by X\r\n",
        "Selenocysteine (U) at position 336 replaced by X\r\n",
        "Selenocysteine (U) at position 338 replaced by X\r\n",
        "Selenocysteine (U) at position 346 replaced by X\r\n",
        "Selenocysteine (U) at position 353 replaced by X\r\n",
        "Selenocysteine (U) at position 355 replaced by X\r\n",
        "Selenocysteine (U) at position 362 replaced by X\r\n",
        "Selenocysteine (U) at position 364 replaced by X\r\n"
       ]
      },
      {
       "output_type": "stream",
       "stream": "stdout",
       "text": [
        "Selenocysteine (U) at position 642 replaced by X\r\n",
        "Selenocysteine (U) at position 642 replaced by X\r\n"
       ]
      },
      {
       "output_type": "stream",
       "stream": "stdout",
       "text": [
        "Selenocysteine (U) at position 59 replaced by X\r\n",
        "Selenocysteine (U) at position 267 replaced by X\r\n",
        "Selenocysteine (U) at position 273 replaced by X\r\n",
        "Selenocysteine (U) at position 279 replaced by X\r\n",
        "Selenocysteine (U) at position 290 replaced by X\r\n",
        "Selenocysteine (U) at position 292 replaced by X\r\n",
        "Selenocysteine (U) at position 294 replaced by X\r\n",
        "Selenocysteine (U) at position 310 replaced by X\r\n",
        "Selenocysteine (U) at position 320 replaced by X\r\n",
        "Selenocysteine (U) at position 322 replaced by X\r\n",
        "Selenocysteine (U) at position 336 replaced by X\r\n",
        "Selenocysteine (U) at position 338 replaced by X\r\n",
        "Selenocysteine (U) at position 346 replaced by X\r\n",
        "Selenocysteine (U) at position 353 replaced by X\r\n",
        "Selenocysteine (U) at position 355 replaced by X\r\n",
        "Selenocysteine (U) at position 362 replaced by X\r\n",
        "Selenocysteine (U) at position 364 replaced by X\r\n"
       ]
      },
      {
       "output_type": "stream",
       "stream": "stdout",
       "text": [
        "Selenocysteine (U) at position 637 replaced by X\r\n"
       ]
      },
      {
       "output_type": "stream",
       "stream": "stdout",
       "text": [
        "Selenocysteine (U) at position 637 replaced by X\r\n"
       ]
      },
      {
       "output_type": "stream",
       "stream": "stdout",
       "text": [
        "Selenocysteine (U) at position 64 replaced by X\r\n"
       ]
      },
      {
       "output_type": "stream",
       "stream": "stdout",
       "text": [
        "Selenocysteine (U) at position 613 replaced by X\r\n",
        "Selenocysteine (U) at position 613 replaced by X\r\n",
        "Selenocysteine (U) at position 613 replaced by X\r\n",
        "Selenocysteine (U) at position 613 replaced by X\r\n"
       ]
      },
      {
       "output_type": "stream",
       "stream": "stdout",
       "text": [
        "Selenocysteine (U) at position 133 replaced by X\r\n"
       ]
      },
      {
       "output_type": "stream",
       "stream": "stdout",
       "text": [
        "Selenocysteine (U) at position 690 replaced by X\r\n"
       ]
      },
      {
       "output_type": "stream",
       "stream": "stdout",
       "text": [
        "Selenocysteine (U) at position 690 replaced by X\r\n"
       ]
      },
      {
       "output_type": "stream",
       "stream": "stdout",
       "text": [
        "Selenocysteine (U) at position 196 replaced by X\r\n"
       ]
      },
      {
       "output_type": "stream",
       "stream": "stdout",
       "text": [
        "Selenocysteine (U) at position 665 replaced by X\r\n"
       ]
      },
      {
       "output_type": "stream",
       "stream": "stdout",
       "text": [
        "Selenocysteine (U) at position 59 replaced by X\r\n",
        "Selenocysteine (U) at position 297 replaced by X\r\n",
        "Selenocysteine (U) at position 307 replaced by X\r\n",
        "Selenocysteine (U) at position 338 replaced by X\r\n",
        "Selenocysteine (U) at position 350 replaced by X\r\n",
        "Selenocysteine (U) at position 363 replaced by X\r\n",
        "Selenocysteine (U) at position 365 replaced by X\r\n",
        "Selenocysteine (U) at position 372 replaced by X\r\n",
        "Selenocysteine (U) at position 388 replaced by X\r\n",
        "Selenocysteine (U) at position 390 replaced by X\r\n",
        "Selenocysteine (U) at position 397 replaced by X\r\n",
        "Selenocysteine (U) at position 399 replaced by X\r\n"
       ]
      },
      {
       "output_type": "stream",
       "stream": "stdout",
       "text": [
        "Selenocysteine (U) at position 59 replaced by X\r\n",
        "Selenocysteine (U) at position 297 replaced by X\r\n",
        "Selenocysteine (U) at position 307 replaced by X\r\n",
        "Selenocysteine (U) at position 338 replaced by X\r\n",
        "Selenocysteine (U) at position 350 replaced by X\r\n",
        "Selenocysteine (U) at position 363 replaced by X\r\n",
        "Selenocysteine (U) at position 365 replaced by X\r\n",
        "Selenocysteine (U) at position 372 replaced by X\r\n",
        "Selenocysteine (U) at position 388 replaced by X\r\n",
        "Selenocysteine (U) at position 390 replaced by X\r\n",
        "Selenocysteine (U) at position 397 replaced by X\r\n",
        "Selenocysteine (U) at position 399 replaced by X\r\n"
       ]
      },
      {
       "output_type": "stream",
       "stream": "stdout",
       "text": [
        "Selenocysteine (U) at position 637 replaced by X\r\n",
        "Selenocysteine (U) at position 690 replaced by X\r\n"
       ]
      },
      {
       "output_type": "stream",
       "stream": "stdout",
       "text": [
        "Selenocysteine (U) at position 47 replaced by X\r\n",
        "Selenocysteine (U) at position 47 replaced by X\r\n",
        "Selenocysteine (U) at position 47 replaced by X\r\n",
        "Selenocysteine (U) at position 47 replaced by X\r\n",
        "Selenocysteine (U) at position 47 replaced by X\r\n",
        "Selenocysteine (U) at position 47 replaced by X\r\n"
       ]
      },
      {
       "output_type": "stream",
       "stream": "stdout",
       "text": [
        "Selenocysteine (U) at position 637 replaced by X\r\n",
        "Selenocysteine (U) at position 690 replaced by X\r\n"
       ]
      },
      {
       "output_type": "stream",
       "stream": "stdout",
       "text": [
        "Selenocysteine (U) at position 637 replaced by X\r\n",
        "Selenocysteine (U) at position 637 replaced by X\r\n",
        "Selenocysteine (U) at position 637 replaced by X\r\n",
        "Selenocysteine (U) at position 637 replaced by X\r\n",
        "Selenocysteine (U) at position 690 replaced by X\r\n",
        "Selenocysteine (U) at position 690 replaced by X\r\n",
        "Selenocysteine (U) at position 690 replaced by X\r\n",
        "Selenocysteine (U) at position 690 replaced by X\r\n"
       ]
      },
      {
       "output_type": "stream",
       "stream": "stdout",
       "text": [
        "Selenocysteine (U) at position 637 replaced by X\r\n",
        "Selenocysteine (U) at position 637 replaced by X\r\n",
        "Selenocysteine (U) at position 637 replaced by X\r\n",
        "Selenocysteine (U) at position 690 replaced by X\r\n",
        "Selenocysteine (U) at position 690 replaced by X\r\n",
        "Selenocysteine (U) at position 690 replaced by X\r\n"
       ]
      },
      {
       "output_type": "stream",
       "stream": "stdout",
       "text": [
        "Selenocysteine (U) at position 59 replaced by X\r\n",
        "Selenocysteine (U) at position 318 replaced by X\r\n",
        "Selenocysteine (U) at position 330 replaced by X\r\n",
        "Selenocysteine (U) at position 345 replaced by X\r\n",
        "Selenocysteine (U) at position 352 replaced by X\r\n",
        "Selenocysteine (U) at position 367 replaced by X\r\n",
        "Selenocysteine (U) at position 369 replaced by X\r\n",
        "Selenocysteine (U) at position 376 replaced by X\r\n",
        "Selenocysteine (U) at position 378 replaced by X\r\n",
        "Selenocysteine (U) at position 59 replaced by X\r\n",
        "Selenocysteine (U) at position 318 replaced by X\r\n",
        "Selenocysteine (U) at position 330 replaced by X\r\n",
        "Selenocysteine (U) at position 345 replaced by X\r\n",
        "Selenocysteine (U) at position 352 replaced by X\r\n",
        "Selenocysteine (U) at position 367 replaced by X\r\n",
        "Selenocysteine (U) at position 369 replaced by X\r\n",
        "Selenocysteine (U) at position 376 replaced by X\r\n",
        "Selenocysteine (U) at position 378 replaced by X\r\n"
       ]
      },
      {
       "output_type": "stream",
       "stream": "stdout",
       "text": [
        "Selenocysteine (U) at position 510 replaced by X\r\n",
        "Selenocysteine (U) at position 510 replaced by X\r\n"
       ]
      },
      {
       "output_type": "stream",
       "stream": "stdout",
       "text": [
        "Selenocysteine (U) at position 59 replaced by X\r\n",
        "Selenocysteine (U) at position 297 replaced by X\r\n",
        "Selenocysteine (U) at position 307 replaced by X\r\n",
        "Selenocysteine (U) at position 338 replaced by X\r\n",
        "Selenocysteine (U) at position 350 replaced by X\r\n",
        "Selenocysteine (U) at position 363 replaced by X\r\n",
        "Selenocysteine (U) at position 365 replaced by X\r\n",
        "Selenocysteine (U) at position 372 replaced by X\r\n",
        "Selenocysteine (U) at position 388 replaced by X\r\n",
        "Selenocysteine (U) at position 390 replaced by X\r\n",
        "Selenocysteine (U) at position 397 replaced by X\r\n",
        "Selenocysteine (U) at position 399 replaced by X\r\n"
       ]
      },
      {
       "output_type": "stream",
       "stream": "stdout",
       "text": [
        "Selenocysteine (U) at position 59 replaced by X\r\n",
        "Selenocysteine (U) at position 264 replaced by X\r\n",
        "Selenocysteine (U) at position 282 replaced by X\r\n",
        "Selenocysteine (U) at position 323 replaced by X\r\n",
        "Selenocysteine (U) at position 335 replaced by X\r\n",
        "Selenocysteine (U) at position 357 replaced by X\r\n",
        "Selenocysteine (U) at position 371 replaced by X\r\n",
        "Selenocysteine (U) at position 373 replaced by X\r\n",
        "Selenocysteine (U) at position 380 replaced by X\r\n",
        "Selenocysteine (U) at position 382 replaced by X\r\n"
       ]
      },
      {
       "output_type": "stream",
       "stream": "stdout",
       "text": [
        "Selenocysteine (U) at position 637 replaced by X\r\n",
        "Selenocysteine (U) at position 690 replaced by X\r\n"
       ]
      },
      {
       "output_type": "stream",
       "stream": "stdout",
       "text": [
        "Selenocysteine (U) at position 17 replaced by X\r\n",
        "Selenocysteine (U) at position 17 replaced by X\r\n",
        "Selenocysteine (U) at position 16 replaced by X\r\n"
       ]
      },
      {
       "output_type": "stream",
       "stream": "stdout",
       "text": [
        "Selenocysteine (U) at position 109 replaced by X\r\n"
       ]
      },
      {
       "output_type": "stream",
       "stream": "stdout",
       "text": [
        "Selenocysteine (U) at position 109 replaced by X\r\n"
       ]
      },
      {
       "output_type": "stream",
       "stream": "stdout",
       "text": [
        "Selenocysteine (U) at position 196 replaced by X\r\n"
       ]
      },
      {
       "output_type": "stream",
       "stream": "stdout",
       "text": [
        "Selenocysteine (U) at position 494 replaced by X\r\n"
       ]
      },
      {
       "output_type": "stream",
       "stream": "stdout",
       "text": [
        "Selenocysteine (U) at position 196 replaced by X\r\n"
       ]
      },
      {
       "output_type": "stream",
       "stream": "stdout",
       "text": [
        "Selenocysteine (U) at position 133 replaced by X\r\n"
       ]
      },
      {
       "output_type": "stream",
       "stream": "stdout",
       "text": [
        "Selenocysteine (U) at position 133 replaced by X\r\n"
       ]
      },
      {
       "output_type": "stream",
       "stream": "stdout",
       "text": [
        "Selenocysteine (U) at position 388 replaced by X\r\n"
       ]
      },
      {
       "output_type": "stream",
       "stream": "stdout",
       "text": [
        "Selenocysteine (U) at position 193 replaced by X\r\n"
       ]
      },
      {
       "output_type": "stream",
       "stream": "stdout",
       "text": [
        "Selenocysteine (U) at position 95 replaced by X\r\n",
        "Selenocysteine (U) at position 95 replaced by X\r\n"
       ]
      },
      {
       "output_type": "stream",
       "stream": "stdout",
       "text": [
        "Selenocysteine (U) at position 121 replaced by X\r\n",
        "Selenocysteine (U) at position 121 replaced by X\r\n",
        "Selenocysteine (U) at position 126 replaced by X\r\n",
        "Selenocysteine (U) at position 126 replaced by X\r\n"
       ]
      },
      {
       "output_type": "stream",
       "stream": "stdout",
       "text": [
        "Selenocysteine (U) at position 17 replaced by X\r\n"
       ]
      },
      {
       "output_type": "stream",
       "stream": "stdout",
       "text": [
        "Selenocysteine (U) at position 200 replaced by X\r\n",
        "Selenocysteine (U) at position 200 replaced by X\r\n"
       ]
      },
      {
       "output_type": "stream",
       "stream": "stdout",
       "text": [
        "Selenocysteine (U) at position 46 replaced by X\r\n",
        "Selenocysteine (U) at position 46 replaced by X\r\n",
        "Selenocysteine (U) at position 200 replaced by X\r\n"
       ]
      },
      {
       "output_type": "stream",
       "stream": "stdout",
       "text": [
        "Selenocysteine (U) at position 430 replaced by X\r\n"
       ]
      },
      {
       "output_type": "stream",
       "stream": "stdout",
       "text": [
        "Selenocysteine (U) at position 523 replaced by X\r\n",
        "Selenocysteine (U) at position 525 replaced by X\r\n"
       ]
      },
      {
       "output_type": "stream",
       "stream": "stdout",
       "text": [
        "Selenocysteine (U) at position 132 replaced by X\r\n",
        "Selenocysteine (U) at position 265 replaced by X\r\n"
       ]
      },
      {
       "output_type": "stream",
       "stream": "stdout",
       "text": [
        "Selenocysteine (U) at position 92 replaced by X\r\n",
        "Selenocysteine (U) at position 92 replaced by X\r\n"
       ]
      },
      {
       "output_type": "stream",
       "stream": "stdout",
       "text": [
        "Selenocysteine (U) at position 523 replaced by X\r\n",
        "Selenocysteine (U) at position 523 replaced by X\r\n"
       ]
      },
      {
       "output_type": "stream",
       "stream": "stdout",
       "text": [
        "Selenocysteine (U) at position 196 replaced by X\r\n"
       ]
      },
      {
       "output_type": "stream",
       "stream": "stdout",
       "text": [
        "Selenocysteine (U) at position 121 replaced by X\r\n",
        "Selenocysteine (U) at position 126 replaced by X\r\n"
       ]
      },
      {
       "output_type": "stream",
       "stream": "stdout",
       "text": [
        "Selenocysteine (U) at position 196 replaced by X\r\n",
        "Selenocysteine (U) at position 196 replaced by X\r\n"
       ]
      },
      {
       "output_type": "stream",
       "stream": "stdout",
       "text": [
        "Selenocysteine (U) at position 690 replaced by X\r\n",
        "Selenocysteine (U) at position 59 replaced by X\r\n",
        "Selenocysteine (U) at position 297 replaced by X\r\n",
        "Selenocysteine (U) at position 307 replaced by X\r\n",
        "Selenocysteine (U) at position 338 replaced by X\r\n",
        "Selenocysteine (U) at position 350 replaced by X\r\n",
        "Selenocysteine (U) at position 363 replaced by X\r\n",
        "Selenocysteine (U) at position 365 replaced by X\r\n",
        "Selenocysteine (U) at position 372 replaced by X\r\n",
        "Selenocysteine (U) at position 388 replaced by X\r\n",
        "Selenocysteine (U) at position 390 replaced by X\r\n",
        "Selenocysteine (U) at position 397 replaced by X\r\n",
        "Selenocysteine (U) at position 399 replaced by X\r\n"
       ]
      },
      {
       "output_type": "stream",
       "stream": "stdout",
       "text": [
        "Selenocysteine (U) at position 204 replaced by X\r\n"
       ]
      },
      {
       "output_type": "stream",
       "stream": "stdout",
       "text": [
        "Selenocysteine (U) at position 47 replaced by X\r\n",
        "Selenocysteine (U) at position 47 replaced by X\r\n",
        "Selenocysteine (U) at position 49 replaced by X\r\n",
        "Selenocysteine (U) at position 49 replaced by X\r\n",
        "Selenocysteine (U) at position 53 replaced by X\r\n",
        "Selenocysteine (U) at position 53 replaced by X\r\n",
        "Selenocysteine (U) at position 49 replaced by X\r\n",
        "Selenocysteine (U) at position 49 replaced by X\r\n",
        "Selenocysteine (U) at position 49 replaced by X\r\n",
        "Selenocysteine (U) at position 49 replaced by X\r\n",
        "Selenocysteine (U) at position 49 replaced by X\r\n",
        "Selenocysteine (U) at position 49 replaced by X\r\n"
       ]
      },
      {
       "output_type": "stream",
       "stream": "stdout",
       "text": [
        "Selenocysteine (U) at position 690 replaced by X\r\n"
       ]
      },
      {
       "output_type": "stream",
       "stream": "stdout",
       "text": [
        "Selenocysteine (U) at position 44 replaced by X\r\n"
       ]
      },
      {
       "output_type": "stream",
       "stream": "stdout",
       "text": [
        "Selenocysteine (U) at position 498 replaced by X\r\n",
        "Selenocysteine (U) at position 648 replaced by X\r\n",
        "Selenocysteine (U) at position 498 replaced by X\r\n",
        "Selenocysteine (U) at position 498 replaced by X\r\n"
       ]
      },
      {
       "output_type": "stream",
       "stream": "stdout",
       "text": [
        "Selenocysteine (U) at position 189 replaced by X\r\n",
        "Selenocysteine (U) at position 189 replaced by X\r\n",
        "Selenocysteine (U) at position 189 replaced by X\r\n",
        "Selenocysteine (U) at position 189 replaced by X\r\n"
       ]
      },
      {
       "output_type": "stream",
       "stream": "stdout",
       "text": [
        "Selenocysteine (U) at position 193 replaced by X\r\n"
       ]
      },
      {
       "output_type": "stream",
       "stream": "stdout",
       "text": [
        "Selenocysteine (U) at position 192 replaced by X\r\n"
       ]
      },
      {
       "output_type": "stream",
       "stream": "stdout",
       "text": [
        "Selenocysteine (U) at position 187 replaced by X\r\n",
        "Selenocysteine (U) at position 187 replaced by X\r\n",
        "Selenocysteine (U) at position 187 replaced by X\r\n"
       ]
      },
      {
       "output_type": "stream",
       "stream": "stdout",
       "text": [
        "Selenocysteine (U) at position 187 replaced by X\r\n",
        "Selenocysteine (U) at position 187 replaced by X\r\n"
       ]
      },
      {
       "output_type": "stream",
       "stream": "stdout",
       "text": [
        "Selenocysteine (U) at position 7 replaced by X\r\n"
       ]
      },
      {
       "output_type": "stream",
       "stream": "stdout",
       "text": [
        "Selenocysteine (U) at position 7 replaced by X\r\n"
       ]
      },
      {
       "output_type": "stream",
       "stream": "stdout",
       "text": [
        "Selenocysteine (U) at position 59 replaced by X\r\n",
        "Selenocysteine (U) at position 300 replaced by X\r\n",
        "Selenocysteine (U) at position 318 replaced by X\r\n",
        "Selenocysteine (U) at position 330 replaced by X\r\n",
        "Selenocysteine (U) at position 345 replaced by X\r\n",
        "Selenocysteine (U) at position 352 replaced by X\r\n",
        "Selenocysteine (U) at position 367 replaced by X\r\n",
        "Selenocysteine (U) at position 369 replaced by X\r\n",
        "Selenocysteine (U) at position 376 replaced by X\r\n",
        "Selenocysteine (U) at position 378 replaced by X\r\n",
        "Selenocysteine (U) at position 59 replaced by X\r\n",
        "Selenocysteine (U) at position 318 replaced by X\r\n",
        "Selenocysteine (U) at position 330 replaced by X\r\n",
        "Selenocysteine (U) at position 345 replaced by X\r\n",
        "Selenocysteine (U) at position 352 replaced by X\r\n",
        "Selenocysteine (U) at position 367 replaced by X\r\n",
        "Selenocysteine (U) at position 369 replaced by X\r\n",
        "Selenocysteine (U) at position 376 replaced by X\r\n",
        "Selenocysteine (U) at position 378 replaced by X\r\n"
       ]
      },
      {
       "output_type": "stream",
       "stream": "stdout",
       "text": [
        "Selenocysteine (U) at position 59 replaced by X\r\n",
        "Selenocysteine (U) at position 297 replaced by X\r\n",
        "Selenocysteine (U) at position 307 replaced by X\r\n",
        "Selenocysteine (U) at position 338 replaced by X\r\n",
        "Selenocysteine (U) at position 350 replaced by X\r\n",
        "Selenocysteine (U) at position 363 replaced by X\r\n",
        "Selenocysteine (U) at position 365 replaced by X\r\n",
        "Selenocysteine (U) at position 372 replaced by X\r\n",
        "Selenocysteine (U) at position 388 replaced by X\r\n",
        "Selenocysteine (U) at position 390 replaced by X\r\n",
        "Selenocysteine (U) at position 397 replaced by X\r\n",
        "Selenocysteine (U) at position 399 replaced by X\r\n",
        "Selenocysteine (U) at position 59 replaced by X\r\n",
        "Selenocysteine (U) at position 297 replaced by X\r\n",
        "Selenocysteine (U) at position 307 replaced by X\r\n",
        "Selenocysteine (U) at position 338 replaced by X\r\n",
        "Selenocysteine (U) at position 350 replaced by X\r\n",
        "Selenocysteine (U) at position 363 replaced by X\r\n",
        "Selenocysteine (U) at position 365 replaced by X\r\n",
        "Selenocysteine (U) at position 372 replaced by X\r\n",
        "Selenocysteine (U) at position 388 replaced by X\r\n",
        "Selenocysteine (U) at position 390 replaced by X\r\n",
        "Selenocysteine (U) at position 397 replaced by X\r\n",
        "Selenocysteine (U) at position 399 replaced by X\r\n",
        "Selenocysteine (U) at position 59 replaced by X\r\n",
        "Selenocysteine (U) at position 297 replaced by X\r\n",
        "Selenocysteine (U) at position 307 replaced by X\r\n",
        "Selenocysteine (U) at position 338 replaced by X\r\n",
        "Selenocysteine (U) at position 350 replaced by X\r\n",
        "Selenocysteine (U) at position 363 replaced by X\r\n",
        "Selenocysteine (U) at position 365 replaced by X\r\n",
        "Selenocysteine (U) at position 372 replaced by X\r\n",
        "Selenocysteine (U) at position 388 replaced by X\r\n",
        "Selenocysteine (U) at position 390 replaced by X\r\n",
        "Selenocysteine (U) at position 397 replaced by X\r\n",
        "Selenocysteine (U) at position 399 replaced by X\r\n",
        "Selenocysteine (U) at position 59 replaced by X\r\n",
        "Selenocysteine (U) at position 297 replaced by X\r\n",
        "Selenocysteine (U) at position 307 replaced by X\r\n",
        "Selenocysteine (U) at position 338 replaced by X\r\n",
        "Selenocysteine (U) at position 350 replaced by X\r\n",
        "Selenocysteine (U) at position 363 replaced by X\r\n",
        "Selenocysteine (U) at position 365 replaced by X\r\n",
        "Selenocysteine (U) at position 372 replaced by X\r\n",
        "Selenocysteine (U) at position 388 replaced by X\r\n",
        "Selenocysteine (U) at position 390 replaced by X\r\n",
        "Selenocysteine (U) at position 397 replaced by X\r\n",
        "Selenocysteine (U) at position 399 replaced by X\r\n",
        "Selenocysteine (U) at position 59 replaced by X\r\n",
        "Selenocysteine (U) at position 300 replaced by X\r\n",
        "Selenocysteine (U) at position 318 replaced by X\r\n",
        "Selenocysteine (U) at position 330 replaced by X\r\n",
        "Selenocysteine (U) at position 345 replaced by X\r\n",
        "Selenocysteine (U) at position 352 replaced by X\r\n",
        "Selenocysteine (U) at position 367 replaced by X\r\n",
        "Selenocysteine (U) at position 369 replaced by X\r\n",
        "Selenocysteine (U) at position 376 replaced by X\r\n",
        "Selenocysteine (U) at position 378 replaced by X\r\n",
        "Selenocysteine (U) at position 59 replaced by X\r\n",
        "Selenocysteine (U) at position 300 replaced by X\r\n",
        "Selenocysteine (U) at position 318 replaced by X\r\n",
        "Selenocysteine (U) at position 330 replaced by X\r\n",
        "Selenocysteine (U) at position 345 replaced by X\r\n",
        "Selenocysteine (U) at position 352 replaced by X\r\n",
        "Selenocysteine (U) at position 367 replaced by X\r\n",
        "Selenocysteine (U) at position 369 replaced by X\r\n",
        "Selenocysteine (U) at position 376 replaced by X\r\n",
        "Selenocysteine (U) at position 378 replaced by X\r\n",
        "Selenocysteine (U) at position 59 replaced by X\r\n",
        "Selenocysteine (U) at position 318 replaced by X\r\n",
        "Selenocysteine (U) at position 330 replaced by X\r\n",
        "Selenocysteine (U) at position 345 replaced by X\r\n",
        "Selenocysteine (U) at position 352 replaced by X\r\n",
        "Selenocysteine (U) at position 367 replaced by X\r\n",
        "Selenocysteine (U) at position 369 replaced by X\r\n",
        "Selenocysteine (U) at position 376 replaced by X\r\n",
        "Selenocysteine (U) at position 378 replaced by X\r\n",
        "Selenocysteine (U) at position 59 replaced by X\r\n",
        "Selenocysteine (U) at position 318 replaced by X\r\n",
        "Selenocysteine (U) at position 330 replaced by X\r\n",
        "Selenocysteine (U) at position 345 replaced by X\r\n",
        "Selenocysteine (U) at position 352 replaced by X\r\n",
        "Selenocysteine (U) at position 367 replaced by X\r\n",
        "Selenocysteine (U) at position 369 replaced by X\r\n",
        "Selenocysteine (U) at position 376 replaced by X\r\n",
        "Selenocysteine (U) at position 378 replaced by X\r\n"
       ]
      },
      {
       "output_type": "stream",
       "stream": "stdout",
       "text": [
        "Selenocysteine (U) at position 126 replaced by X\r\n",
        "Selenocysteine (U) at position 126 replaced by X\r\n"
       ]
      },
      {
       "output_type": "stream",
       "stream": "stdout",
       "text": [
        "Selenocysteine (U) at position 196 replaced by X\r\n",
        "Selenocysteine (U) at position 197 replaced by X\r\n"
       ]
      },
      {
       "output_type": "stream",
       "stream": "stdout",
       "text": [
        "Selenocysteine (U) at position 59 replaced by X\r\n",
        "Selenocysteine (U) at position 297 replaced by X\r\n",
        "Selenocysteine (U) at position 307 replaced by X\r\n",
        "Selenocysteine (U) at position 338 replaced by X\r\n",
        "Selenocysteine (U) at position 350 replaced by X\r\n",
        "Selenocysteine (U) at position 363 replaced by X\r\n",
        "Selenocysteine (U) at position 365 replaced by X\r\n",
        "Selenocysteine (U) at position 372 replaced by X\r\n",
        "Selenocysteine (U) at position 388 replaced by X\r\n",
        "Selenocysteine (U) at position 390 replaced by X\r\n",
        "Selenocysteine (U) at position 397 replaced by X\r\n",
        "Selenocysteine (U) at position 399 replaced by X\r\n"
       ]
      },
      {
       "output_type": "stream",
       "stream": "stdout",
       "text": [
        "Selenocysteine (U) at position 196 replaced by X\r\n",
        "Selenocysteine (U) at position 197 replaced by X\r\n"
       ]
      },
      {
       "output_type": "stream",
       "stream": "stdout",
       "text": [
        "Selenocysteine (U) at position 637 replaced by X\r\n"
       ]
      },
      {
       "output_type": "stream",
       "stream": "stdout",
       "text": [
        "Selenocysteine (U) at position 637 replaced by X\r\n"
       ]
      },
      {
       "output_type": "stream",
       "stream": "stdout",
       "text": [
        "Selenocysteine (U) at position 637 replaced by X\r\n",
        "Selenocysteine (U) at position 637 replaced by X\r\n"
       ]
      },
      {
       "output_type": "stream",
       "stream": "stdout",
       "text": [
        "Selenocysteine (U) at position 59 replaced by X\r\n",
        "Selenocysteine (U) at position 259 replaced by X\r\n",
        "Selenocysteine (U) at position 277 replaced by X\r\n",
        "Selenocysteine (U) at position 318 replaced by X\r\n",
        "Selenocysteine (U) at position 330 replaced by X\r\n",
        "Selenocysteine (U) at position 352 replaced by X\r\n",
        "Selenocysteine (U) at position 366 replaced by X\r\n",
        "Selenocysteine (U) at position 368 replaced by X\r\n",
        "Selenocysteine (U) at position 375 replaced by X\r\n",
        "Selenocysteine (U) at position 377 replaced by X\r\n",
        "Selenocysteine (U) at position 59 replaced by X\r\n",
        "Selenocysteine (U) at position 264 replaced by X\r\n",
        "Selenocysteine (U) at position 282 replaced by X\r\n",
        "Selenocysteine (U) at position 323 replaced by X\r\n",
        "Selenocysteine (U) at position 335 replaced by X\r\n",
        "Selenocysteine (U) at position 357 replaced by X\r\n",
        "Selenocysteine (U) at position 371 replaced by X\r\n",
        "Selenocysteine (U) at position 373 replaced by X\r\n",
        "Selenocysteine (U) at position 380 replaced by X\r\n",
        "Selenocysteine (U) at position 382 replaced by X\r\n"
       ]
      },
      {
       "output_type": "stream",
       "stream": "stdout",
       "text": [
        "Selenocysteine (U) at position 43 replaced by X\r\n"
       ]
      },
      {
       "output_type": "stream",
       "stream": "stdout",
       "text": [
        "Selenocysteine (U) at position 43 replaced by X\r\n",
        "Selenocysteine (U) at position 43 replaced by X\r\n"
       ]
      },
      {
       "output_type": "stream",
       "stream": "stdout",
       "text": [
        "Selenocysteine (U) at position 59 replaced by X\r\n",
        "Selenocysteine (U) at position 267 replaced by X\r\n",
        "Selenocysteine (U) at position 273 replaced by X\r\n",
        "Selenocysteine (U) at position 279 replaced by X\r\n",
        "Selenocysteine (U) at position 290 replaced by X\r\n",
        "Selenocysteine (U) at position 292 replaced by X\r\n",
        "Selenocysteine (U) at position 294 replaced by X\r\n",
        "Selenocysteine (U) at position 310 replaced by X\r\n",
        "Selenocysteine (U) at position 320 replaced by X\r\n",
        "Selenocysteine (U) at position 322 replaced by X\r\n",
        "Selenocysteine (U) at position 336 replaced by X\r\n",
        "Selenocysteine (U) at position 338 replaced by X\r\n",
        "Selenocysteine (U) at position 346 replaced by X\r\n",
        "Selenocysteine (U) at position 353 replaced by X\r\n",
        "Selenocysteine (U) at position 355 replaced by X\r\n",
        "Selenocysteine (U) at position 362 replaced by X\r\n",
        "Selenocysteine (U) at position 364 replaced by X\r\n"
       ]
      },
      {
       "output_type": "stream",
       "stream": "stdout",
       "text": [
        "Selenocysteine (U) at position 59 replaced by X\r\n",
        "Selenocysteine (U) at position 297 replaced by X\r\n",
        "Selenocysteine (U) at position 307 replaced by X\r\n",
        "Selenocysteine (U) at position 338 replaced by X\r\n",
        "Selenocysteine (U) at position 350 replaced by X\r\n",
        "Selenocysteine (U) at position 363 replaced by X\r\n",
        "Selenocysteine (U) at position 365 replaced by X\r\n",
        "Selenocysteine (U) at position 372 replaced by X\r\n",
        "Selenocysteine (U) at position 388 replaced by X\r\n",
        "Selenocysteine (U) at position 390 replaced by X\r\n",
        "Selenocysteine (U) at position 397 replaced by X\r\n",
        "Selenocysteine (U) at position 399 replaced by X\r\n"
       ]
      },
      {
       "output_type": "stream",
       "stream": "stdout",
       "text": [
        "Selenocysteine (U) at position 52 replaced by X\r\n",
        "Selenocysteine (U) at position 47 replaced by X\r\n",
        "Selenocysteine (U) at position 47 replaced by X\r\n",
        "Selenocysteine (U) at position 49 replaced by X\r\n",
        "Selenocysteine (U) at position 47 replaced by X\r\n",
        "Selenocysteine (U) at position 47 replaced by X\r\n",
        "Selenocysteine (U) at position 52 replaced by X\r\n",
        "Selenocysteine (U) at position 47 replaced by X\r\n"
       ]
      },
      {
       "output_type": "stream",
       "stream": "stdout",
       "text": [
        "Selenocysteine (U) at position 494 replaced by X\r\n"
       ]
      },
      {
       "output_type": "stream",
       "stream": "stdout",
       "text": [
        "Selenocysteine (U) at position 690 replaced by X\r\n"
       ]
      },
      {
       "output_type": "stream",
       "stream": "stdout",
       "text": [
        "Selenocysteine (U) at position 666 replaced by X\r\n"
       ]
      },
      {
       "output_type": "stream",
       "stream": "stdout",
       "text": [
        "Selenocysteine (U) at position 666 replaced by X\r\n"
       ]
      },
      {
       "output_type": "stream",
       "stream": "stdout",
       "text": [
        "Selenocysteine (U) at position 131 replaced by X\r\n"
       ]
      },
      {
       "output_type": "stream",
       "stream": "stdout",
       "text": [
        "Selenocysteine (U) at position 131 replaced by X\r\n"
       ]
      },
      {
       "output_type": "stream",
       "stream": "stdout",
       "text": [
        "Selenocysteine (U) at position 666 replaced by X\r\n"
       ]
      },
      {
       "output_type": "stream",
       "stream": "stdout",
       "text": [
        "Selenocysteine (U) at position 16 replaced by X\r\n",
        "Selenocysteine (U) at position 59 replaced by X\r\n",
        "Selenocysteine (U) at position 267 replaced by X\r\n",
        "Selenocysteine (U) at position 273 replaced by X\r\n",
        "Selenocysteine (U) at position 279 replaced by X\r\n",
        "Selenocysteine (U) at position 290 replaced by X\r\n",
        "Selenocysteine (U) at position 292 replaced by X\r\n",
        "Selenocysteine (U) at position 294 replaced by X\r\n",
        "Selenocysteine (U) at position 310 replaced by X\r\n",
        "Selenocysteine (U) at position 320 replaced by X\r\n",
        "Selenocysteine (U) at position 322 replaced by X\r\n",
        "Selenocysteine (U) at position 336 replaced by X\r\n",
        "Selenocysteine (U) at position 338 replaced by X\r\n",
        "Selenocysteine (U) at position 346 replaced by X\r\n",
        "Selenocysteine (U) at position 353 replaced by X\r\n",
        "Selenocysteine (U) at position 355 replaced by X\r\n",
        "Selenocysteine (U) at position 362 replaced by X\r\n",
        "Selenocysteine (U) at position 364 replaced by X\r\n"
       ]
      },
      {
       "output_type": "stream",
       "stream": "stdout",
       "text": [
        "Selenocysteine (U) at position 47 replaced by X\r\n"
       ]
      },
      {
       "output_type": "stream",
       "stream": "stdout",
       "text": [
        "Selenocysteine (U) at position 47 replaced by X\r\n"
       ]
      },
      {
       "output_type": "stream",
       "stream": "stdout",
       "text": [
        "Selenocysteine (U) at position 49 replaced by X\r\n",
        "Selenocysteine (U) at position 47 replaced by X\r\n",
        "Selenocysteine (U) at position 47 replaced by X\r\n",
        "Selenocysteine (U) at position 47 replaced by X\r\n",
        "Selenocysteine (U) at position 47 replaced by X\r\n",
        "Selenocysteine (U) at position 47 replaced by X\r\n"
       ]
      },
      {
       "output_type": "stream",
       "stream": "stdout",
       "text": [
        "Selenocysteine (U) at position 65 replaced by X\r\n",
        "Selenocysteine (U) at position 65 replaced by X\r\n"
       ]
      },
      {
       "output_type": "stream",
       "stream": "stdout",
       "text": [
        "Selenocysteine (U) at position 196 replaced by X\r\n",
        "Selenocysteine (U) at position 196 replaced by X\r\n",
        "Selenocysteine (U) at position 204 replaced by X\r\n"
       ]
      },
      {
       "output_type": "stream",
       "stream": "stdout",
       "text": [
        "Selenocysteine (U) at position 196 replaced by X\r\n",
        "Selenocysteine (U) at position 196 replaced by X\r\n",
        "Selenocysteine (U) at position 196 replaced by X\r\n",
        "Selenocysteine (U) at position 196 replaced by X\r\n",
        "Selenocysteine (U) at position 196 replaced by X\r\n",
        "Selenocysteine (U) at position 196 replaced by X\r\n",
        "Selenocysteine (U) at position 196 replaced by X\r\n",
        "Selenocysteine (U) at position 196 replaced by X\r\n",
        "Selenocysteine (U) at position 204 replaced by X\r\n",
        "Selenocysteine (U) at position 204 replaced by X\r\n",
        "Selenocysteine (U) at position 204 replaced by X\r\n",
        "Selenocysteine (U) at position 204 replaced by X\r\n"
       ]
      },
      {
       "output_type": "stream",
       "stream": "stdout",
       "text": [
        "Selenocysteine (U) at position 273 replaced by X\r\n",
        "Selenocysteine (U) at position 273 replaced by X\r\n",
        "Selenocysteine (U) at position 273 replaced by X\r\n",
        "Selenocysteine (U) at position 273 replaced by X\r\n",
        "Selenocysteine (U) at position 273 replaced by X\r\n"
       ]
      },
      {
       "output_type": "stream",
       "stream": "stdout",
       "text": [
        "Selenocysteine (U) at position 74 replaced by X\r\n"
       ]
      },
      {
       "output_type": "stream",
       "stream": "stdout",
       "text": [
        "Selenocysteine (U) at position 131 replaced by X\r\n",
        "Selenocysteine (U) at position 131 replaced by X\r\n"
       ]
      },
      {
       "output_type": "stream",
       "stream": "stdout",
       "text": [
        "Selenocysteine (U) at position 144 replaced by X\r\n",
        "Selenocysteine (U) at position 144 replaced by X\r\n"
       ]
      },
      {
       "output_type": "stream",
       "stream": "stdout",
       "text": [
        "Selenocysteine (U) at position 498 replaced by X\r\n",
        "Selenocysteine (U) at position 498 replaced by X\r\n",
        "Selenocysteine (U) at position 648 replaced by X\r\n",
        "Selenocysteine (U) at position 648 replaced by X\r\n",
        "Selenocysteine (U) at position 612 replaced by X\r\n",
        "Selenocysteine (U) at position 612 replaced by X\r\n",
        "Selenocysteine (U) at position 498 replaced by X\r\n",
        "Selenocysteine (U) at position 498 replaced by X\r\n",
        "Selenocysteine (U) at position 498 replaced by X\r\n",
        "Selenocysteine (U) at position 498 replaced by X\r\n",
        "Selenocysteine (U) at position 498 replaced by X\r\n",
        "Selenocysteine (U) at position 498 replaced by X\r\n"
       ]
      },
      {
       "output_type": "stream",
       "stream": "stdout",
       "text": [
        "Selenocysteine (U) at position 498 replaced by X\r\n",
        "Selenocysteine (U) at position 648 replaced by X\r\n",
        "Selenocysteine (U) at position 612 replaced by X\r\n",
        "Selenocysteine (U) at position 498 replaced by X\r\n",
        "Selenocysteine (U) at position 498 replaced by X\r\n",
        "Selenocysteine (U) at position 498 replaced by X\r\n"
       ]
      },
      {
       "output_type": "stream",
       "stream": "stdout",
       "text": [
        "Selenocysteine (U) at position 59 replaced by X\r\n",
        "Selenocysteine (U) at position 264 replaced by X\r\n",
        "Selenocysteine (U) at position 282 replaced by X\r\n",
        "Selenocysteine (U) at position 323 replaced by X\r\n",
        "Selenocysteine (U) at position 335 replaced by X\r\n",
        "Selenocysteine (U) at position 357 replaced by X\r\n",
        "Selenocysteine (U) at position 371 replaced by X\r\n",
        "Selenocysteine (U) at position 373 replaced by X\r\n",
        "Selenocysteine (U) at position 380 replaced by X\r\n",
        "Selenocysteine (U) at position 382 replaced by X\r\n",
        "Selenocysteine (U) at position 59 replaced by X\r\n",
        "Selenocysteine (U) at position 264 replaced by X\r\n",
        "Selenocysteine (U) at position 282 replaced by X\r\n",
        "Selenocysteine (U) at position 323 replaced by X\r\n",
        "Selenocysteine (U) at position 335 replaced by X\r\n",
        "Selenocysteine (U) at position 357 replaced by X\r\n",
        "Selenocysteine (U) at position 371 replaced by X\r\n",
        "Selenocysteine (U) at position 373 replaced by X\r\n",
        "Selenocysteine (U) at position 380 replaced by X\r\n",
        "Selenocysteine (U) at position 382 replaced by X\r\n",
        "Selenocysteine (U) at position 59 replaced by X\r\n",
        "Selenocysteine (U) at position 264 replaced by X\r\n",
        "Selenocysteine (U) at position 282 replaced by X\r\n",
        "Selenocysteine (U) at position 323 replaced by X\r\n",
        "Selenocysteine (U) at position 335 replaced by X\r\n",
        "Selenocysteine (U) at position 357 replaced by X\r\n",
        "Selenocysteine (U) at position 371 replaced by X\r\n",
        "Selenocysteine (U) at position 373 replaced by X\r\n",
        "Selenocysteine (U) at position 380 replaced by X\r\n",
        "Selenocysteine (U) at position 382 replaced by X\r\n"
       ]
      },
      {
       "output_type": "stream",
       "stream": "stdout",
       "text": [
        "Selenocysteine (U) at position 59 replaced by X\r\n",
        "Selenocysteine (U) at position 297 replaced by X\r\n",
        "Selenocysteine (U) at position 307 replaced by X\r\n",
        "Selenocysteine (U) at position 338 replaced by X\r\n",
        "Selenocysteine (U) at position 350 replaced by X\r\n",
        "Selenocysteine (U) at position 363 replaced by X\r\n",
        "Selenocysteine (U) at position 365 replaced by X\r\n",
        "Selenocysteine (U) at position 372 replaced by X\r\n",
        "Selenocysteine (U) at position 388 replaced by X\r\n",
        "Selenocysteine (U) at position 390 replaced by X\r\n",
        "Selenocysteine (U) at position 397 replaced by X\r\n",
        "Selenocysteine (U) at position 399 replaced by X\r\n"
       ]
      },
      {
       "output_type": "stream",
       "stream": "stdout",
       "text": [
        "Selenocysteine (U) at position 59 replaced by X\r\n",
        "Selenocysteine (U) at position 297 replaced by X\r\n",
        "Selenocysteine (U) at position 307 replaced by X\r\n",
        "Selenocysteine (U) at position 338 replaced by X\r\n",
        "Selenocysteine (U) at position 350 replaced by X\r\n",
        "Selenocysteine (U) at position 363 replaced by X\r\n",
        "Selenocysteine (U) at position 365 replaced by X\r\n",
        "Selenocysteine (U) at position 372 replaced by X\r\n",
        "Selenocysteine (U) at position 388 replaced by X\r\n",
        "Selenocysteine (U) at position 390 replaced by X\r\n",
        "Selenocysteine (U) at position 397 replaced by X\r\n",
        "Selenocysteine (U) at position 399 replaced by X\r\n"
       ]
      },
      {
       "output_type": "stream",
       "stream": "stdout",
       "text": [
        "Selenocysteine (U) at position 667 replaced by X\r\n"
       ]
      },
      {
       "output_type": "stream",
       "stream": "stdout",
       "text": [
        "Selenocysteine (U) at position 667 replaced by X\r\n"
       ]
      },
      {
       "output_type": "stream",
       "stream": "stdout",
       "text": [
        "Selenocysteine (U) at position 16 replaced by X\r\n",
        "Selenocysteine (U) at position 16 replaced by X\r\n",
        "Selenocysteine (U) at position 16 replaced by X\r\n",
        "Selenocysteine (U) at position 16 replaced by X\r\n",
        "Selenocysteine (U) at position 16 replaced by X\r\n"
       ]
      },
      {
       "output_type": "stream",
       "stream": "stdout",
       "text": [
        "Selenocysteine (U) at position 16 replaced by X\r\n"
       ]
      },
      {
       "output_type": "stream",
       "stream": "stdout",
       "text": [
        "Selenocysteine (U) at position 40 replaced by X\r\n"
       ]
      },
      {
       "output_type": "stream",
       "stream": "stdout",
       "text": [
        "Selenocysteine (U) at position 204 replaced by X\r\n",
        "Selenocysteine (U) at position 204 replaced by X\r\n"
       ]
      },
      {
       "output_type": "stream",
       "stream": "stdout",
       "text": [
        "Selenocysteine (U) at position 15 replaced by X\r\n",
        "Selenocysteine (U) at position 66 replaced by X\r\n"
       ]
      },
      {
       "output_type": "stream",
       "stream": "stdout",
       "text": [
        "Selenocysteine (U) at position 59 replaced by X\r\n",
        "Selenocysteine (U) at position 267 replaced by X\r\n",
        "Selenocysteine (U) at position 273 replaced by X\r\n",
        "Selenocysteine (U) at position 279 replaced by X\r\n",
        "Selenocysteine (U) at position 290 replaced by X\r\n",
        "Selenocysteine (U) at position 292 replaced by X\r\n",
        "Selenocysteine (U) at position 294 replaced by X\r\n",
        "Selenocysteine (U) at position 310 replaced by X\r\n",
        "Selenocysteine (U) at position 320 replaced by X\r\n",
        "Selenocysteine (U) at position 322 replaced by X\r\n",
        "Selenocysteine (U) at position 336 replaced by X\r\n",
        "Selenocysteine (U) at position 338 replaced by X\r\n",
        "Selenocysteine (U) at position 346 replaced by X\r\n",
        "Selenocysteine (U) at position 353 replaced by X\r\n",
        "Selenocysteine (U) at position 355 replaced by X\r\n",
        "Selenocysteine (U) at position 362 replaced by X\r\n",
        "Selenocysteine (U) at position 364 replaced by X\r\n"
       ]
      },
      {
       "output_type": "stream",
       "stream": "stdout",
       "text": [
        "Selenocysteine (U) at position 59 replaced by X\r\n",
        "Selenocysteine (U) at position 267 replaced by X\r\n",
        "Selenocysteine (U) at position 273 replaced by X\r\n",
        "Selenocysteine (U) at position 279 replaced by X\r\n",
        "Selenocysteine (U) at position 290 replaced by X\r\n",
        "Selenocysteine (U) at position 292 replaced by X\r\n",
        "Selenocysteine (U) at position 294 replaced by X\r\n",
        "Selenocysteine (U) at position 310 replaced by X\r\n",
        "Selenocysteine (U) at position 320 replaced by X\r\n",
        "Selenocysteine (U) at position 322 replaced by X\r\n",
        "Selenocysteine (U) at position 336 replaced by X\r\n",
        "Selenocysteine (U) at position 338 replaced by X\r\n",
        "Selenocysteine (U) at position 346 replaced by X\r\n",
        "Selenocysteine (U) at position 353 replaced by X\r\n",
        "Selenocysteine (U) at position 355 replaced by X\r\n",
        "Selenocysteine (U) at position 362 replaced by X\r\n",
        "Selenocysteine (U) at position 364 replaced by X\r\n"
       ]
      },
      {
       "output_type": "stream",
       "stream": "stdout",
       "text": [
        "Selenocysteine (U) at position 197 replaced by X\r\n"
       ]
      },
      {
       "output_type": "stream",
       "stream": "stdout",
       "text": [
        "Selenocysteine (U) at position 48 replaced by X\r\n"
       ]
      },
      {
       "output_type": "stream",
       "stream": "stdout",
       "text": [
        "Selenocysteine (U) at position 48 replaced by X\r\n"
       ]
      },
      {
       "output_type": "stream",
       "stream": "stdout",
       "text": [
        "Selenocysteine (U) at position 144 replaced by X\r\n",
        "Selenocysteine (U) at position 144 replaced by X\r\n"
       ]
      },
      {
       "output_type": "stream",
       "stream": "stdout",
       "text": [
        "Selenocysteine (U) at position 204 replaced by X\r\n"
       ]
      },
      {
       "output_type": "stream",
       "stream": "stdout",
       "text": [
        "Selenocysteine (U) at position 59 replaced by X\r\n",
        "Selenocysteine (U) at position 297 replaced by X\r\n",
        "Selenocysteine (U) at position 307 replaced by X\r\n",
        "Selenocysteine (U) at position 338 replaced by X\r\n",
        "Selenocysteine (U) at position 350 replaced by X\r\n",
        "Selenocysteine (U) at position 363 replaced by X\r\n",
        "Selenocysteine (U) at position 365 replaced by X\r\n",
        "Selenocysteine (U) at position 372 replaced by X\r\n",
        "Selenocysteine (U) at position 388 replaced by X\r\n",
        "Selenocysteine (U) at position 390 replaced by X\r\n",
        "Selenocysteine (U) at position 397 replaced by X\r\n",
        "Selenocysteine (U) at position 399 replaced by X\r\n"
       ]
      },
      {
       "output_type": "stream",
       "stream": "stdout",
       "text": [
        "Selenocysteine (U) at position 59 replaced by X\r\n",
        "Selenocysteine (U) at position 297 replaced by X\r\n",
        "Selenocysteine (U) at position 307 replaced by X\r\n",
        "Selenocysteine (U) at position 338 replaced by X\r\n",
        "Selenocysteine (U) at position 350 replaced by X\r\n",
        "Selenocysteine (U) at position 363 replaced by X\r\n",
        "Selenocysteine (U) at position 365 replaced by X\r\n",
        "Selenocysteine (U) at position 372 replaced by X\r\n",
        "Selenocysteine (U) at position 388 replaced by X\r\n",
        "Selenocysteine (U) at position 390 replaced by X\r\n",
        "Selenocysteine (U) at position 397 replaced by X\r\n",
        "Selenocysteine (U) at position 399 replaced by X\r\n"
       ]
      },
      {
       "output_type": "stream",
       "stream": "stdout",
       "text": [
        "Selenocysteine (U) at position 40 replaced by X\r\n",
        "Selenocysteine (U) at position 40 replaced by X\r\n",
        "Selenocysteine (U) at position 40 replaced by X\r\n",
        "Selenocysteine (U) at position 40 replaced by X\r\n",
        "Selenocysteine (U) at position 40 replaced by X\r\n",
        "Selenocysteine (U) at position 40 replaced by X\r\n"
       ]
      },
      {
       "output_type": "stream",
       "stream": "stdout",
       "text": [
        "Selenocysteine (U) at position 189 replaced by X\r\n"
       ]
      },
      {
       "output_type": "stream",
       "stream": "stdout",
       "text": [
        "Selenocysteine (U) at position 44 replaced by X\r\n",
        "Selenocysteine (U) at position 44 replaced by X\r\n",
        "Selenocysteine (U) at position 44 replaced by X\r\n",
        "Selenocysteine (U) at position 44 replaced by X\r\n"
       ]
      },
      {
       "output_type": "stream",
       "stream": "stdout",
       "text": [
        "Selenocysteine (U) at position 123 replaced by X\r\n",
        "Selenocysteine (U) at position 123 replaced by X\r\n"
       ]
      },
      {
       "output_type": "stream",
       "stream": "stdout",
       "text": [
        "Selenocysteine (U) at position 15 replaced by X\r\n",
        "Selenocysteine (U) at position 15 replaced by X\r\n"
       ]
      },
      {
       "output_type": "stream",
       "stream": "stdout",
       "text": [
        "Selenocysteine (U) at position 64 replaced by X\r\n"
       ]
      },
      {
       "output_type": "stream",
       "stream": "stdout",
       "text": [
        "Selenocysteine (U) at position 64 replaced by X\r\n"
       ]
      },
      {
       "output_type": "stream",
       "stream": "stdout",
       "text": [
        "Selenocysteine (U) at position 665 replaced by X\r\n"
       ]
      },
      {
       "output_type": "stream",
       "stream": "stdout",
       "text": [
        "Selenocysteine (U) at position 273 replaced by X\r\n",
        "Selenocysteine (U) at position 273 replaced by X\r\n"
       ]
      },
      {
       "output_type": "stream",
       "stream": "stdout",
       "text": [
        "Selenocysteine (U) at position 637 replaced by X\r\n",
        "Selenocysteine (U) at position 690 replaced by X\r\n"
       ]
      },
      {
       "output_type": "stream",
       "stream": "stdout",
       "text": [
        "Selenocysteine (U) at position 637 replaced by X\r\n",
        "Selenocysteine (U) at position 637 replaced by X\r\n",
        "Selenocysteine (U) at position 690 replaced by X\r\n",
        "Selenocysteine (U) at position 690 replaced by X\r\n"
       ]
      },
      {
       "output_type": "stream",
       "stream": "stdout",
       "text": [
        "Selenocysteine (U) at position 192 replaced by X\r\n",
        "Selenocysteine (U) at position 192 replaced by X\r\n",
        "Selenocysteine (U) at position 192 replaced by X\r\n",
        "Selenocysteine (U) at position 192 replaced by X\r\n",
        "Selenocysteine (U) at position 187 replaced by X\r\n",
        "Selenocysteine (U) at position 187 replaced by X\r\n",
        "Selenocysteine (U) at position 187 replaced by X\r\n",
        "Selenocysteine (U) at position 187 replaced by X\r\n",
        "Selenocysteine (U) at position 189 replaced by X\r\n",
        "Selenocysteine (U) at position 189 replaced by X\r\n",
        "Selenocysteine (U) at position 189 replaced by X\r\n",
        "Selenocysteine (U) at position 189 replaced by X\r\n",
        "Selenocysteine (U) at position 189 replaced by X\r\n",
        "Selenocysteine (U) at position 189 replaced by X\r\n",
        "Selenocysteine (U) at position 188 replaced by X\r\n",
        "Selenocysteine (U) at position 188 replaced by X\r\n",
        "Selenocysteine (U) at position 188 replaced by X\r\n",
        "Selenocysteine (U) at position 188 replaced by X\r\n",
        "Selenocysteine (U) at position 189 replaced by X\r\n",
        "Selenocysteine (U) at position 189 replaced by X\r\n",
        "Selenocysteine (U) at position 189 replaced by X\r\n",
        "Selenocysteine (U) at position 189 replaced by X\r\n",
        "Selenocysteine (U) at position 189 replaced by X\r\n",
        "Selenocysteine (U) at position 189 replaced by X\r\n",
        "Selenocysteine (U) at position 189 replaced by X\r\n",
        "Selenocysteine (U) at position 189 replaced by X\r\n",
        "Selenocysteine (U) at position 189 replaced by X\r\n",
        "Selenocysteine (U) at position 189 replaced by X\r\n",
        "Selenocysteine (U) at position 189 replaced by X\r\n",
        "Selenocysteine (U) at position 189 replaced by X\r\n",
        "Selenocysteine (U) at position 188 replaced by X\r\n",
        "Selenocysteine (U) at position 188 replaced by X\r\n",
        "Selenocysteine (U) at position 188 replaced by X\r\n",
        "Selenocysteine (U) at position 188 replaced by X\r\n"
       ]
      },
      {
       "output_type": "stream",
       "stream": "stdout",
       "text": [
        "Selenocysteine (U) at position 59 replaced by X\r\n",
        "Selenocysteine (U) at position 297 replaced by X\r\n",
        "Selenocysteine (U) at position 307 replaced by X\r\n",
        "Selenocysteine (U) at position 338 replaced by X\r\n",
        "Selenocysteine (U) at position 350 replaced by X\r\n",
        "Selenocysteine (U) at position 363 replaced by X\r\n",
        "Selenocysteine (U) at position 365 replaced by X\r\n",
        "Selenocysteine (U) at position 372 replaced by X\r\n",
        "Selenocysteine (U) at position 388 replaced by X\r\n",
        "Selenocysteine (U) at position 390 replaced by X\r\n",
        "Selenocysteine (U) at position 397 replaced by X\r\n",
        "Selenocysteine (U) at position 399 replaced by X\r\n"
       ]
      },
      {
       "output_type": "stream",
       "stream": "stdout",
       "text": [
        "Selenocysteine (U) at position 59 replaced by X\r\n",
        "Selenocysteine (U) at position 297 replaced by X\r\n",
        "Selenocysteine (U) at position 307 replaced by X\r\n",
        "Selenocysteine (U) at position 338 replaced by X\r\n",
        "Selenocysteine (U) at position 350 replaced by X\r\n",
        "Selenocysteine (U) at position 363 replaced by X\r\n",
        "Selenocysteine (U) at position 365 replaced by X\r\n",
        "Selenocysteine (U) at position 372 replaced by X\r\n",
        "Selenocysteine (U) at position 388 replaced by X\r\n",
        "Selenocysteine (U) at position 390 replaced by X\r\n",
        "Selenocysteine (U) at position 397 replaced by X\r\n",
        "Selenocysteine (U) at position 399 replaced by X\r\n",
        "Selenocysteine (U) at position 59 replaced by X\r\n",
        "Selenocysteine (U) at position 297 replaced by X\r\n",
        "Selenocysteine (U) at position 307 replaced by X\r\n",
        "Selenocysteine (U) at position 338 replaced by X\r\n",
        "Selenocysteine (U) at position 350 replaced by X\r\n",
        "Selenocysteine (U) at position 363 replaced by X\r\n",
        "Selenocysteine (U) at position 365 replaced by X\r\n",
        "Selenocysteine (U) at position 372 replaced by X\r\n",
        "Selenocysteine (U) at position 388 replaced by X\r\n",
        "Selenocysteine (U) at position 390 replaced by X\r\n",
        "Selenocysteine (U) at position 397 replaced by X\r\n",
        "Selenocysteine (U) at position 399 replaced by X\r\n"
       ]
      },
      {
       "output_type": "stream",
       "stream": "stdout",
       "text": [
        "Selenocysteine (U) at position 59 replaced by X\r\n",
        "Selenocysteine (U) at position 297 replaced by X\r\n",
        "Selenocysteine (U) at position 307 replaced by X\r\n",
        "Selenocysteine (U) at position 338 replaced by X\r\n",
        "Selenocysteine (U) at position 350 replaced by X\r\n",
        "Selenocysteine (U) at position 363 replaced by X\r\n",
        "Selenocysteine (U) at position 365 replaced by X\r\n",
        "Selenocysteine (U) at position 372 replaced by X\r\n",
        "Selenocysteine (U) at position 388 replaced by X\r\n",
        "Selenocysteine (U) at position 390 replaced by X\r\n",
        "Selenocysteine (U) at position 397 replaced by X\r\n",
        "Selenocysteine (U) at position 399 replaced by X\r\n"
       ]
      },
      {
       "output_type": "stream",
       "stream": "stdout",
       "text": [
        "Selenocysteine (U) at position 59 replaced by X\r\n",
        "Selenocysteine (U) at position 297 replaced by X\r\n",
        "Selenocysteine (U) at position 307 replaced by X\r\n",
        "Selenocysteine (U) at position 338 replaced by X\r\n",
        "Selenocysteine (U) at position 350 replaced by X\r\n",
        "Selenocysteine (U) at position 363 replaced by X\r\n",
        "Selenocysteine (U) at position 365 replaced by X\r\n",
        "Selenocysteine (U) at position 372 replaced by X\r\n",
        "Selenocysteine (U) at position 388 replaced by X\r\n",
        "Selenocysteine (U) at position 390 replaced by X\r\n",
        "Selenocysteine (U) at position 397 replaced by X\r\n",
        "Selenocysteine (U) at position 399 replaced by X\r\n"
       ]
      },
      {
       "output_type": "stream",
       "stream": "stdout",
       "text": [
        "Selenocysteine (U) at position 37 replaced by X\r\n"
       ]
      },
      {
       "output_type": "stream",
       "stream": "stdout",
       "text": [
        "Selenocysteine (U) at position 387 replaced by X\r\n",
        "Selenocysteine (U) at position 387 replaced by X\r\n",
        "Selenocysteine (U) at position 388 replaced by X\r\n",
        "Selenocysteine (U) at position 387 replaced by X\r\n"
       ]
      },
      {
       "output_type": "stream",
       "stream": "stdout",
       "text": [
        "Selenocysteine (U) at position 637 replaced by X\r\n",
        "Selenocysteine (U) at position 637 replaced by X\r\n"
       ]
      },
      {
       "output_type": "stream",
       "stream": "stdout",
       "text": [
        "Selenocysteine (U) at position 52 replaced by X\r\n",
        "Selenocysteine (U) at position 52 replaced by X\r\n",
        "Selenocysteine (U) at position 47 replaced by X\r\n",
        "Selenocysteine (U) at position 47 replaced by X\r\n",
        "Selenocysteine (U) at position 47 replaced by X\r\n",
        "Selenocysteine (U) at position 47 replaced by X\r\n",
        "Selenocysteine (U) at position 49 replaced by X\r\n",
        "Selenocysteine (U) at position 49 replaced by X\r\n",
        "Selenocysteine (U) at position 47 replaced by X\r\n",
        "Selenocysteine (U) at position 47 replaced by X\r\n",
        "Selenocysteine (U) at position 47 replaced by X\r\n",
        "Selenocysteine (U) at position 47 replaced by X\r\n",
        "Selenocysteine (U) at position 47 replaced by X\r\n",
        "Selenocysteine (U) at position 47 replaced by X\r\n"
       ]
      },
      {
       "output_type": "stream",
       "stream": "stdout",
       "text": [
        "Selenocysteine (U) at position 47 replaced by X\r\n",
        "Selenocysteine (U) at position 47 replaced by X\r\n",
        "Selenocysteine (U) at position 52 replaced by X\r\n",
        "Selenocysteine (U) at position 52 replaced by X\r\n",
        "Selenocysteine (U) at position 47 replaced by X\r\n",
        "Selenocysteine (U) at position 47 replaced by X\r\n",
        "Selenocysteine (U) at position 46 replaced by X\r\n",
        "Selenocysteine (U) at position 46 replaced by X\r\n",
        "Selenocysteine (U) at position 47 replaced by X\r\n",
        "Selenocysteine (U) at position 47 replaced by X\r\n",
        "Selenocysteine (U) at position 43 replaced by X\r\n",
        "Selenocysteine (U) at position 40 replaced by X\r\n",
        "Selenocysteine (U) at position 40 replaced by X\r\n",
        "Selenocysteine (U) at position 40 replaced by X\r\n",
        "Selenocysteine (U) at position 40 replaced by X\r\n",
        "Selenocysteine (U) at position 40 replaced by X\r\n",
        "Selenocysteine (U) at position 40 replaced by X\r\n",
        "Selenocysteine (U) at position 40 replaced by X\r\n",
        "Selenocysteine (U) at position 40 replaced by X\r\n",
        "Selenocysteine (U) at position 40 replaced by X\r\n",
        "Selenocysteine (U) at position 40 replaced by X\r\n",
        "Selenocysteine (U) at position 40 replaced by X\r\n",
        "Selenocysteine (U) at position 40 replaced by X\r\n",
        "Selenocysteine (U) at position 40 replaced by X\r\n",
        "Selenocysteine (U) at position 40 replaced by X\r\n",
        "Selenocysteine (U) at position 40 replaced by X\r\n",
        "Selenocysteine (U) at position 40 replaced by X\r\n",
        "Selenocysteine (U) at position 40 replaced by X\r\n",
        "Selenocysteine (U) at position 40 replaced by X\r\n",
        "Selenocysteine (U) at position 40 replaced by X\r\n",
        "Selenocysteine (U) at position 40 replaced by X\r\n",
        "Selenocysteine (U) at position 40 replaced by X\r\n",
        "Selenocysteine (U) at position 40 replaced by X\r\n",
        "Selenocysteine (U) at position 73 replaced by X\r\n",
        "Selenocysteine (U) at position 73 replaced by X\r\n",
        "Selenocysteine (U) at position 73 replaced by X\r\n",
        "Selenocysteine (U) at position 73 replaced by X\r\n",
        "Selenocysteine (U) at position 73 replaced by X\r\n",
        "Selenocysteine (U) at position 73 replaced by X\r\n",
        "Selenocysteine (U) at position 73 replaced by X\r\n",
        "Selenocysteine (U) at position 73 replaced by X\r\n",
        "Selenocysteine (U) at position 73 replaced by X\r\n",
        "Selenocysteine (U) at position 73 replaced by X\r\n",
        "Selenocysteine (U) at position 73 replaced by X\r\n",
        "Selenocysteine (U) at position 73 replaced by X\r\n",
        "Selenocysteine (U) at position 73 replaced by X\r\n",
        "Selenocysteine (U) at position 73 replaced by X\r\n",
        "Selenocysteine (U) at position 73 replaced by X\r\n",
        "Selenocysteine (U) at position 73 replaced by X\r\n",
        "Selenocysteine (U) at position 73 replaced by X\r\n",
        "Selenocysteine (U) at position 73 replaced by X\r\n"
       ]
      },
      {
       "output_type": "stream",
       "stream": "stdout",
       "text": [
        "Selenocysteine (U) at position 64 replaced by X\r\n",
        "Selenocysteine (U) at position 64 replaced by X\r\n"
       ]
      },
      {
       "output_type": "stream",
       "stream": "stdout",
       "text": [
        "Selenocysteine (U) at position 132 replaced by X\r\n",
        "Selenocysteine (U) at position 265 replaced by X\r\n",
        "Selenocysteine (U) at position 130 replaced by X\r\n",
        "Selenocysteine (U) at position 263 replaced by X\r\n",
        "Selenocysteine (U) at position 130 replaced by X\r\n",
        "Selenocysteine (U) at position 263 replaced by X\r\n",
        "Selenocysteine (U) at position 144 replaced by X\r\n",
        "Selenocysteine (U) at position 144 replaced by X\r\n",
        "Selenocysteine (U) at position 144 replaced by X\r\n",
        "Selenocysteine (U) at position 144 replaced by X\r\n"
       ]
      },
      {
       "output_type": "stream",
       "stream": "stdout",
       "text": [
        "Selenocysteine (U) at position 73 replaced by X\r\n",
        "Selenocysteine (U) at position 129 replaced by X\r\n"
       ]
      },
      {
       "output_type": "stream",
       "stream": "stdout",
       "text": [
        "Selenocysteine (U) at position 59 replaced by X\r\n",
        "Selenocysteine (U) at position 297 replaced by X\r\n",
        "Selenocysteine (U) at position 307 replaced by X\r\n",
        "Selenocysteine (U) at position 338 replaced by X\r\n",
        "Selenocysteine (U) at position 350 replaced by X\r\n",
        "Selenocysteine (U) at position 363 replaced by X\r\n",
        "Selenocysteine (U) at position 365 replaced by X\r\n",
        "Selenocysteine (U) at position 372 replaced by X\r\n",
        "Selenocysteine (U) at position 388 replaced by X\r\n",
        "Selenocysteine (U) at position 390 replaced by X\r\n",
        "Selenocysteine (U) at position 397 replaced by X\r\n",
        "Selenocysteine (U) at position 399 replaced by X\r\n"
       ]
      },
      {
       "output_type": "stream",
       "stream": "stdout",
       "text": [
        "Selenocysteine (U) at position 130 replaced by X\r\n"
       ]
      },
      {
       "output_type": "stream",
       "stream": "stdout",
       "text": [
        "Selenocysteine (U) at position 59 replaced by X\r\n",
        "Selenocysteine (U) at position 297 replaced by X\r\n",
        "Selenocysteine (U) at position 307 replaced by X\r\n",
        "Selenocysteine (U) at position 338 replaced by X\r\n",
        "Selenocysteine (U) at position 350 replaced by X\r\n",
        "Selenocysteine (U) at position 363 replaced by X\r\n",
        "Selenocysteine (U) at position 365 replaced by X\r\n",
        "Selenocysteine (U) at position 372 replaced by X\r\n",
        "Selenocysteine (U) at position 388 replaced by X\r\n",
        "Selenocysteine (U) at position 390 replaced by X\r\n",
        "Selenocysteine (U) at position 397 replaced by X\r\n",
        "Selenocysteine (U) at position 399 replaced by X\r\n"
       ]
      },
      {
       "output_type": "stream",
       "stream": "stdout",
       "text": [
        "Selenocysteine (U) at position 16 replaced by X\r\n"
       ]
      },
      {
       "output_type": "stream",
       "stream": "stdout",
       "text": [
        "Selenocysteine (U) at position 187 replaced by X\r\n"
       ]
      },
      {
       "output_type": "stream",
       "stream": "stdout",
       "text": [
        "Selenocysteine (U) at position 187 replaced by X\r\n"
       ]
      },
      {
       "output_type": "stream",
       "stream": "stdout",
       "text": [
        "Selenocysteine (U) at position 65 replaced by X\r\n"
       ]
      },
      {
       "output_type": "stream",
       "stream": "stdout",
       "text": [
        "Selenocysteine (U) at position 59 replaced by X\r\n",
        "Selenocysteine (U) at position 297 replaced by X\r\n",
        "Selenocysteine (U) at position 307 replaced by X\r\n",
        "Selenocysteine (U) at position 338 replaced by X\r\n",
        "Selenocysteine (U) at position 350 replaced by X\r\n",
        "Selenocysteine (U) at position 363 replaced by X\r\n",
        "Selenocysteine (U) at position 365 replaced by X\r\n",
        "Selenocysteine (U) at position 372 replaced by X\r\n",
        "Selenocysteine (U) at position 388 replaced by X\r\n",
        "Selenocysteine (U) at position 390 replaced by X\r\n",
        "Selenocysteine (U) at position 397 replaced by X\r\n",
        "Selenocysteine (U) at position 399 replaced by X\r\n"
       ]
      },
      {
       "output_type": "stream",
       "stream": "stdout",
       "text": [
        "Selenocysteine (U) at position 13 replaced by X\r\n"
       ]
      },
      {
       "output_type": "stream",
       "stream": "stdout",
       "text": [
        "Selenocysteine (U) at position 349 replaced by X\r\n"
       ]
      },
      {
       "output_type": "stream",
       "stream": "stdout",
       "text": [
        "Selenocysteine (U) at position 59 replaced by X\r\n",
        "Selenocysteine (U) at position 297 replaced by X\r\n",
        "Selenocysteine (U) at position 307 replaced by X\r\n",
        "Selenocysteine (U) at position 338 replaced by X\r\n",
        "Selenocysteine (U) at position 350 replaced by X\r\n",
        "Selenocysteine (U) at position 363 replaced by X\r\n",
        "Selenocysteine (U) at position 365 replaced by X\r\n",
        "Selenocysteine (U) at position 372 replaced by X\r\n",
        "Selenocysteine (U) at position 388 replaced by X\r\n",
        "Selenocysteine (U) at position 390 replaced by X\r\n",
        "Selenocysteine (U) at position 397 replaced by X\r\n",
        "Selenocysteine (U) at position 399 replaced by X\r\n"
       ]
      },
      {
       "output_type": "stream",
       "stream": "stdout",
       "text": [
        "Selenocysteine (U) at position 59 replaced by X\r\n",
        "Selenocysteine (U) at position 297 replaced by X\r\n",
        "Selenocysteine (U) at position 307 replaced by X\r\n",
        "Selenocysteine (U) at position 338 replaced by X\r\n",
        "Selenocysteine (U) at position 350 replaced by X\r\n",
        "Selenocysteine (U) at position 363 replaced by X\r\n",
        "Selenocysteine (U) at position 365 replaced by X\r\n",
        "Selenocysteine (U) at position 372 replaced by X\r\n",
        "Selenocysteine (U) at position 388 replaced by X\r\n",
        "Selenocysteine (U) at position 390 replaced by X\r\n",
        "Selenocysteine (U) at position 397 replaced by X\r\n",
        "Selenocysteine (U) at position 399 replaced by X\r\n"
       ]
      },
      {
       "output_type": "stream",
       "stream": "stdout",
       "text": [
        "Selenocysteine (U) at position 637 replaced by X\r\n"
       ]
      },
      {
       "output_type": "stream",
       "stream": "stdout",
       "text": [
        "Selenocysteine (U) at position 59 replaced by X\r\n",
        "Selenocysteine (U) at position 267 replaced by X\r\n",
        "Selenocysteine (U) at position 273 replaced by X\r\n",
        "Selenocysteine (U) at position 279 replaced by X\r\n",
        "Selenocysteine (U) at position 290 replaced by X\r\n",
        "Selenocysteine (U) at position 292 replaced by X\r\n",
        "Selenocysteine (U) at position 294 replaced by X\r\n",
        "Selenocysteine (U) at position 310 replaced by X\r\n",
        "Selenocysteine (U) at position 320 replaced by X\r\n",
        "Selenocysteine (U) at position 322 replaced by X\r\n",
        "Selenocysteine (U) at position 336 replaced by X\r\n",
        "Selenocysteine (U) at position 338 replaced by X\r\n",
        "Selenocysteine (U) at position 346 replaced by X\r\n",
        "Selenocysteine (U) at position 353 replaced by X\r\n",
        "Selenocysteine (U) at position 355 replaced by X\r\n",
        "Selenocysteine (U) at position 362 replaced by X\r\n",
        "Selenocysteine (U) at position 364 replaced by X\r\n"
       ]
      },
      {
       "output_type": "stream",
       "stream": "stdout",
       "text": [
        "Selenocysteine (U) at position 59 replaced by X\r\n",
        "Selenocysteine (U) at position 267 replaced by X\r\n",
        "Selenocysteine (U) at position 273 replaced by X\r\n",
        "Selenocysteine (U) at position 279 replaced by X\r\n",
        "Selenocysteine (U) at position 290 replaced by X\r\n",
        "Selenocysteine (U) at position 292 replaced by X\r\n",
        "Selenocysteine (U) at position 294 replaced by X\r\n",
        "Selenocysteine (U) at position 310 replaced by X\r\n",
        "Selenocysteine (U) at position 320 replaced by X\r\n",
        "Selenocysteine (U) at position 322 replaced by X\r\n",
        "Selenocysteine (U) at position 336 replaced by X\r\n",
        "Selenocysteine (U) at position 338 replaced by X\r\n",
        "Selenocysteine (U) at position 346 replaced by X\r\n",
        "Selenocysteine (U) at position 353 replaced by X\r\n",
        "Selenocysteine (U) at position 355 replaced by X\r\n",
        "Selenocysteine (U) at position 362 replaced by X\r\n",
        "Selenocysteine (U) at position 364 replaced by X\r\n"
       ]
      },
      {
       "output_type": "stream",
       "stream": "stdout",
       "text": [
        "Selenocysteine (U) at position 493 replaced by X\r\n"
       ]
      },
      {
       "output_type": "stream",
       "stream": "stdout",
       "text": [
        "Selenocysteine (U) at position 59 replaced by X\r\n",
        "Selenocysteine (U) at position 267 replaced by X\r\n",
        "Selenocysteine (U) at position 273 replaced by X\r\n",
        "Selenocysteine (U) at position 279 replaced by X\r\n",
        "Selenocysteine (U) at position 290 replaced by X\r\n",
        "Selenocysteine (U) at position 292 replaced by X\r\n",
        "Selenocysteine (U) at position 294 replaced by X\r\n",
        "Selenocysteine (U) at position 310 replaced by X\r\n",
        "Selenocysteine (U) at position 320 replaced by X\r\n",
        "Selenocysteine (U) at position 322 replaced by X\r\n",
        "Selenocysteine (U) at position 336 replaced by X\r\n",
        "Selenocysteine (U) at position 338 replaced by X\r\n",
        "Selenocysteine (U) at position 346 replaced by X\r\n",
        "Selenocysteine (U) at position 353 replaced by X\r\n",
        "Selenocysteine (U) at position 355 replaced by X\r\n",
        "Selenocysteine (U) at position 362 replaced by X\r\n",
        "Selenocysteine (U) at position 364 replaced by X\r\n"
       ]
      },
      {
       "output_type": "stream",
       "stream": "stdout",
       "text": [
        "Selenocysteine (U) at position 387 replaced by X\r\n"
       ]
      },
      {
       "output_type": "stream",
       "stream": "stdout",
       "text": [
        "Selenocysteine (U) at position 387 replaced by X\r\n",
        "Selenocysteine (U) at position 387 replaced by X\r\n"
       ]
      },
      {
       "output_type": "stream",
       "stream": "stdout",
       "text": [
        "Selenocysteine (U) at position 152 replaced by X\r\n"
       ]
      },
      {
       "output_type": "stream",
       "stream": "stdout",
       "text": [
        "Selenocysteine (U) at position 436 replaced by X\r\n",
        "Selenocysteine (U) at position 436 replaced by X\r\n"
       ]
      },
      {
       "output_type": "stream",
       "stream": "stdout",
       "text": [
        "Selenocysteine (U) at position 73 replaced by X\r\n"
       ]
      },
      {
       "output_type": "stream",
       "stream": "stdout",
       "text": [
        "Selenocysteine (U) at position 124 replaced by X\r\n"
       ]
      },
      {
       "output_type": "stream",
       "stream": "stdout",
       "text": [
        "Selenocysteine (U) at position 15 replaced by X\r\n"
       ]
      },
      {
       "output_type": "stream",
       "stream": "stdout",
       "text": [
        "Selenocysteine (U) at position 134 replaced by X\r\n",
        "Selenocysteine (U) at position 134 replaced by X\r\n",
        "Selenocysteine (U) at position 144 replaced by X\r\n",
        "Selenocysteine (U) at position 144 replaced by X\r\n",
        "Selenocysteine (U) at position 144 replaced by X\r\n",
        "Selenocysteine (U) at position 144 replaced by X\r\n"
       ]
      },
      {
       "output_type": "stream",
       "stream": "stdout",
       "text": [
        "Selenocysteine (U) at position 273 replaced by X\r\n"
       ]
      },
      {
       "output_type": "stream",
       "stream": "stdout",
       "text": [
        "Selenocysteine (U) at position 73 replaced by X\r\n",
        "Selenocysteine (U) at position 73 replaced by X\r\n",
        "Selenocysteine (U) at position 73 replaced by X\r\n"
       ]
      },
      {
       "output_type": "stream",
       "stream": "stdout",
       "text": [
        "Selenocysteine (U) at position 73 replaced by X\r\n",
        "Selenocysteine (U) at position 73 replaced by X\r\n",
        "Selenocysteine (U) at position 73 replaced by X\r\n"
       ]
      },
      {
       "output_type": "stream",
       "stream": "stdout",
       "text": [
        "Selenocysteine (U) at position 612 replaced by X\r\n"
       ]
      },
      {
       "output_type": "stream",
       "stream": "stdout",
       "text": [
        "Selenocysteine (U) at position 612 replaced by X\r\n",
        "Selenocysteine (U) at position 498 replaced by X\r\n"
       ]
      },
      {
       "output_type": "stream",
       "stream": "stdout",
       "text": [
        "Selenocysteine (U) at position 85 replaced by X\r\n",
        "Selenocysteine (U) at position 85 replaced by X\r\n",
        "Selenocysteine (U) at position 74 replaced by X\r\n"
       ]
      },
      {
       "output_type": "stream",
       "stream": "stdout",
       "text": [
        "Selenocysteine (U) at position 121 replaced by X\r\n"
       ]
      },
      {
       "output_type": "stream",
       "stream": "stdout",
       "text": [
        "Selenocysteine (U) at position 123 replaced by X\r\n",
        "Selenocysteine (U) at position 121 replaced by X\r\n",
        "Selenocysteine (U) at position 126 replaced by X\r\n",
        "Selenocysteine (U) at position 126 replaced by X\r\n",
        "Selenocysteine (U) at position 126 replaced by X\r\n",
        "Selenocysteine (U) at position 126 replaced by X\r\n",
        "Selenocysteine (U) at position 126 replaced by X\r\n",
        "Selenocysteine (U) at position 126 replaced by X\r\n",
        "Selenocysteine (U) at position 126 replaced by X\r\n",
        "Selenocysteine (U) at position 126 replaced by X\r\n",
        "Selenocysteine (U) at position 130 replaced by X\r\n",
        "Selenocysteine (U) at position 133 replaced by X\r\n",
        "Selenocysteine (U) at position 266 replaced by X\r\n",
        "Selenocysteine (U) at position 132 replaced by X\r\n",
        "Selenocysteine (U) at position 265 replaced by X\r\n",
        "Selenocysteine (U) at position 134 replaced by X\r\n",
        "Selenocysteine (U) at position 133 replaced by X\r\n",
        "Selenocysteine (U) at position 266 replaced by X\r\n",
        "Selenocysteine (U) at position 124 replaced by X\r\n",
        "Selenocysteine (U) at position 130 replaced by X\r\n",
        "Selenocysteine (U) at position 263 replaced by X\r\n",
        "Selenocysteine (U) at position 128 replaced by X\r\n",
        "Selenocysteine (U) at position 261 replaced by X\r\n",
        "Selenocysteine (U) at position 133 replaced by X\r\n",
        "Selenocysteine (U) at position 266 replaced by X\r\n",
        "Selenocysteine (U) at position 130 replaced by X\r\n",
        "Selenocysteine (U) at position 263 replaced by X\r\n",
        "Selenocysteine (U) at position 144 replaced by X\r\n",
        "Selenocysteine (U) at position 122 replaced by X\r\n",
        "Selenocysteine (U) at position 144 replaced by X\r\n",
        "Selenocysteine (U) at position 133 replaced by X\r\n",
        "Selenocysteine (U) at position 144 replaced by X\r\n",
        "Selenocysteine (U) at position 144 replaced by X\r\n",
        "Selenocysteine (U) at position 144 replaced by X\r\n",
        "Selenocysteine (U) at position 144 replaced by X\r\n",
        "Selenocysteine (U) at position 131 replaced by X\r\n",
        "Selenocysteine (U) at position 132 replaced by X\r\n"
       ]
      },
      {
       "output_type": "stream",
       "stream": "stdout",
       "text": [
        "Selenocysteine (U) at position 16 replaced by X\r\n"
       ]
      },
      {
       "output_type": "stream",
       "stream": "stdout",
       "text": [
        "Selenocysteine (U) at position 13 replaced by X\r\n",
        "Selenocysteine (U) at position 13 replaced by X\r\n",
        "Selenocysteine (U) at position 13 replaced by X\r\n",
        "Selenocysteine (U) at position 13 replaced by X\r\n",
        "Selenocysteine (U) at position 13 replaced by X\r\n",
        "Selenocysteine (U) at position 13 replaced by X\r\n",
        "Selenocysteine (U) at position 13 replaced by X\r\n",
        "Selenocysteine (U) at position 13 replaced by X\r\n",
        "Selenocysteine (U) at position 13 replaced by X\r\n"
       ]
      },
      {
       "output_type": "stream",
       "stream": "stdout",
       "text": [
        "Selenocysteine (U) at position 16 replaced by X\r\n",
        "Selenocysteine (U) at position 48 replaced by X\r\n"
       ]
      },
      {
       "output_type": "stream",
       "stream": "stdout",
       "text": [
        "Selenocysteine (U) at position 59 replaced by X\r\n",
        "Selenocysteine (U) at position 297 replaced by X\r\n",
        "Selenocysteine (U) at position 307 replaced by X\r\n",
        "Selenocysteine (U) at position 338 replaced by X\r\n",
        "Selenocysteine (U) at position 350 replaced by X\r\n",
        "Selenocysteine (U) at position 363 replaced by X\r\n",
        "Selenocysteine (U) at position 365 replaced by X\r\n",
        "Selenocysteine (U) at position 372 replaced by X\r\n",
        "Selenocysteine (U) at position 388 replaced by X\r\n",
        "Selenocysteine (U) at position 390 replaced by X\r\n",
        "Selenocysteine (U) at position 397 replaced by X\r\n",
        "Selenocysteine (U) at position 399 replaced by X\r\n"
       ]
      },
      {
       "output_type": "stream",
       "stream": "stdout",
       "text": [
        "Selenocysteine (U) at position 197 replaced by X\r\n"
       ]
      },
      {
       "output_type": "stream",
       "stream": "stdout",
       "text": [
        "Selenocysteine (U) at position 197 replaced by X\r\n"
       ]
      },
      {
       "output_type": "stream",
       "stream": "stdout",
       "text": [
        "Selenocysteine (U) at position 15 replaced by X\r\n",
        "Selenocysteine (U) at position 15 replaced by X\r\n"
       ]
      },
      {
       "output_type": "stream",
       "stream": "stdout",
       "text": [
        "Selenocysteine (U) at position 15 replaced by X\r\n",
        "Selenocysteine (U) at position 15 replaced by X\r\n"
       ]
      },
      {
       "output_type": "stream",
       "stream": "stdout",
       "text": [
        "Selenocysteine (U) at position 637 replaced by X\r\n"
       ]
      },
      {
       "output_type": "stream",
       "stream": "stdout",
       "text": [
        "Selenocysteine (U) at position 189 replaced by X\r\n",
        "Selenocysteine (U) at position 188 replaced by X\r\n",
        "Selenocysteine (U) at position 189 replaced by X\r\n",
        "Selenocysteine (U) at position 189 replaced by X\r\n"
       ]
      },
      {
       "output_type": "stream",
       "stream": "stdout",
       "text": [
        "Selenocysteine (U) at position 189 replaced by X\r\n",
        "Selenocysteine (U) at position 188 replaced by X\r\n",
        "Selenocysteine (U) at position 189 replaced by X\r\n",
        "Selenocysteine (U) at position 189 replaced by X\r\n"
       ]
      },
      {
       "output_type": "stream",
       "stream": "stdout",
       "text": [
        "Selenocysteine (U) at position 133 replaced by X\r\n",
        "Selenocysteine (U) at position 266 replaced by X\r\n"
       ]
      },
      {
       "output_type": "stream",
       "stream": "stdout",
       "text": [
        "Selenocysteine (U) at position 637 replaced by X\r\n",
        "Selenocysteine (U) at position 637 replaced by X\r\n",
        "Selenocysteine (U) at position 637 replaced by X\r\n",
        "Selenocysteine (U) at position 637 replaced by X\r\n",
        "Selenocysteine (U) at position 690 replaced by X\r\n"
       ]
      },
      {
       "output_type": "stream",
       "stream": "stdout",
       "text": [
        "Selenocysteine (U) at position 637 replaced by X\r\n",
        "Selenocysteine (U) at position 637 replaced by X\r\n",
        "Selenocysteine (U) at position 637 replaced by X\r\n"
       ]
      },
      {
       "output_type": "stream",
       "stream": "stdout",
       "text": [
        "Selenocysteine (U) at position 637 replaced by X\r\n",
        "Selenocysteine (U) at position 637 replaced by X\r\n",
        "Selenocysteine (U) at position 690 replaced by X\r\n",
        "Selenocysteine (U) at position 690 replaced by X\r\n"
       ]
      },
      {
       "output_type": "stream",
       "stream": "stdout",
       "text": [
        "Selenocysteine (U) at position 192 replaced by X\r\n"
       ]
      },
      {
       "output_type": "stream",
       "stream": "stdout",
       "text": [
        "Selenocysteine (U) at position 612 replaced by X\r\n"
       ]
      },
      {
       "output_type": "stream",
       "stream": "stdout",
       "text": [
        "Selenocysteine (U) at position 192 replaced by X\r\n"
       ]
      },
      {
       "output_type": "stream",
       "stream": "stdout",
       "text": [
        "Selenocysteine (U) at position 196 replaced by X\r\n"
       ]
      },
      {
       "output_type": "stream",
       "stream": "stdout",
       "text": [
        "Selenocysteine (U) at position 59 replaced by X\r\n",
        "Selenocysteine (U) at position 267 replaced by X\r\n",
        "Selenocysteine (U) at position 273 replaced by X\r\n",
        "Selenocysteine (U) at position 279 replaced by X\r\n",
        "Selenocysteine (U) at position 290 replaced by X\r\n",
        "Selenocysteine (U) at position 292 replaced by X\r\n",
        "Selenocysteine (U) at position 294 replaced by X\r\n",
        "Selenocysteine (U) at position 310 replaced by X\r\n",
        "Selenocysteine (U) at position 320 replaced by X\r\n",
        "Selenocysteine (U) at position 322 replaced by X\r\n",
        "Selenocysteine (U) at position 336 replaced by X\r\n",
        "Selenocysteine (U) at position 338 replaced by X\r\n",
        "Selenocysteine (U) at position 346 replaced by X\r\n",
        "Selenocysteine (U) at position 353 replaced by X\r\n",
        "Selenocysteine (U) at position 355 replaced by X\r\n",
        "Selenocysteine (U) at position 362 replaced by X\r\n",
        "Selenocysteine (U) at position 364 replaced by X\r\n"
       ]
      },
      {
       "output_type": "stream",
       "stream": "stdout",
       "text": [
        "Selenocysteine (U) at position 637 replaced by X\r\n"
       ]
      },
      {
       "output_type": "stream",
       "stream": "stdout",
       "text": [
        "Selenocysteine (U) at position 637 replaced by X\r\n",
        "Selenocysteine (U) at position 637 replaced by X\r\n",
        "Selenocysteine (U) at position 637 replaced by X\r\n",
        "Selenocysteine (U) at position 637 replaced by X\r\n",
        "Selenocysteine (U) at position 637 replaced by X\r\n",
        "Selenocysteine (U) at position 637 replaced by X\r\n",
        "Selenocysteine (U) at position 637 replaced by X\r\n",
        "Selenocysteine (U) at position 637 replaced by X\r\n",
        "Selenocysteine (U) at position 637 replaced by X\r\n",
        "Selenocysteine (U) at position 637 replaced by X\r\n",
        "Selenocysteine (U) at position 637 replaced by X\r\n",
        "Selenocysteine (U) at position 637 replaced by X\r\n",
        "Selenocysteine (U) at position 637 replaced by X\r\n",
        "Selenocysteine (U) at position 637 replaced by X\r\n",
        "Selenocysteine (U) at position 637 replaced by X\r\n",
        "Selenocysteine (U) at position 637 replaced by X\r\n",
        "Selenocysteine (U) at position 637 replaced by X\r\n",
        "Selenocysteine (U) at position 637 replaced by X\r\n",
        "Selenocysteine (U) at position 690 replaced by X\r\n",
        "Selenocysteine (U) at position 690 replaced by X\r\n",
        "Selenocysteine (U) at position 690 replaced by X\r\n",
        "Selenocysteine (U) at position 690 replaced by X\r\n",
        "Selenocysteine (U) at position 690 replaced by X\r\n",
        "Selenocysteine (U) at position 690 replaced by X\r\n",
        "Selenocysteine (U) at position 690 replaced by X\r\n",
        "Selenocysteine (U) at position 690 replaced by X\r\n",
        "Selenocysteine (U) at position 690 replaced by X\r\n",
        "Selenocysteine (U) at position 690 replaced by X\r\n",
        "Selenocysteine (U) at position 690 replaced by X\r\n",
        "Selenocysteine (U) at position 690 replaced by X\r\n",
        "Selenocysteine (U) at position 690 replaced by X\r\n",
        "Selenocysteine (U) at position 690 replaced by X\r\n",
        "Selenocysteine (U) at position 690 replaced by X\r\n",
        "Selenocysteine (U) at position 690 replaced by X\r\n",
        "Selenocysteine (U) at position 690 replaced by X\r\n",
        "Selenocysteine (U) at position 690 replaced by X\r\n",
        "Selenocysteine (U) at position 690 replaced by X\r\n"
       ]
      },
      {
       "output_type": "stream",
       "stream": "stdout",
       "text": [
        "Selenocysteine (U) at position 637 replaced by X\r\n",
        "Selenocysteine (U) at position 637 replaced by X\r\n",
        "Selenocysteine (U) at position 637 replaced by X\r\n",
        "Selenocysteine (U) at position 637 replaced by X\r\n",
        "Selenocysteine (U) at position 637 replaced by X\r\n",
        "Selenocysteine (U) at position 637 replaced by X\r\n",
        "Selenocysteine (U) at position 637 replaced by X\r\n",
        "Selenocysteine (U) at position 637 replaced by X\r\n",
        "Selenocysteine (U) at position 637 replaced by X\r\n",
        "Selenocysteine (U) at position 637 replaced by X\r\n",
        "Selenocysteine (U) at position 637 replaced by X\r\n",
        "Selenocysteine (U) at position 637 replaced by X\r\n",
        "Selenocysteine (U) at position 637 replaced by X\r\n",
        "Selenocysteine (U) at position 637 replaced by X\r\n",
        "Selenocysteine (U) at position 637 replaced by X\r\n",
        "Selenocysteine (U) at position 637 replaced by X\r\n",
        "Selenocysteine (U) at position 637 replaced by X\r\n",
        "Selenocysteine (U) at position 637 replaced by X\r\n",
        "Selenocysteine (U) at position 690 replaced by X\r\n",
        "Selenocysteine (U) at position 690 replaced by X\r\n",
        "Selenocysteine (U) at position 690 replaced by X\r\n",
        "Selenocysteine (U) at position 690 replaced by X\r\n",
        "Selenocysteine (U) at position 690 replaced by X\r\n",
        "Selenocysteine (U) at position 690 replaced by X\r\n",
        "Selenocysteine (U) at position 690 replaced by X\r\n",
        "Selenocysteine (U) at position 690 replaced by X\r\n"
       ]
      },
      {
       "output_type": "stream",
       "stream": "stdout",
       "text": [
        "Selenocysteine (U) at position 690 replaced by X\r\n",
        "Selenocysteine (U) at position 690 replaced by X\r\n",
        "Selenocysteine (U) at position 690 replaced by X\r\n",
        "Selenocysteine (U) at position 690 replaced by X\r\n",
        "Selenocysteine (U) at position 690 replaced by X\r\n",
        "Selenocysteine (U) at position 690 replaced by X\r\n",
        "Selenocysteine (U) at position 690 replaced by X\r\n",
        "Selenocysteine (U) at position 690 replaced by X\r\n",
        "Selenocysteine (U) at position 690 replaced by X\r\n"
       ]
      },
      {
       "output_type": "stream",
       "stream": "stdout",
       "text": [
        "Selenocysteine (U) at position 44 replaced by X\r\n",
        "Selenocysteine (U) at position 44 replaced by X\r\n"
       ]
      },
      {
       "output_type": "stream",
       "stream": "stdout",
       "text": [
        "Selenocysteine (U) at position 273 replaced by X\r\n"
       ]
      },
      {
       "output_type": "stream",
       "stream": "stdout",
       "text": [
        "Selenocysteine (U) at position 196 replaced by X\r\n"
       ]
      },
      {
       "output_type": "stream",
       "stream": "stdout",
       "text": [
        "Selenocysteine (U) at position 59 replaced by X\r\n",
        "Selenocysteine (U) at position 297 replaced by X\r\n",
        "Selenocysteine (U) at position 307 replaced by X\r\n",
        "Selenocysteine (U) at position 338 replaced by X\r\n",
        "Selenocysteine (U) at position 350 replaced by X\r\n",
        "Selenocysteine (U) at position 363 replaced by X\r\n",
        "Selenocysteine (U) at position 365 replaced by X\r\n",
        "Selenocysteine (U) at position 372 replaced by X\r\n",
        "Selenocysteine (U) at position 388 replaced by X\r\n",
        "Selenocysteine (U) at position 390 replaced by X\r\n",
        "Selenocysteine (U) at position 397 replaced by X\r\n",
        "Selenocysteine (U) at position 399 replaced by X\r\n"
       ]
      },
      {
       "output_type": "stream",
       "stream": "stdout",
       "text": [
        "Selenocysteine (U) at position 17 replaced by X\r\n",
        "Selenocysteine (U) at position 64 replaced by X\r\n"
       ]
      },
      {
       "output_type": "stream",
       "stream": "stdout",
       "text": [
        "Selenocysteine (U) at position 64 replaced by X\r\n"
       ]
      },
      {
       "output_type": "stream",
       "stream": "stdout",
       "text": [
        "Selenocysteine (U) at position 690 replaced by X\r\n"
       ]
      },
      {
       "output_type": "stream",
       "stream": "stdout",
       "text": [
        "Selenocysteine (U) at position 690 replaced by X\r\n",
        "Selenocysteine (U) at position 690 replaced by X\r\n"
       ]
      },
      {
       "output_type": "stream",
       "stream": "stdout",
       "text": [
        "Selenocysteine (U) at position 189 replaced by X\r\n",
        "Selenocysteine (U) at position 189 replaced by X\r\n",
        "Selenocysteine (U) at position 189 replaced by X\r\n"
       ]
      },
      {
       "output_type": "stream",
       "stream": "stdout",
       "text": [
        "Selenocysteine (U) at position 642 replaced by X\r\n",
        "Selenocysteine (U) at position 651 replaced by X\r\n"
       ]
      },
      {
       "output_type": "stream",
       "stream": "stdout",
       "text": [
        "Selenocysteine (U) at position 93 replaced by X\r\n"
       ]
      },
      {
       "output_type": "stream",
       "stream": "stdout",
       "text": [
        "Selenocysteine (U) at position 388 replaced by X\r\n"
       ]
      },
      {
       "output_type": "stream",
       "stream": "stdout",
       "text": [
        "Selenocysteine (U) at position 59 replaced by X\r\n",
        "Selenocysteine (U) at position 318 replaced by X\r\n",
        "Selenocysteine (U) at position 330 replaced by X\r\n",
        "Selenocysteine (U) at position 345 replaced by X\r\n",
        "Selenocysteine (U) at position 352 replaced by X\r\n",
        "Selenocysteine (U) at position 367 replaced by X\r\n",
        "Selenocysteine (U) at position 369 replaced by X\r\n",
        "Selenocysteine (U) at position 376 replaced by X\r\n",
        "Selenocysteine (U) at position 378 replaced by X\r\n"
       ]
      },
      {
       "output_type": "stream",
       "stream": "stdout",
       "text": [
        "Selenocysteine (U) at position 273 replaced by X\r\n",
        "Selenocysteine (U) at position 273 replaced by X\r\n"
       ]
      },
      {
       "output_type": "stream",
       "stream": "stdout",
       "text": [
        "Selenocysteine (U) at position 93 replaced by X\r\n"
       ]
      },
      {
       "output_type": "stream",
       "stream": "stdout",
       "text": [
        "Selenocysteine (U) at position 40 replaced by X\r\n"
       ]
      },
      {
       "output_type": "stream",
       "stream": "stdout",
       "text": [
        "Selenocysteine (U) at position 47 replaced by X\r\n"
       ]
      },
      {
       "output_type": "stream",
       "stream": "stdout",
       "text": [
        "Selenocysteine (U) at position 59 replaced by X\r\n",
        "Selenocysteine (U) at position 267 replaced by X\r\n",
        "Selenocysteine (U) at position 273 replaced by X\r\n",
        "Selenocysteine (U) at position 279 replaced by X\r\n",
        "Selenocysteine (U) at position 290 replaced by X\r\n",
        "Selenocysteine (U) at position 292 replaced by X\r\n",
        "Selenocysteine (U) at position 294 replaced by X\r\n",
        "Selenocysteine (U) at position 310 replaced by X\r\n",
        "Selenocysteine (U) at position 320 replaced by X\r\n",
        "Selenocysteine (U) at position 322 replaced by X\r\n",
        "Selenocysteine (U) at position 336 replaced by X\r\n",
        "Selenocysteine (U) at position 338 replaced by X\r\n",
        "Selenocysteine (U) at position 346 replaced by X\r\n",
        "Selenocysteine (U) at position 353 replaced by X\r\n",
        "Selenocysteine (U) at position 355 replaced by X\r\n",
        "Selenocysteine (U) at position 362 replaced by X\r\n",
        "Selenocysteine (U) at position 364 replaced by X\r\n"
       ]
      },
      {
       "output_type": "stream",
       "stream": "stdout",
       "text": [
        "Selenocysteine (U) at position 612 replaced by X\r\n",
        "Selenocysteine (U) at position 612 replaced by X\r\n"
       ]
      },
      {
       "output_type": "stream",
       "stream": "stdout",
       "text": [
        "Selenocysteine (U) at position 510 replaced by X\r\n",
        "Selenocysteine (U) at position 510 replaced by X\r\n",
        "Selenocysteine (U) at position 523 replaced by X\r\n",
        "Selenocysteine (U) at position 523 replaced by X\r\n"
       ]
      },
      {
       "output_type": "stream",
       "stream": "stdout",
       "text": [
        "Selenocysteine (U) at position 510 replaced by X\r\n",
        "Selenocysteine (U) at position 510 replaced by X\r\n",
        "Selenocysteine (U) at position 523 replaced by X\r\n",
        "Selenocysteine (U) at position 523 replaced by X\r\n"
       ]
      },
      {
       "output_type": "stream",
       "stream": "stdout",
       "text": [
        "Selenocysteine (U) at position 133 replaced by X\r\n",
        "Selenocysteine (U) at position 266 replaced by X\r\n"
       ]
      },
      {
       "output_type": "stream",
       "stream": "stdout",
       "text": [
        "Selenocysteine (U) at position 436 replaced by X\r\n"
       ]
      },
      {
       "output_type": "stream",
       "stream": "stdout",
       "text": [
        "Selenocysteine (U) at position 436 replaced by X\r\n"
       ]
      },
      {
       "output_type": "stream",
       "stream": "stdout",
       "text": [
        "Selenocysteine (U) at position 436 replaced by X\r\n"
       ]
      },
      {
       "output_type": "stream",
       "stream": "stdout",
       "text": [
        "Selenocysteine (U) at position 189 replaced by X\r\n",
        "Selenocysteine (U) at position 189 replaced by X\r\n",
        "Selenocysteine (U) at position 189 replaced by X\r\n"
       ]
      },
      {
       "output_type": "stream",
       "stream": "stdout",
       "text": [
        "Selenocysteine (U) at position 197 replaced by X\r\n"
       ]
      },
      {
       "output_type": "stream",
       "stream": "stdout",
       "text": [
        "Selenocysteine (U) at position 59 replaced by X\r\n",
        "Selenocysteine (U) at position 297 replaced by X\r\n",
        "Selenocysteine (U) at position 307 replaced by X\r\n",
        "Selenocysteine (U) at position 338 replaced by X\r\n",
        "Selenocysteine (U) at position 350 replaced by X\r\n",
        "Selenocysteine (U) at position 363 replaced by X\r\n",
        "Selenocysteine (U) at position 365 replaced by X\r\n",
        "Selenocysteine (U) at position 372 replaced by X\r\n",
        "Selenocysteine (U) at position 388 replaced by X\r\n",
        "Selenocysteine (U) at position 390 replaced by X\r\n",
        "Selenocysteine (U) at position 397 replaced by X\r\n",
        "Selenocysteine (U) at position 399 replaced by X\r\n",
        "Selenocysteine (U) at position 59 replaced by X\r\n",
        "Selenocysteine (U) at position 259 replaced by X\r\n",
        "Selenocysteine (U) at position 277 replaced by X\r\n",
        "Selenocysteine (U) at position 318 replaced by X\r\n",
        "Selenocysteine (U) at position 330 replaced by X\r\n",
        "Selenocysteine (U) at position 352 replaced by X\r\n",
        "Selenocysteine (U) at position 366 replaced by X\r\n",
        "Selenocysteine (U) at position 368 replaced by X\r\n",
        "Selenocysteine (U) at position 375 replaced by X\r\n",
        "Selenocysteine (U) at position 377 replaced by X\r\n",
        "Selenocysteine (U) at position 59 replaced by X\r\n",
        "Selenocysteine (U) at position 264 replaced by X\r\n",
        "Selenocysteine (U) at position 282 replaced by X\r\n",
        "Selenocysteine (U) at position 323 replaced by X\r\n",
        "Selenocysteine (U) at position 335 replaced by X\r\n",
        "Selenocysteine (U) at position 357 replaced by X\r\n",
        "Selenocysteine (U) at position 371 replaced by X\r\n",
        "Selenocysteine (U) at position 373 replaced by X\r\n",
        "Selenocysteine (U) at position 380 replaced by X\r\n",
        "Selenocysteine (U) at position 382 replaced by X\r\n"
       ]
      },
      {
       "output_type": "stream",
       "stream": "stdout",
       "text": [
        "Selenocysteine (U) at position 59 replaced by X\r\n",
        "Selenocysteine (U) at position 297 replaced by X\r\n",
        "Selenocysteine (U) at position 307 replaced by X\r\n",
        "Selenocysteine (U) at position 338 replaced by X\r\n",
        "Selenocysteine (U) at position 350 replaced by X\r\n",
        "Selenocysteine (U) at position 363 replaced by X\r\n",
        "Selenocysteine (U) at position 365 replaced by X\r\n",
        "Selenocysteine (U) at position 372 replaced by X\r\n",
        "Selenocysteine (U) at position 388 replaced by X\r\n",
        "Selenocysteine (U) at position 390 replaced by X\r\n",
        "Selenocysteine (U) at position 397 replaced by X\r\n",
        "Selenocysteine (U) at position 399 replaced by X\r\n",
        "Selenocysteine (U) at position 59 replaced by X\r\n",
        "Selenocysteine (U) at position 259 replaced by X\r\n",
        "Selenocysteine (U) at position 277 replaced by X\r\n",
        "Selenocysteine (U) at position 318 replaced by X\r\n",
        "Selenocysteine (U) at position 330 replaced by X\r\n",
        "Selenocysteine (U) at position 352 replaced by X\r\n",
        "Selenocysteine (U) at position 366 replaced by X\r\n",
        "Selenocysteine (U) at position 368 replaced by X\r\n",
        "Selenocysteine (U) at position 375 replaced by X\r\n",
        "Selenocysteine (U) at position 377 replaced by X\r\n",
        "Selenocysteine (U) at position 59 replaced by X\r\n",
        "Selenocysteine (U) at position 264 replaced by X\r\n",
        "Selenocysteine (U) at position 282 replaced by X\r\n",
        "Selenocysteine (U) at position 323 replaced by X\r\n",
        "Selenocysteine (U) at position 335 replaced by X\r\n",
        "Selenocysteine (U) at position 357 replaced by X\r\n",
        "Selenocysteine (U) at position 371 replaced by X\r\n",
        "Selenocysteine (U) at position 373 replaced by X\r\n",
        "Selenocysteine (U) at position 380 replaced by X\r\n",
        "Selenocysteine (U) at position 382 replaced by X\r\n"
       ]
      },
      {
       "output_type": "stream",
       "stream": "stdout",
       "text": [
        "Selenocysteine (U) at position 59 replaced by X\r\n",
        "Selenocysteine (U) at position 297 replaced by X\r\n",
        "Selenocysteine (U) at position 307 replaced by X\r\n",
        "Selenocysteine (U) at position 338 replaced by X\r\n",
        "Selenocysteine (U) at position 350 replaced by X\r\n",
        "Selenocysteine (U) at position 363 replaced by X\r\n",
        "Selenocysteine (U) at position 365 replaced by X\r\n",
        "Selenocysteine (U) at position 372 replaced by X\r\n",
        "Selenocysteine (U) at position 388 replaced by X\r\n",
        "Selenocysteine (U) at position 390 replaced by X\r\n",
        "Selenocysteine (U) at position 397 replaced by X\r\n",
        "Selenocysteine (U) at position 399 replaced by X\r\n",
        "Selenocysteine (U) at position 59 replaced by X\r\n",
        "Selenocysteine (U) at position 297 replaced by X\r\n",
        "Selenocysteine (U) at position 307 replaced by X\r\n",
        "Selenocysteine (U) at position 338 replaced by X\r\n",
        "Selenocysteine (U) at position 350 replaced by X\r\n",
        "Selenocysteine (U) at position 363 replaced by X\r\n",
        "Selenocysteine (U) at position 365 replaced by X\r\n",
        "Selenocysteine (U) at position 372 replaced by X\r\n",
        "Selenocysteine (U) at position 388 replaced by X\r\n",
        "Selenocysteine (U) at position 390 replaced by X\r\n",
        "Selenocysteine (U) at position 397 replaced by X\r\n",
        "Selenocysteine (U) at position 399 replaced by X\r\n",
        "Selenocysteine (U) at position 59 replaced by X\r\n",
        "Selenocysteine (U) at position 297 replaced by X\r\n",
        "Selenocysteine (U) at position 307 replaced by X\r\n",
        "Selenocysteine (U) at position 338 replaced by X\r\n",
        "Selenocysteine (U) at position 350 replaced by X\r\n",
        "Selenocysteine (U) at position 363 replaced by X\r\n",
        "Selenocysteine (U) at position 365 replaced by X\r\n",
        "Selenocysteine (U) at position 372 replaced by X\r\n",
        "Selenocysteine (U) at position 388 replaced by X\r\n",
        "Selenocysteine (U) at position 390 replaced by X\r\n",
        "Selenocysteine (U) at position 397 replaced by X\r\n",
        "Selenocysteine (U) at position 399 replaced by X\r\n"
       ]
      },
      {
       "output_type": "stream",
       "stream": "stdout",
       "text": [
        "Selenocysteine (U) at position 59 replaced by X\r\n",
        "Selenocysteine (U) at position 297 replaced by X\r\n",
        "Selenocysteine (U) at position 307 replaced by X\r\n",
        "Selenocysteine (U) at position 338 replaced by X\r\n",
        "Selenocysteine (U) at position 350 replaced by X\r\n",
        "Selenocysteine (U) at position 363 replaced by X\r\n",
        "Selenocysteine (U) at position 365 replaced by X\r\n",
        "Selenocysteine (U) at position 372 replaced by X\r\n",
        "Selenocysteine (U) at position 388 replaced by X\r\n",
        "Selenocysteine (U) at position 390 replaced by X\r\n",
        "Selenocysteine (U) at position 397 replaced by X\r\n",
        "Selenocysteine (U) at position 399 replaced by X\r\n"
       ]
      },
      {
       "output_type": "stream",
       "stream": "stdout",
       "text": [
        "Selenocysteine (U) at position 64 replaced by X\r\n"
       ]
      },
      {
       "output_type": "stream",
       "stream": "stdout",
       "text": [
        "Selenocysteine (U) at position 40 replaced by X\r\n",
        "Selenocysteine (U) at position 40 replaced by X\r\n",
        "Selenocysteine (U) at position 73 replaced by X\r\n",
        "Selenocysteine (U) at position 73 replaced by X\r\n",
        "Selenocysteine (U) at position 73 replaced by X\r\n",
        "Selenocysteine (U) at position 73 replaced by X\r\n",
        "Selenocysteine (U) at position 73 replaced by X\r\n",
        "Selenocysteine (U) at position 73 replaced by X\r\n",
        "Selenocysteine (U) at position 73 replaced by X\r\n",
        "Selenocysteine (U) at position 73 replaced by X\r\n"
       ]
      },
      {
       "output_type": "stream",
       "stream": "stdout",
       "text": [
        "Selenocysteine (U) at position 64 replaced by X\r\n",
        "Selenocysteine (U) at position 64 replaced by X\r\n"
       ]
      },
      {
       "output_type": "stream",
       "stream": "stdout",
       "text": [
        "Selenocysteine (U) at position 40 replaced by X\r\n"
       ]
      },
      {
       "output_type": "stream",
       "stream": "stdout",
       "text": [
        "Selenocysteine (U) at position 121 replaced by X\r\n",
        "Selenocysteine (U) at position 121 replaced by X\r\n"
       ]
      },
      {
       "output_type": "stream",
       "stream": "stdout",
       "text": [
        "Selenocysteine (U) at position 690 replaced by X\r\n"
       ]
      },
      {
       "output_type": "stream",
       "stream": "stdout",
       "text": [
        "Selenocysteine (U) at position 690 replaced by X\r\n",
        "Selenocysteine (U) at position 690 replaced by X\r\n"
       ]
      },
      {
       "output_type": "stream",
       "stream": "stdout",
       "text": [
        "Selenocysteine (U) at position 59 replaced by X\r\n",
        "Selenocysteine (U) at position 297 replaced by X\r\n",
        "Selenocysteine (U) at position 307 replaced by X\r\n",
        "Selenocysteine (U) at position 338 replaced by X\r\n",
        "Selenocysteine (U) at position 350 replaced by X\r\n",
        "Selenocysteine (U) at position 363 replaced by X\r\n",
        "Selenocysteine (U) at position 365 replaced by X\r\n",
        "Selenocysteine (U) at position 372 replaced by X\r\n",
        "Selenocysteine (U) at position 388 replaced by X\r\n",
        "Selenocysteine (U) at position 390 replaced by X\r\n",
        "Selenocysteine (U) at position 397 replaced by X\r\n",
        "Selenocysteine (U) at position 399 replaced by X\r\n",
        "Selenocysteine (U) at position 59 replaced by X\r\n",
        "Selenocysteine (U) at position 297 replaced by X\r\n",
        "Selenocysteine (U) at position 307 replaced by X\r\n",
        "Selenocysteine (U) at position 338 replaced by X\r\n",
        "Selenocysteine (U) at position 350 replaced by X\r\n",
        "Selenocysteine (U) at position 363 replaced by X\r\n",
        "Selenocysteine (U) at position 365 replaced by X\r\n",
        "Selenocysteine (U) at position 372 replaced by X\r\n",
        "Selenocysteine (U) at position 388 replaced by X\r\n",
        "Selenocysteine (U) at position 390 replaced by X\r\n",
        "Selenocysteine (U) at position 397 replaced by X\r\n",
        "Selenocysteine (U) at position 399 replaced by X\r\n"
       ]
      },
      {
       "output_type": "stream",
       "stream": "stdout",
       "text": [
        "Selenocysteine (U) at position 140 replaced by X\r\n"
       ]
      },
      {
       "output_type": "stream",
       "stream": "stdout",
       "text": [
        "Selenocysteine (U) at position 52 replaced by X\r\n",
        "Selenocysteine (U) at position 47 replaced by X\r\n",
        "Selenocysteine (U) at position 47 replaced by X\r\n",
        "Selenocysteine (U) at position 46 replaced by X\r\n",
        "Selenocysteine (U) at position 47 replaced by X\r\n",
        "Selenocysteine (U) at position 73 replaced by X\r\n",
        "Selenocysteine (U) at position 73 replaced by X\r\n",
        "Selenocysteine (U) at position 73 replaced by X\r\n"
       ]
      },
      {
       "output_type": "stream",
       "stream": "stdout",
       "text": [
        "Selenocysteine (U) at position 612 replaced by X\r\n"
       ]
      },
      {
       "output_type": "stream",
       "stream": "stdout",
       "text": [
        "Selenocysteine (U) at position 200 replaced by X\r\n"
       ]
      },
      {
       "output_type": "stream",
       "stream": "stdout",
       "text": [
        "Selenocysteine (U) at position 59 replaced by X\r\n",
        "Selenocysteine (U) at position 259 replaced by X\r\n",
        "Selenocysteine (U) at position 277 replaced by X\r\n",
        "Selenocysteine (U) at position 318 replaced by X\r\n",
        "Selenocysteine (U) at position 330 replaced by X\r\n",
        "Selenocysteine (U) at position 352 replaced by X\r\n",
        "Selenocysteine (U) at position 366 replaced by X\r\n",
        "Selenocysteine (U) at position 368 replaced by X\r\n",
        "Selenocysteine (U) at position 375 replaced by X\r\n",
        "Selenocysteine (U) at position 377 replaced by X\r\n",
        "Selenocysteine (U) at position 59 replaced by X\r\n",
        "Selenocysteine (U) at position 259 replaced by X\r\n",
        "Selenocysteine (U) at position 277 replaced by X\r\n",
        "Selenocysteine (U) at position 318 replaced by X\r\n",
        "Selenocysteine (U) at position 330 replaced by X\r\n",
        "Selenocysteine (U) at position 352 replaced by X\r\n",
        "Selenocysteine (U) at position 366 replaced by X\r\n",
        "Selenocysteine (U) at position 368 replaced by X\r\n",
        "Selenocysteine (U) at position 375 replaced by X\r\n",
        "Selenocysteine (U) at position 377 replaced by X\r\n",
        "Selenocysteine (U) at position 59 replaced by X\r\n",
        "Selenocysteine (U) at position 264 replaced by X\r\n",
        "Selenocysteine (U) at position 282 replaced by X\r\n",
        "Selenocysteine (U) at position 323 replaced by X\r\n",
        "Selenocysteine (U) at position 335 replaced by X\r\n",
        "Selenocysteine (U) at position 357 replaced by X\r\n",
        "Selenocysteine (U) at position 371 replaced by X\r\n",
        "Selenocysteine (U) at position 373 replaced by X\r\n",
        "Selenocysteine (U) at position 380 replaced by X\r\n",
        "Selenocysteine (U) at position 382 replaced by X\r\n",
        "Selenocysteine (U) at position 59 replaced by X\r\n",
        "Selenocysteine (U) at position 264 replaced by X\r\n",
        "Selenocysteine (U) at position 282 replaced by X\r\n",
        "Selenocysteine (U) at position 323 replaced by X\r\n",
        "Selenocysteine (U) at position 335 replaced by X\r\n",
        "Selenocysteine (U) at position 357 replaced by X\r\n",
        "Selenocysteine (U) at position 371 replaced by X\r\n",
        "Selenocysteine (U) at position 373 replaced by X\r\n",
        "Selenocysteine (U) at position 380 replaced by X\r\n",
        "Selenocysteine (U) at position 382 replaced by X\r\n"
       ]
      },
      {
       "output_type": "stream",
       "stream": "stdout",
       "text": [
        "Selenocysteine (U) at position 59 replaced by X\r\n",
        "Selenocysteine (U) at position 259 replaced by X\r\n",
        "Selenocysteine (U) at position 277 replaced by X\r\n",
        "Selenocysteine (U) at position 318 replaced by X\r\n",
        "Selenocysteine (U) at position 330 replaced by X\r\n",
        "Selenocysteine (U) at position 352 replaced by X\r\n",
        "Selenocysteine (U) at position 366 replaced by X\r\n",
        "Selenocysteine (U) at position 368 replaced by X\r\n",
        "Selenocysteine (U) at position 375 replaced by X\r\n",
        "Selenocysteine (U) at position 377 replaced by X\r\n",
        "Selenocysteine (U) at position 59 replaced by X\r\n",
        "Selenocysteine (U) at position 264 replaced by X\r\n",
        "Selenocysteine (U) at position 282 replaced by X\r\n",
        "Selenocysteine (U) at position 323 replaced by X\r\n",
        "Selenocysteine (U) at position 335 replaced by X\r\n",
        "Selenocysteine (U) at position 357 replaced by X\r\n",
        "Selenocysteine (U) at position 371 replaced by X\r\n",
        "Selenocysteine (U) at position 373 replaced by X\r\n",
        "Selenocysteine (U) at position 380 replaced by X\r\n",
        "Selenocysteine (U) at position 382 replaced by X\r\n"
       ]
      },
      {
       "output_type": "stream",
       "stream": "stdout",
       "text": [
        "Selenocysteine (U) at position 133 replaced by X\r\n"
       ]
      },
      {
       "output_type": "stream",
       "stream": "stdout",
       "text": [
        "Selenocysteine (U) at position 193 replaced by X\r\n"
       ]
      },
      {
       "output_type": "stream",
       "stream": "stdout",
       "text": [
        "Selenocysteine (U) at position 387 replaced by X\r\n",
        "Selenocysteine (U) at position 387 replaced by X\r\n",
        "Selenocysteine (U) at position 387 replaced by X\r\n",
        "Selenocysteine (U) at position 387 replaced by X\r\n",
        "Selenocysteine (U) at position 387 replaced by X\r\n",
        "Selenocysteine (U) at position 387 replaced by X\r\n",
        "Selenocysteine (U) at position 388 replaced by X\r\n",
        "Selenocysteine (U) at position 388 replaced by X\r\n",
        "Selenocysteine (U) at position 388 replaced by X\r\n",
        "Selenocysteine (U) at position 387 replaced by X\r\n",
        "Selenocysteine (U) at position 387 replaced by X\r\n",
        "Selenocysteine (U) at position 387 replaced by X\r\n"
       ]
      },
      {
       "output_type": "stream",
       "stream": "stdout",
       "text": [
        "Selenocysteine (U) at position 387 replaced by X\r\n",
        "Selenocysteine (U) at position 387 replaced by X\r\n",
        "Selenocysteine (U) at position 387 replaced by X\r\n",
        "Selenocysteine (U) at position 387 replaced by X\r\n",
        "Selenocysteine (U) at position 388 replaced by X\r\n",
        "Selenocysteine (U) at position 388 replaced by X\r\n",
        "Selenocysteine (U) at position 387 replaced by X\r\n",
        "Selenocysteine (U) at position 387 replaced by X\r\n"
       ]
      },
      {
       "output_type": "stream",
       "stream": "stdout",
       "text": [
        "Selenocysteine (U) at position 121 replaced by X\r\n",
        "Selenocysteine (U) at position 121 replaced by X\r\n"
       ]
      },
      {
       "output_type": "stream",
       "stream": "stdout",
       "text": [
        "Selenocysteine (U) at position 93 replaced by X\r\n"
       ]
      },
      {
       "output_type": "stream",
       "stream": "stdout",
       "text": [
        "Selenocysteine (U) at position 637 replaced by X\r\n"
       ]
      },
      {
       "output_type": "stream",
       "stream": "stdout",
       "text": [
        "Selenocysteine (U) at position 637 replaced by X\r\n",
        "Selenocysteine (U) at position 690 replaced by X\r\n",
        "Selenocysteine (U) at position 690 replaced by X\r\n",
        "Selenocysteine (U) at position 690 replaced by X\r\n"
       ]
      },
      {
       "output_type": "stream",
       "stream": "stdout",
       "text": [
        "Selenocysteine (U) at position 200 replaced by X\r\n"
       ]
      },
      {
       "output_type": "stream",
       "stream": "stdout",
       "text": [
        "Selenocysteine (U) at position 196 replaced by X\r\n"
       ]
      },
      {
       "output_type": "stream",
       "stream": "stdout",
       "text": [
        "Selenocysteine (U) at position 44 replaced by X\r\n"
       ]
      },
      {
       "output_type": "stream",
       "stream": "stdout",
       "text": [
        "Selenocysteine (U) at position 388 replaced by X\r\n"
       ]
      },
      {
       "output_type": "stream",
       "stream": "stdout",
       "text": [
        "Selenocysteine (U) at position 152 replaced by X\r\n"
       ]
      },
      {
       "output_type": "stream",
       "stream": "stdout",
       "text": [
        "Selenocysteine (U) at position 613 replaced by X\r\n",
        "Selenocysteine (U) at position 613 replaced by X\r\n",
        "Selenocysteine (U) at position 613 replaced by X\r\n",
        "Selenocysteine (U) at position 613 replaced by X\r\n"
       ]
      },
      {
       "output_type": "stream",
       "stream": "stdout",
       "text": [
        "Selenocysteine (U) at position 613 replaced by X\r\n",
        "Selenocysteine (U) at position 613 replaced by X\r\n",
        "Selenocysteine (U) at position 613 replaced by X\r\n",
        "Selenocysteine (U) at position 613 replaced by X\r\n"
       ]
      },
      {
       "output_type": "stream",
       "stream": "stdout",
       "text": [
        "Selenocysteine (U) at position 493 replaced by X\r\n",
        "Selenocysteine (U) at position 493 replaced by X\r\n",
        "Selenocysteine (U) at position 493 replaced by X\r\n"
       ]
      },
      {
       "output_type": "stream",
       "stream": "stdout",
       "text": [
        "Selenocysteine (U) at position 188 replaced by X\r\n"
       ]
      },
      {
       "output_type": "stream",
       "stream": "stdout",
       "text": [
        "Selenocysteine (U) at position 17 replaced by X\r\n"
       ]
      },
      {
       "output_type": "stream",
       "stream": "stdout",
       "text": [
        "Selenocysteine (U) at position 38 replaced by X\r\n",
        "Selenocysteine (U) at position 38 replaced by X\r\n",
        "Selenocysteine (U) at position 667 replaced by X\r\n"
       ]
      },
      {
       "output_type": "stream",
       "stream": "stdout",
       "text": [
        "Selenocysteine (U) at position 85 replaced by X\r\n"
       ]
      },
      {
       "output_type": "stream",
       "stream": "stdout",
       "text": [
        "Selenocysteine (U) at position 63 replaced by X\r\n"
       ]
      },
      {
       "output_type": "stream",
       "stream": "stdout",
       "text": [
        "Selenocysteine (U) at position 95 replaced by X\r\n",
        "Selenocysteine (U) at position 95 replaced by X\r\n",
        "Selenocysteine (U) at position 95 replaced by X\r\n"
       ]
      },
      {
       "output_type": "stream",
       "stream": "stdout",
       "text": [
        "Selenocysteine (U) at position 131 replaced by X\r\n"
       ]
      },
      {
       "output_type": "stream",
       "stream": "stdout",
       "text": [
        "Selenocysteine (U) at position 59 replaced by X\r\n",
        "Selenocysteine (U) at position 297 replaced by X\r\n",
        "Selenocysteine (U) at position 307 replaced by X\r\n",
        "Selenocysteine (U) at position 338 replaced by X\r\n",
        "Selenocysteine (U) at position 350 replaced by X\r\n",
        "Selenocysteine (U) at position 363 replaced by X\r\n",
        "Selenocysteine (U) at position 365 replaced by X\r\n",
        "Selenocysteine (U) at position 372 replaced by X\r\n",
        "Selenocysteine (U) at position 388 replaced by X\r\n",
        "Selenocysteine (U) at position 390 replaced by X\r\n",
        "Selenocysteine (U) at position 397 replaced by X\r\n",
        "Selenocysteine (U) at position 399 replaced by X\r\n"
       ]
      },
      {
       "output_type": "stream",
       "stream": "stdout",
       "text": [
        "Selenocysteine (U) at position 64 replaced by X\r\n"
       ]
      },
      {
       "output_type": "stream",
       "stream": "stdout",
       "text": [
        "Selenocysteine (U) at position 121 replaced by X\r\n"
       ]
      },
      {
       "output_type": "stream",
       "stream": "stdout",
       "text": [
        "Selenocysteine (U) at position 665 replaced by X\r\n",
        "Selenocysteine (U) at position 665 replaced by X\r\n"
       ]
      },
      {
       "output_type": "stream",
       "stream": "stdout",
       "text": [
        "Selenocysteine (U) at position 63 replaced by X\r\n",
        "Selenocysteine (U) at position 63 replaced by X\r\n",
        "Selenocysteine (U) at position 63 replaced by X\r\n"
       ]
      },
      {
       "output_type": "stream",
       "stream": "stdout",
       "text": [
        "Selenocysteine (U) at position 59 replaced by X\r\n",
        "Selenocysteine (U) at position 297 replaced by X\r\n",
        "Selenocysteine (U) at position 307 replaced by X\r\n",
        "Selenocysteine (U) at position 338 replaced by X\r\n",
        "Selenocysteine (U) at position 350 replaced by X\r\n",
        "Selenocysteine (U) at position 363 replaced by X\r\n",
        "Selenocysteine (U) at position 365 replaced by X\r\n",
        "Selenocysteine (U) at position 372 replaced by X\r\n",
        "Selenocysteine (U) at position 388 replaced by X\r\n",
        "Selenocysteine (U) at position 390 replaced by X\r\n",
        "Selenocysteine (U) at position 397 replaced by X\r\n",
        "Selenocysteine (U) at position 399 replaced by X\r\n",
        "Selenocysteine (U) at position 59 replaced by X\r\n",
        "Selenocysteine (U) at position 297 replaced by X\r\n",
        "Selenocysteine (U) at position 307 replaced by X\r\n",
        "Selenocysteine (U) at position 338 replaced by X\r\n",
        "Selenocysteine (U) at position 350 replaced by X\r\n",
        "Selenocysteine (U) at position 363 replaced by X\r\n",
        "Selenocysteine (U) at position 365 replaced by X\r\n",
        "Selenocysteine (U) at position 372 replaced by X\r\n",
        "Selenocysteine (U) at position 388 replaced by X\r\n",
        "Selenocysteine (U) at position 390 replaced by X\r\n",
        "Selenocysteine (U) at position 397 replaced by X\r\n",
        "Selenocysteine (U) at position 399 replaced by X\r\n"
       ]
      },
      {
       "output_type": "stream",
       "stream": "stdout",
       "text": [
        "Selenocysteine (U) at position 637 replaced by X\r\n",
        "Selenocysteine (U) at position 637 replaced by X\r\n",
        "Selenocysteine (U) at position 690 replaced by X\r\n"
       ]
      },
      {
       "output_type": "stream",
       "stream": "stdout",
       "text": [
        "Selenocysteine (U) at position 637 replaced by X\r\n",
        "Selenocysteine (U) at position 690 replaced by X\r\n"
       ]
      },
      {
       "output_type": "stream",
       "stream": "stdout",
       "text": [
        "Selenocysteine (U) at position 637 replaced by X\r\n",
        "Selenocysteine (U) at position 637 replaced by X\r\n",
        "Selenocysteine (U) at position 690 replaced by X\r\n",
        "Selenocysteine (U) at position 690 replaced by X\r\n"
       ]
      },
      {
       "output_type": "stream",
       "stream": "stdout",
       "text": [
        "Selenocysteine (U) at position 59 replaced by X\r\n",
        "Selenocysteine (U) at position 259 replaced by X\r\n",
        "Selenocysteine (U) at position 277 replaced by X\r\n",
        "Selenocysteine (U) at position 318 replaced by X\r\n",
        "Selenocysteine (U) at position 330 replaced by X\r\n",
        "Selenocysteine (U) at position 352 replaced by X\r\n",
        "Selenocysteine (U) at position 366 replaced by X\r\n",
        "Selenocysteine (U) at position 368 replaced by X\r\n",
        "Selenocysteine (U) at position 375 replaced by X\r\n",
        "Selenocysteine (U) at position 377 replaced by X\r\n",
        "Selenocysteine (U) at position 59 replaced by X\r\n",
        "Selenocysteine (U) at position 259 replaced by X\r\n",
        "Selenocysteine (U) at position 277 replaced by X\r\n",
        "Selenocysteine (U) at position 318 replaced by X\r\n",
        "Selenocysteine (U) at position 330 replaced by X\r\n",
        "Selenocysteine (U) at position 352 replaced by X\r\n",
        "Selenocysteine (U) at position 366 replaced by X\r\n",
        "Selenocysteine (U) at position 368 replaced by X\r\n",
        "Selenocysteine (U) at position 375 replaced by X\r\n",
        "Selenocysteine (U) at position 377 replaced by X\r\n"
       ]
      },
      {
       "output_type": "stream",
       "stream": "stdout",
       "text": [
        "Selenocysteine (U) at position 59 replaced by X\r\n",
        "Selenocysteine (U) at position 267 replaced by X\r\n",
        "Selenocysteine (U) at position 273 replaced by X\r\n",
        "Selenocysteine (U) at position 279 replaced by X\r\n",
        "Selenocysteine (U) at position 290 replaced by X\r\n",
        "Selenocysteine (U) at position 292 replaced by X\r\n",
        "Selenocysteine (U) at position 294 replaced by X\r\n",
        "Selenocysteine (U) at position 310 replaced by X\r\n",
        "Selenocysteine (U) at position 320 replaced by X\r\n",
        "Selenocysteine (U) at position 322 replaced by X\r\n",
        "Selenocysteine (U) at position 336 replaced by X\r\n",
        "Selenocysteine (U) at position 338 replaced by X\r\n",
        "Selenocysteine (U) at position 346 replaced by X\r\n",
        "Selenocysteine (U) at position 353 replaced by X\r\n",
        "Selenocysteine (U) at position 355 replaced by X\r\n",
        "Selenocysteine (U) at position 362 replaced by X\r\n",
        "Selenocysteine (U) at position 364 replaced by X\r\n"
       ]
      },
      {
       "output_type": "stream",
       "stream": "stdout",
       "text": [
        "Selenocysteine (U) at position 16 replaced by X\r\n"
       ]
      },
      {
       "output_type": "stream",
       "stream": "stdout",
       "text": [
        "Selenocysteine (U) at position 665 replaced by X\r\n"
       ]
      },
      {
       "output_type": "stream",
       "stream": "stdout",
       "text": [
        "Selenocysteine (U) at position 690 replaced by X\r\n"
       ]
      },
      {
       "output_type": "stream",
       "stream": "stdout",
       "text": [
        "Selenocysteine (U) at position 59 replaced by X\r\n",
        "Selenocysteine (U) at position 300 replaced by X\r\n",
        "Selenocysteine (U) at position 318 replaced by X\r\n",
        "Selenocysteine (U) at position 330 replaced by X\r\n",
        "Selenocysteine (U) at position 345 replaced by X\r\n",
        "Selenocysteine (U) at position 352 replaced by X\r\n",
        "Selenocysteine (U) at position 367 replaced by X\r\n",
        "Selenocysteine (U) at position 369 replaced by X\r\n",
        "Selenocysteine (U) at position 376 replaced by X\r\n",
        "Selenocysteine (U) at position 378 replaced by X\r\n"
       ]
      },
      {
       "output_type": "stream",
       "stream": "stdout",
       "text": [
        "Selenocysteine (U) at position 59 replaced by X\r\n",
        "Selenocysteine (U) at position 259 replaced by X\r\n",
        "Selenocysteine (U) at position 277 replaced by X\r\n",
        "Selenocysteine (U) at position 318 replaced by X\r\n",
        "Selenocysteine (U) at position 330 replaced by X\r\n",
        "Selenocysteine (U) at position 352 replaced by X\r\n",
        "Selenocysteine (U) at position 366 replaced by X\r\n",
        "Selenocysteine (U) at position 368 replaced by X\r\n",
        "Selenocysteine (U) at position 375 replaced by X\r\n",
        "Selenocysteine (U) at position 377 replaced by X\r\n",
        "Selenocysteine (U) at position 59 replaced by X\r\n",
        "Selenocysteine (U) at position 264 replaced by X\r\n",
        "Selenocysteine (U) at position 282 replaced by X\r\n",
        "Selenocysteine (U) at position 323 replaced by X\r\n",
        "Selenocysteine (U) at position 335 replaced by X\r\n",
        "Selenocysteine (U) at position 357 replaced by X\r\n",
        "Selenocysteine (U) at position 371 replaced by X\r\n",
        "Selenocysteine (U) at position 373 replaced by X\r\n",
        "Selenocysteine (U) at position 380 replaced by X\r\n",
        "Selenocysteine (U) at position 382 replaced by X\r\n"
       ]
      },
      {
       "output_type": "stream",
       "stream": "stdout",
       "text": [
        "Selenocysteine (U) at position 59 replaced by X\r\n",
        "Selenocysteine (U) at position 259 replaced by X\r\n",
        "Selenocysteine (U) at position 277 replaced by X\r\n",
        "Selenocysteine (U) at position 318 replaced by X\r\n",
        "Selenocysteine (U) at position 330 replaced by X\r\n",
        "Selenocysteine (U) at position 352 replaced by X\r\n",
        "Selenocysteine (U) at position 366 replaced by X\r\n",
        "Selenocysteine (U) at position 368 replaced by X\r\n",
        "Selenocysteine (U) at position 375 replaced by X\r\n",
        "Selenocysteine (U) at position 377 replaced by X\r\n",
        "Selenocysteine (U) at position 59 replaced by X\r\n",
        "Selenocysteine (U) at position 264 replaced by X\r\n",
        "Selenocysteine (U) at position 282 replaced by X\r\n",
        "Selenocysteine (U) at position 323 replaced by X\r\n",
        "Selenocysteine (U) at position 335 replaced by X\r\n",
        "Selenocysteine (U) at position 357 replaced by X\r\n",
        "Selenocysteine (U) at position 371 replaced by X\r\n",
        "Selenocysteine (U) at position 373 replaced by X\r\n",
        "Selenocysteine (U) at position 380 replaced by X\r\n",
        "Selenocysteine (U) at position 382 replaced by X\r\n"
       ]
      },
      {
       "output_type": "stream",
       "stream": "stdout",
       "text": [
        "Selenocysteine (U) at position 273 replaced by X\r\n"
       ]
      },
      {
       "output_type": "stream",
       "stream": "stdout",
       "text": [
        "Selenocysteine (U) at position 196 replaced by X\r\n",
        "Selenocysteine (U) at position 196 replaced by X\r\n"
       ]
      },
      {
       "output_type": "stream",
       "stream": "stdout",
       "text": [
        "Selenocysteine (U) at position 637 replaced by X\r\n"
       ]
      },
      {
       "output_type": "stream",
       "stream": "stdout",
       "text": [
        "Selenocysteine (U) at position 637 replaced by X\r\n"
       ]
      },
      {
       "output_type": "stream",
       "stream": "stdout",
       "text": [
        "Selenocysteine (U) at position 84 replaced by X\r\n"
       ]
      },
      {
       "output_type": "stream",
       "stream": "stdout",
       "text": [
        "Selenocysteine (U) at position 121 replaced by X\r\n",
        "Selenocysteine (U) at position 120 replaced by X\r\n"
       ]
      },
      {
       "output_type": "stream",
       "stream": "stdout",
       "text": [
        "Selenocysteine (U) at position 121 replaced by X\r\n",
        "Selenocysteine (U) at position 121 replaced by X\r\n",
        "Selenocysteine (U) at position 120 replaced by X\r\n",
        "Selenocysteine (U) at position 120 replaced by X\r\n"
       ]
      },
      {
       "output_type": "stream",
       "stream": "stdout",
       "text": [
        "Selenocysteine (U) at position 121 replaced by X\r\n",
        "Selenocysteine (U) at position 120 replaced by X\r\n"
       ]
      },
      {
       "output_type": "stream",
       "stream": "stdout",
       "text": [
        "Selenocysteine (U) at position 273 replaced by X\r\n"
       ]
      },
      {
       "output_type": "stream",
       "stream": "stdout",
       "text": [
        "Selenocysteine (U) at position 273 replaced by X\r\n"
       ]
      },
      {
       "output_type": "stream",
       "stream": "stdout",
       "text": [
        "Selenocysteine (U) at position 95 replaced by X\r\n",
        "Selenocysteine (U) at position 95 replaced by X\r\n",
        "Selenocysteine (U) at position 95 replaced by X\r\n",
        "Selenocysteine (U) at position 95 replaced by X\r\n",
        "Selenocysteine (U) at position 95 replaced by X\r\n",
        "Selenocysteine (U) at position 95 replaced by X\r\n"
       ]
      },
      {
       "output_type": "stream",
       "stream": "stdout",
       "text": [
        "Selenocysteine (U) at position 192 replaced by X\r\n",
        "Selenocysteine (U) at position 192 replaced by X\r\n",
        "Selenocysteine (U) at position 187 replaced by X\r\n",
        "Selenocysteine (U) at position 187 replaced by X\r\n",
        "Selenocysteine (U) at position 188 replaced by X\r\n",
        "Selenocysteine (U) at position 188 replaced by X\r\n"
       ]
      },
      {
       "output_type": "stream",
       "stream": "stdout",
       "text": [
        "Selenocysteine (U) at position 192 replaced by X\r\n",
        "Selenocysteine (U) at position 187 replaced by X\r\n",
        "Selenocysteine (U) at position 188 replaced by X\r\n"
       ]
      },
      {
       "output_type": "stream",
       "stream": "stdout",
       "text": [
        "Selenocysteine (U) at position 196 replaced by X\r\n"
       ]
      },
      {
       "output_type": "stream",
       "stream": "stdout",
       "text": [
        "Selenocysteine (U) at position 47 replaced by X\r\n"
       ]
      },
      {
       "output_type": "stream",
       "stream": "stdout",
       "text": [
        "Selenocysteine (U) at position 59 replaced by X\r\n",
        "Selenocysteine (U) at position 259 replaced by X\r\n",
        "Selenocysteine (U) at position 277 replaced by X\r\n",
        "Selenocysteine (U) at position 318 replaced by X\r\n",
        "Selenocysteine (U) at position 330 replaced by X\r\n",
        "Selenocysteine (U) at position 352 replaced by X\r\n",
        "Selenocysteine (U) at position 366 replaced by X\r\n",
        "Selenocysteine (U) at position 368 replaced by X\r\n",
        "Selenocysteine (U) at position 375 replaced by X\r\n",
        "Selenocysteine (U) at position 377 replaced by X\r\n"
       ]
      },
      {
       "output_type": "stream",
       "stream": "stdout",
       "text": [
        "Selenocysteine (U) at position 84 replaced by X\r\n",
        "Selenocysteine (U) at position 84 replaced by X\r\n"
       ]
      },
      {
       "output_type": "stream",
       "stream": "stdout",
       "text": [
        "Selenocysteine (U) at position 84 replaced by X\r\n"
       ]
      },
      {
       "output_type": "stream",
       "stream": "stdout",
       "text": [
        "Selenocysteine (U) at position 18 replaced by X\r\n"
       ]
      },
      {
       "output_type": "stream",
       "stream": "stdout",
       "text": [
        "Selenocysteine (U) at position 74 replaced by X\r\n"
       ]
      },
      {
       "output_type": "stream",
       "stream": "stdout",
       "text": [
        "Selenocysteine (U) at position 131 replaced by X\r\n"
       ]
      },
      {
       "output_type": "stream",
       "stream": "stdout",
       "text": [
        "Selenocysteine (U) at position 16 replaced by X\r\n",
        "Selenocysteine (U) at position 188 replaced by X\r\n"
       ]
      },
      {
       "output_type": "stream",
       "stream": "stdout",
       "text": [
        "Selenocysteine (U) at position 38 replaced by X\r\n",
        "Selenocysteine (U) at position 38 replaced by X\r\n"
       ]
      },
      {
       "output_type": "stream",
       "stream": "stdout",
       "text": [
        "Selenocysteine (U) at position 73 replaced by X\r\n"
       ]
      },
      {
       "output_type": "stream",
       "stream": "stdout",
       "text": [
        "Selenocysteine (U) at position 73 replaced by X\r\n"
       ]
      },
      {
       "output_type": "stream",
       "stream": "stdout",
       "text": [
        "Selenocysteine (U) at position 189 replaced by X\r\n"
       ]
      },
      {
       "output_type": "stream",
       "stream": "stdout",
       "text": [
        "Selenocysteine (U) at position 189 replaced by X\r\n",
        "Selenocysteine (U) at position 189 replaced by X\r\n"
       ]
      },
      {
       "output_type": "stream",
       "stream": "stdout",
       "text": [
        "Selenocysteine (U) at position 38 replaced by X\r\n"
       ]
      },
      {
       "output_type": "stream",
       "stream": "stdout",
       "text": [
        "Selenocysteine (U) at position 637 replaced by X\r\n",
        "Selenocysteine (U) at position 690 replaced by X\r\n"
       ]
      },
      {
       "output_type": "stream",
       "stream": "stdout",
       "text": [
        "Selenocysteine (U) at position 19 replaced by X\r\n"
       ]
      },
      {
       "output_type": "stream",
       "stream": "stdout",
       "text": [
        "Selenocysteine (U) at position 204 replaced by X\r\n"
       ]
      },
      {
       "output_type": "stream",
       "stream": "stdout",
       "text": [
        "Selenocysteine (U) at position 140 replaced by X\r\n"
       ]
      },
      {
       "output_type": "stream",
       "stream": "stdout",
       "text": [
        "Selenocysteine (U) at position 273 replaced by X\r\n"
       ]
      },
      {
       "output_type": "stream",
       "stream": "stdout",
       "text": [
        "Selenocysteine (U) at position 106 replaced by X\r\n"
       ]
      },
      {
       "output_type": "stream",
       "stream": "stdout",
       "text": [
        "Selenocysteine (U) at position 430 replaced by X\r\n"
       ]
      },
      {
       "output_type": "stream",
       "stream": "stdout",
       "text": [
        "Selenocysteine (U) at position 197 replaced by X\r\n"
       ]
      },
      {
       "output_type": "stream",
       "stream": "stdout",
       "text": [
        "Selenocysteine (U) at position 27 replaced by X\r\n",
        "Selenocysteine (U) at position 27 replaced by X\r\n",
        "Selenocysteine (U) at position 27 replaced by X\r\n"
       ]
      },
      {
       "output_type": "stream",
       "stream": "stdout",
       "text": [
        "Selenocysteine (U) at position 128 replaced by X\r\n",
        "Selenocysteine (U) at position 261 replaced by X\r\n"
       ]
      },
      {
       "output_type": "stream",
       "stream": "stdout",
       "text": [
        "Selenocysteine (U) at position 127 replaced by X\r\n",
        "Selenocysteine (U) at position 462 replaced by X\r\n",
        "Selenocysteine (U) at position 127 replaced by X\r\n",
        "Selenocysteine (U) at position 462 replaced by X\r\n",
        "Selenocysteine (U) at position 436 replaced by X\r\n",
        "Selenocysteine (U) at position 436 replaced by X\r\n"
       ]
      },
      {
       "output_type": "stream",
       "stream": "stdout",
       "text": [
        "Selenocysteine (U) at position 59 replaced by X\r\n",
        "Selenocysteine (U) at position 267 replaced by X\r\n",
        "Selenocysteine (U) at position 273 replaced by X\r\n",
        "Selenocysteine (U) at position 279 replaced by X\r\n",
        "Selenocysteine (U) at position 290 replaced by X\r\n",
        "Selenocysteine (U) at position 292 replaced by X\r\n",
        "Selenocysteine (U) at position 294 replaced by X\r\n",
        "Selenocysteine (U) at position 310 replaced by X\r\n",
        "Selenocysteine (U) at position 320 replaced by X\r\n",
        "Selenocysteine (U) at position 322 replaced by X\r\n",
        "Selenocysteine (U) at position 336 replaced by X\r\n",
        "Selenocysteine (U) at position 338 replaced by X\r\n",
        "Selenocysteine (U) at position 346 replaced by X\r\n",
        "Selenocysteine (U) at position 353 replaced by X\r\n",
        "Selenocysteine (U) at position 355 replaced by X\r\n",
        "Selenocysteine (U) at position 362 replaced by X\r\n",
        "Selenocysteine (U) at position 364 replaced by X\r\n",
        "Selenocysteine (U) at position 59 replaced by X\r\n",
        "Selenocysteine (U) at position 267 replaced by X\r\n",
        "Selenocysteine (U) at position 273 replaced by X\r\n",
        "Selenocysteine (U) at position 279 replaced by X\r\n",
        "Selenocysteine (U) at position 290 replaced by X\r\n",
        "Selenocysteine (U) at position 292 replaced by X\r\n",
        "Selenocysteine (U) at position 294 replaced by X\r\n",
        "Selenocysteine (U) at position 310 replaced by X\r\n",
        "Selenocysteine (U) at position 320 replaced by X\r\n",
        "Selenocysteine (U) at position 322 replaced by X\r\n",
        "Selenocysteine (U) at position 336 replaced by X\r\n",
        "Selenocysteine (U) at position 338 replaced by X\r\n",
        "Selenocysteine (U) at position 346 replaced by X\r\n",
        "Selenocysteine (U) at position 353 replaced by X\r\n",
        "Selenocysteine (U) at position 355 replaced by X\r\n",
        "Selenocysteine (U) at position 362 replaced by X\r\n",
        "Selenocysteine (U) at position 364 replaced by X\r\n",
        "Selenocysteine (U) at position 59 replaced by X\r\n",
        "Selenocysteine (U) at position 267 replaced by X\r\n",
        "Selenocysteine (U) at position 273 replaced by X\r\n",
        "Selenocysteine (U) at position 279 replaced by X\r\n",
        "Selenocysteine (U) at position 290 replaced by X\r\n",
        "Selenocysteine (U) at position 292 replaced by X\r\n",
        "Selenocysteine (U) at position 294 replaced by X\r\n",
        "Selenocysteine (U) at position 310 replaced by X\r\n",
        "Selenocysteine (U) at position 320 replaced by X\r\n",
        "Selenocysteine (U) at position 322 replaced by X\r\n",
        "Selenocysteine (U) at position 336 replaced by X\r\n",
        "Selenocysteine (U) at position 338 replaced by X\r\n",
        "Selenocysteine (U) at position 346 replaced by X\r\n",
        "Selenocysteine (U) at position 353 replaced by X\r\n",
        "Selenocysteine (U) at position 355 replaced by X\r\n",
        "Selenocysteine (U) at position 362 replaced by X\r\n",
        "Selenocysteine (U) at position 364 replaced by X\r\n"
       ]
      },
      {
       "output_type": "stream",
       "stream": "stdout",
       "text": [
        "Selenocysteine (U) at position 13 replaced by X\r\n"
       ]
      },
      {
       "output_type": "stream",
       "stream": "stdout",
       "text": [
        "Selenocysteine (U) at position 59 replaced by X\r\n",
        "Selenocysteine (U) at position 267 replaced by X\r\n",
        "Selenocysteine (U) at position 273 replaced by X\r\n",
        "Selenocysteine (U) at position 279 replaced by X\r\n",
        "Selenocysteine (U) at position 290 replaced by X\r\n",
        "Selenocysteine (U) at position 292 replaced by X\r\n",
        "Selenocysteine (U) at position 294 replaced by X\r\n",
        "Selenocysteine (U) at position 310 replaced by X\r\n",
        "Selenocysteine (U) at position 320 replaced by X\r\n",
        "Selenocysteine (U) at position 322 replaced by X\r\n",
        "Selenocysteine (U) at position 336 replaced by X\r\n",
        "Selenocysteine (U) at position 338 replaced by X\r\n",
        "Selenocysteine (U) at position 346 replaced by X\r\n",
        "Selenocysteine (U) at position 353 replaced by X\r\n",
        "Selenocysteine (U) at position 355 replaced by X\r\n",
        "Selenocysteine (U) at position 362 replaced by X\r\n",
        "Selenocysteine (U) at position 364 replaced by X\r\n"
       ]
      },
      {
       "output_type": "stream",
       "stream": "stdout",
       "text": [
        "Selenocysteine (U) at position 430 replaced by X\r\n",
        "Selenocysteine (U) at position 430 replaced by X\r\n"
       ]
      },
      {
       "output_type": "stream",
       "stream": "stdout",
       "text": [
        "Selenocysteine (U) at position 85 replaced by X\r\n",
        "Selenocysteine (U) at position 74 replaced by X\r\n"
       ]
      },
      {
       "output_type": "stream",
       "stream": "stdout",
       "text": [
        "Selenocysteine (U) at position 273 replaced by X\r\n"
       ]
      },
      {
       "output_type": "stream",
       "stream": "stdout",
       "text": [
        "Selenocysteine (U) at position 690 replaced by X\r\n"
       ]
      },
      {
       "output_type": "stream",
       "stream": "stdout",
       "text": [
        "Selenocysteine (U) at position 60 replaced by X\r\n",
        "Selenocysteine (U) at position 63 replaced by X\r\n"
       ]
      },
      {
       "output_type": "stream",
       "stream": "stdout",
       "text": [
        "Selenocysteine (U) at position 59 replaced by X\r\n",
        "Selenocysteine (U) at position 297 replaced by X\r\n",
        "Selenocysteine (U) at position 307 replaced by X\r\n",
        "Selenocysteine (U) at position 338 replaced by X\r\n",
        "Selenocysteine (U) at position 350 replaced by X\r\n",
        "Selenocysteine (U) at position 363 replaced by X\r\n",
        "Selenocysteine (U) at position 365 replaced by X\r\n",
        "Selenocysteine (U) at position 372 replaced by X\r\n",
        "Selenocysteine (U) at position 388 replaced by X\r\n",
        "Selenocysteine (U) at position 390 replaced by X\r\n",
        "Selenocysteine (U) at position 397 replaced by X\r\n",
        "Selenocysteine (U) at position 399 replaced by X\r\n"
       ]
      },
      {
       "output_type": "stream",
       "stream": "stdout",
       "text": [
        "Selenocysteine (U) at position 387 replaced by X\r\n",
        "Selenocysteine (U) at position 387 replaced by X\r\n",
        "Selenocysteine (U) at position 388 replaced by X\r\n",
        "Selenocysteine (U) at position 388 replaced by X\r\n",
        "Selenocysteine (U) at position 387 replaced by X\r\n",
        "Selenocysteine (U) at position 387 replaced by X\r\n"
       ]
      },
      {
       "output_type": "stream",
       "stream": "stdout",
       "text": [
        "Selenocysteine (U) at position 690 replaced by X\r\n",
        "Selenocysteine (U) at position 690 replaced by X\r\n",
        "Selenocysteine (U) at position 690 replaced by X\r\n"
       ]
      },
      {
       "output_type": "stream",
       "stream": "stdout",
       "text": [
        "Selenocysteine (U) at position 690 replaced by X\r\n"
       ]
      },
      {
       "output_type": "stream",
       "stream": "stdout",
       "text": [
        "Selenocysteine (U) at position 59 replaced by X\r\n",
        "Selenocysteine (U) at position 264 replaced by X\r\n",
        "Selenocysteine (U) at position 282 replaced by X\r\n",
        "Selenocysteine (U) at position 323 replaced by X\r\n",
        "Selenocysteine (U) at position 335 replaced by X\r\n",
        "Selenocysteine (U) at position 357 replaced by X\r\n",
        "Selenocysteine (U) at position 371 replaced by X\r\n",
        "Selenocysteine (U) at position 373 replaced by X\r\n",
        "Selenocysteine (U) at position 380 replaced by X\r\n",
        "Selenocysteine (U) at position 382 replaced by X\r\n",
        "Selenocysteine (U) at position 59 replaced by X\r\n",
        "Selenocysteine (U) at position 264 replaced by X\r\n",
        "Selenocysteine (U) at position 282 replaced by X\r\n",
        "Selenocysteine (U) at position 323 replaced by X\r\n",
        "Selenocysteine (U) at position 335 replaced by X\r\n",
        "Selenocysteine (U) at position 357 replaced by X\r\n",
        "Selenocysteine (U) at position 371 replaced by X\r\n",
        "Selenocysteine (U) at position 373 replaced by X\r\n",
        "Selenocysteine (U) at position 380 replaced by X\r\n",
        "Selenocysteine (U) at position 382 replaced by X\r\n"
       ]
      },
      {
       "output_type": "stream",
       "stream": "stdout",
       "text": [
        "Selenocysteine (U) at position 59 replaced by X\r\n",
        "Selenocysteine (U) at position 297 replaced by X\r\n",
        "Selenocysteine (U) at position 307 replaced by X\r\n",
        "Selenocysteine (U) at position 338 replaced by X\r\n",
        "Selenocysteine (U) at position 350 replaced by X\r\n",
        "Selenocysteine (U) at position 363 replaced by X\r\n",
        "Selenocysteine (U) at position 365 replaced by X\r\n",
        "Selenocysteine (U) at position 372 replaced by X\r\n",
        "Selenocysteine (U) at position 388 replaced by X\r\n",
        "Selenocysteine (U) at position 390 replaced by X\r\n",
        "Selenocysteine (U) at position 397 replaced by X\r\n",
        "Selenocysteine (U) at position 399 replaced by X\r\n"
       ]
      },
      {
       "output_type": "stream",
       "stream": "stdout",
       "text": [
        "Selenocysteine (U) at position 59 replaced by X\r\n",
        "Selenocysteine (U) at position 264 replaced by X\r\n",
        "Selenocysteine (U) at position 282 replaced by X\r\n",
        "Selenocysteine (U) at position 323 replaced by X\r\n",
        "Selenocysteine (U) at position 335 replaced by X\r\n",
        "Selenocysteine (U) at position 357 replaced by X\r\n",
        "Selenocysteine (U) at position 371 replaced by X\r\n",
        "Selenocysteine (U) at position 373 replaced by X\r\n",
        "Selenocysteine (U) at position 380 replaced by X\r\n",
        "Selenocysteine (U) at position 382 replaced by X\r\n",
        "Selenocysteine (U) at position 59 replaced by X\r\n",
        "Selenocysteine (U) at position 264 replaced by X\r\n",
        "Selenocysteine (U) at position 282 replaced by X\r\n",
        "Selenocysteine (U) at position 323 replaced by X\r\n",
        "Selenocysteine (U) at position 335 replaced by X\r\n",
        "Selenocysteine (U) at position 357 replaced by X\r\n",
        "Selenocysteine (U) at position 371 replaced by X\r\n",
        "Selenocysteine (U) at position 373 replaced by X\r\n",
        "Selenocysteine (U) at position 380 replaced by X\r\n",
        "Selenocysteine (U) at position 382 replaced by X\r\n",
        "Selenocysteine (U) at position 59 replaced by X\r\n",
        "Selenocysteine (U) at position 264 replaced by X\r\n",
        "Selenocysteine (U) at position 282 replaced by X\r\n",
        "Selenocysteine (U) at position 323 replaced by X\r\n",
        "Selenocysteine (U) at position 335 replaced by X\r\n",
        "Selenocysteine (U) at position 357 replaced by X\r\n",
        "Selenocysteine (U) at position 371 replaced by X\r\n",
        "Selenocysteine (U) at position 373 replaced by X\r\n",
        "Selenocysteine (U) at position 380 replaced by X\r\n",
        "Selenocysteine (U) at position 382 replaced by X\r\n"
       ]
      },
      {
       "output_type": "stream",
       "stream": "stdout",
       "text": [
        "Selenocysteine (U) at position 59 replaced by X\r\n",
        "Selenocysteine (U) at position 264 replaced by X\r\n",
        "Selenocysteine (U) at position 282 replaced by X\r\n",
        "Selenocysteine (U) at position 323 replaced by X\r\n",
        "Selenocysteine (U) at position 335 replaced by X\r\n",
        "Selenocysteine (U) at position 357 replaced by X\r\n",
        "Selenocysteine (U) at position 371 replaced by X\r\n",
        "Selenocysteine (U) at position 373 replaced by X\r\n",
        "Selenocysteine (U) at position 380 replaced by X\r\n",
        "Selenocysteine (U) at position 382 replaced by X\r\n",
        "Selenocysteine (U) at position 59 replaced by X\r\n",
        "Selenocysteine (U) at position 264 replaced by X\r\n",
        "Selenocysteine (U) at position 282 replaced by X\r\n",
        "Selenocysteine (U) at position 323 replaced by X\r\n",
        "Selenocysteine (U) at position 335 replaced by X\r\n",
        "Selenocysteine (U) at position 357 replaced by X\r\n",
        "Selenocysteine (U) at position 371 replaced by X\r\n",
        "Selenocysteine (U) at position 373 replaced by X\r\n",
        "Selenocysteine (U) at position 380 replaced by X\r\n",
        "Selenocysteine (U) at position 382 replaced by X\r\n"
       ]
      },
      {
       "output_type": "stream",
       "stream": "stdout",
       "text": [
        "Selenocysteine (U) at position 47 replaced by X\r\n",
        "Selenocysteine (U) at position 59 replaced by X\r\n",
        "Selenocysteine (U) at position 297 replaced by X\r\n",
        "Selenocysteine (U) at position 307 replaced by X\r\n",
        "Selenocysteine (U) at position 338 replaced by X\r\n",
        "Selenocysteine (U) at position 350 replaced by X\r\n",
        "Selenocysteine (U) at position 363 replaced by X\r\n",
        "Selenocysteine (U) at position 365 replaced by X\r\n",
        "Selenocysteine (U) at position 372 replaced by X\r\n",
        "Selenocysteine (U) at position 388 replaced by X\r\n",
        "Selenocysteine (U) at position 390 replaced by X\r\n",
        "Selenocysteine (U) at position 397 replaced by X\r\n",
        "Selenocysteine (U) at position 399 replaced by X\r\n"
       ]
      },
      {
       "output_type": "stream",
       "stream": "stdout",
       "text": [
        "Selenocysteine (U) at position 59 replaced by X\r\n",
        "Selenocysteine (U) at position 259 replaced by X\r\n",
        "Selenocysteine (U) at position 277 replaced by X\r\n",
        "Selenocysteine (U) at position 318 replaced by X\r\n",
        "Selenocysteine (U) at position 330 replaced by X\r\n",
        "Selenocysteine (U) at position 352 replaced by X\r\n",
        "Selenocysteine (U) at position 366 replaced by X\r\n",
        "Selenocysteine (U) at position 368 replaced by X\r\n",
        "Selenocysteine (U) at position 375 replaced by X\r\n",
        "Selenocysteine (U) at position 377 replaced by X\r\n"
       ]
      },
      {
       "output_type": "stream",
       "stream": "stdout",
       "text": [
        "Selenocysteine (U) at position 690 replaced by X\r\n"
       ]
      },
      {
       "output_type": "stream",
       "stream": "stdout",
       "text": [
        "Selenocysteine (U) at position 59 replaced by X\r\n",
        "Selenocysteine (U) at position 264 replaced by X\r\n",
        "Selenocysteine (U) at position 282 replaced by X\r\n",
        "Selenocysteine (U) at position 323 replaced by X\r\n",
        "Selenocysteine (U) at position 335 replaced by X\r\n",
        "Selenocysteine (U) at position 357 replaced by X\r\n",
        "Selenocysteine (U) at position 371 replaced by X\r\n",
        "Selenocysteine (U) at position 373 replaced by X\r\n",
        "Selenocysteine (U) at position 380 replaced by X\r\n",
        "Selenocysteine (U) at position 382 replaced by X\r\n"
       ]
      },
      {
       "output_type": "stream",
       "stream": "stdout",
       "text": [
        "Selenocysteine (U) at position 131 replaced by X\r\n"
       ]
      },
      {
       "output_type": "stream",
       "stream": "stdout",
       "text": [
        "Selenocysteine (U) at position 59 replaced by X\r\n",
        "Selenocysteine (U) at position 300 replaced by X\r\n",
        "Selenocysteine (U) at position 318 replaced by X\r\n",
        "Selenocysteine (U) at position 330 replaced by X\r\n",
        "Selenocysteine (U) at position 345 replaced by X\r\n",
        "Selenocysteine (U) at position 352 replaced by X\r\n",
        "Selenocysteine (U) at position 367 replaced by X\r\n",
        "Selenocysteine (U) at position 369 replaced by X\r\n",
        "Selenocysteine (U) at position 376 replaced by X\r\n",
        "Selenocysteine (U) at position 378 replaced by X\r\n",
        "Selenocysteine (U) at position 59 replaced by X\r\n",
        "Selenocysteine (U) at position 318 replaced by X\r\n",
        "Selenocysteine (U) at position 330 replaced by X\r\n",
        "Selenocysteine (U) at position 345 replaced by X\r\n",
        "Selenocysteine (U) at position 352 replaced by X\r\n",
        "Selenocysteine (U) at position 367 replaced by X\r\n",
        "Selenocysteine (U) at position 369 replaced by X\r\n",
        "Selenocysteine (U) at position 376 replaced by X\r\n",
        "Selenocysteine (U) at position 378 replaced by X\r\n"
       ]
      },
      {
       "output_type": "stream",
       "stream": "stdout",
       "text": [
        "Selenocysteine (U) at position 196 replaced by X\r\n"
       ]
      },
      {
       "output_type": "stream",
       "stream": "stdout",
       "text": [
        "Selenocysteine (U) at position 84 replaced by X\r\n"
       ]
      },
      {
       "output_type": "stream",
       "stream": "stdout",
       "text": [
        "Selenocysteine (U) at position 84 replaced by X\r\n",
        "Selenocysteine (U) at position 84 replaced by X\r\n"
       ]
      },
      {
       "output_type": "stream",
       "stream": "stdout",
       "text": [
        "Selenocysteine (U) at position 47 replaced by X\r\n"
       ]
      },
      {
       "output_type": "stream",
       "stream": "stdout",
       "text": [
        "Selenocysteine (U) at position 197 replaced by X\r\n"
       ]
      },
      {
       "output_type": "stream",
       "stream": "stdout",
       "text": [
        "Selenocysteine (U) at position 197 replaced by X\r\n",
        "Selenocysteine (U) at position 197 replaced by X\r\n"
       ]
      },
      {
       "output_type": "stream",
       "stream": "stdout",
       "text": [
        "Selenocysteine (U) at position 127 replaced by X\r\n",
        "Selenocysteine (U) at position 462 replaced by X\r\n",
        "Selenocysteine (U) at position 127 replaced by X\r\n",
        "Selenocysteine (U) at position 462 replaced by X\r\n"
       ]
      },
      {
       "output_type": "stream",
       "stream": "stdout",
       "text": [
        "Selenocysteine (U) at position 129 replaced by X\r\n",
        "Selenocysteine (U) at position 129 replaced by X\r\n"
       ]
      },
      {
       "output_type": "stream",
       "stream": "stdout",
       "text": [
        "Selenocysteine (U) at position 123 replaced by X\r\n"
       ]
      },
      {
       "output_type": "stream",
       "stream": "stdout",
       "text": [
        "Selenocysteine (U) at position 59 replaced by X\r\n",
        "Selenocysteine (U) at position 297 replaced by X\r\n",
        "Selenocysteine (U) at position 307 replaced by X\r\n",
        "Selenocysteine (U) at position 338 replaced by X\r\n",
        "Selenocysteine (U) at position 350 replaced by X\r\n",
        "Selenocysteine (U) at position 363 replaced by X\r\n",
        "Selenocysteine (U) at position 365 replaced by X\r\n",
        "Selenocysteine (U) at position 372 replaced by X\r\n",
        "Selenocysteine (U) at position 388 replaced by X\r\n",
        "Selenocysteine (U) at position 390 replaced by X\r\n",
        "Selenocysteine (U) at position 397 replaced by X\r\n",
        "Selenocysteine (U) at position 399 replaced by X\r\n"
       ]
      },
      {
       "output_type": "stream",
       "stream": "stdout",
       "text": [
        "Selenocysteine (U) at position 690 replaced by X\r\n",
        "Selenocysteine (U) at position 690 replaced by X\r\n"
       ]
      },
      {
       "output_type": "stream",
       "stream": "stdout",
       "text": [
        "Selenocysteine (U) at position 59 replaced by X\r\n",
        "Selenocysteine (U) at position 267 replaced by X\r\n",
        "Selenocysteine (U) at position 273 replaced by X\r\n",
        "Selenocysteine (U) at position 279 replaced by X\r\n",
        "Selenocysteine (U) at position 290 replaced by X\r\n",
        "Selenocysteine (U) at position 292 replaced by X\r\n",
        "Selenocysteine (U) at position 294 replaced by X\r\n",
        "Selenocysteine (U) at position 310 replaced by X\r\n",
        "Selenocysteine (U) at position 320 replaced by X\r\n",
        "Selenocysteine (U) at position 322 replaced by X\r\n",
        "Selenocysteine (U) at position 336 replaced by X\r\n",
        "Selenocysteine (U) at position 338 replaced by X\r\n",
        "Selenocysteine (U) at position 346 replaced by X\r\n",
        "Selenocysteine (U) at position 353 replaced by X\r\n",
        "Selenocysteine (U) at position 355 replaced by X\r\n",
        "Selenocysteine (U) at position 362 replaced by X\r\n",
        "Selenocysteine (U) at position 364 replaced by X\r\n"
       ]
      },
      {
       "output_type": "stream",
       "stream": "stdout",
       "text": [
        "Selenocysteine (U) at position 93 replaced by X\r\n",
        "Selenocysteine (U) at position 84 replaced by X\r\n",
        "Selenocysteine (U) at position 93 replaced by X\r\n",
        "Selenocysteine (U) at position 93 replaced by X\r\n",
        "Selenocysteine (U) at position 93 replaced by X\r\n",
        "Selenocysteine (U) at position 93 replaced by X\r\n"
       ]
      },
      {
       "output_type": "stream",
       "stream": "stdout",
       "text": [
        "Selenocysteine (U) at position 120 replaced by X\r\n"
       ]
      },
      {
       "output_type": "stream",
       "stream": "stdout",
       "text": [
        "Selenocysteine (U) at position 204 replaced by X\r\n"
       ]
      },
      {
       "output_type": "stream",
       "stream": "stdout",
       "text": [
        "Selenocysteine (U) at position 59 replaced by X\r\n",
        "Selenocysteine (U) at position 297 replaced by X\r\n",
        "Selenocysteine (U) at position 307 replaced by X\r\n",
        "Selenocysteine (U) at position 338 replaced by X\r\n",
        "Selenocysteine (U) at position 350 replaced by X\r\n",
        "Selenocysteine (U) at position 363 replaced by X\r\n",
        "Selenocysteine (U) at position 365 replaced by X\r\n",
        "Selenocysteine (U) at position 372 replaced by X\r\n",
        "Selenocysteine (U) at position 388 replaced by X\r\n",
        "Selenocysteine (U) at position 390 replaced by X\r\n",
        "Selenocysteine (U) at position 397 replaced by X\r\n",
        "Selenocysteine (U) at position 399 replaced by X\r\n"
       ]
      },
      {
       "output_type": "stream",
       "stream": "stdout",
       "text": [
        "Selenocysteine (U) at position 17 replaced by X\r\n"
       ]
      },
      {
       "output_type": "stream",
       "stream": "stdout",
       "text": [
        "Selenocysteine (U) at position 690 replaced by X\r\n"
       ]
      },
      {
       "output_type": "stream",
       "stream": "stdout",
       "text": [
        "Selenocysteine (U) at position 106 replaced by X\r\n"
       ]
      },
      {
       "output_type": "stream",
       "stream": "stdout",
       "text": [
        "Selenocysteine (U) at position 106 replaced by X\r\n",
        "Selenocysteine (U) at position 106 replaced by X\r\n"
       ]
      },
      {
       "output_type": "stream",
       "stream": "stdout",
       "text": [
        "Selenocysteine (U) at position 131 replaced by X\r\n"
       ]
      },
      {
       "output_type": "stream",
       "stream": "stdout",
       "text": [
        "Selenocysteine (U) at position 15 replaced by X\r\n",
        "Selenocysteine (U) at position 15 replaced by X\r\n",
        "Selenocysteine (U) at position 15 replaced by X\r\n"
       ]
      },
      {
       "output_type": "stream",
       "stream": "stdout",
       "text": [
        "Selenocysteine (U) at position 59 replaced by X\r\n",
        "Selenocysteine (U) at position 267 replaced by X\r\n",
        "Selenocysteine (U) at position 273 replaced by X\r\n",
        "Selenocysteine (U) at position 279 replaced by X\r\n",
        "Selenocysteine (U) at position 290 replaced by X\r\n",
        "Selenocysteine (U) at position 292 replaced by X\r\n",
        "Selenocysteine (U) at position 294 replaced by X\r\n",
        "Selenocysteine (U) at position 310 replaced by X\r\n",
        "Selenocysteine (U) at position 320 replaced by X\r\n",
        "Selenocysteine (U) at position 322 replaced by X\r\n",
        "Selenocysteine (U) at position 336 replaced by X\r\n",
        "Selenocysteine (U) at position 338 replaced by X\r\n",
        "Selenocysteine (U) at position 346 replaced by X\r\n",
        "Selenocysteine (U) at position 353 replaced by X\r\n",
        "Selenocysteine (U) at position 355 replaced by X\r\n",
        "Selenocysteine (U) at position 362 replaced by X\r\n",
        "Selenocysteine (U) at position 364 replaced by X\r\n"
       ]
      },
      {
       "output_type": "stream",
       "stream": "stdout",
       "text": [
        "Selenocysteine (U) at position 59 replaced by X\r\n",
        "Selenocysteine (U) at position 267 replaced by X\r\n",
        "Selenocysteine (U) at position 273 replaced by X\r\n",
        "Selenocysteine (U) at position 279 replaced by X\r\n",
        "Selenocysteine (U) at position 290 replaced by X\r\n",
        "Selenocysteine (U) at position 292 replaced by X\r\n",
        "Selenocysteine (U) at position 294 replaced by X\r\n",
        "Selenocysteine (U) at position 310 replaced by X\r\n",
        "Selenocysteine (U) at position 320 replaced by X\r\n",
        "Selenocysteine (U) at position 322 replaced by X\r\n",
        "Selenocysteine (U) at position 336 replaced by X\r\n",
        "Selenocysteine (U) at position 338 replaced by X\r\n",
        "Selenocysteine (U) at position 346 replaced by X\r\n",
        "Selenocysteine (U) at position 353 replaced by X\r\n",
        "Selenocysteine (U) at position 355 replaced by X\r\n",
        "Selenocysteine (U) at position 362 replaced by X\r\n",
        "Selenocysteine (U) at position 364 replaced by X\r\n"
       ]
      },
      {
       "output_type": "stream",
       "stream": "stdout",
       "text": [
        "Selenocysteine (U) at position 131 replaced by X\r\n"
       ]
      },
      {
       "output_type": "stream",
       "stream": "stdout",
       "text": [
        "Selenocysteine (U) at position 430 replaced by X\r\n"
       ]
      },
      {
       "output_type": "stream",
       "stream": "stdout",
       "text": [
        "Selenocysteine (U) at position 430 replaced by X\r\n",
        "Selenocysteine (U) at position 430 replaced by X\r\n"
       ]
      },
      {
       "output_type": "stream",
       "stream": "stdout",
       "text": [
        "Selenocysteine (U) at position 430 replaced by X\r\n"
       ]
      },
      {
       "output_type": "stream",
       "stream": "stdout",
       "text": [
        "Selenocysteine (U) at position 52 replaced by X\r\n",
        "Selenocysteine (U) at position 52 replaced by X\r\n"
       ]
      },
      {
       "output_type": "stream",
       "stream": "stdout",
       "text": [
        "Selenocysteine (U) at position 123 replaced by X\r\n",
        "Selenocysteine (U) at position 126 replaced by X\r\n",
        "Selenocysteine (U) at position 126 replaced by X\r\n",
        "Selenocysteine (U) at position 126 replaced by X\r\n",
        "Selenocysteine (U) at position 126 replaced by X\r\n",
        "Selenocysteine (U) at position 126 replaced by X\r\n",
        "Selenocysteine (U) at position 130 replaced by X\r\n"
       ]
      },
      {
       "output_type": "stream",
       "stream": "stdout",
       "text": [
        "Selenocysteine (U) at position 189 replaced by X\r\n",
        "Selenocysteine (U) at position 188 replaced by X\r\n",
        "Selenocysteine (U) at position 189 replaced by X\r\n",
        "Selenocysteine (U) at position 189 replaced by X\r\n"
       ]
      },
      {
       "output_type": "stream",
       "stream": "stdout",
       "text": [
        "Selenocysteine (U) at position 44 replaced by X\r\n"
       ]
      },
      {
       "output_type": "stream",
       "stream": "stdout",
       "text": [
        "Selenocysteine (U) at position 189 replaced by X\r\n",
        "Selenocysteine (U) at position 189 replaced by X\r\n",
        "Selenocysteine (U) at position 189 replaced by X\r\n",
        "Selenocysteine (U) at position 189 replaced by X\r\n"
       ]
      },
      {
       "output_type": "stream",
       "stream": "stdout",
       "text": [
        "Selenocysteine (U) at position 129 replaced by X\r\n"
       ]
      },
      {
       "output_type": "stream",
       "stream": "stdout",
       "text": [
        "Selenocysteine (U) at position 196 replaced by X\r\n"
       ]
      },
      {
       "output_type": "stream",
       "stream": "stdout",
       "text": [
        "Selenocysteine (U) at position 95 replaced by X\r\n",
        "Selenocysteine (U) at position 95 replaced by X\r\n"
       ]
      },
      {
       "output_type": "stream",
       "stream": "stdout",
       "text": [
        "Selenocysteine (U) at position 121 replaced by X\r\n"
       ]
      },
      {
       "output_type": "stream",
       "stream": "stdout",
       "text": [
        "Selenocysteine (U) at position 120 replaced by X\r\n"
       ]
      },
      {
       "output_type": "stream",
       "stream": "stdout",
       "text": [
        "Selenocysteine (U) at position 59 replaced by X\r\n",
        "Selenocysteine (U) at position 297 replaced by X\r\n",
        "Selenocysteine (U) at position 307 replaced by X\r\n",
        "Selenocysteine (U) at position 338 replaced by X\r\n",
        "Selenocysteine (U) at position 350 replaced by X\r\n",
        "Selenocysteine (U) at position 363 replaced by X\r\n",
        "Selenocysteine (U) at position 365 replaced by X\r\n",
        "Selenocysteine (U) at position 372 replaced by X\r\n",
        "Selenocysteine (U) at position 388 replaced by X\r\n",
        "Selenocysteine (U) at position 390 replaced by X\r\n",
        "Selenocysteine (U) at position 397 replaced by X\r\n",
        "Selenocysteine (U) at position 399 replaced by X\r\n"
       ]
      },
      {
       "output_type": "stream",
       "stream": "stdout",
       "text": [
        "Selenocysteine (U) at position 690 replaced by X\r\n"
       ]
      },
      {
       "output_type": "stream",
       "stream": "stdout",
       "text": [
        "Selenocysteine (U) at position 196 replaced by X\r\n",
        "Selenocysteine (U) at position 196 replaced by X\r\n"
       ]
      },
      {
       "output_type": "stream",
       "stream": "stdout",
       "text": [
        "Selenocysteine (U) at position 196 replaced by X\r\n",
        "Selenocysteine (U) at position 196 replaced by X\r\n",
        "Selenocysteine (U) at position 196 replaced by X\r\n"
       ]
      },
      {
       "output_type": "stream",
       "stream": "stdout",
       "text": [
        "Selenocysteine (U) at position 642 replaced by X\r\n",
        "Selenocysteine (U) at position 651 replaced by X\r\n"
       ]
      },
      {
       "output_type": "stream",
       "stream": "stdout",
       "text": [
        "Selenocysteine (U) at position 109 replaced by X\r\n"
       ]
      },
      {
       "output_type": "stream",
       "stream": "stdout",
       "text": [
        "Selenocysteine (U) at position 642 replaced by X\r\n",
        "Selenocysteine (U) at position 651 replaced by X\r\n"
       ]
      },
      {
       "output_type": "stream",
       "stream": "stdout",
       "text": [
        "Selenocysteine (U) at position 46 replaced by X\r\n"
       ]
      },
      {
       "output_type": "stream",
       "stream": "stdout",
       "text": [
        "Selenocysteine (U) at position 59 replaced by X\r\n",
        "Selenocysteine (U) at position 267 replaced by X\r\n",
        "Selenocysteine (U) at position 273 replaced by X\r\n",
        "Selenocysteine (U) at position 279 replaced by X\r\n",
        "Selenocysteine (U) at position 290 replaced by X\r\n",
        "Selenocysteine (U) at position 292 replaced by X\r\n",
        "Selenocysteine (U) at position 294 replaced by X\r\n",
        "Selenocysteine (U) at position 310 replaced by X\r\n",
        "Selenocysteine (U) at position 320 replaced by X\r\n",
        "Selenocysteine (U) at position 322 replaced by X\r\n",
        "Selenocysteine (U) at position 336 replaced by X\r\n",
        "Selenocysteine (U) at position 338 replaced by X\r\n",
        "Selenocysteine (U) at position 346 replaced by X\r\n",
        "Selenocysteine (U) at position 353 replaced by X\r\n",
        "Selenocysteine (U) at position 355 replaced by X\r\n",
        "Selenocysteine (U) at position 362 replaced by X\r\n",
        "Selenocysteine (U) at position 364 replaced by X\r\n"
       ]
      },
      {
       "output_type": "stream",
       "stream": "stdout",
       "text": [
        "Selenocysteine (U) at position 20 replaced by X\r\n",
        "Selenocysteine (U) at position 88 replaced by X\r\n"
       ]
      },
      {
       "output_type": "stream",
       "stream": "stdout",
       "text": [
        "Selenocysteine (U) at position 64 replaced by X\r\n"
       ]
      },
      {
       "output_type": "stream",
       "stream": "stdout",
       "text": [
        "Selenocysteine (U) at position 64 replaced by X\r\n"
       ]
      },
      {
       "output_type": "stream",
       "stream": "stdout",
       "text": [
        "Selenocysteine (U) at position 64 replaced by X\r\n"
       ]
      },
      {
       "output_type": "stream",
       "stream": "stdout",
       "text": [
        "Selenocysteine (U) at position 64 replaced by X\r\n"
       ]
      },
      {
       "output_type": "stream",
       "stream": "stdout",
       "text": [
        "Selenocysteine (U) at position 7 replaced by X\r\n"
       ]
      },
      {
       "output_type": "stream",
       "stream": "stdout",
       "text": [
        "Selenocysteine (U) at position 637 replaced by X\r\n"
       ]
      },
      {
       "output_type": "stream",
       "stream": "stdout",
       "text": [
        "Selenocysteine (U) at position 196 replaced by X\r\n",
        "Selenocysteine (U) at position 196 replaced by X\r\n"
       ]
      },
      {
       "output_type": "stream",
       "stream": "stdout",
       "text": [
        "Selenocysteine (U) at position 19 replaced by X\r\n"
       ]
      },
      {
       "output_type": "stream",
       "stream": "stdout",
       "text": [
        "Selenocysteine (U) at position 19 replaced by X\r\n"
       ]
      },
      {
       "output_type": "stream",
       "stream": "stdout",
       "text": [
        "Selenocysteine (U) at position 19 replaced by X\r\n"
       ]
      },
      {
       "output_type": "stream",
       "stream": "stdout",
       "text": [
        "Selenocysteine (U) at position 204 replaced by X\r\n"
       ]
      },
      {
       "output_type": "stream",
       "stream": "stdout",
       "text": [
        "Selenocysteine (U) at position 613 replaced by X\r\n"
       ]
      },
      {
       "output_type": "stream",
       "stream": "stdout",
       "text": [
        "Selenocysteine (U) at position 510 replaced by X\r\n",
        "Selenocysteine (U) at position 510 replaced by X\r\n"
       ]
      },
      {
       "output_type": "stream",
       "stream": "stdout",
       "text": [
        "Selenocysteine (U) at position 494 replaced by X\r\n",
        "Selenocysteine (U) at position 510 replaced by X\r\n",
        "Selenocysteine (U) at position 523 replaced by X\r\n"
       ]
      },
      {
       "output_type": "stream",
       "stream": "stdout",
       "text": [
        "Selenocysteine (U) at position 93 replaced by X\r\n",
        "Selenocysteine (U) at position 92 replaced by X\r\n",
        "Selenocysteine (U) at position 92 replaced by X\r\n",
        "Selenocysteine (U) at position 92 replaced by X\r\n",
        "Selenocysteine (U) at position 92 replaced by X\r\n",
        "Selenocysteine (U) at position 92 replaced by X\r\n",
        "Selenocysteine (U) at position 92 replaced by X\r\n",
        "Selenocysteine (U) at position 92 replaced by X\r\n",
        "Selenocysteine (U) at position 92 replaced by X\r\n",
        "Selenocysteine (U) at position 93 replaced by X\r\n",
        "Selenocysteine (U) at position 93 replaced by X\r\n"
       ]
      },
      {
       "output_type": "stream",
       "stream": "stdout",
       "text": [
        "Selenocysteine (U) at position 93 replaced by X\r\n",
        "Selenocysteine (U) at position 92 replaced by X\r\n",
        "Selenocysteine (U) at position 92 replaced by X\r\n",
        "Selenocysteine (U) at position 92 replaced by X\r\n",
        "Selenocysteine (U) at position 92 replaced by X\r\n",
        "Selenocysteine (U) at position 92 replaced by X\r\n",
        "Selenocysteine (U) at position 92 replaced by X\r\n",
        "Selenocysteine (U) at position 93 replaced by X\r\n",
        "Selenocysteine (U) at position 93 replaced by X\r\n"
       ]
      },
      {
       "output_type": "stream",
       "stream": "stdout",
       "text": [
        "Selenocysteine (U) at position 93 replaced by X\r\n",
        "Selenocysteine (U) at position 93 replaced by X\r\n"
       ]
      },
      {
       "output_type": "stream",
       "stream": "stdout",
       "text": [
        "Selenocysteine (U) at position 44 replaced by X\r\n"
       ]
      },
      {
       "output_type": "stream",
       "stream": "stdout",
       "text": [
        "Selenocysteine (U) at position 637 replaced by X\r\n",
        "Selenocysteine (U) at position 637 replaced by X\r\n",
        "Selenocysteine (U) at position 637 replaced by X\r\n",
        "Selenocysteine (U) at position 690 replaced by X\r\n",
        "Selenocysteine (U) at position 690 replaced by X\r\n",
        "Selenocysteine (U) at position 690 replaced by X\r\n"
       ]
      },
      {
       "output_type": "stream",
       "stream": "stdout",
       "text": [
        "Selenocysteine (U) at position 637 replaced by X\r\n",
        "Selenocysteine (U) at position 637 replaced by X\r\n",
        "Selenocysteine (U) at position 690 replaced by X\r\n",
        "Selenocysteine (U) at position 690 replaced by X\r\n"
       ]
      },
      {
       "output_type": "stream",
       "stream": "stdout",
       "text": [
        "Selenocysteine (U) at position 387 replaced by X\r\n"
       ]
      },
      {
       "output_type": "stream",
       "stream": "stdout",
       "text": [
        "Selenocysteine (U) at position 196 replaced by X\r\n"
       ]
      },
      {
       "output_type": "stream",
       "stream": "stdout",
       "text": [
        "Selenocysteine (U) at position 59 replaced by X\r\n",
        "Selenocysteine (U) at position 297 replaced by X\r\n",
        "Selenocysteine (U) at position 307 replaced by X\r\n",
        "Selenocysteine (U) at position 338 replaced by X\r\n",
        "Selenocysteine (U) at position 350 replaced by X\r\n",
        "Selenocysteine (U) at position 363 replaced by X\r\n",
        "Selenocysteine (U) at position 365 replaced by X\r\n",
        "Selenocysteine (U) at position 372 replaced by X\r\n",
        "Selenocysteine (U) at position 388 replaced by X\r\n",
        "Selenocysteine (U) at position 390 replaced by X\r\n",
        "Selenocysteine (U) at position 397 replaced by X\r\n",
        "Selenocysteine (U) at position 399 replaced by X\r\n"
       ]
      },
      {
       "output_type": "stream",
       "stream": "stdout",
       "text": [
        "Selenocysteine (U) at position 84 replaced by X\r\n",
        "Selenocysteine (U) at position 84 replaced by X\r\n",
        "Selenocysteine (U) at position 84 replaced by X\r\n"
       ]
      },
      {
       "output_type": "stream",
       "stream": "stdout",
       "text": [
        "Selenocysteine (U) at position 133 replaced by X\r\n",
        "Selenocysteine (U) at position 266 replaced by X\r\n",
        "Selenocysteine (U) at position 133 replaced by X\r\n",
        "Selenocysteine (U) at position 266 replaced by X\r\n"
       ]
      },
      {
       "output_type": "stream",
       "stream": "stdout",
       "text": [
        "Selenocysteine (U) at position 133 replaced by X\r\n",
        "Selenocysteine (U) at position 266 replaced by X\r\n",
        "Selenocysteine (U) at position 133 replaced by X\r\n",
        "Selenocysteine (U) at position 266 replaced by X\r\n"
       ]
      },
      {
       "output_type": "stream",
       "stream": "stdout",
       "text": [
        "Selenocysteine (U) at position 133 replaced by X\r\n",
        "Selenocysteine (U) at position 266 replaced by X\r\n"
       ]
      },
      {
       "output_type": "stream",
       "stream": "stdout",
       "text": [
        "Selenocysteine (U) at position 494 replaced by X\r\n"
       ]
      },
      {
       "output_type": "stream",
       "stream": "stdout",
       "text": [
        "Selenocysteine (U) at position 124 replaced by X\r\n"
       ]
      },
      {
       "output_type": "stream",
       "stream": "stdout",
       "text": [
        "Selenocysteine (U) at position 47 replaced by X\r\n"
       ]
      },
      {
       "output_type": "stream",
       "stream": "stdout",
       "text": [
        "Selenocysteine (U) at position 47 replaced by X\r\n",
        "Selenocysteine (U) at position 47 replaced by X\r\n",
        "Selenocysteine (U) at position 47 replaced by X\r\n"
       ]
      },
      {
       "output_type": "stream",
       "stream": "stdout",
       "text": [
        "Selenocysteine (U) at position 200 replaced by X\r\n",
        "Selenocysteine (U) at position 197 replaced by X\r\n"
       ]
      },
      {
       "output_type": "stream",
       "stream": "stdout",
       "text": [
        "Selenocysteine (U) at position 436 replaced by X\r\n"
       ]
      },
      {
       "output_type": "stream",
       "stream": "stdout",
       "text": [
        "Selenocysteine (U) at position 188 replaced by X\r\n"
       ]
      },
      {
       "output_type": "stream",
       "stream": "stdout",
       "text": [
        "Selenocysteine (U) at position 129 replaced by X\r\n"
       ]
      },
      {
       "output_type": "stream",
       "stream": "stdout",
       "text": [
        "Selenocysteine (U) at position 92 replaced by X\r\n",
        "Selenocysteine (U) at position 93 replaced by X\r\n",
        "Selenocysteine (U) at position 59 replaced by X\r\n",
        "Selenocysteine (U) at position 297 replaced by X\r\n",
        "Selenocysteine (U) at position 307 replaced by X\r\n",
        "Selenocysteine (U) at position 338 replaced by X\r\n",
        "Selenocysteine (U) at position 350 replaced by X\r\n",
        "Selenocysteine (U) at position 363 replaced by X\r\n",
        "Selenocysteine (U) at position 365 replaced by X\r\n",
        "Selenocysteine (U) at position 372 replaced by X\r\n",
        "Selenocysteine (U) at position 388 replaced by X\r\n",
        "Selenocysteine (U) at position 390 replaced by X\r\n",
        "Selenocysteine (U) at position 397 replaced by X\r\n",
        "Selenocysteine (U) at position 399 replaced by X\r\n"
       ]
      },
      {
       "output_type": "stream",
       "stream": "stdout",
       "text": [
        "Selenocysteine (U) at position 129 replaced by X\r\n",
        "Selenocysteine (U) at position 129 replaced by X\r\n"
       ]
      },
      {
       "output_type": "stream",
       "stream": "stdout",
       "text": [
        "Selenocysteine (U) at position 92 replaced by X\r\n",
        "Selenocysteine (U) at position 92 replaced by X\r\n",
        "Selenocysteine (U) at position 93 replaced by X\r\n",
        "Selenocysteine (U) at position 93 replaced by X\r\n",
        "Selenocysteine (U) at position 59 replaced by X\r\n",
        "Selenocysteine (U) at position 297 replaced by X\r\n",
        "Selenocysteine (U) at position 307 replaced by X\r\n",
        "Selenocysteine (U) at position 338 replaced by X\r\n",
        "Selenocysteine (U) at position 350 replaced by X\r\n",
        "Selenocysteine (U) at position 363 replaced by X\r\n",
        "Selenocysteine (U) at position 365 replaced by X\r\n",
        "Selenocysteine (U) at position 372 replaced by X\r\n",
        "Selenocysteine (U) at position 388 replaced by X\r\n",
        "Selenocysteine (U) at position 390 replaced by X\r\n",
        "Selenocysteine (U) at position 397 replaced by X\r\n",
        "Selenocysteine (U) at position 399 replaced by X\r\n",
        "Selenocysteine (U) at position 59 replaced by X\r\n",
        "Selenocysteine (U) at position 297 replaced by X\r\n",
        "Selenocysteine (U) at position 307 replaced by X\r\n",
        "Selenocysteine (U) at position 338 replaced by X\r\n",
        "Selenocysteine (U) at position 350 replaced by X\r\n",
        "Selenocysteine (U) at position 363 replaced by X\r\n",
        "Selenocysteine (U) at position 365 replaced by X\r\n",
        "Selenocysteine (U) at position 372 replaced by X\r\n",
        "Selenocysteine (U) at position 388 replaced by X\r\n",
        "Selenocysteine (U) at position 390 replaced by X\r\n",
        "Selenocysteine (U) at position 397 replaced by X\r\n",
        "Selenocysteine (U) at position 399 replaced by X\r\n"
       ]
      },
      {
       "output_type": "stream",
       "stream": "stdout",
       "text": [
        "Selenocysteine (U) at position 129 replaced by X\r\n",
        "Selenocysteine (U) at position 129 replaced by X\r\n"
       ]
      },
      {
       "output_type": "stream",
       "stream": "stdout",
       "text": [
        "Selenocysteine (U) at position 92 replaced by X\r\n",
        "Selenocysteine (U) at position 93 replaced by X\r\n",
        "Selenocysteine (U) at position 59 replaced by X\r\n",
        "Selenocysteine (U) at position 297 replaced by X\r\n",
        "Selenocysteine (U) at position 307 replaced by X\r\n",
        "Selenocysteine (U) at position 338 replaced by X\r\n",
        "Selenocysteine (U) at position 350 replaced by X\r\n",
        "Selenocysteine (U) at position 363 replaced by X\r\n",
        "Selenocysteine (U) at position 365 replaced by X\r\n",
        "Selenocysteine (U) at position 372 replaced by X\r\n",
        "Selenocysteine (U) at position 388 replaced by X\r\n",
        "Selenocysteine (U) at position 390 replaced by X\r\n",
        "Selenocysteine (U) at position 397 replaced by X\r\n",
        "Selenocysteine (U) at position 399 replaced by X\r\n"
       ]
      },
      {
       "output_type": "stream",
       "stream": "stdout",
       "text": [
        "Selenocysteine (U) at position 129 replaced by X\r\n",
        "Selenocysteine (U) at position 129 replaced by X\r\n",
        "Selenocysteine (U) at position 129 replaced by X\r\n"
       ]
      },
      {
       "output_type": "stream",
       "stream": "stdout",
       "text": [
        "Selenocysteine (U) at position 523 replaced by X\r\n"
       ]
      },
      {
       "output_type": "stream",
       "stream": "stdout",
       "text": [
        "Selenocysteine (U) at position 59 replaced by X\r\n",
        "Selenocysteine (U) at position 300 replaced by X\r\n",
        "Selenocysteine (U) at position 318 replaced by X\r\n",
        "Selenocysteine (U) at position 330 replaced by X\r\n",
        "Selenocysteine (U) at position 345 replaced by X\r\n",
        "Selenocysteine (U) at position 352 replaced by X\r\n",
        "Selenocysteine (U) at position 367 replaced by X\r\n",
        "Selenocysteine (U) at position 369 replaced by X\r\n",
        "Selenocysteine (U) at position 376 replaced by X\r\n",
        "Selenocysteine (U) at position 378 replaced by X\r\n",
        "Selenocysteine (U) at position 59 replaced by X\r\n",
        "Selenocysteine (U) at position 318 replaced by X\r\n",
        "Selenocysteine (U) at position 330 replaced by X\r\n",
        "Selenocysteine (U) at position 345 replaced by X\r\n",
        "Selenocysteine (U) at position 352 replaced by X\r\n",
        "Selenocysteine (U) at position 367 replaced by X\r\n",
        "Selenocysteine (U) at position 369 replaced by X\r\n",
        "Selenocysteine (U) at position 376 replaced by X\r\n",
        "Selenocysteine (U) at position 378 replaced by X\r\n"
       ]
      },
      {
       "output_type": "stream",
       "stream": "stdout",
       "text": [
        "Selenocysteine (U) at position 127 replaced by X\r\n",
        "Selenocysteine (U) at position 462 replaced by X\r\n"
       ]
      },
      {
       "output_type": "stream",
       "stream": "stdout",
       "text": [
        "Selenocysteine (U) at position 189 replaced by X\r\n"
       ]
      },
      {
       "output_type": "stream",
       "stream": "stdout",
       "text": [
        "Selenocysteine (U) at position 188 replaced by X\r\n",
        "Selenocysteine (U) at position 189 replaced by X\r\n"
       ]
      },
      {
       "output_type": "stream",
       "stream": "stdout",
       "text": [
        "Selenocysteine (U) at position 193 replaced by X\r\n",
        "Selenocysteine (U) at position 193 replaced by X\r\n"
       ]
      },
      {
       "output_type": "stream",
       "stream": "stdout",
       "text": [
        "Selenocysteine (U) at position 273 replaced by X\r\n",
        "Selenocysteine (U) at position 273 replaced by X\r\n"
       ]
      },
      {
       "output_type": "stream",
       "stream": "stdout",
       "text": [
        "Selenocysteine (U) at position 637 replaced by X\r\n"
       ]
      },
      {
       "output_type": "stream",
       "stream": "stdout",
       "text": [
        "Selenocysteine (U) at position 93 replaced by X\r\n"
       ]
      },
      {
       "output_type": "stream",
       "stream": "stdout",
       "text": [
        "Selenocysteine (U) at position 93 replaced by X\r\n"
       ]
      },
      {
       "output_type": "stream",
       "stream": "stdout",
       "text": [
        "Selenocysteine (U) at position 131 replaced by X\r\n"
       ]
      },
      {
       "output_type": "stream",
       "stream": "stdout",
       "text": [
        "Selenocysteine (U) at position 106 replaced by X\r\n",
        "Selenocysteine (U) at position 106 replaced by X\r\n",
        "Selenocysteine (U) at position 106 replaced by X\r\n",
        "Selenocysteine (U) at position 106 replaced by X\r\n",
        "Selenocysteine (U) at position 106 replaced by X\r\n",
        "Selenocysteine (U) at position 106 replaced by X\r\n",
        "Selenocysteine (U) at position 106 replaced by X\r\n",
        "Selenocysteine (U) at position 106 replaced by X\r\n",
        "Selenocysteine (U) at position 106 replaced by X\r\n",
        "Selenocysteine (U) at position 106 replaced by X\r\n",
        "Selenocysteine (U) at position 106 replaced by X\r\n",
        "Selenocysteine (U) at position 106 replaced by X\r\n"
       ]
      },
      {
       "output_type": "stream",
       "stream": "stdout",
       "text": [
        "Selenocysteine (U) at position 637 replaced by X\r\n"
       ]
      },
      {
       "output_type": "stream",
       "stream": "stdout",
       "text": [
        "Selenocysteine (U) at position 637 replaced by X\r\n",
        "Selenocysteine (U) at position 637 replaced by X\r\n"
       ]
      },
      {
       "output_type": "stream",
       "stream": "stdout",
       "text": [
        "Selenocysteine (U) at position 59 replaced by X\r\n",
        "Selenocysteine (U) at position 297 replaced by X\r\n",
        "Selenocysteine (U) at position 307 replaced by X\r\n",
        "Selenocysteine (U) at position 338 replaced by X\r\n",
        "Selenocysteine (U) at position 350 replaced by X\r\n",
        "Selenocysteine (U) at position 363 replaced by X\r\n",
        "Selenocysteine (U) at position 365 replaced by X\r\n",
        "Selenocysteine (U) at position 372 replaced by X\r\n",
        "Selenocysteine (U) at position 388 replaced by X\r\n",
        "Selenocysteine (U) at position 390 replaced by X\r\n",
        "Selenocysteine (U) at position 397 replaced by X\r\n",
        "Selenocysteine (U) at position 399 replaced by X\r\n"
       ]
      },
      {
       "output_type": "stream",
       "stream": "stdout",
       "text": [
        "Selenocysteine (U) at position 637 replaced by X\r\n",
        "Selenocysteine (U) at position 637 replaced by X\r\n",
        "Selenocysteine (U) at position 637 replaced by X\r\n",
        "Selenocysteine (U) at position 637 replaced by X\r\n",
        "Selenocysteine (U) at position 690 replaced by X\r\n",
        "Selenocysteine (U) at position 690 replaced by X\r\n",
        "Selenocysteine (U) at position 690 replaced by X\r\n",
        "Selenocysteine (U) at position 690 replaced by X\r\n"
       ]
      },
      {
       "output_type": "stream",
       "stream": "stdout",
       "text": [
        "Selenocysteine (U) at position 690 replaced by X\r\n",
        "Selenocysteine (U) at position 690 replaced by X\r\n"
       ]
      },
      {
       "output_type": "stream",
       "stream": "stdout",
       "text": [
        "Selenocysteine (U) at position 196 replaced by X\r\n"
       ]
      },
      {
       "output_type": "stream",
       "stream": "stdout",
       "text": [
        "Selenocysteine (U) at position 95 replaced by X\r\n",
        "Selenocysteine (U) at position 95 replaced by X\r\n"
       ]
      },
      {
       "output_type": "stream",
       "stream": "stdout",
       "text": [
        "Selenocysteine (U) at position 187 replaced by X\r\n"
       ]
      },
      {
       "output_type": "stream",
       "stream": "stdout",
       "text": [
        "Selenocysteine (U) at position 15 replaced by X\r\n"
       ]
      },
      {
       "output_type": "stream",
       "stream": "stdout",
       "text": [
        "Selenocysteine (U) at position 15 replaced by X\r\n"
       ]
      },
      {
       "output_type": "stream",
       "stream": "stdout",
       "text": [
        "Selenocysteine (U) at position 637 replaced by X\r\n",
        "Selenocysteine (U) at position 637 replaced by X\r\n",
        "Selenocysteine (U) at position 637 replaced by X\r\n",
        "Selenocysteine (U) at position 637 replaced by X\r\n",
        "Selenocysteine (U) at position 637 replaced by X\r\n",
        "Selenocysteine (U) at position 637 replaced by X\r\n",
        "Selenocysteine (U) at position 690 replaced by X\r\n",
        "Selenocysteine (U) at position 690 replaced by X\r\n"
       ]
      },
      {
       "output_type": "stream",
       "stream": "stdout",
       "text": [
        "Selenocysteine (U) at position 637 replaced by X\r\n",
        "Selenocysteine (U) at position 637 replaced by X\r\n",
        "Selenocysteine (U) at position 637 replaced by X\r\n",
        "Selenocysteine (U) at position 690 replaced by X\r\n"
       ]
      },
      {
       "output_type": "stream",
       "stream": "stdout",
       "text": [
        "Selenocysteine (U) at position 124 replaced by X\r\n"
       ]
      },
      {
       "output_type": "stream",
       "stream": "stdout",
       "text": [
        "Selenocysteine (U) at position 121 replaced by X\r\n",
        "Selenocysteine (U) at position 120 replaced by X\r\n"
       ]
      },
      {
       "output_type": "stream",
       "stream": "stdout",
       "text": [
        "Selenocysteine (U) at position 73 replaced by X\r\n",
        "Selenocysteine (U) at position 73 replaced by X\r\n"
       ]
      },
      {
       "output_type": "stream",
       "stream": "stdout",
       "text": [
        "Selenocysteine (U) at position 92 replaced by X\r\n",
        "Selenocysteine (U) at position 92 replaced by X\r\n",
        "Selenocysteine (U) at position 92 replaced by X\r\n",
        "Selenocysteine (U) at position 92 replaced by X\r\n",
        "Selenocysteine (U) at position 92 replaced by X\r\n",
        "Selenocysteine (U) at position 92 replaced by X\r\n",
        "Selenocysteine (U) at position 59 replaced by X\r\n",
        "Selenocysteine (U) at position 259 replaced by X\r\n",
        "Selenocysteine (U) at position 277 replaced by X\r\n",
        "Selenocysteine (U) at position 318 replaced by X\r\n",
        "Selenocysteine (U) at position 330 replaced by X\r\n",
        "Selenocysteine (U) at position 352 replaced by X\r\n",
        "Selenocysteine (U) at position 366 replaced by X\r\n",
        "Selenocysteine (U) at position 368 replaced by X\r\n",
        "Selenocysteine (U) at position 375 replaced by X\r\n",
        "Selenocysteine (U) at position 377 replaced by X\r\n"
       ]
      },
      {
       "output_type": "stream",
       "stream": "stdout",
       "text": [
        "Selenocysteine (U) at position 200 replaced by X\r\n"
       ]
      },
      {
       "output_type": "stream",
       "stream": "stdout",
       "text": [
        "Selenocysteine (U) at position 15 replaced by X\r\n"
       ]
      },
      {
       "output_type": "stream",
       "stream": "stdout",
       "text": [
        "Selenocysteine (U) at position 15 replaced by X\r\n",
        "Selenocysteine (U) at position 15 replaced by X\r\n"
       ]
      },
      {
       "output_type": "stream",
       "stream": "stdout",
       "text": [
        "Selenocysteine (U) at position 15 replaced by X\r\n",
        "Selenocysteine (U) at position 15 replaced by X\r\n"
       ]
      },
      {
       "output_type": "stream",
       "stream": "stdout",
       "text": [
        "Selenocysteine (U) at position 189 replaced by X\r\n"
       ]
      },
      {
       "output_type": "stream",
       "stream": "stdout",
       "text": [
        "Selenocysteine (U) at position 189 replaced by X\r\n",
        "Selenocysteine (U) at position 189 replaced by X\r\n"
       ]
      },
      {
       "output_type": "stream",
       "stream": "stdout",
       "text": [
        "Selenocysteine (U) at position 189 replaced by X\r\n"
       ]
      },
      {
       "output_type": "stream",
       "stream": "stdout",
       "text": [
        "Selenocysteine (U) at position 59 replaced by X\r\n",
        "Selenocysteine (U) at position 297 replaced by X\r\n",
        "Selenocysteine (U) at position 307 replaced by X\r\n",
        "Selenocysteine (U) at position 338 replaced by X\r\n",
        "Selenocysteine (U) at position 350 replaced by X\r\n",
        "Selenocysteine (U) at position 363 replaced by X\r\n",
        "Selenocysteine (U) at position 365 replaced by X\r\n",
        "Selenocysteine (U) at position 372 replaced by X\r\n",
        "Selenocysteine (U) at position 388 replaced by X\r\n",
        "Selenocysteine (U) at position 390 replaced by X\r\n",
        "Selenocysteine (U) at position 397 replaced by X\r\n",
        "Selenocysteine (U) at position 399 replaced by X\r\n"
       ]
      },
      {
       "output_type": "stream",
       "stream": "stdout",
       "text": [
        "Selenocysteine (U) at position 196 replaced by X\r\n"
       ]
      },
      {
       "output_type": "stream",
       "stream": "stdout",
       "text": [
        "Selenocysteine (U) at position 52 replaced by X\r\n",
        "Selenocysteine (U) at position 52 replaced by X\r\n",
        "Selenocysteine (U) at position 47 replaced by X\r\n",
        "Selenocysteine (U) at position 47 replaced by X\r\n",
        "Selenocysteine (U) at position 49 replaced by X\r\n",
        "Selenocysteine (U) at position 49 replaced by X\r\n",
        "Selenocysteine (U) at position 47 replaced by X\r\n",
        "Selenocysteine (U) at position 47 replaced by X\r\n",
        "Selenocysteine (U) at position 47 replaced by X\r\n",
        "Selenocysteine (U) at position 47 replaced by X\r\n",
        "Selenocysteine (U) at position 47 replaced by X\r\n",
        "Selenocysteine (U) at position 47 replaced by X\r\n",
        "Selenocysteine (U) at position 47 replaced by X\r\n",
        "Selenocysteine (U) at position 47 replaced by X\r\n",
        "Selenocysteine (U) at position 52 replaced by X\r\n",
        "Selenocysteine (U) at position 52 replaced by X\r\n",
        "Selenocysteine (U) at position 47 replaced by X\r\n",
        "Selenocysteine (U) at position 47 replaced by X\r\n",
        "Selenocysteine (U) at position 46 replaced by X\r\n",
        "Selenocysteine (U) at position 46 replaced by X\r\n",
        "Selenocysteine (U) at position 47 replaced by X\r\n",
        "Selenocysteine (U) at position 47 replaced by X\r\n",
        "Selenocysteine (U) at position 43 replaced by X\r\n",
        "Selenocysteine (U) at position 43 replaced by X\r\n",
        "Selenocysteine (U) at position 40 replaced by X\r\n",
        "Selenocysteine (U) at position 40 replaced by X\r\n",
        "Selenocysteine (U) at position 40 replaced by X\r\n",
        "Selenocysteine (U) at position 40 replaced by X\r\n",
        "Selenocysteine (U) at position 40 replaced by X\r\n",
        "Selenocysteine (U) at position 40 replaced by X\r\n",
        "Selenocysteine (U) at position 40 replaced by X\r\n",
        "Selenocysteine (U) at position 40 replaced by X\r\n",
        "Selenocysteine (U) at position 40 replaced by X\r\n",
        "Selenocysteine (U) at position 40 replaced by X\r\n",
        "Selenocysteine (U) at position 40 replaced by X\r\n",
        "Selenocysteine (U) at position 40 replaced by X\r\n",
        "Selenocysteine (U) at position 40 replaced by X\r\n",
        "Selenocysteine (U) at position 40 replaced by X\r\n",
        "Selenocysteine (U) at position 40 replaced by X\r\n",
        "Selenocysteine (U) at position 40 replaced by X\r\n",
        "Selenocysteine (U) at position 73 replaced by X\r\n",
        "Selenocysteine (U) at position 73 replaced by X\r\n"
       ]
      },
      {
       "output_type": "stream",
       "stream": "stdout",
       "text": [
        "Selenocysteine (U) at position 73 replaced by X\r\n",
        "Selenocysteine (U) at position 73 replaced by X\r\n",
        "Selenocysteine (U) at position 73 replaced by X\r\n",
        "Selenocysteine (U) at position 73 replaced by X\r\n",
        "Selenocysteine (U) at position 73 replaced by X\r\n",
        "Selenocysteine (U) at position 73 replaced by X\r\n",
        "Selenocysteine (U) at position 73 replaced by X\r\n",
        "Selenocysteine (U) at position 73 replaced by X\r\n",
        "Selenocysteine (U) at position 73 replaced by X\r\n",
        "Selenocysteine (U) at position 73 replaced by X\r\n",
        "Selenocysteine (U) at position 73 replaced by X\r\n",
        "Selenocysteine (U) at position 73 replaced by X\r\n",
        "Selenocysteine (U) at position 73 replaced by X\r\n",
        "Selenocysteine (U) at position 73 replaced by X\r\n",
        "Selenocysteine (U) at position 73 replaced by X\r\n",
        "Selenocysteine (U) at position 73 replaced by X\r\n",
        "Selenocysteine (U) at position 73 replaced by X\r\n",
        "Selenocysteine (U) at position 73 replaced by X\r\n",
        "Selenocysteine (U) at position 73 replaced by X\r\n",
        "Selenocysteine (U) at position 73 replaced by X\r\n",
        "Selenocysteine (U) at position 73 replaced by X\r\n",
        "Selenocysteine (U) at position 73 replaced by X\r\n",
        "Selenocysteine (U) at position 73 replaced by X\r\n",
        "Selenocysteine (U) at position 73 replaced by X\r\n",
        "Selenocysteine (U) at position 73 replaced by X\r\n",
        "Selenocysteine (U) at position 73 replaced by X\r\n",
        "Selenocysteine (U) at position 73 replaced by X\r\n",
        "Selenocysteine (U) at position 73 replaced by X\r\n",
        "Selenocysteine (U) at position 73 replaced by X\r\n",
        "Selenocysteine (U) at position 73 replaced by X\r\n",
        "Selenocysteine (U) at position 64 replaced by X\r\n",
        "Selenocysteine (U) at position 64 replaced by X\r\n",
        "Selenocysteine (U) at position 64 replaced by X\r\n"
       ]
      },
      {
       "output_type": "stream",
       "stream": "stdout",
       "text": [
        "Selenocysteine (U) at position 273 replaced by X\r\n"
       ]
      },
      {
       "output_type": "stream",
       "stream": "stdout",
       "text": [
        "Selenocysteine (U) at position 387 replaced by X\r\n",
        "Selenocysteine (U) at position 387 replaced by X\r\n",
        "Selenocysteine (U) at position 387 replaced by X\r\n",
        "Selenocysteine (U) at position 387 replaced by X\r\n",
        "Selenocysteine (U) at position 387 replaced by X\r\n",
        "Selenocysteine (U) at position 387 replaced by X\r\n",
        "Selenocysteine (U) at position 690 replaced by X\r\n",
        "Selenocysteine (U) at position 690 replaced by X\r\n"
       ]
      },
      {
       "output_type": "stream",
       "stream": "stdout",
       "text": [
        "Selenocysteine (U) at position 59 replaced by X\r\n",
        "Selenocysteine (U) at position 267 replaced by X\r\n",
        "Selenocysteine (U) at position 273 replaced by X\r\n",
        "Selenocysteine (U) at position 279 replaced by X\r\n",
        "Selenocysteine (U) at position 290 replaced by X\r\n",
        "Selenocysteine (U) at position 292 replaced by X\r\n",
        "Selenocysteine (U) at position 294 replaced by X\r\n",
        "Selenocysteine (U) at position 310 replaced by X\r\n",
        "Selenocysteine (U) at position 320 replaced by X\r\n",
        "Selenocysteine (U) at position 322 replaced by X\r\n",
        "Selenocysteine (U) at position 336 replaced by X\r\n",
        "Selenocysteine (U) at position 338 replaced by X\r\n",
        "Selenocysteine (U) at position 346 replaced by X\r\n",
        "Selenocysteine (U) at position 353 replaced by X\r\n",
        "Selenocysteine (U) at position 355 replaced by X\r\n",
        "Selenocysteine (U) at position 362 replaced by X\r\n",
        "Selenocysteine (U) at position 364 replaced by X\r\n",
        "Selenocysteine (U) at position 59 replaced by X\r\n",
        "Selenocysteine (U) at position 297 replaced by X\r\n",
        "Selenocysteine (U) at position 307 replaced by X\r\n",
        "Selenocysteine (U) at position 338 replaced by X\r\n",
        "Selenocysteine (U) at position 350 replaced by X\r\n",
        "Selenocysteine (U) at position 363 replaced by X\r\n",
        "Selenocysteine (U) at position 365 replaced by X\r\n",
        "Selenocysteine (U) at position 372 replaced by X\r\n",
        "Selenocysteine (U) at position 388 replaced by X\r\n",
        "Selenocysteine (U) at position 390 replaced by X\r\n",
        "Selenocysteine (U) at position 397 replaced by X\r\n",
        "Selenocysteine (U) at position 399 replaced by X\r\n"
       ]
      },
      {
       "output_type": "stream",
       "stream": "stdout",
       "text": [
        "Selenocysteine (U) at position 59 replaced by X\r\n",
        "Selenocysteine (U) at position 267 replaced by X\r\n",
        "Selenocysteine (U) at position 273 replaced by X\r\n",
        "Selenocysteine (U) at position 279 replaced by X\r\n",
        "Selenocysteine (U) at position 290 replaced by X\r\n",
        "Selenocysteine (U) at position 292 replaced by X\r\n",
        "Selenocysteine (U) at position 294 replaced by X\r\n",
        "Selenocysteine (U) at position 310 replaced by X\r\n",
        "Selenocysteine (U) at position 320 replaced by X\r\n",
        "Selenocysteine (U) at position 322 replaced by X\r\n",
        "Selenocysteine (U) at position 336 replaced by X\r\n",
        "Selenocysteine (U) at position 338 replaced by X\r\n",
        "Selenocysteine (U) at position 346 replaced by X\r\n",
        "Selenocysteine (U) at position 353 replaced by X\r\n",
        "Selenocysteine (U) at position 355 replaced by X\r\n",
        "Selenocysteine (U) at position 362 replaced by X\r\n",
        "Selenocysteine (U) at position 364 replaced by X\r\n",
        "Selenocysteine (U) at position 59 replaced by X\r\n",
        "Selenocysteine (U) at position 267 replaced by X\r\n",
        "Selenocysteine (U) at position 273 replaced by X\r\n",
        "Selenocysteine (U) at position 279 replaced by X\r\n",
        "Selenocysteine (U) at position 290 replaced by X\r\n",
        "Selenocysteine (U) at position 292 replaced by X\r\n",
        "Selenocysteine (U) at position 294 replaced by X\r\n",
        "Selenocysteine (U) at position 310 replaced by X\r\n",
        "Selenocysteine (U) at position 320 replaced by X\r\n",
        "Selenocysteine (U) at position 322 replaced by X\r\n",
        "Selenocysteine (U) at position 336 replaced by X\r\n",
        "Selenocysteine (U) at position 338 replaced by X\r\n",
        "Selenocysteine (U) at position 346 replaced by X\r\n",
        "Selenocysteine (U) at position 353 replaced by X\r\n",
        "Selenocysteine (U) at position 355 replaced by X\r\n",
        "Selenocysteine (U) at position 362 replaced by X\r\n",
        "Selenocysteine (U) at position 364 replaced by X\r\n",
        "Selenocysteine (U) at position 59 replaced by X\r\n",
        "Selenocysteine (U) at position 297 replaced by X\r\n",
        "Selenocysteine (U) at position 307 replaced by X\r\n",
        "Selenocysteine (U) at position 338 replaced by X\r\n",
        "Selenocysteine (U) at position 350 replaced by X\r\n",
        "Selenocysteine (U) at position 363 replaced by X\r\n",
        "Selenocysteine (U) at position 365 replaced by X\r\n",
        "Selenocysteine (U) at position 372 replaced by X\r\n",
        "Selenocysteine (U) at position 388 replaced by X\r\n",
        "Selenocysteine (U) at position 390 replaced by X\r\n",
        "Selenocysteine (U) at position 397 replaced by X\r\n",
        "Selenocysteine (U) at position 399 replaced by X\r\n",
        "Selenocysteine (U) at position 59 replaced by X\r\n",
        "Selenocysteine (U) at position 297 replaced by X\r\n",
        "Selenocysteine (U) at position 307 replaced by X\r\n",
        "Selenocysteine (U) at position 338 replaced by X\r\n",
        "Selenocysteine (U) at position 350 replaced by X\r\n",
        "Selenocysteine (U) at position 363 replaced by X\r\n",
        "Selenocysteine (U) at position 365 replaced by X\r\n",
        "Selenocysteine (U) at position 372 replaced by X\r\n",
        "Selenocysteine (U) at position 388 replaced by X\r\n",
        "Selenocysteine (U) at position 390 replaced by X\r\n",
        "Selenocysteine (U) at position 397 replaced by X\r\n",
        "Selenocysteine (U) at position 399 replaced by X\r\n"
       ]
      },
      {
       "output_type": "stream",
       "stream": "stdout",
       "text": [
        "Selenocysteine (U) at position 15 replaced by X\r\n"
       ]
      },
      {
       "output_type": "stream",
       "stream": "stdout",
       "text": [
        "Selenocysteine (U) at position 15 replaced by X\r\n"
       ]
      },
      {
       "output_type": "stream",
       "stream": "stdout",
       "text": [
        "Selenocysteine (U) at position 189 replaced by X\r\n",
        "Selenocysteine (U) at position 188 replaced by X\r\n",
        "Selenocysteine (U) at position 189 replaced by X\r\n"
       ]
      },
      {
       "output_type": "stream",
       "stream": "stdout",
       "text": [
        "Selenocysteine (U) at position 273 replaced by X\r\n",
        "Selenocysteine (U) at position 273 replaced by X\r\n"
       ]
      },
      {
       "output_type": "stream",
       "stream": "stdout",
       "text": [
        "Selenocysteine (U) at position 189 replaced by X\r\n",
        "Selenocysteine (U) at position 189 replaced by X\r\n",
        "Selenocysteine (U) at position 189 replaced by X\r\n",
        "Selenocysteine (U) at position 189 replaced by X\r\n"
       ]
      },
      {
       "output_type": "stream",
       "stream": "stdout",
       "text": [
        "Selenocysteine (U) at position 189 replaced by X\r\n",
        "Selenocysteine (U) at position 189 replaced by X\r\n",
        "Selenocysteine (U) at position 189 replaced by X\r\n",
        "Selenocysteine (U) at position 189 replaced by X\r\n",
        "Selenocysteine (U) at position 59 replaced by X\r\n",
        "Selenocysteine (U) at position 300 replaced by X\r\n",
        "Selenocysteine (U) at position 318 replaced by X\r\n",
        "Selenocysteine (U) at position 330 replaced by X\r\n",
        "Selenocysteine (U) at position 345 replaced by X\r\n",
        "Selenocysteine (U) at position 352 replaced by X\r\n",
        "Selenocysteine (U) at position 367 replaced by X\r\n",
        "Selenocysteine (U) at position 369 replaced by X\r\n",
        "Selenocysteine (U) at position 376 replaced by X\r\n",
        "Selenocysteine (U) at position 378 replaced by X\r\n",
        "Selenocysteine (U) at position 59 replaced by X\r\n",
        "Selenocysteine (U) at position 318 replaced by X\r\n",
        "Selenocysteine (U) at position 330 replaced by X\r\n",
        "Selenocysteine (U) at position 345 replaced by X\r\n",
        "Selenocysteine (U) at position 352 replaced by X\r\n",
        "Selenocysteine (U) at position 367 replaced by X\r\n",
        "Selenocysteine (U) at position 369 replaced by X\r\n",
        "Selenocysteine (U) at position 376 replaced by X\r\n",
        "Selenocysteine (U) at position 378 replaced by X\r\n"
       ]
      },
      {
       "output_type": "stream",
       "stream": "stdout",
       "text": [
        "Selenocysteine (U) at position 140 replaced by X\r\n",
        "Selenocysteine (U) at position 140 replaced by X\r\n"
       ]
      },
      {
       "output_type": "stream",
       "stream": "stdout",
       "text": [
        "Selenocysteine (U) at position 112 replaced by X\r\n"
       ]
      },
      {
       "output_type": "stream",
       "stream": "stdout",
       "text": [
        "Selenocysteine (U) at position 59 replaced by X\r\n",
        "Selenocysteine (U) at position 264 replaced by X\r\n",
        "Selenocysteine (U) at position 282 replaced by X\r\n",
        "Selenocysteine (U) at position 323 replaced by X\r\n",
        "Selenocysteine (U) at position 335 replaced by X\r\n",
        "Selenocysteine (U) at position 357 replaced by X\r\n",
        "Selenocysteine (U) at position 371 replaced by X\r\n",
        "Selenocysteine (U) at position 373 replaced by X\r\n",
        "Selenocysteine (U) at position 380 replaced by X\r\n",
        "Selenocysteine (U) at position 382 replaced by X\r\n"
       ]
      },
      {
       "output_type": "stream",
       "stream": "stdout",
       "text": [
        "Selenocysteine (U) at position 126 replaced by X\r\n"
       ]
      },
      {
       "output_type": "stream",
       "stream": "stdout",
       "text": [
        "Selenocysteine (U) at position 59 replaced by X\r\n",
        "Selenocysteine (U) at position 267 replaced by X\r\n",
        "Selenocysteine (U) at position 273 replaced by X\r\n",
        "Selenocysteine (U) at position 279 replaced by X\r\n",
        "Selenocysteine (U) at position 290 replaced by X\r\n",
        "Selenocysteine (U) at position 292 replaced by X\r\n",
        "Selenocysteine (U) at position 294 replaced by X\r\n",
        "Selenocysteine (U) at position 310 replaced by X\r\n",
        "Selenocysteine (U) at position 320 replaced by X\r\n",
        "Selenocysteine (U) at position 322 replaced by X\r\n",
        "Selenocysteine (U) at position 336 replaced by X\r\n",
        "Selenocysteine (U) at position 338 replaced by X\r\n",
        "Selenocysteine (U) at position 346 replaced by X\r\n",
        "Selenocysteine (U) at position 353 replaced by X\r\n",
        "Selenocysteine (U) at position 355 replaced by X\r\n",
        "Selenocysteine (U) at position 362 replaced by X\r\n",
        "Selenocysteine (U) at position 364 replaced by X\r\n"
       ]
      },
      {
       "output_type": "stream",
       "stream": "stdout",
       "text": [
        "Selenocysteine (U) at position 59 replaced by X\r\n",
        "Selenocysteine (U) at position 267 replaced by X\r\n",
        "Selenocysteine (U) at position 273 replaced by X\r\n",
        "Selenocysteine (U) at position 279 replaced by X\r\n",
        "Selenocysteine (U) at position 290 replaced by X\r\n",
        "Selenocysteine (U) at position 292 replaced by X\r\n",
        "Selenocysteine (U) at position 294 replaced by X\r\n",
        "Selenocysteine (U) at position 310 replaced by X\r\n",
        "Selenocysteine (U) at position 320 replaced by X\r\n",
        "Selenocysteine (U) at position 322 replaced by X\r\n",
        "Selenocysteine (U) at position 336 replaced by X\r\n",
        "Selenocysteine (U) at position 338 replaced by X\r\n",
        "Selenocysteine (U) at position 346 replaced by X\r\n",
        "Selenocysteine (U) at position 353 replaced by X\r\n",
        "Selenocysteine (U) at position 355 replaced by X\r\n",
        "Selenocysteine (U) at position 362 replaced by X\r\n",
        "Selenocysteine (U) at position 364 replaced by X\r\n"
       ]
      },
      {
       "output_type": "stream",
       "stream": "stdout",
       "text": [
        "Selenocysteine (U) at position 129 replaced by X\r\n"
       ]
      },
      {
       "output_type": "stream",
       "stream": "stdout",
       "text": [
        "Selenocysteine (U) at position 15 replaced by X\r\n",
        "Selenocysteine (U) at position 15 replaced by X\r\n",
        "Selenocysteine (U) at position 15 replaced by X\r\n",
        "Selenocysteine (U) at position 15 replaced by X\r\n"
       ]
      },
      {
       "output_type": "stream",
       "stream": "stdout",
       "text": [
        "Selenocysteine (U) at position 59 replaced by X\r\n",
        "Selenocysteine (U) at position 318 replaced by X\r\n",
        "Selenocysteine (U) at position 330 replaced by X\r\n",
        "Selenocysteine (U) at position 345 replaced by X\r\n",
        "Selenocysteine (U) at position 352 replaced by X\r\n",
        "Selenocysteine (U) at position 367 replaced by X\r\n",
        "Selenocysteine (U) at position 369 replaced by X\r\n",
        "Selenocysteine (U) at position 376 replaced by X\r\n",
        "Selenocysteine (U) at position 378 replaced by X\r\n"
       ]
      },
      {
       "output_type": "stream",
       "stream": "stdout",
       "text": [
        "Selenocysteine (U) at position 637 replaced by X\r\n",
        "Selenocysteine (U) at position 690 replaced by X\r\n"
       ]
      },
      {
       "output_type": "stream",
       "stream": "stdout",
       "text": [
        "Selenocysteine (U) at position 637 replaced by X\r\n",
        "Selenocysteine (U) at position 690 replaced by X\r\n"
       ]
      },
      {
       "output_type": "stream",
       "stream": "stdout",
       "text": [
        "Selenocysteine (U) at position 47 replaced by X\r\n",
        "Selenocysteine (U) at position 47 replaced by X\r\n"
       ]
      },
      {
       "output_type": "stream",
       "stream": "stdout",
       "text": [
        "Selenocysteine (U) at position 612 replaced by X\r\n",
        "Selenocysteine (U) at position 612 replaced by X\r\n"
       ]
      },
      {
       "output_type": "stream",
       "stream": "stdout",
       "text": [
        "Selenocysteine (U) at position 93 replaced by X\r\n"
       ]
      },
      {
       "output_type": "stream",
       "stream": "stdout",
       "text": [
        "Selenocysteine (U) at position 196 replaced by X\r\n",
        "Selenocysteine (U) at position 196 replaced by X\r\n"
       ]
      },
      {
       "output_type": "stream",
       "stream": "stdout",
       "text": [
        "Selenocysteine (U) at position 196 replaced by X\r\n"
       ]
      },
      {
       "output_type": "stream",
       "stream": "stdout",
       "text": [
        "Selenocysteine (U) at position 127 replaced by X\r\n",
        "Selenocysteine (U) at position 462 replaced by X\r\n"
       ]
      },
      {
       "output_type": "stream",
       "stream": "stdout",
       "text": [
        "Selenocysteine (U) at position 124 replaced by X\r\n"
       ]
      },
      {
       "output_type": "stream",
       "stream": "stdout",
       "text": [
        "Selenocysteine (U) at position 196 replaced by X\r\n"
       ]
      },
      {
       "output_type": "stream",
       "stream": "stdout",
       "text": [
        "Selenocysteine (U) at position 188 replaced by X\r\n"
       ]
      },
      {
       "output_type": "stream",
       "stream": "stdout",
       "text": [
        "Selenocysteine (U) at position 59 replaced by X\r\n",
        "Selenocysteine (U) at position 297 replaced by X\r\n",
        "Selenocysteine (U) at position 307 replaced by X\r\n",
        "Selenocysteine (U) at position 338 replaced by X\r\n",
        "Selenocysteine (U) at position 350 replaced by X\r\n",
        "Selenocysteine (U) at position 363 replaced by X\r\n",
        "Selenocysteine (U) at position 365 replaced by X\r\n",
        "Selenocysteine (U) at position 372 replaced by X\r\n",
        "Selenocysteine (U) at position 388 replaced by X\r\n",
        "Selenocysteine (U) at position 390 replaced by X\r\n",
        "Selenocysteine (U) at position 397 replaced by X\r\n",
        "Selenocysteine (U) at position 399 replaced by X\r\n",
        "Selenocysteine (U) at position 59 replaced by X\r\n",
        "Selenocysteine (U) at position 264 replaced by X\r\n",
        "Selenocysteine (U) at position 282 replaced by X\r\n",
        "Selenocysteine (U) at position 323 replaced by X\r\n",
        "Selenocysteine (U) at position 335 replaced by X\r\n",
        "Selenocysteine (U) at position 357 replaced by X\r\n",
        "Selenocysteine (U) at position 371 replaced by X\r\n",
        "Selenocysteine (U) at position 373 replaced by X\r\n",
        "Selenocysteine (U) at position 380 replaced by X\r\n",
        "Selenocysteine (U) at position 382 replaced by X\r\n"
       ]
      },
      {
       "output_type": "stream",
       "stream": "stdout",
       "text": [
        "Selenocysteine (U) at position 690 replaced by X\r\n"
       ]
      },
      {
       "output_type": "stream",
       "stream": "stdout",
       "text": [
        "Selenocysteine (U) at position 349 replaced by X\r\n"
       ]
      },
      {
       "output_type": "stream",
       "stream": "stdout",
       "text": [
        "Selenocysteine (U) at position 192 replaced by X\r\n"
       ]
      },
      {
       "output_type": "stream",
       "stream": "stdout",
       "text": [
        "Selenocysteine (U) at position 63 replaced by X\r\n"
       ]
      },
      {
       "output_type": "stream",
       "stream": "stdout",
       "text": [
        "Selenocysteine (U) at position 63 replaced by X\r\n"
       ]
      },
      {
       "output_type": "stream",
       "stream": "stdout",
       "text": [
        "Selenocysteine (U) at position 63 replaced by X\r\n"
       ]
      },
      {
       "output_type": "stream",
       "stream": "stdout",
       "text": [
        "Selenocysteine (U) at position 494 replaced by X\r\n"
       ]
      },
      {
       "output_type": "stream",
       "stream": "stdout",
       "text": [
        "Selenocysteine (U) at position 637 replaced by X\r\n"
       ]
      },
      {
       "output_type": "stream",
       "stream": "stdout",
       "text": [
        "Selenocysteine (U) at position 637 replaced by X\r\n"
       ]
      },
      {
       "output_type": "stream",
       "stream": "stdout",
       "text": [
        "Selenocysteine (U) at position 273 replaced by X\r\n"
       ]
      },
      {
       "output_type": "stream",
       "stream": "stdout",
       "text": [
        "Selenocysteine (U) at position 387 replaced by X\r\n",
        "Selenocysteine (U) at position 387 replaced by X\r\n",
        "Selenocysteine (U) at position 387 replaced by X\r\n",
        "Selenocysteine (U) at position 387 replaced by X\r\n",
        "Selenocysteine (U) at position 387 replaced by X\r\n",
        "Selenocysteine (U) at position 387 replaced by X\r\n"
       ]
      },
      {
       "output_type": "stream",
       "stream": "stdout",
       "text": [
        "Selenocysteine (U) at position 204 replaced by X\r\n",
        "Selenocysteine (U) at position 204 replaced by X\r\n"
       ]
      },
      {
       "output_type": "stream",
       "stream": "stdout",
       "text": [
        "Selenocysteine (U) at position 690 replaced by X\r\n",
        "Selenocysteine (U) at position 690 replaced by X\r\n"
       ]
      },
      {
       "output_type": "stream",
       "stream": "stdout",
       "text": [
        "Selenocysteine (U) at position 126 replaced by X\r\n",
        "Selenocysteine (U) at position 126 replaced by X\r\n",
        "Selenocysteine (U) at position 126 replaced by X\r\n"
       ]
      },
      {
       "output_type": "stream",
       "stream": "stdout",
       "text": [
        "Selenocysteine (U) at position 666 replaced by X\r\n"
       ]
      },
      {
       "output_type": "stream",
       "stream": "stdout",
       "text": [
        "Selenocysteine (U) at position 666 replaced by X\r\n",
        "Selenocysteine (U) at position 666 replaced by X\r\n"
       ]
      },
      {
       "output_type": "stream",
       "stream": "stdout",
       "text": [
        "Selenocysteine (U) at position 131 replaced by X\r\n"
       ]
      },
      {
       "output_type": "stream",
       "stream": "stdout",
       "text": [
        "Selenocysteine (U) at position 666 replaced by X\r\n"
       ]
      },
      {
       "output_type": "stream",
       "stream": "stdout",
       "text": [
        "Selenocysteine (U) at position 24 replaced by X\r\n"
       ]
      },
      {
       "output_type": "stream",
       "stream": "stdout",
       "text": [
        "Selenocysteine (U) at position 131 replaced by X\r\n"
       ]
      },
      {
       "output_type": "stream",
       "stream": "stdout",
       "text": [
        "Selenocysteine (U) at position 44 replaced by X\r\n",
        "Selenocysteine (U) at position 44 replaced by X\r\n"
       ]
      },
      {
       "output_type": "stream",
       "stream": "stdout",
       "text": [
        "Selenocysteine (U) at position 204 replaced by X\r\n"
       ]
      },
      {
       "output_type": "stream",
       "stream": "stdout",
       "text": [
        "Selenocysteine (U) at position 122 replaced by X\r\n"
       ]
      },
      {
       "output_type": "stream",
       "stream": "stdout",
       "text": [
        "Selenocysteine (U) at position 131 replaced by X\r\n"
       ]
      },
      {
       "output_type": "stream",
       "stream": "stdout",
       "text": [
        "Selenocysteine (U) at position 133 replaced by X\r\n",
        "Selenocysteine (U) at position 266 replaced by X\r\n",
        "Selenocysteine (U) at position 133 replaced by X\r\n",
        "Selenocysteine (U) at position 266 replaced by X\r\n",
        "Selenocysteine (U) at position 130 replaced by X\r\n",
        "Selenocysteine (U) at position 263 replaced by X\r\n",
        "Selenocysteine (U) at position 133 replaced by X\r\n",
        "Selenocysteine (U) at position 266 replaced by X\r\n",
        "Selenocysteine (U) at position 130 replaced by X\r\n",
        "Selenocysteine (U) at position 263 replaced by X\r\n",
        "Selenocysteine (U) at position 637 replaced by X\r\n",
        "Selenocysteine (U) at position 637 replaced by X\r\n"
       ]
      },
      {
       "output_type": "stream",
       "stream": "stdout",
       "text": [
        "Selenocysteine (U) at position 133 replaced by X\r\n",
        "Selenocysteine (U) at position 266 replaced by X\r\n",
        "Selenocysteine (U) at position 133 replaced by X\r\n",
        "Selenocysteine (U) at position 266 replaced by X\r\n",
        "Selenocysteine (U) at position 130 replaced by X\r\n",
        "Selenocysteine (U) at position 263 replaced by X\r\n",
        "Selenocysteine (U) at position 133 replaced by X\r\n",
        "Selenocysteine (U) at position 266 replaced by X\r\n",
        "Selenocysteine (U) at position 130 replaced by X\r\n",
        "Selenocysteine (U) at position 263 replaced by X\r\n"
       ]
      },
      {
       "output_type": "stream",
       "stream": "stdout",
       "text": [
        "Selenocysteine (U) at position 690 replaced by X\r\n"
       ]
      },
      {
       "output_type": "stream",
       "stream": "stdout",
       "text": [
        "Selenocysteine (U) at position 388 replaced by X\r\n"
       ]
      },
      {
       "output_type": "stream",
       "stream": "stdout",
       "text": [
        "Selenocysteine (U) at position 637 replaced by X\r\n"
       ]
      },
      {
       "output_type": "stream",
       "stream": "stdout",
       "text": [
        "Selenocysteine (U) at position 637 replaced by X\r\n"
       ]
      },
      {
       "output_type": "stream",
       "stream": "stdout",
       "text": [
        "Selenocysteine (U) at position 59 replaced by X\r\n",
        "Selenocysteine (U) at position 318 replaced by X\r\n",
        "Selenocysteine (U) at position 330 replaced by X\r\n",
        "Selenocysteine (U) at position 345 replaced by X\r\n",
        "Selenocysteine (U) at position 352 replaced by X\r\n",
        "Selenocysteine (U) at position 367 replaced by X\r\n",
        "Selenocysteine (U) at position 369 replaced by X\r\n",
        "Selenocysteine (U) at position 376 replaced by X\r\n",
        "Selenocysteine (U) at position 378 replaced by X\r\n"
       ]
      },
      {
       "output_type": "stream",
       "stream": "stdout",
       "text": [
        "Selenocysteine (U) at position 74 replaced by X\r\n",
        "Selenocysteine (U) at position 74 replaced by X\r\n"
       ]
      },
      {
       "output_type": "stream",
       "stream": "stdout",
       "text": [
        "Selenocysteine (U) at position 612 replaced by X\r\n",
        "Selenocysteine (U) at position 612 replaced by X\r\n"
       ]
      },
      {
       "output_type": "stream",
       "stream": "stdout",
       "text": [
        "Selenocysteine (U) at position 273 replaced by X\r\n"
       ]
      },
      {
       "output_type": "stream",
       "stream": "stdout",
       "text": [
        "Selenocysteine (U) at position 59 replaced by X\r\n",
        "Selenocysteine (U) at position 297 replaced by X\r\n",
        "Selenocysteine (U) at position 307 replaced by X\r\n",
        "Selenocysteine (U) at position 338 replaced by X\r\n",
        "Selenocysteine (U) at position 350 replaced by X\r\n",
        "Selenocysteine (U) at position 363 replaced by X\r\n",
        "Selenocysteine (U) at position 365 replaced by X\r\n",
        "Selenocysteine (U) at position 372 replaced by X\r\n",
        "Selenocysteine (U) at position 388 replaced by X\r\n",
        "Selenocysteine (U) at position 390 replaced by X\r\n",
        "Selenocysteine (U) at position 397 replaced by X\r\n",
        "Selenocysteine (U) at position 399 replaced by X\r\n"
       ]
      },
      {
       "output_type": "stream",
       "stream": "stdout",
       "text": [
        "Selenocysteine (U) at position 106 replaced by X\r\n"
       ]
      },
      {
       "output_type": "stream",
       "stream": "stdout",
       "text": [
        "Selenocysteine (U) at position 18 replaced by X\r\n",
        "Selenocysteine (U) at position 18 replaced by X\r\n"
       ]
      },
      {
       "output_type": "stream",
       "stream": "stdout",
       "text": [
        "Selenocysteine (U) at position 59 replaced by X\r\n",
        "Selenocysteine (U) at position 267 replaced by X\r\n",
        "Selenocysteine (U) at position 273 replaced by X\r\n",
        "Selenocysteine (U) at position 279 replaced by X\r\n",
        "Selenocysteine (U) at position 290 replaced by X\r\n",
        "Selenocysteine (U) at position 292 replaced by X\r\n",
        "Selenocysteine (U) at position 294 replaced by X\r\n",
        "Selenocysteine (U) at position 310 replaced by X\r\n",
        "Selenocysteine (U) at position 320 replaced by X\r\n",
        "Selenocysteine (U) at position 322 replaced by X\r\n",
        "Selenocysteine (U) at position 336 replaced by X\r\n",
        "Selenocysteine (U) at position 338 replaced by X\r\n",
        "Selenocysteine (U) at position 346 replaced by X\r\n",
        "Selenocysteine (U) at position 353 replaced by X\r\n",
        "Selenocysteine (U) at position 355 replaced by X\r\n",
        "Selenocysteine (U) at position 362 replaced by X\r\n",
        "Selenocysteine (U) at position 364 replaced by X\r\n"
       ]
      },
      {
       "output_type": "stream",
       "stream": "stdout",
       "text": [
        "Selenocysteine (U) at position 122 replaced by X\r\n"
       ]
      },
      {
       "output_type": "stream",
       "stream": "stdout",
       "text": [
        "Selenocysteine (U) at position 59 replaced by X\r\n",
        "Selenocysteine (U) at position 267 replaced by X\r\n",
        "Selenocysteine (U) at position 273 replaced by X\r\n",
        "Selenocysteine (U) at position 279 replaced by X\r\n",
        "Selenocysteine (U) at position 290 replaced by X\r\n",
        "Selenocysteine (U) at position 292 replaced by X\r\n",
        "Selenocysteine (U) at position 294 replaced by X\r\n",
        "Selenocysteine (U) at position 310 replaced by X\r\n",
        "Selenocysteine (U) at position 320 replaced by X\r\n",
        "Selenocysteine (U) at position 322 replaced by X\r\n",
        "Selenocysteine (U) at position 336 replaced by X\r\n",
        "Selenocysteine (U) at position 338 replaced by X\r\n",
        "Selenocysteine (U) at position 346 replaced by X\r\n",
        "Selenocysteine (U) at position 353 replaced by X\r\n",
        "Selenocysteine (U) at position 355 replaced by X\r\n",
        "Selenocysteine (U) at position 362 replaced by X\r\n",
        "Selenocysteine (U) at position 364 replaced by X\r\n",
        "Selenocysteine (U) at position 59 replaced by X\r\n",
        "Selenocysteine (U) at position 267 replaced by X\r\n",
        "Selenocysteine (U) at position 273 replaced by X\r\n",
        "Selenocysteine (U) at position 279 replaced by X\r\n",
        "Selenocysteine (U) at position 290 replaced by X\r\n",
        "Selenocysteine (U) at position 292 replaced by X\r\n",
        "Selenocysteine (U) at position 294 replaced by X\r\n",
        "Selenocysteine (U) at position 310 replaced by X\r\n",
        "Selenocysteine (U) at position 320 replaced by X\r\n",
        "Selenocysteine (U) at position 322 replaced by X\r\n",
        "Selenocysteine (U) at position 336 replaced by X\r\n",
        "Selenocysteine (U) at position 338 replaced by X\r\n",
        "Selenocysteine (U) at position 346 replaced by X\r\n",
        "Selenocysteine (U) at position 353 replaced by X\r\n",
        "Selenocysteine (U) at position 355 replaced by X\r\n",
        "Selenocysteine (U) at position 362 replaced by X\r\n",
        "Selenocysteine (U) at position 364 replaced by X\r\n"
       ]
      },
      {
       "output_type": "stream",
       "stream": "stdout",
       "text": [
        "Selenocysteine (U) at position 200 replaced by X\r\n"
       ]
      },
      {
       "output_type": "stream",
       "stream": "stdout",
       "text": [
        "Selenocysteine (U) at position 59 replaced by X\r\n",
        "Selenocysteine (U) at position 297 replaced by X\r\n",
        "Selenocysteine (U) at position 307 replaced by X\r\n",
        "Selenocysteine (U) at position 338 replaced by X\r\n",
        "Selenocysteine (U) at position 350 replaced by X\r\n",
        "Selenocysteine (U) at position 363 replaced by X\r\n",
        "Selenocysteine (U) at position 365 replaced by X\r\n",
        "Selenocysteine (U) at position 372 replaced by X\r\n",
        "Selenocysteine (U) at position 388 replaced by X\r\n",
        "Selenocysteine (U) at position 390 replaced by X\r\n",
        "Selenocysteine (U) at position 397 replaced by X\r\n",
        "Selenocysteine (U) at position 399 replaced by X\r\n",
        "Selenocysteine (U) at position 59 replaced by X\r\n",
        "Selenocysteine (U) at position 300 replaced by X\r\n",
        "Selenocysteine (U) at position 318 replaced by X\r\n",
        "Selenocysteine (U) at position 330 replaced by X\r\n",
        "Selenocysteine (U) at position 345 replaced by X\r\n",
        "Selenocysteine (U) at position 352 replaced by X\r\n",
        "Selenocysteine (U) at position 367 replaced by X\r\n",
        "Selenocysteine (U) at position 369 replaced by X\r\n",
        "Selenocysteine (U) at position 376 replaced by X\r\n",
        "Selenocysteine (U) at position 378 replaced by X\r\n",
        "Selenocysteine (U) at position 59 replaced by X\r\n",
        "Selenocysteine (U) at position 259 replaced by X\r\n",
        "Selenocysteine (U) at position 277 replaced by X\r\n",
        "Selenocysteine (U) at position 318 replaced by X\r\n",
        "Selenocysteine (U) at position 330 replaced by X\r\n",
        "Selenocysteine (U) at position 352 replaced by X\r\n",
        "Selenocysteine (U) at position 366 replaced by X\r\n",
        "Selenocysteine (U) at position 368 replaced by X\r\n",
        "Selenocysteine (U) at position 375 replaced by X\r\n",
        "Selenocysteine (U) at position 377 replaced by X\r\n"
       ]
      },
      {
       "output_type": "stream",
       "stream": "stdout",
       "text": [
        "Selenocysteine (U) at position 59 replaced by X\r\n",
        "Selenocysteine (U) at position 297 replaced by X\r\n",
        "Selenocysteine (U) at position 307 replaced by X\r\n",
        "Selenocysteine (U) at position 338 replaced by X\r\n",
        "Selenocysteine (U) at position 350 replaced by X\r\n",
        "Selenocysteine (U) at position 363 replaced by X\r\n",
        "Selenocysteine (U) at position 365 replaced by X\r\n",
        "Selenocysteine (U) at position 372 replaced by X\r\n",
        "Selenocysteine (U) at position 388 replaced by X\r\n",
        "Selenocysteine (U) at position 390 replaced by X\r\n",
        "Selenocysteine (U) at position 397 replaced by X\r\n",
        "Selenocysteine (U) at position 399 replaced by X\r\n",
        "Selenocysteine (U) at position 59 replaced by X\r\n",
        "Selenocysteine (U) at position 300 replaced by X\r\n",
        "Selenocysteine (U) at position 318 replaced by X\r\n",
        "Selenocysteine (U) at position 330 replaced by X\r\n",
        "Selenocysteine (U) at position 345 replaced by X\r\n",
        "Selenocysteine (U) at position 352 replaced by X\r\n",
        "Selenocysteine (U) at position 367 replaced by X\r\n",
        "Selenocysteine (U) at position 369 replaced by X\r\n",
        "Selenocysteine (U) at position 376 replaced by X\r\n",
        "Selenocysteine (U) at position 378 replaced by X\r\n",
        "Selenocysteine (U) at position 59 replaced by X\r\n",
        "Selenocysteine (U) at position 259 replaced by X\r\n",
        "Selenocysteine (U) at position 277 replaced by X\r\n",
        "Selenocysteine (U) at position 318 replaced by X\r\n",
        "Selenocysteine (U) at position 330 replaced by X\r\n",
        "Selenocysteine (U) at position 352 replaced by X\r\n",
        "Selenocysteine (U) at position 366 replaced by X\r\n",
        "Selenocysteine (U) at position 368 replaced by X\r\n",
        "Selenocysteine (U) at position 375 replaced by X\r\n",
        "Selenocysteine (U) at position 377 replaced by X\r\n"
       ]
      },
      {
       "output_type": "stream",
       "stream": "stdout",
       "text": [
        "Selenocysteine (U) at position 43 replaced by X\r\n"
       ]
      },
      {
       "output_type": "stream",
       "stream": "stdout",
       "text": [
        "Selenocysteine (U) at position 64 replaced by X\r\n"
       ]
      },
      {
       "output_type": "stream",
       "stream": "stdout",
       "text": [
        "Selenocysteine (U) at position 59 replaced by X\r\n",
        "Selenocysteine (U) at position 297 replaced by X\r\n",
        "Selenocysteine (U) at position 307 replaced by X\r\n",
        "Selenocysteine (U) at position 338 replaced by X\r\n",
        "Selenocysteine (U) at position 350 replaced by X\r\n",
        "Selenocysteine (U) at position 363 replaced by X\r\n",
        "Selenocysteine (U) at position 365 replaced by X\r\n",
        "Selenocysteine (U) at position 372 replaced by X\r\n",
        "Selenocysteine (U) at position 388 replaced by X\r\n",
        "Selenocysteine (U) at position 390 replaced by X\r\n",
        "Selenocysteine (U) at position 397 replaced by X\r\n",
        "Selenocysteine (U) at position 399 replaced by X\r\n"
       ]
      },
      {
       "output_type": "stream",
       "stream": "stdout",
       "text": [
        "Selenocysteine (U) at position 64 replaced by X\r\n"
       ]
      },
      {
       "output_type": "stream",
       "stream": "stdout",
       "text": [
        "Selenocysteine (U) at position 64 replaced by X\r\n"
       ]
      },
      {
       "output_type": "stream",
       "stream": "stdout",
       "text": [
        "Selenocysteine (U) at position 130 replaced by X\r\n",
        "Selenocysteine (U) at position 263 replaced by X\r\n"
       ]
      },
      {
       "output_type": "stream",
       "stream": "stdout",
       "text": [
        "Selenocysteine (U) at position 17 replaced by X\r\n"
       ]
      },
      {
       "output_type": "stream",
       "stream": "stdout",
       "text": [
        "Selenocysteine (U) at position 17 replaced by X\r\n"
       ]
      },
      {
       "output_type": "stream",
       "stream": "stdout",
       "text": [
        "Selenocysteine (U) at position 40 replaced by X\r\n",
        "Selenocysteine (U) at position 40 replaced by X\r\n"
       ]
      },
      {
       "output_type": "stream",
       "stream": "stdout",
       "text": [
        "Selenocysteine (U) at position 642 replaced by X\r\n",
        "Selenocysteine (U) at position 642 replaced by X\r\n"
       ]
      },
      {
       "output_type": "stream",
       "stream": "stdout",
       "text": [
        "Selenocysteine (U) at position 73 replaced by X\r\n"
       ]
      },
      {
       "output_type": "stream",
       "stream": "stdout",
       "text": [
        "Selenocysteine (U) at position 690 replaced by X\r\n",
        "Selenocysteine (U) at position 690 replaced by X\r\n"
       ]
      },
      {
       "output_type": "stream",
       "stream": "stdout",
       "text": [
        "Selenocysteine (U) at position 40 replaced by X\r\n"
       ]
      },
      {
       "output_type": "stream",
       "stream": "stdout",
       "text": [
        "Selenocysteine (U) at position 436 replaced by X\r\n"
       ]
      },
      {
       "output_type": "stream",
       "stream": "stdout",
       "text": [
        "Selenocysteine (U) at position 387 replaced by X\r\n"
       ]
      },
      {
       "output_type": "stream",
       "stream": "stdout",
       "text": [
        "Selenocysteine (U) at position 59 replaced by X\r\n",
        "Selenocysteine (U) at position 297 replaced by X\r\n",
        "Selenocysteine (U) at position 307 replaced by X\r\n",
        "Selenocysteine (U) at position 338 replaced by X\r\n",
        "Selenocysteine (U) at position 350 replaced by X\r\n",
        "Selenocysteine (U) at position 363 replaced by X\r\n",
        "Selenocysteine (U) at position 365 replaced by X\r\n",
        "Selenocysteine (U) at position 372 replaced by X\r\n",
        "Selenocysteine (U) at position 388 replaced by X\r\n",
        "Selenocysteine (U) at position 390 replaced by X\r\n",
        "Selenocysteine (U) at position 397 replaced by X\r\n",
        "Selenocysteine (U) at position 399 replaced by X\r\n",
        "Selenocysteine (U) at position 59 replaced by X\r\n",
        "Selenocysteine (U) at position 297 replaced by X\r\n",
        "Selenocysteine (U) at position 307 replaced by X\r\n",
        "Selenocysteine (U) at position 338 replaced by X\r\n",
        "Selenocysteine (U) at position 350 replaced by X\r\n",
        "Selenocysteine (U) at position 363 replaced by X\r\n",
        "Selenocysteine (U) at position 365 replaced by X\r\n",
        "Selenocysteine (U) at position 372 replaced by X\r\n",
        "Selenocysteine (U) at position 388 replaced by X\r\n",
        "Selenocysteine (U) at position 390 replaced by X\r\n",
        "Selenocysteine (U) at position 397 replaced by X\r\n",
        "Selenocysteine (U) at position 399 replaced by X\r\n",
        "Selenocysteine (U) at position 59 replaced by X\r\n",
        "Selenocysteine (U) at position 297 replaced by X\r\n",
        "Selenocysteine (U) at position 307 replaced by X\r\n",
        "Selenocysteine (U) at position 338 replaced by X\r\n",
        "Selenocysteine (U) at position 350 replaced by X\r\n",
        "Selenocysteine (U) at position 363 replaced by X\r\n",
        "Selenocysteine (U) at position 365 replaced by X\r\n",
        "Selenocysteine (U) at position 372 replaced by X\r\n",
        "Selenocysteine (U) at position 388 replaced by X\r\n",
        "Selenocysteine (U) at position 390 replaced by X\r\n",
        "Selenocysteine (U) at position 397 replaced by X\r\n",
        "Selenocysteine (U) at position 399 replaced by X\r\n"
       ]
      },
      {
       "output_type": "stream",
       "stream": "stdout",
       "text": [
        "Selenocysteine (U) at position 59 replaced by X\r\n",
        "Selenocysteine (U) at position 297 replaced by X\r\n",
        "Selenocysteine (U) at position 307 replaced by X\r\n",
        "Selenocysteine (U) at position 338 replaced by X\r\n",
        "Selenocysteine (U) at position 350 replaced by X\r\n",
        "Selenocysteine (U) at position 363 replaced by X\r\n",
        "Selenocysteine (U) at position 365 replaced by X\r\n",
        "Selenocysteine (U) at position 372 replaced by X\r\n",
        "Selenocysteine (U) at position 388 replaced by X\r\n",
        "Selenocysteine (U) at position 390 replaced by X\r\n",
        "Selenocysteine (U) at position 397 replaced by X\r\n",
        "Selenocysteine (U) at position 399 replaced by X\r\n"
       ]
      },
      {
       "output_type": "stream",
       "stream": "stdout",
       "text": [
        "Selenocysteine (U) at position 152 replaced by X\r\n",
        "Selenocysteine (U) at position 152 replaced by X\r\n",
        "Selenocysteine (U) at position 152 replaced by X\r\n"
       ]
      },
      {
       "output_type": "stream",
       "stream": "stdout",
       "text": [
        "Selenocysteine (U) at position 131 replaced by X\r\n"
       ]
      },
      {
       "output_type": "stream",
       "stream": "stdout",
       "text": [
        "Selenocysteine (U) at position 131 replaced by X\r\n",
        "Selenocysteine (U) at position 131 replaced by X\r\n"
       ]
      },
      {
       "output_type": "stream",
       "stream": "stdout",
       "text": [
        "Selenocysteine (U) at position 510 replaced by X\r\n",
        "Selenocysteine (U) at position 510 replaced by X\r\n",
        "Selenocysteine (U) at position 510 replaced by X\r\n"
       ]
      },
      {
       "output_type": "stream",
       "stream": "stdout",
       "text": [
        "Selenocysteine (U) at position 510 replaced by X\r\n",
        "Selenocysteine (U) at position 510 replaced by X\r\n",
        "Selenocysteine (U) at position 510 replaced by X\r\n",
        "Selenocysteine (U) at position 510 replaced by X\r\n"
       ]
      },
      {
       "output_type": "stream",
       "stream": "stdout",
       "text": [
        "Selenocysteine (U) at position 637 replaced by X\r\n",
        "Selenocysteine (U) at position 637 replaced by X\r\n",
        "Selenocysteine (U) at position 637 replaced by X\r\n",
        "Selenocysteine (U) at position 637 replaced by X\r\n",
        "Selenocysteine (U) at position 637 replaced by X\r\n",
        "Selenocysteine (U) at position 637 replaced by X\r\n",
        "Selenocysteine (U) at position 690 replaced by X\r\n",
        "Selenocysteine (U) at position 690 replaced by X\r\n",
        "Selenocysteine (U) at position 690 replaced by X\r\n"
       ]
      },
      {
       "output_type": "stream",
       "stream": "stdout",
       "text": [
        "Selenocysteine (U) at position 665 replaced by X\r\n"
       ]
      },
      {
       "output_type": "stream",
       "stream": "stdout",
       "text": [
        "Selenocysteine (U) at position 46 replaced by X\r\n",
        "Selenocysteine (U) at position 52 replaced by X\r\n",
        "Selenocysteine (U) at position 46 replaced by X\r\n",
        "Selenocysteine (U) at position 52 replaced by X\r\n"
       ]
      },
      {
       "output_type": "stream",
       "stream": "stdout",
       "text": [
        "Selenocysteine (U) at position 46 replaced by X\r\n",
        "Selenocysteine (U) at position 52 replaced by X\r\n"
       ]
      },
      {
       "output_type": "stream",
       "stream": "stdout",
       "text": [
        "Selenocysteine (U) at position 47 replaced by X\r\n"
       ]
      },
      {
       "output_type": "stream",
       "stream": "stdout",
       "text": [
        "Selenocysteine (U) at position 47 replaced by X\r\n",
        "Selenocysteine (U) at position 47 replaced by X\r\n",
        "Selenocysteine (U) at position 47 replaced by X\r\n",
        "Selenocysteine (U) at position 40 replaced by X\r\n",
        "Selenocysteine (U) at position 40 replaced by X\r\n",
        "Selenocysteine (U) at position 40 replaced by X\r\n",
        "Selenocysteine (U) at position 40 replaced by X\r\n",
        "Selenocysteine (U) at position 40 replaced by X\r\n",
        "Selenocysteine (U) at position 40 replaced by X\r\n",
        "Selenocysteine (U) at position 40 replaced by X\r\n",
        "Selenocysteine (U) at position 40 replaced by X\r\n"
       ]
      },
      {
       "output_type": "stream",
       "stream": "stdout",
       "text": [
        "Selenocysteine (U) at position 197 replaced by X\r\n",
        "Selenocysteine (U) at position 197 replaced by X\r\n",
        "Selenocysteine (U) at position 197 replaced by X\r\n"
       ]
      },
      {
       "output_type": "stream",
       "stream": "stdout",
       "text": [
        "Selenocysteine (U) at position 197 replaced by X\r\n"
       ]
      },
      {
       "output_type": "stream",
       "stream": "stdout",
       "text": [
        "Selenocysteine (U) at position 196 replaced by X\r\n",
        "Selenocysteine (U) at position 197 replaced by X\r\n"
       ]
      },
      {
       "output_type": "stream",
       "stream": "stdout",
       "text": [
        "Selenocysteine (U) at position 196 replaced by X\r\n",
        "Selenocysteine (U) at position 197 replaced by X\r\n"
       ]
      },
      {
       "output_type": "stream",
       "stream": "stdout",
       "text": [
        "Selenocysteine (U) at position 20 replaced by X\r\n",
        "Selenocysteine (U) at position 88 replaced by X\r\n"
       ]
      },
      {
       "output_type": "stream",
       "stream": "stdout",
       "text": [
        "Selenocysteine (U) at position 189 replaced by X\r\n"
       ]
      },
      {
       "output_type": "stream",
       "stream": "stdout",
       "text": [
        "Selenocysteine (U) at position 637 replaced by X\r\n",
        "Selenocysteine (U) at position 637 replaced by X\r\n",
        "Selenocysteine (U) at position 637 replaced by X\r\n",
        "Selenocysteine (U) at position 637 replaced by X\r\n",
        "Selenocysteine (U) at position 637 replaced by X\r\n",
        "Selenocysteine (U) at position 637 replaced by X\r\n",
        "Selenocysteine (U) at position 690 replaced by X\r\n",
        "Selenocysteine (U) at position 690 replaced by X\r\n",
        "Selenocysteine (U) at position 690 replaced by X\r\n",
        "Selenocysteine (U) at position 690 replaced by X\r\n",
        "Selenocysteine (U) at position 690 replaced by X\r\n",
        "Selenocysteine (U) at position 690 replaced by X\r\n"
       ]
      },
      {
       "output_type": "stream",
       "stream": "stdout",
       "text": [
        "Selenocysteine (U) at position 49 replaced by X\r\n",
        "Selenocysteine (U) at position 47 replaced by X\r\n",
        "Selenocysteine (U) at position 47 replaced by X\r\n",
        "Selenocysteine (U) at position 47 replaced by X\r\n",
        "Selenocysteine (U) at position 46 replaced by X\r\n"
       ]
      },
      {
       "output_type": "stream",
       "stream": "stdout",
       "text": [
        "Selenocysteine (U) at position 59 replaced by X\r\n",
        "Selenocysteine (U) at position 297 replaced by X\r\n",
        "Selenocysteine (U) at position 307 replaced by X\r\n",
        "Selenocysteine (U) at position 338 replaced by X\r\n",
        "Selenocysteine (U) at position 350 replaced by X\r\n",
        "Selenocysteine (U) at position 363 replaced by X\r\n",
        "Selenocysteine (U) at position 365 replaced by X\r\n",
        "Selenocysteine (U) at position 372 replaced by X\r\n",
        "Selenocysteine (U) at position 388 replaced by X\r\n",
        "Selenocysteine (U) at position 390 replaced by X\r\n",
        "Selenocysteine (U) at position 397 replaced by X\r\n",
        "Selenocysteine (U) at position 399 replaced by X\r\n"
       ]
      },
      {
       "output_type": "stream",
       "stream": "stdout",
       "text": [
        "Selenocysteine (U) at position 637 replaced by X\r\n"
       ]
      },
      {
       "output_type": "stream",
       "stream": "stdout",
       "text": [
        "Selenocysteine (U) at position 642 replaced by X\r\n"
       ]
      },
      {
       "output_type": "stream",
       "stream": "stdout",
       "text": [
        "Selenocysteine (U) at position 690 replaced by X\r\n"
       ]
      },
      {
       "output_type": "stream",
       "stream": "stdout",
       "text": [
        "Selenocysteine (U) at position 637 replaced by X\r\n"
       ]
      },
      {
       "output_type": "stream",
       "stream": "stdout",
       "text": [
        "Selenocysteine (U) at position 637 replaced by X\r\n",
        "Selenocysteine (U) at position 637 replaced by X\r\n",
        "Selenocysteine (U) at position 637 replaced by X\r\n"
       ]
      },
      {
       "output_type": "stream",
       "stream": "stdout",
       "text": [
        "Selenocysteine (U) at position 273 replaced by X\r\n",
        "Selenocysteine (U) at position 59 replaced by X\r\n",
        "Selenocysteine (U) at position 297 replaced by X\r\n",
        "Selenocysteine (U) at position 307 replaced by X\r\n",
        "Selenocysteine (U) at position 338 replaced by X\r\n",
        "Selenocysteine (U) at position 350 replaced by X\r\n",
        "Selenocysteine (U) at position 363 replaced by X\r\n",
        "Selenocysteine (U) at position 365 replaced by X\r\n",
        "Selenocysteine (U) at position 372 replaced by X\r\n",
        "Selenocysteine (U) at position 388 replaced by X\r\n",
        "Selenocysteine (U) at position 390 replaced by X\r\n",
        "Selenocysteine (U) at position 397 replaced by X\r\n",
        "Selenocysteine (U) at position 399 replaced by X\r\n"
       ]
      },
      {
       "output_type": "stream",
       "stream": "stdout",
       "text": [
        "Selenocysteine (U) at position 273 replaced by X\r\n"
       ]
      },
      {
       "output_type": "stream",
       "stream": "stdout",
       "text": [
        "Selenocysteine (U) at position 21 replaced by X\r\n",
        "Selenocysteine (U) at position 21 replaced by X\r\n"
       ]
      },
      {
       "output_type": "stream",
       "stream": "stdout",
       "text": [
        "Selenocysteine (U) at position 637 replaced by X\r\n",
        "Selenocysteine (U) at position 637 replaced by X\r\n",
        "Selenocysteine (U) at position 690 replaced by X\r\n"
       ]
      },
      {
       "output_type": "stream",
       "stream": "stdout",
       "text": [
        "Selenocysteine (U) at position 47 replaced by X\r\n"
       ]
      },
      {
       "output_type": "stream",
       "stream": "stdout",
       "text": [
        "Selenocysteine (U) at position 637 replaced by X\r\n",
        "Selenocysteine (U) at position 690 replaced by X\r\n"
       ]
      },
      {
       "output_type": "stream",
       "stream": "stdout",
       "text": [
        "Selenocysteine (U) at position 59 replaced by X\r\n",
        "Selenocysteine (U) at position 259 replaced by X\r\n",
        "Selenocysteine (U) at position 277 replaced by X\r\n",
        "Selenocysteine (U) at position 318 replaced by X\r\n",
        "Selenocysteine (U) at position 330 replaced by X\r\n",
        "Selenocysteine (U) at position 352 replaced by X\r\n",
        "Selenocysteine (U) at position 366 replaced by X\r\n",
        "Selenocysteine (U) at position 368 replaced by X\r\n",
        "Selenocysteine (U) at position 375 replaced by X\r\n",
        "Selenocysteine (U) at position 377 replaced by X\r\n",
        "Selenocysteine (U) at position 59 replaced by X\r\n",
        "Selenocysteine (U) at position 264 replaced by X\r\n",
        "Selenocysteine (U) at position 282 replaced by X\r\n",
        "Selenocysteine (U) at position 323 replaced by X\r\n",
        "Selenocysteine (U) at position 335 replaced by X\r\n",
        "Selenocysteine (U) at position 357 replaced by X\r\n",
        "Selenocysteine (U) at position 371 replaced by X\r\n",
        "Selenocysteine (U) at position 373 replaced by X\r\n",
        "Selenocysteine (U) at position 380 replaced by X\r\n",
        "Selenocysteine (U) at position 382 replaced by X\r\n"
       ]
      },
      {
       "output_type": "stream",
       "stream": "stdout",
       "text": [
        "Selenocysteine (U) at position 273 replaced by X\r\n",
        "Selenocysteine (U) at position 273 replaced by X\r\n"
       ]
      },
      {
       "output_type": "stream",
       "stream": "stdout",
       "text": [
        "Selenocysteine (U) at position 204 replaced by X\r\n"
       ]
      },
      {
       "output_type": "stream",
       "stream": "stdout",
       "text": [
        "Selenocysteine (U) at position 273 replaced by X\r\n"
       ]
      },
      {
       "output_type": "stream",
       "stream": "stdout",
       "text": [
        "Selenocysteine (U) at position 642 replaced by X\r\n",
        "Selenocysteine (U) at position 651 replaced by X\r\n",
        "Selenocysteine (U) at position 651 replaced by X\r\n"
       ]
      },
      {
       "output_type": "stream",
       "stream": "stdout",
       "text": [
        "Selenocysteine (U) at position 124 replaced by X\r\n"
       ]
      },
      {
       "output_type": "stream",
       "stream": "stdout",
       "text": [
        "Selenocysteine (U) at position 612 replaced by X\r\n"
       ]
      },
      {
       "output_type": "stream",
       "stream": "stdout",
       "text": [
        "Selenocysteine (U) at position 131 replaced by X\r\n",
        "Selenocysteine (U) at position 131 replaced by X\r\n"
       ]
      },
      {
       "output_type": "stream",
       "stream": "stdout",
       "text": [
        "Selenocysteine (U) at position 665 replaced by X\r\n",
        "Selenocysteine (U) at position 665 replaced by X\r\n"
       ]
      },
      {
       "output_type": "stream",
       "stream": "stdout",
       "text": [
        "Selenocysteine (U) at position 196 replaced by X\r\n",
        "Selenocysteine (U) at position 196 replaced by X\r\n",
        "Selenocysteine (U) at position 204 replaced by X\r\n"
       ]
      },
      {
       "output_type": "stream",
       "stream": "stdout",
       "text": [
        "Selenocysteine (U) at position 196 replaced by X\r\n",
        "Selenocysteine (U) at position 196 replaced by X\r\n",
        "Selenocysteine (U) at position 196 replaced by X\r\n",
        "Selenocysteine (U) at position 196 replaced by X\r\n",
        "Selenocysteine (U) at position 204 replaced by X\r\n",
        "Selenocysteine (U) at position 204 replaced by X\r\n"
       ]
      },
      {
       "output_type": "stream",
       "stream": "stdout",
       "text": [
        "Selenocysteine (U) at position 106 replaced by X\r\n",
        "Selenocysteine (U) at position 106 replaced by X\r\n",
        "Selenocysteine (U) at position 106 replaced by X\r\n",
        "Selenocysteine (U) at position 106 replaced by X\r\n"
       ]
      },
      {
       "output_type": "stream",
       "stream": "stdout",
       "text": [
        "Selenocysteine (U) at position 92 replaced by X\r\n",
        "Selenocysteine (U) at position 92 replaced by X\r\n"
       ]
      },
      {
       "output_type": "stream",
       "stream": "stdout",
       "text": [
        "Selenocysteine (U) at position 64 replaced by X\r\n",
        "Selenocysteine (U) at position 64 replaced by X\r\n"
       ]
      },
      {
       "output_type": "stream",
       "stream": "stdout",
       "text": [
        "Selenocysteine (U) at position 64 replaced by X\r\n",
        "Selenocysteine (U) at position 64 replaced by X\r\n",
        "Selenocysteine (U) at position 189 replaced by X\r\n"
       ]
      },
      {
       "output_type": "stream",
       "stream": "stdout",
       "text": [
        "Selenocysteine (U) at position 15 replaced by X\r\n",
        "Selenocysteine (U) at position 15 replaced by X\r\n"
       ]
      },
      {
       "output_type": "stream",
       "stream": "stdout",
       "text": [
        "Selenocysteine (U) at position 637 replaced by X\r\n"
       ]
      },
      {
       "output_type": "stream",
       "stream": "stdout",
       "text": [
        "Selenocysteine (U) at position 59 replaced by X\r\n",
        "Selenocysteine (U) at position 264 replaced by X\r\n",
        "Selenocysteine (U) at position 282 replaced by X\r\n",
        "Selenocysteine (U) at position 323 replaced by X\r\n",
        "Selenocysteine (U) at position 335 replaced by X\r\n",
        "Selenocysteine (U) at position 357 replaced by X\r\n",
        "Selenocysteine (U) at position 371 replaced by X\r\n",
        "Selenocysteine (U) at position 373 replaced by X\r\n",
        "Selenocysteine (U) at position 380 replaced by X\r\n",
        "Selenocysteine (U) at position 382 replaced by X\r\n"
       ]
      },
      {
       "output_type": "stream",
       "stream": "stdout",
       "text": [
        "Selenocysteine (U) at position 40 replaced by X\r\n",
        "Selenocysteine (U) at position 40 replaced by X\r\n",
        "Selenocysteine (U) at position 40 replaced by X\r\n",
        "Selenocysteine (U) at position 40 replaced by X\r\n"
       ]
      },
      {
       "output_type": "stream",
       "stream": "stdout",
       "text": [
        "Selenocysteine (U) at position 129 replaced by X\r\n",
        "Selenocysteine (U) at position 129 replaced by X\r\n"
       ]
      },
      {
       "output_type": "stream",
       "stream": "stdout",
       "text": [
        "Selenocysteine (U) at position 129 replaced by X\r\n",
        "Selenocysteine (U) at position 129 replaced by X\r\n",
        "Selenocysteine (U) at position 129 replaced by X\r\n",
        "Selenocysteine (U) at position 129 replaced by X\r\n"
       ]
      },
      {
       "output_type": "stream",
       "stream": "stdout",
       "text": [
        "Selenocysteine (U) at position 613 replaced by X\r\n",
        "Selenocysteine (U) at position 613 replaced by X\r\n"
       ]
      },
      {
       "output_type": "stream",
       "stream": "stdout",
       "text": [
        "Selenocysteine (U) at position 93 replaced by X\r\n",
        "Selenocysteine (U) at position 93 replaced by X\r\n"
       ]
      },
      {
       "output_type": "stream",
       "stream": "stdout",
       "text": [
        "Selenocysteine (U) at position 273 replaced by X\r\n",
        "Selenocysteine (U) at position 273 replaced by X\r\n",
        "Selenocysteine (U) at position 273 replaced by X\r\n",
        "Selenocysteine (U) at position 273 replaced by X\r\n"
       ]
      },
      {
       "output_type": "stream",
       "stream": "stdout",
       "text": [
        "Selenocysteine (U) at position 349 replaced by X\r\n",
        "Selenocysteine (U) at position 349 replaced by X\r\n",
        "Selenocysteine (U) at position 349 replaced by X\r\n"
       ]
      },
      {
       "output_type": "stream",
       "stream": "stdout",
       "text": [
        "Selenocysteine (U) at position 126 replaced by X\r\n"
       ]
      },
      {
       "output_type": "stream",
       "stream": "stdout",
       "text": [
        "Selenocysteine (U) at position 498 replaced by X\r\n",
        "Selenocysteine (U) at position 498 replaced by X\r\n",
        "Selenocysteine (U) at position 498 replaced by X\r\n",
        "Selenocysteine (U) at position 648 replaced by X\r\n",
        "Selenocysteine (U) at position 648 replaced by X\r\n",
        "Selenocysteine (U) at position 648 replaced by X\r\n",
        "Selenocysteine (U) at position 612 replaced by X\r\n",
        "Selenocysteine (U) at position 612 replaced by X\r\n",
        "Selenocysteine (U) at position 612 replaced by X\r\n",
        "Selenocysteine (U) at position 498 replaced by X\r\n",
        "Selenocysteine (U) at position 498 replaced by X\r\n",
        "Selenocysteine (U) at position 498 replaced by X\r\n",
        "Selenocysteine (U) at position 498 replaced by X\r\n",
        "Selenocysteine (U) at position 498 replaced by X\r\n",
        "Selenocysteine (U) at position 498 replaced by X\r\n",
        "Selenocysteine (U) at position 498 replaced by X\r\n",
        "Selenocysteine (U) at position 498 replaced by X\r\n",
        "Selenocysteine (U) at position 498 replaced by X\r\n"
       ]
      },
      {
       "output_type": "stream",
       "stream": "stdout",
       "text": [
        "Selenocysteine (U) at position 613 replaced by X\r\n",
        "Selenocysteine (U) at position 613 replaced by X\r\n",
        "Selenocysteine (U) at position 613 replaced by X\r\n",
        "Selenocysteine (U) at position 613 replaced by X\r\n",
        "Selenocysteine (U) at position 613 replaced by X\r\n"
       ]
      },
      {
       "output_type": "stream",
       "stream": "stdout",
       "text": [
        "Selenocysteine (U) at position 613 replaced by X\r\n",
        "Selenocysteine (U) at position 613 replaced by X\r\n",
        "Selenocysteine (U) at position 613 replaced by X\r\n",
        "Selenocysteine (U) at position 613 replaced by X\r\n",
        "Selenocysteine (U) at position 613 replaced by X\r\n",
        "Selenocysteine (U) at position 613 replaced by X\r\n",
        "Selenocysteine (U) at position 613 replaced by X\r\n",
        "Selenocysteine (U) at position 613 replaced by X\r\n",
        "Selenocysteine (U) at position 613 replaced by X\r\n",
        "Selenocysteine (U) at position 613 replaced by X\r\n",
        "Selenocysteine (U) at position 613 replaced by X\r\n",
        "Selenocysteine (U) at position 613 replaced by X\r\n",
        "Selenocysteine (U) at position 613 replaced by X\r\n",
        "Selenocysteine (U) at position 613 replaced by X\r\n",
        "Selenocysteine (U) at position 613 replaced by X\r\n",
        "Selenocysteine (U) at position 613 replaced by X\r\n"
       ]
      },
      {
       "output_type": "stream",
       "stream": "stdout",
       "text": [
        "Selenocysteine (U) at position 192 replaced by X\r\n"
       ]
      },
      {
       "output_type": "stream",
       "stream": "stdout",
       "text": [
        "Selenocysteine (U) at position 65 replaced by X\r\n",
        "Selenocysteine (U) at position 65 replaced by X\r\n",
        "Selenocysteine (U) at position 65 replaced by X\r\n"
       ]
      },
      {
       "output_type": "stream",
       "stream": "stdout",
       "text": [
        "Selenocysteine (U) at position 47 replaced by X\r\n",
        "Selenocysteine (U) at position 47 replaced by X\r\n",
        "Selenocysteine (U) at position 47 replaced by X\r\n",
        "Selenocysteine (U) at position 47 replaced by X\r\n",
        "Selenocysteine (U) at position 47 replaced by X\r\n",
        "Selenocysteine (U) at position 47 replaced by X\r\n",
        "Selenocysteine (U) at position 49 replaced by X\r\n",
        "Selenocysteine (U) at position 49 replaced by X\r\n",
        "Selenocysteine (U) at position 49 replaced by X\r\n",
        "Selenocysteine (U) at position 53 replaced by X\r\n",
        "Selenocysteine (U) at position 53 replaced by X\r\n",
        "Selenocysteine (U) at position 53 replaced by X\r\n",
        "Selenocysteine (U) at position 49 replaced by X\r\n",
        "Selenocysteine (U) at position 49 replaced by X\r\n",
        "Selenocysteine (U) at position 49 replaced by X\r\n",
        "Selenocysteine (U) at position 49 replaced by X\r\n",
        "Selenocysteine (U) at position 49 replaced by X\r\n",
        "Selenocysteine (U) at position 49 replaced by X\r\n",
        "Selenocysteine (U) at position 49 replaced by X\r\n",
        "Selenocysteine (U) at position 49 replaced by X\r\n",
        "Selenocysteine (U) at position 49 replaced by X\r\n",
        "Selenocysteine (U) at position 54 replaced by X\r\n",
        "Selenocysteine (U) at position 54 replaced by X\r\n",
        "Selenocysteine (U) at position 54 replaced by X\r\n"
       ]
      },
      {
       "output_type": "stream",
       "stream": "stdout",
       "text": [
        "Selenocysteine (U) at position 130 replaced by X\r\n",
        "Selenocysteine (U) at position 263 replaced by X\r\n"
       ]
      },
      {
       "output_type": "stream",
       "stream": "stdout",
       "text": [
        "Selenocysteine (U) at position 273 replaced by X\r\n"
       ]
      },
      {
       "output_type": "stream",
       "stream": "stdout",
       "text": [
        "Selenocysteine (U) at position 59 replaced by X\r\n",
        "Selenocysteine (U) at position 297 replaced by X\r\n",
        "Selenocysteine (U) at position 307 replaced by X\r\n",
        "Selenocysteine (U) at position 338 replaced by X\r\n",
        "Selenocysteine (U) at position 350 replaced by X\r\n",
        "Selenocysteine (U) at position 363 replaced by X\r\n",
        "Selenocysteine (U) at position 365 replaced by X\r\n",
        "Selenocysteine (U) at position 372 replaced by X\r\n",
        "Selenocysteine (U) at position 388 replaced by X\r\n",
        "Selenocysteine (U) at position 390 replaced by X\r\n",
        "Selenocysteine (U) at position 397 replaced by X\r\n",
        "Selenocysteine (U) at position 399 replaced by X\r\n"
       ]
      },
      {
       "output_type": "stream",
       "stream": "stdout",
       "text": [
        "Selenocysteine (U) at position 666 replaced by X\r\n"
       ]
      },
      {
       "output_type": "stream",
       "stream": "stdout",
       "text": [
        "Selenocysteine (U) at position 13 replaced by X\r\n",
        "Selenocysteine (U) at position 64 replaced by X\r\n"
       ]
      },
      {
       "output_type": "stream",
       "stream": "stdout",
       "text": [
        "Selenocysteine (U) at position 7 replaced by X\r\n"
       ]
      },
      {
       "output_type": "stream",
       "stream": "stdout",
       "text": [
        "Selenocysteine (U) at position 7 replaced by X\r\n"
       ]
      },
      {
       "output_type": "stream",
       "stream": "stdout",
       "text": [
        "Selenocysteine (U) at position 47 replaced by X\r\n",
        "Selenocysteine (U) at position 59 replaced by X\r\n",
        "Selenocysteine (U) at position 300 replaced by X\r\n",
        "Selenocysteine (U) at position 318 replaced by X\r\n",
        "Selenocysteine (U) at position 330 replaced by X\r\n",
        "Selenocysteine (U) at position 345 replaced by X\r\n",
        "Selenocysteine (U) at position 352 replaced by X\r\n",
        "Selenocysteine (U) at position 367 replaced by X\r\n",
        "Selenocysteine (U) at position 369 replaced by X\r\n",
        "Selenocysteine (U) at position 376 replaced by X\r\n",
        "Selenocysteine (U) at position 378 replaced by X\r\n",
        "Selenocysteine (U) at position 59 replaced by X\r\n",
        "Selenocysteine (U) at position 318 replaced by X\r\n",
        "Selenocysteine (U) at position 330 replaced by X\r\n",
        "Selenocysteine (U) at position 345 replaced by X\r\n",
        "Selenocysteine (U) at position 352 replaced by X\r\n",
        "Selenocysteine (U) at position 367 replaced by X\r\n",
        "Selenocysteine (U) at position 369 replaced by X\r\n",
        "Selenocysteine (U) at position 376 replaced by X\r\n",
        "Selenocysteine (U) at position 378 replaced by X\r\n"
       ]
      },
      {
       "output_type": "stream",
       "stream": "stdout",
       "text": [
        "Selenocysteine (U) at position 126 replaced by X\r\n",
        "Selenocysteine (U) at position 126 replaced by X\r\n",
        "Selenocysteine (U) at position 126 replaced by X\r\n",
        "Selenocysteine (U) at position 126 replaced by X\r\n"
       ]
      },
      {
       "output_type": "stream",
       "stream": "stdout",
       "text": [
        "Selenocysteine (U) at position 59 replaced by X\r\n",
        "Selenocysteine (U) at position 267 replaced by X\r\n",
        "Selenocysteine (U) at position 273 replaced by X\r\n",
        "Selenocysteine (U) at position 279 replaced by X\r\n",
        "Selenocysteine (U) at position 290 replaced by X\r\n",
        "Selenocysteine (U) at position 292 replaced by X\r\n",
        "Selenocysteine (U) at position 294 replaced by X\r\n",
        "Selenocysteine (U) at position 310 replaced by X\r\n",
        "Selenocysteine (U) at position 320 replaced by X\r\n",
        "Selenocysteine (U) at position 322 replaced by X\r\n",
        "Selenocysteine (U) at position 336 replaced by X\r\n",
        "Selenocysteine (U) at position 338 replaced by X\r\n",
        "Selenocysteine (U) at position 346 replaced by X\r\n",
        "Selenocysteine (U) at position 353 replaced by X\r\n",
        "Selenocysteine (U) at position 355 replaced by X\r\n",
        "Selenocysteine (U) at position 362 replaced by X\r\n",
        "Selenocysteine (U) at position 364 replaced by X\r\n"
       ]
      },
      {
       "output_type": "stream",
       "stream": "stdout",
       "text": [
        "Selenocysteine (U) at position 59 replaced by X\r\n",
        "Selenocysteine (U) at position 267 replaced by X\r\n",
        "Selenocysteine (U) at position 273 replaced by X\r\n",
        "Selenocysteine (U) at position 279 replaced by X\r\n",
        "Selenocysteine (U) at position 290 replaced by X\r\n",
        "Selenocysteine (U) at position 292 replaced by X\r\n",
        "Selenocysteine (U) at position 294 replaced by X\r\n",
        "Selenocysteine (U) at position 310 replaced by X\r\n",
        "Selenocysteine (U) at position 320 replaced by X\r\n",
        "Selenocysteine (U) at position 322 replaced by X\r\n",
        "Selenocysteine (U) at position 336 replaced by X\r\n",
        "Selenocysteine (U) at position 338 replaced by X\r\n",
        "Selenocysteine (U) at position 346 replaced by X\r\n",
        "Selenocysteine (U) at position 353 replaced by X\r\n",
        "Selenocysteine (U) at position 355 replaced by X\r\n",
        "Selenocysteine (U) at position 362 replaced by X\r\n",
        "Selenocysteine (U) at position 364 replaced by X\r\n"
       ]
      },
      {
       "output_type": "stream",
       "stream": "stdout",
       "text": [
        "Selenocysteine (U) at position 612 replaced by X\r\n"
       ]
      },
      {
       "output_type": "stream",
       "stream": "stdout",
       "text": [
        "Selenocysteine (U) at position 651 replaced by X\r\n",
        "Selenocysteine (U) at position 651 replaced by X\r\n"
       ]
      },
      {
       "output_type": "stream",
       "stream": "stdout",
       "text": [
        "Selenocysteine (U) at position 18 replaced by X\r\n",
        "Selenocysteine (U) at position 18 replaced by X\r\n"
       ]
      },
      {
       "output_type": "stream",
       "stream": "stdout",
       "text": [
        "Selenocysteine (U) at position 126 replaced by X\r\n",
        "Selenocysteine (U) at position 133 replaced by X\r\n",
        "Selenocysteine (U) at position 266 replaced by X\r\n",
        "Selenocysteine (U) at position 133 replaced by X\r\n",
        "Selenocysteine (U) at position 266 replaced by X\r\n"
       ]
      },
      {
       "output_type": "stream",
       "stream": "stdout",
       "text": [
        "Selenocysteine (U) at position 133 replaced by X\r\n",
        "Selenocysteine (U) at position 266 replaced by X\r\n"
       ]
      },
      {
       "output_type": "stream",
       "stream": "stdout",
       "text": [
        "Selenocysteine (U) at position 651 replaced by X\r\n",
        "Selenocysteine (U) at position 651 replaced by X\r\n"
       ]
      },
      {
       "output_type": "stream",
       "stream": "stdout",
       "text": [
        "Selenocysteine (U) at position 651 replaced by X\r\n"
       ]
      },
      {
       "output_type": "stream",
       "stream": "stdout",
       "text": [
        "Selenocysteine (U) at position 37 replaced by X\r\n"
       ]
      },
      {
       "output_type": "stream",
       "stream": "stdout",
       "text": [
        "Selenocysteine (U) at position 17 replaced by X\r\n",
        "Selenocysteine (U) at position 17 replaced by X\r\n"
       ]
      },
      {
       "output_type": "stream",
       "stream": "stdout",
       "text": [
        "Selenocysteine (U) at position 188 replaced by X\r\n",
        "Selenocysteine (U) at position 188 replaced by X\r\n",
        "Selenocysteine (U) at position 188 replaced by X\r\n"
       ]
      },
      {
       "output_type": "stream",
       "stream": "stdout",
       "text": [
        "Selenocysteine (U) at position 37 replaced by X\r\n",
        "Selenocysteine (U) at position 37 replaced by X\r\n"
       ]
      },
      {
       "output_type": "stream",
       "stream": "stdout",
       "text": [
        "Selenocysteine (U) at position 188 replaced by X\r\n",
        "Selenocysteine (U) at position 188 replaced by X\r\n",
        "Selenocysteine (U) at position 65 replaced by X\r\n"
       ]
      },
      {
       "output_type": "stream",
       "stream": "stdout",
       "text": [
        "Selenocysteine (U) at position 15 replaced by X\r\n",
        "Selenocysteine (U) at position 15 replaced by X\r\n"
       ]
      },
      {
       "output_type": "stream",
       "stream": "stdout",
       "text": [
        "Selenocysteine (U) at position 204 replaced by X\r\n"
       ]
      },
      {
       "output_type": "stream",
       "stream": "stdout",
       "text": [
        "Selenocysteine (U) at position 16 replaced by X\r\n"
       ]
      },
      {
       "output_type": "stream",
       "stream": "stdout",
       "text": [
        "Selenocysteine (U) at position 130 replaced by X\r\n"
       ]
      },
      {
       "output_type": "stream",
       "stream": "stdout",
       "text": [
        "Selenocysteine (U) at position 196 replaced by X\r\n"
       ]
      },
      {
       "output_type": "stream",
       "stream": "stdout",
       "text": [
        "Selenocysteine (U) at position 273 replaced by X\r\n"
       ]
      },
      {
       "output_type": "stream",
       "stream": "stdout",
       "text": [
        "Selenocysteine (U) at position 131 replaced by X\r\n"
       ]
      },
      {
       "output_type": "stream",
       "stream": "stdout",
       "text": [
        "Selenocysteine (U) at position 273 replaced by X\r\n"
       ]
      },
      {
       "output_type": "stream",
       "stream": "stdout",
       "text": [
        "Selenocysteine (U) at position 73 replaced by X\r\n",
        "Selenocysteine (U) at position 73 replaced by X\r\n",
        "Selenocysteine (U) at position 73 replaced by X\r\n",
        "Selenocysteine (U) at position 73 replaced by X\r\n",
        "Selenocysteine (U) at position 73 replaced by X\r\n"
       ]
      },
      {
       "output_type": "stream",
       "stream": "stdout",
       "text": [
        "Selenocysteine (U) at position 73 replaced by X\r\n",
        "Selenocysteine (U) at position 73 replaced by X\r\n",
        "Selenocysteine (U) at position 73 replaced by X\r\n",
        "Selenocysteine (U) at position 73 replaced by X\r\n",
        "Selenocysteine (U) at position 73 replaced by X\r\n"
       ]
      },
      {
       "output_type": "stream",
       "stream": "stdout",
       "text": [
        "Selenocysteine (U) at position 430 replaced by X\r\n"
       ]
      },
      {
       "output_type": "stream",
       "stream": "stdout",
       "text": [
        "Selenocysteine (U) at position 200 replaced by X\r\n"
       ]
      },
      {
       "output_type": "stream",
       "stream": "stdout",
       "text": [
        "Selenocysteine (U) at position 273 replaced by X\r\n"
       ]
      },
      {
       "output_type": "stream",
       "stream": "stdout",
       "text": [
        "Selenocysteine (U) at position 48 replaced by X\r\n"
       ]
      },
      {
       "output_type": "stream",
       "stream": "stdout",
       "text": [
        "Selenocysteine (U) at position 690 replaced by X\r\n"
       ]
      },
      {
       "output_type": "stream",
       "stream": "stdout",
       "text": [
        "Selenocysteine (U) at position 93 replaced by X\r\n",
        "Selenocysteine (U) at position 92 replaced by X\r\n",
        "Selenocysteine (U) at position 92 replaced by X\r\n",
        "Selenocysteine (U) at position 112 replaced by X\r\n",
        "Selenocysteine (U) at position 92 replaced by X\r\n",
        "Selenocysteine (U) at position 92 replaced by X\r\n",
        "Selenocysteine (U) at position 92 replaced by X\r\n",
        "Selenocysteine (U) at position 92 replaced by X\r\n",
        "Selenocysteine (U) at position 92 replaced by X\r\n",
        "Selenocysteine (U) at position 93 replaced by X\r\n",
        "Selenocysteine (U) at position 93 replaced by X\r\n"
       ]
      },
      {
       "output_type": "stream",
       "stream": "stdout",
       "text": [
        "Selenocysteine (U) at position 637 replaced by X\r\n",
        "Selenocysteine (U) at position 637 replaced by X\r\n",
        "Selenocysteine (U) at position 637 replaced by X\r\n"
       ]
      },
      {
       "output_type": "stream",
       "stream": "stdout",
       "text": [
        "Selenocysteine (U) at position 85 replaced by X\r\n"
       ]
      },
      {
       "output_type": "stream",
       "stream": "stdout",
       "text": [
        "Selenocysteine (U) at position 510 replaced by X\r\n"
       ]
      },
      {
       "output_type": "stream",
       "stream": "stdout",
       "text": [
        "Selenocysteine (U) at position 52 replaced by X\r\n"
       ]
      },
      {
       "output_type": "stream",
       "stream": "stdout",
       "text": [
        "Selenocysteine (U) at position 273 replaced by X\r\n"
       ]
      },
      {
       "output_type": "stream",
       "stream": "stdout",
       "text": [
        "Selenocysteine (U) at position 388 replaced by X\r\n"
       ]
      },
      {
       "output_type": "stream",
       "stream": "stdout",
       "text": [
        "Selenocysteine (U) at position 273 replaced by X\r\n"
       ]
      },
      {
       "output_type": "stream",
       "stream": "stdout",
       "text": [
        "Selenocysteine (U) at position 144 replaced by X\r\n"
       ]
      },
      {
       "output_type": "stream",
       "stream": "stdout",
       "text": [
        "Selenocysteine (U) at position 273 replaced by X\r\n"
       ]
      },
      {
       "output_type": "stream",
       "stream": "stdout",
       "text": [
        "Selenocysteine (U) at position 273 replaced by X\r\n"
       ]
      },
      {
       "output_type": "stream",
       "stream": "stdout",
       "text": [
        "Selenocysteine (U) at position 690 replaced by X\r\n"
       ]
      },
      {
       "output_type": "stream",
       "stream": "stdout",
       "text": [
        "Selenocysteine (U) at position 388 replaced by X\r\n"
       ]
      },
      {
       "output_type": "stream",
       "stream": "stdout",
       "text": [
        "Selenocysteine (U) at position 131 replaced by X\r\n",
        "Selenocysteine (U) at position 131 replaced by X\r\n"
       ]
      },
      {
       "output_type": "stream",
       "stream": "stdout",
       "text": [
        "Selenocysteine (U) at position 690 replaced by X\r\n",
        "Selenocysteine (U) at position 690 replaced by X\r\n"
       ]
      },
      {
       "output_type": "stream",
       "stream": "stdout",
       "text": [
        "Selenocysteine (U) at position 493 replaced by X\r\n",
        "Selenocysteine (U) at position 493 replaced by X\r\n"
       ]
      },
      {
       "output_type": "stream",
       "stream": "stdout",
       "text": [
        "Selenocysteine (U) at position 193 replaced by X\r\n"
       ]
      },
      {
       "output_type": "stream",
       "stream": "stdout",
       "text": [
        "Selenocysteine (U) at position 642 replaced by X\r\n"
       ]
      },
      {
       "output_type": "stream",
       "stream": "stdout",
       "text": [
        "Selenocysteine (U) at position 498 replaced by X\r\n",
        "Selenocysteine (U) at position 498 replaced by X\r\n",
        "Selenocysteine (U) at position 648 replaced by X\r\n",
        "Selenocysteine (U) at position 648 replaced by X\r\n",
        "Selenocysteine (U) at position 498 replaced by X\r\n",
        "Selenocysteine (U) at position 498 replaced by X\r\n",
        "Selenocysteine (U) at position 498 replaced by X\r\n",
        "Selenocysteine (U) at position 498 replaced by X\r\n",
        "Selenocysteine (U) at position 498 replaced by X\r\n",
        "Selenocysteine (U) at position 498 replaced by X\r\n"
       ]
      },
      {
       "output_type": "stream",
       "stream": "stdout",
       "text": [
        "Selenocysteine (U) at position 498 replaced by X\r\n",
        "Selenocysteine (U) at position 498 replaced by X\r\n",
        "Selenocysteine (U) at position 498 replaced by X\r\n",
        "Selenocysteine (U) at position 666 replaced by X\r\n",
        "Selenocysteine (U) at position 666 replaced by X\r\n",
        "Selenocysteine (U) at position 666 replaced by X\r\n",
        "Selenocysteine (U) at position 666 replaced by X\r\n",
        "Selenocysteine (U) at position 494 replaced by X\r\n",
        "Selenocysteine (U) at position 494 replaced by X\r\n",
        "Selenocysteine (U) at position 494 replaced by X\r\n",
        "Selenocysteine (U) at position 494 replaced by X\r\n",
        "Selenocysteine (U) at position 494 replaced by X\r\n",
        "Selenocysteine (U) at position 494 replaced by X\r\n",
        "Selenocysteine (U) at position 648 replaced by X\r\n",
        "Selenocysteine (U) at position 648 replaced by X\r\n"
       ]
      },
      {
       "output_type": "stream",
       "stream": "stdout",
       "text": [
        "Selenocysteine (U) at position 648 replaced by X\r\n",
        "Selenocysteine (U) at position 612 replaced by X\r\n",
        "Selenocysteine (U) at position 612 replaced by X\r\n",
        "Selenocysteine (U) at position 612 replaced by X\r\n",
        "Selenocysteine (U) at position 498 replaced by X\r\n",
        "Selenocysteine (U) at position 498 replaced by X\r\n",
        "Selenocysteine (U) at position 498 replaced by X\r\n",
        "Selenocysteine (U) at position 498 replaced by X\r\n",
        "Selenocysteine (U) at position 498 replaced by X\r\n",
        "Selenocysteine (U) at position 498 replaced by X\r\n",
        "Selenocysteine (U) at position 498 replaced by X\r\n",
        "Selenocysteine (U) at position 498 replaced by X\r\n",
        "Selenocysteine (U) at position 498 replaced by X\r\n",
        "Selenocysteine (U) at position 510 replaced by X\r\n",
        "Selenocysteine (U) at position 510 replaced by X\r\n",
        "Selenocysteine (U) at position 510 replaced by X\r\n",
        "Selenocysteine (U) at position 510 replaced by X\r\n",
        "Selenocysteine (U) at position 510 replaced by X\r\n",
        "Selenocysteine (U) at position 510 replaced by X\r\n",
        "Selenocysteine (U) at position 523 replaced by X\r\n",
        "Selenocysteine (U) at position 523 replaced by X\r\n",
        "Selenocysteine (U) at position 523 replaced by X\r\n",
        "Selenocysteine (U) at position 523 replaced by X\r\n",
        "Selenocysteine (U) at position 523 replaced by X\r\n",
        "Selenocysteine (U) at position 523 replaced by X\r\n",
        "Selenocysteine (U) at position 523 replaced by X\r\n",
        "Selenocysteine (U) at position 523 replaced by X\r\n",
        "Selenocysteine (U) at position 523 replaced by X\r\n",
        "Selenocysteine (U) at position 523 replaced by X\r\n",
        "Selenocysteine (U) at position 523 replaced by X\r\n",
        "Selenocysteine (U) at position 523 replaced by X\r\n",
        "Selenocysteine (U) at position 525 replaced by X\r\n",
        "Selenocysteine (U) at position 525 replaced by X\r\n",
        "Selenocysteine (U) at position 525 replaced by X\r\n",
        "Selenocysteine (U) at position 525 replaced by X\r\n",
        "Selenocysteine (U) at position 525 replaced by X\r\n",
        "Selenocysteine (U) at position 642 replaced by X\r\n",
        "Selenocysteine (U) at position 642 replaced by X\r\n",
        "Selenocysteine (U) at position 651 replaced by X\r\n",
        "Selenocysteine (U) at position 651 replaced by X\r\n"
       ]
      },
      {
       "output_type": "stream",
       "stream": "stdout",
       "text": [
        "Selenocysteine (U) at position 196 replaced by X\r\n",
        "Selenocysteine (U) at position 196 replaced by X\r\n"
       ]
      },
      {
       "output_type": "stream",
       "stream": "stdout",
       "text": [
        "Selenocysteine (U) at position 43 replaced by X\r\n"
       ]
      },
      {
       "output_type": "stream",
       "stream": "stdout",
       "text": [
        "Selenocysteine (U) at position 43 replaced by X\r\n",
        "Selenocysteine (U) at position 43 replaced by X\r\n"
       ]
      },
      {
       "output_type": "stream",
       "stream": "stdout",
       "text": [
        "Selenocysteine (U) at position 84 replaced by X\r\n"
       ]
      },
      {
       "output_type": "stream",
       "stream": "stdout",
       "text": [
        "Selenocysteine (U) at position 43 replaced by X\r\n"
       ]
      },
      {
       "output_type": "stream",
       "stream": "stdout",
       "text": [
        "Selenocysteine (U) at position 92 replaced by X\r\n"
       ]
      },
      {
       "output_type": "stream",
       "stream": "stdout",
       "text": [
        "Selenocysteine (U) at position 667 replaced by X\r\n",
        "Selenocysteine (U) at position 47 replaced by X\r\n",
        "Selenocysteine (U) at position 47 replaced by X\r\n"
       ]
      },
      {
       "output_type": "stream",
       "stream": "stdout",
       "text": [
        "Selenocysteine (U) at position 40 replaced by X\r\n"
       ]
      },
      {
       "output_type": "stream",
       "stream": "stdout",
       "text": [
        "Selenocysteine (U) at position 510 replaced by X\r\n",
        "Selenocysteine (U) at position 523 replaced by X\r\n",
        "Selenocysteine (U) at position 525 replaced by X\r\n"
       ]
      },
      {
       "output_type": "stream",
       "stream": "stdout",
       "text": [
        "Selenocysteine (U) at position 690 replaced by X\r\n"
       ]
      },
      {
       "output_type": "stream",
       "stream": "stdout",
       "text": [
        "Selenocysteine (U) at position 73 replaced by X\r\n",
        "Selenocysteine (U) at position 73 replaced by X\r\n",
        "Selenocysteine (U) at position 129 replaced by X\r\n",
        "Selenocysteine (U) at position 129 replaced by X\r\n"
       ]
      },
      {
       "output_type": "stream",
       "stream": "stdout",
       "text": [
        "Selenocysteine (U) at position 690 replaced by X\r\n"
       ]
      },
      {
       "output_type": "stream",
       "stream": "stdout",
       "text": [
        "Selenocysteine (U) at position 613 replaced by X\r\n",
        "Selenocysteine (U) at position 613 replaced by X\r\n",
        "Selenocysteine (U) at position 613 replaced by X\r\n",
        "Selenocysteine (U) at position 613 replaced by X\r\n",
        "Selenocysteine (U) at position 613 replaced by X\r\n",
        "Selenocysteine (U) at position 613 replaced by X\r\n",
        "Selenocysteine (U) at position 613 replaced by X\r\n",
        "Selenocysteine (U) at position 613 replaced by X\r\n",
        "Selenocysteine (U) at position 613 replaced by X\r\n",
        "Selenocysteine (U) at position 613 replaced by X\r\n",
        "Selenocysteine (U) at position 613 replaced by X\r\n",
        "Selenocysteine (U) at position 613 replaced by X\r\n",
        "Selenocysteine (U) at position 613 replaced by X\r\n",
        "Selenocysteine (U) at position 613 replaced by X\r\n",
        "Selenocysteine (U) at position 613 replaced by X\r\n",
        "Selenocysteine (U) at position 613 replaced by X\r\n",
        "Selenocysteine (U) at position 613 replaced by X\r\n",
        "Selenocysteine (U) at position 613 replaced by X\r\n",
        "Selenocysteine (U) at position 613 replaced by X\r\n",
        "Selenocysteine (U) at position 613 replaced by X\r\n",
        "Selenocysteine (U) at position 613 replaced by X\r\n",
        "Selenocysteine (U) at position 613 replaced by X\r\n"
       ]
      },
      {
       "output_type": "stream",
       "stream": "stdout",
       "text": [
        "Selenocysteine (U) at position 637 replaced by X\r\n",
        "Selenocysteine (U) at position 637 replaced by X\r\n",
        "Selenocysteine (U) at position 690 replaced by X\r\n",
        "Selenocysteine (U) at position 690 replaced by X\r\n",
        "Selenocysteine (U) at position 690 replaced by X\r\n"
       ]
      },
      {
       "output_type": "stream",
       "stream": "stdout",
       "text": [
        "Selenocysteine (U) at position 637 replaced by X\r\n",
        "Selenocysteine (U) at position 637 replaced by X\r\n",
        "Selenocysteine (U) at position 690 replaced by X\r\n"
       ]
      },
      {
       "output_type": "stream",
       "stream": "stdout",
       "text": [
        "Selenocysteine (U) at position 690 replaced by X\r\n"
       ]
      },
      {
       "output_type": "stream",
       "stream": "stdout",
       "text": [
        "Selenocysteine (U) at position 613 replaced by X\r\n",
        "Selenocysteine (U) at position 613 replaced by X\r\n"
       ]
      },
      {
       "output_type": "stream",
       "stream": "stdout",
       "text": [
        "Selenocysteine (U) at position 637 replaced by X\r\n",
        "Selenocysteine (U) at position 690 replaced by X\r\n",
        "Selenocysteine (U) at position 690 replaced by X\r\n"
       ]
      },
      {
       "output_type": "stream",
       "stream": "stdout",
       "text": [
        "Selenocysteine (U) at position 92 replaced by X\r\n"
       ]
      },
      {
       "output_type": "stream",
       "stream": "stdout",
       "text": [
        "Selenocysteine (U) at position 92 replaced by X\r\n",
        "Selenocysteine (U) at position 92 replaced by X\r\n",
        "Selenocysteine (U) at position 92 replaced by X\r\n"
       ]
      },
      {
       "output_type": "stream",
       "stream": "stdout",
       "text": [
        "Selenocysteine (U) at position 637 replaced by X\r\n",
        "Selenocysteine (U) at position 690 replaced by X\r\n"
       ]
      },
      {
       "output_type": "stream",
       "stream": "stdout",
       "text": [
        "Selenocysteine (U) at position 84 replaced by X\r\n"
       ]
      },
      {
       "output_type": "stream",
       "stream": "stdout",
       "text": [
        "Selenocysteine (U) at position 637 replaced by X\r\n"
       ]
      },
      {
       "output_type": "stream",
       "stream": "stdout",
       "text": [
        "Selenocysteine (U) at position 690 replaced by X\r\n"
       ]
      },
      {
       "output_type": "stream",
       "stream": "stdout",
       "text": [
        "Selenocysteine (U) at position 59 replaced by X\r\n",
        "Selenocysteine (U) at position 264 replaced by X\r\n",
        "Selenocysteine (U) at position 282 replaced by X\r\n",
        "Selenocysteine (U) at position 323 replaced by X\r\n",
        "Selenocysteine (U) at position 335 replaced by X\r\n",
        "Selenocysteine (U) at position 357 replaced by X\r\n",
        "Selenocysteine (U) at position 371 replaced by X\r\n",
        "Selenocysteine (U) at position 373 replaced by X\r\n",
        "Selenocysteine (U) at position 380 replaced by X\r\n",
        "Selenocysteine (U) at position 382 replaced by X\r\n"
       ]
      },
      {
       "output_type": "stream",
       "stream": "stdout",
       "text": [
        "Selenocysteine (U) at position 648 replaced by X\r\n"
       ]
      },
      {
       "output_type": "stream",
       "stream": "stdout",
       "text": [
        "Selenocysteine (U) at position 25 replaced by X\r\n"
       ]
      },
      {
       "output_type": "stream",
       "stream": "stdout",
       "text": [
        "Selenocysteine (U) at position 41 replaced by X\r\n"
       ]
      },
      {
       "output_type": "stream",
       "stream": "stdout",
       "text": [
        "Selenocysteine (U) at position 13 replaced by X\r\n"
       ]
      },
      {
       "output_type": "stream",
       "stream": "stdout",
       "text": [
        "Selenocysteine (U) at position 16 replaced by X\r\n"
       ]
      },
      {
       "output_type": "stream",
       "stream": "stdout",
       "text": [
        "Selenocysteine (U) at position 129 replaced by X\r\n"
       ]
      },
      {
       "output_type": "stream",
       "stream": "stdout",
       "text": [
        "Selenocysteine (U) at position 16 replaced by X\r\n"
       ]
      },
      {
       "output_type": "stream",
       "stream": "stdout",
       "text": [
        "Selenocysteine (U) at position 24 replaced by X\r\n"
       ]
      },
      {
       "output_type": "stream",
       "stream": "stdout",
       "text": [
        "Selenocysteine (U) at position 690 replaced by X\r\n"
       ]
      },
      {
       "output_type": "stream",
       "stream": "stdout",
       "text": [
        "Selenocysteine (U) at position 126 replaced by X\r\n",
        "Selenocysteine (U) at position 126 replaced by X\r\n"
       ]
      },
      {
       "output_type": "stream",
       "stream": "stdout",
       "text": [
        "Selenocysteine (U) at position 498 replaced by X\r\n",
        "Selenocysteine (U) at position 648 replaced by X\r\n",
        "Selenocysteine (U) at position 498 replaced by X\r\n",
        "Selenocysteine (U) at position 498 replaced by X\r\n"
       ]
      },
      {
       "output_type": "stream",
       "stream": "stdout",
       "text": [
        "Selenocysteine (U) at position 204 replaced by X\r\n"
       ]
      },
      {
       "output_type": "stream",
       "stream": "stdout",
       "text": [
        "Selenocysteine (U) at position 204 replaced by X\r\n",
        "Selenocysteine (U) at position 204 replaced by X\r\n",
        "Selenocysteine (U) at position 204 replaced by X\r\n"
       ]
      },
      {
       "output_type": "stream",
       "stream": "stdout",
       "text": [
        "Selenocysteine (U) at position 637 replaced by X\r\n"
       ]
      },
      {
       "output_type": "stream",
       "stream": "stdout",
       "text": [
        "Selenocysteine (U) at position 15 replaced by X\r\n",
        "Selenocysteine (U) at position 15 replaced by X\r\n",
        "Selenocysteine (U) at position 15 replaced by X\r\n"
       ]
      },
      {
       "output_type": "stream",
       "stream": "stdout",
       "text": [
        "Selenocysteine (U) at position 15 replaced by X\r\n"
       ]
      },
      {
       "output_type": "stream",
       "stream": "stdout",
       "text": [
        "Selenocysteine (U) at position 44 replaced by X\r\n",
        "Selenocysteine (U) at position 44 replaced by X\r\n",
        "Selenocysteine (U) at position 44 replaced by X\r\n"
       ]
      },
      {
       "output_type": "stream",
       "stream": "stdout",
       "text": [
        "Selenocysteine (U) at position 510 replaced by X\r\n"
       ]
      },
      {
       "output_type": "stream",
       "stream": "stdout",
       "text": [
        "Selenocysteine (U) at position 690 replaced by X\r\n"
       ]
      },
      {
       "output_type": "stream",
       "stream": "stdout",
       "text": [
        "Selenocysteine (U) at position 387 replaced by X\r\n"
       ]
      },
      {
       "output_type": "stream",
       "stream": "stdout",
       "text": [
        "Selenocysteine (U) at position 387 replaced by X\r\n",
        "Selenocysteine (U) at position 387 replaced by X\r\n"
       ]
      },
      {
       "output_type": "stream",
       "stream": "stdout",
       "text": [
        "Selenocysteine (U) at position 387 replaced by X\r\n",
        "Selenocysteine (U) at position 387 replaced by X\r\n"
       ]
      },
      {
       "output_type": "stream",
       "stream": "stdout",
       "text": [
        "Selenocysteine (U) at position 59 replaced by X\r\n",
        "Selenocysteine (U) at position 267 replaced by X\r\n",
        "Selenocysteine (U) at position 273 replaced by X\r\n",
        "Selenocysteine (U) at position 279 replaced by X\r\n",
        "Selenocysteine (U) at position 290 replaced by X\r\n",
        "Selenocysteine (U) at position 292 replaced by X\r\n",
        "Selenocysteine (U) at position 294 replaced by X\r\n",
        "Selenocysteine (U) at position 310 replaced by X\r\n",
        "Selenocysteine (U) at position 320 replaced by X\r\n",
        "Selenocysteine (U) at position 322 replaced by X\r\n",
        "Selenocysteine (U) at position 336 replaced by X\r\n",
        "Selenocysteine (U) at position 338 replaced by X\r\n",
        "Selenocysteine (U) at position 346 replaced by X\r\n",
        "Selenocysteine (U) at position 353 replaced by X\r\n",
        "Selenocysteine (U) at position 355 replaced by X\r\n",
        "Selenocysteine (U) at position 362 replaced by X\r\n",
        "Selenocysteine (U) at position 364 replaced by X\r\n"
       ]
      },
      {
       "output_type": "stream",
       "stream": "stdout",
       "text": [
        "Selenocysteine (U) at position 387 replaced by X\r\n",
        "Selenocysteine (U) at position 387 replaced by X\r\n"
       ]
      },
      {
       "output_type": "stream",
       "stream": "stdout",
       "text": [
        "Selenocysteine (U) at position 47 replaced by X\r\n"
       ]
      },
      {
       "output_type": "stream",
       "stream": "stdout",
       "text": [
        "Selenocysteine (U) at position 47 replaced by X\r\n"
       ]
      },
      {
       "output_type": "stream",
       "stream": "stdout",
       "text": [
        "Selenocysteine (U) at position 523 replaced by X\r\n"
       ]
      },
      {
       "output_type": "stream",
       "stream": "stdout",
       "text": [
        "Selenocysteine (U) at position 131 replaced by X\r\n"
       ]
      },
      {
       "output_type": "stream",
       "stream": "stdout",
       "text": [
        "Selenocysteine (U) at position 430 replaced by X\r\n"
       ]
      },
      {
       "output_type": "stream",
       "stream": "stdout",
       "text": [
        "Selenocysteine (U) at position 666 replaced by X\r\n"
       ]
      },
      {
       "output_type": "stream",
       "stream": "stdout",
       "text": [
        "Selenocysteine (U) at position 59 replaced by X\r\n",
        "Selenocysteine (U) at position 267 replaced by X\r\n",
        "Selenocysteine (U) at position 273 replaced by X\r\n",
        "Selenocysteine (U) at position 279 replaced by X\r\n",
        "Selenocysteine (U) at position 290 replaced by X\r\n",
        "Selenocysteine (U) at position 292 replaced by X\r\n",
        "Selenocysteine (U) at position 294 replaced by X\r\n",
        "Selenocysteine (U) at position 310 replaced by X\r\n",
        "Selenocysteine (U) at position 320 replaced by X\r\n",
        "Selenocysteine (U) at position 322 replaced by X\r\n",
        "Selenocysteine (U) at position 336 replaced by X\r\n",
        "Selenocysteine (U) at position 338 replaced by X\r\n",
        "Selenocysteine (U) at position 346 replaced by X\r\n",
        "Selenocysteine (U) at position 353 replaced by X\r\n",
        "Selenocysteine (U) at position 355 replaced by X\r\n",
        "Selenocysteine (U) at position 362 replaced by X\r\n",
        "Selenocysteine (U) at position 364 replaced by X\r\n",
        "Selenocysteine (U) at position 47 replaced by X\r\n"
       ]
      },
      {
       "output_type": "stream",
       "stream": "stdout",
       "text": [
        "Selenocysteine (U) at position 73 replaced by X\r\n",
        "Selenocysteine (U) at position 73 replaced by X\r\n",
        "Selenocysteine (U) at position 73 replaced by X\r\n",
        "Selenocysteine (U) at position 73 replaced by X\r\n"
       ]
      },
      {
       "output_type": "stream",
       "stream": "stdout",
       "text": [
        "Selenocysteine (U) at position 65 replaced by X\r\n"
       ]
      },
      {
       "output_type": "stream",
       "stream": "stdout",
       "text": [
        "Selenocysteine (U) at position 47 replaced by X\r\n",
        "Selenocysteine (U) at position 47 replaced by X\r\n"
       ]
      },
      {
       "output_type": "stream",
       "stream": "stdout",
       "text": [
        "Selenocysteine (U) at position 498 replaced by X\r\n"
       ]
      },
      {
       "output_type": "stream",
       "stream": "stdout",
       "text": [
        "Selenocysteine (U) at position 690 replaced by X\r\n"
       ]
      },
      {
       "output_type": "stream",
       "stream": "stdout",
       "text": [
        "Selenocysteine (U) at position 388 replaced by X\r\n"
       ]
      },
      {
       "output_type": "stream",
       "stream": "stdout",
       "text": [
        "Selenocysteine (U) at position 494 replaced by X\r\n"
       ]
      },
      {
       "output_type": "stream",
       "stream": "stdout",
       "text": [
        "Selenocysteine (U) at position 637 replaced by X\r\n"
       ]
      },
      {
       "output_type": "stream",
       "stream": "stdout",
       "text": [
        "Selenocysteine (U) at position 667 replaced by X\r\n"
       ]
      },
      {
       "output_type": "stream",
       "stream": "stdout",
       "text": [
        "Selenocysteine (U) at position 41 replaced by X\r\n"
       ]
      },
      {
       "output_type": "stream",
       "stream": "stdout",
       "text": [
        "Selenocysteine (U) at position 494 replaced by X\r\n"
       ]
      },
      {
       "output_type": "stream",
       "stream": "stdout",
       "text": [
        "Selenocysteine (U) at position 132 replaced by X\r\n"
       ]
      },
      {
       "output_type": "stream",
       "stream": "stdout",
       "text": [
        "Selenocysteine (U) at position 690 replaced by X\r\n"
       ]
      },
      {
       "output_type": "stream",
       "stream": "stdout",
       "text": [
        "Selenocysteine (U) at position 350 replaced by X\r\n"
       ]
      },
      {
       "output_type": "stream",
       "stream": "stdout",
       "text": [
        "Selenocysteine (U) at position 613 replaced by X\r\n",
        "Selenocysteine (U) at position 613 replaced by X\r\n",
        "Selenocysteine (U) at position 613 replaced by X\r\n",
        "Selenocysteine (U) at position 613 replaced by X\r\n"
       ]
      },
      {
       "output_type": "stream",
       "stream": "stdout",
       "text": [
        "Selenocysteine (U) at position 75 replaced by X\r\n",
        "Selenocysteine (U) at position 43 replaced by X\r\n",
        "Selenocysteine (U) at position 43 replaced by X\r\n",
        "Selenocysteine (U) at position 73 replaced by X\r\n",
        "Selenocysteine (U) at position 73 replaced by X\r\n",
        "Selenocysteine (U) at position 73 replaced by X\r\n",
        "Selenocysteine (U) at position 73 replaced by X\r\n",
        "Selenocysteine (U) at position 73 replaced by X\r\n",
        "Selenocysteine (U) at position 73 replaced by X\r\n",
        "Selenocysteine (U) at position 73 replaced by X\r\n",
        "Selenocysteine (U) at position 129 replaced by X\r\n",
        "Selenocysteine (U) at position 129 replaced by X\r\n",
        "Selenocysteine (U) at position 129 replaced by X\r\n",
        "Selenocysteine (U) at position 129 replaced by X\r\n",
        "Selenocysteine (U) at position 129 replaced by X\r\n",
        "Selenocysteine (U) at position 129 replaced by X\r\n",
        "Selenocysteine (U) at position 73 replaced by X\r\n",
        "Selenocysteine (U) at position 73 replaced by X\r\n",
        "Selenocysteine (U) at position 73 replaced by X\r\n",
        "Selenocysteine (U) at position 73 replaced by X\r\n",
        "Selenocysteine (U) at position 73 replaced by X\r\n",
        "Selenocysteine (U) at position 73 replaced by X\r\n",
        "Selenocysteine (U) at position 73 replaced by X\r\n",
        "Selenocysteine (U) at position 73 replaced by X\r\n",
        "Selenocysteine (U) at position 73 replaced by X\r\n",
        "Selenocysteine (U) at position 73 replaced by X\r\n",
        "Selenocysteine (U) at position 73 replaced by X\r\n",
        "Selenocysteine (U) at position 73 replaced by X\r\n",
        "Selenocysteine (U) at position 73 replaced by X\r\n",
        "Selenocysteine (U) at position 73 replaced by X\r\n",
        "Selenocysteine (U) at position 73 replaced by X\r\n",
        "Selenocysteine (U) at position 73 replaced by X\r\n",
        "Selenocysteine (U) at position 73 replaced by X\r\n"
       ]
      },
      {
       "output_type": "stream",
       "stream": "stdout",
       "text": [
        "Selenocysteine (U) at position 59 replaced by X\r\n",
        "Selenocysteine (U) at position 267 replaced by X\r\n",
        "Selenocysteine (U) at position 273 replaced by X\r\n",
        "Selenocysteine (U) at position 279 replaced by X\r\n",
        "Selenocysteine (U) at position 290 replaced by X\r\n",
        "Selenocysteine (U) at position 292 replaced by X\r\n",
        "Selenocysteine (U) at position 294 replaced by X\r\n",
        "Selenocysteine (U) at position 310 replaced by X\r\n",
        "Selenocysteine (U) at position 320 replaced by X\r\n",
        "Selenocysteine (U) at position 322 replaced by X\r\n",
        "Selenocysteine (U) at position 336 replaced by X\r\n",
        "Selenocysteine (U) at position 338 replaced by X\r\n",
        "Selenocysteine (U) at position 346 replaced by X\r\n",
        "Selenocysteine (U) at position 353 replaced by X\r\n",
        "Selenocysteine (U) at position 355 replaced by X\r\n",
        "Selenocysteine (U) at position 362 replaced by X\r\n",
        "Selenocysteine (U) at position 364 replaced by X\r\n",
        "Selenocysteine (U) at position 59 replaced by X\r\n",
        "Selenocysteine (U) at position 267 replaced by X\r\n",
        "Selenocysteine (U) at position 273 replaced by X\r\n",
        "Selenocysteine (U) at position 279 replaced by X\r\n",
        "Selenocysteine (U) at position 290 replaced by X\r\n",
        "Selenocysteine (U) at position 292 replaced by X\r\n",
        "Selenocysteine (U) at position 294 replaced by X\r\n",
        "Selenocysteine (U) at position 310 replaced by X\r\n",
        "Selenocysteine (U) at position 320 replaced by X\r\n",
        "Selenocysteine (U) at position 322 replaced by X\r\n",
        "Selenocysteine (U) at position 336 replaced by X\r\n",
        "Selenocysteine (U) at position 338 replaced by X\r\n",
        "Selenocysteine (U) at position 346 replaced by X\r\n",
        "Selenocysteine (U) at position 353 replaced by X\r\n",
        "Selenocysteine (U) at position 355 replaced by X\r\n",
        "Selenocysteine (U) at position 362 replaced by X\r\n",
        "Selenocysteine (U) at position 364 replaced by X\r\n",
        "Selenocysteine (U) at position 59 replaced by X\r\n",
        "Selenocysteine (U) at position 267 replaced by X\r\n",
        "Selenocysteine (U) at position 273 replaced by X\r\n",
        "Selenocysteine (U) at position 279 replaced by X\r\n",
        "Selenocysteine (U) at position 290 replaced by X\r\n",
        "Selenocysteine (U) at position 292 replaced by X\r\n",
        "Selenocysteine (U) at position 294 replaced by X\r\n",
        "Selenocysteine (U) at position 310 replaced by X\r\n",
        "Selenocysteine (U) at position 320 replaced by X\r\n",
        "Selenocysteine (U) at position 322 replaced by X\r\n",
        "Selenocysteine (U) at position 336 replaced by X\r\n",
        "Selenocysteine (U) at position 338 replaced by X\r\n",
        "Selenocysteine (U) at position 346 replaced by X\r\n",
        "Selenocysteine (U) at position 353 replaced by X\r\n",
        "Selenocysteine (U) at position 355 replaced by X\r\n",
        "Selenocysteine (U) at position 362 replaced by X\r\n",
        "Selenocysteine (U) at position 364 replaced by X\r\n",
        "Selenocysteine (U) at position 59 replaced by X\r\n",
        "Selenocysteine (U) at position 267 replaced by X\r\n",
        "Selenocysteine (U) at position 273 replaced by X\r\n",
        "Selenocysteine (U) at position 279 replaced by X\r\n",
        "Selenocysteine (U) at position 290 replaced by X\r\n",
        "Selenocysteine (U) at position 292 replaced by X\r\n",
        "Selenocysteine (U) at position 294 replaced by X\r\n",
        "Selenocysteine (U) at position 310 replaced by X\r\n",
        "Selenocysteine (U) at position 320 replaced by X\r\n",
        "Selenocysteine (U) at position 322 replaced by X\r\n",
        "Selenocysteine (U) at position 336 replaced by X\r\n",
        "Selenocysteine (U) at position 338 replaced by X\r\n",
        "Selenocysteine (U) at position 346 replaced by X\r\n",
        "Selenocysteine (U) at position 353 replaced by X\r\n",
        "Selenocysteine (U) at position 355 replaced by X\r\n",
        "Selenocysteine (U) at position 362 replaced by X\r\n",
        "Selenocysteine (U) at position 364 replaced by X\r\n",
        "Selenocysteine (U) at position 59 replaced by X\r\n",
        "Selenocysteine (U) at position 267 replaced by X\r\n",
        "Selenocysteine (U) at position 273 replaced by X\r\n",
        "Selenocysteine (U) at position 279 replaced by X\r\n",
        "Selenocysteine (U) at position 290 replaced by X\r\n",
        "Selenocysteine (U) at position 292 replaced by X\r\n",
        "Selenocysteine (U) at position 294 replaced by X\r\n",
        "Selenocysteine (U) at position 310 replaced by X\r\n",
        "Selenocysteine (U) at position 320 replaced by X\r\n",
        "Selenocysteine (U) at position 322 replaced by X\r\n",
        "Selenocysteine (U) at position 336 replaced by X\r\n",
        "Selenocysteine (U) at position 338 replaced by X\r\n",
        "Selenocysteine (U) at position 346 replaced by X\r\n",
        "Selenocysteine (U) at position 353 replaced by X\r\n",
        "Selenocysteine (U) at position 355 replaced by X\r\n",
        "Selenocysteine (U) at position 362 replaced by X\r\n",
        "Selenocysteine (U) at position 364 replaced by X\r\n",
        "Selenocysteine (U) at position 59 replaced by X\r\n",
        "Selenocysteine (U) at position 267 replaced by X\r\n",
        "Selenocysteine (U) at position 273 replaced by X\r\n",
        "Selenocysteine (U) at position 279 replaced by X\r\n",
        "Selenocysteine (U) at position 290 replaced by X\r\n",
        "Selenocysteine (U) at position 292 replaced by X\r\n",
        "Selenocysteine (U) at position 294 replaced by X\r\n",
        "Selenocysteine (U) at position 310 replaced by X\r\n",
        "Selenocysteine (U) at position 320 replaced by X\r\n",
        "Selenocysteine (U) at position 322 replaced by X\r\n",
        "Selenocysteine (U) at position 336 replaced by X\r\n",
        "Selenocysteine (U) at position 338 replaced by X\r\n",
        "Selenocysteine (U) at position 346 replaced by X\r\n",
        "Selenocysteine (U) at position 353 replaced by X\r\n",
        "Selenocysteine (U) at position 355 replaced by X\r\n",
        "Selenocysteine (U) at position 362 replaced by X\r\n",
        "Selenocysteine (U) at position 364 replaced by X\r\n",
        "Selenocysteine (U) at position 64 replaced by X\r\n",
        "Selenocysteine (U) at position 64 replaced by X\r\n",
        "Selenocysteine (U) at position 64 replaced by X\r\n",
        "Selenocysteine (U) at position 64 replaced by X\r\n",
        "Selenocysteine (U) at position 59 replaced by X\r\n",
        "Selenocysteine (U) at position 297 replaced by X\r\n",
        "Selenocysteine (U) at position 307 replaced by X\r\n",
        "Selenocysteine (U) at position 338 replaced by X\r\n",
        "Selenocysteine (U) at position 350 replaced by X\r\n",
        "Selenocysteine (U) at position 363 replaced by X\r\n",
        "Selenocysteine (U) at position 365 replaced by X\r\n",
        "Selenocysteine (U) at position 372 replaced by X\r\n",
        "Selenocysteine (U) at position 388 replaced by X\r\n",
        "Selenocysteine (U) at position 390 replaced by X\r\n",
        "Selenocysteine (U) at position 397 replaced by X\r\n",
        "Selenocysteine (U) at position 399 replaced by X\r\n",
        "Selenocysteine (U) at position 59 replaced by X\r\n",
        "Selenocysteine (U) at position 297 replaced by X\r\n",
        "Selenocysteine (U) at position 307 replaced by X\r\n",
        "Selenocysteine (U) at position 338 replaced by X\r\n",
        "Selenocysteine (U) at position 350 replaced by X\r\n",
        "Selenocysteine (U) at position 363 replaced by X\r\n",
        "Selenocysteine (U) at position 365 replaced by X\r\n",
        "Selenocysteine (U) at position 372 replaced by X\r\n",
        "Selenocysteine (U) at position 388 replaced by X\r\n",
        "Selenocysteine (U) at position 390 replaced by X\r\n",
        "Selenocysteine (U) at position 397 replaced by X\r\n",
        "Selenocysteine (U) at position 399 replaced by X\r\n",
        "Selenocysteine (U) at position 59 replaced by X\r\n",
        "Selenocysteine (U) at position 297 replaced by X\r\n",
        "Selenocysteine (U) at position 307 replaced by X\r\n",
        "Selenocysteine (U) at position 338 replaced by X\r\n",
        "Selenocysteine (U) at position 350 replaced by X\r\n",
        "Selenocysteine (U) at position 363 replaced by X\r\n",
        "Selenocysteine (U) at position 365 replaced by X\r\n",
        "Selenocysteine (U) at position 372 replaced by X\r\n",
        "Selenocysteine (U) at position 388 replaced by X\r\n",
        "Selenocysteine (U) at position 390 replaced by X\r\n",
        "Selenocysteine (U) at position 397 replaced by X\r\n",
        "Selenocysteine (U) at position 399 replaced by X\r\n",
        "Selenocysteine (U) at position 59 replaced by X\r\n",
        "Selenocysteine (U) at position 297 replaced by X\r\n",
        "Selenocysteine (U) at position 307 replaced by X\r\n",
        "Selenocysteine (U) at position 338 replaced by X\r\n",
        "Selenocysteine (U) at position 350 replaced by X\r\n",
        "Selenocysteine (U) at position 363 replaced by X\r\n",
        "Selenocysteine (U) at position 365 replaced by X\r\n",
        "Selenocysteine (U) at position 372 replaced by X\r\n",
        "Selenocysteine (U) at position 388 replaced by X\r\n",
        "Selenocysteine (U) at position 390 replaced by X\r\n",
        "Selenocysteine (U) at position 397 replaced by X\r\n",
        "Selenocysteine (U) at position 399 replaced by X\r\n",
        "Selenocysteine (U) at position 59 replaced by X\r\n",
        "Selenocysteine (U) at position 297 replaced by X\r\n",
        "Selenocysteine (U) at position 307 replaced by X\r\n",
        "Selenocysteine (U) at position 338 replaced by X\r\n",
        "Selenocysteine (U) at position 350 replaced by X\r\n",
        "Selenocysteine (U) at position 363 replaced by X\r\n",
        "Selenocysteine (U) at position 365 replaced by X\r\n",
        "Selenocysteine (U) at position 372 replaced by X\r\n",
        "Selenocysteine (U) at position 388 replaced by X\r\n",
        "Selenocysteine (U) at position 390 replaced by X\r\n",
        "Selenocysteine (U) at position 397 replaced by X\r\n",
        "Selenocysteine (U) at position 399 replaced by X\r\n",
        "Selenocysteine (U) at position 59 replaced by X\r\n",
        "Selenocysteine (U) at position 297 replaced by X\r\n",
        "Selenocysteine (U) at position 307 replaced by X\r\n",
        "Selenocysteine (U) at position 338 replaced by X\r\n",
        "Selenocysteine (U) at position 350 replaced by X\r\n",
        "Selenocysteine (U) at position 363 replaced by X\r\n",
        "Selenocysteine (U) at position 365 replaced by X\r\n",
        "Selenocysteine (U) at position 372 replaced by X\r\n",
        "Selenocysteine (U) at position 388 replaced by X\r\n",
        "Selenocysteine (U) at position 390 replaced by X\r\n",
        "Selenocysteine (U) at position 397 replaced by X\r\n",
        "Selenocysteine (U) at position 399 replaced by X\r\n",
        "Selenocysteine (U) at position 59 replaced by X\r\n",
        "Selenocysteine (U) at position 300 replaced by X\r\n",
        "Selenocysteine (U) at position 318 replaced by X\r\n",
        "Selenocysteine (U) at position 330 replaced by X\r\n",
        "Selenocysteine (U) at position 345 replaced by X\r\n",
        "Selenocysteine (U) at position 352 replaced by X\r\n",
        "Selenocysteine (U) at position 367 replaced by X\r\n",
        "Selenocysteine (U) at position 369 replaced by X\r\n",
        "Selenocysteine (U) at position 376 replaced by X\r\n",
        "Selenocysteine (U) at position 378 replaced by X\r\n",
        "Selenocysteine (U) at position 59 replaced by X\r\n",
        "Selenocysteine (U) at position 300 replaced by X\r\n",
        "Selenocysteine (U) at position 318 replaced by X\r\n",
        "Selenocysteine (U) at position 330 replaced by X\r\n",
        "Selenocysteine (U) at position 345 replaced by X\r\n",
        "Selenocysteine (U) at position 352 replaced by X\r\n",
        "Selenocysteine (U) at position 367 replaced by X\r\n",
        "Selenocysteine (U) at position 369 replaced by X\r\n",
        "Selenocysteine (U) at position 376 replaced by X\r\n",
        "Selenocysteine (U) at position 378 replaced by X\r\n",
        "Selenocysteine (U) at position 59 replaced by X\r\n",
        "Selenocysteine (U) at position 300 replaced by X\r\n",
        "Selenocysteine (U) at position 318 replaced by X\r\n",
        "Selenocysteine (U) at position 330 replaced by X\r\n",
        "Selenocysteine (U) at position 345 replaced by X\r\n",
        "Selenocysteine (U) at position 352 replaced by X\r\n",
        "Selenocysteine (U) at position 367 replaced by X\r\n",
        "Selenocysteine (U) at position 369 replaced by X\r\n",
        "Selenocysteine (U) at position 376 replaced by X\r\n",
        "Selenocysteine (U) at position 378 replaced by X\r\n"
       ]
      },
      {
       "output_type": "stream",
       "stream": "stdout",
       "text": [
        "Selenocysteine (U) at position 59 replaced by X\r\n",
        "Selenocysteine (U) at position 300 replaced by X\r\n",
        "Selenocysteine (U) at position 318 replaced by X\r\n",
        "Selenocysteine (U) at position 330 replaced by X\r\n",
        "Selenocysteine (U) at position 345 replaced by X\r\n",
        "Selenocysteine (U) at position 352 replaced by X\r\n",
        "Selenocysteine (U) at position 367 replaced by X\r\n",
        "Selenocysteine (U) at position 369 replaced by X\r\n",
        "Selenocysteine (U) at position 376 replaced by X\r\n",
        "Selenocysteine (U) at position 378 replaced by X\r\n",
        "Selenocysteine (U) at position 59 replaced by X\r\n",
        "Selenocysteine (U) at position 259 replaced by X\r\n",
        "Selenocysteine (U) at position 277 replaced by X\r\n",
        "Selenocysteine (U) at position 318 replaced by X\r\n",
        "Selenocysteine (U) at position 330 replaced by X\r\n",
        "Selenocysteine (U) at position 352 replaced by X\r\n",
        "Selenocysteine (U) at position 366 replaced by X\r\n",
        "Selenocysteine (U) at position 368 replaced by X\r\n",
        "Selenocysteine (U) at position 375 replaced by X\r\n",
        "Selenocysteine (U) at position 377 replaced by X\r\n",
        "Selenocysteine (U) at position 59 replaced by X\r\n",
        "Selenocysteine (U) at position 259 replaced by X\r\n",
        "Selenocysteine (U) at position 277 replaced by X\r\n",
        "Selenocysteine (U) at position 318 replaced by X\r\n",
        "Selenocysteine (U) at position 330 replaced by X\r\n",
        "Selenocysteine (U) at position 352 replaced by X\r\n",
        "Selenocysteine (U) at position 366 replaced by X\r\n",
        "Selenocysteine (U) at position 368 replaced by X\r\n",
        "Selenocysteine (U) at position 375 replaced by X\r\n",
        "Selenocysteine (U) at position 377 replaced by X\r\n",
        "Selenocysteine (U) at position 59 replaced by X\r\n",
        "Selenocysteine (U) at position 318 replaced by X\r\n",
        "Selenocysteine (U) at position 330 replaced by X\r\n",
        "Selenocysteine (U) at position 345 replaced by X\r\n",
        "Selenocysteine (U) at position 352 replaced by X\r\n",
        "Selenocysteine (U) at position 367 replaced by X\r\n",
        "Selenocysteine (U) at position 369 replaced by X\r\n",
        "Selenocysteine (U) at position 376 replaced by X\r\n",
        "Selenocysteine (U) at position 378 replaced by X\r\n",
        "Selenocysteine (U) at position 59 replaced by X\r\n",
        "Selenocysteine (U) at position 318 replaced by X\r\n",
        "Selenocysteine (U) at position 330 replaced by X\r\n",
        "Selenocysteine (U) at position 345 replaced by X\r\n",
        "Selenocysteine (U) at position 352 replaced by X\r\n",
        "Selenocysteine (U) at position 367 replaced by X\r\n",
        "Selenocysteine (U) at position 369 replaced by X\r\n",
        "Selenocysteine (U) at position 376 replaced by X\r\n",
        "Selenocysteine (U) at position 378 replaced by X\r\n",
        "Selenocysteine (U) at position 59 replaced by X\r\n",
        "Selenocysteine (U) at position 264 replaced by X\r\n",
        "Selenocysteine (U) at position 282 replaced by X\r\n",
        "Selenocysteine (U) at position 323 replaced by X\r\n",
        "Selenocysteine (U) at position 335 replaced by X\r\n",
        "Selenocysteine (U) at position 357 replaced by X\r\n",
        "Selenocysteine (U) at position 371 replaced by X\r\n",
        "Selenocysteine (U) at position 373 replaced by X\r\n",
        "Selenocysteine (U) at position 380 replaced by X\r\n",
        "Selenocysteine (U) at position 382 replaced by X\r\n",
        "Selenocysteine (U) at position 59 replaced by X\r\n",
        "Selenocysteine (U) at position 264 replaced by X\r\n",
        "Selenocysteine (U) at position 282 replaced by X\r\n",
        "Selenocysteine (U) at position 323 replaced by X\r\n",
        "Selenocysteine (U) at position 335 replaced by X\r\n",
        "Selenocysteine (U) at position 357 replaced by X\r\n",
        "Selenocysteine (U) at position 371 replaced by X\r\n",
        "Selenocysteine (U) at position 373 replaced by X\r\n",
        "Selenocysteine (U) at position 380 replaced by X\r\n",
        "Selenocysteine (U) at position 382 replaced by X\r\n",
        "Selenocysteine (U) at position 59 replaced by X\r\n",
        "Selenocysteine (U) at position 264 replaced by X\r\n",
        "Selenocysteine (U) at position 282 replaced by X\r\n",
        "Selenocysteine (U) at position 323 replaced by X\r\n",
        "Selenocysteine (U) at position 335 replaced by X\r\n",
        "Selenocysteine (U) at position 357 replaced by X\r\n",
        "Selenocysteine (U) at position 371 replaced by X\r\n",
        "Selenocysteine (U) at position 373 replaced by X\r\n",
        "Selenocysteine (U) at position 380 replaced by X\r\n",
        "Selenocysteine (U) at position 382 replaced by X\r\n",
        "Selenocysteine (U) at position 59 replaced by X\r\n",
        "Selenocysteine (U) at position 264 replaced by X\r\n",
        "Selenocysteine (U) at position 282 replaced by X\r\n",
        "Selenocysteine (U) at position 323 replaced by X\r\n",
        "Selenocysteine (U) at position 335 replaced by X\r\n",
        "Selenocysteine (U) at position 357 replaced by X\r\n",
        "Selenocysteine (U) at position 371 replaced by X\r\n",
        "Selenocysteine (U) at position 373 replaced by X\r\n",
        "Selenocysteine (U) at position 380 replaced by X\r\n",
        "Selenocysteine (U) at position 382 replaced by X\r\n"
       ]
      },
      {
       "output_type": "stream",
       "stream": "stdout",
       "text": [
        "Selenocysteine (U) at position 59 replaced by X\r\n",
        "Selenocysteine (U) at position 297 replaced by X\r\n",
        "Selenocysteine (U) at position 307 replaced by X\r\n",
        "Selenocysteine (U) at position 338 replaced by X\r\n",
        "Selenocysteine (U) at position 350 replaced by X\r\n",
        "Selenocysteine (U) at position 363 replaced by X\r\n",
        "Selenocysteine (U) at position 365 replaced by X\r\n",
        "Selenocysteine (U) at position 372 replaced by X\r\n",
        "Selenocysteine (U) at position 388 replaced by X\r\n",
        "Selenocysteine (U) at position 390 replaced by X\r\n",
        "Selenocysteine (U) at position 397 replaced by X\r\n",
        "Selenocysteine (U) at position 399 replaced by X\r\n"
       ]
      },
      {
       "output_type": "stream",
       "stream": "stdout",
       "text": [
        "Selenocysteine (U) at position 387 replaced by X\r\n",
        "Selenocysteine (U) at position 387 replaced by X\r\n",
        "Selenocysteine (U) at position 387 replaced by X\r\n"
       ]
      },
      {
       "output_type": "stream",
       "stream": "stdout",
       "text": [
        "Selenocysteine (U) at position 129 replaced by X\r\n",
        "Selenocysteine (U) at position 129 replaced by X\r\n"
       ]
      },
      {
       "output_type": "stream",
       "stream": "stdout",
       "text": [
        "Selenocysteine (U) at position 350 replaced by X\r\n"
       ]
      },
      {
       "output_type": "stream",
       "stream": "stdout",
       "text": [
        "Selenocysteine (U) at position 612 replaced by X\r\n"
       ]
      },
      {
       "output_type": "stream",
       "stream": "stdout",
       "text": [
        "Selenocysteine (U) at position 350 replaced by X\r\n"
       ]
      },
      {
       "output_type": "stream",
       "stream": "stdout",
       "text": [
        "Selenocysteine (U) at position 612 replaced by X\r\n"
       ]
      },
      {
       "output_type": "stream",
       "stream": "stdout",
       "text": [
        "Selenocysteine (U) at position 690 replaced by X\r\n"
       ]
      },
      {
       "output_type": "stream",
       "stream": "stdout",
       "text": [
        "Selenocysteine (U) at position 667 replaced by X\r\n",
        "Selenocysteine (U) at position 665 replaced by X\r\n"
       ]
      },
      {
       "output_type": "stream",
       "stream": "stdout",
       "text": [
        "Selenocysteine (U) at position 59 replaced by X\r\n",
        "Selenocysteine (U) at position 267 replaced by X\r\n",
        "Selenocysteine (U) at position 273 replaced by X\r\n",
        "Selenocysteine (U) at position 279 replaced by X\r\n",
        "Selenocysteine (U) at position 290 replaced by X\r\n",
        "Selenocysteine (U) at position 292 replaced by X\r\n",
        "Selenocysteine (U) at position 294 replaced by X\r\n",
        "Selenocysteine (U) at position 310 replaced by X\r\n",
        "Selenocysteine (U) at position 320 replaced by X\r\n",
        "Selenocysteine (U) at position 322 replaced by X\r\n",
        "Selenocysteine (U) at position 336 replaced by X\r\n",
        "Selenocysteine (U) at position 338 replaced by X\r\n",
        "Selenocysteine (U) at position 346 replaced by X\r\n",
        "Selenocysteine (U) at position 353 replaced by X\r\n",
        "Selenocysteine (U) at position 355 replaced by X\r\n",
        "Selenocysteine (U) at position 362 replaced by X\r\n",
        "Selenocysteine (U) at position 364 replaced by X\r\n"
       ]
      },
      {
       "output_type": "stream",
       "stream": "stdout",
       "text": [
        "Selenocysteine (U) at position 193 replaced by X\r\n",
        "Selenocysteine (U) at position 193 replaced by X\r\n"
       ]
      },
      {
       "output_type": "stream",
       "stream": "stdout",
       "text": [
        "Selenocysteine (U) at position 64 replaced by X\r\n"
       ]
      },
      {
       "output_type": "stream",
       "stream": "stdout",
       "text": [
        "Selenocysteine (U) at position 613 replaced by X\r\n",
        "Selenocysteine (U) at position 613 replaced by X\r\n",
        "Selenocysteine (U) at position 613 replaced by X\r\n",
        "Selenocysteine (U) at position 613 replaced by X\r\n",
        "Selenocysteine (U) at position 613 replaced by X\r\n"
       ]
      },
      {
       "output_type": "stream",
       "stream": "stdout",
       "text": [
        "Selenocysteine (U) at position 16 replaced by X\r\n"
       ]
      },
      {
       "output_type": "stream",
       "stream": "stdout",
       "text": [
        "Selenocysteine (U) at position 16 replaced by X\r\n",
        "Selenocysteine (U) at position 16 replaced by X\r\n"
       ]
      },
      {
       "output_type": "stream",
       "stream": "stdout",
       "text": [
        "Selenocysteine (U) at position 193 replaced by X\r\n"
       ]
      },
      {
       "output_type": "stream",
       "stream": "stdout",
       "text": [
        "Selenocysteine (U) at position 121 replaced by X\r\n",
        "Selenocysteine (U) at position 120 replaced by X\r\n"
       ]
      },
      {
       "output_type": "stream",
       "stream": "stdout",
       "text": [
        "Selenocysteine (U) at position 436 replaced by X\r\n"
       ]
      },
      {
       "output_type": "stream",
       "stream": "stdout",
       "text": [
        "Selenocysteine (U) at position 613 replaced by X\r\n",
        "Selenocysteine (U) at position 613 replaced by X\r\n",
        "Selenocysteine (U) at position 613 replaced by X\r\n",
        "Selenocysteine (U) at position 613 replaced by X\r\n",
        "Selenocysteine (U) at position 613 replaced by X\r\n",
        "Selenocysteine (U) at position 613 replaced by X\r\n",
        "Selenocysteine (U) at position 613 replaced by X\r\n",
        "Selenocysteine (U) at position 613 replaced by X\r\n",
        "Selenocysteine (U) at position 613 replaced by X\r\n",
        "Selenocysteine (U) at position 613 replaced by X\r\n"
       ]
      },
      {
       "output_type": "stream",
       "stream": "stdout",
       "text": [
        "Selenocysteine (U) at position 613 replaced by X\r\n",
        "Selenocysteine (U) at position 613 replaced by X\r\n"
       ]
      },
      {
       "output_type": "stream",
       "stream": "stdout",
       "text": [
        "Selenocysteine (U) at position 121 replaced by X\r\n",
        "Selenocysteine (U) at position 123 replaced by X\r\n",
        "Selenocysteine (U) at position 121 replaced by X\r\n",
        "Selenocysteine (U) at position 126 replaced by X\r\n",
        "Selenocysteine (U) at position 126 replaced by X\r\n",
        "Selenocysteine (U) at position 126 replaced by X\r\n",
        "Selenocysteine (U) at position 126 replaced by X\r\n",
        "Selenocysteine (U) at position 126 replaced by X\r\n",
        "Selenocysteine (U) at position 126 replaced by X\r\n",
        "Selenocysteine (U) at position 126 replaced by X\r\n",
        "Selenocysteine (U) at position 126 replaced by X\r\n",
        "Selenocysteine (U) at position 130 replaced by X\r\n",
        "Selenocysteine (U) at position 133 replaced by X\r\n",
        "Selenocysteine (U) at position 266 replaced by X\r\n",
        "Selenocysteine (U) at position 132 replaced by X\r\n",
        "Selenocysteine (U) at position 265 replaced by X\r\n",
        "Selenocysteine (U) at position 134 replaced by X\r\n",
        "Selenocysteine (U) at position 133 replaced by X\r\n",
        "Selenocysteine (U) at position 266 replaced by X\r\n",
        "Selenocysteine (U) at position 124 replaced by X\r\n",
        "Selenocysteine (U) at position 130 replaced by X\r\n",
        "Selenocysteine (U) at position 263 replaced by X\r\n",
        "Selenocysteine (U) at position 128 replaced by X\r\n",
        "Selenocysteine (U) at position 261 replaced by X\r\n",
        "Selenocysteine (U) at position 133 replaced by X\r\n",
        "Selenocysteine (U) at position 266 replaced by X\r\n",
        "Selenocysteine (U) at position 130 replaced by X\r\n",
        "Selenocysteine (U) at position 263 replaced by X\r\n",
        "Selenocysteine (U) at position 144 replaced by X\r\n",
        "Selenocysteine (U) at position 122 replaced by X\r\n",
        "Selenocysteine (U) at position 144 replaced by X\r\n",
        "Selenocysteine (U) at position 133 replaced by X\r\n",
        "Selenocysteine (U) at position 144 replaced by X\r\n",
        "Selenocysteine (U) at position 144 replaced by X\r\n",
        "Selenocysteine (U) at position 144 replaced by X\r\n",
        "Selenocysteine (U) at position 144 replaced by X\r\n",
        "Selenocysteine (U) at position 131 replaced by X\r\n",
        "Selenocysteine (U) at position 132 replaced by X\r\n"
       ]
      },
      {
       "output_type": "stream",
       "stream": "stdout",
       "text": [
        "Selenocysteine (U) at position 109 replaced by X\r\n"
       ]
      },
      {
       "output_type": "stream",
       "stream": "stdout",
       "text": [
        "Selenocysteine (U) at position 84 replaced by X\r\n",
        "Selenocysteine (U) at position 24 replaced by X\r\n"
       ]
      },
      {
       "output_type": "stream",
       "stream": "stdout",
       "text": [
        "Selenocysteine (U) at position 612 replaced by X\r\n",
        "Selenocysteine (U) at position 498 replaced by X\r\n"
       ]
      },
      {
       "output_type": "stream",
       "stream": "stdout",
       "text": [
        "Selenocysteine (U) at position 196 replaced by X\r\n"
       ]
      },
      {
       "output_type": "stream",
       "stream": "stdout",
       "text": [
        "Selenocysteine (U) at position 59 replaced by X\r\n",
        "Selenocysteine (U) at position 297 replaced by X\r\n",
        "Selenocysteine (U) at position 307 replaced by X\r\n",
        "Selenocysteine (U) at position 338 replaced by X\r\n",
        "Selenocysteine (U) at position 350 replaced by X\r\n",
        "Selenocysteine (U) at position 363 replaced by X\r\n",
        "Selenocysteine (U) at position 365 replaced by X\r\n",
        "Selenocysteine (U) at position 372 replaced by X\r\n",
        "Selenocysteine (U) at position 388 replaced by X\r\n",
        "Selenocysteine (U) at position 390 replaced by X\r\n",
        "Selenocysteine (U) at position 397 replaced by X\r\n",
        "Selenocysteine (U) at position 399 replaced by X\r\n"
       ]
      },
      {
       "output_type": "stream",
       "stream": "stdout",
       "text": [
        "Selenocysteine (U) at position 59 replaced by X\r\n",
        "Selenocysteine (U) at position 297 replaced by X\r\n",
        "Selenocysteine (U) at position 307 replaced by X\r\n",
        "Selenocysteine (U) at position 338 replaced by X\r\n",
        "Selenocysteine (U) at position 350 replaced by X\r\n",
        "Selenocysteine (U) at position 363 replaced by X\r\n",
        "Selenocysteine (U) at position 365 replaced by X\r\n",
        "Selenocysteine (U) at position 372 replaced by X\r\n",
        "Selenocysteine (U) at position 388 replaced by X\r\n",
        "Selenocysteine (U) at position 390 replaced by X\r\n",
        "Selenocysteine (U) at position 397 replaced by X\r\n",
        "Selenocysteine (U) at position 399 replaced by X\r\n",
        "Selenocysteine (U) at position 59 replaced by X\r\n",
        "Selenocysteine (U) at position 297 replaced by X\r\n",
        "Selenocysteine (U) at position 307 replaced by X\r\n",
        "Selenocysteine (U) at position 338 replaced by X\r\n",
        "Selenocysteine (U) at position 350 replaced by X\r\n",
        "Selenocysteine (U) at position 363 replaced by X\r\n",
        "Selenocysteine (U) at position 365 replaced by X\r\n",
        "Selenocysteine (U) at position 372 replaced by X\r\n",
        "Selenocysteine (U) at position 388 replaced by X\r\n",
        "Selenocysteine (U) at position 390 replaced by X\r\n",
        "Selenocysteine (U) at position 397 replaced by X\r\n",
        "Selenocysteine (U) at position 399 replaced by X\r\n",
        "Selenocysteine (U) at position 59 replaced by X\r\n",
        "Selenocysteine (U) at position 297 replaced by X\r\n",
        "Selenocysteine (U) at position 307 replaced by X\r\n",
        "Selenocysteine (U) at position 338 replaced by X\r\n",
        "Selenocysteine (U) at position 350 replaced by X\r\n",
        "Selenocysteine (U) at position 363 replaced by X\r\n",
        "Selenocysteine (U) at position 365 replaced by X\r\n",
        "Selenocysteine (U) at position 372 replaced by X\r\n",
        "Selenocysteine (U) at position 388 replaced by X\r\n",
        "Selenocysteine (U) at position 390 replaced by X\r\n",
        "Selenocysteine (U) at position 397 replaced by X\r\n",
        "Selenocysteine (U) at position 399 replaced by X\r\n"
       ]
      },
      {
       "output_type": "stream",
       "stream": "stdout",
       "text": [
        "Selenocysteine (U) at position 112 replaced by X\r\n"
       ]
      },
      {
       "output_type": "stream",
       "stream": "stdout",
       "text": [
        "Selenocysteine (U) at position 387 replaced by X\r\n",
        "Selenocysteine (U) at position 387 replaced by X\r\n",
        "Selenocysteine (U) at position 387 replaced by X\r\n",
        "Selenocysteine (U) at position 387 replaced by X\r\n",
        "Selenocysteine (U) at position 387 replaced by X\r\n",
        "Selenocysteine (U) at position 387 replaced by X\r\n",
        "Selenocysteine (U) at position 388 replaced by X\r\n",
        "Selenocysteine (U) at position 388 replaced by X\r\n",
        "Selenocysteine (U) at position 388 replaced by X\r\n",
        "Selenocysteine (U) at position 387 replaced by X\r\n",
        "Selenocysteine (U) at position 387 replaced by X\r\n",
        "Selenocysteine (U) at position 387 replaced by X\r\n"
       ]
      },
      {
       "output_type": "stream",
       "stream": "stdout",
       "text": [
        "Selenocysteine (U) at position 665 replaced by X\r\n"
       ]
      },
      {
       "output_type": "stream",
       "stream": "stdout",
       "text": [
        "Selenocysteine (U) at position 59 replaced by X\r\n",
        "Selenocysteine (U) at position 267 replaced by X\r\n",
        "Selenocysteine (U) at position 273 replaced by X\r\n",
        "Selenocysteine (U) at position 279 replaced by X\r\n",
        "Selenocysteine (U) at position 290 replaced by X\r\n",
        "Selenocysteine (U) at position 292 replaced by X\r\n",
        "Selenocysteine (U) at position 294 replaced by X\r\n",
        "Selenocysteine (U) at position 310 replaced by X\r\n",
        "Selenocysteine (U) at position 320 replaced by X\r\n",
        "Selenocysteine (U) at position 322 replaced by X\r\n",
        "Selenocysteine (U) at position 336 replaced by X\r\n",
        "Selenocysteine (U) at position 338 replaced by X\r\n",
        "Selenocysteine (U) at position 346 replaced by X\r\n",
        "Selenocysteine (U) at position 353 replaced by X\r\n",
        "Selenocysteine (U) at position 355 replaced by X\r\n",
        "Selenocysteine (U) at position 362 replaced by X\r\n",
        "Selenocysteine (U) at position 364 replaced by X\r\n",
        "Selenocysteine (U) at position 59 replaced by X\r\n",
        "Selenocysteine (U) at position 267 replaced by X\r\n",
        "Selenocysteine (U) at position 273 replaced by X\r\n",
        "Selenocysteine (U) at position 279 replaced by X\r\n",
        "Selenocysteine (U) at position 290 replaced by X\r\n",
        "Selenocysteine (U) at position 292 replaced by X\r\n",
        "Selenocysteine (U) at position 294 replaced by X\r\n",
        "Selenocysteine (U) at position 310 replaced by X\r\n",
        "Selenocysteine (U) at position 320 replaced by X\r\n",
        "Selenocysteine (U) at position 322 replaced by X\r\n",
        "Selenocysteine (U) at position 336 replaced by X\r\n",
        "Selenocysteine (U) at position 338 replaced by X\r\n",
        "Selenocysteine (U) at position 346 replaced by X\r\n",
        "Selenocysteine (U) at position 353 replaced by X\r\n",
        "Selenocysteine (U) at position 355 replaced by X\r\n",
        "Selenocysteine (U) at position 362 replaced by X\r\n",
        "Selenocysteine (U) at position 364 replaced by X\r\n",
        "Selenocysteine (U) at position 59 replaced by X\r\n",
        "Selenocysteine (U) at position 318 replaced by X\r\n",
        "Selenocysteine (U) at position 330 replaced by X\r\n",
        "Selenocysteine (U) at position 345 replaced by X\r\n",
        "Selenocysteine (U) at position 352 replaced by X\r\n",
        "Selenocysteine (U) at position 367 replaced by X\r\n",
        "Selenocysteine (U) at position 369 replaced by X\r\n",
        "Selenocysteine (U) at position 376 replaced by X\r\n",
        "Selenocysteine (U) at position 378 replaced by X\r\n",
        "Selenocysteine (U) at position 59 replaced by X\r\n",
        "Selenocysteine (U) at position 318 replaced by X\r\n",
        "Selenocysteine (U) at position 330 replaced by X\r\n",
        "Selenocysteine (U) at position 345 replaced by X\r\n",
        "Selenocysteine (U) at position 352 replaced by X\r\n",
        "Selenocysteine (U) at position 367 replaced by X\r\n",
        "Selenocysteine (U) at position 369 replaced by X\r\n",
        "Selenocysteine (U) at position 376 replaced by X\r\n",
        "Selenocysteine (U) at position 378 replaced by X\r\n"
       ]
      },
      {
       "output_type": "stream",
       "stream": "stdout",
       "text": [
        "Selenocysteine (U) at position 59 replaced by X\r\n",
        "Selenocysteine (U) at position 267 replaced by X\r\n",
        "Selenocysteine (U) at position 273 replaced by X\r\n",
        "Selenocysteine (U) at position 279 replaced by X\r\n",
        "Selenocysteine (U) at position 290 replaced by X\r\n",
        "Selenocysteine (U) at position 292 replaced by X\r\n",
        "Selenocysteine (U) at position 294 replaced by X\r\n",
        "Selenocysteine (U) at position 310 replaced by X\r\n",
        "Selenocysteine (U) at position 320 replaced by X\r\n",
        "Selenocysteine (U) at position 322 replaced by X\r\n",
        "Selenocysteine (U) at position 336 replaced by X\r\n",
        "Selenocysteine (U) at position 338 replaced by X\r\n",
        "Selenocysteine (U) at position 346 replaced by X\r\n",
        "Selenocysteine (U) at position 353 replaced by X\r\n",
        "Selenocysteine (U) at position 355 replaced by X\r\n",
        "Selenocysteine (U) at position 362 replaced by X\r\n",
        "Selenocysteine (U) at position 364 replaced by X\r\n"
       ]
      },
      {
       "output_type": "stream",
       "stream": "stdout",
       "text": [
        "Selenocysteine (U) at position 59 replaced by X\r\n",
        "Selenocysteine (U) at position 264 replaced by X\r\n",
        "Selenocysteine (U) at position 282 replaced by X\r\n",
        "Selenocysteine (U) at position 323 replaced by X\r\n",
        "Selenocysteine (U) at position 335 replaced by X\r\n",
        "Selenocysteine (U) at position 357 replaced by X\r\n",
        "Selenocysteine (U) at position 371 replaced by X\r\n",
        "Selenocysteine (U) at position 373 replaced by X\r\n",
        "Selenocysteine (U) at position 380 replaced by X\r\n",
        "Selenocysteine (U) at position 382 replaced by X\r\n"
       ]
      },
      {
       "output_type": "stream",
       "stream": "stdout",
       "text": [
        "Selenocysteine (U) at position 637 replaced by X\r\n",
        "Selenocysteine (U) at position 637 replaced by X\r\n"
       ]
      },
      {
       "output_type": "stream",
       "stream": "stdout",
       "text": [
        "Selenocysteine (U) at position 637 replaced by X\r\n",
        "Selenocysteine (U) at position 637 replaced by X\r\n"
       ]
      },
      {
       "output_type": "stream",
       "stream": "stdout",
       "text": [
        "Selenocysteine (U) at position 18 replaced by X\r\n",
        "Selenocysteine (U) at position 17 replaced by X\r\n",
        "Selenocysteine (U) at position 16 replaced by X\r\n",
        "Selenocysteine (U) at position 13 replaced by X\r\n",
        "Selenocysteine (U) at position 17 replaced by X\r\n",
        "Selenocysteine (U) at position 15 replaced by X\r\n",
        "Selenocysteine (U) at position 15 replaced by X\r\n",
        "Selenocysteine (U) at position 15 replaced by X\r\n",
        "Selenocysteine (U) at position 15 replaced by X\r\n",
        "Selenocysteine (U) at position 15 replaced by X\r\n",
        "Selenocysteine (U) at position 15 replaced by X\r\n",
        "Selenocysteine (U) at position 25 replaced by X\r\n",
        "Selenocysteine (U) at position 25 replaced by X\r\n",
        "Selenocysteine (U) at position 25 replaced by X\r\n",
        "Selenocysteine (U) at position 25 replaced by X\r\n",
        "Selenocysteine (U) at position 16 replaced by X\r\n",
        "Selenocysteine (U) at position 17 replaced by X\r\n",
        "Selenocysteine (U) at position 13 replaced by X\r\n",
        "Selenocysteine (U) at position 16 replaced by X\r\n",
        "Selenocysteine (U) at position 16 replaced by X\r\n",
        "Selenocysteine (U) at position 17 replaced by X\r\n",
        "Selenocysteine (U) at position 17 replaced by X\r\n",
        "Selenocysteine (U) at position 16 replaced by X\r\n",
        "Selenocysteine (U) at position 19 replaced by X\r\n",
        "Selenocysteine (U) at position 19 replaced by X\r\n",
        "Selenocysteine (U) at position 19 replaced by X\r\n",
        "Selenocysteine (U) at position 16 replaced by X\r\n",
        "Selenocysteine (U) at position 16 replaced by X\r\n",
        "Selenocysteine (U) at position 16 replaced by X\r\n",
        "Selenocysteine (U) at position 7 replaced by X\r\n",
        "Selenocysteine (U) at position 7 replaced by X\r\n",
        "Selenocysteine (U) at position 7 replaced by X\r\n",
        "Selenocysteine (U) at position 16 replaced by X\r\n",
        "Selenocysteine (U) at position 21 replaced by X\r\n"
       ]
      },
      {
       "output_type": "stream",
       "stream": "stdout",
       "text": [
        "Selenocysteine (U) at position 24 replaced by X\r\n",
        "Selenocysteine (U) at position 24 replaced by X\r\n",
        "Selenocysteine (U) at position 24 replaced by X\r\n",
        "Selenocysteine (U) at position 60 replaced by X\r\n",
        "Selenocysteine (U) at position 60 replaced by X\r\n",
        "Selenocysteine (U) at position 60 replaced by X\r\n",
        "Selenocysteine (U) at position 60 replaced by X\r\n",
        "Selenocysteine (U) at position 63 replaced by X\r\n",
        "Selenocysteine (U) at position 63 replaced by X\r\n",
        "Selenocysteine (U) at position 63 replaced by X\r\n",
        "Selenocysteine (U) at position 63 replaced by X\r\n",
        "Selenocysteine (U) at position 63 replaced by X\r\n",
        "Selenocysteine (U) at position 63 replaced by X\r\n",
        "Selenocysteine (U) at position 63 replaced by X\r\n",
        "Selenocysteine (U) at position 63 replaced by X\r\n"
       ]
      },
      {
       "output_type": "stream",
       "stream": "stdout",
       "text": [
        "Selenocysteine (U) at position 666 replaced by X\r\n"
       ]
      },
      {
       "output_type": "stream",
       "stream": "stdout",
       "text": [
        "Selenocysteine (U) at position 18 replaced by X\r\n",
        "Selenocysteine (U) at position 17 replaced by X\r\n"
       ]
      },
      {
       "output_type": "stream",
       "stream": "stdout",
       "text": [
        "Selenocysteine (U) at position 126 replaced by X\r\n"
       ]
      },
      {
       "output_type": "stream",
       "stream": "stdout",
       "text": [
        "Selenocysteine (U) at position 144 replaced by X\r\n",
        "Selenocysteine (U) at position 144 replaced by X\r\n",
        "Selenocysteine (U) at position 144 replaced by X\r\n",
        "Selenocysteine (U) at position 144 replaced by X\r\n",
        "Selenocysteine (U) at position 144 replaced by X\r\n"
       ]
      },
      {
       "output_type": "stream",
       "stream": "stdout",
       "text": [
        "Selenocysteine (U) at position 494 replaced by X\r\n"
       ]
      },
      {
       "output_type": "stream",
       "stream": "stdout",
       "text": [
        "Selenocysteine (U) at position 59 replaced by X\r\n",
        "Selenocysteine (U) at position 297 replaced by X\r\n",
        "Selenocysteine (U) at position 307 replaced by X\r\n",
        "Selenocysteine (U) at position 338 replaced by X\r\n",
        "Selenocysteine (U) at position 350 replaced by X\r\n",
        "Selenocysteine (U) at position 363 replaced by X\r\n",
        "Selenocysteine (U) at position 365 replaced by X\r\n",
        "Selenocysteine (U) at position 372 replaced by X\r\n",
        "Selenocysteine (U) at position 388 replaced by X\r\n",
        "Selenocysteine (U) at position 390 replaced by X\r\n",
        "Selenocysteine (U) at position 397 replaced by X\r\n",
        "Selenocysteine (U) at position 399 replaced by X\r\n"
       ]
      },
      {
       "output_type": "stream",
       "stream": "stdout",
       "text": [
        "Selenocysteine (U) at position 65 replaced by X\r\n",
        "Selenocysteine (U) at position 47 replaced by X\r\n",
        "Selenocysteine (U) at position 47 replaced by X\r\n",
        "Selenocysteine (U) at position 49 replaced by X\r\n",
        "Selenocysteine (U) at position 53 replaced by X\r\n",
        "Selenocysteine (U) at position 49 replaced by X\r\n",
        "Selenocysteine (U) at position 49 replaced by X\r\n",
        "Selenocysteine (U) at position 49 replaced by X\r\n",
        "Selenocysteine (U) at position 54 replaced by X\r\n"
       ]
      },
      {
       "output_type": "stream",
       "stream": "stdout",
       "text": [
        "Selenocysteine (U) at position 64 replaced by X\r\n"
       ]
      },
      {
       "output_type": "stream",
       "stream": "stdout",
       "text": [
        "Selenocysteine (U) at position 64 replaced by X\r\n"
       ]
      },
      {
       "output_type": "stream",
       "stream": "stdout",
       "text": [
        "Selenocysteine (U) at position 64 replaced by X\r\n"
       ]
      },
      {
       "output_type": "stream",
       "stream": "stdout",
       "text": [
        "Selenocysteine (U) at position 64 replaced by X\r\n"
       ]
      },
      {
       "output_type": "stream",
       "stream": "stdout",
       "text": [
        "Selenocysteine (U) at position 637 replaced by X\r\n"
       ]
      },
      {
       "output_type": "stream",
       "stream": "stdout",
       "text": [
        "Selenocysteine (U) at position 152 replaced by X\r\n",
        "Selenocysteine (U) at position 18 replaced by X\r\n",
        "Selenocysteine (U) at position 38 replaced by X\r\n",
        "Selenocysteine (U) at position 38 replaced by X\r\n",
        "Selenocysteine (U) at position 13 replaced by X\r\n",
        "Selenocysteine (U) at position 17 replaced by X\r\n",
        "Selenocysteine (U) at position 17 replaced by X\r\n",
        "Selenocysteine (U) at position 15 replaced by X\r\n"
       ]
      },
      {
       "output_type": "stream",
       "stream": "stdout",
       "text": [
        "Selenocysteine (U) at position 17 replaced by X\r\n",
        "Selenocysteine (U) at position 15 replaced by X\r\n",
        "Selenocysteine (U) at position 15 replaced by X\r\n",
        "Selenocysteine (U) at position 25 replaced by X\r\n",
        "Selenocysteine (U) at position 25 replaced by X\r\n",
        "Selenocysteine (U) at position 25 replaced by X\r\n",
        "Selenocysteine (U) at position 25 replaced by X\r\n",
        "Selenocysteine (U) at position 25 replaced by X\r\n",
        "Selenocysteine (U) at position 16 replaced by X\r\n",
        "Selenocysteine (U) at position 17 replaced by X\r\n",
        "Selenocysteine (U) at position 17 replaced by X\r\n",
        "Selenocysteine (U) at position 13 replaced by X\r\n",
        "Selenocysteine (U) at position 16 replaced by X\r\n",
        "Selenocysteine (U) at position 16 replaced by X\r\n",
        "Selenocysteine (U) at position 19 replaced by X\r\n",
        "Selenocysteine (U) at position 19 replaced by X\r\n",
        "Selenocysteine (U) at position 19 replaced by X\r\n",
        "Selenocysteine (U) at position 19 replaced by X\r\n",
        "Selenocysteine (U) at position 16 replaced by X\r\n",
        "Selenocysteine (U) at position 16 replaced by X\r\n",
        "Selenocysteine (U) at position 16 replaced by X\r\n",
        "Selenocysteine (U) at position 7 replaced by X\r\n",
        "Selenocysteine (U) at position 7 replaced by X\r\n",
        "Selenocysteine (U) at position 7 replaced by X\r\n",
        "Selenocysteine (U) at position 7 replaced by X\r\n",
        "Selenocysteine (U) at position 16 replaced by X\r\n",
        "Selenocysteine (U) at position 21 replaced by X\r\n",
        "Selenocysteine (U) at position 21 replaced by X\r\n",
        "Selenocysteine (U) at position 24 replaced by X\r\n",
        "Selenocysteine (U) at position 24 replaced by X\r\n",
        "Selenocysteine (U) at position 24 replaced by X\r\n",
        "Selenocysteine (U) at position 24 replaced by X\r\n",
        "Selenocysteine (U) at position 60 replaced by X\r\n",
        "Selenocysteine (U) at position 60 replaced by X\r\n",
        "Selenocysteine (U) at position 60 replaced by X\r\n",
        "Selenocysteine (U) at position 60 replaced by X\r\n",
        "Selenocysteine (U) at position 60 replaced by X\r\n",
        "Selenocysteine (U) at position 63 replaced by X\r\n",
        "Selenocysteine (U) at position 63 replaced by X\r\n",
        "Selenocysteine (U) at position 63 replaced by X\r\n",
        "Selenocysteine (U) at position 63 replaced by X\r\n",
        "Selenocysteine (U) at position 63 replaced by X\r\n",
        "Selenocysteine (U) at position 63 replaced by X\r\n",
        "Selenocysteine (U) at position 63 replaced by X\r\n",
        "Selenocysteine (U) at position 63 replaced by X\r\n",
        "Selenocysteine (U) at position 63 replaced by X\r\n",
        "Selenocysteine (U) at position 63 replaced by X\r\n"
       ]
      },
      {
       "output_type": "stream",
       "stream": "stdout",
       "text": [
        "Selenocysteine (U) at position 273 replaced by X\r\n",
        "Selenocysteine (U) at position 273 replaced by X\r\n"
       ]
      },
      {
       "output_type": "stream",
       "stream": "stdout",
       "text": [
        "Selenocysteine (U) at position 273 replaced by X\r\n"
       ]
      },
      {
       "output_type": "stream",
       "stream": "stdout",
       "text": [
        "Selenocysteine (U) at position 192 replaced by X\r\n"
       ]
      },
      {
       "output_type": "stream",
       "stream": "stdout",
       "text": [
        "Selenocysteine (U) at position 192 replaced by X\r\n",
        "Selenocysteine (U) at position 192 replaced by X\r\n",
        "Selenocysteine (U) at position 192 replaced by X\r\n"
       ]
      },
      {
       "output_type": "stream",
       "stream": "stdout",
       "text": [
        "Selenocysteine (U) at position 192 replaced by X\r\n",
        "Selenocysteine (U) at position 192 replaced by X\r\n",
        "Selenocysteine (U) at position 192 replaced by X\r\n"
       ]
      },
      {
       "output_type": "stream",
       "stream": "stdout",
       "text": [
        "Selenocysteine (U) at position 64 replaced by X\r\n"
       ]
      },
      {
       "output_type": "stream",
       "stream": "stdout",
       "text": [
        "Selenocysteine (U) at position 344 replaced by X\r\n"
       ]
      },
      {
       "output_type": "stream",
       "stream": "stdout",
       "text": [
        "Selenocysteine (U) at position 132 replaced by X\r\n",
        "Selenocysteine (U) at position 265 replaced by X\r\n",
        "Selenocysteine (U) at position 132 replaced by X\r\n",
        "Selenocysteine (U) at position 265 replaced by X\r\n",
        "Selenocysteine (U) at position 132 replaced by X\r\n",
        "Selenocysteine (U) at position 265 replaced by X\r\n",
        "Selenocysteine (U) at position 130 replaced by X\r\n",
        "Selenocysteine (U) at position 263 replaced by X\r\n",
        "Selenocysteine (U) at position 130 replaced by X\r\n",
        "Selenocysteine (U) at position 263 replaced by X\r\n",
        "Selenocysteine (U) at position 130 replaced by X\r\n",
        "Selenocysteine (U) at position 263 replaced by X\r\n",
        "Selenocysteine (U) at position 128 replaced by X\r\n",
        "Selenocysteine (U) at position 261 replaced by X\r\n",
        "Selenocysteine (U) at position 128 replaced by X\r\n",
        "Selenocysteine (U) at position 261 replaced by X\r\n",
        "Selenocysteine (U) at position 128 replaced by X\r\n",
        "Selenocysteine (U) at position 261 replaced by X\r\n",
        "Selenocysteine (U) at position 130 replaced by X\r\n",
        "Selenocysteine (U) at position 263 replaced by X\r\n",
        "Selenocysteine (U) at position 130 replaced by X\r\n",
        "Selenocysteine (U) at position 263 replaced by X\r\n",
        "Selenocysteine (U) at position 130 replaced by X\r\n",
        "Selenocysteine (U) at position 263 replaced by X\r\n"
       ]
      },
      {
       "output_type": "stream",
       "stream": "stdout",
       "text": [
        "Selenocysteine (U) at position 637 replaced by X\r\n"
       ]
      },
      {
       "output_type": "stream",
       "stream": "stdout",
       "text": [
        "Selenocysteine (U) at position 59 replaced by X\r\n",
        "Selenocysteine (U) at position 318 replaced by X\r\n",
        "Selenocysteine (U) at position 330 replaced by X\r\n",
        "Selenocysteine (U) at position 345 replaced by X\r\n",
        "Selenocysteine (U) at position 352 replaced by X\r\n",
        "Selenocysteine (U) at position 367 replaced by X\r\n",
        "Selenocysteine (U) at position 369 replaced by X\r\n",
        "Selenocysteine (U) at position 376 replaced by X\r\n",
        "Selenocysteine (U) at position 378 replaced by X\r\n",
        "Selenocysteine (U) at position 59 replaced by X\r\n",
        "Selenocysteine (U) at position 318 replaced by X\r\n",
        "Selenocysteine (U) at position 330 replaced by X\r\n",
        "Selenocysteine (U) at position 345 replaced by X\r\n",
        "Selenocysteine (U) at position 352 replaced by X\r\n",
        "Selenocysteine (U) at position 367 replaced by X\r\n",
        "Selenocysteine (U) at position 369 replaced by X\r\n",
        "Selenocysteine (U) at position 376 replaced by X\r\n",
        "Selenocysteine (U) at position 378 replaced by X\r\n"
       ]
      },
      {
       "output_type": "stream",
       "stream": "stdout",
       "text": [
        "Selenocysteine (U) at position 59 replaced by X\r\n",
        "Selenocysteine (U) at position 297 replaced by X\r\n",
        "Selenocysteine (U) at position 307 replaced by X\r\n",
        "Selenocysteine (U) at position 338 replaced by X\r\n",
        "Selenocysteine (U) at position 350 replaced by X\r\n",
        "Selenocysteine (U) at position 363 replaced by X\r\n",
        "Selenocysteine (U) at position 365 replaced by X\r\n",
        "Selenocysteine (U) at position 372 replaced by X\r\n",
        "Selenocysteine (U) at position 388 replaced by X\r\n",
        "Selenocysteine (U) at position 390 replaced by X\r\n",
        "Selenocysteine (U) at position 397 replaced by X\r\n",
        "Selenocysteine (U) at position 399 replaced by X\r\n"
       ]
      },
      {
       "output_type": "stream",
       "stream": "stdout",
       "text": [
        "Selenocysteine (U) at position 40 replaced by X\r\n",
        "Selenocysteine (U) at position 40 replaced by X\r\n",
        "Selenocysteine (U) at position 40 replaced by X\r\n",
        "Selenocysteine (U) at position 40 replaced by X\r\n",
        "Selenocysteine (U) at position 40 replaced by X\r\n"
       ]
      },
      {
       "output_type": "stream",
       "stream": "stdout",
       "text": [
        "Selenocysteine (U) at position 387 replaced by X\r\n",
        "Selenocysteine (U) at position 387 replaced by X\r\n",
        "Selenocysteine (U) at position 388 replaced by X\r\n",
        "Selenocysteine (U) at position 387 replaced by X\r\n"
       ]
      },
      {
       "output_type": "stream",
       "stream": "stdout",
       "text": [
        "Selenocysteine (U) at position 204 replaced by X\r\n"
       ]
      },
      {
       "output_type": "stream",
       "stream": "stdout",
       "text": [
        "Selenocysteine (U) at position 637 replaced by X\r\n",
        "Selenocysteine (U) at position 637 replaced by X\r\n"
       ]
      },
      {
       "output_type": "stream",
       "stream": "stdout",
       "text": [
        "Selenocysteine (U) at position 523 replaced by X\r\n"
       ]
      },
      {
       "output_type": "stream",
       "stream": "stdout",
       "text": [
        "Selenocysteine (U) at position 525 replaced by X\r\n"
       ]
      },
      {
       "output_type": "stream",
       "stream": "stdout",
       "text": [
        "Selenocysteine (U) at position 498 replaced by X\r\n",
        "Selenocysteine (U) at position 498 replaced by X\r\n"
       ]
      },
      {
       "output_type": "stream",
       "stream": "stdout",
       "text": [
        "Selenocysteine (U) at position 93 replaced by X\r\n"
       ]
      },
      {
       "output_type": "stream",
       "stream": "stdout",
       "text": [
        "Selenocysteine (U) at position 44 replaced by X\r\n"
       ]
      },
      {
       "output_type": "stream",
       "stream": "stdout",
       "text": [
        "Selenocysteine (U) at position 21 replaced by X\r\n"
       ]
      },
      {
       "output_type": "stream",
       "stream": "stdout",
       "text": [
        "Selenocysteine (U) at position 613 replaced by X\r\n",
        "Selenocysteine (U) at position 613 replaced by X\r\n",
        "Selenocysteine (U) at position 613 replaced by X\r\n",
        "Selenocysteine (U) at position 613 replaced by X\r\n",
        "Selenocysteine (U) at position 613 replaced by X\r\n",
        "Selenocysteine (U) at position 613 replaced by X\r\n",
        "Selenocysteine (U) at position 613 replaced by X\r\n",
        "Selenocysteine (U) at position 613 replaced by X\r\n",
        "Selenocysteine (U) at position 613 replaced by X\r\n",
        "Selenocysteine (U) at position 613 replaced by X\r\n",
        "Selenocysteine (U) at position 613 replaced by X\r\n"
       ]
      },
      {
       "output_type": "stream",
       "stream": "stdout",
       "text": [
        "Selenocysteine (U) at position 59 replaced by X\r\n",
        "Selenocysteine (U) at position 297 replaced by X\r\n",
        "Selenocysteine (U) at position 307 replaced by X\r\n",
        "Selenocysteine (U) at position 338 replaced by X\r\n",
        "Selenocysteine (U) at position 350 replaced by X\r\n",
        "Selenocysteine (U) at position 363 replaced by X\r\n",
        "Selenocysteine (U) at position 365 replaced by X\r\n",
        "Selenocysteine (U) at position 372 replaced by X\r\n",
        "Selenocysteine (U) at position 388 replaced by X\r\n",
        "Selenocysteine (U) at position 390 replaced by X\r\n",
        "Selenocysteine (U) at position 397 replaced by X\r\n",
        "Selenocysteine (U) at position 399 replaced by X\r\n"
       ]
      },
      {
       "output_type": "stream",
       "stream": "stdout",
       "text": [
        "Selenocysteine (U) at position 59 replaced by X\r\n",
        "Selenocysteine (U) at position 297 replaced by X\r\n",
        "Selenocysteine (U) at position 307 replaced by X\r\n",
        "Selenocysteine (U) at position 338 replaced by X\r\n",
        "Selenocysteine (U) at position 350 replaced by X\r\n",
        "Selenocysteine (U) at position 363 replaced by X\r\n",
        "Selenocysteine (U) at position 365 replaced by X\r\n",
        "Selenocysteine (U) at position 372 replaced by X\r\n",
        "Selenocysteine (U) at position 388 replaced by X\r\n",
        "Selenocysteine (U) at position 390 replaced by X\r\n",
        "Selenocysteine (U) at position 397 replaced by X\r\n",
        "Selenocysteine (U) at position 399 replaced by X\r\n",
        "Selenocysteine (U) at position 59 replaced by X\r\n",
        "Selenocysteine (U) at position 297 replaced by X\r\n",
        "Selenocysteine (U) at position 307 replaced by X\r\n",
        "Selenocysteine (U) at position 338 replaced by X\r\n",
        "Selenocysteine (U) at position 350 replaced by X\r\n",
        "Selenocysteine (U) at position 363 replaced by X\r\n",
        "Selenocysteine (U) at position 365 replaced by X\r\n",
        "Selenocysteine (U) at position 372 replaced by X\r\n",
        "Selenocysteine (U) at position 388 replaced by X\r\n",
        "Selenocysteine (U) at position 390 replaced by X\r\n",
        "Selenocysteine (U) at position 397 replaced by X\r\n",
        "Selenocysteine (U) at position 399 replaced by X\r\n",
        "Selenocysteine (U) at position 59 replaced by X\r\n",
        "Selenocysteine (U) at position 297 replaced by X\r\n",
        "Selenocysteine (U) at position 307 replaced by X\r\n",
        "Selenocysteine (U) at position 338 replaced by X\r\n",
        "Selenocysteine (U) at position 350 replaced by X\r\n",
        "Selenocysteine (U) at position 363 replaced by X\r\n",
        "Selenocysteine (U) at position 365 replaced by X\r\n",
        "Selenocysteine (U) at position 372 replaced by X\r\n",
        "Selenocysteine (U) at position 388 replaced by X\r\n",
        "Selenocysteine (U) at position 390 replaced by X\r\n",
        "Selenocysteine (U) at position 397 replaced by X\r\n",
        "Selenocysteine (U) at position 399 replaced by X\r\n"
       ]
      },
      {
       "output_type": "stream",
       "stream": "stdout",
       "text": [
        "Selenocysteine (U) at position 59 replaced by X\r\n",
        "Selenocysteine (U) at position 297 replaced by X\r\n",
        "Selenocysteine (U) at position 307 replaced by X\r\n",
        "Selenocysteine (U) at position 338 replaced by X\r\n",
        "Selenocysteine (U) at position 350 replaced by X\r\n",
        "Selenocysteine (U) at position 363 replaced by X\r\n",
        "Selenocysteine (U) at position 365 replaced by X\r\n",
        "Selenocysteine (U) at position 372 replaced by X\r\n",
        "Selenocysteine (U) at position 388 replaced by X\r\n",
        "Selenocysteine (U) at position 390 replaced by X\r\n",
        "Selenocysteine (U) at position 397 replaced by X\r\n",
        "Selenocysteine (U) at position 399 replaced by X\r\n",
        "Selenocysteine (U) at position 59 replaced by X\r\n",
        "Selenocysteine (U) at position 297 replaced by X\r\n",
        "Selenocysteine (U) at position 307 replaced by X\r\n",
        "Selenocysteine (U) at position 338 replaced by X\r\n",
        "Selenocysteine (U) at position 350 replaced by X\r\n",
        "Selenocysteine (U) at position 363 replaced by X\r\n",
        "Selenocysteine (U) at position 365 replaced by X\r\n",
        "Selenocysteine (U) at position 372 replaced by X\r\n",
        "Selenocysteine (U) at position 388 replaced by X\r\n",
        "Selenocysteine (U) at position 390 replaced by X\r\n",
        "Selenocysteine (U) at position 397 replaced by X\r\n",
        "Selenocysteine (U) at position 399 replaced by X\r\n"
       ]
      },
      {
       "output_type": "stream",
       "stream": "stdout",
       "text": [
        "Selenocysteine (U) at position 196 replaced by X\r\n",
        "Selenocysteine (U) at position 196 replaced by X\r\n"
       ]
      },
      {
       "output_type": "stream",
       "stream": "stdout",
       "text": [
        "Selenocysteine (U) at position 204 replaced by X\r\n",
        "Selenocysteine (U) at position 204 replaced by X\r\n"
       ]
      },
      {
       "output_type": "stream",
       "stream": "stdout",
       "text": [
        "Selenocysteine (U) at position 73 replaced by X\r\n"
       ]
      },
      {
       "output_type": "stream",
       "stream": "stdout",
       "text": [
        "Selenocysteine (U) at position 73 replaced by X\r\n"
       ]
      },
      {
       "output_type": "stream",
       "stream": "stdout",
       "text": [
        "Selenocysteine (U) at position 690 replaced by X\r\n"
       ]
      },
      {
       "output_type": "stream",
       "stream": "stdout",
       "text": [
        "Selenocysteine (U) at position 47 replaced by X\r\n"
       ]
      },
      {
       "output_type": "stream",
       "stream": "stdout",
       "text": [
        "Selenocysteine (U) at position 193 replaced by X\r\n"
       ]
      },
      {
       "output_type": "stream",
       "stream": "stdout",
       "text": [
        "Selenocysteine (U) at position 637 replaced by X\r\n",
        "Selenocysteine (U) at position 637 replaced by X\r\n"
       ]
      },
      {
       "output_type": "stream",
       "stream": "stdout",
       "text": [
        "Selenocysteine (U) at position 59 replaced by X\r\n",
        "Selenocysteine (U) at position 297 replaced by X\r\n",
        "Selenocysteine (U) at position 307 replaced by X\r\n",
        "Selenocysteine (U) at position 338 replaced by X\r\n",
        "Selenocysteine (U) at position 350 replaced by X\r\n",
        "Selenocysteine (U) at position 363 replaced by X\r\n",
        "Selenocysteine (U) at position 365 replaced by X\r\n",
        "Selenocysteine (U) at position 372 replaced by X\r\n",
        "Selenocysteine (U) at position 388 replaced by X\r\n",
        "Selenocysteine (U) at position 390 replaced by X\r\n",
        "Selenocysteine (U) at position 397 replaced by X\r\n",
        "Selenocysteine (U) at position 399 replaced by X\r\n",
        "Selenocysteine (U) at position 59 replaced by X\r\n",
        "Selenocysteine (U) at position 300 replaced by X\r\n",
        "Selenocysteine (U) at position 318 replaced by X\r\n",
        "Selenocysteine (U) at position 330 replaced by X\r\n",
        "Selenocysteine (U) at position 345 replaced by X\r\n",
        "Selenocysteine (U) at position 352 replaced by X\r\n",
        "Selenocysteine (U) at position 367 replaced by X\r\n",
        "Selenocysteine (U) at position 369 replaced by X\r\n",
        "Selenocysteine (U) at position 376 replaced by X\r\n",
        "Selenocysteine (U) at position 378 replaced by X\r\n"
       ]
      },
      {
       "output_type": "stream",
       "stream": "stdout",
       "text": [
        "Selenocysteine (U) at position 95 replaced by X\r\n",
        "Selenocysteine (U) at position 95 replaced by X\r\n",
        "Selenocysteine (U) at position 95 replaced by X\r\n"
       ]
      },
      {
       "output_type": "stream",
       "stream": "stdout",
       "text": [
        "Selenocysteine (U) at position 38 replaced by X\r\n"
       ]
      },
      {
       "output_type": "stream",
       "stream": "stdout",
       "text": [
        "Selenocysteine (U) at position 38 replaced by X\r\n",
        "Selenocysteine (U) at position 38 replaced by X\r\n",
        "Selenocysteine (U) at position 38 replaced by X\r\n",
        "Selenocysteine (U) at position 38 replaced by X\r\n",
        "Selenocysteine (U) at position 38 replaced by X\r\n",
        "Selenocysteine (U) at position 38 replaced by X\r\n",
        "Selenocysteine (U) at position 48 replaced by X\r\n",
        "Selenocysteine (U) at position 48 replaced by X\r\n",
        "Selenocysteine (U) at position 48 replaced by X\r\n",
        "Selenocysteine (U) at position 48 replaced by X\r\n",
        "Selenocysteine (U) at position 48 replaced by X\r\n",
        "Selenocysteine (U) at position 48 replaced by X\r\n",
        "Selenocysteine (U) at position 41 replaced by X\r\n",
        "Selenocysteine (U) at position 41 replaced by X\r\n"
       ]
      },
      {
       "output_type": "stream",
       "stream": "stdout",
       "text": [
        "Selenocysteine (U) at position 41 replaced by X\r\n",
        "Selenocysteine (U) at position 59 replaced by X\r\n",
        "Selenocysteine (U) at position 297 replaced by X\r\n",
        "Selenocysteine (U) at position 307 replaced by X\r\n",
        "Selenocysteine (U) at position 338 replaced by X\r\n",
        "Selenocysteine (U) at position 350 replaced by X\r\n",
        "Selenocysteine (U) at position 363 replaced by X\r\n",
        "Selenocysteine (U) at position 365 replaced by X\r\n",
        "Selenocysteine (U) at position 372 replaced by X\r\n",
        "Selenocysteine (U) at position 388 replaced by X\r\n",
        "Selenocysteine (U) at position 390 replaced by X\r\n",
        "Selenocysteine (U) at position 397 replaced by X\r\n",
        "Selenocysteine (U) at position 399 replaced by X\r\n"
       ]
      },
      {
       "output_type": "stream",
       "stream": "stdout",
       "text": [
        "Selenocysteine (U) at position 613 replaced by X\r\n"
       ]
      },
      {
       "output_type": "stream",
       "stream": "stdout",
       "text": [
        "Selenocysteine (U) at position 129 replaced by X\r\n",
        "Selenocysteine (U) at position 129 replaced by X\r\n",
        "Selenocysteine (U) at position 129 replaced by X\r\n",
        "Selenocysteine (U) at position 129 replaced by X\r\n"
       ]
      },
      {
       "output_type": "stream",
       "stream": "stdout",
       "text": [
        "Selenocysteine (U) at position 613 replaced by X\r\n"
       ]
      },
      {
       "output_type": "stream",
       "stream": "stdout",
       "text": [
        "Selenocysteine (U) at position 54 replaced by X\r\n"
       ]
      },
      {
       "output_type": "stream",
       "stream": "stdout",
       "text": [
        "Selenocysteine (U) at position 612 replaced by X\r\n",
        "Selenocysteine (U) at position 612 replaced by X\r\n"
       ]
      },
      {
       "output_type": "stream",
       "stream": "stdout",
       "text": [
        "Selenocysteine (U) at position 54 replaced by X\r\n"
       ]
      },
      {
       "output_type": "stream",
       "stream": "stdout",
       "text": [
        "Selenocysteine (U) at position 690 replaced by X\r\n",
        "Selenocysteine (U) at position 690 replaced by X\r\n",
        "Selenocysteine (U) at position 690 replaced by X\r\n"
       ]
      },
      {
       "output_type": "stream",
       "stream": "stdout",
       "text": [
        "Selenocysteine (U) at position 59 replaced by X\r\n",
        "Selenocysteine (U) at position 297 replaced by X\r\n",
        "Selenocysteine (U) at position 307 replaced by X\r\n",
        "Selenocysteine (U) at position 338 replaced by X\r\n",
        "Selenocysteine (U) at position 350 replaced by X\r\n",
        "Selenocysteine (U) at position 363 replaced by X\r\n",
        "Selenocysteine (U) at position 365 replaced by X\r\n",
        "Selenocysteine (U) at position 372 replaced by X\r\n",
        "Selenocysteine (U) at position 388 replaced by X\r\n",
        "Selenocysteine (U) at position 390 replaced by X\r\n",
        "Selenocysteine (U) at position 397 replaced by X\r\n",
        "Selenocysteine (U) at position 399 replaced by X\r\n",
        "Selenocysteine (U) at position 59 replaced by X\r\n",
        "Selenocysteine (U) at position 297 replaced by X\r\n",
        "Selenocysteine (U) at position 307 replaced by X\r\n",
        "Selenocysteine (U) at position 338 replaced by X\r\n",
        "Selenocysteine (U) at position 350 replaced by X\r\n",
        "Selenocysteine (U) at position 363 replaced by X\r\n",
        "Selenocysteine (U) at position 365 replaced by X\r\n",
        "Selenocysteine (U) at position 372 replaced by X\r\n",
        "Selenocysteine (U) at position 388 replaced by X\r\n",
        "Selenocysteine (U) at position 390 replaced by X\r\n",
        "Selenocysteine (U) at position 397 replaced by X\r\n",
        "Selenocysteine (U) at position 399 replaced by X\r\n",
        "Selenocysteine (U) at position 59 replaced by X\r\n",
        "Selenocysteine (U) at position 297 replaced by X\r\n",
        "Selenocysteine (U) at position 307 replaced by X\r\n",
        "Selenocysteine (U) at position 338 replaced by X\r\n",
        "Selenocysteine (U) at position 350 replaced by X\r\n",
        "Selenocysteine (U) at position 363 replaced by X\r\n",
        "Selenocysteine (U) at position 365 replaced by X\r\n",
        "Selenocysteine (U) at position 372 replaced by X\r\n",
        "Selenocysteine (U) at position 388 replaced by X\r\n",
        "Selenocysteine (U) at position 390 replaced by X\r\n",
        "Selenocysteine (U) at position 397 replaced by X\r\n",
        "Selenocysteine (U) at position 399 replaced by X\r\n"
       ]
      },
      {
       "output_type": "stream",
       "stream": "stdout",
       "text": [
        "Selenocysteine (U) at position 59 replaced by X\r\n",
        "Selenocysteine (U) at position 264 replaced by X\r\n",
        "Selenocysteine (U) at position 282 replaced by X\r\n",
        "Selenocysteine (U) at position 323 replaced by X\r\n",
        "Selenocysteine (U) at position 335 replaced by X\r\n",
        "Selenocysteine (U) at position 357 replaced by X\r\n",
        "Selenocysteine (U) at position 371 replaced by X\r\n",
        "Selenocysteine (U) at position 373 replaced by X\r\n",
        "Selenocysteine (U) at position 380 replaced by X\r\n",
        "Selenocysteine (U) at position 382 replaced by X\r\n"
       ]
      },
      {
       "output_type": "stream",
       "stream": "stdout",
       "text": [
        "Selenocysteine (U) at position 59 replaced by X\r\n",
        "Selenocysteine (U) at position 267 replaced by X\r\n",
        "Selenocysteine (U) at position 273 replaced by X\r\n",
        "Selenocysteine (U) at position 279 replaced by X\r\n",
        "Selenocysteine (U) at position 290 replaced by X\r\n",
        "Selenocysteine (U) at position 292 replaced by X\r\n",
        "Selenocysteine (U) at position 294 replaced by X\r\n",
        "Selenocysteine (U) at position 310 replaced by X\r\n",
        "Selenocysteine (U) at position 320 replaced by X\r\n",
        "Selenocysteine (U) at position 322 replaced by X\r\n",
        "Selenocysteine (U) at position 336 replaced by X\r\n",
        "Selenocysteine (U) at position 338 replaced by X\r\n",
        "Selenocysteine (U) at position 346 replaced by X\r\n",
        "Selenocysteine (U) at position 353 replaced by X\r\n",
        "Selenocysteine (U) at position 355 replaced by X\r\n",
        "Selenocysteine (U) at position 362 replaced by X\r\n",
        "Selenocysteine (U) at position 364 replaced by X\r\n"
       ]
      },
      {
       "output_type": "stream",
       "stream": "stdout",
       "text": [
        "Selenocysteine (U) at position 144 replaced by X\r\n",
        "Selenocysteine (U) at position 144 replaced by X\r\n"
       ]
      },
      {
       "output_type": "stream",
       "stream": "stdout",
       "text": [
        "Selenocysteine (U) at position 144 replaced by X\r\n",
        "Selenocysteine (U) at position 144 replaced by X\r\n"
       ]
      },
      {
       "output_type": "stream",
       "stream": "stdout",
       "text": [
        "Selenocysteine (U) at position 73 replaced by X\r\n"
       ]
      },
      {
       "output_type": "stream",
       "stream": "stdout",
       "text": [
        "Selenocysteine (U) at position 64 replaced by X\r\n"
       ]
      },
      {
       "output_type": "stream",
       "stream": "stdout",
       "text": [
        "Selenocysteine (U) at position 637 replaced by X\r\n",
        "Selenocysteine (U) at position 690 replaced by X\r\n"
       ]
      },
      {
       "output_type": "stream",
       "stream": "stdout",
       "text": [
        "Selenocysteine (U) at position 200 replaced by X\r\n",
        "Selenocysteine (U) at position 126 replaced by X\r\n"
       ]
      },
      {
       "output_type": "stream",
       "stream": "stdout",
       "text": [
        "Selenocysteine (U) at position 59 replaced by X\r\n",
        "Selenocysteine (U) at position 297 replaced by X\r\n",
        "Selenocysteine (U) at position 307 replaced by X\r\n",
        "Selenocysteine (U) at position 338 replaced by X\r\n",
        "Selenocysteine (U) at position 350 replaced by X\r\n",
        "Selenocysteine (U) at position 363 replaced by X\r\n",
        "Selenocysteine (U) at position 365 replaced by X\r\n",
        "Selenocysteine (U) at position 372 replaced by X\r\n",
        "Selenocysteine (U) at position 388 replaced by X\r\n",
        "Selenocysteine (U) at position 390 replaced by X\r\n",
        "Selenocysteine (U) at position 397 replaced by X\r\n",
        "Selenocysteine (U) at position 399 replaced by X\r\n"
       ]
      },
      {
       "output_type": "stream",
       "stream": "stdout",
       "text": [
        "Selenocysteine (U) at position 387 replaced by X\r\n",
        "Selenocysteine (U) at position 388 replaced by X\r\n"
       ]
      },
      {
       "output_type": "stream",
       "stream": "stdout",
       "text": [
        "Selenocysteine (U) at position 196 replaced by X\r\n"
       ]
      },
      {
       "output_type": "stream",
       "stream": "stdout",
       "text": [
        "Selenocysteine (U) at position 38 replaced by X\r\n",
        "Selenocysteine (U) at position 59 replaced by X\r\n",
        "Selenocysteine (U) at position 259 replaced by X\r\n",
        "Selenocysteine (U) at position 277 replaced by X\r\n",
        "Selenocysteine (U) at position 318 replaced by X\r\n",
        "Selenocysteine (U) at position 330 replaced by X\r\n",
        "Selenocysteine (U) at position 352 replaced by X\r\n",
        "Selenocysteine (U) at position 366 replaced by X\r\n",
        "Selenocysteine (U) at position 368 replaced by X\r\n",
        "Selenocysteine (U) at position 375 replaced by X\r\n",
        "Selenocysteine (U) at position 377 replaced by X\r\n",
        "Selenocysteine (U) at position 59 replaced by X\r\n",
        "Selenocysteine (U) at position 259 replaced by X\r\n",
        "Selenocysteine (U) at position 277 replaced by X\r\n",
        "Selenocysteine (U) at position 318 replaced by X\r\n",
        "Selenocysteine (U) at position 330 replaced by X\r\n",
        "Selenocysteine (U) at position 352 replaced by X\r\n",
        "Selenocysteine (U) at position 366 replaced by X\r\n",
        "Selenocysteine (U) at position 368 replaced by X\r\n",
        "Selenocysteine (U) at position 375 replaced by X\r\n",
        "Selenocysteine (U) at position 377 replaced by X\r\n"
       ]
      },
      {
       "output_type": "stream",
       "stream": "stdout",
       "text": [
        "Selenocysteine (U) at position 273 replaced by X\r\n"
       ]
      },
      {
       "output_type": "stream",
       "stream": "stdout",
       "text": [
        "Selenocysteine (U) at position 613 replaced by X\r\n"
       ]
      },
      {
       "output_type": "stream",
       "stream": "stdout",
       "text": [
        "Selenocysteine (U) at position 612 replaced by X\r\n"
       ]
      },
      {
       "output_type": "stream",
       "stream": "stdout",
       "text": [
        "Selenocysteine (U) at position 388 replaced by X\r\n",
        "Selenocysteine (U) at position 388 replaced by X\r\n"
       ]
      },
      {
       "output_type": "stream",
       "stream": "stdout",
       "text": [
        "Selenocysteine (U) at position 196 replaced by X\r\n"
       ]
      },
      {
       "output_type": "stream",
       "stream": "stdout",
       "text": [
        "Selenocysteine (U) at position 523 replaced by X\r\n",
        "Selenocysteine (U) at position 525 replaced by X\r\n"
       ]
      },
      {
       "output_type": "stream",
       "stream": "stdout",
       "text": [
        "Selenocysteine (U) at position 121 replaced by X\r\n",
        "Selenocysteine (U) at position 121 replaced by X\r\n"
       ]
      },
      {
       "output_type": "stream",
       "stream": "stdout",
       "text": [
        "Selenocysteine (U) at position 121 replaced by X\r\n"
       ]
      },
      {
       "output_type": "stream",
       "stream": "stdout",
       "text": [
        "Selenocysteine (U) at position 133 replaced by X\r\n"
       ]
      },
      {
       "output_type": "stream",
       "stream": "stdout",
       "text": [
        "Selenocysteine (U) at position 196 replaced by X\r\n"
       ]
      },
      {
       "output_type": "stream",
       "stream": "stdout",
       "text": [
        "Selenocysteine (U) at position 43 replaced by X\r\n"
       ]
      },
      {
       "output_type": "stream",
       "stream": "stdout",
       "text": [
        "Selenocysteine (U) at position 43 replaced by X\r\n",
        "Selenocysteine (U) at position 43 replaced by X\r\n"
       ]
      },
      {
       "output_type": "stream",
       "stream": "stdout",
       "text": [
        "Selenocysteine (U) at position 43 replaced by X\r\n"
       ]
      },
      {
       "output_type": "stream",
       "stream": "stdout",
       "text": [
        "Selenocysteine (U) at position 637 replaced by X\r\n"
       ]
      },
      {
       "output_type": "stream",
       "stream": "stdout",
       "text": [
        "Selenocysteine (U) at position 59 replaced by X\r\n",
        "Selenocysteine (U) at position 267 replaced by X\r\n",
        "Selenocysteine (U) at position 273 replaced by X\r\n",
        "Selenocysteine (U) at position 279 replaced by X\r\n",
        "Selenocysteine (U) at position 290 replaced by X\r\n",
        "Selenocysteine (U) at position 292 replaced by X\r\n",
        "Selenocysteine (U) at position 294 replaced by X\r\n",
        "Selenocysteine (U) at position 310 replaced by X\r\n",
        "Selenocysteine (U) at position 320 replaced by X\r\n",
        "Selenocysteine (U) at position 322 replaced by X\r\n",
        "Selenocysteine (U) at position 336 replaced by X\r\n",
        "Selenocysteine (U) at position 338 replaced by X\r\n",
        "Selenocysteine (U) at position 346 replaced by X\r\n",
        "Selenocysteine (U) at position 353 replaced by X\r\n",
        "Selenocysteine (U) at position 355 replaced by X\r\n",
        "Selenocysteine (U) at position 362 replaced by X\r\n",
        "Selenocysteine (U) at position 364 replaced by X\r\n",
        "Selenocysteine (U) at position 59 replaced by X\r\n",
        "Selenocysteine (U) at position 267 replaced by X\r\n",
        "Selenocysteine (U) at position 273 replaced by X\r\n",
        "Selenocysteine (U) at position 279 replaced by X\r\n",
        "Selenocysteine (U) at position 290 replaced by X\r\n",
        "Selenocysteine (U) at position 292 replaced by X\r\n",
        "Selenocysteine (U) at position 294 replaced by X\r\n",
        "Selenocysteine (U) at position 310 replaced by X\r\n",
        "Selenocysteine (U) at position 320 replaced by X\r\n",
        "Selenocysteine (U) at position 322 replaced by X\r\n",
        "Selenocysteine (U) at position 336 replaced by X\r\n",
        "Selenocysteine (U) at position 338 replaced by X\r\n",
        "Selenocysteine (U) at position 346 replaced by X\r\n",
        "Selenocysteine (U) at position 353 replaced by X\r\n",
        "Selenocysteine (U) at position 355 replaced by X\r\n",
        "Selenocysteine (U) at position 362 replaced by X\r\n",
        "Selenocysteine (U) at position 364 replaced by X\r\n"
       ]
      },
      {
       "output_type": "stream",
       "stream": "stdout",
       "text": [
        "Selenocysteine (U) at position 59 replaced by X\r\n",
        "Selenocysteine (U) at position 267 replaced by X\r\n",
        "Selenocysteine (U) at position 273 replaced by X\r\n",
        "Selenocysteine (U) at position 279 replaced by X\r\n",
        "Selenocysteine (U) at position 290 replaced by X\r\n",
        "Selenocysteine (U) at position 292 replaced by X\r\n",
        "Selenocysteine (U) at position 294 replaced by X\r\n",
        "Selenocysteine (U) at position 310 replaced by X\r\n",
        "Selenocysteine (U) at position 320 replaced by X\r\n",
        "Selenocysteine (U) at position 322 replaced by X\r\n",
        "Selenocysteine (U) at position 336 replaced by X\r\n",
        "Selenocysteine (U) at position 338 replaced by X\r\n",
        "Selenocysteine (U) at position 346 replaced by X\r\n",
        "Selenocysteine (U) at position 353 replaced by X\r\n",
        "Selenocysteine (U) at position 355 replaced by X\r\n",
        "Selenocysteine (U) at position 362 replaced by X\r\n",
        "Selenocysteine (U) at position 364 replaced by X\r\n",
        "Selenocysteine (U) at position 59 replaced by X\r\n",
        "Selenocysteine (U) at position 267 replaced by X\r\n",
        "Selenocysteine (U) at position 273 replaced by X\r\n",
        "Selenocysteine (U) at position 279 replaced by X\r\n",
        "Selenocysteine (U) at position 290 replaced by X\r\n",
        "Selenocysteine (U) at position 292 replaced by X\r\n",
        "Selenocysteine (U) at position 294 replaced by X\r\n",
        "Selenocysteine (U) at position 310 replaced by X\r\n",
        "Selenocysteine (U) at position 320 replaced by X\r\n",
        "Selenocysteine (U) at position 322 replaced by X\r\n",
        "Selenocysteine (U) at position 336 replaced by X\r\n",
        "Selenocysteine (U) at position 338 replaced by X\r\n",
        "Selenocysteine (U) at position 346 replaced by X\r\n",
        "Selenocysteine (U) at position 353 replaced by X\r\n",
        "Selenocysteine (U) at position 355 replaced by X\r\n",
        "Selenocysteine (U) at position 362 replaced by X\r\n",
        "Selenocysteine (U) at position 364 replaced by X\r\n",
        "Selenocysteine (U) at position 59 replaced by X\r\n",
        "Selenocysteine (U) at position 267 replaced by X\r\n",
        "Selenocysteine (U) at position 273 replaced by X\r\n",
        "Selenocysteine (U) at position 279 replaced by X\r\n",
        "Selenocysteine (U) at position 290 replaced by X\r\n",
        "Selenocysteine (U) at position 292 replaced by X\r\n",
        "Selenocysteine (U) at position 294 replaced by X\r\n",
        "Selenocysteine (U) at position 310 replaced by X\r\n",
        "Selenocysteine (U) at position 320 replaced by X\r\n",
        "Selenocysteine (U) at position 322 replaced by X\r\n",
        "Selenocysteine (U) at position 336 replaced by X\r\n",
        "Selenocysteine (U) at position 338 replaced by X\r\n",
        "Selenocysteine (U) at position 346 replaced by X\r\n",
        "Selenocysteine (U) at position 353 replaced by X\r\n",
        "Selenocysteine (U) at position 355 replaced by X\r\n",
        "Selenocysteine (U) at position 362 replaced by X\r\n",
        "Selenocysteine (U) at position 364 replaced by X\r\n",
        "Selenocysteine (U) at position 59 replaced by X\r\n",
        "Selenocysteine (U) at position 267 replaced by X\r\n",
        "Selenocysteine (U) at position 273 replaced by X\r\n",
        "Selenocysteine (U) at position 279 replaced by X\r\n",
        "Selenocysteine (U) at position 290 replaced by X\r\n",
        "Selenocysteine (U) at position 292 replaced by X\r\n",
        "Selenocysteine (U) at position 294 replaced by X\r\n",
        "Selenocysteine (U) at position 310 replaced by X\r\n",
        "Selenocysteine (U) at position 320 replaced by X\r\n",
        "Selenocysteine (U) at position 322 replaced by X\r\n",
        "Selenocysteine (U) at position 336 replaced by X\r\n",
        "Selenocysteine (U) at position 338 replaced by X\r\n",
        "Selenocysteine (U) at position 346 replaced by X\r\n",
        "Selenocysteine (U) at position 353 replaced by X\r\n",
        "Selenocysteine (U) at position 355 replaced by X\r\n",
        "Selenocysteine (U) at position 362 replaced by X\r\n",
        "Selenocysteine (U) at position 364 replaced by X\r\n"
       ]
      },
      {
       "output_type": "stream",
       "stream": "stdout",
       "text": [
        "Selenocysteine (U) at position 59 replaced by X\r\n",
        "Selenocysteine (U) at position 267 replaced by X\r\n",
        "Selenocysteine (U) at position 273 replaced by X\r\n",
        "Selenocysteine (U) at position 279 replaced by X\r\n",
        "Selenocysteine (U) at position 290 replaced by X\r\n",
        "Selenocysteine (U) at position 292 replaced by X\r\n",
        "Selenocysteine (U) at position 294 replaced by X\r\n",
        "Selenocysteine (U) at position 310 replaced by X\r\n",
        "Selenocysteine (U) at position 320 replaced by X\r\n",
        "Selenocysteine (U) at position 322 replaced by X\r\n",
        "Selenocysteine (U) at position 336 replaced by X\r\n",
        "Selenocysteine (U) at position 338 replaced by X\r\n",
        "Selenocysteine (U) at position 346 replaced by X\r\n",
        "Selenocysteine (U) at position 353 replaced by X\r\n",
        "Selenocysteine (U) at position 355 replaced by X\r\n",
        "Selenocysteine (U) at position 362 replaced by X\r\n",
        "Selenocysteine (U) at position 364 replaced by X\r\n"
       ]
      },
      {
       "output_type": "stream",
       "stream": "stdout",
       "text": [
        "Selenocysteine (U) at position 59 replaced by X\r\n",
        "Selenocysteine (U) at position 267 replaced by X\r\n",
        "Selenocysteine (U) at position 273 replaced by X\r\n",
        "Selenocysteine (U) at position 279 replaced by X\r\n",
        "Selenocysteine (U) at position 290 replaced by X\r\n",
        "Selenocysteine (U) at position 292 replaced by X\r\n",
        "Selenocysteine (U) at position 294 replaced by X\r\n",
        "Selenocysteine (U) at position 310 replaced by X\r\n",
        "Selenocysteine (U) at position 320 replaced by X\r\n",
        "Selenocysteine (U) at position 322 replaced by X\r\n",
        "Selenocysteine (U) at position 336 replaced by X\r\n",
        "Selenocysteine (U) at position 338 replaced by X\r\n",
        "Selenocysteine (U) at position 346 replaced by X\r\n",
        "Selenocysteine (U) at position 353 replaced by X\r\n",
        "Selenocysteine (U) at position 355 replaced by X\r\n",
        "Selenocysteine (U) at position 362 replaced by X\r\n",
        "Selenocysteine (U) at position 364 replaced by X\r\n"
       ]
      },
      {
       "output_type": "stream",
       "stream": "stdout",
       "text": [
        "Selenocysteine (U) at position 637 replaced by X\r\n",
        "Selenocysteine (U) at position 637 replaced by X\r\n",
        "Selenocysteine (U) at position 637 replaced by X\r\n",
        "Selenocysteine (U) at position 637 replaced by X\r\n",
        "Selenocysteine (U) at position 690 replaced by X\r\n",
        "Selenocysteine (U) at position 690 replaced by X\r\n",
        "Selenocysteine (U) at position 690 replaced by X\r\n"
       ]
      },
      {
       "output_type": "stream",
       "stream": "stdout",
       "text": [
        "Selenocysteine (U) at position 131 replaced by X\r\n",
        "Selenocysteine (U) at position 131 replaced by X\r\n",
        "Selenocysteine (U) at position 131 replaced by X\r\n"
       ]
      },
      {
       "output_type": "stream",
       "stream": "stdout",
       "text": [
        "Selenocysteine (U) at position 59 replaced by X\r\n",
        "Selenocysteine (U) at position 297 replaced by X\r\n",
        "Selenocysteine (U) at position 307 replaced by X\r\n",
        "Selenocysteine (U) at position 338 replaced by X\r\n",
        "Selenocysteine (U) at position 350 replaced by X\r\n",
        "Selenocysteine (U) at position 363 replaced by X\r\n",
        "Selenocysteine (U) at position 365 replaced by X\r\n",
        "Selenocysteine (U) at position 372 replaced by X\r\n",
        "Selenocysteine (U) at position 388 replaced by X\r\n",
        "Selenocysteine (U) at position 390 replaced by X\r\n",
        "Selenocysteine (U) at position 397 replaced by X\r\n",
        "Selenocysteine (U) at position 399 replaced by X\r\n",
        "Selenocysteine (U) at position 59 replaced by X\r\n",
        "Selenocysteine (U) at position 297 replaced by X\r\n",
        "Selenocysteine (U) at position 307 replaced by X\r\n",
        "Selenocysteine (U) at position 338 replaced by X\r\n",
        "Selenocysteine (U) at position 350 replaced by X\r\n",
        "Selenocysteine (U) at position 363 replaced by X\r\n",
        "Selenocysteine (U) at position 365 replaced by X\r\n",
        "Selenocysteine (U) at position 372 replaced by X\r\n",
        "Selenocysteine (U) at position 388 replaced by X\r\n",
        "Selenocysteine (U) at position 390 replaced by X\r\n",
        "Selenocysteine (U) at position 397 replaced by X\r\n",
        "Selenocysteine (U) at position 399 replaced by X\r\n"
       ]
      },
      {
       "output_type": "stream",
       "stream": "stdout",
       "text": [
        "Selenocysteine (U) at position 59 replaced by X\r\n",
        "Selenocysteine (U) at position 297 replaced by X\r\n",
        "Selenocysteine (U) at position 307 replaced by X\r\n",
        "Selenocysteine (U) at position 338 replaced by X\r\n",
        "Selenocysteine (U) at position 350 replaced by X\r\n",
        "Selenocysteine (U) at position 363 replaced by X\r\n",
        "Selenocysteine (U) at position 365 replaced by X\r\n",
        "Selenocysteine (U) at position 372 replaced by X\r\n",
        "Selenocysteine (U) at position 388 replaced by X\r\n",
        "Selenocysteine (U) at position 390 replaced by X\r\n",
        "Selenocysteine (U) at position 397 replaced by X\r\n",
        "Selenocysteine (U) at position 399 replaced by X\r\n"
       ]
      },
      {
       "output_type": "stream",
       "stream": "stdout",
       "text": [
        "Selenocysteine (U) at position 665 replaced by X\r\n",
        "Selenocysteine (U) at position 273 replaced by X\r\n"
       ]
      },
      {
       "output_type": "stream",
       "stream": "stdout",
       "text": [
        "Selenocysteine (U) at position 273 replaced by X\r\n",
        "Selenocysteine (U) at position 273 replaced by X\r\n"
       ]
      },
      {
       "output_type": "stream",
       "stream": "stdout",
       "text": [
        "Selenocysteine (U) at position 273 replaced by X\r\n"
       ]
      },
      {
       "output_type": "stream",
       "stream": "stdout",
       "text": [
        "Selenocysteine (U) at position 498 replaced by X\r\n",
        "Selenocysteine (U) at position 498 replaced by X\r\n",
        "Selenocysteine (U) at position 666 replaced by X\r\n",
        "Selenocysteine (U) at position 666 replaced by X\r\n",
        "Selenocysteine (U) at position 498 replaced by X\r\n",
        "Selenocysteine (U) at position 498 replaced by X\r\n"
       ]
      },
      {
       "output_type": "stream",
       "stream": "stdout",
       "text": [
        "Selenocysteine (U) at position 690 replaced by X\r\n",
        "Selenocysteine (U) at position 690 replaced by X\r\n"
       ]
      },
      {
       "output_type": "stream",
       "stream": "stdout",
       "text": [
        "Selenocysteine (U) at position 690 replaced by X\r\n"
       ]
      },
      {
       "output_type": "stream",
       "stream": "stdout",
       "text": [
        "Selenocysteine (U) at position 15 replaced by X\r\n"
       ]
      },
      {
       "output_type": "stream",
       "stream": "stdout",
       "text": [
        "Selenocysteine (U) at position 690 replaced by X\r\n",
        "Selenocysteine (U) at position 690 replaced by X\r\n"
       ]
      },
      {
       "output_type": "stream",
       "stream": "stdout",
       "text": [
        "Selenocysteine (U) at position 65 replaced by X\r\n"
       ]
      },
      {
       "output_type": "stream",
       "stream": "stdout",
       "text": [
        "Selenocysteine (U) at position 65 replaced by X\r\n"
       ]
      },
      {
       "output_type": "stream",
       "stream": "stdout",
       "text": [
        "Selenocysteine (U) at position 637 replaced by X\r\n",
        "Selenocysteine (U) at position 637 replaced by X\r\n",
        "Selenocysteine (U) at position 637 replaced by X\r\n",
        "Selenocysteine (U) at position 637 replaced by X\r\n",
        "Selenocysteine (U) at position 637 replaced by X\r\n",
        "Selenocysteine (U) at position 637 replaced by X\r\n",
        "Selenocysteine (U) at position 637 replaced by X\r\n",
        "Selenocysteine (U) at position 637 replaced by X\r\n",
        "Selenocysteine (U) at position 637 replaced by X\r\n",
        "Selenocysteine (U) at position 690 replaced by X\r\n",
        "Selenocysteine (U) at position 690 replaced by X\r\n"
       ]
      },
      {
       "output_type": "stream",
       "stream": "stdout",
       "text": [
        "Selenocysteine (U) at position 690 replaced by X\r\n",
        "Selenocysteine (U) at position 690 replaced by X\r\n",
        "Selenocysteine (U) at position 690 replaced by X\r\n",
        "Selenocysteine (U) at position 690 replaced by X\r\n"
       ]
      },
      {
       "output_type": "stream",
       "stream": "stdout",
       "text": [
        "Selenocysteine (U) at position 122 replaced by X\r\n",
        "Selenocysteine (U) at position 122 replaced by X\r\n",
        "Selenocysteine (U) at position 131 replaced by X\r\n",
        "Selenocysteine (U) at position 131 replaced by X\r\n",
        "Selenocysteine (U) at position 132 replaced by X\r\n",
        "Selenocysteine (U) at position 132 replaced by X\r\n"
       ]
      },
      {
       "output_type": "stream",
       "stream": "stdout",
       "text": [
        "Selenocysteine (U) at position 64 replaced by X\r\n"
       ]
      },
      {
       "output_type": "stream",
       "stream": "stdout",
       "text": [
        "Selenocysteine (U) at position 637 replaced by X\r\n"
       ]
      },
      {
       "output_type": "stream",
       "stream": "stdout",
       "text": [
        "Selenocysteine (U) at position 648 replaced by X\r\n",
        "Selenocysteine (U) at position 498 replaced by X\r\n",
        "Selenocysteine (U) at position 498 replaced by X\r\n"
       ]
      },
      {
       "output_type": "stream",
       "stream": "stdout",
       "text": [
        "Selenocysteine (U) at position 13 replaced by X\r\n",
        "Selenocysteine (U) at position 64 replaced by X\r\n"
       ]
      },
      {
       "output_type": "stream",
       "stream": "stdout",
       "text": [
        "Selenocysteine (U) at position 47 replaced by X\r\n",
        "Selenocysteine (U) at position 47 replaced by X\r\n",
        "Selenocysteine (U) at position 47 replaced by X\r\n"
       ]
      },
      {
       "output_type": "stream",
       "stream": "stdout",
       "text": [
        "Selenocysteine (U) at position 124 replaced by X\r\n"
       ]
      },
      {
       "output_type": "stream",
       "stream": "stdout",
       "text": [
        "Selenocysteine (U) at position 106 replaced by X\r\n",
        "Selenocysteine (U) at position 106 replaced by X\r\n",
        "Selenocysteine (U) at position 106 replaced by X\r\n",
        "Selenocysteine (U) at position 106 replaced by X\r\n"
       ]
      },
      {
       "output_type": "stream",
       "stream": "stdout",
       "text": [
        "Selenocysteine (U) at position 59 replaced by X\r\n",
        "Selenocysteine (U) at position 297 replaced by X\r\n",
        "Selenocysteine (U) at position 307 replaced by X\r\n",
        "Selenocysteine (U) at position 338 replaced by X\r\n",
        "Selenocysteine (U) at position 350 replaced by X\r\n",
        "Selenocysteine (U) at position 363 replaced by X\r\n",
        "Selenocysteine (U) at position 365 replaced by X\r\n",
        "Selenocysteine (U) at position 372 replaced by X\r\n",
        "Selenocysteine (U) at position 388 replaced by X\r\n",
        "Selenocysteine (U) at position 390 replaced by X\r\n",
        "Selenocysteine (U) at position 397 replaced by X\r\n",
        "Selenocysteine (U) at position 399 replaced by X\r\n"
       ]
      },
      {
       "output_type": "stream",
       "stream": "stdout",
       "text": [
        "Selenocysteine (U) at position 59 replaced by X\r\n",
        "Selenocysteine (U) at position 297 replaced by X\r\n",
        "Selenocysteine (U) at position 307 replaced by X\r\n",
        "Selenocysteine (U) at position 338 replaced by X\r\n",
        "Selenocysteine (U) at position 350 replaced by X\r\n",
        "Selenocysteine (U) at position 363 replaced by X\r\n",
        "Selenocysteine (U) at position 365 replaced by X\r\n",
        "Selenocysteine (U) at position 372 replaced by X\r\n",
        "Selenocysteine (U) at position 388 replaced by X\r\n",
        "Selenocysteine (U) at position 390 replaced by X\r\n",
        "Selenocysteine (U) at position 397 replaced by X\r\n",
        "Selenocysteine (U) at position 399 replaced by X\r\n"
       ]
      },
      {
       "output_type": "stream",
       "stream": "stdout",
       "text": [
        "Selenocysteine (U) at position 15 replaced by X\r\n",
        "Selenocysteine (U) at position 15 replaced by X\r\n"
       ]
      },
      {
       "output_type": "stream",
       "stream": "stdout",
       "text": [
        "Selenocysteine (U) at position 92 replaced by X\r\n"
       ]
      },
      {
       "output_type": "stream",
       "stream": "stdout",
       "text": [
        "Selenocysteine (U) at position 350 replaced by X\r\n",
        "Selenocysteine (U) at position 350 replaced by X\r\n"
       ]
      },
      {
       "output_type": "stream",
       "stream": "stdout",
       "text": [
        "Selenocysteine (U) at position 350 replaced by X\r\n",
        "Selenocysteine (U) at position 350 replaced by X\r\n",
        "Selenocysteine (U) at position 350 replaced by X\r\n",
        "Selenocysteine (U) at position 350 replaced by X\r\n"
       ]
      },
      {
       "output_type": "stream",
       "stream": "stdout",
       "text": [
        "Selenocysteine (U) at position 350 replaced by X\r\n",
        "Selenocysteine (U) at position 350 replaced by X\r\n"
       ]
      },
      {
       "output_type": "stream",
       "stream": "stdout",
       "text": [
        "Selenocysteine (U) at position 690 replaced by X\r\n"
       ]
      },
      {
       "output_type": "stream",
       "stream": "stdout",
       "text": [
        "Selenocysteine (U) at position 430 replaced by X\r\n",
        "Selenocysteine (U) at position 430 replaced by X\r\n"
       ]
      },
      {
       "output_type": "stream",
       "stream": "stdout",
       "text": [
        "Selenocysteine (U) at position 133 replaced by X\r\n",
        "Selenocysteine (U) at position 266 replaced by X\r\n",
        "Selenocysteine (U) at position 130 replaced by X\r\n",
        "Selenocysteine (U) at position 263 replaced by X\r\n",
        "Selenocysteine (U) at position 130 replaced by X\r\n",
        "Selenocysteine (U) at position 263 replaced by X\r\n"
       ]
      },
      {
       "output_type": "stream",
       "stream": "stdout",
       "text": [
        "Selenocysteine (U) at position 128 replaced by X\r\n",
        "Selenocysteine (U) at position 261 replaced by X\r\n"
       ]
      },
      {
       "output_type": "stream",
       "stream": "stdout",
       "text": [
        "Selenocysteine (U) at position 59 replaced by X\r\n",
        "Selenocysteine (U) at position 297 replaced by X\r\n",
        "Selenocysteine (U) at position 307 replaced by X\r\n",
        "Selenocysteine (U) at position 338 replaced by X\r\n",
        "Selenocysteine (U) at position 350 replaced by X\r\n",
        "Selenocysteine (U) at position 363 replaced by X\r\n",
        "Selenocysteine (U) at position 365 replaced by X\r\n",
        "Selenocysteine (U) at position 372 replaced by X\r\n",
        "Selenocysteine (U) at position 388 replaced by X\r\n",
        "Selenocysteine (U) at position 390 replaced by X\r\n",
        "Selenocysteine (U) at position 397 replaced by X\r\n",
        "Selenocysteine (U) at position 399 replaced by X\r\n"
       ]
      },
      {
       "output_type": "stream",
       "stream": "stdout",
       "text": [
        "Selenocysteine (U) at position 59 replaced by X\r\n",
        "Selenocysteine (U) at position 267 replaced by X\r\n",
        "Selenocysteine (U) at position 273 replaced by X\r\n",
        "Selenocysteine (U) at position 279 replaced by X\r\n",
        "Selenocysteine (U) at position 290 replaced by X\r\n",
        "Selenocysteine (U) at position 292 replaced by X\r\n",
        "Selenocysteine (U) at position 294 replaced by X\r\n",
        "Selenocysteine (U) at position 310 replaced by X\r\n",
        "Selenocysteine (U) at position 320 replaced by X\r\n",
        "Selenocysteine (U) at position 322 replaced by X\r\n",
        "Selenocysteine (U) at position 336 replaced by X\r\n",
        "Selenocysteine (U) at position 338 replaced by X\r\n",
        "Selenocysteine (U) at position 346 replaced by X\r\n",
        "Selenocysteine (U) at position 353 replaced by X\r\n",
        "Selenocysteine (U) at position 355 replaced by X\r\n",
        "Selenocysteine (U) at position 362 replaced by X\r\n",
        "Selenocysteine (U) at position 364 replaced by X\r\n"
       ]
      },
      {
       "output_type": "stream",
       "stream": "stdout",
       "text": [
        "Selenocysteine (U) at position 47 replaced by X\r\n"
       ]
      },
      {
       "output_type": "stream",
       "stream": "stdout",
       "text": [
        "Selenocysteine (U) at position 47 replaced by X\r\n"
       ]
      },
      {
       "output_type": "stream",
       "stream": "stdout",
       "text": [
        "Selenocysteine (U) at position 196 replaced by X\r\n"
       ]
      },
      {
       "output_type": "stream",
       "stream": "stdout",
       "text": [
        "Selenocysteine (U) at position 690 replaced by X\r\n",
        "Selenocysteine (U) at position 690 replaced by X\r\n",
        "Selenocysteine (U) at position 665 replaced by X\r\n",
        "Selenocysteine (U) at position 665 replaced by X\r\n"
       ]
      },
      {
       "output_type": "stream",
       "stream": "stdout",
       "text": [
        "Selenocysteine (U) at position 144 replaced by X\r\n",
        "Selenocysteine (U) at position 122 replaced by X\r\n",
        "Selenocysteine (U) at position 144 replaced by X\r\n",
        "Selenocysteine (U) at position 144 replaced by X\r\n",
        "Selenocysteine (U) at position 144 replaced by X\r\n"
       ]
      },
      {
       "output_type": "stream",
       "stream": "stdout",
       "text": [
        "Selenocysteine (U) at position 133 replaced by X\r\n",
        "Selenocysteine (U) at position 266 replaced by X\r\n",
        "Selenocysteine (U) at position 130 replaced by X\r\n",
        "Selenocysteine (U) at position 263 replaced by X\r\n"
       ]
      },
      {
       "output_type": "stream",
       "stream": "stdout",
       "text": [
        "Selenocysteine (U) at position 93 replaced by X\r\n",
        "Selenocysteine (U) at position 92 replaced by X\r\n",
        "Selenocysteine (U) at position 92 replaced by X\r\n",
        "Selenocysteine (U) at position 92 replaced by X\r\n",
        "Selenocysteine (U) at position 92 replaced by X\r\n",
        "Selenocysteine (U) at position 92 replaced by X\r\n"
       ]
      },
      {
       "output_type": "stream",
       "stream": "stdout",
       "text": [
        "Selenocysteine (U) at position 47 replaced by X\r\n"
       ]
      },
      {
       "output_type": "stream",
       "stream": "stdout",
       "text": [
        "Selenocysteine (U) at position 134 replaced by X\r\n"
       ]
      },
      {
       "output_type": "stream",
       "stream": "stdout",
       "text": [
        "Selenocysteine (U) at position 134 replaced by X\r\n",
        "Selenocysteine (U) at position 134 replaced by X\r\n"
       ]
      },
      {
       "output_type": "stream",
       "stream": "stdout",
       "text": [
        "Selenocysteine (U) at position 430 replaced by X\r\n",
        "Selenocysteine (U) at position 430 replaced by X\r\n"
       ]
      },
      {
       "output_type": "stream",
       "stream": "stdout",
       "text": [
        "Selenocysteine (U) at position 430 replaced by X\r\n"
       ]
      },
      {
       "output_type": "stream",
       "stream": "stdout",
       "text": [
        "Selenocysteine (U) at position 132 replaced by X\r\n"
       ]
      },
      {
       "output_type": "stream",
       "stream": "stdout",
       "text": [
        "Selenocysteine (U) at position 59 replaced by X\r\n",
        "Selenocysteine (U) at position 297 replaced by X\r\n",
        "Selenocysteine (U) at position 307 replaced by X\r\n",
        "Selenocysteine (U) at position 338 replaced by X\r\n",
        "Selenocysteine (U) at position 350 replaced by X\r\n",
        "Selenocysteine (U) at position 363 replaced by X\r\n",
        "Selenocysteine (U) at position 365 replaced by X\r\n",
        "Selenocysteine (U) at position 372 replaced by X\r\n",
        "Selenocysteine (U) at position 388 replaced by X\r\n",
        "Selenocysteine (U) at position 390 replaced by X\r\n",
        "Selenocysteine (U) at position 397 replaced by X\r\n",
        "Selenocysteine (U) at position 399 replaced by X\r\n",
        "Selenocysteine (U) at position 59 replaced by X\r\n",
        "Selenocysteine (U) at position 297 replaced by X\r\n",
        "Selenocysteine (U) at position 307 replaced by X\r\n",
        "Selenocysteine (U) at position 338 replaced by X\r\n",
        "Selenocysteine (U) at position 350 replaced by X\r\n",
        "Selenocysteine (U) at position 363 replaced by X\r\n",
        "Selenocysteine (U) at position 365 replaced by X\r\n",
        "Selenocysteine (U) at position 372 replaced by X\r\n",
        "Selenocysteine (U) at position 388 replaced by X\r\n",
        "Selenocysteine (U) at position 390 replaced by X\r\n",
        "Selenocysteine (U) at position 397 replaced by X\r\n",
        "Selenocysteine (U) at position 399 replaced by X\r\n",
        "Selenocysteine (U) at position 59 replaced by X\r\n",
        "Selenocysteine (U) at position 297 replaced by X\r\n",
        "Selenocysteine (U) at position 307 replaced by X\r\n",
        "Selenocysteine (U) at position 338 replaced by X\r\n",
        "Selenocysteine (U) at position 350 replaced by X\r\n",
        "Selenocysteine (U) at position 363 replaced by X\r\n",
        "Selenocysteine (U) at position 365 replaced by X\r\n",
        "Selenocysteine (U) at position 372 replaced by X\r\n",
        "Selenocysteine (U) at position 388 replaced by X\r\n",
        "Selenocysteine (U) at position 390 replaced by X\r\n",
        "Selenocysteine (U) at position 397 replaced by X\r\n",
        "Selenocysteine (U) at position 399 replaced by X\r\n",
        "Selenocysteine (U) at position 59 replaced by X\r\n",
        "Selenocysteine (U) at position 297 replaced by X\r\n",
        "Selenocysteine (U) at position 307 replaced by X\r\n",
        "Selenocysteine (U) at position 338 replaced by X\r\n",
        "Selenocysteine (U) at position 350 replaced by X\r\n",
        "Selenocysteine (U) at position 363 replaced by X\r\n",
        "Selenocysteine (U) at position 365 replaced by X\r\n",
        "Selenocysteine (U) at position 372 replaced by X\r\n",
        "Selenocysteine (U) at position 388 replaced by X\r\n",
        "Selenocysteine (U) at position 390 replaced by X\r\n",
        "Selenocysteine (U) at position 397 replaced by X\r\n",
        "Selenocysteine (U) at position 399 replaced by X\r\n"
       ]
      },
      {
       "output_type": "stream",
       "stream": "stdout",
       "text": [
        "Selenocysteine (U) at position 637 replaced by X\r\n"
       ]
      },
      {
       "output_type": "stream",
       "stream": "stdout",
       "text": [
        "Selenocysteine (U) at position 637 replaced by X\r\n",
        "Selenocysteine (U) at position 637 replaced by X\r\n"
       ]
      },
      {
       "output_type": "stream",
       "stream": "stdout",
       "text": [
        "Selenocysteine (U) at position 196 replaced by X\r\n"
       ]
      },
      {
       "output_type": "stream",
       "stream": "stdout",
       "text": [
        "Selenocysteine (U) at position 637 replaced by X\r\n",
        "Selenocysteine (U) at position 690 replaced by X\r\n"
       ]
      },
      {
       "output_type": "stream",
       "stream": "stdout",
       "text": [
        "Selenocysteine (U) at position 140 replaced by X\r\n"
       ]
      },
      {
       "output_type": "stream",
       "stream": "stdout",
       "text": [
        "Selenocysteine (U) at position 64 replaced by X\r\n",
        "Selenocysteine (U) at position 64 replaced by X\r\n",
        "Selenocysteine (U) at position 64 replaced by X\r\n"
       ]
      },
      {
       "output_type": "stream",
       "stream": "stdout",
       "text": [
        "Selenocysteine (U) at position 60 replaced by X\r\n",
        "Selenocysteine (U) at position 63 replaced by X\r\n",
        "Selenocysteine (U) at position 63 replaced by X\r\n"
       ]
      },
      {
       "output_type": "stream",
       "stream": "stdout",
       "text": [
        "Selenocysteine (U) at position 126 replaced by X\r\n"
       ]
      },
      {
       "output_type": "stream",
       "stream": "stdout",
       "text": [
        "Selenocysteine (U) at position 59 replaced by X\r\n",
        "Selenocysteine (U) at position 259 replaced by X\r\n",
        "Selenocysteine (U) at position 277 replaced by X\r\n",
        "Selenocysteine (U) at position 318 replaced by X\r\n",
        "Selenocysteine (U) at position 330 replaced by X\r\n",
        "Selenocysteine (U) at position 352 replaced by X\r\n",
        "Selenocysteine (U) at position 366 replaced by X\r\n",
        "Selenocysteine (U) at position 368 replaced by X\r\n",
        "Selenocysteine (U) at position 375 replaced by X\r\n",
        "Selenocysteine (U) at position 377 replaced by X\r\n"
       ]
      },
      {
       "output_type": "stream",
       "stream": "stdout",
       "text": [
        "Selenocysteine (U) at position 43 replaced by X\r\n"
       ]
      },
      {
       "output_type": "stream",
       "stream": "stdout",
       "text": [
        "Selenocysteine (U) at position 59 replaced by X\r\n",
        "Selenocysteine (U) at position 297 replaced by X\r\n",
        "Selenocysteine (U) at position 307 replaced by X\r\n",
        "Selenocysteine (U) at position 338 replaced by X\r\n",
        "Selenocysteine (U) at position 350 replaced by X\r\n",
        "Selenocysteine (U) at position 363 replaced by X\r\n",
        "Selenocysteine (U) at position 365 replaced by X\r\n",
        "Selenocysteine (U) at position 372 replaced by X\r\n",
        "Selenocysteine (U) at position 388 replaced by X\r\n",
        "Selenocysteine (U) at position 390 replaced by X\r\n",
        "Selenocysteine (U) at position 397 replaced by X\r\n",
        "Selenocysteine (U) at position 399 replaced by X\r\n"
       ]
      },
      {
       "output_type": "stream",
       "stream": "stdout",
       "text": [
        "Selenocysteine (U) at position 130 replaced by X\r\n",
        "Selenocysteine (U) at position 263 replaced by X\r\n",
        "Selenocysteine (U) at position 130 replaced by X\r\n",
        "Selenocysteine (U) at position 263 replaced by X\r\n"
       ]
      },
      {
       "output_type": "stream",
       "stream": "stdout",
       "text": [
        "Selenocysteine (U) at position 17 replaced by X\r\n",
        "Selenocysteine (U) at position 17 replaced by X\r\n",
        "Selenocysteine (U) at position 127 replaced by X\r\n",
        "Selenocysteine (U) at position 462 replaced by X\r\n",
        "Selenocysteine (U) at position 24 replaced by X\r\n"
       ]
      },
      {
       "output_type": "stream",
       "stream": "stdout",
       "text": [
        "Selenocysteine (U) at position 436 replaced by X\r\n"
       ]
      }
     ],
     "prompt_number": 12
    },
    {
     "cell_type": "code",
     "collapsed": false,
     "input": [
      "#I think the blastx run above did not complete.  Wonderful.  After ~24hrs I get nothing."
     ],
     "language": "python",
     "metadata": {},
     "outputs": [],
     "prompt_number": 15
    },
    {
     "cell_type": "code",
     "collapsed": false,
     "input": [],
     "language": "python",
     "metadata": {},
     "outputs": []
    }
   ],
   "metadata": {}
  }
 ]
}