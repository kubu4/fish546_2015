{
 "metadata": {
  "name": "",
  "signature": "sha256:4cabf85ccd6250d136bb18ae7fc9bf8ed36e5674046484d5433c8ca8c621c948"
 },
 "nbformat": 3,
 "nbformat_minor": 0,
 "worksheets": [
  {
   "cells": [
    {
     "cell_type": "code",
     "collapsed": false,
     "input": [
      "pwd"
     ],
     "language": "python",
     "metadata": {},
     "outputs": [
      {
       "metadata": {},
       "output_type": "pyout",
       "prompt_number": 1,
       "text": [
        "u'/Volumes/Data/Sam/fish546_2015'"
       ]
      }
     ],
     "prompt_number": 1
    },
    {
     "cell_type": "code",
     "collapsed": false,
     "input": [
      "cd /usr/local/bioinformatics/"
     ],
     "language": "python",
     "metadata": {},
     "outputs": [
      {
       "output_type": "stream",
       "stream": "stdout",
       "text": [
        "/usr/local/bioinformatics\n"
       ]
      }
     ],
     "prompt_number": 9
    },
    {
     "cell_type": "code",
     "collapsed": false,
     "input": [
      "ls"
     ],
     "language": "python",
     "metadata": {},
     "outputs": [
      {
       "output_type": "stream",
       "stream": "stdout",
       "text": [
        "\u001b[34mFastQC\u001b[m\u001b[m/                     \u001b[35mbowtie\u001b[m\u001b[m@                     \u001b[35mfastx_toolkit\u001b[m\u001b[m@              \u001b[34mncbi-blast-2.2.29+\u001b[m\u001b[m/         source.sh\r\n",
        "\u001b[35mTrimmomatic\u001b[m\u001b[m@                \u001b[34mbowtie-1.0.0\u001b[m\u001b[m/               \u001b[34mfastx_toolkit-0.0.13.2\u001b[m\u001b[m/     \u001b[35mngsplot\u001b[m\u001b[m@                    \u001b[35mstacks\u001b[m\u001b[m@\r\n",
        "\u001b[34mTrimmomatic-0.30\u001b[m\u001b[m/           \u001b[35mbowtie2\u001b[m\u001b[m@                    \u001b[35mhmmer\u001b[m\u001b[m@                      \u001b[34mngsplot-2.08\u001b[m\u001b[m/               \u001b[34mstacks-1.13\u001b[m\u001b[m/\r\n",
        "\u001b[35mTrinotate\u001b[m\u001b[m@                  \u001b[34mbowtie2-2.1.0\u001b[m\u001b[m/              \u001b[34mhmmer-3.1b1\u001b[m\u001b[m/                \u001b[35mrsem\u001b[m\u001b[m@                       \u001b[34mtophat-2.0.13.OSX_x86_64\u001b[m\u001b[m/\r\n",
        "\u001b[34mTrinotate_r20140708\u001b[m\u001b[m/        \u001b[34mcufflinks-2.2.1.OSX_x86_64\u001b[m\u001b[m/ \u001b[34mlibgtextutils-0.6.1\u001b[m\u001b[m/        \u001b[34mrsem-1.2.10\u001b[m\u001b[m/                \u001b[35mtrinity\u001b[m\u001b[m@\r\n",
        "\u001b[34manaconda\u001b[m\u001b[m/                   \u001b[34mdbs\u001b[m\u001b[m/                        \u001b[35mncbi-blast\u001b[m\u001b[m@                 \u001b[34msignalp-4.1\u001b[m\u001b[m/                \u001b[34mtrinityrnaseq_r20131110\u001b[m\u001b[m/\r\n"
       ]
      }
     ],
     "prompt_number": 19
    },
    {
     "cell_type": "code",
     "collapsed": false,
     "input": [
      "!curl -O https://github.com/arq5x/bedtools2/releases/download/v2.22.1/bedtools-2.22.1.tar.gz"
     ],
     "language": "python",
     "metadata": {},
     "outputs": [
      {
       "output_type": "stream",
       "stream": "stdout",
       "text": [
        "  % Total    % Received % Xferd  Average Speed   Time    Time     Time  Current\r\n",
        "                                 Dload  Upload   Total   Spent    Left  Speed\r\n",
        "\r",
        "  0     0    0     0    0     0      0      0 --:--:-- --:--:-- --:--:--     0\r",
        "  0     0    0     0    0     0      0      0 --:--:-- --:--:-- --:--:--     0"
       ]
      },
      {
       "output_type": "stream",
       "stream": "stdout",
       "text": [
        "\r",
        "100   401    0   401    0     0    713      0 --:--:-- --:--:-- --:--:--   713\r\n"
       ]
      }
     ],
     "prompt_number": 20
    },
    {
     "cell_type": "code",
     "collapsed": false,
     "input": [],
     "language": "python",
     "metadata": {},
     "outputs": [
      {
       "output_type": "stream",
       "stream": "stdout",
       "text": [
        "\u001b[34mFastQC\u001b[m\u001b[m/                     \u001b[35mbowtie\u001b[m\u001b[m@                     \u001b[34mfastx_toolkit-0.0.13.2\u001b[m\u001b[m/     \u001b[34mngsplot-2.08\u001b[m\u001b[m/               \u001b[34mtophat-2.0.13.OSX_x86_64\u001b[m\u001b[m/\r\n",
        "\u001b[35mTrimmomatic\u001b[m\u001b[m@                \u001b[34mbowtie-1.0.0\u001b[m\u001b[m/               \u001b[35mhmmer\u001b[m\u001b[m@                      \u001b[35mrsem\u001b[m\u001b[m@                       \u001b[35mtrinity\u001b[m\u001b[m@\r\n",
        "\u001b[34mTrimmomatic-0.30\u001b[m\u001b[m/           \u001b[35mbowtie2\u001b[m\u001b[m@                    \u001b[34mhmmer-3.1b1\u001b[m\u001b[m/                \u001b[34mrsem-1.2.10\u001b[m\u001b[m/                \u001b[34mtrinityrnaseq_r20131110\u001b[m\u001b[m/\r\n",
        "\u001b[35mTrinotate\u001b[m\u001b[m@                  \u001b[34mbowtie2-2.1.0\u001b[m\u001b[m/              \u001b[34mlibgtextutils-0.6.1\u001b[m\u001b[m/        \u001b[34msignalp-4.1\u001b[m\u001b[m/\r\n",
        "\u001b[34mTrinotate_r20140708\u001b[m\u001b[m/        \u001b[34mcufflinks-2.2.1.OSX_x86_64\u001b[m\u001b[m/ \u001b[35mncbi-blast\u001b[m\u001b[m@                 source.sh\r\n",
        "\u001b[34manaconda\u001b[m\u001b[m/                   \u001b[34mdbs\u001b[m\u001b[m/                        \u001b[34mncbi-blast-2.2.29+\u001b[m\u001b[m/         \u001b[35mstacks\u001b[m\u001b[m@\r\n",
        "bedtools-2.22.1.tar.gz      \u001b[35mfastx_toolkit\u001b[m\u001b[m@              \u001b[35mngsplot\u001b[m\u001b[m@                    \u001b[34mstacks-1.13\u001b[m\u001b[m/\r\n"
       ]
      }
     ],
     "prompt_number": 21
    },
    {
     "cell_type": "code",
     "collapsed": false,
     "input": [
      "!tar -zxvf bedtools-2.22.1.tar.gz"
     ],
     "language": "python",
     "metadata": {},
     "outputs": [
      {
       "output_type": "stream",
       "stream": "stdout",
       "text": [
        "tar: Unrecognized archive format\r\n",
        "tar: Error exit delayed from previous errors.\r\n"
       ]
      }
     ],
     "prompt_number": 22
    },
    {
     "cell_type": "code",
     "collapsed": false,
     "input": [
      "!curl -O https://s3.amazonaws.com/github-cloud/releases/15059334"
     ],
     "language": "python",
     "metadata": {},
     "outputs": [
      {
       "output_type": "stream",
       "stream": "stdout",
       "text": [
        "  % Total    % Received % Xferd  Average Speed   Time    Time     Time  Current\r\n",
        "                                 Dload  Upload   Total   Spent    Left  Speed\r\n",
        "\r",
        "  0     0    0     0    0     0      0      0 --:--:-- --:--:-- --:--:--     0"
       ]
      },
      {
       "output_type": "stream",
       "stream": "stdout",
       "text": [
        "\r",
        "100   231    0   231    0     0    323      0 --:--:-- --:--:-- --:--:--   323\r\n"
       ]
      }
     ],
     "prompt_number": 23
    },
    {
     "cell_type": "code",
     "collapsed": false,
     "input": [
      "ls"
     ],
     "language": "python",
     "metadata": {},
     "outputs": [
      {
       "output_type": "stream",
       "stream": "stdout",
       "text": [
        "15059334                    bedtools-2.22.1.tar.gz      \u001b[35mfastx_toolkit\u001b[m\u001b[m@              \u001b[35mngsplot\u001b[m\u001b[m@                    \u001b[34mstacks-1.13\u001b[m\u001b[m/\r\n",
        "\u001b[34mFastQC\u001b[m\u001b[m/                     \u001b[35mbowtie\u001b[m\u001b[m@                     \u001b[34mfastx_toolkit-0.0.13.2\u001b[m\u001b[m/     \u001b[34mngsplot-2.08\u001b[m\u001b[m/               \u001b[34mtophat-2.0.13.OSX_x86_64\u001b[m\u001b[m/\r\n",
        "\u001b[35mTrimmomatic\u001b[m\u001b[m@                \u001b[34mbowtie-1.0.0\u001b[m\u001b[m/               \u001b[35mhmmer\u001b[m\u001b[m@                      \u001b[35mrsem\u001b[m\u001b[m@                       \u001b[35mtrinity\u001b[m\u001b[m@\r\n",
        "\u001b[34mTrimmomatic-0.30\u001b[m\u001b[m/           \u001b[35mbowtie2\u001b[m\u001b[m@                    \u001b[34mhmmer-3.1b1\u001b[m\u001b[m/                \u001b[34mrsem-1.2.10\u001b[m\u001b[m/                \u001b[34mtrinityrnaseq_r20131110\u001b[m\u001b[m/\r\n",
        "\u001b[35mTrinotate\u001b[m\u001b[m@                  \u001b[34mbowtie2-2.1.0\u001b[m\u001b[m/              \u001b[34mlibgtextutils-0.6.1\u001b[m\u001b[m/        \u001b[34msignalp-4.1\u001b[m\u001b[m/\r\n",
        "\u001b[34mTrinotate_r20140708\u001b[m\u001b[m/        \u001b[34mcufflinks-2.2.1.OSX_x86_64\u001b[m\u001b[m/ \u001b[35mncbi-blast\u001b[m\u001b[m@                 source.sh\r\n",
        "\u001b[34manaconda\u001b[m\u001b[m/                   \u001b[34mdbs\u001b[m\u001b[m/                        \u001b[34mncbi-blast-2.2.29+\u001b[m\u001b[m/         \u001b[35mstacks\u001b[m\u001b[m@\r\n"
       ]
      }
     ],
     "prompt_number": 25
    },
    {
     "cell_type": "code",
     "collapsed": false,
     "input": [
      "!tar -zxvf 15059334"
     ],
     "language": "python",
     "metadata": {},
     "outputs": [
      {
       "output_type": "stream",
       "stream": "stdout",
       "text": [
        "tar: Unrecognized archive format\r\n",
        "tar: Error exit delayed from previous errors.\r\n"
       ]
      }
     ],
     "prompt_number": 26
    },
    {
     "cell_type": "code",
     "collapsed": false,
     "input": [
      "!rm 15059334"
     ],
     "language": "python",
     "metadata": {},
     "outputs": [],
     "prompt_number": 27
    },
    {
     "cell_type": "code",
     "collapsed": false,
     "input": [
      "!rm bedtools-2.22.1.tar.gz"
     ],
     "language": "python",
     "metadata": {},
     "outputs": [],
     "prompt_number": 28
    },
    {
     "cell_type": "code",
     "collapsed": false,
     "input": [
      "!curl -O https://github.com/arq5x/bedtools2/releases/download/v2.22.0/bedtools-2.22.0.tar.gz"
     ],
     "language": "python",
     "metadata": {},
     "outputs": [
      {
       "output_type": "stream",
       "stream": "stdout",
       "text": [
        "  % Total    % Received % Xferd  Average Speed   Time    Time     Time  Current\r\n",
        "                                 Dload  Upload   Total   Spent    Left  Speed\r\n",
        "\r",
        "  0     0    0     0    0     0      0      0 --:--:-- --:--:-- --:--:--     0"
       ]
      },
      {
       "output_type": "stream",
       "stream": "stdout",
       "text": [
        "\r",
        "100   399    0   399    0     0    841      0 --:--:-- --:--:-- --:--:--   841\r\n"
       ]
      }
     ],
     "prompt_number": 29
    },
    {
     "cell_type": "code",
     "collapsed": false,
     "input": [
      "ls"
     ],
     "language": "python",
     "metadata": {},
     "outputs": [
      {
       "output_type": "stream",
       "stream": "stdout",
       "text": [
        "\u001b[34mFastQC\u001b[m\u001b[m/                     \u001b[35mbowtie\u001b[m\u001b[m@                     \u001b[34mfastx_toolkit-0.0.13.2\u001b[m\u001b[m/     \u001b[34mngsplot-2.08\u001b[m\u001b[m/               \u001b[34mtophat-2.0.13.OSX_x86_64\u001b[m\u001b[m/\r\n",
        "\u001b[35mTrimmomatic\u001b[m\u001b[m@                \u001b[34mbowtie-1.0.0\u001b[m\u001b[m/               \u001b[35mhmmer\u001b[m\u001b[m@                      \u001b[35mrsem\u001b[m\u001b[m@                       \u001b[35mtrinity\u001b[m\u001b[m@\r\n",
        "\u001b[34mTrimmomatic-0.30\u001b[m\u001b[m/           \u001b[35mbowtie2\u001b[m\u001b[m@                    \u001b[34mhmmer-3.1b1\u001b[m\u001b[m/                \u001b[34mrsem-1.2.10\u001b[m\u001b[m/                \u001b[34mtrinityrnaseq_r20131110\u001b[m\u001b[m/\r\n",
        "\u001b[35mTrinotate\u001b[m\u001b[m@                  \u001b[34mbowtie2-2.1.0\u001b[m\u001b[m/              \u001b[34mlibgtextutils-0.6.1\u001b[m\u001b[m/        \u001b[34msignalp-4.1\u001b[m\u001b[m/\r\n",
        "\u001b[34mTrinotate_r20140708\u001b[m\u001b[m/        \u001b[34mcufflinks-2.2.1.OSX_x86_64\u001b[m\u001b[m/ \u001b[35mncbi-blast\u001b[m\u001b[m@                 source.sh\r\n",
        "\u001b[34manaconda\u001b[m\u001b[m/                   \u001b[34mdbs\u001b[m\u001b[m/                        \u001b[34mncbi-blast-2.2.29+\u001b[m\u001b[m/         \u001b[35mstacks\u001b[m\u001b[m@\r\n",
        "bedtools-2.22.0.tar.gz      \u001b[35mfastx_toolkit\u001b[m\u001b[m@              \u001b[35mngsplot\u001b[m\u001b[m@                    \u001b[34mstacks-1.13\u001b[m\u001b[m/\r\n"
       ]
      }
     ],
     "prompt_number": 30
    },
    {
     "cell_type": "code",
     "collapsed": false,
     "input": [
      "!tar -zxvf bedtools-2.22.0.tar.gz"
     ],
     "language": "python",
     "metadata": {},
     "outputs": [
      {
       "output_type": "stream",
       "stream": "stdout",
       "text": [
        "tar: Unrecognized archive format\r\n",
        "tar: Error exit delayed from previous errors.\r\n"
       ]
      }
     ],
     "prompt_number": 31
    },
    {
     "cell_type": "code",
     "collapsed": false,
     "input": [
      "!curl -O https://github.com/arq5x/bedtools2/releases/download/v2.22.1/bedtools-2.22.1.tar.gz"
     ],
     "language": "python",
     "metadata": {},
     "outputs": [
      {
       "output_type": "stream",
       "stream": "stdout",
       "text": [
        "  % Total    % Received % Xferd  Average Speed   Time    Time     Time  Current\r\n",
        "                                 Dload  Upload   Total   Spent    Left  Speed\r\n",
        "\r",
        "  0     0    0     0    0     0      0      0 --:--:-- --:--:-- --:--:--     0"
       ]
      },
      {
       "output_type": "stream",
       "stream": "stdout",
       "text": [
        "\r",
        "  0     0    0     0    0     0      0      0 --:--:-- --:--:-- --:--:--     0"
       ]
      },
      {
       "output_type": "stream",
       "stream": "stdout",
       "text": [
        "\r",
        "100   403    0   403    0     0    729      0 --:--:-- --:--:-- --:--:--   728\r\n"
       ]
      }
     ],
     "prompt_number": 32
    },
    {
     "cell_type": "code",
     "collapsed": false,
     "input": [
      "ls"
     ],
     "language": "python",
     "metadata": {},
     "outputs": [
      {
       "output_type": "stream",
       "stream": "stdout",
       "text": [
        "\u001b[34mFastQC\u001b[m\u001b[m/                     bedtools-2.22.1.tar.gz      \u001b[35mfastx_toolkit\u001b[m\u001b[m@              \u001b[35mngsplot\u001b[m\u001b[m@                    \u001b[34mstacks-1.13\u001b[m\u001b[m/\r\n",
        "\u001b[35mTrimmomatic\u001b[m\u001b[m@                \u001b[35mbowtie\u001b[m\u001b[m@                     \u001b[34mfastx_toolkit-0.0.13.2\u001b[m\u001b[m/     \u001b[34mngsplot-2.08\u001b[m\u001b[m/               \u001b[34mtophat-2.0.13.OSX_x86_64\u001b[m\u001b[m/\r\n",
        "\u001b[34mTrimmomatic-0.30\u001b[m\u001b[m/           \u001b[34mbowtie-1.0.0\u001b[m\u001b[m/               \u001b[35mhmmer\u001b[m\u001b[m@                      \u001b[35mrsem\u001b[m\u001b[m@                       \u001b[35mtrinity\u001b[m\u001b[m@\r\n",
        "\u001b[35mTrinotate\u001b[m\u001b[m@                  \u001b[35mbowtie2\u001b[m\u001b[m@                    \u001b[34mhmmer-3.1b1\u001b[m\u001b[m/                \u001b[34mrsem-1.2.10\u001b[m\u001b[m/                \u001b[34mtrinityrnaseq_r20131110\u001b[m\u001b[m/\r\n",
        "\u001b[34mTrinotate_r20140708\u001b[m\u001b[m/        \u001b[34mbowtie2-2.1.0\u001b[m\u001b[m/              \u001b[34mlibgtextutils-0.6.1\u001b[m\u001b[m/        \u001b[34msignalp-4.1\u001b[m\u001b[m/\r\n",
        "\u001b[34manaconda\u001b[m\u001b[m/                   \u001b[34mcufflinks-2.2.1.OSX_x86_64\u001b[m\u001b[m/ \u001b[35mncbi-blast\u001b[m\u001b[m@                 source.sh\r\n",
        "bedtools-2.22.0.tar.gz      \u001b[34mdbs\u001b[m\u001b[m/                        \u001b[34mncbi-blast-2.2.29+\u001b[m\u001b[m/         \u001b[35mstacks\u001b[m\u001b[m@\r\n"
       ]
      }
     ],
     "prompt_number": 33
    },
    {
     "cell_type": "code",
     "collapsed": false,
     "input": [
      "!tar -zxvf bedtools-2.22.1.tar.gz"
     ],
     "language": "python",
     "metadata": {},
     "outputs": [
      {
       "output_type": "stream",
       "stream": "stdout",
       "text": [
        "tar: Unrecognized archive format\r\n",
        "tar: Error exit delayed from previous errors.\r\n"
       ]
      }
     ],
     "prompt_number": 34
    },
    {
     "cell_type": "code",
     "collapsed": false,
     "input": [
      "!curl -O https://github.com/arq5x/bedtools2/releases/download/v2.22.1/bedtools-2.22.1.tar.gz > BEDtools.tar.gz"
     ],
     "language": "python",
     "metadata": {},
     "outputs": [
      {
       "output_type": "stream",
       "stream": "stdout",
       "text": [
        "  % Total    % Received % Xferd  Average Speed   Time    Time     Time  Current\r\n",
        "                                 Dload  Upload   Total   Spent    Left  Speed\r\n",
        "\r",
        "  0     0    0     0    0     0      0      0 --:--:-- --:--:-- --:--:--     0"
       ]
      },
      {
       "output_type": "stream",
       "stream": "stdout",
       "text": [
        "\r",
        "  0     0    0     0    0     0      0      0 --:--:-- --:--:-- --:--:--     0"
       ]
      },
      {
       "output_type": "stream",
       "stream": "stdout",
       "text": [
        "\r",
        "100   399    0   399    0     0    392      0 --:--:--  0:00:01 --:--:--   393\r\n"
       ]
      }
     ],
     "prompt_number": 37
    },
    {
     "cell_type": "code",
     "collapsed": false,
     "input": [
      "!tar -zxvf bedtools-2.22.1.tar.gz"
     ],
     "language": "python",
     "metadata": {},
     "outputs": [
      {
       "output_type": "stream",
       "stream": "stdout",
       "text": [
        "tar: Unrecognized archive format\r\n",
        "tar: Error exit delayed from previous errors.\r\n"
       ]
      }
     ],
     "prompt_number": 36
    },
    {
     "cell_type": "code",
     "collapsed": false,
     "input": [
      "!curl https://github.com/arq5x/bedtools2/releases/download/v2.22.1/bedtools-2.22.1.tar.gz > bedtools-2.22.1.tar.gz"
     ],
     "language": "python",
     "metadata": {},
     "outputs": [
      {
       "output_type": "stream",
       "stream": "stdout",
       "text": [
        "  % Total    % Received % Xferd  Average Speed   Time    Time     Time  Current\r\n",
        "                                 Dload  Upload   Total   Spent    Left  Speed\r\n",
        "\r",
        "  0     0    0     0    0     0      0      0 --:--:-- --:--:-- --:--:--     0"
       ]
      },
      {
       "output_type": "stream",
       "stream": "stdout",
       "text": [
        "\r",
        "  0     0    0     0    0     0      0      0 --:--:-- --:--:-- --:--:--     0"
       ]
      },
      {
       "output_type": "stream",
       "stream": "stdout",
       "text": [
        "\r",
        "100   399    0   399    0     0    793      0 --:--:-- --:--:-- --:--:--   793\r\n"
       ]
      }
     ],
     "prompt_number": 38
    },
    {
     "cell_type": "code",
     "collapsed": false,
     "input": [
      "!tar -zxvf bedtools-2.22.1.tar.gz"
     ],
     "language": "python",
     "metadata": {},
     "outputs": [
      {
       "output_type": "stream",
       "stream": "stdout",
       "text": [
        "tar: Unrecognized archive format\r\n",
        "tar: Error exit delayed from previous errors.\r\n"
       ]
      }
     ],
     "prompt_number": 39
    },
    {
     "cell_type": "code",
     "collapsed": false,
     "input": [
      "#downloaded bedtools on my computer and scp to hummingbird:\n",
      "#/usr/local/bioinformatics\n",
      "#Unzipped and unpacked tarball:\n",
      "#tar -zxvf bedtools-2.22.1.tar.gz\n",
      "#Changed to bedtools2 directory and ran \"sudo make\"\n",
      "#Added bedtools to PATH by editing source.sh file:\n",
      "## bedtools\n",
      "#export PATH=${BIO}/bedtools-2.22.1:${PATH}"
     ],
     "language": "python",
     "metadata": {},
     "outputs": [],
     "prompt_number": 1
    },
    {
     "cell_type": "code",
     "collapsed": false,
     "input": [
      "#The previous step didn't work, so I repeated the steps:\n",
      "#downloaded bedtools on my computer and scp to hummingbird:\n",
      "#/usr/local/bioinformatics\n",
      "#Unzipped and unpacked tarball:\n",
      "#tar -zxvf bedtools-2.22.1.tar.gz\n",
      "#Changed to bedtools2 directory and ran \"sudo make all\"\n",
      "#Added bedtools to PATH by editing source.sh file:\n",
      "## bedtools\n",
      "#export PATH=${BIO}/bedtools-2.22.1/bin:${PATH}\n",
      "#tried to use bedtools, didn't work\n",
      "#ran \"sudo bedtools\" which worked\n",
      "#don't need sudo any more"
     ],
     "language": "python",
     "metadata": {},
     "outputs": [],
     "prompt_number": 2
    },
    {
     "cell_type": "code",
     "collapsed": false,
     "input": [
      "#verify bedtools is installed\n",
      "!which bedtools"
     ],
     "language": "python",
     "metadata": {},
     "outputs": [
      {
       "output_type": "stream",
       "stream": "stdout",
       "text": [
        "/usr/local/bioinformatics/bedtools-2.22.1/bin/bedtools\r\n"
       ]
      }
     ],
     "prompt_number": 3
    },
    {
     "cell_type": "markdown",
     "metadata": {},
     "source": [
      "Resolved download issue.  Curl command for the host repo requires the -L flag (handles a URL redirect that is not apparent).  So, this will work\n",
      "```\n",
      "curl -OL https://github.com/arq5x/bedtools2/releases/download/v2.22.1/bedtools-2.22.1.tar.gz\n",
      "```\n",
      "Got an answer to this question by posting an issue on the BEDtools github page:\n",
      "\n",
      "https://github.com/arq5x/bedtools2/issues/189#issuecomment-73487571"
     ]
    },
    {
     "cell_type": "code",
     "collapsed": false,
     "input": [
      "pwd"
     ],
     "language": "python",
     "metadata": {},
     "outputs": [
      {
       "metadata": {},
       "output_type": "pyout",
       "prompt_number": 1,
       "text": [
        "u'/Users/Sam'"
       ]
      }
     ],
     "prompt_number": 1
    },
    {
     "cell_type": "code",
     "collapsed": false,
     "input": [
      "!fish546"
     ],
     "language": "python",
     "metadata": {},
     "outputs": [
      {
       "output_type": "stream",
       "stream": "stdout",
       "text": [
        "/bin/sh: fish546: command not found\r\n"
       ]
      }
     ],
     "prompt_number": 2
    },
    {
     "cell_type": "code",
     "collapsed": false,
     "input": [
      "!which bedtools"
     ],
     "language": "python",
     "metadata": {},
     "outputs": [
      {
       "output_type": "stream",
       "stream": "stdout",
       "text": [
        "/usr/local/bioinformatics/bedtools-2.22.1/bin/bedtools\r\n"
       ]
      }
     ],
     "prompt_number": 3
    },
    {
     "cell_type": "code",
     "collapsed": false,
     "input": [
      "cd /Volumes/Data/Sam/fish546_2015/gigasHSrnaSeq/analysis/bedtools/annotation/"
     ],
     "language": "python",
     "metadata": {},
     "outputs": [
      {
       "output_type": "stream",
       "stream": "stdout",
       "text": [
        "/Volumes/Data/Sam/fish546_2015/gigasHSrnaSeq/analysis/bedtools/annotation\n"
       ]
      }
     ],
     "prompt_number": 16
    },
    {
     "cell_type": "code",
     "collapsed": false,
     "input": [
      "#annotate the cuffmerge gtf\n",
      "!time bedtools getfasta -fi /Volumes/Eagle/trilobite/Crassostrea_gigas_ensembl_tracks/Crassostrea_gigas.GCA_000297895.1.22.dna_sm.genome.fa \\\n",
      "-bed /Volumes/Data/Sam/fish546_2015/gigasHSrnaSeq/analysis/cuffmerge/merged_asm/merged.gtf -fo mergedGTF.fa"
     ],
     "language": "python",
     "metadata": {},
     "outputs": [
      {
       "output_type": "stream",
       "stream": "stdout",
       "text": [
        "\r\n",
        "real\t0m27.274s\r\n",
        "user\t0m6.528s\r\n",
        "sys\t0m4.190s\r\n"
       ]
      }
     ],
     "prompt_number": 8
    },
    {
     "cell_type": "code",
     "collapsed": false,
     "input": [
      "!head -3 mergedGTF.fa"
     ],
     "language": "python",
     "metadata": {},
     "outputs": [
      {
       "output_type": "stream",
       "stream": "stdout",
       "text": [
        ">C12764:27-201\r\n",
        "ATAATTTCCGTATGATTATGTTCCAAATGTATAAATTAGTAAAATCTTCTCTGTGGAATAAAAGATTTTGTTTCTTTATTGTGGTACATTTCGGCTTTATACGTCGTGGAATTTAGCTGGCAAGGTCAGTGTACTCCTAGCCCTGTCTTCTCCCGGGATTTGGCCTTGGCCTTG\r\n",
        ">C12768:3-189\r\n"
       ]
      }
     ],
     "prompt_number": 9
    },
    {
     "cell_type": "code",
     "collapsed": false,
     "input": [
      "!grep '>' mergedGTF.fa | wc -l"
     ],
     "language": "python",
     "metadata": {},
     "outputs": [
      {
       "output_type": "stream",
       "stream": "stdout",
       "text": [
        "  280585\r\n"
       ]
      }
     ],
     "prompt_number": 14
    },
    {
     "cell_type": "code",
     "collapsed": false,
     "input": [
      "#Commented the commands out to get rid of the \"selenocysteine substitution\" output\n",
      "#was making notebook load time too long\n",
      "\n",
      "#!blastx \\\n",
      "#-db uniprot_sprot \\\n",
      "#-query mergedGTF.fa \\\n",
      "#-out mergedGTFblastx.tab \\\n",
      "#-outfmt 6 \\\n",
      "#-max_target_seqs 1 \\\n",
      "#-num_threads 16"
     ],
     "language": "python",
     "metadata": {},
     "outputs": [],
     "prompt_number": 33
    },
    {
     "cell_type": "code",
     "collapsed": false,
     "input": [
      "#I think the blastx run above did not complete.  Wonderful.  After ~24hrs I get nothing.\n",
      "#Let's see...\n"
     ],
     "language": "python",
     "metadata": {},
     "outputs": [],
     "prompt_number": 15
    },
    {
     "cell_type": "code",
     "collapsed": false,
     "input": [
      "!wc -l mergedGTFblastx.tab"
     ],
     "language": "python",
     "metadata": {},
     "outputs": [
      {
       "output_type": "stream",
       "stream": "stdout",
       "text": [
        "  282780 mergedGTFblastx.tab\r\n"
       ]
      }
     ],
     "prompt_number": 17
    },
    {
     "cell_type": "code",
     "collapsed": false,
     "input": [
      "!head mergedGTFblastx.tab"
     ],
     "language": "python",
     "metadata": {},
     "outputs": [
      {
       "output_type": "stream",
       "stream": "stdout",
       "text": [
        "C12764:27-201\tsp|O57979|PUR1_PYRHO\t37.93\t29\t18\t0\t125\t39\t91\t119\t0.99\t30.4\r\n",
        "C12768:3-189\tsp|Q5TJ56|FORF_DICDI\t31.58\t38\t26\t0\t12\t125\t71\t108\t0.91\t30.8\r\n",
        "C13102:0-209\tsp|Q58536|Y1136_METJA\t35.48\t31\t20\t0\t3\t95\t441\t471\t3.2\t28.9\r\n",
        "C13346:5-192\tsp|P16058|ESR1_ONCMY\t32.56\t43\t28\t1\t178\t53\t160\t202\t2.0\t29.6\r\n",
        "C13868:1-203\tsp|Q28GW8|MELK_XENTR\t60.87\t23\t8\t1\t128\t196\t58\t79\t3.8\t28.9\r\n",
        "C14184:27-241\tsp|Q60787|LCP2_MOUSE\t38.30\t47\t28\t1\t43\t180\t354\t400\t0.82\t30.8\r\n",
        "C14226:0-244\tsp|Q9Z0Z3|SKP2_MOUSE\t39.02\t41\t22\t1\t85\t207\t306\t343\t3.9\t29.3\r\n",
        "C14440:2-252\tsp|A5CX35|ISPG_VESOH\t44.44\t27\t15\t0\t202\t122\t11\t37\t5.3\t28.9\r\n",
        "C14668:20-256\tsp|P34611|NCL1_CAEEL\t33.33\t60\t38\t1\t33\t206\t722\t781\t2e-04\t42.7\r\n",
        "C14668:20-256\tsp|P34611|NCL1_CAEEL\t38.71\t31\t19\t0\t36\t128\t589\t619\t3.4\t29.3\r\n"
       ]
      }
     ],
     "prompt_number": 18
    },
    {
     "cell_type": "code",
     "collapsed": false,
     "input": [
      "!grep '>' mergedGTF.fa | head"
     ],
     "language": "python",
     "metadata": {},
     "outputs": [
      {
       "output_type": "stream",
       "stream": "stdout",
       "text": [
        ">C12764:27-201\r\n",
        ">C12768:3-189\r\n",
        ">C12830:1-199\r\n",
        ">C13102:0-209\r\n",
        ">C13346:5-192\r\n",
        ">C13868:1-203\r\n",
        ">C14184:27-241\r\n",
        ">C14226:0-244\r\n",
        ">C14322:0-169\r\n",
        ">C14440:2-252\r\n"
       ]
      }
     ],
     "prompt_number": 22
    },
    {
     "cell_type": "code",
     "collapsed": false,
     "input": [
      "!tail mergedGTFblastx.tab"
     ],
     "language": "python",
     "metadata": {},
     "outputs": [
      {
       "output_type": "stream",
       "stream": "stdout",
       "text": [
        "scaffold999:39994-40053\tsp|Q29HY3|CDC42_DROPS\t61.11\t18\t7\t0\t57\t4\t43\t60\t1.2\t28.5\r\n",
        "scaffold999:45194-45485\tsp|Q9HF56|CDC42_ASHGO\t46.15\t39\t21\t0\t118\t2\t3\t41\t3e-04\t40.8\r\n",
        "scaffold999:53709-53847\tsp|A5D6U8|PAPL_DANRE\t65.22\t46\t16\t0\t138\t1\t377\t422\t3e-14\t68.9\r\n",
        "scaffold999:56426-56498\tsp|Q8BX37|PAPL_MOUSE\t79.17\t24\t5\t0\t72\t1\t348\t371\t9e-07\t46.6\r\n",
        "scaffold999:57818-57968\tsp|A5D6U8|PAPL_DANRE\t71.88\t32\t9\t0\t96\t1\t321\t352\t2e-10\t58.5\r\n",
        "scaffold999:73661-74207\tsp|Q6BZR4|DBP9_YARLI\t32.76\t58\t35\t4\t113\t280\t269\t324\t2.8\t32.3\r\n",
        "scaffold999:74495-74636\tsp|A8WZU5|FAN1_CAEBR\t41.67\t36\t16\t1\t23\t115\t241\t276\t3.1\t28.5\r\n",
        "scaffold999:26717-27165\tsp|Q8PV96|DGGGP_METMA\t32.61\t46\t31\t0\t309\t446\t229\t274\t8.1\t30.0\r\n",
        "scaffold999:116969-117137\tsp|P0C6V6|R1A_PEDV7\t50.00\t24\t12\t0\t75\t146\t1266\t1289\t8.9\t27.3\r\n",
        "scaffold999:157584-157751\tsp|Q12L99|FOLD_SHEDO\t61.90\t21\t8\t0\t99\t37\t125\t145\t0.49\t31.2\r\n"
       ]
      }
     ],
     "prompt_number": 19
    },
    {
     "cell_type": "code",
     "collapsed": false,
     "input": [
      "!grep '>' mergedGTF.fa | tail"
     ],
     "language": "python",
     "metadata": {},
     "outputs": [
      {
       "output_type": "stream",
       "stream": "stdout",
       "text": [
        ">scaffold999:50987-52144\r\n",
        ">scaffold999:53709-53847\r\n",
        ">scaffold999:56426-56498\r\n",
        ">scaffold999:57818-57968\r\n",
        ">scaffold999:73661-74207\r\n",
        ">scaffold999:74495-74636\r\n",
        ">scaffold999:26717-27165\r\n",
        ">scaffold999:38485-38975\r\n",
        ">scaffold999:116969-117137\r\n",
        ">scaffold999:157584-157751\r\n"
       ]
      }
     ],
     "prompt_number": 21
    },
    {
     "cell_type": "code",
     "collapsed": false,
     "input": [
      "#Whoa!  Actually , I think it did work!  However, I'm not sure why the input fasta and\n",
      "#the blastx output file have different numbers of entries.  These should be the same..."
     ],
     "language": "python",
     "metadata": {},
     "outputs": [],
     "prompt_number": 23
    },
    {
     "cell_type": "code",
     "collapsed": false,
     "input": [
      "#make two files with just the names and then compare them\n",
      "#first file from input fasta\n",
      "!grep '>' mergedGTF.fa | cut -d '>' -f2 > fasta_titles.txt"
     ],
     "language": "python",
     "metadata": {},
     "outputs": [],
     "prompt_number": 24
    },
    {
     "cell_type": "code",
     "collapsed": false,
     "input": [
      "!head fasta_titles.txt"
     ],
     "language": "python",
     "metadata": {},
     "outputs": [
      {
       "output_type": "stream",
       "stream": "stdout",
       "text": [
        "C12764:27-201\r\n",
        "C12768:3-189\r\n",
        "C12830:1-199\r\n",
        "C13102:0-209\r\n",
        "C13346:5-192\r\n",
        "C13868:1-203\r\n",
        "C14184:27-241\r\n",
        "C14226:0-244\r\n",
        "C14322:0-169\r\n",
        "C14440:2-252\r\n"
       ]
      }
     ],
     "prompt_number": 25
    },
    {
     "cell_type": "code",
     "collapsed": false,
     "input": [
      "#second file from blastx output\n",
      "!cut -f1 < mergedGTFblastx.tab > blastx_titles.txt"
     ],
     "language": "python",
     "metadata": {},
     "outputs": [],
     "prompt_number": 26
    },
    {
     "cell_type": "code",
     "collapsed": false,
     "input": [
      "!head blastx_titles.txt"
     ],
     "language": "python",
     "metadata": {},
     "outputs": [
      {
       "output_type": "stream",
       "stream": "stdout",
       "text": [
        "C12764:27-201\r\n",
        "C12768:3-189\r\n",
        "C13102:0-209\r\n",
        "C13346:5-192\r\n",
        "C13868:1-203\r\n",
        "C14184:27-241\r\n",
        "C14226:0-244\r\n",
        "C14440:2-252\r\n",
        "C14668:20-256\r\n",
        "C14668:20-256\r\n"
       ]
      }
     ],
     "prompt_number": 27
    },
    {
     "cell_type": "code",
     "collapsed": false,
     "input": [
      "!diff -y fasta_titles.txt blastx_titles.txt > fasta_blastx_diffs.txt"
     ],
     "language": "python",
     "metadata": {},
     "outputs": [],
     "prompt_number": 31
    },
    {
     "cell_type": "code",
     "collapsed": false,
     "input": [
      "!head fasta_blastx_diffs.txt"
     ],
     "language": "python",
     "metadata": {},
     "outputs": [
      {
       "output_type": "stream",
       "stream": "stdout",
       "text": [
        "C12764:27-201\t\t\t\t\t\t\tC12764:27-201\r\n",
        "C12768:3-189\t\t\t\t\t\t\tC12768:3-189\r\n",
        "C12830:1-199\t\t\t\t\t\t      <\r\n",
        "C13102:0-209\t\t\t\t\t\t\tC13102:0-209\r\n",
        "C13346:5-192\t\t\t\t\t\t\tC13346:5-192\r\n",
        "C13868:1-203\t\t\t\t\t\t\tC13868:1-203\r\n",
        "C14184:27-241\t\t\t\t\t\t\tC14184:27-241\r\n",
        "C14226:0-244\t\t\t\t\t\t\tC14226:0-244\r\n",
        "C14322:0-169\t\t\t\t\t\t      <\r\n",
        "C14440:2-252\t\t\t\t\t\t\tC14440:2-252\r\n"
       ]
      }
     ],
     "prompt_number": 32
    },
    {
     "cell_type": "code",
     "collapsed": false,
     "input": [],
     "language": "python",
     "metadata": {},
     "outputs": []
    }
   ],
   "metadata": {}
  }
 ]
}