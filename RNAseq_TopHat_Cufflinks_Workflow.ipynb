{
 "metadata": {
  "name": "",
  "signature": "sha256:e0ddc0b15c0ec6338078e52a397d1c60df2fdf87f042c4c21870ed6291dd51b6"
 },
 "nbformat": 3,
 "nbformat_minor": 0,
 "worksheets": [
  {
   "cells": [
    {
     "cell_type": "markdown",
     "metadata": {},
     "source": [
      "###Directory Structure"
     ]
    },
    {
     "cell_type": "code",
     "collapsed": false,
     "input": [
      "cd /Volumes/Data/Sam/fish546_2015/gigasHSrnaSeq/"
     ],
     "language": "python",
     "metadata": {},
     "outputs": [
      {
       "output_type": "stream",
       "stream": "stdout",
       "text": [
        "/Volumes/Data/Sam/fish546_2015/gigasHSrnaSeq\n"
       ]
      }
     ],
     "prompt_number": 21
    },
    {
     "cell_type": "markdown",
     "metadata": {},
     "source": [
      "###Genome Files"
     ]
    },
    {
     "cell_type": "markdown",
     "metadata": {},
     "source": [
      "###Sequencing Files"
     ]
    },
    {
     "cell_type": "markdown",
     "metadata": {},
     "source": [
      "###Sequence Quality Check & Trimming (FASTQC & fastx_trimmer)"
     ]
    },
    {
     "cell_type": "markdown",
     "metadata": {},
     "source": [
      "###Read Mapping & Annotation (TopHat)"
     ]
    },
    {
     "cell_type": "markdown",
     "metadata": {},
     "source": [
      "####Build build bowtie sequence index for use in TopHat"
     ]
    },
    {
     "cell_type": "markdown",
     "metadata": {},
     "source": [
      "####Run TopHat"
     ]
    },
    {
     "cell_type": "code",
     "collapsed": false,
     "input": [
      "#Run tophat2 using 16 CPU threads (-p 16) on 3 pre-HS samples\n",
      "#post fastx_trimmer\n",
      "!time tophat2 \\\n",
      "-p 16 \\\n",
      "-o ./analysis/tophat_preHS/ \\\n",
      "/Volumes/Eagle/trilobite/Crassostrea_gigas_ensembl_tracks/Crassostrea_gigas.GCA_000297895.1.24.dna_sm.genome \\\n",
      "/Volumes/Data/Sam/fish546_2015/gigasHSrnaSeq/raw_data/2M_fastx_trimmed.fastq.gz,\\\n",
      "/Volumes/Data/Sam/fish546_2015/gigasHSrnaSeq/raw_data/4M_fastx_trimmed.fastq.gz,\\\n",
      "/Volumes/Data/Sam/fish546_2015/gigasHSrnaSeq/raw_data/6M_fastx_trimmed.fastq.gz"
     ],
     "language": "python",
     "metadata": {},
     "outputs": [
      {
       "output_type": "stream",
       "stream": "stdout",
       "text": [
        "\r\n",
        "[2015-02-10 17:46:38] Beginning TopHat run (v2.0.13)\r\n",
        "-----------------------------------------------\r\n",
        "[2015-02-10 17:46:38] Checking for Bowtie\r\n"
       ]
      },
      {
       "output_type": "stream",
       "stream": "stdout",
       "text": [
        "\t\t  Bowtie version:\t 2.1.0.0\r\n",
        "[2015-02-10 17:46:38] Checking for Bowtie index files (genome)..\r\n",
        "[2015-02-10 17:46:38] Checking for reference FASTA file\r\n",
        "[2015-02-10 17:46:38] Generating SAM header for /Volumes/Eagle/trilobite/Crassostrea_gigas_ensembl_tracks/Crassostrea_gigas.GCA_000297895.1.24.dna_sm.genome\r\n"
       ]
      },
      {
       "output_type": "stream",
       "stream": "stdout",
       "text": [
        "[2015-02-10 17:46:41] Preparing reads\r\n"
       ]
      },
      {
       "output_type": "stream",
       "stream": "stdout",
       "text": [
        "\t left reads: min. length=87, max. length=87, 76133835 kept reads (478910 discarded)\r\n"
       ]
      },
      {
       "output_type": "stream",
       "stream": "stdout",
       "text": [
        "[2015-02-10 18:35:41] Mapping left_kept_reads to genome Crassostrea_gigas.GCA_000297895.1.24.dna_sm.genome with Bowtie2 \r\n"
       ]
      },
      {
       "output_type": "stream",
       "stream": "stdout",
       "text": [
        "[2015-02-10 20:26:21] Mapping left_kept_reads_seg1 to genome Crassostrea_gigas.GCA_000297895.1.24.dna_sm.genome with Bowtie2 (1/3)\r\n"
       ]
      },
      {
       "output_type": "stream",
       "stream": "stdout",
       "text": [
        "[2015-02-10 20:46:45] Mapping left_kept_reads_seg2 to genome Crassostrea_gigas.GCA_000297895.1.24.dna_sm.genome with Bowtie2 (2/3)\r\n"
       ]
      },
      {
       "output_type": "stream",
       "stream": "stdout",
       "text": [
        "[2015-02-10 21:05:58] Mapping left_kept_reads_seg3 to genome Crassostrea_gigas.GCA_000297895.1.24.dna_sm.genome with Bowtie2 (3/3)\r\n"
       ]
      },
      {
       "output_type": "stream",
       "stream": "stdout",
       "text": [
        "[2015-02-10 21:35:38] Searching for junctions via segment mapping\r\n"
       ]
      },
      {
       "output_type": "stream",
       "stream": "stdout",
       "text": [
        "[2015-02-10 23:00:39] Retrieving sequences for splices\r\n"
       ]
      },
      {
       "output_type": "stream",
       "stream": "stdout",
       "text": [
        "[2015-02-10 23:01:33] Indexing splices\r\n"
       ]
      },
      {
       "output_type": "stream",
       "stream": "stdout",
       "text": [
        "[2015-02-10 23:03:55] Mapping left_kept_reads_seg1 to genome segment_juncs with Bowtie2 (1/3)\r\n"
       ]
      },
      {
       "output_type": "stream",
       "stream": "stdout",
       "text": [
        "[2015-02-10 23:18:50] Mapping left_kept_reads_seg2 to genome segment_juncs with Bowtie2 (2/3)\r\n"
       ]
      },
      {
       "output_type": "stream",
       "stream": "stdout",
       "text": [
        "[2015-02-10 23:33:03] Mapping left_kept_reads_seg3 to genome segment_juncs with Bowtie2 (3/3)\r\n"
       ]
      },
      {
       "output_type": "stream",
       "stream": "stdout",
       "text": [
        "[2015-02-10 23:47:27] Joining segment hits\r\n"
       ]
      },
      {
       "output_type": "stream",
       "stream": "stdout",
       "text": [
        "[2015-02-11 01:17:42] Reporting output tracks\r\n"
       ]
      },
      {
       "output_type": "stream",
       "stream": "stdout",
       "text": [
        "-----------------------------------------------\r\n",
        "[2015-02-11 02:44:23] A summary of the alignment counts can be found in ./analysis/tophat_preHS//align_summary.txt\r\n"
       ]
      },
      {
       "output_type": "stream",
       "stream": "stdout",
       "text": [
        "[2015-02-11 02:44:23] Run complete: 08:57:44 elapsed\r\n"
       ]
      },
      {
       "output_type": "stream",
       "stream": "stdout",
       "text": [
        "\r\n",
        "real\t537m44.453s\r\n",
        "user\t2020m15.765s\r\n",
        "sys\t434m19.157s\r\n"
       ]
      }
     ],
     "prompt_number": 22
    },
    {
     "cell_type": "code",
     "collapsed": false,
     "input": [
      "#Run tophat2 using 16 CPU threads (-p 16) on 3 post-HS samples\n",
      "#post fastx_trimmer\n",
      "!time tophat2 \\\n",
      "-p 16 \\\n",
      "-o ./analysis/tophat_postHS/ \\\n",
      "/Volumes/Eagle/trilobite/Crassostrea_gigas_ensembl_tracks/Crassostrea_gigas.GCA_000297895.1.24.dna_sm.genome \\\n",
      "/Volumes/Data/Sam/fish546_2015/gigasHSrnaSeq/raw_data/2M_fastx_trimmed.fastq.gz,\\\n",
      "/Volumes/Data/Sam/fish546_2015/gigasHSrnaSeq/raw_data/4M_fastx_trimmed.fastq.gz,\\\n",
      "/Volumes/Data/Sam/fish546_2015/gigasHSrnaSeq/raw_data/6M_fastx_trimmed.fastq.gz"
     ],
     "language": "python",
     "metadata": {},
     "outputs": [
      {
       "output_type": "stream",
       "stream": "stdout",
       "text": [
        "\r\n",
        "[2015-02-11 02:44:24] Beginning TopHat run (v2.0.13)\r\n",
        "-----------------------------------------------\r\n",
        "[2015-02-11 02:44:24] Checking for Bowtie\r\n"
       ]
      },
      {
       "output_type": "stream",
       "stream": "stdout",
       "text": [
        "\t\t  Bowtie version:\t 2.1.0.0\r\n"
       ]
      },
      {
       "output_type": "stream",
       "stream": "stdout",
       "text": [
        "[2015-02-11 02:44:25] Checking for Bowtie index files (genome)..\r\n",
        "[2015-02-11 02:44:25] Checking for reference FASTA file\r\n",
        "[2015-02-11 02:44:25] Generating SAM header for /Volumes/Eagle/trilobite/Crassostrea_gigas_ensembl_tracks/Crassostrea_gigas.GCA_000297895.1.24.dna_sm.genome\r\n"
       ]
      },
      {
       "output_type": "stream",
       "stream": "stdout",
       "text": [
        "[2015-02-11 02:44:35] Preparing reads\r\n"
       ]
      },
      {
       "output_type": "stream",
       "stream": "stdout",
       "text": [
        "\t left reads: min. length=87, max. length=87, 76133835 kept reads (478910 discarded)\r\n"
       ]
      },
      {
       "output_type": "stream",
       "stream": "stdout",
       "text": [
        "[2015-02-11 03:33:41] Mapping left_kept_reads to genome Crassostrea_gigas.GCA_000297895.1.24.dna_sm.genome with Bowtie2 \r\n"
       ]
      },
      {
       "output_type": "stream",
       "stream": "stdout",
       "text": [
        "[2015-02-11 05:24:10] Mapping left_kept_reads_seg1 to genome Crassostrea_gigas.GCA_000297895.1.24.dna_sm.genome with Bowtie2 (1/3)\r\n"
       ]
      },
      {
       "output_type": "stream",
       "stream": "stdout",
       "text": [
        "[2015-02-11 05:44:31] Mapping left_kept_reads_seg2 to genome Crassostrea_gigas.GCA_000297895.1.24.dna_sm.genome with Bowtie2 (2/3)\r\n"
       ]
      },
      {
       "output_type": "stream",
       "stream": "stdout",
       "text": [
        "[2015-02-11 06:03:50] Mapping left_kept_reads_seg3 to genome Crassostrea_gigas.GCA_000297895.1.24.dna_sm.genome with Bowtie2 (3/3)\r\n"
       ]
      },
      {
       "output_type": "stream",
       "stream": "stdout",
       "text": [
        "[2015-02-11 06:33:54] Searching for junctions via segment mapping\r\n"
       ]
      },
      {
       "output_type": "stream",
       "stream": "stdout",
       "text": [
        "[2015-02-11 08:00:56] Retrieving sequences for splices\r\n"
       ]
      },
      {
       "output_type": "stream",
       "stream": "stdout",
       "text": [
        "[2015-02-11 08:01:49] Indexing splices\r\n"
       ]
      },
      {
       "output_type": "stream",
       "stream": "stdout",
       "text": [
        "[2015-02-11 08:04:13] Mapping left_kept_reads_seg1 to genome segment_juncs with Bowtie2 (1/3)\r\n"
       ]
      },
      {
       "output_type": "stream",
       "stream": "stdout",
       "text": [
        "[2015-02-11 08:19:06] Mapping left_kept_reads_seg2 to genome segment_juncs with Bowtie2 (2/3)\r\n"
       ]
      },
      {
       "output_type": "stream",
       "stream": "stdout",
       "text": [
        "[2015-02-11 08:33:20] Mapping left_kept_reads_seg3 to genome segment_juncs with Bowtie2 (3/3)\r\n"
       ]
      },
      {
       "output_type": "stream",
       "stream": "stdout",
       "text": [
        "[2015-02-11 08:47:30] Joining segment hits\r\n"
       ]
      },
      {
       "output_type": "stream",
       "stream": "stdout",
       "text": [
        "[2015-02-11 10:39:07] Reporting output tracks\r\n"
       ]
      },
      {
       "output_type": "stream",
       "stream": "stdout",
       "text": [
        "-----------------------------------------------\r\n",
        "[2015-02-11 12:00:11] A summary of the alignment counts can be found in ./analysis/tophat_postHS//align_summary.txt\r\n"
       ]
      },
      {
       "output_type": "stream",
       "stream": "stdout",
       "text": [
        "[2015-02-11 12:00:11] Run complete: 09:15:46 elapsed\r\n"
       ]
      },
      {
       "output_type": "stream",
       "stream": "stdout",
       "text": [
        "\r\n",
        "real\t555m48.228s\r\n",
        "user\t2039m22.668s\r\n",
        "sys\t435m4.736s\r\n"
       ]
      }
     ],
     "prompt_number": 23
    },
    {
     "cell_type": "markdown",
     "metadata": {},
     "source": [
      "###Transcriptome Assembly & Quantification (Cufflinks)"
     ]
    },
    {
     "cell_type": "code",
     "collapsed": false,
     "input": [
      "!time cufflinks \\\n",
      "-p 16 \\\n",
      "-g /Volumes/Eagle/trilobite/Crassostrea_gigas_ensembl_tracks/Crassostrea_gigas.GCA_000297895.1.24.gtf \\\n",
      "-o ./analysis/cufflinks_preHS/ \\\n",
      "./analysis/tophat_preHS/tophat_out/accepted_hits.bam"
     ],
     "language": "python",
     "metadata": {},
     "outputs": [
      {
       "ename": "SyntaxError",
       "evalue": "invalid syntax (<ipython-input-24-85f957a98c16>, line 2)",
       "output_type": "pyerr",
       "traceback": [
        "\u001b[0;36m  File \u001b[0;32m\"<ipython-input-24-85f957a98c16>\"\u001b[0;36m, line \u001b[0;32m2\u001b[0m\n\u001b[0;31m    -g /Volumes/Eagle/trilobite/Crassostrea_gigas_ensembl_tracks/Crassostrea_gigas.GCA_000297895.1.24.gtf -o ./analysis/cufflinks_preHS/ ./analysis/tophat_preHS/tophat_out/accepted_hits.bam\u001b[0m\n\u001b[0m                                                                                                 ^\u001b[0m\n\u001b[0;31mSyntaxError\u001b[0m\u001b[0;31m:\u001b[0m invalid syntax\n"
       ]
      }
     ],
     "prompt_number": 24
    },
    {
     "cell_type": "code",
     "collapsed": false,
     "input": [
      "!time cufflinks \\\n",
      "-p 16 \\\n",
      "-g /Volumes/Eagle/trilobite/Crassostrea_gigas_ensembl_tracks/Crassostrea_gigas.GCA_000297895.1.24.gtf \\\n",
      "-o ./analysis/cufflinks_postHS/ \\\n",
      "./analysis/tophat_postHS/tophat_out/accepted_hits.bam"
     ],
     "language": "python",
     "metadata": {},
     "outputs": []
    },
    {
     "cell_type": "markdown",
     "metadata": {},
     "source": [
      "###Combine Transcriptomes (Cuffmerge)"
     ]
    },
    {
     "cell_type": "code",
     "collapsed": false,
     "input": [
      "!time cuffmerge \\\n",
      "-p 16 \\\n",
      "-o .analysis/cuffmerge \\\n",
      "./analysis/cuffmerge/cufflinksManifest.txt"
     ],
     "language": "python",
     "metadata": {},
     "outputs": []
    },
    {
     "cell_type": "markdown",
     "metadata": {},
     "source": [
      "###Quantify Gene & Transcript Expression (Cuffquant)"
     ]
    },
    {
     "cell_type": "code",
     "collapsed": false,
     "input": [
      "!time cuffquant \\\n",
      "-p 16 \\\n",
      "-o ./analysis/cuffquant/ \\\n",
      "./analysis/cuffmerge/merged_asm/merged.gtf \\\n",
      "./analysis/tophat_preHS/tophat_out/accepted_hits.bam"
     ],
     "language": "python",
     "metadata": {},
     "outputs": []
    },
    {
     "cell_type": "code",
     "collapsed": false,
     "input": [
      "!time cuffquant \\\n",
      "-p 16 \\\n",
      "-o ./analysis/cuffquant/ \\\n",
      "./analysis/cuffmerge/merged_asm/merged.gtf \\\n",
      "./analysis/tophat_postHS/tophat_out/accepted_hits.bam"
     ],
     "language": "python",
     "metadata": {},
     "outputs": []
    },
    {
     "cell_type": "markdown",
     "metadata": {},
     "source": [
      "###Compare Gene Expression Levels (Cuffdiff)"
     ]
    },
    {
     "cell_type": "code",
     "collapsed": false,
     "input": [],
     "language": "python",
     "metadata": {},
     "outputs": []
    }
   ],
   "metadata": {}
  }
 ]
}