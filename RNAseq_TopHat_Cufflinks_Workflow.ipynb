{
 "metadata": {
  "name": "",
  "signature": "sha256:c159b3515604b3072399c5e76d5bc90f948171aee15599d0f838b53d39b50ea9"
 },
 "nbformat": 3,
 "nbformat_minor": 0,
 "worksheets": [
  {
   "cells": [
    {
     "cell_type": "markdown",
     "metadata": {},
     "source": [
      "###Directory Structure"
     ]
    },
    {
     "cell_type": "code",
     "collapsed": false,
     "input": [
      "cd /Volumes/Data/Sam/fish546_2015/gigasHSrnaSeq/"
     ],
     "language": "python",
     "metadata": {},
     "outputs": [
      {
       "output_type": "stream",
       "stream": "stdout",
       "text": [
        "/Volumes/Data/Sam/fish546_2015/gigasHSrnaSeq\n"
       ]
      }
     ],
     "prompt_number": 13
    },
    {
     "cell_type": "markdown",
     "metadata": {},
     "source": [
      "###Genome Files"
     ]
    },
    {
     "cell_type": "markdown",
     "metadata": {},
     "source": [
      "###Sequencing Files"
     ]
    },
    {
     "cell_type": "markdown",
     "metadata": {},
     "source": [
      "###Sequence Quality Check & Trimming (FASTQC & fastx_trimmer)"
     ]
    },
    {
     "cell_type": "markdown",
     "metadata": {},
     "source": [
      "###Read Mapping & Annotation (TopHat)"
     ]
    },
    {
     "cell_type": "markdown",
     "metadata": {},
     "source": [
      "####Build build bowtie sequence index for use in TopHat"
     ]
    },
    {
     "cell_type": "markdown",
     "metadata": {},
     "source": [
      "####Run TopHat"
     ]
    },
    {
     "cell_type": "code",
     "collapsed": false,
     "input": [
      "#Run tophat2 using 16 CPU threads (-p 16) on 3 pre-HS samples\n",
      "#post fastx_trimmer\n",
      "!time tophat2 \\\n",
      "-p 16 \\\n",
      "-o ./analysis/tophat_preHS/ \\\n",
      "/Volumes/Eagle/trilobite/Crassostrea_gigas_ensembl_tracks/Crassostrea_gigas.GCA_000297895.1.24.dna_sm.genome \\\n",
      "/Volumes/Data/Sam/fish546_2015/gigasHSrnaSeq/raw_data/2M_fastx_trimmed.fastq.gz,\\\n",
      "/Volumes/Data/Sam/fish546_2015/gigasHSrnaSeq/raw_data/4M_fastx_trimmed.fastq.gz,\\\n",
      "/Volumes/Data/Sam/fish546_2015/gigasHSrnaSeq/raw_data/6M_fastx_trimmed.fastq.gz"
     ],
     "language": "python",
     "metadata": {},
     "outputs": [
      {
       "output_type": "stream",
       "stream": "stdout",
       "text": [
        "\r\n",
        "[2015-02-10 17:38:15] Beginning TopHat run (v2.0.13)\r\n",
        "-----------------------------------------------\r\n",
        "[2015-02-10 17:38:15] Checking for Bowtie\r\n"
       ]
      },
      {
       "output_type": "stream",
       "stream": "stdout",
       "text": [
        "\t\t  Bowtie version:\t 2.1.0.0\r\n",
        "[2015-02-10 17:38:16] Checking for Bowtie index files (genome)..\r\n",
        "[2015-02-10 17:38:16] Checking for reference FASTA file\r\n",
        "[2015-02-10 17:38:16] Generating SAM header for /Volumes/Eagle/trilobite/Crassostrea_gigas_ensembl_tracks/Crassostrea_gigas.GCA_000297895.1.24.dna_sm.genome\r\n"
       ]
      },
      {
       "output_type": "stream",
       "stream": "stdout",
       "text": [
        "[2015-02-10 17:38:32] Preparing reads\r\n"
       ]
      },
      {
       "output_type": "stream",
       "stream": "stdout",
       "text": [
        "^CTraceback (most recent call last):\r\n",
        "  File \"/usr/local/bioinformatics/tophat-2.0.13.OSX_x86_64/tophat\", line 4088, in <module>\r\n",
        "    sys.exit(main())\r\n",
        "  File \"/usr/local/bioinformatics/tophat-2.0.13.OSX_x86_64/tophat\", line 4021, in main\r\n",
        "    multihit_reads)\r\n",
        "  File \"/usr/local/bioinformatics/tophat-2.0.13.OSX_x86_64/tophat\", line 2085, in prep_reads\r\n",
        "    retcode = subprocess.call(prep_cmd, stderr=filter_log)\r\n",
        "  File \"/Users/Sam/anaconda/lib/python2.7/subprocess.py\", line 522, in call\r\n",
        "\r\n",
        "    return Popen(*popenargs, **kwargs).wait()\r\n",
        "  File \"/Users/Sam/anaconda/lib/python2.7/subprocess.py\", line 1384, in wait\r\n",
        "    pid, sts = _eintr_retry_call(os.waitpid, self.pid, 0)\r\n",
        "  File \"/Users/Sam/anaconda/lib/python2.7/subprocess.py\", line 476, in _eintr_retry_call\r\n",
        "    return func(*args)\r\n",
        "KeyboardInterrupt\r\n",
        "\r\n",
        "real\t1m18.879s\r\n",
        "user\t1m2.044s\r\n",
        "sys\t0m3.351s\r\n"
       ]
      }
     ],
     "prompt_number": 14
    },
    {
     "cell_type": "code",
     "collapsed": false,
     "input": [
      "#Run tophat2 using 16 CPU threads (-p 16) on 3 post-HS samples\n",
      "#post fastx_trimmer\n",
      "!time tophat2 \\\n",
      "-p 16 \\\n",
      "-o ./analysis/tophat_postHS/ \\\n",
      "/Volumes/Eagle/trilobite/Crassostrea_gigas_ensembl_tracks/Crassostrea_gigas.GCA_000297895.1.24.dna_sm.genome \\\n",
      "/Volumes/Data/Sam/fish546_2015/gigasHSrnaSeq/raw_data/2M_fastx_trimmed.fastq.gz,\\\n",
      "/Volumes/Data/Sam/fish546_2015/gigasHSrnaSeq/raw_data/4M_fastx_trimmed.fastq.gz,\\\n",
      "/Volumes/Data/Sam/fish546_2015/gigasHSrnaSeq/raw_data/6M_fastx_trimmed.fastq.gz"
     ],
     "language": "python",
     "metadata": {},
     "outputs": [
      {
       "output_type": "stream",
       "stream": "stdout",
       "text": [
        "\r\n",
        "[2015-02-10 17:39:34] Beginning TopHat run (v2.0.13)\r\n",
        "-----------------------------------------------\r\n",
        "[2015-02-10 17:39:34] Checking for Bowtie\r\n"
       ]
      },
      {
       "output_type": "stream",
       "stream": "stdout",
       "text": [
        "\t\t  Bowtie version:\t 2.1.0.0\r\n",
        "[2015-02-10 17:39:35] Checking for Bowtie index files (genome)..\r\n",
        "[2015-02-10 17:39:35] Checking for reference FASTA file\r\n",
        "[2015-02-10 17:39:35] Generating SAM header for /Volumes/Eagle/trilobite/Crassostrea_gigas_ensembl_tracks/Crassostrea_gigas.GCA_000297895.1.24.dna_sm.genome\r\n"
       ]
      },
      {
       "output_type": "stream",
       "stream": "stdout",
       "text": [
        "[2015-02-10 17:39:37] Preparing reads\r\n"
       ]
      },
      {
       "output_type": "stream",
       "stream": "stdout",
       "text": [
        "^CTraceback (most recent call last):\r\n",
        "  File \"/usr/local/bioinformatics/tophat-2.0.13.OSX_x86_64/tophat\", line 4088, in <module>\r\n",
        "    sys.exit(main())\r\n",
        "  File \"/usr/local/bioinformatics/tophat-2.0.13.OSX_x86_64/tophat\", line 4021, in main\r\n",
        "    multihit_reads)\r\n",
        "  File \"/usr/local/bioinformatics/tophat-2.0.13.OSX_x86_64/tophat\", line 2085, in prep_reads\r\n",
        "    retcode = subprocess.call(prep_cmd, stderr=filter_log)\r\n",
        "  File \"/Users/Sam/anaconda/lib/python2.7/subprocess.py\", line 522, in call\r\n",
        "    return Popen(*popenargs, **kwargs).wait()\r\n",
        "  File \"/Users/Sam/anaconda/lib/python2.7/subprocess.py\", line 1384, in wait\r\n",
        "    pid, sts = _eintr_retry_call(os.waitpid, self.pid, 0)\r\n",
        "  File \"/Users/Sam/anaconda/lib/python2.7/subprocess.py\", line 476, in _eintr_retry_call\r\n",
        "    return func(*args)\r\n",
        "KeyboardInterrupt\r\n",
        "\r\n",
        "real\t0m7.760s\r\n",
        "user\t0m5.621s\r\n",
        "sys\t0m2.113s\r\n",
        "\r\n"
       ]
      }
     ],
     "prompt_number": 15
    },
    {
     "cell_type": "markdown",
     "metadata": {},
     "source": [
      "###Transcriptome Assembly & Quantification (Cufflinks)"
     ]
    },
    {
     "cell_type": "code",
     "collapsed": false,
     "input": [
      "!time cufflinks \\\n",
      "-p 16\n",
      "-g /Volumes/Eagle/trilobite/Crassostrea_gigas_ensembl_tracks/Crassostrea_gigas.GCA_000297895.1.24.gtf \\\n",
      "-o ./analysis/cufflinks_preHS/ \\\n",
      "./analysis/tophat_preHS/tophat_out/accepted_hits.bam"
     ],
     "language": "python",
     "metadata": {},
     "outputs": [
      {
       "output_type": "stream",
       "stream": "stdout",
       "text": [
        "You are using Cufflinks v2.2.1, which is the most recent release.\r\n"
       ]
      },
      {
       "output_type": "stream",
       "stream": "stdout",
       "text": [
        "[17:39:43] Inspecting reads and determining fragment length distribution.\r\n",
        "\r",
        "> Processing Locus C12708:18-105               [                         ]   0%\r",
        "> Processing Locus C12718:41-186               [                         ]   0%\r",
        "> Processing Locus C12724:18-158               [                         ]   0%\r",
        "> Processing Locus C12726:51-198               [                         ]   0%\r",
        "> Processing Locus C12738:40-127               [                         ]   0%\r",
        "> Processing Locus C12742:32-119               [                         ]   0%\r",
        "> Processing Locus C12758:5-198                [                         ]   0%\r",
        "> Processing Locus C12760:5-200                [                         ]   0%\r",
        "> Processing Locus C12764:27-201               [                         ]   0%\r",
        "> Processing Locus C12786:19-176               [                         ]   0%\r",
        "> Processing Locus C12798:12-197               [                         ]   0%\r",
        "> Processing Locus C12830:6-196                [                         ]   0%\r",
        "> Processing Locus C12834:47-197               [                         ]   0%\r",
        "> Processing Locus C12838:36-193               [                         ]   0%\r",
        "> Processing Locus C12848:0-200                [                         ]   0%"
       ]
      },
      {
       "output_type": "stream",
       "stream": "stdout",
       "text": [
        "\r",
        "> Processing Locus C12870:62-184               [                         ]   0%\r",
        "> Processing Locus C12882:0-204                [                         ]   0%\r",
        "> Processing Locus C12912:13-109               [                         ]   0%\r",
        "> Processing Locus C12916:1-196                [                         ]   0%\r",
        "> Processing Locus C12918:1-204                [                         ]   0%\r",
        "> Processing Locus C12928:14-199               [                         ]   0%\r",
        "> Processing Locus C12930:2-185                [                         ]   0%\r",
        "> Processing Locus C12932:5-201                [                         ]   0%\r",
        "> Processing Locus C12934:0-205                [                         ]   0%\r",
        "> Processing Locus C12938:0-202                [                         ]   0%\r",
        "> Processing Locus C12942:85-175               [                         ]   0%\r",
        "> Processing Locus C12970:0-200                [                         ]   0%\r",
        "> Processing Locus C12972:46-198               [                         ]   0%\r",
        "> Processing Locus C12974:13-203               [                         ]   0%\r",
        "> Processing Locus C13020:1-207                [                         ]   0%\r",
        "> Processing Locus C13026:0-206                [                         ]   0%\r",
        "> Processing Locus C13028:18-196               [                         ]   0%\r",
        "> Processing Locus C13048:9-203                [                         ]   0%\r",
        "> Processing Locus C13052:0-207                [                         ]   0%\r",
        "> Processing Locus C13054:19-200               [                         ]   0%\r",
        "> Processing Locus C13092:108-199              [                         ]   0%\r",
        "> Processing Locus C13094:70-157               [                         ]   0%\r",
        "> Processing Locus C13098:6-206                [                         ]   0%\r",
        "> Processing Locus C13102:0-209                [                         ]   0%\r",
        "> Processing Locus C13116:41-149               [                         ]   0%\r",
        "> Processing Locus C13132:9-210                [                         ]   0%\r",
        "> Processing Locus C13134:7-209                [                         ]   0%\r",
        "> Processing Locus C13136:20-203               [                         ]   0%\r",
        "> Processing Locus C13140:40-207               [                         ]   0%\r",
        "> Processing Locus C13156:6-205                [                         ]   0%\r",
        "> Processing Locus C13178:1-210                [                         ]   0%\r",
        "> Processing Locus C13180:8-209                [                         ]   0%\r",
        "> Processing Locus C13182:1-205                [                         ]   0%\r",
        "> Processing Locus C13186:6-165                [                         ]   0%\r",
        "> Processing Locus C13208:59-146               [                         ]   0%\r",
        "> Processing Locus C13218:32-141               [                         ]   0%\r",
        "> Processing Locus C13258:1-88                 [                         ]   0%\r",
        "> Processing Locus C13260:29-171               [                         ]   0%\r",
        "> Processing Locus C13264:109-198              [                         ]   0%\r",
        "> Processing Locus C13266:4-213                [                         ]   0%\r",
        "> Processing Locus C13268:3-204                [                         ]   0%\r",
        "> Processing Locus C13292:51-138               [                         ]   0%\r",
        "> Processing Locus C13320:1-213                [                         ]   0%\r",
        "> Processing Locus C13324:0-191                [                         ]   0%\r",
        "> Processing Locus C13326:0-203                [                         ]   0%\r",
        "> Processing Locus C13328:0-213                [                         ]   0%\r",
        "> Processing Locus C13346:5-192                [                         ]   0%\r",
        "> Processing Locus C13356:86-200               [                         ]   0%\r",
        "> Processing Locus C13370:46-186               [                         ]   0%\r",
        "> Processing Locus C13396:5-163                [                         ]   0%\r",
        "> Processing Locus C13406:2-214                [                         ]   0%\r",
        "> Processing Locus C13408:109-196              [                         ]   0%\r",
        "> Processing Locus C13424:15-212               [                         ]   0%\r",
        "> Processing Locus C13440:12-216               [                         ]   0%\r",
        "> Processing Locus C13442:8-158                [                         ]   0%\r",
        "> Processing Locus C13460:2-198                [                         ]   0%\r",
        "> Processing Locus C13462:1-194                [                         ]   0%\r",
        "> Processing Locus C13464:86-173               [                         ]   0%\r",
        "> Processing Locus C13466:70-219               [                         ]   0%\r",
        "> Processing Locus C13482:75-205               [                         ]   0%\r",
        "> Processing Locus C13508:3-217                [                         ]   0%\r",
        "> Processing Locus C13512:10-171               [                         ]   0%\r",
        "> Processing Locus C13516:94-220               [                         ]   1%\r",
        "> Processing Locus C13520:15-220               [                         ]   1%\r",
        "> Processing Locus C13524:29-116               [                         ]   1%\r",
        "> Processing Locus C13528:1-220                [                         ]   1%\r",
        "> Processing Locus C13532:56-220               [                         ]   1%\r",
        "> Processing Locus C13534:47-133               [                         ]   1%\r",
        "> Processing Locus C13552:0-218                [                         ]   1%\r",
        "> Processing Locus C13584:0-221                [                         ]   1%\r",
        "> Processing Locus C13590:1-220                [                         ]   1%\r",
        "> Processing Locus C13592:2-219                [                         ]   1%\r",
        "> Processing Locus C13600:62-149               [                         ]   1%\r",
        "> Processing Locus C13614:21-205               [                         ]   1%\r",
        "> Processing Locus C13616:66-153               [                         ]   1%\r",
        "> Processing Locus C13624:27-114               [                         ]   1%\r",
        "> Processing Locus C13642:14-224               [                         ]   1%\r",
        "> Processing Locus C13650:4-119                [                         ]   1%\r",
        "> Processing Locus C13652:1-220                [                         ]   1%\r",
        "> Processing Locus C13654:1-214                [                         ]   1%\r",
        "> Processing Locus C13676:21-219               [                         ]   1%\r",
        "> Processing Locus C13690:2-224                [                         ]   1%\r",
        "> Processing Locus C13694:38-125               [                         ]   1%\r",
        "> Processing Locus C13712:53-140               [                         ]   1%\r",
        "> Processing Locus C13716:65-225               [                         ]   1%\r",
        "> Processing Locus C13720:3-112                [                         ]   1%\r",
        "> Processing Locus C13732:17-221               [                         ]   1%\r",
        "> Processing Locus C13780:94-222               [                         ]   1%\r",
        "> Processing Locus C13786:140-227              [                         ]   1%"
       ]
      },
      {
       "output_type": "stream",
       "stream": "stdout",
       "text": [
        "\r",
        "> Processing Locus C13788:75-162               [                         ]   1%\r",
        "> Processing Locus C13810:1-228                [                         ]   1%\r",
        "> Processing Locus C13834:6-100                [                         ]   1%\r",
        "> Processing Locus C13852:25-200               [                         ]   1%\r",
        "> Processing Locus C13854:0-203                [                         ]   1%\r",
        "> Processing Locus C13860:11-132               [                         ]   1%\r",
        "> Processing Locus C13868:1-203                [                         ]   1%\r",
        "> Processing Locus C13888:1-180                [                         ]   1%\r",
        "> Processing Locus C13904:75-232               [                         ]   1%\r",
        "> Processing Locus C13908:67-206               [                         ]   1%\r",
        "> Processing Locus C13916:54-209               [                         ]   1%\r",
        "> Processing Locus C13920:82-169               [                         ]   1%\r",
        "> Processing Locus C13930:14-186               [                         ]   1%\r",
        "> Processing Locus C13940:1-227                [                         ]   1%\r",
        "> Processing Locus C13950:0-155                [                         ]   1%\r",
        "> Processing Locus C14004:0-211                [                         ]   1%\r",
        "> Processing Locus C14008:145-232              [                         ]   1%\r",
        "> Processing Locus C14022:13-208               [                         ]   1%\r",
        "> Processing Locus C14036:141-228              [                         ]   1%\r",
        "> Processing Locus C14060:1-237                [                         ]   1%\r",
        "> Processing Locus C14066:14-202               [                         ]   1%\r",
        "> Processing Locus C14086:88-225               [                         ]   1%\r",
        "> Processing Locus C14098:86-173               [                         ]   1%\r",
        "> Processing Locus C14104:2-238                [                         ]   1%\r",
        "> Processing Locus C14108:8-234                [                         ]   1%\r",
        "> Processing Locus C14128:33-233               [                         ]   1%\r",
        "> Processing Locus C14138:1-235                [                         ]   1%\r",
        "> Processing Locus C14162:14-231               [                         ]   1%\r",
        "> Processing Locus C14170:92-214               [                         ]   1%\r",
        "> Processing Locus C14180:31-118               [                         ]   1%\r",
        "> Processing Locus C14184:27-241               [                         ]   1%\r",
        "> Processing Locus C14186:1-242                [                         ]   1%\r",
        "> Processing Locus C14188:30-188               [                         ]   1%\r",
        "> Processing Locus C14210:95-237               [                         ]   1%\r",
        "> Processing Locus C14212:102-242              [                         ]   1%\r",
        "> Processing Locus C14214:19-238               [                         ]   1%\r",
        "> Processing Locus C14226:1-244                [                         ]   1%\r",
        "> Processing Locus C14228:0-96                 [                         ]   1%\r",
        "> Processing Locus C14230:86-233               [                         ]   1%\r",
        "> Processing Locus C14232:6-237                [                         ]   1%\r",
        "> Processing Locus C14248:1-198                [                         ]   1%\r",
        "> Processing Locus C14276:14-228               [                         ]   1%\r",
        "> Processing Locus C14282:3-199                [                         ]   1%\r",
        "> Processing Locus C14288:111-200              [                         ]   1%\r",
        "> Processing Locus C14304:135-222              [                         ]   1%\r",
        "> Processing Locus C14306:91-178               [                         ]   1%\r",
        "> Processing Locus C14312:2-238                [                         ]   1%\r",
        "> Processing Locus C14322:0-167                [                         ]   1%\r",
        "> Processing Locus C14326:95-246               [                         ]   1%\r",
        "> Processing Locus C14332:8-193                [                         ]   1%\r",
        "> Processing Locus C14334:78-165               [                         ]   2%\r",
        "> Processing Locus C14340:1-248                [                         ]   2%\r",
        "> Processing Locus C14354:11-187               [                         ]   2%\r",
        "> Processing Locus C14362:0-237                [                         ]   2%\r",
        "> Processing Locus C14374:8-221                [                         ]   2%\r",
        "> Processing Locus C14378:0-248                [                         ]   2%\r",
        "> Processing Locus C14384:41-188               [                         ]   2%\r",
        "> Processing Locus C14386:13-198               [                         ]   2%\r",
        "> Processing Locus C14400:0-247                [                         ]   2%\r",
        "> Processing Locus C14418:13-197               [                         ]   2%\r",
        "> Processing Locus C14424:2-240                [                         ]   2%\r",
        "> Processing Locus C14428:25-190               [                         ]   2%\r",
        "> Processing Locus C14432:7-252                [                         ]   2%\r",
        "> Processing Locus C14434:5-248                [                         ]   2%\r",
        "> Processing Locus C14440:5-252                [                         ]   2%\r",
        "> Processing Locus C14446:7-173                [                         ]   2%\r",
        "> Processing Locus C14454:35-122               [                         ]   2%\r",
        "> Processing Locus C14456:99-186               [                         ]   2%\r",
        "> Processing Locus C14468:18-105               [                         ]   2%\r",
        "> Processing Locus C14470:13-250               [                         ]   2%\r",
        "> Processing Locus C14478:8-216                [                         ]   2%\r",
        "> Processing Locus C14484:0-247                [                         ]   2%\r",
        "> Processing Locus C14486:9-254                [                         ]   2%\r",
        "> Processing Locus C14498:20-195               [                         ]   2%\r",
        "> Processing Locus C14510:18-141               [                         ]   2%\r",
        "> Processing Locus C14528:43-130               [                         ]   2%\r",
        "> Processing Locus C14534:19-251               [                         ]   2%\r",
        "> Processing Locus C14542:5-248                [                         ]   2%\r",
        "> Processing Locus C14546:0-254                [                         ]   2%\r",
        "> Processing Locus C14560:0-258                [                         ]   2%\r",
        "> Processing Locus C14562:105-192              [                         ]   2%\r",
        "> Processing Locus C14566:0-254                [                         ]   2%\r",
        "> Processing Locus C14568:2-258                [                         ]   2%\r",
        "> Processing Locus C14588:113-221              [                         ]   2%\r",
        "> Processing Locus C14592:2-241                [                         ]   2%\r",
        "> Processing Locus C14614:2-260                [                         ]   2%\r",
        "> Processing Locus C14636:40-160               [                         ]   2%\r",
        "> Processing Locus C14638:0-190                [                         ]   2%\r",
        "> Processing Locus C14650:23-209               [                         ]   2%\r",
        "> Processing Locus C14652:76-175               [                         ]   2%\r",
        "> Processing Locus C14654:142-229              [                         ]   2%\r",
        "> Processing Locus C14668:21-255               [                         ]   2%\r",
        "> Processing Locus C14678:61-259               [                         ]   2%\r",
        "> Processing Locus C14692:3-239                [                         ]   2%\r",
        "> Processing Locus C14702:23-193               [                         ]   2%\r",
        "> Processing Locus C14704:6-166                [                         ]   2%"
       ]
      },
      {
       "output_type": "stream",
       "stream": "stdout",
       "text": [
        "\r",
        "> Processing Locus C14706:60-245               [                         ]   2%\r",
        "> Processing Locus C14710:12-253               [                         ]   2%\r",
        "> Processing Locus C14716:4-211                [                         ]   2%\r",
        "> Processing Locus C14718:71-225               [                         ]   2%\r",
        "> Processing Locus C14734:1-265                [                         ]   2%\r",
        "> Processing Locus C14744:6-266                [                         ]   2%\r",
        "> Processing Locus C14746:1-257                [                         ]   2%\r",
        "> Processing Locus C14760:3-90                 [                         ]   2%\r",
        "> Processing Locus C14774:4-238                [                         ]   2%\r",
        "> Processing Locus C14782:29-266               [                         ]   2%\r",
        "> Processing Locus C14788:7-266                [                         ]   2%\r",
        "> Processing Locus C14790:15-267               [                         ]   2%\r",
        "> Processing Locus C14796:1-259                [                         ]   2%\r",
        "> Processing Locus C14798:20-161               [                         ]   2%\r",
        "> Processing Locus C14800:0-259                [                         ]   2%\r",
        "> Processing Locus C14808:68-185               [                         ]   2%\r",
        "> Processing Locus C14818:11-267               [                         ]   2%\r",
        "> Processing Locus C14822:7-239                [                         ]   2%\r",
        "> Processing Locus C14832:0-246                [                         ]   2%\r",
        "> Processing Locus C14836:174-261              [                         ]   2%\r",
        "> Processing Locus C14838:176-263              [                         ]   2%\r",
        "> Processing Locus C14848:1-258                [                         ]   2%\r",
        "> Processing Locus C14852:4-236                [                         ]   2%\r",
        "> Processing Locus C14858:3-270                [                         ]   2%\r",
        "> Processing Locus C14860:140-227              [                         ]   2%\r",
        "> Processing Locus C14868:0-268                [                         ]   2%\r",
        "> Processing Locus C14880:49-273               [                         ]   2%\r",
        "> Processing Locus C14902:152-270              [                         ]   2%\r",
        "> Processing Locus C14906:12-273               [                         ]   2%\r",
        "> Processing Locus C14910:1-272                [                         ]   2%\r",
        "> Processing Locus C14924:1-273                [                         ]   3%\r",
        "> Processing Locus C14940:0-275                [                         ]   3%\r",
        "> Processing Locus C14942:158-245              [                         ]   3%\r",
        "> Processing Locus C14946:9-273                [                         ]   3%\r",
        "> Processing Locus C14958:21-277               [                         ]   3%\r",
        "> Processing Locus C14962:76-271               [                         ]   3%\r",
        "> Processing Locus C14964:22-109               [                         ]   3%\r",
        "> Processing Locus C14966:4-149                [                         ]   3%\r",
        "> Processing Locus C14984:6-271                [                         ]   3%\r",
        "> Processing Locus C15006:69-277               [                         ]   3%\r",
        "> Processing Locus C15010:74-272               [                         ]   3%\r",
        "> Processing Locus C15022:13-232               [                         ]   3%\r",
        "> Processing Locus C15024:4-274                [                         ]   3%\r",
        "> Processing Locus C15032:185-280              [                         ]   3%\r",
        "> Processing Locus C15064:0-271                [                         ]   3%\r",
        "> Processing Locus C15088:11-284               [                         ]   3%\r",
        "> Processing Locus C15100:70-234               [                         ]   3%\r",
        "> Processing Locus C15134:148-237              [                         ]   3%\r",
        "> Processing Locus C15142:130-276              [                         ]   3%"
       ]
      },
      {
       "output_type": "stream",
       "stream": "stdout",
       "text": [
        "\r",
        "> Processing Locus C15160:0-288                [                         ]   3%\r",
        "> Processing Locus C15162:51-192               [                         ]   3%\r",
        "> Processing Locus C15164:39-162               [                         ]   3%\r",
        "> Processing Locus C15166:34-199               [                         ]   3%\r",
        "> Processing Locus C15180:0-289                [                         ]   3%\r",
        "> Processing Locus C15188:7-286                [                         ]   3%\r",
        "> Processing Locus C15202:0-283                [                         ]   3%\r",
        "> Processing Locus C15204:0-288                [                         ]   3%\r",
        "> Processing Locus C15212:169-256              [                         ]   3%\r",
        "> Processing Locus C15242:76-290               [                         ]   3%\r",
        "> Processing Locus C15244:8-232                [                         ]   3%\r",
        "> Processing Locus C15256:1-116                [                         ]   3%\r",
        "> Processing Locus C15260:15-290               [                         ]   3%\r",
        "> Processing Locus C15308:161-248              [                         ]   3%\r",
        "> Processing Locus C15322:8-222                [                         ]   3%\r",
        "> Processing Locus C15324:114-278              [                         ]   3%\r",
        "> Processing Locus C15334:155-278              [                         ]   3%\r",
        "> Processing Locus C15338:25-297               [                         ]   3%\r",
        "> Processing Locus C15342:15-292               [                         ]   3%\r",
        "> Processing Locus C15346:27-206               [                         ]   3%\r",
        "> Processing Locus C15348:88-266               [                         ]   3%\r",
        "> Processing Locus C15366:21-298               [                         ]   3%\r",
        "> Processing Locus C15374:109-196              [                         ]   3%\r",
        "> Processing Locus C15392:142-229              [                         ]   3%\r",
        "> Processing Locus C15404:8-259                [                         ]   3%\r",
        "> Processing Locus C15424:39-141               [                         ]   3%\r",
        "> Processing Locus C15430:86-291               [                         ]   3%\r",
        "> Processing Locus C15436:9-159                [                         ]   3%\r",
        "> Processing Locus C15440:10-200               [                         ]   3%\r",
        "> Processing Locus C15448:14-304               [                         ]   3%\r",
        "> Processing Locus C15458:126-261              [                         ]   3%\r",
        "> Processing Locus C15460:0-304                [                         ]   3%\r",
        "> Processing Locus C15466:76-285               [                         ]   3%\r",
        "> Processing Locus C15494:4-104                [                         ]   3%\r",
        "> Processing Locus C15498:97-286               [                         ]   3%\r",
        "> Processing Locus C15508:5-176                [                         ]   3%\r",
        "> Processing Locus C15522:1-299                [                         ]   3%\r",
        "> Processing Locus C15526:222-309              [                         ]   3%\r",
        "> Processing Locus C15538:0-310                [                         ]   3%\r",
        "> Processing Locus C15540:184-271              [                         ]   3%\r",
        "> Processing Locus C15544:11-241               [                         ]   3%\r",
        "> Processing Locus C15552:32-171               [                         ]   3%\r",
        "> Processing Locus C15554:135-222              [                         ]   3%\r",
        "> Processing Locus C15558:6-304                [                         ]   3%\r",
        "> Processing Locus C15560:19-283               [                         ]   3%\r",
        "> Processing Locus C15568:44-305               [                         ]   3%\r",
        "> Processing Locus C15592:2-308                [                         ]   3%\r",
        "> Processing Locus C15626:159-246              [                         ]   3%\r",
        "> Processing Locus C15632:20-281               [                         ]   3%\r",
        "> Processing Locus C15638:1-244                [                         ]   3%\r",
        "> Processing Locus C15646:1-311                [                         ]   3%\r",
        "> Processing Locus C15658:1-318                [                         ]   3%\r",
        "> Processing Locus C15662:0-268                [                         ]   3%\r",
        "> Processing Locus C15676:145-232              [                         ]   3%\r",
        "> Processing Locus C15678:3-284                [                         ]   3%\r",
        "> Processing Locus C15686:136-296              [                         ]   3%\r",
        "> Processing Locus C15696:156-260              [                         ]   3%\r",
        "> Processing Locus C15698:61-148               [                         ]   3%\r",
        "> Processing Locus C15720:0-321                [*                        ]   4%\r",
        "> Processing Locus C15740:3-317                [*                        ]   4%\r",
        "> Processing Locus C15746:7-94                 [*                        ]   4%\r",
        "> Processing Locus C15750:26-164               [*                        ]   4%\r",
        "> Processing Locus C15766:26-133               [*                        ]   4%\r",
        "> Processing Locus C15798:3-326                [*                        ]   4%\r",
        "> Processing Locus C15814:8-213                [*                        ]   4%\r",
        "> Processing Locus C15816:10-329               [*                        ]   4%\r",
        "> Processing Locus C15818:2-325                [*                        ]   4%\r",
        "> Processing Locus C15846:4-324                [*                        ]   4%\r",
        "> Processing Locus C15848:74-315               [*                        ]   4%\r",
        "> Processing Locus C15870:79-166               [*                        ]   4%\r",
        "> Processing Locus C15892:3-253                [*                        ]   4%"
       ]
      },
      {
       "output_type": "stream",
       "stream": "stdout",
       "text": [
        "\r",
        "> Processing Locus C15894:0-304                [*                        ]   4%\r",
        "> Processing Locus C15902:147-336              [*                        ]   4%\r",
        "> Processing Locus C15904:74-301               [*                        ]   4%\r",
        "> Processing Locus C15908:27-148               [*                        ]   4%\r",
        "> Processing Locus C15922:0-336                [*                        ]   4%\r",
        "> Processing Locus C15932:43-334               [*                        ]   4%\r",
        "> Processing Locus C15934:1-297                [*                        ]   4%\r",
        "> Processing Locus C15944:147-237              [*                        ]   4%\r",
        "> Processing Locus C15952:3-333                [*                        ]   4%\r",
        "> Processing Locus C15956:101-231              [*                        ]   4%\r",
        "> Processing Locus C15964:3-151                [*                        ]   4%\r",
        "> Processing Locus C15982:101-338              [*                        ]   4%\r",
        "> Processing Locus C15984:27-138               [*                        ]   4%\r",
        "> Processing Locus C15984:207-339              [*                        ]   4%\r",
        "> Processing Locus C15990:0-341                [*                        ]   4%\r",
        "> Processing Locus C15992:109-336              [*                        ]   4%\r",
        "> Processing Locus C15994:9-332                [*                        ]   4%\r",
        "> Processing Locus C16000:212-299              [*                        ]   4%\r",
        "> Processing Locus C16002:15-339               [*                        ]   4%\r",
        "> Processing Locus C16004:113-340              [*                        ]   4%\r",
        "> Processing Locus C16014:157-287              [*                        ]   4%\r",
        "> Processing Locus C16022:5-305                [*                        ]   4%\r",
        "> Processing Locus C16024:12-113               [*                        ]   4%\r",
        "> Processing Locus C16024:165-339              [*                        ]   4%\r",
        "> Processing Locus C16032:13-144               [*                        ]   4%\r",
        "> Processing Locus C16034:4-207                [*                        ]   4%\r",
        "> Processing Locus C16042:8-346                [*                        ]   4%\r",
        "> Processing Locus C16058:30-344               [*                        ]   4%\r",
        "> Processing Locus C16066:88-348               [*                        ]   4%\r",
        "> Processing Locus C16068:0-183                [*                        ]   4%\r",
        "> Processing Locus C16070:102-241              [*                        ]   4%\r",
        "> Processing Locus C16088:9-173                [*                        ]   4%\r",
        "> Processing Locus C16102:0-342                [*                        ]   4%\r",
        "> Processing Locus C16106:62-308               [*                        ]   4%\r",
        "> Processing Locus C16108:0-350                [*                        ]   4%\r",
        "> Processing Locus C16110:16-350               [*                        ]   4%\r",
        "> Processing Locus C16144:1-351                [*                        ]   4%\r",
        "> Processing Locus C16188:36-335               [*                        ]   4%\r",
        "> Processing Locus C16192:5-357                [*                        ]   4%\r",
        "> Processing Locus C16194:10-101               [*                        ]   4%\r",
        "> Processing Locus C16194:269-356              [*                        ]   4%\r",
        "> Processing Locus C16204:0-356                [*                        ]   4%\r",
        "> Processing Locus C16206:267-354              [*                        ]   4%\r",
        "> Processing Locus C16208:1-357                [*                        ]   4%\r",
        "> Processing Locus C16218:246-333              [*                        ]   4%\r",
        "> Processing Locus C16244:147-344              [*                        ]   4%"
       ]
      },
      {
       "output_type": "stream",
       "stream": "stdout",
       "text": [
        "\r",
        "> Processing Locus C16250:0-362                [*                        ]   4%\r",
        "> Processing Locus C16256:3-208                [*                        ]   4%\r",
        "> Processing Locus C16262:1-135                [*                        ]   4%\r",
        "> Processing Locus C16280:229-338              [*                        ]   4%\r",
        "> Processing Locus C16282:17-104               [*                        ]   4%\r",
        "> Processing Locus C16290:0-87                 [*                        ]   4%\r",
        "> Processing Locus C16296:89-367               [*                        ]   4%\r",
        "> Processing Locus C16298:3-356                [*                        ]   4%\r",
        "> Processing Locus C16300:42-129               [*                        ]   4%\r",
        "> Processing Locus C16338:0-371                [*                        ]   4%\r",
        "> Processing Locus C16380:153-344              [*                        ]   4%\r",
        "> Processing Locus C16390:10-373               [*                        ]   4%\r",
        "> Processing Locus C16392:0-375                [*                        ]   4%\r",
        "> Processing Locus C16400:10-367               [*                        ]   4%\r",
        "> Processing Locus C16404:164-269              [*                        ]   4%\r",
        "> Processing Locus C16420:219-306              [*                        ]   4%\r",
        "> Processing Locus C16428:0-379                [*                        ]   4%\r",
        "> Processing Locus C16432:60-147               [*                        ]   4%\r",
        "> Processing Locus C16434:106-374              [*                        ]   4%\r",
        "> Processing Locus C16446:153-253              [*                        ]   4%\r",
        "> Processing Locus C16458:9-356                [*                        ]   5%\r",
        "> Processing Locus C16486:6-259                [*                        ]   5%\r",
        "> Processing Locus C16492:6-122                [*                        ]   5%\r",
        "> Processing Locus C16492:172-259              [*                        ]   5%\r",
        "> Processing Locus C16494:59-378               [*                        ]   5%\r",
        "> Processing Locus C16512:1-386                [*                        ]   5%\r",
        "> Processing Locus C16516:68-376               [*                        ]   5%\r",
        "> Processing Locus C16520:0-344                [*                        ]   5%\r",
        "> Processing Locus C16540:12-390               [*                        ]   5%\r",
        "> Processing Locus C16554:37-356               [*                        ]   5%\r",
        "> Processing Locus C16558:103-208              [*                        ]   5%\r",
        "> Processing Locus C16564:1-327                [*                        ]   5%\r",
        "> Processing Locus C16566:14-101               [*                        ]   5%\r",
        "> Processing Locus C16582:161-392              [*                        ]   5%"
       ]
      },
      {
       "output_type": "stream",
       "stream": "stdout",
       "text": [
        "\r",
        "> Processing Locus C16586:0-389                [*                        ]   5%\r",
        "> Processing Locus C16604:57-284               [*                        ]   5%\r",
        "> Processing Locus C16606:8-388                [*                        ]   5%\r",
        "> Processing Locus C16608:186-306              [*                        ]   5%\r",
        "> Processing Locus C16622:177-325              [*                        ]   5%\r",
        "> Processing Locus C16636:37-399               [*                        ]   5%\r",
        "> Processing Locus C16646:221-317              [*                        ]   5%\r",
        "> Processing Locus C16650:121-402              [*                        ]   5%\r",
        "> Processing Locus C16666:27-114               [*                        ]   5%\r",
        "> Processing Locus C16666:215-327              [*                        ]   5%\r",
        "> Processing Locus C16700:5-403                [*                        ]   5%\r",
        "> Processing Locus C16708:132-352              [*                        ]   5%\r",
        "> Processing Locus C16710:0-396                [*                        ]   5%\r",
        "> Processing Locus C16718:289-376              [*                        ]   5%\r",
        "> Processing Locus C16732:249-336              [*                        ]   5%\r",
        "> Processing Locus C16738:42-352               [*                        ]   5%\r",
        "> Processing Locus C16742:11-98                [*                        ]   5%\r",
        "> Processing Locus C16744:19-331               [*                        ]   5%\r",
        "> Processing Locus C16752:50-356               [*                        ]   5%"
       ]
      },
      {
       "output_type": "stream",
       "stream": "stdout",
       "text": [
        "\r",
        "> Processing Locus C16760:0-413                [*                        ]   5%\r",
        "> Processing Locus C16766:82-280               [*                        ]   5%\r",
        "> Processing Locus C16768:155-414              [*                        ]   5%\r",
        "> Processing Locus C16782:67-154               [*                        ]   5%\r",
        "> Processing Locus C16786:0-417                [*                        ]   5%\r",
        "> Processing Locus C16796:9-210                [*                        ]   5%\r",
        "> Processing Locus C16796:290-418              [*                        ]   5%\r",
        "> Processing Locus C16798:1-414                [*                        ]   5%\r",
        "> Processing Locus C16818:0-202                [*                        ]   5%\r",
        "> Processing Locus C16820:36-272               [*                        ]   5%\r",
        "> Processing Locus C16838:0-115                [*                        ]   5%\r",
        "> Processing Locus C16842:67-209               [*                        ]   5%\r",
        "> Processing Locus C16854:200-357              [*                        ]   5%\r",
        "> Processing Locus C16864:0-421                [*                        ]   5%\r",
        "> Processing Locus C16870:1-425                [*                        ]   5%\r",
        "> Processing Locus C16882:57-424               [*                        ]   5%\r",
        "> Processing Locus C16888:71-421               [*                        ]   5%\r",
        "> Processing Locus C16902:12-102               [*                        ]   5%\r",
        "> Processing Locus C16902:208-295              [*                        ]   5%\r",
        "> Processing Locus C16928:4-418                [*                        ]   5%\r",
        "> Processing Locus C16936:1-362                [*                        ]   5%\r",
        "> Processing Locus C16938:1-399                [*                        ]   5%\r",
        "> Processing Locus C16948:37-182               [*                        ]   5%\r",
        "> Processing Locus C16948:279-423              [*                        ]   5%\r",
        "> Processing Locus C16950:331-425              [*                        ]   5%\r",
        "> Processing Locus C16958:62-178               [*                        ]   5%\r",
        "> Processing Locus C16958:275-362              [*                        ]   5%\r",
        "> Processing Locus C16982:22-263               [*                        ]   5%\r",
        "> Processing Locus C16982:328-434              [*                        ]   5%\r",
        "> Processing Locus C17006:268-418              [*                        ]   5%\r",
        "> Processing Locus C17014:115-243              [*                        ]   5%\r",
        "> Processing Locus C17016:131-373              [*                        ]   5%\r",
        "> Processing Locus C17028:0-442                [*                        ]   5%\r",
        "> Processing Locus C17036:129-442              [*                        ]   5%\r",
        "> Processing Locus C17038:23-244               [*                        ]   5%\r",
        "> Processing Locus C17052:5-121                [*                        ]   5%\r",
        "> Processing Locus C17054:168-299              [*                        ]   5%\r",
        "> Processing Locus C17056:13-215               [*                        ]   5%\r",
        "> Processing Locus C17060:177-264              [*                        ]   5%\r",
        "> Processing Locus C17060:335-422              [*                        ]   5%\r",
        "> Processing Locus C17064:116-441              [*                        ]   5%\r",
        "> Processing Locus C17066:4-444                [*                        ]   5%\r",
        "> Processing Locus C17076:32-159               [*                        ]   5%\r",
        "> Processing Locus C17080:10-97                [*                        ]   5%"
       ]
      },
      {
       "output_type": "stream",
       "stream": "stdout",
       "text": [
        "\r",
        "> Processing Locus C17080:359-446              [*                        ]   5%\r",
        "> Processing Locus C17098:82-450               [*                        ]   5%\r",
        "> Processing Locus C17100:8-372                [*                        ]   5%\r",
        "> Processing Locus C17102:7-449                [*                        ]   5%\r",
        "> Processing Locus C17106:5-433                [*                        ]   5%\r",
        "> Processing Locus C17108:2-442                [*                        ]   5%\r",
        "> Processing Locus C17116:17-450               [*                        ]   5%\r",
        "> Processing Locus C17118:0-451                [*                        ]   5%\r",
        "> Processing Locus C17128:116-203              [*                        ]   5%\r",
        "> Processing Locus C17134:50-451               [*                        ]   6%\r",
        "> Processing Locus C17150:15-453               [*                        ]   6%\r",
        "> Processing Locus C17158:1-455                [*                        ]   6%\r",
        "> Processing Locus C17170:57-184               [*                        ]   6%\r",
        "> Processing Locus C17170:257-402              [*                        ]   6%\r",
        "> Processing Locus C17178:44-142               [*                        ]   6%\r",
        "> Processing Locus C17178:294-456              [*                        ]   6%\r",
        "> Processing Locus C17186:7-412                [*                        ]   6%\r",
        "> Processing Locus C17198:58-145               [*                        ]   6%\r",
        "> Processing Locus C17210:52-421               [*                        ]   6%\r",
        "> Processing Locus C17212:7-460                [*                        ]   6%\r",
        "> Processing Locus C17242:278-403              [*                        ]   6%\r",
        "> Processing Locus C17244:54-277               [*                        ]   6%\r",
        "> Processing Locus C17262:29-290               [*                        ]   6%\r",
        "> Processing Locus C17262:364-451              [*                        ]   6%\r",
        "> Processing Locus C17266:1-457                [*                        ]   6%\r",
        "> Processing Locus C17274:17-274               [*                        ]   6%\r",
        "> Processing Locus C17300:203-290              [*                        ]   6%\r",
        "> Processing Locus C17310:31-186               [*                        ]   6%\r",
        "> Processing Locus C17316:4-464                [*                        ]   6%\r",
        "> Processing Locus C17332:40-457               [*                        ]   6%\r",
        "> Processing Locus C17342:18-141               [*                        ]   6%\r",
        "> Processing Locus C17348:146-240              [*                        ]   6%\r",
        "> Processing Locus C17352:18-172               [*                        ]   6%\r",
        "> Processing Locus C17358:21-479               [*                        ]   6%\r",
        "> Processing Locus C17362:166-253              [*                        ]   6%\r",
        "> Processing Locus C17362:373-468              [*                        ]   6%\r",
        "> Processing Locus C17376:58-482               [*                        ]   6%\r",
        "> Processing Locus C17386:103-219              [*                        ]   6%\r",
        "> Processing Locus C17388:174-261              [*                        ]   6%\r",
        "> Processing Locus C17388:368-455              [*                        ]   6%\r",
        "> Processing Locus C17394:156-313              [*                        ]   6%\r",
        "> Processing Locus C17398:14-473               [*                        ]   6%\r",
        "> Processing Locus C17402:0-484                [*                        ]   6%"
       ]
      },
      {
       "output_type": "stream",
       "stream": "stdout",
       "text": [
        "\r",
        "> Processing Locus C17406:58-211               [*                        ]   6%\r",
        "> Processing Locus C17410:72-190               [*                        ]   6%\r",
        "> Processing Locus C17420:259-452              [*                        ]   6%\r",
        "> Processing Locus C17436:39-126               [*                        ]   6%\r",
        "> Processing Locus C17458:81-476               [*                        ]   6%\r",
        "> Processing Locus C17470:229-473              [*                        ]   6%\r",
        "> Processing Locus C17472:2-470                [*                        ]   6%\r",
        "> Processing Locus C17476:141-228              [*                        ]   6%\r",
        "> Processing Locus C17480:21-331               [*                        ]   6%\r",
        "> Processing Locus C17494:0-490                [*                        ]   6%\r",
        "> Processing Locus C17502:79-166               [*                        ]   6%\r",
        "> Processing Locus C17514:40-418               [*                        ]   6%\r",
        "> Processing Locus C17516:4-177                [*                        ]   6%\r",
        "> Processing Locus C17526:21-479               [*                        ]   6%\r",
        "> Processing Locus C17540:65-494               [*                        ]   6%\r",
        "> Processing Locus C17544:9-96                 [*                        ]   6%\r",
        "> Processing Locus C17546:38-475               [*                        ]   6%\r",
        "> Processing Locus C17552:22-109               [*                        ]   6%\r",
        "> Processing Locus C17556:75-162               [*                        ]   6%\r",
        "> Processing Locus C17556:388-475              [*                        ]   6%\r",
        "> Processing Locus C17564:51-473               [*                        ]   6%\r",
        "> Processing Locus C17574:0-503                [*                        ]   6%\r",
        "> Processing Locus C17580:71-285               [*                        ]   6%\r",
        "> Processing Locus C17580:375-462              [*                        ]   6%\r",
        "> Processing Locus C17582:3-211                [*                        ]   6%\r",
        "> Processing Locus C17582:395-482              [*                        ]   6%\r",
        "> Processing Locus C17602:1-504                [*                        ]   6%\r",
        "> Processing Locus C17604:170-257              [*                        ]   6%\r",
        "> Processing Locus C17608:213-447              [*                        ]   6%\r",
        "> Processing Locus C17616:73-474               [*                        ]   6%\r",
        "> Processing Locus C17620:57-144               [*                        ]   6%\r",
        "> Processing Locus C17630:5-495                [*                        ]   6%\r",
        "> Processing Locus C17660:0-447                [*                        ]   6%\r",
        "> Processing Locus C17662:43-372               [*                        ]   6%\r",
        "> Processing Locus C17662:422-510              [*                        ]   6%\r",
        "> Processing Locus C17664:10-115               [*                        ]   6%\r",
        "> Processing Locus C17666:123-210              [*                        ]   6%\r",
        "> Processing Locus C17666:321-506              [*                        ]   6%\r",
        "> Processing Locus C17676:0-469                [*                        ]   6%\r",
        "> Processing Locus C17678:59-491               [*                        ]   6%\r",
        "> Processing Locus C17682:70-388               [*                        ]   6%\r",
        "> Processing Locus C17684:0-515                [*                        ]   6%\r",
        "> Processing Locus C17688:335-422              [*                        ]   6%\r",
        "> Processing Locus C17730:0-365                [*                        ]   6%\r",
        "> Processing Locus C17734:15-161               [*                        ]   6%\r",
        "> Processing Locus C17734:408-495              [*                        ]   6%\r",
        "> Processing Locus C17738:7-517                [*                        ]   6%\r",
        "> Processing Locus C17742:234-396              [*                        ]   6%\r",
        "> Processing Locus C17746:2-507                [*                        ]   6%\r",
        "> Processing Locus C17748:5-525                [*                        ]   6%\r",
        "> Processing Locus C17750:238-325              [*                        ]   6%\r",
        "> Processing Locus C17762:6-520                [*                        ]   6%\r",
        "> Processing Locus C17766:21-108               [*                        ]   6%\r",
        "> Processing Locus C17770:6-523                [*                        ]   6%\r",
        "> Processing Locus C17772:322-526              [*                        ]   7%\r",
        "> Processing Locus C17786:96-220               [*                        ]   7%\r",
        "> Processing Locus C17786:430-517              [*                        ]   7%\r",
        "> Processing Locus C17788:153-283              [*                        ]   7%\r",
        "> Processing Locus C17794:60-472               [*                        ]   7%\r",
        "> Processing Locus C17802:320-429              [*                        ]   7%\r",
        "> Processing Locus C17814:48-516               [*                        ]   7%\r",
        "> Processing Locus C17830:72-530               [*                        ]   7%\r",
        "> Processing Locus C17838:407-515              [*                        ]   7%\r",
        "> Processing Locus C17852:0-494                [*                        ]   7%\r",
        "> Processing Locus C17864:1-512                [*                        ]   7%\r",
        "> Processing Locus C17886:5-507                [*                        ]   7%\r",
        "> Processing Locus C17888:2-89                 [*                        ]   7%\r",
        "> Processing Locus C17888:273-440              [*                        ]   7%\r",
        "> Processing Locus C17894:21-536               [*                        ]   7%\r",
        "> Processing Locus C17896:39-126               [*                        ]   7%\r",
        "> Processing Locus C17906:98-245               [*                        ]   7%\r",
        "> Processing Locus C17940:2-551                [*                        ]   7%\r",
        "> Processing Locus C17944:257-344              [*                        ]   7%\r",
        "> Processing Locus C17944:438-552              [*                        ]   7%\r",
        "> Processing Locus C17946:28-554               [*                        ]   7%\r",
        "> Processing Locus C17950:120-261              [*                        ]   7%\r",
        "> Processing Locus C17954:114-535              [*                        ]   7%\r",
        "> Processing Locus C17958:17-545               [*                        ]   7%"
       ]
      },
      {
       "output_type": "stream",
       "stream": "stdout",
       "text": [
        "\r",
        "> Processing Locus C17960:5-497                [*                        ]   7%\r",
        "> Processing Locus C18008:11-560               [*                        ]   7%\r",
        "> Processing Locus C18010:135-531              [*                        ]   7%\r",
        "> Processing Locus C18050:0-361                [*                        ]   7%\r",
        "> Processing Locus C18050:432-565              [*                        ]   7%\r",
        "> Processing Locus C18054:78-428               [*                        ]   7%\r",
        "> Processing Locus C18062:453-558              [*                        ]   7%\r",
        "> Processing Locus C18074:429-516              [*                        ]   7%\r",
        "> Processing Locus C18086:59-568               [*                        ]   7%\r",
        "> Processing Locus C18098:260-347              [*                        ]   7%\r",
        "> Processing Locus C18104:9-328                [*                        ]   7%\r",
        "> Processing Locus C18108:38-551               [*                        ]   7%\r",
        "> Processing Locus C18116:62-149               [*                        ]   7%\r",
        "> Processing Locus C18116:263-475              [*                        ]   7%\r",
        "> Processing Locus C18122:99-576               [*                        ]   7%\r",
        "> Processing Locus C18128:0-562                [*                        ]   7%\r",
        "> Processing Locus C18130:8-95                 [*                        ]   7%\r",
        "> Processing Locus C18130:280-501              [*                        ]   7%\r",
        "> Processing Locus C18136:44-569               [*                        ]   7%\r",
        "> Processing Locus C18146:210-315              [*                        ]   7%\r",
        "> Processing Locus C18154:202-289              [*                        ]   7%\r",
        "> Processing Locus C18154:339-427              [*                        ]   7%\r",
        "> Processing Locus C18166:171-256              [*                        ]   7%\r",
        "> Processing Locus C18166:388-561              [*                        ]   7%\r",
        "> Processing Locus C18168:0-103                [*                        ]   7%\r",
        "> Processing Locus C18168:449-536              [*                        ]   7%\r",
        "> Processing Locus C18184:118-238              [*                        ]   7%\r",
        "> Processing Locus C18184:290-581              [*                        ]   7%\r",
        "> Processing Locus C18226:138-329              [*                        ]   7%\r",
        "> Processing Locus C18226:401-560              [*                        ]   7%\r",
        "> Processing Locus C18238:0-547                [*                        ]   7%\r",
        "> Processing Locus C18240:9-523                [*                        ]   7%\r",
        "> Processing Locus C18244:7-564                [*                        ]   7%\r",
        "> Processing Locus C18254:0-596                [*                        ]   7%\r",
        "> Processing Locus C18256:11-166               [*                        ]   7%\r",
        "> Processing Locus C18278:0-588                [*                        ]   7%\r",
        "> Processing Locus C18286:1-599                [*                        ]   7%\r",
        "> Processing Locus C18288:0-599                [*                        ]   7%"
       ]
      },
      {
       "output_type": "stream",
       "stream": "stdout",
       "text": [
        "\r",
        "> Processing Locus C18316:1-598                [*                        ]   7%\r",
        "> Processing Locus C18334:18-600               [*                        ]   7%"
       ]
      },
      {
       "output_type": "stream",
       "stream": "stdout",
       "text": [
        "\r",
        "> Processing Locus C18346:49-601               [*                        ]   7%\r",
        "> Processing Locus C18352:271-358              [*                        ]   7%\r",
        "> Processing Locus C18358:17-574               [*                        ]   7%\r",
        "> Processing Locus C18366:9-598                [*                        ]   7%\r",
        "> Processing Locus C18378:1-605                [*                        ]   7%\r",
        "> Processing Locus C18394:291-378              [*                        ]   7%\r",
        "> Processing Locus C18396:5-583                [*                        ]   7%\r",
        "> Processing Locus C18398:5-554                [*                        ]   7%\r",
        "> Processing Locus C18414:16-606               [*                        ]   7%\r",
        "> Processing Locus C18418:441-528              [*                        ]   7%"
       ]
      },
      {
       "output_type": "stream",
       "stream": "stdout",
       "text": [
        "\r",
        "> Processing Locus C18428:1-611                [*                        ]   7%\r",
        "> Processing Locus C18430:27-184               [*                        ]   7%\r",
        "> Processing Locus C18430:423-586              [*                        ]   7%\r",
        "> Processing Locus C18434:27-612               [*                        ]   7%\r",
        "> Processing Locus C18446:73-160               [*                        ]   7%\r",
        "> Processing Locus C18446:280-600              [*                        ]   7%"
       ]
      },
      {
       "output_type": "stream",
       "stream": "stdout",
       "text": [
        "\r",
        "> Processing Locus C18448:169-610              [*                        ]   7%\r",
        "> Processing Locus C18450:135-222              [*                        ]   7%\r",
        "> Processing Locus C18484:58-146               [*                        ]   7%\r",
        "> Processing Locus C18492:9-613                [*                        ]   7%\r",
        "> Processing Locus C18502:31-499               [*                        ]   7%\r",
        "> Processing Locus C18508:2-619                [*                        ]   7%\r",
        "> Processing Locus C18522:2-536                [*                        ]   7%\r",
        "> Processing Locus C18526:94-252               [*                        ]   7%\r",
        "> Processing Locus C18526:415-502              [*                        ]   7%\r",
        "> Processing Locus C18538:1-100                [*                        ]   7%\r",
        "> Processing Locus C18538:189-627              [*                        ]   7%\r",
        "> Processing Locus C18546:6-624                [**                       ]   8%\r",
        "> Processing Locus C18548:5-629                [**                       ]   8%\r",
        "> Processing Locus C18550:27-249               [**                       ]   8%\r",
        "> Processing Locus C18560:47-272               [**                       ]   8%\r",
        "> Processing Locus C18572:4-636                [**                       ]   8%\r",
        "> Processing Locus C18576:117-430              [**                       ]   8%\r",
        "> Processing Locus C18576:524-627              [**                       ]   8%\r",
        "> Processing Locus C18578:475-562              [**                       ]   8%\r",
        "> Processing Locus C18580:173-613              [**                       ]   8%\r",
        "> Processing Locus C18588:321-408              [**                       ]   8%\r",
        "> Processing Locus C18600:11-254               [**                       ]   8%\r",
        "> Processing Locus C18622:500-587              [**                       ]   8%\r",
        "> Processing Locus C18638:0-595                [**                       ]   8%\r",
        "> Processing Locus C18652:17-651               [**                       ]   8%\r",
        "> Processing Locus C18664:89-337               [**                       ]   8%\r",
        "> Processing Locus C18674:0-655                [**                       ]   8%\r",
        "> Processing Locus C18682:223-322              [**                       ]   8%\r",
        "> Processing Locus C18688:0-612                [**                       ]   8%\r",
        "> Processing Locus C18694:42-308               [**                       ]   8%\r",
        "> Processing Locus C18694:453-558              [**                       ]   8%\r",
        "> Processing Locus C18708:14-604               [**                       ]   8%\r",
        "> Processing Locus C18710:34-598               [**                       ]   8%\r",
        "> Processing Locus C18722:117-641              [**                       ]   8%"
       ]
      },
      {
       "output_type": "stream",
       "stream": "stdout",
       "text": [
        "\r",
        "> Processing Locus C18726:20-184               [**                       ]   8%\r",
        "> Processing Locus C18726:335-459              [**                       ]   8%\r",
        "> Processing Locus C18728:11-650               [**                       ]   8%\r",
        "> Processing Locus C18736:364-603              [**                       ]   8%\r",
        "> Processing Locus C18740:46-284               [**                       ]   8%\r",
        "> Processing Locus C18744:256-343              [**                       ]   8%\r",
        "> Processing Locus C18752:5-609                [**                       ]   8%\r",
        "> Processing Locus C18754:5-518                [**                       ]   8%\r",
        "> Processing Locus C18758:126-419              [**                       ]   8%\r",
        "> Processing Locus C18758:544-631              [**                       ]   8%\r",
        "> Processing Locus C18768:81-170               [**                       ]   8%\r",
        "> Processing Locus C18770:102-277              [**                       ]   8%\r",
        "> Processing Locus C18772:83-265               [**                       ]   8%\r",
        "> Processing Locus C18772:413-500              [**                       ]   8%\r",
        "> Processing Locus C18774:8-671                [**                       ]   8%\r",
        "> Processing Locus C18792:10-604               [**                       ]   8%\r",
        "> Processing Locus C18802:1-88                 [**                       ]   8%\r",
        "> Processing Locus C18802:270-490              [**                       ]   8%\r",
        "> Processing Locus C18804:88-681               [**                       ]   8%\r",
        "> Processing Locus C18806:413-524              [**                       ]   8%\r",
        "> Processing Locus C18824:16-134               [**                       ]   8%\r",
        "> Processing Locus C18824:240-661              [**                       ]   8%\r",
        "> Processing Locus C18832:6-683                [**                       ]   8%\r",
        "> Processing Locus C18836:0-676                [**                       ]   8%\r",
        "> Processing Locus C18850:1-692                [**                       ]   8%\r",
        "> Processing Locus C18858:76-221               [**                       ]   8%\r",
        "> Processing Locus C18858:315-665              [**                       ]   8%\r",
        "> Processing Locus C18860:0-696                [**                       ]   8%\r",
        "> Processing Locus C18862:0-379                [**                       ]   8%\r",
        "> Processing Locus C18862:448-535              [**                       ]   8%\r",
        "> Processing Locus C18866:33-144               [**                       ]   8%\r",
        "> Processing Locus C18866:222-666              [**                       ]   8%\r",
        "> Processing Locus C18868:154-241              [**                       ]   8%\r",
        "> Processing Locus C18884:452-539              [**                       ]   8%\r",
        "> Processing Locus C18884:597-684              [**                       ]   8%\r",
        "> Processing Locus C18894:30-355               [**                       ]   8%\r",
        "> Processing Locus C18894:418-624              [**                       ]   8%\r",
        "> Processing Locus C18924:19-705               [**                       ]   8%\r",
        "> Processing Locus C18932:473-668              [**                       ]   8%\r",
        "> Processing Locus C18936:55-220               [**                       ]   8%\r",
        "> Processing Locus C18936:323-474              [**                       ]   8%\r",
        "> Processing Locus C18936:612-699              [**                       ]   8%\r",
        "> Processing Locus C18938:6-656                [**                       ]   8%\r",
        "> Processing Locus C18942:75-709               [**                       ]   8%\r",
        "> Processing Locus C18950:6-93                 [**                       ]   8%\r",
        "> Processing Locus C18950:230-376              [**                       ]   8%\r",
        "> Processing Locus C18950:432-616              [**                       ]   8%\r",
        "> Processing Locus C18952:103-206              [**                       ]   8%\r",
        "> Processing Locus C18964:332-419              [**                       ]   8%\r",
        "> Processing Locus C18966:525-612              [**                       ]   8%\r",
        "> Processing Locus C18968:75-190               [**                       ]   8%\r",
        "> Processing Locus C18968:242-417              [**                       ]   8%\r",
        "> Processing Locus C18968:508-655              [**                       ]   8%\r",
        "> Processing Locus C18976:0-701                [**                       ]   8%\r",
        "> Processing Locus C18996:23-117               [**                       ]   8%\r",
        "> Processing Locus C18996:179-583              [**                       ]   8%\r",
        "> Processing Locus C18998:10-717               [**                       ]   8%\r",
        "> Processing Locus C19008:524-704              [**                       ]   8%\r",
        "> Processing Locus C19018:0-717                [**                       ]   8%\r",
        "> Processing Locus C19030:12-721               [**                       ]   8%"
       ]
      },
      {
       "output_type": "stream",
       "stream": "stdout",
       "text": [
        "\r",
        "> Processing Locus C19042:45-726               [**                       ]   8%\r",
        "> Processing Locus C19056:56-261               [**                       ]   8%\r",
        "> Processing Locus C19056:449-668              [**                       ]   8%\r",
        "> Processing Locus C19072:181-438              [**                       ]   8%\r",
        "> Processing Locus C19072:531-618              [**                       ]   8%\r",
        "> Processing Locus C19082:1-480                [**                       ]   8%\r",
        "> Processing Locus C19094:71-158               [**                       ]   8%\r",
        "> Processing Locus C19098:11-250               [**                       ]   8%\r",
        "> Processing Locus C19100:25-743               [**                       ]   8%\r",
        "> Processing Locus C19108:13-725               [**                       ]   8%\r",
        "> Processing Locus C19112:106-744              [**                       ]   8%\r",
        "> Processing Locus C19122:129-216              [**                       ]   8%\r",
        "> Processing Locus C19142:2-275                [**                       ]   8%\r",
        "> Processing Locus C19142:578-735              [**                       ]   8%"
       ]
      },
      {
       "output_type": "stream",
       "stream": "stdout",
       "text": [
        "\r",
        "> Processing Locus C19148:0-756                [**                       ]   8%"
       ]
      },
      {
       "output_type": "stream",
       "stream": "stdout",
       "text": [
        "^C\r\n"
       ]
      }
     ],
     "prompt_number": 16
    },
    {
     "cell_type": "code",
     "collapsed": false,
     "input": [
      "!time cufflinks \\\n",
      "-p 16\n",
      "-g /Volumes/Eagle/trilobite/Crassostrea_gigas_ensembl_tracks/Crassostrea_gigas.GCA_000297895.1.24.gtf \\\n",
      "-o ./analysis/cufflinks_postHS/ \\\n",
      "./analysis/tophat_postHS/tophat_out/accepted_hits.bam"
     ],
     "language": "python",
     "metadata": {},
     "outputs": [
      {
       "output_type": "stream",
       "stream": "stdout",
       "text": [
        "You are using Cufflinks v2.2.1, which is the most recent release.\r\n"
       ]
      },
      {
       "output_type": "stream",
       "stream": "stdout",
       "text": [
        "[17:39:45] Inspecting reads and determining fragment length distribution.\r\n"
       ]
      },
      {
       "output_type": "stream",
       "stream": "stdout",
       "text": [
        "^C\r\n"
       ]
      }
     ],
     "prompt_number": 17
    },
    {
     "cell_type": "markdown",
     "metadata": {},
     "source": [
      "###Combine Transcriptomes (Cuffmerge)"
     ]
    },
    {
     "cell_type": "code",
     "collapsed": false,
     "input": [
      "!time cuffmerge \\\n",
      "-p 16 \\\n",
      "-o .analysis/cuffmerge \\\n",
      "./analysis/cuffmerge/cufflinksManifest.txt"
     ],
     "language": "python",
     "metadata": {},
     "outputs": [
      {
       "output_type": "stream",
       "stream": "stdout",
       "text": [
        "\r\n",
        "[Tue Feb 10 17:39:47 2015] Beginning transcriptome assembly merge\r\n",
        "-------------------------------------------\r\n",
        "\r\n",
        "[Tue Feb 10 17:39:47 2015] Preparing output location .analysis/cuffmerge/\r\n",
        "Warning: no reference GTF provided!\r\n"
       ]
      },
      {
       "output_type": "stream",
       "stream": "stdout",
       "text": [
        "^CTraceback (most recent call last):\r\n",
        "  File \"/usr/local/bioinformatics/cufflinks-2.2.1.OSX_x86_64/cuffmerge\", line 580, in <module>\r\n",
        "    sys.exit(main())\r\n",
        "  File \"/usr/local/bioinformatics/cufflinks-2.2.1.OSX_x86_64/cuffmerge\", line 546, in main\r\n",
        "    chrom_info = get_gtf_chrom_info(gtf, chrom_info)\r\n",
        "  File \"/usr/local/bioinformatics/cufflinks-2.2.1.OSX_x86_64/cuffmerge\", line 478, in get_gtf_chrom_info\r\n",
        "    bounds = chroms.setdefault(chrom, [9999999999,-1])\r\n",
        "KeyboardInterrupt\r\n",
        "\r\n",
        "real\t0m2.930s\r\n",
        "user\t0m2.726s\r\n",
        "sys\t0m0.087s\r\n",
        "\r\n"
       ]
      }
     ],
     "prompt_number": 18
    },
    {
     "cell_type": "markdown",
     "metadata": {},
     "source": [
      "###Quantify Gene & Transcript Expression (Cuffquant)"
     ]
    },
    {
     "cell_type": "code",
     "collapsed": false,
     "input": [
      "!time cuffquant \\\n",
      "-p 16 \\\n",
      "-o ./analysis/cuffquant/ \\\n",
      "./analysis/cuffmerge/merged_asm/merged.gtf \\\n",
      "./analysis/tophat_preHS/tophat_out/accepted_hits.bam"
     ],
     "language": "python",
     "metadata": {},
     "outputs": [
      {
       "output_type": "stream",
       "stream": "stdout",
       "text": [
        "You are using Cufflinks v2.2.1, which is the most recent release.\r\n",
        "[17:39:50] Loading reference annotation.\r\n"
       ]
      },
      {
       "output_type": "stream",
       "stream": "stdout",
       "text": [
        "[17:39:56] Inspecting maps and determining fragment length distributions.\r\n"
       ]
      },
      {
       "output_type": "stream",
       "stream": "stdout",
       "text": [
        "^C\r\n"
       ]
      }
     ],
     "prompt_number": 19
    },
    {
     "cell_type": "code",
     "collapsed": false,
     "input": [
      "!time cuffquant \\\n",
      "-p 16 \\\n",
      "-o ./analysis/cuffquant/ \\\n",
      "./analysis/cuffmerge/merged_asm/merged.gtf \\\n",
      "./analysis/tophat_postHS/tophat_out/accepted_hits.bam"
     ],
     "language": "python",
     "metadata": {},
     "outputs": [
      {
       "output_type": "stream",
       "stream": "stdout",
       "text": [
        "You are using Cufflinks v2.2.1, which is the most recent release.\r\n"
       ]
      },
      {
       "output_type": "stream",
       "stream": "stdout",
       "text": [
        "[17:40:04] Loading reference annotation.\r\n"
       ]
      },
      {
       "output_type": "stream",
       "stream": "stdout",
       "text": [
        "^C\r\n"
       ]
      }
     ],
     "prompt_number": 20
    },
    {
     "cell_type": "markdown",
     "metadata": {},
     "source": [
      "###Compare Gene Expression Levels (Cuffdiff)"
     ]
    },
    {
     "cell_type": "code",
     "collapsed": false,
     "input": [],
     "language": "python",
     "metadata": {},
     "outputs": [],
     "prompt_number": 20
    }
   ],
   "metadata": {}
  }
 ]
}