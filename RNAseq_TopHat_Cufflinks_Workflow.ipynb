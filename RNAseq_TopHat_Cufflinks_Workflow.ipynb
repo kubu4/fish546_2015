{
 "metadata": {
  "name": "",
  "signature": "sha256:e6c59f82267b3c87174968e5cd8c35321684b83a35683791b1de307ebbe7568c"
 },
 "nbformat": 3,
 "nbformat_minor": 0,
 "worksheets": [
  {
   "cells": [
    {
     "cell_type": "markdown",
     "metadata": {},
     "source": [
      "###Directory Structure"
     ]
    },
    {
     "cell_type": "code",
     "collapsed": false,
     "input": [
      "cd /Volumes/Data/Sam/fish546_2015/gigasHSrnaSeq/"
     ],
     "language": "python",
     "metadata": {},
     "outputs": [
      {
       "output_type": "stream",
       "stream": "stdout",
       "text": [
        "/Volumes/Data/Sam/fish546_2015/gigasHSrnaSeq\n"
       ]
      }
     ],
     "prompt_number": 10
    },
    {
     "cell_type": "markdown",
     "metadata": {},
     "source": [
      "###Genome Files"
     ]
    },
    {
     "cell_type": "markdown",
     "metadata": {},
     "source": [
      "###Sequencing Files"
     ]
    },
    {
     "cell_type": "markdown",
     "metadata": {},
     "source": [
      "###Sequence Quality Check & Trimming (FASTQC & fastx_trimmer)"
     ]
    },
    {
     "cell_type": "markdown",
     "metadata": {},
     "source": [
      "###Read Mapping & Annotation (TopHat)"
     ]
    },
    {
     "cell_type": "markdown",
     "metadata": {},
     "source": [
      "####Build build bowtie sequence index for use in TopHat"
     ]
    },
    {
     "cell_type": "markdown",
     "metadata": {},
     "source": [
      "####Run TopHat"
     ]
    },
    {
     "cell_type": "code",
     "collapsed": false,
     "input": [
      "#Run tophat2 using 16 CPU threads (-p 16) on 3 pre-HS samples\n",
      "#post fastx_trimmer\n",
      "!time tophat2 \\\n",
      "-p 16 \\\n",
      "-o ./analysis/tophat_preHS/ \\\n",
      "/Volumes/Eagle/trilobite/Crassostrea_gigas_ensembl_tracks/Crassostrea_gigas.GCA_000297895.1.24.dna_sm.genome \\\n",
      "/Volumes/Data/Sam/fish546_2015/gigasHSrnaSeq/raw_data/2M_fastx_trimmed.fastq.gz,\\\n",
      "/Volumes/Data/Sam/fish546_2015/gigasHSrnaSeq/raw_data/4M_fastx_trimmed.fastq.gz,\\\n",
      "/Volumes/Data/Sam/fish546_2015/gigasHSrnaSeq/raw_data/6M_fastx_trimmed.fastq.gz"
     ],
     "language": "python",
     "metadata": {},
     "outputs": []
    },
    {
     "cell_type": "code",
     "collapsed": false,
     "input": [
      "#Run tophat2 using 16 CPU threads (-p 16) on 3 post-HS samples\n",
      "#post fastx_trimmer\n",
      "!time tophat2 \\\n",
      "-p 16 \\\n",
      "-o ./analysis/tophat_postHS/ \\\n",
      "/Volumes/Eagle/trilobite/Crassostrea_gigas_ensembl_tracks/Crassostrea_gigas.GCA_000297895.1.24.dna_sm.genome \\\n",
      "/Volumes/Data/Sam/fish546_2015/gigasHSrnaSeq/raw_data/2M_fastx_trimmed.fastq.gz,\\\n",
      "/Volumes/Data/Sam/fish546_2015/gigasHSrnaSeq/raw_data/4M_fastx_trimmed.fastq.gz,\\\n",
      "/Volumes/Data/Sam/fish546_2015/gigasHSrnaSeq/raw_data/6M_fastx_trimmed.fastq.gz"
     ],
     "language": "python",
     "metadata": {},
     "outputs": []
    },
    {
     "cell_type": "markdown",
     "metadata": {},
     "source": [
      "###Transcriptome Assembly & Quantification (Cufflinks)"
     ]
    },
    {
     "cell_type": "code",
     "collapsed": false,
     "input": [
      "!time cufflinks \\\n",
      "-o ./analysis/cufflinks_preHS/ \\\n",
      "./analysis/tophat_preHS/tophat_out/accepted_hits.bam"
     ],
     "language": "python",
     "metadata": {},
     "outputs": []
    },
    {
     "cell_type": "code",
     "collapsed": false,
     "input": [
      "!time cufflinks \\\n",
      "-o ./analysis/cufflinks_postHS/ \\\n",
      "./analysis/tophat_postHS/tophat_out/accepted_hits.bam"
     ],
     "language": "python",
     "metadata": {},
     "outputs": []
    },
    {
     "cell_type": "markdown",
     "metadata": {},
     "source": [
      "###Combine Transcriptomes (Cuffmerge)"
     ]
    },
    {
     "cell_type": "code",
     "collapsed": false,
     "input": [
      "!time cuffmerge -p 16 ./analysis/cuffmerge/cufflinksManifest.txt"
     ],
     "language": "python",
     "metadata": {},
     "outputs": []
    },
    {
     "cell_type": "markdown",
     "metadata": {},
     "source": [
      "###Quantify Gene & Transcript Expression (Cuffquant)"
     ]
    },
    {
     "cell_type": "code",
     "collapsed": false,
     "input": [
      "!time cuffquant \\\n",
      "-p 16 \\\n",
      "./analysis/cuffmerge/merged_asm/merged.gtf \\\n",
      "./analysis/tophat_preHS/tophat_out/accepted_hits.bam"
     ],
     "language": "python",
     "metadata": {},
     "outputs": []
    },
    {
     "cell_type": "code",
     "collapsed": false,
     "input": [
      "!time cuffquant \\\n",
      "-p 16 \\\n",
      "./analysis/cuffmerge/merged_asm/merged.gtf \\\n",
      "./analysis/tophat_postHS/tophat_out/accepted_hits.bam"
     ],
     "language": "python",
     "metadata": {},
     "outputs": []
    },
    {
     "cell_type": "markdown",
     "metadata": {},
     "source": [
      "###Compare Gene Expression Levels (Cuffdiff)"
     ]
    },
    {
     "cell_type": "code",
     "collapsed": false,
     "input": [],
     "language": "python",
     "metadata": {},
     "outputs": []
    }
   ],
   "metadata": {}
  }
 ]
}