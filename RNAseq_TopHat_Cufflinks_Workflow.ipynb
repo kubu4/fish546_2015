{
 "metadata": {
  "name": "",
  "signature": "sha256:c14ac0a90005b86b17ff8ce22d70d9ec92852eacff5651e0a5e41f535dfbb79c"
 },
 "nbformat": 3,
 "nbformat_minor": 0,
 "worksheets": [
  {
   "cells": [
    {
     "cell_type": "code",
     "collapsed": false,
     "input": [],
     "language": "python",
     "metadata": {},
     "outputs": []
    }
   ],
   "metadata": {}
  }
 ]
}