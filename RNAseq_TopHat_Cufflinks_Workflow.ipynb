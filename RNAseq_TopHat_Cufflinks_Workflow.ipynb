{
 "metadata": {
  "name": "",
  "signature": "sha256:94c1de7b43af24e5afb02b6ae85dddc4ee6069570603e233e4d56ff294e16ad0"
 },
 "nbformat": 3,
 "nbformat_minor": 0,
 "worksheets": [
  {
   "cells": [
    {
     "cell_type": "markdown",
     "metadata": {},
     "source": [
      "###Directory Structure"
     ]
    },
    {
     "cell_type": "code",
     "collapsed": false,
     "input": [
      "cd /Volumes/Data/Sam/fish546_2015/gigasHSrnaSeq/"
     ],
     "language": "python",
     "metadata": {},
     "outputs": [
      {
       "output_type": "stream",
       "stream": "stdout",
       "text": [
        "/Volumes/Data/Sam/fish546_2015/gigasHSrnaSeq\n"
       ]
      }
     ],
     "prompt_number": 2
    },
    {
     "cell_type": "markdown",
     "metadata": {},
     "source": [
      "###Genome Files"
     ]
    },
    {
     "cell_type": "markdown",
     "metadata": {},
     "source": [
      "###Sequencing Files"
     ]
    },
    {
     "cell_type": "markdown",
     "metadata": {},
     "source": [
      "###Sequence Quality Check & Trimming (FASTQC & fastx_trimmer)"
     ]
    },
    {
     "cell_type": "markdown",
     "metadata": {},
     "source": [
      "###Read Mapping & Annotation (TopHat)"
     ]
    },
    {
     "cell_type": "markdown",
     "metadata": {},
     "source": [
      "####Build build bowtie sequence index for use in TopHat"
     ]
    },
    {
     "cell_type": "code",
     "collapsed": false,
     "input": [],
     "language": "python",
     "metadata": {},
     "outputs": [],
     "prompt_number": 2
    },
    {
     "cell_type": "markdown",
     "metadata": {},
     "source": [
      "####Run TopHat"
     ]
    },
    {
     "cell_type": "code",
     "collapsed": false,
     "input": [
      "#Run tophat2 using 16 CPU threads (-p 16) on 3 pre-HS samples\n",
      "#post fastx_trimmer\n",
      "!time tophat2 \\\n",
      "-G /Volumes/Eagle/trilobite/Crassostrea_gigas_ensembl_tracks/Crassostrea_gigas.GCA_000297895.1.24.gtf \\\n",
      "--transcriptome-index /Volumes/Eagle/trilobite/Crassostrea_gigas_ensembl_tracks/Crassostrea_gigas.GCA_000297895.1.24 \\\n",
      "-p 16 \\\n",
      "-o ./analysis/tophat_preHS \\\n",
      "/Volumes/Eagle/trilobite/Crassostrea_gigas_ensembl_tracks/Crassostrea_gigas.GCA_000297895.1.24.dna_sm.genome \\\n",
      "/Volumes/Data/Sam/fish546_2015/gigasHSrnaSeq/raw_data/2M_fastx_trimmed.fastq.gz,\\\n",
      "/Volumes/Data/Sam/fish546_2015/gigasHSrnaSeq/raw_data/4M_fastx_trimmed.fastq.gz,\\\n",
      "/Volumes/Data/Sam/fish546_2015/gigasHSrnaSeq/raw_data/6M_fastx_trimmed.fastq.gz"
     ],
     "language": "python",
     "metadata": {},
     "outputs": [
      {
       "output_type": "stream",
       "stream": "stdout",
       "text": [
        "\r\n",
        "[2015-02-17 18:07:33] Beginning TopHat run (v2.0.13)\r\n",
        "-----------------------------------------------\r\n",
        "[2015-02-17 18:07:33] Checking for Bowtie\r\n"
       ]
      },
      {
       "output_type": "stream",
       "stream": "stdout",
       "text": [
        "\t\t  Bowtie version:\t 2.1.0.0\r\n"
       ]
      },
      {
       "output_type": "stream",
       "stream": "stdout",
       "text": [
        "[2015-02-17 18:07:35] Checking for Bowtie index files (genome)..\r\n",
        "[2015-02-17 18:07:35] Checking for reference FASTA file\r\n"
       ]
      },
      {
       "output_type": "stream",
       "stream": "stdout",
       "text": [
        "[2015-02-17 18:07:35] Generating SAM header for /Volumes/Eagle/trilobite/Crassostrea_gigas_ensembl_tracks/Crassostrea_gigas.GCA_000297895.1.24.dna_sm.genome\r\n"
       ]
      },
      {
       "output_type": "stream",
       "stream": "stdout",
       "text": [
        "[2015-02-17 18:07:49] Reading known junctions from GTF file\r\n"
       ]
      },
      {
       "output_type": "stream",
       "stream": "stdout",
       "text": [
        "[2015-02-17 18:07:58] Preparing reads\r\n"
       ]
      },
      {
       "output_type": "stream",
       "stream": "stdout",
       "text": [
        "\t left reads: min. length=87, max. length=87, 76133835 kept reads (478910 discarded)\r\n"
       ]
      },
      {
       "output_type": "stream",
       "stream": "stdout",
       "text": [
        "[2015-02-17 19:19:59] Building transcriptome data files /Volumes/Eagle/trilobite/Crassostrea_gigas_ensembl_tracks/Crassostrea_gigas.GCA_000297895.1.24\r\n"
       ]
      },
      {
       "output_type": "stream",
       "stream": "stdout",
       "text": [
        "[2015-02-17 19:20:24] Building Bowtie index from Crassostrea_gigas.GCA_000297895.1.24.fa\r\n"
       ]
      },
      {
       "output_type": "stream",
       "stream": "stdout",
       "text": [
        "[2015-02-17 19:22:00] Mapping left_kept_reads to transcriptome Crassostrea_gigas.GCA_000297895.1.24 with Bowtie2 \r\n"
       ]
      },
      {
       "output_type": "stream",
       "stream": "stdout",
       "text": [
        "[2015-02-17 20:10:39] Resuming TopHat pipeline with unmapped reads\r\n"
       ]
      },
      {
       "output_type": "stream",
       "stream": "stdout",
       "text": [
        "[2015-02-17 20:10:40] Mapping left_kept_reads.m2g_um to genome Crassostrea_gigas.GCA_000297895.1.24.dna_sm.genome with Bowtie2 \r\n"
       ]
      },
      {
       "output_type": "stream",
       "stream": "stdout",
       "text": [
        "[2015-02-17 22:08:11] Mapping left_kept_reads.m2g_um_seg1 to genome Crassostrea_gigas.GCA_000297895.1.24.dna_sm.genome with Bowtie2 (1/3)\r\n"
       ]
      },
      {
       "output_type": "stream",
       "stream": "stdout",
       "text": [
        "[2015-02-17 22:31:13] Mapping left_kept_reads.m2g_um_seg2 to genome Crassostrea_gigas.GCA_000297895.1.24.dna_sm.genome with Bowtie2 (2/3)\r\n"
       ]
      },
      {
       "output_type": "stream",
       "stream": "stdout",
       "text": [
        "[2015-02-17 22:52:31] Mapping left_kept_reads.m2g_um_seg3 to genome Crassostrea_gigas.GCA_000297895.1.24.dna_sm.genome with Bowtie2 (3/3)\r\n"
       ]
      },
      {
       "output_type": "stream",
       "stream": "stdout",
       "text": [
        "[2015-02-17 23:28:18] Searching for junctions via segment mapping\r\n"
       ]
      },
      {
       "output_type": "stream",
       "stream": "stdout",
       "text": [
        "[2015-02-18 00:38:11] Retrieving sequences for splices\r\n"
       ]
      },
      {
       "output_type": "stream",
       "stream": "stdout",
       "text": [
        "[2015-02-18 00:39:27] Indexing splices\r\n"
       ]
      },
      {
       "output_type": "stream",
       "stream": "stdout",
       "text": [
        "[2015-02-18 00:43:07] Mapping left_kept_reads.m2g_um_seg1 to genome segment_juncs with Bowtie2 (1/3)\r\n"
       ]
      },
      {
       "output_type": "stream",
       "stream": "stdout",
       "text": [
        "[2015-02-18 00:58:21] Mapping left_kept_reads.m2g_um_seg2 to genome segment_juncs with Bowtie2 (2/3)\r\n"
       ]
      },
      {
       "output_type": "stream",
       "stream": "stdout",
       "text": [
        "[2015-02-18 01:12:09] Mapping left_kept_reads.m2g_um_seg3 to genome segment_juncs with Bowtie2 (3/3)\r\n"
       ]
      },
      {
       "output_type": "stream",
       "stream": "stdout",
       "text": [
        "[2015-02-18 01:31:23] Joining segment hits\r\n"
       ]
      },
      {
       "output_type": "stream",
       "stream": "stdout",
       "text": [
        "[2015-02-18 02:37:19] Reporting output tracks\r\n"
       ]
      },
      {
       "output_type": "stream",
       "stream": "stdout",
       "text": [
        "-----------------------------------------------\r\n",
        "[2015-02-18 03:50:07] A summary of the alignment counts can be found in ./analysis/tophat_preHS/align_summary.txt\r\n",
        "[2015-02-18 03:50:07] Run complete: 09:42:34 elapsed\r\n"
       ]
      },
      {
       "output_type": "stream",
       "stream": "stdout",
       "text": [
        "\r\n",
        "real\t582m35.098s\r\n",
        "user\t2004m40.402s\r\n",
        "sys\t113m10.310s\r\n"
       ]
      }
     ],
     "prompt_number": 3
    },
    {
     "cell_type": "code",
     "collapsed": false,
     "input": [
      "#Run tophat2 using 16 CPU threads (-p 16) on 3 post-HS samples\n",
      "#post fastx_trimmer\n",
      "!time tophat2 \\\n",
      "--transcriptome-index /Volumes/Eagle/trilobite/Crassostrea_gigas_ensembl_tracks/Crassostrea_gigas.GCA_000297895.1.24 \\\n",
      "-p 16 \\\n",
      "-o ./analysis/tophat_postHS \\\n",
      "/Volumes/Eagle/trilobite/Crassostrea_gigas_ensembl_tracks/Crassostrea_gigas.GCA_000297895.1.24.dna_sm.genome \\\n",
      "/Volumes/Data/Sam/fish546_2015/gigasHSrnaSeq/raw_data/2M_fastx_trimmed.fastq.gz,\\\n",
      "/Volumes/Data/Sam/fish546_2015/gigasHSrnaSeq/raw_data/4M_fastx_trimmed.fastq.gz,\\\n",
      "/Volumes/Data/Sam/fish546_2015/gigasHSrnaSeq/raw_data/6M_fastx_trimmed.fastq.gz"
     ],
     "language": "python",
     "metadata": {},
     "outputs": [
      {
       "output_type": "stream",
       "stream": "stdout",
       "text": [
        "\r\n",
        "[2015-02-18 03:50:10] Beginning TopHat run (v2.0.13)\r\n",
        "-----------------------------------------------\r\n",
        "[2015-02-18 03:50:10] Checking for Bowtie\r\n"
       ]
      },
      {
       "output_type": "stream",
       "stream": "stdout",
       "text": [
        "\t\t  Bowtie version:\t 2.1.0.0\r\n"
       ]
      },
      {
       "output_type": "stream",
       "stream": "stdout",
       "text": [
        "[2015-02-18 03:50:11] Checking for Bowtie index files (transcriptome)..\r\n"
       ]
      },
      {
       "output_type": "stream",
       "stream": "stdout",
       "text": [
        "[2015-02-18 03:50:11] Checking for Bowtie index files (genome)..\r\n",
        "[2015-02-18 03:50:11] Checking for reference FASTA file\r\n"
       ]
      },
      {
       "output_type": "stream",
       "stream": "stdout",
       "text": [
        "[2015-02-18 03:50:11] Generating SAM header for /Volumes/Eagle/trilobite/Crassostrea_gigas_ensembl_tracks/Crassostrea_gigas.GCA_000297895.1.24.dna_sm.genome\r\n"
       ]
      },
      {
       "output_type": "stream",
       "stream": "stdout",
       "text": [
        "[2015-02-18 03:50:25] Reading known junctions from GTF file\r\n"
       ]
      },
      {
       "output_type": "stream",
       "stream": "stdout",
       "text": [
        "[2015-02-18 03:50:36] Preparing reads\r\n"
       ]
      },
      {
       "output_type": "stream",
       "stream": "stdout",
       "text": [
        "\t left reads: min. length=87, max. length=87, 76133835 kept reads (478910 discarded)\r\n"
       ]
      },
      {
       "output_type": "stream",
       "stream": "stdout",
       "text": [
        "[2015-02-18 05:04:00] Using pre-built transcriptome data..\r\n"
       ]
      },
      {
       "output_type": "stream",
       "stream": "stdout",
       "text": [
        "[2015-02-18 05:04:16] Mapping left_kept_reads to transcriptome Crassostrea_gigas.GCA_000297895.1.24 with Bowtie2 \r\n"
       ]
      },
      {
       "output_type": "stream",
       "stream": "stdout",
       "text": [
        "[2015-02-18 05:52:56] Resuming TopHat pipeline with unmapped reads\r\n"
       ]
      },
      {
       "output_type": "stream",
       "stream": "stdout",
       "text": [
        "[2015-02-18 05:52:57] Mapping left_kept_reads.m2g_um to genome Crassostrea_gigas.GCA_000297895.1.24.dna_sm.genome with Bowtie2 \r\n"
       ]
      },
      {
       "output_type": "stream",
       "stream": "stdout",
       "text": [
        "[2015-02-18 07:53:40] Mapping left_kept_reads.m2g_um_seg1 to genome Crassostrea_gigas.GCA_000297895.1.24.dna_sm.genome with Bowtie2 (1/3)\r\n"
       ]
      },
      {
       "output_type": "stream",
       "stream": "stdout",
       "text": [
        "[2015-02-18 08:16:50] Mapping left_kept_reads.m2g_um_seg2 to genome Crassostrea_gigas.GCA_000297895.1.24.dna_sm.genome with Bowtie2 (2/3)\r\n"
       ]
      },
      {
       "output_type": "stream",
       "stream": "stdout",
       "text": [
        "[2015-02-18 08:38:46] Mapping left_kept_reads.m2g_um_seg3 to genome Crassostrea_gigas.GCA_000297895.1.24.dna_sm.genome with Bowtie2 (3/3)\r\n"
       ]
      },
      {
       "output_type": "stream",
       "stream": "stdout",
       "text": [
        "[2015-02-18 09:14:43] Searching for junctions via segment mapping\r\n"
       ]
      },
      {
       "output_type": "stream",
       "stream": "stdout",
       "text": [
        "[2015-02-18 10:23:50] Retrieving sequences for splices\r\n"
       ]
      },
      {
       "output_type": "stream",
       "stream": "stdout",
       "text": [
        "[2015-02-18 10:25:06] Indexing splices\r\n"
       ]
      },
      {
       "output_type": "stream",
       "stream": "stdout",
       "text": [
        "[2015-02-18 10:28:42] Mapping left_kept_reads.m2g_um_seg1 to genome segment_juncs with Bowtie2 (1/3)\r\n"
       ]
      },
      {
       "output_type": "stream",
       "stream": "stdout",
       "text": [
        "[2015-02-18 10:44:45] Mapping left_kept_reads.m2g_um_seg2 to genome segment_juncs with Bowtie2 (2/3)\r\n"
       ]
      },
      {
       "output_type": "stream",
       "stream": "stdout",
       "text": [
        "[2015-02-18 10:59:22] Mapping left_kept_reads.m2g_um_seg3 to genome segment_juncs with Bowtie2 (3/3)\r\n"
       ]
      },
      {
       "output_type": "stream",
       "stream": "stdout",
       "text": [
        "[2015-02-18 11:18:18] Joining segment hits\r\n"
       ]
      },
      {
       "output_type": "stream",
       "stream": "stdout",
       "text": [
        "[2015-02-18 12:24:12] Reporting output tracks\r\n"
       ]
      },
      {
       "output_type": "stream",
       "stream": "stdout",
       "text": [
        "-----------------------------------------------\r\n"
       ]
      },
      {
       "output_type": "stream",
       "stream": "stdout",
       "text": [
        "[2015-02-18 14:35:45] A summary of the alignment counts can be found in ./analysis/tophat_postHS/align_summary.txt\r\n",
        "[2015-02-18 14:35:45] Run complete: 10:45:35 elapsed\r\n",
        "\r\n",
        "real\t645m37.714s\r\n",
        "user\t2001m25.324s\r\n",
        "sys\t122m25.106s\r\n"
       ]
      }
     ],
     "prompt_number": 4
    },
    {
     "cell_type": "markdown",
     "metadata": {},
     "source": [
      "###Transcriptome Assembly & Quantification (Cufflinks)"
     ]
    },
    {
     "cell_type": "code",
     "collapsed": false,
     "input": [
      "!time cufflinks \\\n",
      "-p 16 \\\n",
      "-g /Volumes/Eagle/trilobite/Crassostrea_gigas_ensembl_tracks/Crassostrea_gigas.GCA_000297895.1.24.gtf \\\n",
      "-o ./analysis/cufflinks_preHS/ \\\n",
      "./analysis/tophat_preHS/tophat_out/accepted_hits.bam \\\n",
      "2> ./analysis/cufflinks_preHS/cufflinks_stderr_preHS.txt"
     ],
     "language": "python",
     "metadata": {},
     "outputs": [
      {
       "ename": "SyntaxError",
       "evalue": "invalid syntax (<ipython-input-6-9c3b512473d6>, line 2)",
       "output_type": "pyerr",
       "traceback": [
        "\u001b[0;36m  File \u001b[0;32m\"<ipython-input-6-9c3b512473d6>\"\u001b[0;36m, line \u001b[0;32m2\u001b[0m\n\u001b[0;31m    2> ./analysis/cufflinks_preHS/cufflinks_stderr_preHS.txt\u001b[0m\n\u001b[0m       ^\u001b[0m\n\u001b[0;31mSyntaxError\u001b[0m\u001b[0;31m:\u001b[0m invalid syntax\n"
       ]
      }
     ],
     "prompt_number": 6
    },
    {
     "cell_type": "code",
     "collapsed": false,
     "input": [
      "!time cufflinks \\\n",
      "-p 16 \\\n",
      "-g /Volumes/Eagle/trilobite/Crassostrea_gigas_ensembl_tracks/Crassostrea_gigas.GCA_000297895.1.24.gtf \\\n",
      "-o ./analysis/cufflinks_postHS/ \\\n",
      "./analysis/tophat_postHS/tophat_out/accepted_hits.bam \\\n",
      "2> ./analysis/cufflinks_postHS/cufflinks_sterr_postHS.txt"
     ],
     "language": "python",
     "metadata": {},
     "outputs": [
      {
       "ename": "SyntaxError",
       "evalue": "invalid syntax (<ipython-input-7-7b8cf09e2905>, line 2)",
       "output_type": "pyerr",
       "traceback": [
        "\u001b[0;36m  File \u001b[0;32m\"<ipython-input-7-7b8cf09e2905>\"\u001b[0;36m, line \u001b[0;32m2\u001b[0m\n\u001b[0;31m    2> .analysis/cufflinks_postHS/cufflinks_sterr_postHS.txt\u001b[0m\n\u001b[0m       ^\u001b[0m\n\u001b[0;31mSyntaxError\u001b[0m\u001b[0;31m:\u001b[0m invalid syntax\n"
       ]
      }
     ],
     "prompt_number": 7
    },
    {
     "cell_type": "markdown",
     "metadata": {},
     "source": [
      "###Combine Transcriptomes (Cuffmerge)"
     ]
    },
    {
     "cell_type": "markdown",
     "metadata": {},
     "source": [
      "####Create cufflinks manifest file"
     ]
    },
    {
     "cell_type": "markdown",
     "metadata": {},
     "source": [
      "```\n",
      "$find $PWD -name transcripts.gtf >> ./analysis/cuffmerge/cufflinksManifest.txt\n",
      "```"
     ]
    },
    {
     "cell_type": "code",
     "collapsed": false,
     "input": [
      "!time cuffmerge \\\n",
      "-p 16 \\\n",
      "-o .analysis/cuffmerge \\\n",
      "./analysis/cuffmerge/cufflinksManifest.txt"
     ],
     "language": "python",
     "metadata": {},
     "outputs": [
      {
       "output_type": "stream",
       "stream": "stdout",
       "text": [
        "\r\n",
        "[Wed Feb 18 14:45:15 2015] Beginning transcriptome assembly merge\r\n",
        "-------------------------------------------\r\n",
        "\r\n",
        "[Wed Feb 18 14:45:15 2015] Preparing output location .analysis/cuffmerge/\r\n"
       ]
      },
      {
       "output_type": "stream",
       "stream": "stdout",
       "text": [
        "Warning: no reference GTF provided!\r\n"
       ]
      },
      {
       "output_type": "stream",
       "stream": "stdout",
       "text": [
        "[Wed Feb 18 14:45:24 2015] Converting GTF files to SAM\r\n"
       ]
      },
      {
       "output_type": "stream",
       "stream": "stdout",
       "text": [
        "[14:45:24] Loading reference annotation.\r\n"
       ]
      },
      {
       "output_type": "stream",
       "stream": "stdout",
       "text": [
        "^CTraceback (most recent call last):\r\n",
        "  File \"/usr/local/bioinformatics/cufflinks-2.2.1.OSX_x86_64/cuffmerge\", line 580, in <module>\r\n",
        "    sys.exit(main())\r\n",
        "  File \"/usr/local/bioinformatics/cufflinks-2.2.1.OSX_x86_64/cuffmerge\", line 554, in main\r\n",
        "    sam_input_files = convert_gtf_to_sam(gtf_input_files)\r\n",
        "  File \"/usr/local/bioinformatics/cufflinks-2.2.1.OSX_x86_64/cuffmerge\", line 287, in convert_gtf_to_sam\r\n",
        "    sam_out = gtf_to_sam(line)\r\n",
        "  File \"/usr/local/bioinformatics/cufflinks-2.2.1.OSX_x86_64/cuffmerge\", line 244, in gtf_to_sam\r\n",
        "    ret = subprocess.call(cmd)\r\n",
        "  File \"/Users/Sam/anaconda/lib/python2.7/subprocess.py\", line 522, in call\r\n",
        "    return Popen(*popenargs, **kwargs).wait()\r\n",
        "  File \"/Users/Sam/anaconda/lib/python2.7/subprocess.py\", line 1384, in wait\r\n",
        "    pid, sts = _eintr_retry_call(os.waitpid, self.pid, 0)\r\n",
        "  File \"/Users/Sam/anaconda/lib/python2.7/subprocess.py\", line 476, in _eintr_retry_call\r\n",
        "    return func(*args)\r\n",
        "KeyboardInterrupt\r\n",
        "\r\n",
        "real\t0m30.123s\r\n",
        "user\t0m27.430s\r\n",
        "sys\t0m0.621s\r\n",
        "\r\n"
       ]
      }
     ],
     "prompt_number": 8
    },
    {
     "cell_type": "markdown",
     "metadata": {},
     "source": [
      "###Quantify Gene & Transcript Expression (Cuffquant)"
     ]
    },
    {
     "cell_type": "code",
     "collapsed": false,
     "input": [
      "!time cuffquant \\\n",
      "-p 16 \\\n",
      "-o ./analysis/cuffquant/pre_HS/ \\\n",
      "./analysis/cuffmerge/merged_asm/merged.gtf \\\n",
      "./analysis/tophat_preHS/tophat_out/accepted_hits.bam"
     ],
     "language": "python",
     "metadata": {},
     "outputs": [
      {
       "output_type": "stream",
       "stream": "stdout",
       "text": [
        "You are using Cufflinks v2.2.1, which is the most recent release.\r\n",
        "open: No such file or directory\r\n",
        "File ./analysis/tophat_preHS/tophat_out/accepted_hits.bam doesn't appear to be a valid BAM file, trying SAM...\r\n",
        "Error: cannot open alignment file ./analysis/tophat_preHS/tophat_out/accepted_hits.bam for reading\r\n",
        "\r\n",
        "real\t0m0.280s\r\n",
        "user\t0m0.003s\r\n",
        "sys\t0m0.006s\r\n"
       ]
      }
     ],
     "prompt_number": 9
    },
    {
     "cell_type": "code",
     "collapsed": false,
     "input": [
      "#rename ouput file\n",
      "!mv ./analysis/cuffquant/pre_HS/abundances.cxb ./analysis/cuffquant/pre_HS/pre_HS_abundances.cxb"
     ],
     "language": "python",
     "metadata": {},
     "outputs": [
      {
       "output_type": "stream",
       "stream": "stdout",
       "text": [
        "mv: ./analysis/cuffquant/pre_HS/abundances.cxb: No such file or directory\r\n"
       ]
      }
     ],
     "prompt_number": 10
    },
    {
     "cell_type": "code",
     "collapsed": false,
     "input": [
      "!time cuffquant \\\n",
      "-p 16 \\\n",
      "-o ./analysis/cuffquant/post_HS/ \\\n",
      "./analysis/cuffmerge/merged_asm/merged.gtf \\\n",
      "./analysis/tophat_postHS/tophat_out/accepted_hits.bam"
     ],
     "language": "python",
     "metadata": {},
     "outputs": [
      {
       "output_type": "stream",
       "stream": "stdout",
       "text": [
        "You are using Cufflinks v2.2.1, which is the most recent release.\r\n"
       ]
      },
      {
       "output_type": "stream",
       "stream": "stdout",
       "text": [
        "[14:45:45] Loading reference annotation.\r\n"
       ]
      },
      {
       "output_type": "stream",
       "stream": "stdout",
       "text": [
        "[14:45:56] Inspecting maps and determining fragment length distributions.\r\n"
       ]
      },
      {
       "output_type": "stream",
       "stream": "stdout",
       "text": [
        "^C\r\n"
       ]
      }
     ],
     "prompt_number": 11
    },
    {
     "cell_type": "code",
     "collapsed": false,
     "input": [
      "#rename ouput file\n",
      "!mv ./analysis/cuffquant/post_HS/abundances.cxb ./analysis/cuffquant/post_HS/post_HS_abundances.cxb"
     ],
     "language": "python",
     "metadata": {},
     "outputs": [
      {
       "output_type": "stream",
       "stream": "stdout",
       "text": [
        "mv: ./analysis/cuffquant/post_HS/abundances.cxb: No such file or directory\r\n"
       ]
      }
     ],
     "prompt_number": 12
    },
    {
     "cell_type": "markdown",
     "metadata": {},
     "source": [
      "###Compare Gene Expression Levels (Cuffdiff)"
     ]
    },
    {
     "cell_type": "code",
     "collapsed": false,
     "input": [
      "!time cuffdiff \\\n",
      "-p 16 \\\n",
      "./analysis/cuffmerge/merged_asm/merged.gtf \\\n",
      "./analysis/cuffquant/pre_HS/pre_HS_abundances.cxb \\\n",
      "./analysis/cuffquant/post_HS/post_HS_abundances.cxb \\\n",
      "-o ./analysis/cuffdiff/"
     ],
     "language": "python",
     "metadata": {},
     "outputs": [
      {
       "output_type": "stream",
       "stream": "stdout",
       "text": [
        "You are using Cufflinks v2.2.1, which is the most recent release.\r\n"
       ]
      },
      {
       "output_type": "stream",
       "stream": "stdout",
       "text": [
        "^C\r\n"
       ]
      }
     ],
     "prompt_number": 13
    }
   ],
   "metadata": {}
  }
 ]
}