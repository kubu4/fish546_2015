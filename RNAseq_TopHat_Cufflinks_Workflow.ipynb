{
 "metadata": {
  "name": "",
  "signature": "sha256:280401c750e372d159ad46b8a430d0b406b565d924dba60b46963c7b32297f4f"
 },
 "nbformat": 3,
 "nbformat_minor": 0,
 "worksheets": [
  {
   "cells": [
    {
     "cell_type": "markdown",
     "metadata": {},
     "source": [
      "###Directory Structure"
     ]
    },
    {
     "cell_type": "markdown",
     "metadata": {},
     "source": [
      "###Genome Files"
     ]
    },
    {
     "cell_type": "markdown",
     "metadata": {},
     "source": [
      "###Sequencing Files"
     ]
    },
    {
     "cell_type": "markdown",
     "metadata": {},
     "source": [
      "###Sequence Quality Check & Trimming (FASTQC & fastx_trimmer)"
     ]
    },
    {
     "cell_type": "markdown",
     "metadata": {},
     "source": [
      "###Read Mapping & Annotation (TopHat)"
     ]
    },
    {
     "cell_type": "markdown",
     "metadata": {},
     "source": [
      "###Transcriptome Assembly & Quantification (Cufflinks)"
     ]
    },
    {
     "cell_type": "markdown",
     "metadata": {},
     "source": [
      "###Combine Transcriptomes (Cuffmerge)"
     ]
    },
    {
     "cell_type": "markdown",
     "metadata": {},
     "source": [
      "###Quantify Gene & Transcript Expression (Cuffquant)"
     ]
    },
    {
     "cell_type": "markdown",
     "metadata": {},
     "source": [
      "###Compare Gene Expression Levels (Cuffdiff)"
     ]
    },
    {
     "cell_type": "code",
     "collapsed": false,
     "input": [],
     "language": "python",
     "metadata": {},
     "outputs": []
    }
   ],
   "metadata": {}
  }
 ]
}