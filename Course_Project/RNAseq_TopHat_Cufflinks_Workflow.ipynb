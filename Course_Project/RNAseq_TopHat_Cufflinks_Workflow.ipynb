{
 "cells": [
  {
   "cell_type": "markdown",
   "metadata": {},
   "source": [
    "#RNA-seq Analysis of <em>Crassostrea gigas</em> Mantle Tissue Before & After Thermal Stress"
   ]
  },
  {
   "cell_type": "markdown",
   "metadata": {},
   "source": [
    "###Required Software"
   ]
  },
  {
   "cell_type": "markdown",
   "metadata": {},
   "source": [
    "####This workflow was created in [IPython 3.0](http://ipython.org/install.html).\n",
    "\n",
    "####This workflow requires OS X version 10.6.0 or higher."
   ]
  },
  {
   "cell_type": "markdown",
   "metadata": {},
   "source": [
    "[FastQC (v0.11.2)](http://www.bioinformatics.babraham.ac.uk/projects/fastqc/)\n",
    "\n",
    "[FASTA/Q Trimmer (v0.0.13.2)](http://hannonlab.cshl.edu/fastx_toolkit/)\n",
    "\n",
    "[Bowtie (v2.1.0)](http://bowtie-bio.sourceforge.net/)\n",
    "\n",
    "[TopHat (v2.0.13.OSX_x86_64)](http://ccb.jhu.edu/software/tophat/index.shtml)\n",
    "\n",
    "[Cufflinks (2.2.1.OSX_x86_64)](http://cole-trapnell-lab.github.io/cufflinks/cufflinks/index.html)\n",
    "\n",
    "[Cuffmerge (2.2.1.OSX_x86_64)](http://cole-trapnell-lab.github.io/cufflinks/cuffmerge/index.html)\n",
    "\n",
    "[Cuffquant (2.2.1.OSX_x86_64)](http://cole-trapnell-lab.github.io/cufflinks/cuffquant/index.html)\n",
    "\n",
    "[Cuffdiff (2.2.1.OSX_x86_64)](http://cole-trapnell-lab.github.io/cufflinks/cuffdiff/index.html)"
   ]
  },
  {
   "cell_type": "markdown",
   "metadata": {},
   "source": [
    "###Directory Structure"
   ]
  },
  {
   "cell_type": "markdown",
   "metadata": {},
   "source": [
    "./raw_data/\n",
    "\n",
    "./analysis/\n",
    "\n",
    "./analysis/fastqc\n",
    "\n",
    "./analysis/tophat_preHS/\n",
    "\n",
    "./analysis/tophat_postHS/\n",
    "\n",
    "./analysis/cufflinks_preHS/\n",
    "\n",
    "./analysis/cufflinks_postHS/\n",
    "\n",
    "./analysis/cuffmerge/\n",
    "\n",
    "./analysis/cuffquant/pre_HS/\n",
    "\n",
    "./analysis/cuffquant/post_HS/\n",
    "\n",
    "./analysis/cuffdiff/"
   ]
  },
  {
   "cell_type": "markdown",
   "metadata": {},
   "source": [
    "###Genome Reference Files"
   ]
  },
  {
   "cell_type": "markdown",
   "metadata": {},
   "source": [
    "Download/copy the following files to this directory of this project:\n",
    "\n",
    "```gigasHSrnaSeq/raw_data/```\n",
    "\n",
    "[Ensembl Reference FASTA - Crassostrea_gigas.GCA_000297895.1.24.fa](http://eagle.fish.washington.edu/trilobite/Crassostrea_gigas_ensembl_tracks/Crassostrea_gigas.GCA_000297895.1.24.fa)\n",
    "\n",
    "[Ensembl Reference GTF - Crassostrea_gigas.GCA_000297895.1.24.gtf](http://eagle.fish.washington.edu/trilobite/Crassostrea_gigas_ensembl_tracks/Crassostrea_gigas.GCA_000297895.1.24.gtf)"
   ]
  },
  {
   "cell_type": "markdown",
   "metadata": {},
   "source": [
    "###Sequencing Files"
   ]
  },
  {
   "cell_type": "markdown",
   "metadata": {},
   "source": [
    "Download/copy the following files to this directory of this project:\n",
    "\n",
    "```gigasHSrnaSeq/raw_data/```\n",
    "\n",
    "[2M_AGTCAA_L001_R1_001.fastq.gz](http://owl.fish.washington.edu/nightingales/C_gigas/2M_AGTCAA_L001_R1_001.fastq.gz)\n",
    "\n",
    "[2M-HS_CCGTCC_L001_R1_001.fastq.gz](http://owl.fish.washington.edu/nightingales/C_gigas/2M-HS_CCGTCC_L001_R1_001.fastq.gz)\n",
    "\n",
    "[4M_AGTTCC_L001_R1_001.fastq.gz](http://owl.fish.washington.edu/nightingales/C_gigas/4M_AGTTCC_L001_R1_001.fastq.gz)\n",
    "\n",
    "[4M-HS_GTCCGC_L001_R1_001.fastq.gz](http://owl.fish.washington.edu/nightingales/C_gigas/4M-HS_GTCCGC_L001_R1_001.fastq.gz)\n",
    "\n",
    "[6M_ATGTCA_L001_R1_001.fastq.gz](http://owl.fish.washington.edu/nightingales/C_gigas/6M_ATGTCA_L001_R1_001.fastq.gz)\n",
    "\n",
    "[6M-HS_GTGAAA_L001_R1_001.fastq.gz](http://owl.fish.washington.edu/nightingales/C_gigas/6M-HS_GTGAAA_L001_R1_001.fastq.gz)"
   ]
  },
  {
   "cell_type": "markdown",
   "metadata": {},
   "source": [
    "###Sequence Quality Check & Trimming (FASTQC & fastx_trimmer)"
   ]
  },
  {
   "cell_type": "markdown",
   "metadata": {},
   "source": [
    "####Check initial sequence quality with FASTQC"
   ]
  },
  {
   "cell_type": "code",
   "execution_count": 2,
   "metadata": {
    "collapsed": false
   },
   "outputs": [
    {
     "name": "stdout",
     "output_type": "stream",
     "text": [
      "/Volumes/Data/Sam/fish546_2015/gigasHSrnaSeq\n"
     ]
    }
   ],
   "source": [
    "cd /Volumes/Data/Sam/fish546_2015/gigasHSrnaSeq"
   ]
  },
  {
   "cell_type": "code",
   "execution_count": null,
   "metadata": {
    "collapsed": false
   },
   "outputs": [],
   "source": [
    "#Run FASTQC on sequencing FASTQ gzipped files\n",
    "!time fastqc --outdir=./analysis/fastqc \\\n",
    "./raw_data/2M_AGTCAA_L001_R1_001.fastq.gz \\\n",
    "./raw_data/2M-HS_CCGTCC_L001_R1_001.fastq.gz \\\n",
    "./raw_data/4M_AGTTCC_L001_R1_001.fastq.gz \\\n",
    "./raw_data/4M-HS_GTCCGC_L001_R1_001.fastq.gz \\\n",
    "./raw_data/6M_ATGTCA_L001_R1_001.fastq.gz \\\n",
    "./raw_data/6M-HS_GTGAAA_L001_R1_001.fastq.gz"
   ]
  },
  {
   "cell_type": "markdown",
   "metadata": {},
   "source": [
    "####Trim first 15 bases of sequences with fastx_trimmer"
   ]
  },
  {
   "cell_type": "markdown",
   "metadata": {},
   "source": [
    "The cell below uses a for loop to iterate through target FASTQ files\n",
    "\n",
    "For each file (i) that matches:\n",
    "\n",
    "1. Take the basename (the full filename) and, using sed, remove the .fastq.gz suffix and replace with ```_trimmed.fastq```\n",
    "2. Gunzip the files and send standard output (```-c```) to fastx_trimmer with PHRED score +33 (```-Q 33```; required for Illumina FASTQ files), trim the first 15 bases (```-f 15```) and gzip the output (```-z```) for the input file (```-i $i```) specified.\n",
    "3. Redirect fastx_trimmer stdout to directory and rename file using the ```newname``` variable and add ```.gz``` extension to that name.\n",
    "4. Print the original file name variable (```$i```) to the screen for verification.\n",
    "5. Print the new file name variable (```$newname```) to the screen for verification."
   ]
  },
  {
   "cell_type": "code",
   "execution_count": 43,
   "metadata": {
    "collapsed": false
   },
   "outputs": [
    {
     "name": "stdout",
     "output_type": "stream",
     "text": [
      "./raw_data/2M-HS_CCGTCC_L001_R1_001.fastq.gz\n",
      "2M-HS_CCGTCC_L001_R1_001_trimmed.fastq\n",
      "./raw_data/2M_AGTCAA_L001_R1_001.fastq.gz\n",
      "2M_AGTCAA_L001_R1_001_trimmed.fastq\n",
      "./raw_data/4M-HS_GTCCGC_L001_R1_001.fastq.gz\n",
      "4M-HS_GTCCGC_L001_R1_001_trimmed.fastq\n",
      "./raw_data/4M_AGTTCC_L001_R1_001.fastq.gz\n",
      "4M_AGTTCC_L001_R1_001_trimmed.fastq\n",
      "./raw_data/6M-HS_GTGAAA_L001_R1_001.fastq.gz\n",
      "6M-HS_GTGAAA_L001_R1_001_trimmed.fastq\n",
      "./raw_data/6M_ATGTCA_L001_R1_001.fastq.gz\n",
      "6M_ATGTCA_L001_R1_001_trimmed.fastq\n"
     ]
    }
   ],
   "source": [
    "%%bash\n",
    "for i in `ls ./raw_data/[246]M*.gz`\n",
    "do\n",
    "    newname=`basename $i | sed -e \"s/.fastq.gz/_trimmed.fastq/\"`\n",
    "    gunzip -c $i | fastx_trimmer -Q33 -f 15 -z > ./raw_data/trimmed/\"$newname.gz\"\n",
    "    echo $i\n",
    "    echo $newname\n",
    "done"
   ]
  },
  {
   "cell_type": "markdown",
   "metadata": {},
   "source": [
    "####Check trimmed sequence quality with FASTQC"
   ]
  },
  {
   "cell_type": "code",
   "execution_count": null,
   "metadata": {
    "collapsed": false
   },
   "outputs": [],
   "source": [
    "#Run FASTQC on sequencing FASTQ gzipped files\n",
    "!time fastqc --outdir=./analysis/fastqc \\\n",
    "./raw_data/trimmed/2M_AGTCAA_L001_R1_001_trimmed.fastq.gz,\\\n",
    "./raw_data/trimmed/4M_AGTTCC_L001_R1_001_trimmed.fastq.gz,\\\n",
    "./raw_data/trimmed/6M_ATGTCA_L001_R1_001_trimmed.fastq.gz, \\\n",
    "./raw_data/trimmed/2M-HS_CCGTCC_L001_R1_001_trimmed.fastq.gz,\\\n",
    "./raw_data/trimmed/4M-HS_GTCCGC_L001_R1_001_trimmed.fastq.gz,\\\n",
    "./raw_data/trimmed/6M-HS_GTGAAA_L001_R1_001_trimmed.fastq.gz"
   ]
  },
  {
   "cell_type": "markdown",
   "metadata": {},
   "source": [
    "###Read Mapping & Annotation (TopHat)"
   ]
  },
  {
   "cell_type": "markdown",
   "metadata": {},
   "source": [
    "####Build bowtie sequence index for use in TopHat"
   ]
  },
  {
   "cell_type": "code",
   "execution_count": 2,
   "metadata": {
    "collapsed": false
   },
   "outputs": [],
   "source": [
    "#build bowtie sequence index for use in TopHat\n",
    "#names output index Cgigas_ensembl_1.24\n",
    "!time bowtie2-build -f ./raw_data/Crassostrea_gigas.GCA_000297895.1.24.dna_sm.genome.fa \\\n",
    "./raw_data/Cgigas_ensembl_1.24"
   ]
  },
  {
   "cell_type": "markdown",
   "metadata": {},
   "source": [
    "####Run TopHat"
   ]
  },
  {
   "cell_type": "code",
   "execution_count": 44,
   "metadata": {
    "collapsed": false
   },
   "outputs": [
    {
     "name": "stdout",
     "output_type": "stream",
     "text": [
      "\n",
      "[2015-03-10 07:59:19] Beginning TopHat run (v2.0.13)\n",
      "-----------------------------------------------\n",
      "[2015-03-10 07:59:19] Checking for Bowtie\n",
      "\t\t  Bowtie version:\t 2.1.0.0\n",
      "[2015-03-10 07:59:20] Checking for Bowtie index files (transcriptome)..\n",
      "[2015-03-10 07:59:20] Checking for Bowtie index files (genome)..\n",
      "[2015-03-10 07:59:20] Checking for reference FASTA file\n",
      "[2015-03-10 07:59:20] Generating SAM header for ./raw_data/Crassostrea_gigas.GCA_000297895.1.24.dna_sm.genome\n",
      "[2015-03-10 07:59:28] Reading known junctions from GTF file\n",
      "[2015-03-10 07:59:35] Preparing reads\n",
      "\t left reads: min. length=87, max. length=87, 76133835 kept reads (478910 discarded)\n",
      "[2015-03-10 08:46:42] Using pre-built transcriptome data..\n",
      "[2015-03-10 08:46:50] Mapping left_kept_reads to transcriptome Crassostrea_gigas.GCA_000297895.1.24 with Bowtie2 \n",
      "[2015-03-10 09:14:30] Resuming TopHat pipeline with unmapped reads\n",
      "[2015-03-10 09:14:31] Mapping left_kept_reads.m2g_um to genome Crassostrea_gigas.GCA_000297895.1.24.dna_sm.genome with Bowtie2 \n",
      "[2015-03-10 10:26:38] Mapping left_kept_reads.m2g_um_seg1 to genome Crassostrea_gigas.GCA_000297895.1.24.dna_sm.genome with Bowtie2 (1/3)\n",
      "[2015-03-10 10:42:36] Mapping left_kept_reads.m2g_um_seg2 to genome Crassostrea_gigas.GCA_000297895.1.24.dna_sm.genome with Bowtie2 (2/3)\n",
      "[2015-03-10 10:57:32] Mapping left_kept_reads.m2g_um_seg3 to genome Crassostrea_gigas.GCA_000297895.1.24.dna_sm.genome with Bowtie2 (3/3)\n",
      "[2015-03-10 11:18:23] Searching for junctions via segment mapping\n",
      "[2015-03-10 12:19:02] Retrieving sequences for splices\n",
      "[2015-03-10 12:19:44] Indexing splices\n",
      "[2015-03-10 12:22:12] Mapping left_kept_reads.m2g_um_seg1 to genome segment_juncs with Bowtie2 (1/3)\n",
      "[2015-03-10 12:33:29] Mapping left_kept_reads.m2g_um_seg2 to genome segment_juncs with Bowtie2 (2/3)\n",
      "[2015-03-10 12:43:07] Mapping left_kept_reads.m2g_um_seg3 to genome segment_juncs with Bowtie2 (3/3)\n",
      "[2015-03-10 12:51:48] Joining segment hits\n",
      "[2015-03-10 14:04:20] Reporting output tracks\n",
      "-----------------------------------------------\n",
      "[2015-03-10 18:02:00] A summary of the alignment counts can be found in ./analysis/tophat_preHS/align_summary.txt\n",
      "[2015-03-10 18:02:00] Run complete: 10:02:40 elapsed\n",
      "\n",
      "real\t602m42.452s\n",
      "user\t1919m5.666s\n",
      "sys\t528m30.861s\n"
     ]
    }
   ],
   "source": [
    "#Run tophat2 using 16 CPU threads (-p 16) on 3 pre-HS samples\n",
    "#on trimmed files.\n",
    "#Specifies the reference gtf file to be used (-G)\n",
    "#Specifies the output directory (-o)\n",
    "!time tophat2 \\\n",
    "-G ./raw_data/Crassostrea_gigas.GCA_000297895.1.24.gtf \\\n",
    "--transcriptome-index ./raw_data/Crassostrea_gigas.GCA_000297895.1.24 \\\n",
    "-p 16 \\\n",
    "-o ./analysis/tophat_preHS \\\n",
    "./raw_data/Crassostrea_gigas.GCA_000297895.1.24.dna_sm.genome \\\n",
    "./raw_data/trimmed/2M_AGTCAA_L001_R1_001_trimmed.fastq.gz,\\\n",
    "./raw_data/trimmed/4M_AGTTCC_L001_R1_001_trimmed.fastq.gz,\\\n",
    "./raw_data/trimmed/6M_ATGTCA_L001_R1_001_trimmed.fastq.gz"
   ]
  },
  {
   "cell_type": "code",
   "execution_count": 4,
   "metadata": {
    "collapsed": false
   },
   "outputs": [
    {
     "name": "stdout",
     "output_type": "stream",
     "text": [
      "\n",
      "[2015-03-12 07:41:13] Beginning TopHat run (v2.0.13)\n",
      "-----------------------------------------------\n",
      "[2015-03-12 07:41:13] Checking for Bowtie\n",
      "\t\t  Bowtie version:\t 2.1.0.0\n",
      "[2015-03-12 07:41:13] Checking for Bowtie index files (transcriptome)..\n",
      "[2015-03-12 07:41:13] Checking for Bowtie index files (genome)..\n",
      "[2015-03-12 07:41:13] Checking for reference FASTA file\n",
      "[2015-03-12 07:41:13] Generating SAM header for ./raw_data/Crassostrea_gigas.GCA_000297895.1.24.dna_sm.genome\n",
      "[2015-03-12 07:41:15] Reading known junctions from GTF file\n",
      "[2015-03-12 07:41:22] Preparing reads\n",
      "\t left reads: min. length=87, max. length=87, 59246356 kept reads (1320816 discarded)\n",
      "[2015-03-12 08:18:22] Using pre-built transcriptome data..\n",
      "[2015-03-12 08:18:29] Mapping left_kept_reads to transcriptome Crassostrea_gigas.GCA_000297895.1.24 with Bowtie2 \n",
      "[2015-03-12 08:40:40] Resuming TopHat pipeline with unmapped reads\n",
      "[2015-03-12 08:40:40] Mapping left_kept_reads.m2g_um to genome Crassostrea_gigas.GCA_000297895.1.24.dna_sm.genome with Bowtie2 \n",
      "[2015-03-12 09:50:51] Mapping left_kept_reads.m2g_um_seg1 to genome Crassostrea_gigas.GCA_000297895.1.24.dna_sm.genome with Bowtie2 (1/3)\n",
      "[2015-03-12 10:08:05] Mapping left_kept_reads.m2g_um_seg2 to genome Crassostrea_gigas.GCA_000297895.1.24.dna_sm.genome with Bowtie2 (2/3)\n",
      "[2015-03-12 10:23:24] Mapping left_kept_reads.m2g_um_seg3 to genome Crassostrea_gigas.GCA_000297895.1.24.dna_sm.genome with Bowtie2 (3/3)\n",
      "[2015-03-12 10:43:30] Searching for junctions via segment mapping\n",
      "[2015-03-12 11:23:37] Retrieving sequences for splices\n",
      "[2015-03-12 11:24:13] Indexing splices\n",
      "[2015-03-12 11:26:14] Mapping left_kept_reads.m2g_um_seg1 to genome segment_juncs with Bowtie2 (1/3)\n",
      "[2015-03-12 11:37:15] Mapping left_kept_reads.m2g_um_seg2 to genome segment_juncs with Bowtie2 (2/3)\n",
      "[2015-03-12 11:46:20] Mapping left_kept_reads.m2g_um_seg3 to genome segment_juncs with Bowtie2 (3/3)\n",
      "[2015-03-12 11:53:20] Joining segment hits\n",
      "[2015-03-12 13:00:28] Reporting output tracks\n",
      "-----------------------------------------------\n",
      "[2015-03-12 14:03:26] A summary of the alignment counts can be found in ./analysis/tophat_postHS/align_summary.txt\n",
      "[2015-03-12 14:03:26] Run complete: 06:22:12 elapsed\n",
      "\n",
      "real\t382m13.096s\n",
      "user\t1815m22.197s\n",
      "sys\t521m50.686s\n"
     ]
    }
   ],
   "source": [
    "#Run tophat2 using 16 CPU threads (-p 16) on 3 post-HS samples\n",
    "#on trimmed files.\n",
    "#Specifies the reference gtf file to be used (-G)\n",
    "#Specifies the output directory (-o)\n",
    "!time tophat2 \\\n",
    "--transcriptome-index ./raw_data/Crassostrea_gigas.GCA_000297895.1.24 \\\n",
    "-p 16 \\\n",
    "-o ./analysis/tophat_postHS \\\n",
    "./raw_data/Crassostrea_gigas.GCA_000297895.1.24.dna_sm.genome \\\n",
    "./raw_data/trimmed/2M-HS_CCGTCC_L001_R1_001_trimmed.fastq.gz,\\\n",
    "./raw_data/trimmed/4M-HS_GTCCGC_L001_R1_001_trimmed.fastq.gz,\\\n",
    "./raw_data/trimmed/6M-HS_GTGAAA_L001_R1_001_trimmed.fastq.gz"
   ]
  },
  {
   "cell_type": "markdown",
   "metadata": {},
   "source": [
    "###Transcriptome Assembly & Quantification (Cufflinks)"
   ]
  },
  {
   "cell_type": "code",
   "execution_count": 12,
   "metadata": {
    "collapsed": false
   },
   "outputs": [
    {
     "name": "stdout",
     "output_type": "stream",
     "text": [
      "\r\n",
      "real\t50m24.937s\r\n",
      "user\t516m59.004s\r\n",
      "sys\t11m38.267s\r\n"
     ]
    }
   ],
   "source": [
    "#Runs cufflinks using 16 CPU threads (-p 16),\n",
    "#using the reference genome gtf file (-g),\n",
    "#outputs to specified directory (-o),\n",
    "#and redirects the stderr (2>) to a new file.\n",
    "!time cufflinks \\\n",
    "-p 16 \\\n",
    "-g ./raw_data/Crassostrea_gigas.GCA_000297895.1.24.gtf \\\n",
    "-o ./analysis/cufflinks_preHS/ \\\n",
    "./analysis/tophat_preHS/accepted_hits.bam \\\n",
    "2> ./analysis/cufflinks_preHS/cufflinks_stderr_preHS.txt"
   ]
  },
  {
   "cell_type": "code",
   "execution_count": 13,
   "metadata": {
    "collapsed": false
   },
   "outputs": [
    {
     "name": "stdout",
     "output_type": "stream",
     "text": [
      "\r\n",
      "real\t43m3.217s\r\n",
      "user\t350m46.264s\r\n",
      "sys\t9m9.817s\r\n"
     ]
    }
   ],
   "source": [
    "#Runs cufflinks using 16 CPU threads (-p 16),\n",
    "#using the reference genome gtf file (-g),\n",
    "#outputs to specified directory (-o),\n",
    "#and redirects the stderr (2>) to a new file.\n",
    "!time cufflinks \\\n",
    "-p 16 \\\n",
    "-g ./raw_data/Crassostrea_gigas.GCA_000297895.1.24.gtf \\\n",
    "-o ./analysis/cufflinks_postHS/ \\\n",
    "./analysis/tophat_postHS/accepted_hits.bam \\\n",
    "2> ./analysis/cufflinks_postHS/cufflinks_sterr_postHS.txt"
   ]
  },
  {
   "cell_type": "markdown",
   "metadata": {},
   "source": [
    "###Combine Transcriptomes (Cuffmerge)"
   ]
  },
  {
   "cell_type": "markdown",
   "metadata": {},
   "source": [
    "####Create cufflinks manifest file\n",
    "\n",
    "Cuffmerge requires a \"manifest\" file that lists the full paths to the GTF files generated by Cufflinks.\n",
    "\n",
    "Depending on user priveleges, the following command may need to be run outside of this notebook in order to utilize the \"sudo\" command."
   ]
  },
  {
   "cell_type": "code",
   "execution_count": 4,
   "metadata": {
    "collapsed": false
   },
   "outputs": [],
   "source": [
    "#Finds any files called transcripts.gtf, prints the absolute path ($PWd) and \n",
    "#redirects (concatenates) that output to the cufflinksManifest.txt file\n",
    "\n",
    "!find $PWD -name transcripts.gtf >> ./analysis/cuffmerge/cufflinksManifest.txt"
   ]
  },
  {
   "cell_type": "code",
   "execution_count": 14,
   "metadata": {
    "collapsed": false
   },
   "outputs": [
    {
     "name": "stdout",
     "output_type": "stream",
     "text": [
      "\n",
      "[Wed Feb 25 23:30:01 2015] Beginning transcriptome assembly merge\n",
      "-------------------------------------------\n",
      "\n",
      "[Wed Feb 25 23:30:01 2015] Preparing output location .analysis/cuffmerge/\n",
      "[Wed Feb 25 23:30:08 2015] Converting GTF files to SAM\n",
      "[23:30:08] Loading reference annotation.\n",
      "[23:30:21] Loading reference annotation.\n",
      "[Wed Feb 25 23:30:35 2015] Quantitating transcripts\n",
      "You are using Cufflinks v2.2.1, which is the most recent release.\n",
      "Command line:\n",
      "cufflinks -o .analysis/cuffmerge/ -F 0.05 -g /Volumes/Eagle/trilobite/Crassostrea_gigas_ensembl_tracks/Crassostrea_gigas.GCA_000297895.1.24.gtf -q --overhang-tolerance 200 --library-type=transfrags -A 0.0 --min-frags-per-transfrag 0 --no-5-extend -p 16 .analysis/cuffmerge/tmp/mergeSam_tmp.2.Qn8RNZ \n",
      "[bam_header_read] EOF marker is absent. The input is probably truncated.\n",
      "[bam_header_read] invalid BAM binary header (this is not a BAM file).\n",
      "File .analysis/cuffmerge/tmp/mergeSam_tmp.2.Qn8RNZ doesn't appear to be a valid BAM file, trying SAM...\n",
      "[23:30:35] Loading reference annotation.\n",
      "[23:30:42] Inspecting reads and determining fragment length distribution.\n",
      "Processed 37175 loci.                       \n",
      "> Map Properties:\n",
      ">\tNormalized Map Mass: 133701.00\n",
      ">\tRaw Map Mass: 133701.00\n",
      ">\tFragment Length Distribution: Truncated Gaussian (default)\n",
      ">\t              Default Mean: 200\n",
      ">\t           Default Std Dev: 80\n",
      "[23:30:44] Assembling transcripts and estimating abundances.\n",
      "Processed 37175 loci.                       \n",
      "[Wed Feb 25 23:31:05 2015] Comparing against reference file /Volumes/Eagle/trilobite/Crassostrea_gigas_ensembl_tracks/Crassostrea_gigas.GCA_000297895.1.24.gtf\n",
      "You are using Cufflinks v2.2.1, which is the most recent release.\n",
      "[Wed Feb 25 23:31:39 2015] Comparing against reference file /Volumes/Eagle/trilobite/Crassostrea_gigas_ensembl_tracks/Crassostrea_gigas.GCA_000297895.1.24.gtf\n",
      "You are using Cufflinks v2.2.1, which is the most recent release.\n",
      "\n",
      "real\t2m6.834s\n",
      "user\t5m5.595s\n",
      "sys\t0m9.188s\n"
     ]
    }
   ],
   "source": [
    "#Runs cuffmerge using 16 CPU threads (-p 16),\n",
    "#using the reference genome gtf file (-g),\n",
    "#outputs to specified directory (-o),\n",
    "!time cuffmerge \\\n",
    "-p 16 \\\n",
    "-g ./raw_data/Crassostrea_gigas.GCA_000297895.1.24.gtf \\\n",
    "-o .analysis/cuffmerge \\\n",
    "./analysis/cuffmerge/cufflinksManifest.txt"
   ]
  },
  {
   "cell_type": "markdown",
   "metadata": {},
   "source": [
    "###Quantify Gene & Transcript Expression (Cuffquant)"
   ]
  },
  {
   "cell_type": "code",
   "execution_count": 15,
   "metadata": {
    "collapsed": false
   },
   "outputs": [
    {
     "name": "stdout",
     "output_type": "stream",
     "text": [
      "You are using Cufflinks v2.2.1, which is the most recent release.\n",
      "[23:32:07] Loading reference annotation.\n",
      "[23:32:14] Inspecting maps and determining fragment length distributions.\n",
      "> Map Properties:\n",
      ">\tNormalized Map Mass: 25679067.00\n",
      ">\tRaw Map Mass: 25681261.08\n",
      ">\tFragment Length Distribution: Truncated Gaussian (default)\n",
      ">\t              Default Mean: 200\n",
      ">\t           Default Std Dev: 80\n",
      "[23:38:32] Calculating preliminary abundance estimates\n",
      "[23:38:32] Quantifying expression levels in locus.\n",
      "> Processed 27618 loci.                        [*************************] 100%\n",
      "\n",
      "real\t15m24.462s\n",
      "user\t21m3.819s\n",
      "sys\t0m27.546s\n"
     ]
    }
   ],
   "source": [
    "#Runs cuffquant using 16 CPU threads (-p 16),\n",
    "#outputs to specified directory (-o).\n",
    "!time cuffquant \\\n",
    "-p 16 \\\n",
    "-o ./analysis/cuffquant/pre_HS/ \\\n",
    "./raw_data/Crassostrea_gigas.GCA_000297895.1.24.gtf \\\n",
    "./analysis/tophat_preHS/accepted_hits.bam"
   ]
  },
  {
   "cell_type": "code",
   "execution_count": 16,
   "metadata": {
    "collapsed": false
   },
   "outputs": [],
   "source": [
    "#rename cuffquant ouput file\n",
    "!mv ./analysis/cuffquant/pre_HS/abundances.cxb ./analysis/cuffquant/pre_HS/pre_HS_abundances.cxb"
   ]
  },
  {
   "cell_type": "code",
   "execution_count": 17,
   "metadata": {
    "collapsed": false
   },
   "outputs": [
    {
     "name": "stdout",
     "output_type": "stream",
     "text": [
      "You are using Cufflinks v2.2.1, which is the most recent release.\n",
      "open: No such file or directory\n",
      "File ./analysis/tophat_postHS/tophat_out/accepted_hits.bam doesn't appear to be a valid BAM file, trying SAM...\n",
      "Error: cannot open alignment file ./analysis/tophat_postHS/tophat_out/accepted_hits.bam for reading\n",
      "\n",
      "real\t0m0.161s\n",
      "user\t0m0.002s\n",
      "sys\t0m0.003s\n"
     ]
    }
   ],
   "source": [
    "#Runs cuffquant using 16 CPU threads (-p 16),\n",
    "#outputs to specified directory (-o).\n",
    "!time cuffquant \\\n",
    "-p 16 \\\n",
    "-o ./analysis/cuffquant/post_HS/ \\\n",
    "./raw_data/Crassostrea_gigas.GCA_000297895.1.24.gtf \\\n",
    "./analysis/tophat_postHS/tophat_out/accepted_hits.bam"
   ]
  },
  {
   "cell_type": "code",
   "execution_count": 18,
   "metadata": {
    "collapsed": false
   },
   "outputs": [],
   "source": [
    "#rename cuffquant ouput file\n",
    "!mv ./analysis/cuffquant/post_HS/abundances.cxb ./analysis/cuffquant/post_HS/post_HS_abundances.cxb"
   ]
  },
  {
   "cell_type": "markdown",
   "metadata": {},
   "source": [
    "###Compare Gene Expression Levels (Cuffdiff)"
   ]
  },
  {
   "cell_type": "code",
   "execution_count": 19,
   "metadata": {
    "collapsed": false
   },
   "outputs": [
    {
     "name": "stdout",
     "output_type": "stream",
     "text": [
      "You are using Cufflinks v2.2.1, which is the most recent release.\n",
      "[23:47:35] Loading reference annotation.\n",
      "Error reference gene annotation differs between samples!\n",
      "\t./analysis/cuffquant/pre_HS/pre_HS_abundances.cxb\t/Volumes/Eagle/trilobite/Crassostrea_gigas_ensembl_tracks/Crassostrea_gigas.GCA_000297895.1.24.gtf:\t2668244034!\n",
      "\t./analysis/cuffquant/post_HS/post_HS_abundances.cxb\t../../cuffmerge/merged_asm/merged.gtf:\t1449767418!\n",
      "\n",
      "real\t0m9.475s\n",
      "user\t0m8.976s\n",
      "sys\t0m0.256s\n"
     ]
    }
   ],
   "source": [
    "#Runs cuffdiff using 16 CPU threads (-p 16),\n",
    "#outputs to specified directory (-o).\n",
    "!time cuffdiff \\\n",
    "-p 16 \\\n",
    "./raw_data/Crassostrea_gigas.GCA_000297895.1.24.gtf \\\n",
    "./analysis/cuffquant/pre_HS/pre_HS_abundances.cxb \\\n",
    "./analysis/cuffquant/post_HS/post_HS_abundances.cxb \\\n",
    "-o ./analysis/cuffdiff/"
   ]
  }
 ],
 "metadata": {
  "kernelspec": {
   "display_name": "Python 2",
   "language": "python",
   "name": "python2"
  },
  "language_info": {
   "codemirror_mode": {
    "name": "ipython",
    "version": 2
   },
   "file_extension": ".py",
   "mimetype": "text/x-python",
   "name": "python",
   "nbconvert_exporter": "python",
   "pygments_lexer": "ipython2",
   "version": "2.7.9"
  }
 },
 "nbformat": 4,
 "nbformat_minor": 0
}
