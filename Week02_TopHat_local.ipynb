{
 "metadata": {
  "name": ""
 },
 "nbformat": 3,
 "nbformat_minor": 0,
 "worksheets": [
  {
   "cells": [
    {
     "cell_type": "markdown",
     "metadata": {},
     "source": [
      "##Set up file directory structure"
     ]
    },
    {
     "cell_type": "code",
     "collapsed": false,
     "input": [
      "ls"
     ],
     "language": "python",
     "metadata": {},
     "outputs": [
      {
       "output_type": "stream",
       "stream": "stdout",
       "text": [
        "README.md                 Week01_CoreFile_ID.ipynb  Week02_TopHat.ipynb\r\n"
       ]
      }
     ],
     "prompt_number": 1
    },
    {
     "cell_type": "code",
     "collapsed": false,
     "input": [
      "mkdir gigasHSrnaSeq"
     ],
     "language": "python",
     "metadata": {},
     "outputs": [],
     "prompt_number": 2
    },
    {
     "cell_type": "code",
     "collapsed": false,
     "input": [
      "cd gigasHSrnaSeq/"
     ],
     "language": "python",
     "metadata": {},
     "outputs": [
      {
       "output_type": "stream",
       "stream": "stdout",
       "text": [
        "/Users/Sam/Documents/gigasHSrnaSeq\n"
       ]
      }
     ],
     "prompt_number": 3
    },
    {
     "cell_type": "code",
     "collapsed": false,
     "input": [
      "mkdir raw_data"
     ],
     "language": "python",
     "metadata": {},
     "outputs": [],
     "prompt_number": 4
    },
    {
     "cell_type": "code",
     "collapsed": false,
     "input": [
      "mkdir analysis"
     ],
     "language": "python",
     "metadata": {},
     "outputs": [],
     "prompt_number": 6
    },
    {
     "cell_type": "code",
     "collapsed": false,
     "input": [
      "nano ../.gitignore"
     ],
     "language": "python",
     "metadata": {},
     "outputs": [
      {
       "ename": "SyntaxError",
       "evalue": "invalid syntax (<ipython-input-7-bc23598a1776>, line 1)",
       "output_type": "pyerr",
       "traceback": [
        "\u001b[0;36m  File \u001b[0;32m\"<ipython-input-7-bc23598a1776>\"\u001b[0;36m, line \u001b[0;32m1\u001b[0m\n\u001b[0;31m    nano ../.gitignore\u001b[0m\n\u001b[0m          ^\u001b[0m\n\u001b[0;31mSyntaxError\u001b[0m\u001b[0;31m:\u001b[0m invalid syntax\n"
       ]
      }
     ],
     "prompt_number": 7
    },
    {
     "cell_type": "code",
     "collapsed": false,
     "input": [
      "cd .."
     ],
     "language": "python",
     "metadata": {},
     "outputs": [
      {
       "output_type": "stream",
       "stream": "stdout",
       "text": [
        "/Users/Sam/Documents\n"
       ]
      }
     ],
     "prompt_number": 8
    },
    {
     "cell_type": "code",
     "collapsed": false,
     "input": [
      "#attempt to use text editor through IPython; probably will not work\n",
      "nano .gitignore"
     ],
     "language": "python",
     "metadata": {},
     "outputs": [
      {
       "ename": "NameError",
       "evalue": "name 'nano' is not defined",
       "output_type": "pyerr",
       "traceback": [
        "\u001b[0;31m---------------------------------------------------------------------------\u001b[0m\n\u001b[0;31mNameError\u001b[0m                                 Traceback (most recent call last)",
        "\u001b[0;32m<ipython-input-9-2897b271768e>\u001b[0m in \u001b[0;36m<module>\u001b[0;34m()\u001b[0m\n\u001b[0;32m----> 1\u001b[0;31m \u001b[0mnano\u001b[0m \u001b[0;34m.\u001b[0m\u001b[0mgitignore\u001b[0m\u001b[0;34m\u001b[0m\u001b[0m\n\u001b[0m",
        "\u001b[0;31mNameError\u001b[0m: name 'nano' is not defined"
       ]
      }
     ],
     "prompt_number": 9
    },
    {
     "cell_type": "code",
     "collapsed": false,
     "input": [
      "cat .gitignore"
     ],
     "language": "python",
     "metadata": {},
     "outputs": [
      {
       "output_type": "stream",
       "stream": "stdout",
       "text": [
        ".ipynb_checkpoints/\r\n",
        ".localized\r\n",
        "\r\n"
       ]
      }
     ],
     "prompt_number": 10
    },
    {
     "cell_type": "code",
     "collapsed": false,
     "input": [
      "#edited .gitignore file to ignore the raw_data\n",
      "cat .gitignore"
     ],
     "language": "python",
     "metadata": {},
     "outputs": [
      {
       "ename": "NameError",
       "evalue": "name 'cat' is not defined",
       "output_type": "pyerr",
       "traceback": [
        "\u001b[0;31m---------------------------------------------------------------------------\u001b[0m\n\u001b[0;31mNameError\u001b[0m                                 Traceback (most recent call last)",
        "\u001b[0;32m<ipython-input-11-4a8d1e6a78d8>\u001b[0m in \u001b[0;36m<module>\u001b[0;34m()\u001b[0m\n\u001b[1;32m      1\u001b[0m \u001b[0;31m#edited .gitignore file to ignore the raw_data\u001b[0m\u001b[0;34m\u001b[0m\u001b[0;34m\u001b[0m\u001b[0m\n\u001b[0;32m----> 2\u001b[0;31m \u001b[0mcat\u001b[0m \u001b[0;34m.\u001b[0m\u001b[0mgitignore\u001b[0m\u001b[0;34m\u001b[0m\u001b[0m\n\u001b[0m",
        "\u001b[0;31mNameError\u001b[0m: name 'cat' is not defined"
       ]
      }
     ],
     "prompt_number": 11
    },
    {
     "cell_type": "code",
     "collapsed": false,
     "input": [
      "#edited .gitignore file to ignore the raw_data\n",
      "!cat .gitignore"
     ],
     "language": "python",
     "metadata": {},
     "outputs": [
      {
       "output_type": "stream",
       "stream": "stdout",
       "text": [
        ".ipynb_checkpoints/\r\n",
        ".localized\r\n",
        "/gigasHSrnaSeq/raw_data\r\n"
       ]
      }
     ],
     "prompt_number": 12
    },
    {
     "cell_type": "code",
     "collapsed": false,
     "input": [
      "pwd"
     ],
     "language": "python",
     "metadata": {},
     "outputs": [
      {
       "metadata": {},
       "output_type": "pyout",
       "prompt_number": 13,
       "text": [
        "u'/Users/Sam/Documents'"
       ]
      }
     ],
     "prompt_number": 13
    },
    {
     "cell_type": "code",
     "collapsed": false,
     "input": [
      "mkdir gigasHSrnaSeq/scripts"
     ],
     "language": "python",
     "metadata": {},
     "outputs": [],
     "prompt_number": 14
    },
    {
     "cell_type": "code",
     "collapsed": false,
     "input": [
      "#create readme.md files within each directory of project\n",
      "!touch gigasHSrnaSeq/readme.md gigasHSrnaSeq/analysis/readme.md gigasHSrnaSeq/raw_data/readme.md gigasHSrnaSeq/scripts/readme.md"
     ],
     "language": "python",
     "metadata": {},
     "outputs": [],
     "prompt_number": 15
    },
    {
     "cell_type": "code",
     "collapsed": false,
     "input": [
      "#see if bowtie (necessary for TopHat to run) is installed\n",
      "#looking in the directory that contains all of the bioinformatics tools\n",
      "#that are currently installed\n",
      "#using wildcard character (asterisk) to match anything starting with bowtie\n",
      "!find /usr/local/bioinformatics/ -name \"bowtie*\""
     ],
     "language": "python",
     "metadata": {},
     "outputs": [
      {
       "output_type": "stream",
       "stream": "stdout",
       "text": [
        "/usr/local/bioinformatics//bowtie\r\n",
        "/usr/local/bioinformatics//bowtie-1.0.0\r\n",
        "/usr/local/bioinformatics//bowtie-1.0.0/bowtie\r\n",
        "/usr/local/bioinformatics//bowtie-1.0.0/bowtie-build\r\n",
        "/usr/local/bioinformatics//bowtie-1.0.0/bowtie-build-debug\r\n",
        "/usr/local/bioinformatics//bowtie-1.0.0/bowtie-debug\r\n",
        "/usr/local/bioinformatics//bowtie-1.0.0/bowtie-inspect\r\n",
        "/usr/local/bioinformatics//bowtie-1.0.0/bowtie-inspect-debug\r\n"
       ]
      },
      {
       "output_type": "stream",
       "stream": "stdout",
       "text": [
        "/usr/local/bioinformatics//bowtie2\r\n",
        "/usr/local/bioinformatics//bowtie2-2.1.0\r\n",
        "/usr/local/bioinformatics//bowtie2-2.1.0/bowtie2\r\n",
        "/usr/local/bioinformatics//bowtie2-2.1.0/bowtie2-align\r\n",
        "/usr/local/bioinformatics//bowtie2-2.1.0/bowtie2-align-debug\r\n",
        "/usr/local/bioinformatics//bowtie2-2.1.0/bowtie2-build\r\n",
        "/usr/local/bioinformatics//bowtie2-2.1.0/bowtie2-build-debug\r\n",
        "/usr/local/bioinformatics//bowtie2-2.1.0/bowtie2-inspect\r\n",
        "/usr/local/bioinformatics//bowtie2-2.1.0/bowtie2-inspect-debug\r\n"
       ]
      },
      {
       "output_type": "stream",
       "stream": "stdout",
       "text": [
        "/usr/local/bioinformatics//rsem-1.2.10/sam/misc/bowtie2sam.pl\r\n"
       ]
      }
     ],
     "prompt_number": 1
    },
    {
     "cell_type": "code",
     "collapsed": false,
     "input": [
      "#could also use the \"which\" command\n",
      "!which bowtie"
     ],
     "language": "python",
     "metadata": {},
     "outputs": [
      {
       "output_type": "stream",
       "stream": "stdout",
       "text": [
        "/usr/local/bioinformatics/bowtie/bowtie\r\n"
       ]
      }
     ],
     "prompt_number": 2
    },
    {
     "cell_type": "code",
     "collapsed": false,
     "input": [
      "#but the \"find\" command allows me to see all aspects (and versions) of bowtie that are installed\n"
     ],
     "language": "python",
     "metadata": {},
     "outputs": [],
     "prompt_number": 3
    },
    {
     "cell_type": "code",
     "collapsed": false,
     "input": [
      "#check for TopHat\n",
      "!which tophat"
     ],
     "language": "python",
     "metadata": {},
     "outputs": [],
     "prompt_number": 4
    },
    {
     "cell_type": "code",
     "collapsed": false,
     "input": [
      "#which doens't find anything in the $PATH\n",
      "#let's try using \"find\"\n",
      "!find /usr/local/bioinformatics/ -name \"tophat*\""
     ],
     "language": "python",
     "metadata": {},
     "outputs": [],
     "prompt_number": 5
    },
    {
     "cell_type": "code",
     "collapsed": false,
     "input": [
      "#nothing\n",
      "#TopHat is not installed\n",
      "#need to get/install TopHat"
     ],
     "language": "python",
     "metadata": {},
     "outputs": [],
     "prompt_number": 6
    },
    {
     "cell_type": "code",
     "collapsed": false,
     "input": [
      "cd /usr/local/bioinformatics/"
     ],
     "language": "python",
     "metadata": {},
     "outputs": [
      {
       "output_type": "stream",
       "stream": "stdout",
       "text": [
        "/usr/local/bioinformatics\n"
       ]
      }
     ],
     "prompt_number": 1
    },
    {
     "cell_type": "code",
     "collapsed": false,
     "input": [
      "ls /usr/local/bioinformatics/"
     ],
     "language": "python",
     "metadata": {},
     "outputs": [
      {
       "output_type": "stream",
       "stream": "stdout",
       "text": [
        "\u001b[35mTrimmomatic\u001b[m\u001b[m@             \u001b[34mdbs\u001b[m\u001b[m/                     \u001b[34mngsplot-2.08\u001b[m\u001b[m/\r\n",
        "\u001b[34mTrimmomatic-0.30\u001b[m\u001b[m/        \u001b[35mfastx_toolkit\u001b[m\u001b[m@           \u001b[35mrsem\u001b[m\u001b[m@\r\n",
        "\u001b[35mTrinotate\u001b[m\u001b[m@               \u001b[34mfastx_toolkit-0.0.13.2\u001b[m\u001b[m/  \u001b[34mrsem-1.2.10\u001b[m\u001b[m/\r\n",
        "\u001b[34mTrinotate_r20140708\u001b[m\u001b[m/     \u001b[35mhmmer\u001b[m\u001b[m@                   \u001b[34msignalp-4.1\u001b[m\u001b[m/\r\n",
        "\u001b[34manaconda\u001b[m\u001b[m/                \u001b[34mhmmer-3.1b1\u001b[m\u001b[m/             source.sh\r\n",
        "\u001b[35mbowtie\u001b[m\u001b[m@                  \u001b[34mlibgtextutils-0.6.1\u001b[m\u001b[m/     \u001b[35mstacks\u001b[m\u001b[m@\r\n",
        "\u001b[34mbowtie-1.0.0\u001b[m\u001b[m/            \u001b[35mncbi-blast\u001b[m\u001b[m@              \u001b[34mstacks-1.13\u001b[m\u001b[m/\r\n",
        "\u001b[35mbowtie2\u001b[m\u001b[m@                 \u001b[34mncbi-blast-2.2.29+\u001b[m\u001b[m/      \u001b[35mtrinity\u001b[m\u001b[m@\r\n",
        "\u001b[34mbowtie2-2.1.0\u001b[m\u001b[m/           \u001b[35mngsplot\u001b[m\u001b[m@                 \u001b[34mtrinityrnaseq_r20131110\u001b[m\u001b[m/\r\n"
       ]
      }
     ],
     "prompt_number": 4
    },
    {
     "cell_type": "code",
     "collapsed": false,
     "input": [
      "ls"
     ],
     "language": "python",
     "metadata": {},
     "outputs": [
      {
       "output_type": "stream",
       "stream": "stdout",
       "text": [
        "\u001b[35mTrimmomatic\u001b[m\u001b[m@             \u001b[34mdbs\u001b[m\u001b[m/                     \u001b[34mngsplot-2.08\u001b[m\u001b[m/\r\n",
        "\u001b[34mTrimmomatic-0.30\u001b[m\u001b[m/        \u001b[35mfastx_toolkit\u001b[m\u001b[m@           \u001b[35mrsem\u001b[m\u001b[m@\r\n",
        "\u001b[35mTrinotate\u001b[m\u001b[m@               \u001b[34mfastx_toolkit-0.0.13.2\u001b[m\u001b[m/  \u001b[34mrsem-1.2.10\u001b[m\u001b[m/\r\n",
        "\u001b[34mTrinotate_r20140708\u001b[m\u001b[m/     \u001b[35mhmmer\u001b[m\u001b[m@                   \u001b[34msignalp-4.1\u001b[m\u001b[m/\r\n",
        "\u001b[34manaconda\u001b[m\u001b[m/                \u001b[34mhmmer-3.1b1\u001b[m\u001b[m/             source.sh\r\n",
        "\u001b[35mbowtie\u001b[m\u001b[m@                  \u001b[34mlibgtextutils-0.6.1\u001b[m\u001b[m/     \u001b[35mstacks\u001b[m\u001b[m@\r\n",
        "\u001b[34mbowtie-1.0.0\u001b[m\u001b[m/            \u001b[35mncbi-blast\u001b[m\u001b[m@              \u001b[34mstacks-1.13\u001b[m\u001b[m/\r\n",
        "\u001b[35mbowtie2\u001b[m\u001b[m@                 \u001b[34mncbi-blast-2.2.29+\u001b[m\u001b[m/      \u001b[35mtrinity\u001b[m\u001b[m@\r\n",
        "\u001b[34mbowtie2-2.1.0\u001b[m\u001b[m/           \u001b[35mngsplot\u001b[m\u001b[m@                 \u001b[34mtrinityrnaseq_r20131110\u001b[m\u001b[m/\r\n"
       ]
      }
     ],
     "prompt_number": 5
    },
    {
     "cell_type": "code",
     "collapsed": false,
     "input": [
      "!curl -O http://ccb.jhu.edu/software/tophat/downloads/tophat-2.0.13.OSX_x86_64.tar.gz"
     ],
     "language": "python",
     "metadata": {},
     "outputs": [
      {
       "output_type": "stream",
       "stream": "stdout",
       "text": [
        "  % Total    % Received % Xferd  Average Speed   Time    Time     Time  Current\r\n",
        "                                 Dload  Upload   Total   Spent    Left  Speed\r\n",
        "\r",
        "  0     0    0     0    0     0      0      0 --:--:-- --:--:-- --:--:--     0"
       ]
      },
      {
       "output_type": "stream",
       "stream": "stdout",
       "text": [
        "Warning: Failed to create the file tophat-2.0.13.OSX_x86_64.tar.gz: Permission \r\n",
        "Warning: denied\r\n"
       ]
      },
      {
       "output_type": "stream",
       "stream": "stdout",
       "text": [
        "\r",
        "  0 2032k    0  2636    0     0  18508      0  0:01:52 --:--:--  0:01:52 18563\r\n",
        "curl: (23) Failed writing body (0 != 2636)\r\n"
       ]
      }
     ],
     "prompt_number": 6
    },
    {
     "cell_type": "code",
     "collapsed": false,
     "input": [
      "#Looks like I don't have write permissions for this folder.  Let's check.\n",
      "!cd ..\n",
      "!ls -l\n"
     ],
     "language": "python",
     "metadata": {},
     "outputs": [
      {
       "output_type": "stream",
       "stream": "stdout",
       "text": [
        "total 96\r\n",
        "lrwxr-xr-x    1 root  wheel    16 Feb 11  2014 \u001b[35mTrimmomatic\u001b[m\u001b[m -> Trimmomatic-0.30\r\n",
        "drwxr-xr-x    5 root  wheel   170 Feb 11  2014 \u001b[34mTrimmomatic-0.30\u001b[m\u001b[m\r\n",
        "lrwxr-xr-x    1 root  wheel    19 Aug  8 14:04 \u001b[35mTrinotate\u001b[m\u001b[m -> Trinotate_r20140708\r\n",
        "drwxr-xr-x   14 root  wheel   476 Aug  8 14:03 \u001b[34mTrinotate_r20140708\u001b[m\u001b[m\r\n",
        "drwxr-xr-x   15 root  wheel   510 May 28  2014 \u001b[34manaconda\u001b[m\u001b[m\r\n",
        "lrwxr-xr-x    1 root  wheel    12 Feb  5  2014 \u001b[35mbowtie\u001b[m\u001b[m -> bowtie-1.0.0\r\n",
        "drwxr-xr-x   20 root  wheel   680 Feb  5  2014 \u001b[34mbowtie-1.0.0\u001b[m\u001b[m\r\n",
        "lrwxr-xr-x    1 root  wheel    13 Feb  5  2014 \u001b[35mbowtie2\u001b[m\u001b[m -> bowtie2-2.1.0\r\n",
        "drwxr-xr-x   19 root  wheel   646 Feb  5  2014 \u001b[34mbowtie2-2.1.0\u001b[m\u001b[m\r\n",
        "drwxr-xr-x   37 root  wheel  1258 Aug 11 10:10 \u001b[34mdbs\u001b[m\u001b[m\r\n",
        "lrwxr-xr-x    1 root  wheel    22 Feb 11  2014 \u001b[35mfastx_toolkit\u001b[m\u001b[m -> fastx_toolkit-0.0.13.2\r\n",
        "drwxr-xr-x    4 root  wheel   136 Feb 11  2014 \u001b[34mfastx_toolkit-0.0.13.2\u001b[m\u001b[m\r\n",
        "lrwxr-xr-x    1 root  wheel    11 Jun 30  2014 \u001b[35mhmmer\u001b[m\u001b[m -> hmmer-3.1b1\r\n",
        "drwxr-xr-x   42 root  wheel  1428 Jun 30  2014 \u001b[34mhmmer-3.1b1\u001b[m\u001b[m\r\n",
        "drwxr-xr-x    5 root  wheel   170 Feb 11  2014 \u001b[34mlibgtextutils-0.6.1\u001b[m\u001b[m\r\n",
        "lrwxr-xr-x    1 root  wheel    18 May 28  2014 \u001b[35mncbi-blast\u001b[m\u001b[m -> ncbi-blast-2.2.29+\r\n",
        "drwxr-xr-x@   8 root  wheel   272 May 28  2014 \u001b[34mncbi-blast-2.2.29+\u001b[m\u001b[m\r\n",
        "lrwxr-xr-x    1 root  wheel    12 Apr 28  2014 \u001b[35mngsplot\u001b[m\u001b[m -> ngsplot-2.08\r\n",
        "drwxr-xr-x    9 root  wheel   306 Apr 28  2014 \u001b[34mngsplot-2.08\u001b[m\u001b[m\r\n",
        "lrwxr-xr-x    1 root  wheel    11 Feb  5  2014 \u001b[35mrsem\u001b[m\u001b[m -> rsem-1.2.10\r\n",
        "drwxr-xr-x  107 root  wheel  3638 Feb  5  2014 \u001b[34mrsem-1.2.10\u001b[m\u001b[m\r\n",
        "drwxr-xr-x   10 root  wheel   340 Aug  8 14:00 \u001b[34msignalp-4.1\u001b[m\u001b[m\r\n",
        "-rw-r--r--    1 root  wheel  1125 Aug  8 14:03 source.sh\r\n",
        "lrwxr-xr-x    1 root  wheel    11 Feb 27  2014 \u001b[35mstacks\u001b[m\u001b[m -> stacks-1.13\r\n",
        "drwxr-xr-x    4 root  wheel   136 Feb 27  2014 \u001b[34mstacks-1.13\u001b[m\u001b[m\r\n",
        "lrwxr-xr-x    1 root  wheel    23 Feb  5  2014 \u001b[35mtrinity\u001b[m\u001b[m -> trinityrnaseq_r20131110\r\n",
        "drwxr-xr-x   20 root  wheel   680 Feb  5  2014 \u001b[34mtrinityrnaseq_r20131110\u001b[m\u001b[m\r\n"
       ]
      }
     ],
     "prompt_number": 8
    },
    {
     "cell_type": "code",
     "collapsed": false,
     "input": [
      "!cd .."
     ],
     "language": "python",
     "metadata": {},
     "outputs": [],
     "prompt_number": 9
    },
    {
     "cell_type": "code",
     "collapsed": false,
     "input": [
      "!ls -l"
     ],
     "language": "python",
     "metadata": {},
     "outputs": [
      {
       "output_type": "stream",
       "stream": "stdout",
       "text": [
        "total 96\r\n",
        "lrwxr-xr-x    1 root  wheel    16 Feb 11  2014 \u001b[35mTrimmomatic\u001b[m\u001b[m -> Trimmomatic-0.30\r\n",
        "drwxr-xr-x    5 root  wheel   170 Feb 11  2014 \u001b[34mTrimmomatic-0.30\u001b[m\u001b[m\r\n",
        "lrwxr-xr-x    1 root  wheel    19 Aug  8 14:04 \u001b[35mTrinotate\u001b[m\u001b[m -> Trinotate_r20140708\r\n",
        "drwxr-xr-x   14 root  wheel   476 Aug  8 14:03 \u001b[34mTrinotate_r20140708\u001b[m\u001b[m\r\n",
        "drwxr-xr-x   15 root  wheel   510 May 28  2014 \u001b[34manaconda\u001b[m\u001b[m\r\n",
        "lrwxr-xr-x    1 root  wheel    12 Feb  5  2014 \u001b[35mbowtie\u001b[m\u001b[m -> bowtie-1.0.0\r\n",
        "drwxr-xr-x   20 root  wheel   680 Feb  5  2014 \u001b[34mbowtie-1.0.0\u001b[m\u001b[m\r\n",
        "lrwxr-xr-x    1 root  wheel    13 Feb  5  2014 \u001b[35mbowtie2\u001b[m\u001b[m -> bowtie2-2.1.0\r\n",
        "drwxr-xr-x   19 root  wheel   646 Feb  5  2014 \u001b[34mbowtie2-2.1.0\u001b[m\u001b[m\r\n",
        "drwxr-xr-x   37 root  wheel  1258 Aug 11 10:10 \u001b[34mdbs\u001b[m\u001b[m\r\n",
        "lrwxr-xr-x    1 root  wheel    22 Feb 11  2014 \u001b[35mfastx_toolkit\u001b[m\u001b[m -> fastx_toolkit-0.0.13.2\r\n",
        "drwxr-xr-x    4 root  wheel   136 Feb 11  2014 \u001b[34mfastx_toolkit-0.0.13.2\u001b[m\u001b[m\r\n",
        "lrwxr-xr-x    1 root  wheel    11 Jun 30  2014 \u001b[35mhmmer\u001b[m\u001b[m -> hmmer-3.1b1\r\n",
        "drwxr-xr-x   42 root  wheel  1428 Jun 30  2014 \u001b[34mhmmer-3.1b1\u001b[m\u001b[m\r\n",
        "drwxr-xr-x    5 root  wheel   170 Feb 11  2014 \u001b[34mlibgtextutils-0.6.1\u001b[m\u001b[m\r\n",
        "lrwxr-xr-x    1 root  wheel    18 May 28  2014 \u001b[35mncbi-blast\u001b[m\u001b[m -> ncbi-blast-2.2.29+\r\n",
        "drwxr-xr-x@   8 root  wheel   272 May 28  2014 \u001b[34mncbi-blast-2.2.29+\u001b[m\u001b[m\r\n",
        "lrwxr-xr-x    1 root  wheel    12 Apr 28  2014 \u001b[35mngsplot\u001b[m\u001b[m -> ngsplot-2.08\r\n",
        "drwxr-xr-x    9 root  wheel   306 Apr 28  2014 \u001b[34mngsplot-2.08\u001b[m\u001b[m\r\n",
        "lrwxr-xr-x    1 root  wheel    11 Feb  5  2014 \u001b[35mrsem\u001b[m\u001b[m -> rsem-1.2.10\r\n",
        "drwxr-xr-x  107 root  wheel  3638 Feb  5  2014 \u001b[34mrsem-1.2.10\u001b[m\u001b[m\r\n",
        "drwxr-xr-x   10 root  wheel   340 Aug  8 14:00 \u001b[34msignalp-4.1\u001b[m\u001b[m\r\n",
        "-rw-r--r--    1 root  wheel  1125 Aug  8 14:03 source.sh\r\n",
        "lrwxr-xr-x    1 root  wheel    11 Feb 27  2014 \u001b[35mstacks\u001b[m\u001b[m -> stacks-1.13\r\n",
        "drwxr-xr-x    4 root  wheel   136 Feb 27  2014 \u001b[34mstacks-1.13\u001b[m\u001b[m\r\n",
        "lrwxr-xr-x    1 root  wheel    23 Feb  5  2014 \u001b[35mtrinity\u001b[m\u001b[m -> trinityrnaseq_r20131110\r\n",
        "drwxr-xr-x   20 root  wheel   680 Feb  5  2014 \u001b[34mtrinityrnaseq_r20131110\u001b[m\u001b[m\r\n"
       ]
      }
     ],
     "prompt_number": 10
    },
    {
     "cell_type": "code",
     "collapsed": false,
     "input": [
      "!cd .."
     ],
     "language": "python",
     "metadata": {},
     "outputs": [],
     "prompt_number": 11
    },
    {
     "cell_type": "code",
     "collapsed": false,
     "input": [
      "pwd"
     ],
     "language": "python",
     "metadata": {},
     "outputs": [
      {
       "metadata": {},
       "output_type": "pyout",
       "prompt_number": 12,
       "text": [
        "u'/usr/local/bioinformatics'"
       ]
      }
     ],
     "prompt_number": 12
    },
    {
     "cell_type": "code",
     "collapsed": false,
     "input": [
      "cd .."
     ],
     "language": "python",
     "metadata": {},
     "outputs": [
      {
       "output_type": "stream",
       "stream": "stdout",
       "text": [
        "/usr/local\n"
       ]
      }
     ],
     "prompt_number": 13
    },
    {
     "cell_type": "code",
     "collapsed": false,
     "input": [
      "ls -l"
     ],
     "language": "python",
     "metadata": {},
     "outputs": [
      {
       "output_type": "stream",
       "stream": "stdout",
       "text": [
        "total 0\r\n",
        "drwxr-xr-x   6 root  wheel  204 Oct 13 09:35 \u001b[34mbin\u001b[m\u001b[m/\r\n",
        "drwxr-xr-x  29 root  wheel  986 Aug  8 14:04 \u001b[34mbioinformatics\u001b[m\u001b[m/\r\n",
        "drwxr-xr-x  29 root  wheel  986 Oct 13 09:35 \u001b[34minclude\u001b[m\u001b[m/\r\n",
        "drwxr-xr-x  20 root  wheel  680 Oct 13 09:35 \u001b[34mlib\u001b[m\u001b[m/\r\n",
        "drwxr-xr-x   5 root  wheel  170 Mar 29  2013 \u001b[34mman\u001b[m\u001b[m/\r\n",
        "drwxr-xr-x   3 root  wheel  102 Mar 29  2013 \u001b[34mshare\u001b[m\u001b[m/\r\n"
       ]
      }
     ],
     "prompt_number": 14
    },
    {
     "cell_type": "code",
     "collapsed": false,
     "input": [
      "#Don't have write permissions (evidenced by the \"r-x\" in the third group."
     ],
     "language": "python",
     "metadata": {},
     "outputs": [],
     "prompt_number": 15
    },
    {
     "cell_type": "code",
     "collapsed": false,
     "input": [
      "#had to run the curl command using sudo in shell, outside of IPython\n",
      "#sudo curl -O http://ccb.jhu.edu/software/tophat/downloads/tophat-2.0.13.OSX_x86_64.tar.gz"
     ],
     "language": "python",
     "metadata": {},
     "outputs": [],
     "prompt_number": 16
    },
    {
     "cell_type": "code",
     "collapsed": false,
     "input": [
      "ls bioinformatics/"
     ],
     "language": "python",
     "metadata": {},
     "outputs": [
      {
       "output_type": "stream",
       "stream": "stdout",
       "text": [
        "\u001b[35mTrimmomatic\u001b[m\u001b[m@                     \u001b[34mlibgtextutils-0.6.1\u001b[m\u001b[m/\r\n",
        "\u001b[34mTrimmomatic-0.30\u001b[m\u001b[m/                \u001b[35mncbi-blast\u001b[m\u001b[m@\r\n",
        "\u001b[35mTrinotate\u001b[m\u001b[m@                       \u001b[34mncbi-blast-2.2.29+\u001b[m\u001b[m/\r\n",
        "\u001b[34mTrinotate_r20140708\u001b[m\u001b[m/             \u001b[35mngsplot\u001b[m\u001b[m@\r\n",
        "\u001b[34manaconda\u001b[m\u001b[m/                        \u001b[34mngsplot-2.08\u001b[m\u001b[m/\r\n",
        "\u001b[35mbowtie\u001b[m\u001b[m@                          \u001b[35mrsem\u001b[m\u001b[m@\r\n",
        "\u001b[34mbowtie-1.0.0\u001b[m\u001b[m/                    \u001b[34mrsem-1.2.10\u001b[m\u001b[m/\r\n",
        "\u001b[35mbowtie2\u001b[m\u001b[m@                         \u001b[34msignalp-4.1\u001b[m\u001b[m/\r\n",
        "\u001b[34mbowtie2-2.1.0\u001b[m\u001b[m/                   source.sh\r\n",
        "\u001b[34mdbs\u001b[m\u001b[m/                             \u001b[35mstacks\u001b[m\u001b[m@\r\n",
        "\u001b[35mfastx_toolkit\u001b[m\u001b[m@                   \u001b[34mstacks-1.13\u001b[m\u001b[m/\r\n",
        "\u001b[34mfastx_toolkit-0.0.13.2\u001b[m\u001b[m/          tophat-2.0.13.OSX_x86_64.tar.gz\r\n",
        "\u001b[35mhmmer\u001b[m\u001b[m@                           \u001b[35mtrinity\u001b[m\u001b[m@\r\n",
        "\u001b[34mhmmer-3.1b1\u001b[m\u001b[m/                     \u001b[34mtrinityrnaseq_r20131110\u001b[m\u001b[m/\r\n"
       ]
      }
     ],
     "prompt_number": 17
    },
    {
     "cell_type": "code",
     "collapsed": false,
     "input": [
      "cd bioinformatics/"
     ],
     "language": "python",
     "metadata": {},
     "outputs": [
      {
       "output_type": "stream",
       "stream": "stdout",
       "text": [
        "/usr/local/bioinformatics\n"
       ]
      }
     ],
     "prompt_number": 18
    },
    {
     "cell_type": "code",
     "collapsed": false,
     "input": [
      "!tar -zxvf tophat-2.0.13.OSX_x86_64.tar.gz"
     ],
     "language": "python",
     "metadata": {},
     "outputs": [
      {
       "output_type": "stream",
       "stream": "stdout",
       "text": [
        "x tophat-2.0.13.OSX_x86_64/: Can't create 'tophat-2.0.13.OSX_x86_64'\r\n",
        "x tophat-2.0.13.OSX_x86_64/AUTHORS: Failed to create dir 'tophat-2.0.13.OSX_x86_64'Can't create 'tophat-2.0.13.OSX_x86_64/AUTHORS'\r\n",
        "x tophat-2.0.13.OSX_x86_64/bam2fastx: Failed to create dir 'tophat-2.0.13.OSX_x86_64'Can't create 'tophat-2.0.13.OSX_x86_64/bam2fastx'\r\n",
        "x tophat-2.0.13.OSX_x86_64/bam_merge: Failed to create dir 'tophat-2.0.13.OSX_x86_64'Can't create 'tophat-2.0.13.OSX_x86_64/bam_merge'\r\n",
        "x tophat-2.0.13.OSX_x86_64/bed_to_juncs: Failed to create dir 'tophat-2.0.13.OSX_x86_64'Can't create 'tophat-2.0.13.OSX_x86_64/bed_to_juncs'\r\n",
        "x tophat-2.0.13.OSX_x86_64/contig_to_chr_coords: Failed to create dir 'tophat-2.0.13.OSX_x86_64'Can't create 'tophat-2.0.13.OSX_x86_64/contig_to_chr_coords'\r\n",
        "x tophat-2.0.13.OSX_x86_64/COPYING: Failed to create dir 'tophat-2.0.13.OSX_x86_64'Can't create 'tophat-2.0.13.OSX_x86_64/COPYING'\r\n",
        "x tophat-2.0.13.OSX_x86_64/fix_map_ordering: Failed to create dir 'tophat-2.0.13.OSX_x86_64'Can't create 'tophat-2.0.13.OSX_x86_64/fix_map_ordering'\r\n",
        "x tophat-2.0.13.OSX_x86_64/gtf_juncs: Failed to create dir 'tophat-2.0.13.OSX_x86_64'Can't create 'tophat-2.0.13.OSX_x86_64/gtf_juncs'\r\n",
        "x tophat-2.0.13.OSX_x86_64/gtf_to_fasta: Failed to create dir 'tophat-2.0.13.OSX_x86_64'Can't create 'tophat-2.0.13.OSX_x86_64/gtf_to_fasta'\r\n",
        "x tophat-2.0.13.OSX_x86_64/juncs_db: Failed to create dir 'tophat-2.0.13.OSX_x86_64'Can't create 'tophat-2.0.13.OSX_x86_64/juncs_db'\r\n",
        "x tophat-2.0.13.OSX_x86_64/long_spanning_reads: Failed to create dir 'tophat-2.0.13.OSX_x86_64'Can't create 'tophat-2.0.13.OSX_x86_64/long_spanning_reads'\r\n",
        "x tophat-2.0.13.OSX_x86_64/map2gtf: Failed to create dir 'tophat-2.0.13.OSX_x86_64'Can't create 'tophat-2.0.13.OSX_x86_64/map2gtf'\r\n",
        "x tophat-2.0.13.OSX_x86_64/prep_reads: Failed to create dir 'tophat-2.0.13.OSX_x86_64'Can't create 'tophat-2.0.13.OSX_x86_64/prep_reads'\r\n",
        "x tophat-2.0.13.OSX_x86_64/README: Failed to create dir 'tophat-2.0.13.OSX_x86_64'Can't create 'tophat-2.0.13.OSX_x86_64/README'\r\n",
        "x tophat-2.0.13.OSX_x86_64/sam_juncs: Failed to create dir 'tophat-2.0.13.OSX_x86_64'Can't create 'tophat-2.0.13.OSX_x86_64/sam_juncs'\r\n",
        "x tophat-2.0.13.OSX_x86_64/samtools_0.1.18: Failed to create dir 'tophat-2.0.13.OSX_x86_64'Can't create 'tophat-2.0.13.OSX_x86_64/samtools_0.1.18'\r\n",
        "x tophat-2.0.13.OSX_x86_64/segment_juncs: Failed to create dir 'tophat-2.0.13.OSX_x86_64'Can't create 'tophat-2.0.13.OSX_x86_64/segment_juncs'\r\n",
        "x tophat-2.0.13.OSX_x86_64/sra_to_solid: Failed to create dir 'tophat-2.0.13.OSX_x86_64'Can't create 'tophat-2.0.13.OSX_x86_64/sra_to_solid'\r\n",
        "x tophat-2.0.13.OSX_x86_64/tophat: Failed to create dir 'tophat-2.0.13.OSX_x86_64'Can't create 'tophat-2.0.13.OSX_x86_64/tophat'\r\n",
        "x tophat-2.0.13.OSX_x86_64/tophat-fusion-post: Failed to create dir 'tophat-2.0.13.OSX_x86_64'Can't create 'tophat-2.0.13.OSX_x86_64/tophat-fusion-post'\r\n",
        "x tophat-2.0.13.OSX_x86_64/tophat2: Failed to create dir 'tophat-2.0.13.OSX_x86_64'Can't create 'tophat-2.0.13.OSX_x86_64/tophat2'\r\n",
        "x tophat-2.0.13.OSX_x86_64/tophat_reports: Failed to create dir 'tophat-2.0.13.OSX_x86_64'Can't create 'tophat-2.0.13.OSX_x86_64/tophat_reports'\r\n",
        "tar: Error exit delayed from previous errors.\r\n"
       ]
      }
     ],
     "prompt_number": 19
    },
    {
     "cell_type": "code",
     "collapsed": false,
     "input": [
      "#Ugh, same permissions issue.  Have to use sudo.  BRB..."
     ],
     "language": "python",
     "metadata": {},
     "outputs": [],
     "prompt_number": 20
    },
    {
     "cell_type": "code",
     "collapsed": false,
     "input": [
      "#ran this command to unpack file\n",
      "#sudo tar -zxvf tophat-2.0.13.OSX_x86_64.tar.gz"
     ],
     "language": "python",
     "metadata": {},
     "outputs": [],
     "prompt_number": 21
    },
    {
     "cell_type": "code",
     "collapsed": false,
     "input": [
      "ls"
     ],
     "language": "python",
     "metadata": {},
     "outputs": [
      {
       "output_type": "stream",
       "stream": "stdout",
       "text": [
        "\u001b[35mTrimmomatic\u001b[m\u001b[m@                     \u001b[35mncbi-blast\u001b[m\u001b[m@\r\n",
        "\u001b[34mTrimmomatic-0.30\u001b[m\u001b[m/                \u001b[34mncbi-blast-2.2.29+\u001b[m\u001b[m/\r\n",
        "\u001b[35mTrinotate\u001b[m\u001b[m@                       \u001b[35mngsplot\u001b[m\u001b[m@\r\n",
        "\u001b[34mTrinotate_r20140708\u001b[m\u001b[m/             \u001b[34mngsplot-2.08\u001b[m\u001b[m/\r\n",
        "\u001b[34manaconda\u001b[m\u001b[m/                        \u001b[35mrsem\u001b[m\u001b[m@\r\n",
        "\u001b[35mbowtie\u001b[m\u001b[m@                          \u001b[34mrsem-1.2.10\u001b[m\u001b[m/\r\n",
        "\u001b[34mbowtie-1.0.0\u001b[m\u001b[m/                    \u001b[34msignalp-4.1\u001b[m\u001b[m/\r\n",
        "\u001b[35mbowtie2\u001b[m\u001b[m@                         source.sh\r\n",
        "\u001b[34mbowtie2-2.1.0\u001b[m\u001b[m/                   \u001b[35mstacks\u001b[m\u001b[m@\r\n",
        "\u001b[34mdbs\u001b[m\u001b[m/                             \u001b[34mstacks-1.13\u001b[m\u001b[m/\r\n",
        "\u001b[35mfastx_toolkit\u001b[m\u001b[m@                   \u001b[34mtophat-2.0.13.OSX_x86_64\u001b[m\u001b[m/\r\n",
        "\u001b[34mfastx_toolkit-0.0.13.2\u001b[m\u001b[m/          tophat-2.0.13.OSX_x86_64.tar.gz\r\n",
        "\u001b[35mhmmer\u001b[m\u001b[m@                           \u001b[35mtrinity\u001b[m\u001b[m@\r\n",
        "\u001b[34mhmmer-3.1b1\u001b[m\u001b[m/                     \u001b[34mtrinityrnaseq_r20131110\u001b[m\u001b[m/\r\n",
        "\u001b[34mlibgtextutils-0.6.1\u001b[m\u001b[m/\r\n"
       ]
      }
     ],
     "prompt_number": 22
    },
    {
     "cell_type": "code",
     "collapsed": false,
     "input": [
      "#removing the tophat gz file requires sudo\n",
      "#sudo rm tophat-2.0.13.OSX_x86_64.tar.gz"
     ],
     "language": "python",
     "metadata": {},
     "outputs": []
    },
    {
     "cell_type": "code",
     "collapsed": false,
     "input": [
      "pwd"
     ],
     "language": "python",
     "metadata": {},
     "outputs": [
      {
       "metadata": {},
       "output_type": "pyout",
       "prompt_number": 25,
       "text": [
        "u'/usr/local/bioinformatics'"
       ]
      }
     ],
     "prompt_number": 25
    },
    {
     "cell_type": "code",
     "collapsed": false,
     "input": [
      "ls"
     ],
     "language": "python",
     "metadata": {},
     "outputs": [
      {
       "output_type": "stream",
       "stream": "stdout",
       "text": [
        "\u001b[35mTrimmomatic\u001b[m\u001b[m@              \u001b[35mfastx_toolkit\u001b[m\u001b[m@            \u001b[34mrsem-1.2.10\u001b[m\u001b[m/\r\n",
        "\u001b[34mTrimmomatic-0.30\u001b[m\u001b[m/         \u001b[34mfastx_toolkit-0.0.13.2\u001b[m\u001b[m/   \u001b[34msignalp-4.1\u001b[m\u001b[m/\r\n",
        "\u001b[35mTrinotate\u001b[m\u001b[m@                \u001b[35mhmmer\u001b[m\u001b[m@                    source.sh\r\n",
        "\u001b[34mTrinotate_r20140708\u001b[m\u001b[m/      \u001b[34mhmmer-3.1b1\u001b[m\u001b[m/              \u001b[35mstacks\u001b[m\u001b[m@\r\n",
        "\u001b[34manaconda\u001b[m\u001b[m/                 \u001b[34mlibgtextutils-0.6.1\u001b[m\u001b[m/      \u001b[34mstacks-1.13\u001b[m\u001b[m/\r\n",
        "\u001b[35mbowtie\u001b[m\u001b[m@                   \u001b[35mncbi-blast\u001b[m\u001b[m@               \u001b[34mtophat-2.0.13.OSX_x86_64\u001b[m\u001b[m/\r\n",
        "\u001b[34mbowtie-1.0.0\u001b[m\u001b[m/             \u001b[34mncbi-blast-2.2.29+\u001b[m\u001b[m/       \u001b[35mtrinity\u001b[m\u001b[m@\r\n",
        "\u001b[35mbowtie2\u001b[m\u001b[m@                  \u001b[35mngsplot\u001b[m\u001b[m@                  \u001b[34mtrinityrnaseq_r20131110\u001b[m\u001b[m/\r\n",
        "\u001b[34mbowtie2-2.1.0\u001b[m\u001b[m/            \u001b[34mngsplot-2.08\u001b[m\u001b[m/\r\n",
        "\u001b[34mdbs\u001b[m\u001b[m/                      \u001b[35mrsem\u001b[m\u001b[m@\r\n"
       ]
      }
     ],
     "prompt_number": 26
    },
    {
     "cell_type": "code",
     "collapsed": false,
     "input": [
      "#Add Tophat to the PATH.  To do so, added \n",
      "#the following to the source.sh file (required sudo, so performed outside of IPython):\n",
      "# Tophat\n",
      "# export PATH=${BIO}/tophat-2.0.13.OSX_x86_64:${PATH}\n",
      "#exited SSH connection to restart shell in order to register changes to PATH"
     ],
     "language": "python",
     "metadata": {},
     "outputs": [],
     "prompt_number": 27
    },
    {
     "cell_type": "code",
     "collapsed": false,
     "input": [
      "#check that tophat is in the PATH\n",
      "!which tophat"
     ],
     "language": "python",
     "metadata": {},
     "outputs": [
      {
       "output_type": "stream",
       "stream": "stdout",
       "text": [
        "/usr/local/bioinformatics/tophat-2.0.13.OSX_x86_64/tophat\r\n"
       ]
      }
     ],
     "prompt_number": 1
    },
    {
     "cell_type": "code",
     "collapsed": false,
     "input": [
      "#success!"
     ],
     "language": "python",
     "metadata": {},
     "outputs": [],
     "prompt_number": 2
    },
    {
     "cell_type": "code",
     "collapsed": false,
     "input": [
      "#really want tophat2\n",
      "!which tophat2"
     ],
     "language": "python",
     "metadata": {},
     "outputs": [
      {
       "output_type": "stream",
       "stream": "stdout",
       "text": [
        "/usr/local/bioinformatics/tophat-2.0.13.OSX_x86_64/tophat2\r\n"
       ]
      }
     ],
     "prompt_number": 1
    },
    {
     "cell_type": "code",
     "collapsed": false,
     "input": [
      "#excellent!"
     ],
     "language": "python",
     "metadata": {},
     "outputs": [],
     "prompt_number": 2
    },
    {
     "cell_type": "code",
     "collapsed": false,
     "input": [
      "#build bowtie sequence index for use in TopHat\n",
      "#names output index Cgigas_ensembl_1.24\n",
      "#trying out time command for fun\n",
      "!time bowtie2-build -f /Volumes/Eagle/trilobite/Crassostrea_gigas_ensembl_tracks/Crassostrea_gigas.GCA_000297895.1.24.dna_sm.genome.fa /Volumes/Eagle/trilobite/Crassostrea_gigas_ensembl_tracks/Cgigas_ensembl_1.24"
     ],
     "language": "python",
     "metadata": {},
     "outputs": [
      {
       "output_type": "stream",
       "stream": "stdout",
       "text": [
        "Settings:\r\n",
        "  Output files: \"/Volumes/Eagle/trilobite/Crassostrea_gigas_ensembl_tracks/Cgigas_ensembl_1.24.*.bt2\"\r\n",
        "  Line rate: 6 (line is 64 bytes)\r\n",
        "  Lines per side: 1 (side is 64 bytes)\r\n",
        "  Offset rate: 4 (one in 16)\r\n",
        "  FTable chars: 10\r\n",
        "  Strings: unpacked\r\n",
        "  Max bucket size: default\r\n",
        "  Max bucket size, sqrt multiplier: default\r\n",
        "  Max bucket size, len divisor: 4\r\n",
        "  Difference-cover sample period: 1024\r\n",
        "  Endianness: little\r\n",
        "  Actual local endianness: little\r\n",
        "  Sanity checking: disabled\r\n",
        "  Assertions: disabled\r\n",
        "  Random seed: 0\r\n",
        "  Sizeofs: void*:8, int:4, long:8, size_t:8\r\n",
        "Input files DNA, FASTA:\r\n",
        "  /Volumes/Eagle/trilobite/Crassostrea_gigas_ensembl_tracks/Crassostrea_gigas.GCA_000297895.1.24.dna_sm.genome.fa\r\n"
       ]
      },
      {
       "output_type": "stream",
       "stream": "stdout",
       "text": [
        "Reading reference sizes\r\n"
       ]
      },
      {
       "output_type": "stream",
       "stream": "stdout",
       "text": [
        "  Time reading reference sizes: 00:00:11\r\n",
        "Calculating joined length\r\n",
        "Writing header\r\n",
        "Reserving space for joined string\r\n",
        "Joining reference sequences\r\n"
       ]
      },
      {
       "output_type": "stream",
       "stream": "stdout",
       "text": [
        "  Time to join reference sequences: 00:00:05\r\n",
        "bmax according to bmaxDivN setting: 122962645\r\n",
        "Using parameters --bmax 92221984 --dcv 1024\r\n",
        "  Doing ahead-of-time memory usage test\r\n"
       ]
      },
      {
       "output_type": "stream",
       "stream": "stdout",
       "text": [
        "  Passed!  Constructing with these parameters: --bmax 92221984 --dcv 1024\r\n"
       ]
      },
      {
       "output_type": "stream",
       "stream": "stdout",
       "text": [
        "Constructing suffix-array element generator\r\n",
        "Building DifferenceCoverSample\r\n",
        "  Building sPrime\r\n"
       ]
      },
      {
       "output_type": "stream",
       "stream": "stdout",
       "text": [
        "  Building sPrimeOrder\r\n"
       ]
      },
      {
       "output_type": "stream",
       "stream": "stdout",
       "text": [
        "  V-Sorting samples\r\n"
       ]
      },
      {
       "output_type": "stream",
       "stream": "stdout",
       "text": [
        "  V-Sorting samples time: 00:00:17\r\n",
        "  Allocating rank array\r\n",
        "  Ranking v-sort output\r\n"
       ]
      },
      {
       "output_type": "stream",
       "stream": "stdout",
       "text": [
        "  Ranking v-sort output time: 00:00:03\r\n",
        "  Invoking Larsson-Sadakane on ranks\r\n"
       ]
      },
      {
       "output_type": "stream",
       "stream": "stdout",
       "text": [
        "  Invoking Larsson-Sadakane on ranks time: 00:00:07\r\n",
        "  Sanity-checking and returning\r\n"
       ]
      },
      {
       "output_type": "stream",
       "stream": "stdout",
       "text": [
        "Building samples\r\n",
        "Reserving space for 12 sample suffixes\r\n",
        "Generating random suffixes\r\n",
        "QSorting 12 sample offsets, eliminating duplicates\r\n",
        "QSorting sample offsets, eliminating duplicates time: 00:00:00\r\n",
        "Multikey QSorting 12 samples\r\n",
        "  (Using difference cover)\r\n",
        "  Multikey QSorting samples time: 00:00:00\r\n",
        "Calculating bucket sizes\r\n",
        "  Binary sorting into buckets\r\n"
       ]
      },
      {
       "output_type": "stream",
       "stream": "stdout",
       "text": [
        "  10%\r\n"
       ]
      },
      {
       "output_type": "stream",
       "stream": "stdout",
       "text": [
        "  20%\r\n"
       ]
      },
      {
       "output_type": "stream",
       "stream": "stdout",
       "text": [
        "  30%\r\n"
       ]
      },
      {
       "output_type": "stream",
       "stream": "stdout",
       "text": [
        "  40%\r\n"
       ]
      },
      {
       "output_type": "stream",
       "stream": "stdout",
       "text": [
        "  50%\r\n"
       ]
      },
      {
       "output_type": "stream",
       "stream": "stdout",
       "text": [
        "  60%\r\n"
       ]
      },
      {
       "output_type": "stream",
       "stream": "stdout",
       "text": [
        "  70%\r\n"
       ]
      },
      {
       "output_type": "stream",
       "stream": "stdout",
       "text": [
        "  80%\r\n"
       ]
      },
      {
       "output_type": "stream",
       "stream": "stdout",
       "text": [
        "  90%\r\n"
       ]
      },
      {
       "output_type": "stream",
       "stream": "stdout",
       "text": [
        "  100%\r\n",
        "  Binary sorting into buckets time: 00:00:34\r\n",
        "Splitting and merging\r\n",
        "  Splitting and merging time: 00:00:00\r\n",
        "Split 2, merged 6; iterating...\r\n",
        "  Binary sorting into buckets\r\n"
       ]
      },
      {
       "output_type": "stream",
       "stream": "stdout",
       "text": [
        "  10%\r\n"
       ]
      },
      {
       "output_type": "stream",
       "stream": "stdout",
       "text": [
        "  20%\r\n"
       ]
      },
      {
       "output_type": "stream",
       "stream": "stdout",
       "text": [
        "  30%\r\n"
       ]
      },
      {
       "output_type": "stream",
       "stream": "stdout",
       "text": [
        "  40%\r\n"
       ]
      },
      {
       "output_type": "stream",
       "stream": "stdout",
       "text": [
        "  50%\r\n"
       ]
      },
      {
       "output_type": "stream",
       "stream": "stdout",
       "text": [
        "  60%\r\n"
       ]
      },
      {
       "output_type": "stream",
       "stream": "stdout",
       "text": [
        "  70%\r\n"
       ]
      },
      {
       "output_type": "stream",
       "stream": "stdout",
       "text": [
        "  80%\r\n"
       ]
      },
      {
       "output_type": "stream",
       "stream": "stdout",
       "text": [
        "  90%\r\n"
       ]
      },
      {
       "output_type": "stream",
       "stream": "stdout",
       "text": [
        "  100%\r\n",
        "  Binary sorting into buckets time: 00:00:29\r\n",
        "Splitting and merging\r\n",
        "  Splitting and merging time: 00:00:00\r\n",
        "Split 1, merged 2; iterating...\r\n",
        "  Binary sorting into buckets\r\n"
       ]
      },
      {
       "output_type": "stream",
       "stream": "stdout",
       "text": [
        "  10%\r\n"
       ]
      },
      {
       "output_type": "stream",
       "stream": "stdout",
       "text": [
        "  20%\r\n"
       ]
      },
      {
       "output_type": "stream",
       "stream": "stdout",
       "text": [
        "  30%\r\n"
       ]
      },
      {
       "output_type": "stream",
       "stream": "stdout",
       "text": [
        "  40%\r\n"
       ]
      },
      {
       "output_type": "stream",
       "stream": "stdout",
       "text": [
        "  50%\r\n"
       ]
      },
      {
       "output_type": "stream",
       "stream": "stdout",
       "text": [
        "  60%\r\n"
       ]
      },
      {
       "output_type": "stream",
       "stream": "stdout",
       "text": [
        "  70%\r\n"
       ]
      },
      {
       "output_type": "stream",
       "stream": "stdout",
       "text": [
        "  80%\r\n"
       ]
      },
      {
       "output_type": "stream",
       "stream": "stdout",
       "text": [
        "  90%\r\n"
       ]
      },
      {
       "output_type": "stream",
       "stream": "stdout",
       "text": [
        "  100%\r\n",
        "  Binary sorting into buckets time: 00:00:27\r\n",
        "Splitting and merging\r\n",
        "  Splitting and merging time: 00:00:00\r\n",
        "Avg bucket size: 7.02644e+07 (target: 92221983)\r\n",
        "Converting suffix-array elements to index image\r\n"
       ]
      },
      {
       "output_type": "stream",
       "stream": "stdout",
       "text": [
        "Allocating ftab, absorbFtab\r\n",
        "Entering Ebwt loop\r\n",
        "Getting block 1 of 7\r\n",
        "  Reserving size (92221984) for bucket\r\n",
        "  Calculating Z arrays\r\n",
        "  Calculating Z arrays time: 00:00:00\r\n",
        "  Entering block accumulator loop:\r\n"
       ]
      },
      {
       "output_type": "stream",
       "stream": "stdout",
       "text": [
        "  10%\r\n"
       ]
      },
      {
       "output_type": "stream",
       "stream": "stdout",
       "text": [
        "  20%\r\n"
       ]
      },
      {
       "output_type": "stream",
       "stream": "stdout",
       "text": [
        "  30%\r\n"
       ]
      },
      {
       "output_type": "stream",
       "stream": "stdout",
       "text": [
        "  40%\r\n"
       ]
      },
      {
       "output_type": "stream",
       "stream": "stdout",
       "text": [
        "  50%\r\n"
       ]
      },
      {
       "output_type": "stream",
       "stream": "stdout",
       "text": [
        "  60%\r\n"
       ]
      },
      {
       "output_type": "stream",
       "stream": "stdout",
       "text": [
        "  70%\r\n"
       ]
      },
      {
       "output_type": "stream",
       "stream": "stdout",
       "text": [
        "  80%\r\n"
       ]
      },
      {
       "output_type": "stream",
       "stream": "stdout",
       "text": [
        "  90%\r\n"
       ]
      },
      {
       "output_type": "stream",
       "stream": "stdout",
       "text": [
        "  100%\r\n",
        "  Block accumulator loop time: 00:00:08\r\n",
        "  Sorting block of length 69567612\r\n",
        "  (Using difference cover)\r\n"
       ]
      },
      {
       "output_type": "stream",
       "stream": "stdout",
       "text": [
        "  Sorting block time: 00:00:45\r\n",
        "Returning block of 69567613\r\n"
       ]
      },
      {
       "output_type": "stream",
       "stream": "stdout",
       "text": [
        "Getting block 2 of 7\r\n",
        "  Reserving size (92221984) for bucket\r\n",
        "  Calculating Z arrays\r\n",
        "  Calculating Z arrays time: 00:00:00\r\n",
        "  Entering block accumulator loop:\r\n"
       ]
      },
      {
       "output_type": "stream",
       "stream": "stdout",
       "text": [
        "  10%\r\n"
       ]
      },
      {
       "output_type": "stream",
       "stream": "stdout",
       "text": [
        "  20%\r\n"
       ]
      },
      {
       "output_type": "stream",
       "stream": "stdout",
       "text": [
        "  30%\r\n"
       ]
      },
      {
       "output_type": "stream",
       "stream": "stdout",
       "text": [
        "  40%\r\n"
       ]
      },
      {
       "output_type": "stream",
       "stream": "stdout",
       "text": [
        "  50%\r\n"
       ]
      },
      {
       "output_type": "stream",
       "stream": "stdout",
       "text": [
        "  60%\r\n"
       ]
      },
      {
       "output_type": "stream",
       "stream": "stdout",
       "text": [
        "  70%\r\n"
       ]
      },
      {
       "output_type": "stream",
       "stream": "stdout",
       "text": [
        "  80%\r\n"
       ]
      },
      {
       "output_type": "stream",
       "stream": "stdout",
       "text": [
        "  90%\r\n"
       ]
      },
      {
       "output_type": "stream",
       "stream": "stdout",
       "text": [
        "  100%\r\n",
        "  Block accumulator loop time: 00:00:11\r\n",
        "  Sorting block of length 58808042\r\n",
        "  (Using difference cover)\r\n"
       ]
      },
      {
       "output_type": "stream",
       "stream": "stdout",
       "text": [
        "  Sorting block time: 00:00:37\r\n",
        "Returning block of 58808043\r\n"
       ]
      },
      {
       "output_type": "stream",
       "stream": "stdout",
       "text": [
        "Getting block 3 of 7\r\n",
        "  Reserving size (92221984) for bucket\r\n",
        "  Calculating Z arrays\r\n",
        "  Calculating Z arrays time: 00:00:00\r\n",
        "  Entering block accumulator loop:\r\n"
       ]
      },
      {
       "output_type": "stream",
       "stream": "stdout",
       "text": [
        "  10%\r\n"
       ]
      },
      {
       "output_type": "stream",
       "stream": "stdout",
       "text": [
        "  20%\r\n"
       ]
      },
      {
       "output_type": "stream",
       "stream": "stdout",
       "text": [
        "  30%\r\n"
       ]
      },
      {
       "output_type": "stream",
       "stream": "stdout",
       "text": [
        "  40%\r\n"
       ]
      },
      {
       "output_type": "stream",
       "stream": "stdout",
       "text": [
        "  50%\r\n"
       ]
      },
      {
       "output_type": "stream",
       "stream": "stdout",
       "text": [
        "  60%\r\n"
       ]
      },
      {
       "output_type": "stream",
       "stream": "stdout",
       "text": [
        "  70%\r\n"
       ]
      },
      {
       "output_type": "stream",
       "stream": "stdout",
       "text": [
        "  80%\r\n"
       ]
      },
      {
       "output_type": "stream",
       "stream": "stdout",
       "text": [
        "  90%\r\n"
       ]
      },
      {
       "output_type": "stream",
       "stream": "stdout",
       "text": [
        "  100%\r\n",
        "  Block accumulator loop time: 00:00:12\r\n",
        "  Sorting block of length 85760048\r\n",
        "  (Using difference cover)\r\n"
       ]
      },
      {
       "output_type": "stream",
       "stream": "stdout",
       "text": [
        "  Sorting block time: 00:00:56\r\n",
        "Returning block of 85760049\r\n"
       ]
      },
      {
       "output_type": "stream",
       "stream": "stdout",
       "text": [
        "Getting block 4 of 7\r\n",
        "  Reserving size (92221984) for bucket\r\n",
        "  Calculating Z arrays\r\n",
        "  Calculating Z arrays time: 00:00:00\r\n",
        "  Entering block accumulator loop:\r\n"
       ]
      },
      {
       "output_type": "stream",
       "stream": "stdout",
       "text": [
        "  10%\r\n"
       ]
      },
      {
       "output_type": "stream",
       "stream": "stdout",
       "text": [
        "  20%\r\n"
       ]
      },
      {
       "output_type": "stream",
       "stream": "stdout",
       "text": [
        "  30%\r\n"
       ]
      },
      {
       "output_type": "stream",
       "stream": "stdout",
       "text": [
        "  40%\r\n"
       ]
      },
      {
       "output_type": "stream",
       "stream": "stdout",
       "text": [
        "  50%\r\n"
       ]
      },
      {
       "output_type": "stream",
       "stream": "stdout",
       "text": [
        "  60%\r\n"
       ]
      },
      {
       "output_type": "stream",
       "stream": "stdout",
       "text": [
        "  70%\r\n"
       ]
      },
      {
       "output_type": "stream",
       "stream": "stdout",
       "text": [
        "  80%\r\n"
       ]
      },
      {
       "output_type": "stream",
       "stream": "stdout",
       "text": [
        "  90%\r\n"
       ]
      },
      {
       "output_type": "stream",
       "stream": "stdout",
       "text": [
        "  100%\r\n",
        "  Block accumulator loop time: 00:00:12\r\n",
        "  Sorting block of length 91446711\r\n",
        "  (Using difference cover)\r\n"
       ]
      },
      {
       "output_type": "stream",
       "stream": "stdout",
       "text": [
        "  Sorting block time: 00:01:01\r\n",
        "Returning block of 91446712\r\n"
       ]
      },
      {
       "output_type": "stream",
       "stream": "stdout",
       "text": [
        "Getting block 5 of 7\r\n",
        "  Reserving size (92221984) for bucket\r\n",
        "  Calculating Z arrays\r\n",
        "  Calculating Z arrays time: 00:00:00\r\n",
        "  Entering block accumulator loop:\r\n"
       ]
      },
      {
       "output_type": "stream",
       "stream": "stdout",
       "text": [
        "  10%\r\n"
       ]
      },
      {
       "output_type": "stream",
       "stream": "stdout",
       "text": [
        "  20%\r\n"
       ]
      },
      {
       "output_type": "stream",
       "stream": "stdout",
       "text": [
        "  30%\r\n"
       ]
      },
      {
       "output_type": "stream",
       "stream": "stdout",
       "text": [
        "  40%\r\n"
       ]
      },
      {
       "output_type": "stream",
       "stream": "stdout",
       "text": [
        "  50%\r\n"
       ]
      },
      {
       "output_type": "stream",
       "stream": "stdout",
       "text": [
        "  60%\r\n"
       ]
      },
      {
       "output_type": "stream",
       "stream": "stdout",
       "text": [
        "  70%\r\n"
       ]
      },
      {
       "output_type": "stream",
       "stream": "stdout",
       "text": [
        "  80%\r\n"
       ]
      },
      {
       "output_type": "stream",
       "stream": "stdout",
       "text": [
        "  90%\r\n"
       ]
      },
      {
       "output_type": "stream",
       "stream": "stdout",
       "text": [
        "  100%\r\n",
        "  Block accumulator loop time: 00:00:13\r\n",
        "  Sorting block of length 73265046\r\n",
        "  (Using difference cover)\r\n"
       ]
      },
      {
       "output_type": "stream",
       "stream": "stdout",
       "text": [
        "  Sorting block time: 00:00:49\r\n",
        "Returning block of 73265047\r\n"
       ]
      },
      {
       "output_type": "stream",
       "stream": "stdout",
       "text": [
        "Getting block 6 of 7\r\n",
        "  Reserving size (92221984) for bucket\r\n",
        "  Calculating Z arrays\r\n",
        "  Calculating Z arrays time: 00:00:00\r\n",
        "  Entering block accumulator loop:\r\n"
       ]
      },
      {
       "output_type": "stream",
       "stream": "stdout",
       "text": [
        "  10%\r\n"
       ]
      },
      {
       "output_type": "stream",
       "stream": "stdout",
       "text": [
        "  20%\r\n"
       ]
      },
      {
       "output_type": "stream",
       "stream": "stdout",
       "text": [
        "  30%\r\n"
       ]
      },
      {
       "output_type": "stream",
       "stream": "stdout",
       "text": [
        "  40%\r\n"
       ]
      },
      {
       "output_type": "stream",
       "stream": "stdout",
       "text": [
        "  50%\r\n"
       ]
      },
      {
       "output_type": "stream",
       "stream": "stdout",
       "text": [
        "  60%\r\n"
       ]
      },
      {
       "output_type": "stream",
       "stream": "stdout",
       "text": [
        "  70%\r\n"
       ]
      },
      {
       "output_type": "stream",
       "stream": "stdout",
       "text": [
        "  80%\r\n"
       ]
      },
      {
       "output_type": "stream",
       "stream": "stdout",
       "text": [
        "  90%\r\n"
       ]
      },
      {
       "output_type": "stream",
       "stream": "stdout",
       "text": [
        "  100%\r\n",
        "  Block accumulator loop time: 00:00:13\r\n",
        "  Sorting block of length 47118669\r\n",
        "  (Using difference cover)\r\n"
       ]
      },
      {
       "output_type": "stream",
       "stream": "stdout",
       "text": [
        "  Sorting block time: 00:00:30\r\n",
        "Returning block of 47118670\r\n"
       ]
      },
      {
       "output_type": "stream",
       "stream": "stdout",
       "text": [
        "Getting block 7 of 7\r\n",
        "  Reserving size (92221984) for bucket\r\n",
        "  Calculating Z arrays\r\n",
        "  Calculating Z arrays time: 00:00:00\r\n",
        "  Entering block accumulator loop:\r\n"
       ]
      },
      {
       "output_type": "stream",
       "stream": "stdout",
       "text": [
        "  10%\r\n"
       ]
      },
      {
       "output_type": "stream",
       "stream": "stdout",
       "text": [
        "  20%\r\n"
       ]
      },
      {
       "output_type": "stream",
       "stream": "stdout",
       "text": [
        "  30%\r\n"
       ]
      },
      {
       "output_type": "stream",
       "stream": "stdout",
       "text": [
        "  40%\r\n"
       ]
      },
      {
       "output_type": "stream",
       "stream": "stdout",
       "text": [
        "  50%\r\n"
       ]
      },
      {
       "output_type": "stream",
       "stream": "stdout",
       "text": [
        "  60%\r\n"
       ]
      },
      {
       "output_type": "stream",
       "stream": "stdout",
       "text": [
        "  70%\r\n"
       ]
      },
      {
       "output_type": "stream",
       "stream": "stdout",
       "text": [
        "  80%\r\n"
       ]
      },
      {
       "output_type": "stream",
       "stream": "stdout",
       "text": [
        "  90%\r\n"
       ]
      },
      {
       "output_type": "stream",
       "stream": "stdout",
       "text": [
        "  100%\r\n",
        "  Block accumulator loop time: 00:00:10\r\n",
        "  Sorting block of length 65884449\r\n",
        "  (Using difference cover)\r\n"
       ]
      },
      {
       "output_type": "stream",
       "stream": "stdout",
       "text": [
        "  Sorting block time: 00:00:43\r\n",
        "Returning block of 65884450\r\n"
       ]
      },
      {
       "output_type": "stream",
       "stream": "stdout",
       "text": [
        "Exited Ebwt loop\r\n",
        "fchr[A]: 0\r\n",
        "fchr[C]: 163736299\r\n",
        "fchr[G]: 245918841\r\n",
        "fchr[T]: 328136522\r\n",
        "fchr[$]: 491850583\r\n"
       ]
      },
      {
       "output_type": "stream",
       "stream": "stdout",
       "text": [
        "Exiting Ebwt::buildToDisk()\r\n"
       ]
      },
      {
       "output_type": "stream",
       "stream": "stdout",
       "text": [
        "Returning from initFromVector\r\n"
       ]
      },
      {
       "output_type": "stream",
       "stream": "stdout",
       "text": [
        "Wrote 169124709 bytes to primary EBWT file: /Volumes/Eagle/trilobite/Crassostrea_gigas_ensembl_tracks/Cgigas_ensembl_1.24.1.bt2\r\n"
       ]
      },
      {
       "output_type": "stream",
       "stream": "stdout",
       "text": [
        "Wrote 122962652 bytes to secondary EBWT file: /Volumes/Eagle/trilobite/Crassostrea_gigas_ensembl_tracks/Cgigas_ensembl_1.24.2.bt2\r\n"
       ]
      },
      {
       "output_type": "stream",
       "stream": "stdout",
       "text": [
        "Re-opening _in1 and _in2 as input streams\r\n",
        "Returning from Ebwt constructor\r\n",
        "Headers:\r\n",
        "    len: 491850583\r\n",
        "    bwtLen: 491850584\r\n",
        "    sz: 122962646\r\n",
        "    bwtSz: 122962646\r\n",
        "    lineRate: 6\r\n",
        "    offRate: 4\r\n",
        "    offMask: 0xfffffff0\r\n",
        "    ftabChars: 10\r\n",
        "    eftabLen: 20\r\n",
        "    eftabSz: 80\r\n",
        "    ftabLen: 1048577\r\n",
        "    ftabSz: 4194308\r\n",
        "    offsLen: 30740662\r\n",
        "    offsSz: 122962648\r\n",
        "    lineSz: 64\r\n",
        "    sideSz: 64\r\n",
        "    sideBwtSz: 48\r\n",
        "    sideBwtLen: 192\r\n",
        "    numSides: 2561722\r\n",
        "    numLines: 2561722\r\n",
        "    ebwtTotLen: 163950208\r\n",
        "    ebwtTotSz: 163950208\r\n",
        "    color: 0\r\n",
        "    reverse: 0\r\n",
        "Total time for call to driver() for forward index: 00:10:22\r\n",
        "Reading reference sizes\r\n"
       ]
      },
      {
       "output_type": "stream",
       "stream": "stdout",
       "text": [
        "  Time reading reference sizes: 00:00:08\r\n"
       ]
      },
      {
       "output_type": "stream",
       "stream": "stdout",
       "text": [
        "Calculating joined length\r\n",
        "Writing header\r\n",
        "Reserving space for joined string\r\n",
        "Joining reference sequences\r\n"
       ]
      },
      {
       "output_type": "stream",
       "stream": "stdout",
       "text": [
        "  Time to join reference sequences: 00:00:05\r\n"
       ]
      },
      {
       "output_type": "stream",
       "stream": "stdout",
       "text": [
        "  Time to reverse reference sequence: 00:00:01\r\n",
        "bmax according to bmaxDivN setting: 122962645\r\n",
        "Using parameters --bmax 92221984 --dcv 1024\r\n",
        "  Doing ahead-of-time memory usage test\r\n"
       ]
      },
      {
       "output_type": "stream",
       "stream": "stdout",
       "text": [
        "  Passed!  Constructing with these parameters: --bmax 92221984 --dcv 1024\r\n"
       ]
      },
      {
       "output_type": "stream",
       "stream": "stdout",
       "text": [
        "Constructing suffix-array element generator\r\n",
        "Building DifferenceCoverSample\r\n",
        "  Building sPrime\r\n"
       ]
      },
      {
       "output_type": "stream",
       "stream": "stdout",
       "text": [
        "  Building sPrimeOrder\r\n"
       ]
      },
      {
       "output_type": "stream",
       "stream": "stdout",
       "text": [
        "  V-Sorting samples\r\n"
       ]
      },
      {
       "output_type": "stream",
       "stream": "stdout",
       "text": [
        "  V-Sorting samples time: 00:00:17\r\n",
        "  Allocating rank array\r\n",
        "  Ranking v-sort output\r\n"
       ]
      },
      {
       "output_type": "stream",
       "stream": "stdout",
       "text": [
        "  Ranking v-sort output time: 00:00:04\r\n",
        "  Invoking Larsson-Sadakane on ranks\r\n"
       ]
      },
      {
       "output_type": "stream",
       "stream": "stdout",
       "text": [
        "  Invoking Larsson-Sadakane on ranks time: 00:00:07\r\n",
        "  Sanity-checking and returning\r\n",
        "Building samples\r\n",
        "Reserving space for 12 sample suffixes\r\n",
        "Generating random suffixes\r\n",
        "QSorting 12 sample offsets, eliminating duplicates\r\n",
        "QSorting sample offsets, eliminating duplicates time: 00:00:00\r\n",
        "Multikey QSorting 12 samples\r\n",
        "  (Using difference cover)\r\n",
        "  Multikey QSorting samples time: 00:00:00\r\n",
        "Calculating bucket sizes\r\n",
        "  Binary sorting into buckets\r\n"
       ]
      },
      {
       "output_type": "stream",
       "stream": "stdout",
       "text": [
        "  10%\r\n"
       ]
      },
      {
       "output_type": "stream",
       "stream": "stdout",
       "text": [
        "  20%\r\n"
       ]
      },
      {
       "output_type": "stream",
       "stream": "stdout",
       "text": [
        "  30%\r\n"
       ]
      },
      {
       "output_type": "stream",
       "stream": "stdout",
       "text": [
        "  40%\r\n"
       ]
      },
      {
       "output_type": "stream",
       "stream": "stdout",
       "text": [
        "  50%\r\n"
       ]
      },
      {
       "output_type": "stream",
       "stream": "stdout",
       "text": [
        "  60%\r\n"
       ]
      },
      {
       "output_type": "stream",
       "stream": "stdout",
       "text": [
        "  70%\r\n"
       ]
      },
      {
       "output_type": "stream",
       "stream": "stdout",
       "text": [
        "  80%\r\n"
       ]
      },
      {
       "output_type": "stream",
       "stream": "stdout",
       "text": [
        "  90%\r\n"
       ]
      },
      {
       "output_type": "stream",
       "stream": "stdout",
       "text": [
        "  100%\r\n",
        "  Binary sorting into buckets time: 00:00:35\r\n",
        "Splitting and merging\r\n",
        "  Splitting and merging time: 00:00:00\r\n",
        "Split 2, merged 6; iterating...\r\n",
        "  Binary sorting into buckets\r\n"
       ]
      },
      {
       "output_type": "stream",
       "stream": "stdout",
       "text": [
        "  10%\r\n"
       ]
      },
      {
       "output_type": "stream",
       "stream": "stdout",
       "text": [
        "  20%\r\n"
       ]
      },
      {
       "output_type": "stream",
       "stream": "stdout",
       "text": [
        "  30%\r\n"
       ]
      },
      {
       "output_type": "stream",
       "stream": "stdout",
       "text": [
        "  40%\r\n"
       ]
      },
      {
       "output_type": "stream",
       "stream": "stdout",
       "text": [
        "  50%\r\n"
       ]
      },
      {
       "output_type": "stream",
       "stream": "stdout",
       "text": [
        "  60%\r\n"
       ]
      },
      {
       "output_type": "stream",
       "stream": "stdout",
       "text": [
        "  70%\r\n"
       ]
      },
      {
       "output_type": "stream",
       "stream": "stdout",
       "text": [
        "  80%\r\n"
       ]
      },
      {
       "output_type": "stream",
       "stream": "stdout",
       "text": [
        "  90%\r\n"
       ]
      },
      {
       "output_type": "stream",
       "stream": "stdout",
       "text": [
        "  100%\r\n",
        "  Binary sorting into buckets time: 00:00:30\r\n",
        "Splitting and merging\r\n",
        "  Splitting and merging time: 00:00:00\r\n",
        "Split 1, merged 2; iterating...\r\n",
        "  Binary sorting into buckets\r\n"
       ]
      },
      {
       "output_type": "stream",
       "stream": "stdout",
       "text": [
        "  10%\r\n"
       ]
      },
      {
       "output_type": "stream",
       "stream": "stdout",
       "text": [
        "  20%\r\n"
       ]
      },
      {
       "output_type": "stream",
       "stream": "stdout",
       "text": [
        "  30%\r\n"
       ]
      },
      {
       "output_type": "stream",
       "stream": "stdout",
       "text": [
        "  40%\r\n"
       ]
      },
      {
       "output_type": "stream",
       "stream": "stdout",
       "text": [
        "  50%\r\n"
       ]
      },
      {
       "output_type": "stream",
       "stream": "stdout",
       "text": [
        "  60%\r\n"
       ]
      },
      {
       "output_type": "stream",
       "stream": "stdout",
       "text": [
        "  70%\r\n"
       ]
      },
      {
       "output_type": "stream",
       "stream": "stdout",
       "text": [
        "  80%\r\n"
       ]
      },
      {
       "output_type": "stream",
       "stream": "stdout",
       "text": [
        "  90%\r\n"
       ]
      },
      {
       "output_type": "stream",
       "stream": "stdout",
       "text": [
        "  100%\r\n",
        "  Binary sorting into buckets time: 00:00:29\r\n",
        "Splitting and merging\r\n",
        "  Splitting and merging time: 00:00:00\r\n",
        "Avg bucket size: 7.02644e+07 (target: 92221983)\r\n",
        "Converting suffix-array elements to index image\r\n",
        "Allocating ftab, absorbFtab\r\n",
        "Entering Ebwt loop\r\n",
        "Getting block 1 of 7\r\n",
        "  Reserving size (92221984) for bucket\r\n",
        "  Calculating Z arrays\r\n",
        "  Calculating Z arrays time: 00:00:00\r\n",
        "  Entering block accumulator loop:\r\n"
       ]
      },
      {
       "output_type": "stream",
       "stream": "stdout",
       "text": [
        "  10%\r\n"
       ]
      },
      {
       "output_type": "stream",
       "stream": "stdout",
       "text": [
        "  20%\r\n"
       ]
      },
      {
       "output_type": "stream",
       "stream": "stdout",
       "text": [
        "  30%\r\n"
       ]
      },
      {
       "output_type": "stream",
       "stream": "stdout",
       "text": [
        "  40%\r\n"
       ]
      },
      {
       "output_type": "stream",
       "stream": "stdout",
       "text": [
        "  50%\r\n"
       ]
      },
      {
       "output_type": "stream",
       "stream": "stdout",
       "text": [
        "  60%\r\n"
       ]
      },
      {
       "output_type": "stream",
       "stream": "stdout",
       "text": [
        "  70%\r\n"
       ]
      },
      {
       "output_type": "stream",
       "stream": "stdout",
       "text": [
        "  80%\r\n"
       ]
      },
      {
       "output_type": "stream",
       "stream": "stdout",
       "text": [
        "  90%\r\n"
       ]
      },
      {
       "output_type": "stream",
       "stream": "stdout",
       "text": [
        "  100%\r\n",
        "  Block accumulator loop time: 00:00:09\r\n",
        "  Sorting block of length 87003713\r\n",
        "  (Using difference cover)\r\n"
       ]
      },
      {
       "output_type": "stream",
       "stream": "stdout",
       "text": [
        "  Sorting block time: 00:00:57\r\n",
        "Returning block of 87003714\r\n"
       ]
      },
      {
       "output_type": "stream",
       "stream": "stdout",
       "text": [
        "Getting block 2 of 7\r\n",
        "  Reserving size (92221984) for bucket\r\n",
        "  Calculating Z arrays\r\n",
        "  Calculating Z arrays time: 00:00:00\r\n",
        "  Entering block accumulator loop:\r\n"
       ]
      },
      {
       "output_type": "stream",
       "stream": "stdout",
       "text": [
        "  10%\r\n"
       ]
      },
      {
       "output_type": "stream",
       "stream": "stdout",
       "text": [
        "  20%\r\n"
       ]
      },
      {
       "output_type": "stream",
       "stream": "stdout",
       "text": [
        "  30%\r\n"
       ]
      },
      {
       "output_type": "stream",
       "stream": "stdout",
       "text": [
        "  40%\r\n"
       ]
      },
      {
       "output_type": "stream",
       "stream": "stdout",
       "text": [
        "  50%\r\n"
       ]
      },
      {
       "output_type": "stream",
       "stream": "stdout",
       "text": [
        "  60%\r\n"
       ]
      },
      {
       "output_type": "stream",
       "stream": "stdout",
       "text": [
        "  70%\r\n"
       ]
      },
      {
       "output_type": "stream",
       "stream": "stdout",
       "text": [
        "  80%\r\n"
       ]
      },
      {
       "output_type": "stream",
       "stream": "stdout",
       "text": [
        "  90%\r\n"
       ]
      },
      {
       "output_type": "stream",
       "stream": "stdout",
       "text": [
        "  100%\r\n",
        "  Block accumulator loop time: 00:00:11\r\n",
        "  Sorting block of length 68452203\r\n",
        "  (Using difference cover)\r\n"
       ]
      },
      {
       "output_type": "stream",
       "stream": "stdout",
       "text": [
        "  Sorting block time: 00:00:44\r\n",
        "Returning block of 68452204\r\n"
       ]
      },
      {
       "output_type": "stream",
       "stream": "stdout",
       "text": [
        "Getting block 3 of 7\r\n",
        "  Reserving size (92221984) for bucket\r\n",
        "  Calculating Z arrays\r\n",
        "  Calculating Z arrays time: 00:00:00\r\n",
        "  Entering block accumulator loop:\r\n"
       ]
      },
      {
       "output_type": "stream",
       "stream": "stdout",
       "text": [
        "  10%\r\n"
       ]
      },
      {
       "output_type": "stream",
       "stream": "stdout",
       "text": [
        "  20%\r\n"
       ]
      },
      {
       "output_type": "stream",
       "stream": "stdout",
       "text": [
        "  30%\r\n"
       ]
      },
      {
       "output_type": "stream",
       "stream": "stdout",
       "text": [
        "  40%\r\n"
       ]
      },
      {
       "output_type": "stream",
       "stream": "stdout",
       "text": [
        "  50%\r\n"
       ]
      },
      {
       "output_type": "stream",
       "stream": "stdout",
       "text": [
        "  60%\r\n"
       ]
      },
      {
       "output_type": "stream",
       "stream": "stdout",
       "text": [
        "  70%\r\n"
       ]
      },
      {
       "output_type": "stream",
       "stream": "stdout",
       "text": [
        "  80%\r\n"
       ]
      },
      {
       "output_type": "stream",
       "stream": "stdout",
       "text": [
        "  90%\r\n"
       ]
      },
      {
       "output_type": "stream",
       "stream": "stdout",
       "text": [
        "  100%\r\n",
        "  Block accumulator loop time: 00:00:12\r\n",
        "  Sorting block of length 90462922\r\n",
        "  (Using difference cover)\r\n"
       ]
      },
      {
       "output_type": "stream",
       "stream": "stdout",
       "text": [
        "  Sorting block time: 00:01:00\r\n",
        "Returning block of 90462923\r\n"
       ]
      },
      {
       "output_type": "stream",
       "stream": "stdout",
       "text": [
        "Getting block 4 of 7\r\n",
        "  Reserving size (92221984) for bucket\r\n",
        "  Calculating Z arrays\r\n",
        "  Calculating Z arrays time: 00:00:00\r\n",
        "  Entering block accumulator loop:\r\n"
       ]
      },
      {
       "output_type": "stream",
       "stream": "stdout",
       "text": [
        "  10%\r\n"
       ]
      },
      {
       "output_type": "stream",
       "stream": "stdout",
       "text": [
        "  20%\r\n"
       ]
      },
      {
       "output_type": "stream",
       "stream": "stdout",
       "text": [
        "  30%\r\n"
       ]
      },
      {
       "output_type": "stream",
       "stream": "stdout",
       "text": [
        "  40%\r\n"
       ]
      },
      {
       "output_type": "stream",
       "stream": "stdout",
       "text": [
        "  50%\r\n"
       ]
      },
      {
       "output_type": "stream",
       "stream": "stdout",
       "text": [
        "  60%\r\n"
       ]
      },
      {
       "output_type": "stream",
       "stream": "stdout",
       "text": [
        "  70%\r\n"
       ]
      },
      {
       "output_type": "stream",
       "stream": "stdout",
       "text": [
        "  80%\r\n"
       ]
      },
      {
       "output_type": "stream",
       "stream": "stdout",
       "text": [
        "  90%\r\n"
       ]
      },
      {
       "output_type": "stream",
       "stream": "stdout",
       "text": [
        "  100%\r\n",
        "  Block accumulator loop time: 00:00:14\r\n",
        "  Sorting block of length 91226524\r\n",
        "  (Using difference cover)\r\n"
       ]
      },
      {
       "output_type": "stream",
       "stream": "stdout",
       "text": [
        "  Sorting block time: 00:01:00\r\n",
        "Returning block of 91226525\r\n"
       ]
      },
      {
       "output_type": "stream",
       "stream": "stdout",
       "text": [
        "Getting block 5 of 7\r\n",
        "  Reserving size (92221984) for bucket\r\n",
        "  Calculating Z arrays\r\n",
        "  Calculating Z arrays time: 00:00:00\r\n",
        "  Entering block accumulator loop:\r\n"
       ]
      },
      {
       "output_type": "stream",
       "stream": "stdout",
       "text": [
        "  10%\r\n"
       ]
      },
      {
       "output_type": "stream",
       "stream": "stdout",
       "text": [
        "  20%\r\n"
       ]
      },
      {
       "output_type": "stream",
       "stream": "stdout",
       "text": [
        "  30%\r\n"
       ]
      },
      {
       "output_type": "stream",
       "stream": "stdout",
       "text": [
        "  40%\r\n"
       ]
      },
      {
       "output_type": "stream",
       "stream": "stdout",
       "text": [
        "  50%\r\n"
       ]
      },
      {
       "output_type": "stream",
       "stream": "stdout",
       "text": [
        "  60%\r\n"
       ]
      },
      {
       "output_type": "stream",
       "stream": "stdout",
       "text": [
        "  70%\r\n"
       ]
      },
      {
       "output_type": "stream",
       "stream": "stdout",
       "text": [
        "  80%\r\n"
       ]
      },
      {
       "output_type": "stream",
       "stream": "stdout",
       "text": [
        "  90%\r\n"
       ]
      },
      {
       "output_type": "stream",
       "stream": "stdout",
       "text": [
        "  100%\r\n",
        "  Block accumulator loop time: 00:00:13\r\n",
        "  Sorting block of length 60964278\r\n",
        "  (Using difference cover)\r\n"
       ]
      },
      {
       "output_type": "stream",
       "stream": "stdout",
       "text": [
        "  Sorting block time: 00:00:39\r\n",
        "Returning block of 60964279\r\n"
       ]
      },
      {
       "output_type": "stream",
       "stream": "stdout",
       "text": [
        "Getting block 6 of 7\r\n",
        "  Reserving size (92221984) for bucket\r\n",
        "  Calculating Z arrays\r\n",
        "  Calculating Z arrays time: 00:00:00\r\n",
        "  Entering block accumulator loop:\r\n"
       ]
      },
      {
       "output_type": "stream",
       "stream": "stdout",
       "text": [
        "  10%\r\n"
       ]
      },
      {
       "output_type": "stream",
       "stream": "stdout",
       "text": [
        "  20%\r\n"
       ]
      },
      {
       "output_type": "stream",
       "stream": "stdout",
       "text": [
        "  30%\r\n"
       ]
      },
      {
       "output_type": "stream",
       "stream": "stdout",
       "text": [
        "  40%\r\n"
       ]
      },
      {
       "output_type": "stream",
       "stream": "stdout",
       "text": [
        "  50%\r\n"
       ]
      },
      {
       "output_type": "stream",
       "stream": "stdout",
       "text": [
        "  60%\r\n"
       ]
      },
      {
       "output_type": "stream",
       "stream": "stdout",
       "text": [
        "  70%\r\n"
       ]
      },
      {
       "output_type": "stream",
       "stream": "stdout",
       "text": [
        "  80%\r\n"
       ]
      },
      {
       "output_type": "stream",
       "stream": "stdout",
       "text": [
        "  90%\r\n"
       ]
      },
      {
       "output_type": "stream",
       "stream": "stdout",
       "text": [
        "  100%\r\n",
        "  Block accumulator loop time: 00:00:13\r\n",
        "  Sorting block of length 51812986\r\n",
        "  (Using difference cover)\r\n"
       ]
      },
      {
       "output_type": "stream",
       "stream": "stdout",
       "text": [
        "  Sorting block time: 00:00:33\r\n",
        "Returning block of 51812987\r\n"
       ]
      },
      {
       "output_type": "stream",
       "stream": "stdout",
       "text": [
        "Getting block 7 of 7\r\n",
        "  Reserving size (92221984) for bucket\r\n",
        "  Calculating Z arrays\r\n",
        "  Calculating Z arrays time: 00:00:00\r\n",
        "  Entering block accumulator loop:\r\n"
       ]
      },
      {
       "output_type": "stream",
       "stream": "stdout",
       "text": [
        "  10%\r\n"
       ]
      },
      {
       "output_type": "stream",
       "stream": "stdout",
       "text": [
        "  20%\r\n"
       ]
      },
      {
       "output_type": "stream",
       "stream": "stdout",
       "text": [
        "  30%\r\n"
       ]
      },
      {
       "output_type": "stream",
       "stream": "stdout",
       "text": [
        "  40%\r\n"
       ]
      },
      {
       "output_type": "stream",
       "stream": "stdout",
       "text": [
        "  50%\r\n"
       ]
      },
      {
       "output_type": "stream",
       "stream": "stdout",
       "text": [
        "  60%\r\n"
       ]
      },
      {
       "output_type": "stream",
       "stream": "stdout",
       "text": [
        "  70%\r\n"
       ]
      },
      {
       "output_type": "stream",
       "stream": "stdout",
       "text": [
        "  80%\r\n"
       ]
      },
      {
       "output_type": "stream",
       "stream": "stdout",
       "text": [
        "  90%\r\n"
       ]
      },
      {
       "output_type": "stream",
       "stream": "stdout",
       "text": [
        "  100%\r\n",
        "  Block accumulator loop time: 00:00:09\r\n",
        "  Sorting block of length 41927951\r\n",
        "  (Using difference cover)\r\n"
       ]
      },
      {
       "output_type": "stream",
       "stream": "stdout",
       "text": [
        "  Sorting block time: 00:00:27\r\n",
        "Returning block of 41927952\r\n"
       ]
      },
      {
       "output_type": "stream",
       "stream": "stdout",
       "text": [
        "Exited Ebwt loop\r\n",
        "fchr[A]: 0\r\n",
        "fchr[C]: 163736299\r\n",
        "fchr[G]: 245918841\r\n",
        "fchr[T]: 328136522\r\n",
        "fchr[$]: 491850583\r\n"
       ]
      },
      {
       "output_type": "stream",
       "stream": "stdout",
       "text": [
        "Exiting Ebwt::buildToDisk()\r\n"
       ]
      },
      {
       "output_type": "stream",
       "stream": "stdout",
       "text": [
        "Returning from initFromVector\r\n"
       ]
      },
      {
       "output_type": "stream",
       "stream": "stdout",
       "text": [
        "Wrote 169124709 bytes to primary EBWT file: /Volumes/Eagle/trilobite/Crassostrea_gigas_ensembl_tracks/Cgigas_ensembl_1.24.rev.1.bt2\r\n"
       ]
      },
      {
       "output_type": "stream",
       "stream": "stdout",
       "text": [
        "Wrote 122962652 bytes to secondary EBWT file: /Volumes/Eagle/trilobite/Crassostrea_gigas_ensembl_tracks/Cgigas_ensembl_1.24.rev.2.bt2\r\n"
       ]
      },
      {
       "output_type": "stream",
       "stream": "stdout",
       "text": [
        "Re-opening _in1 and _in2 as input streams\r\n",
        "Returning from Ebwt constructor\r\n",
        "Headers:\r\n",
        "    len: 491850583\r\n",
        "    bwtLen: 491850584\r\n",
        "    sz: 122962646\r\n",
        "    bwtSz: 122962646\r\n",
        "    lineRate: 6\r\n",
        "    offRate: 4\r\n",
        "    offMask: 0xfffffff0\r\n",
        "    ftabChars: 10\r\n",
        "    eftabLen: 20\r\n",
        "    eftabSz: 80\r\n",
        "    ftabLen: 1048577\r\n",
        "    ftabSz: 4194308\r\n",
        "    offsLen: 30740662\r\n",
        "    offsSz: 122962648\r\n",
        "    lineSz: 64\r\n",
        "    sideSz: 64\r\n",
        "    sideBwtSz: 48\r\n",
        "    sideBwtLen: 192\r\n",
        "    numSides: 2561722\r\n",
        "    numLines: 2561722\r\n",
        "    ebwtTotLen: 163950208\r\n",
        "    ebwtTotSz: 163950208\r\n",
        "    color: 0\r\n",
        "    reverse: 1\r\n",
        "Total time for backward call to driver() for mirror index: 00:10:26\r\n"
       ]
      },
      {
       "output_type": "stream",
       "stream": "stdout",
       "text": [
        "\r\n",
        "real\t20m47.690s\r\n",
        "user\t20m30.364s\r\n",
        "sys\t0m7.826s\r\n"
       ]
      }
     ],
     "prompt_number": 6
    },
    {
     "cell_type": "code",
     "collapsed": false,
     "input": [
      "#check for output files\n",
      "!find /Volumes/Eagle/trilobite/Crassostrea_gigas_ensembl_tracks/ -name \"Cgigas_ensembl_*\""
     ],
     "language": "python",
     "metadata": {},
     "outputs": [
      {
       "output_type": "stream",
       "stream": "stdout",
       "text": [
        "/Volumes/Eagle/trilobite/Crassostrea_gigas_ensembl_tracks//Cgigas_ensembl_1.24.rev.1.bt2\r\n",
        "/Volumes/Eagle/trilobite/Crassostrea_gigas_ensembl_tracks//Cgigas_ensembl_1.24.rev.2.bt2\r\n",
        "/Volumes/Eagle/trilobite/Crassostrea_gigas_ensembl_tracks//Cgigas_ensembl_1.24.3.bt2\r\n",
        "/Volumes/Eagle/trilobite/Crassostrea_gigas_ensembl_tracks//Cgigas_ensembl_1.24.4.bt2\r\n",
        "/Volumes/Eagle/trilobite/Crassostrea_gigas_ensembl_tracks//Cgigas_ensembl_1.24.1.bt2\r\n",
        "/Volumes/Eagle/trilobite/Crassostrea_gigas_ensembl_tracks//Cgigas_ensembl_1.24.2.bt2\r\n"
       ]
      }
     ],
     "prompt_number": 7
    },
    {
     "cell_type": "code",
     "collapsed": false,
     "input": [
      "pwd"
     ],
     "language": "python",
     "metadata": {},
     "outputs": [
      {
       "metadata": {},
       "output_type": "pyout",
       "prompt_number": 1,
       "text": [
        "u'/Volumes/Data/Sam/fish546_2015'"
       ]
      }
     ],
     "prompt_number": 1
    },
    {
     "cell_type": "code",
     "collapsed": false,
     "input": [
      "cd cd gigasHSrnaSeq/analysis/"
     ],
     "language": "python",
     "metadata": {},
     "outputs": [
      {
       "output_type": "stream",
       "stream": "stdout",
       "text": [
        "[Errno 2] No such file or directory: 'cd gigasHSrnaSeq/analysis/'\n",
        "/Volumes/Data/Sam/fish546_2015\n"
       ]
      }
     ],
     "prompt_number": 2
    },
    {
     "cell_type": "code",
     "collapsed": false,
     "input": [
      "#changed to this directory due to lack of space on primary\n",
      "#HDD in Hummingbird\n",
      "cd gigasHSrnaSeq/analysis/"
     ],
     "language": "python",
     "metadata": {},
     "outputs": [
      {
       "output_type": "stream",
       "stream": "stdout",
       "text": [
        "/Volumes/Data/Sam/fish546_2015/gigasHSrnaSeq/analysis\n"
       ]
      }
     ],
     "prompt_number": 3
    },
    {
     "cell_type": "code",
     "collapsed": false,
     "input": [
      "#Run tophat2 using 7 CPU threads (-p 7) on 3 non-HS samples\n",
      "#output should end up in this directory\n",
      "!time tophat2 -p 7 /Volumes/Eagle/trilobite/Crassostrea_gigas_ensembl_tracks/Crassostrea_gigas.GCA_000297895.1.24.dna_sm.genome \\\n",
      "/Volumes/Owl/nightingales/C_gigas/2M_AGTCAA_L001_R1_001.fastq.gz,\\\n",
      "/Volumes/Owl/nightingales/C_gigas/4M_AGTTCC_L001_R1_001.fastq.gz,\\\n",
      "/Volumes/Owl/nightingales/C_gigas/6M_ATGTCA_L001_R1_001.fastq.gz"
     ],
     "language": "python",
     "metadata": {},
     "outputs": [
      {
       "output_type": "stream",
       "stream": "stdout",
       "text": [
        "\r\n",
        "[2015-01-20 14:42:20] Beginning TopHat run (v2.0.13)\r\n",
        "-----------------------------------------------\r\n",
        "[2015-01-20 14:42:20] Checking for Bowtie\r\n"
       ]
      },
      {
       "output_type": "stream",
       "stream": "stdout",
       "text": [
        "\t\t  Bowtie version:\t 2.1.0.0\r\n",
        "[2015-01-20 14:42:20] Checking for Bowtie index files (genome)..\r\n",
        "[2015-01-20 14:42:20] Checking for reference FASTA file\r\n",
        "[2015-01-20 14:42:20] Generating SAM header for /Volumes/Eagle/trilobite/Crassostrea_gigas_ensembl_tracks/Crassostrea_gigas.GCA_000297895.1.24.dna_sm.genome\r\n"
       ]
      },
      {
       "output_type": "stream",
       "stream": "stdout",
       "text": [
        "[2015-01-20 14:42:30] Preparing reads\r\n"
       ]
      },
      {
       "output_type": "stream",
       "stream": "stdout",
       "text": [
        "\t left reads: min. length=101, max. length=101, 76124033 kept reads (488712 discarded)\r\n"
       ]
      },
      {
       "output_type": "stream",
       "stream": "stdout",
       "text": [
        "[2015-01-20 15:37:52] Mapping left_kept_reads to genome Crassostrea_gigas.GCA_000297895.1.24.dna_sm.genome with Bowtie2 \r\n"
       ]
      },
      {
       "output_type": "stream",
       "stream": "stdout",
       "text": [
        "[2015-01-20 18:02:54] Mapping left_kept_reads_seg1 to genome Crassostrea_gigas.GCA_000297895.1.24.dna_sm.genome with Bowtie2 (1/4)\r\n"
       ]
      },
      {
       "output_type": "stream",
       "stream": "stdout",
       "text": [
        "[2015-01-20 18:18:43] Mapping left_kept_reads_seg2 to genome Crassostrea_gigas.GCA_000297895.1.24.dna_sm.genome with Bowtie2 (2/4)\r\n"
       ]
      },
      {
       "output_type": "stream",
       "stream": "stdout",
       "text": [
        "[2015-01-20 18:35:05] Mapping left_kept_reads_seg3 to genome Crassostrea_gigas.GCA_000297895.1.24.dna_sm.genome with Bowtie2 (3/4)\r\n"
       ]
      },
      {
       "output_type": "stream",
       "stream": "stdout",
       "text": [
        "[2015-01-20 18:51:12] Mapping left_kept_reads_seg4 to genome Crassostrea_gigas.GCA_000297895.1.24.dna_sm.genome with Bowtie2 (4/4)\r\n"
       ]
      },
      {
       "output_type": "stream",
       "stream": "stdout",
       "text": [
        "[2015-01-20 19:13:52] Searching for junctions via segment mapping\r\n"
       ]
      },
      {
       "output_type": "stream",
       "stream": "stdout",
       "text": [
        "[2015-01-20 19:30:16] Retrieving sequences for splices\r\n"
       ]
      },
      {
       "output_type": "stream",
       "stream": "stdout",
       "text": [
        "[2015-01-20 19:30:56] Indexing splices\r\n"
       ]
      },
      {
       "output_type": "stream",
       "stream": "stdout",
       "text": [
        "[2015-01-20 19:33:25] Mapping left_kept_reads_seg1 to genome segment_juncs with Bowtie2 (1/4)\r\n"
       ]
      },
      {
       "output_type": "stream",
       "stream": "stdout",
       "text": [
        "[2015-01-20 19:42:23] Mapping left_kept_reads_seg2 to genome segment_juncs with Bowtie2 (2/4)\r\n"
       ]
      },
      {
       "output_type": "stream",
       "stream": "stdout",
       "text": [
        "[2015-01-20 19:51:26] Mapping left_kept_reads_seg3 to genome segment_juncs with Bowtie2 (3/4)\r\n"
       ]
      },
      {
       "output_type": "stream",
       "stream": "stdout",
       "text": [
        "[2015-01-20 20:00:04] Mapping left_kept_reads_seg4 to genome segment_juncs with Bowtie2 (4/4)\r\n"
       ]
      },
      {
       "output_type": "stream",
       "stream": "stdout",
       "text": [
        "[2015-01-20 20:10:57] Joining segment hits\r\n"
       ]
      },
      {
       "output_type": "stream",
       "stream": "stdout",
       "text": [
        "[2015-01-20 20:42:25] Reporting output tracks\r\n"
       ]
      },
      {
       "output_type": "stream",
       "stream": "stdout",
       "text": [
        "-----------------------------------------------\r\n",
        "[2015-01-20 21:38:49] A summary of the alignment counts can be found in ./tophat_out/align_summary.txt\r\n",
        "[2015-01-20 21:38:50] Run complete: 06:56:29 elapsed\r\n",
        "\r\n",
        "real\t416m29.894s\r\n",
        "user\t1848m44.769s\r\n",
        "sys\t88m24.023s\r\n"
       ]
      }
     ],
     "prompt_number": 7
    },
    {
     "cell_type": "code",
     "collapsed": false,
     "input": [
      "#Run tophat2 using 7 CPU threads (-p 7) on 3 HS samples\n",
      "#output should end up in this directory\n",
      "!time tophat2 -p 7 /Volumes/Eagle/trilobite/Crassostrea_gigas_ensembl_tracks/Crassostrea_gigas.GCA_000297895.1.24.dna_sm.genome \\\n",
      "/Volumes/Owl/nightingales/C_gigas/2M-HS_CCGTCC_L001_R1_001.fastq.gz,\\\n",
      "/Volumes/Owl/nightingales/C_gigas/4M-HS_GTCCGC_L001_R1_001.fastq.gz,\\\n",
      "/Volumes/Owl/nightingales/C_gigas/6M-HS_GTGAAA_L001_R1_001.fastq.gz"
     ],
     "language": "python",
     "metadata": {},
     "outputs": [
      {
       "output_type": "stream",
       "stream": "stdout",
       "text": [
        "\r\n",
        "[2015-01-21 09:17:22] Beginning TopHat run (v2.0.13)\r\n",
        "-----------------------------------------------\r\n",
        "[2015-01-21 09:17:22] Checking for Bowtie\r\n"
       ]
      },
      {
       "output_type": "stream",
       "stream": "stdout",
       "text": [
        "\t\t  Bowtie version:\t 2.1.0.0\r\n",
        "[2015-01-21 09:17:23] Checking for Bowtie index files (genome)..\r\n"
       ]
      },
      {
       "output_type": "stream",
       "stream": "stdout",
       "text": [
        "[2015-01-21 09:17:23] Checking for reference FASTA file\r\n"
       ]
      },
      {
       "output_type": "stream",
       "stream": "stdout",
       "text": [
        "[2015-01-21 09:17:23] Generating SAM header for /Volumes/Eagle/trilobite/Crassostrea_gigas_ensembl_tracks/Crassostrea_gigas.GCA_000297895.1.24.dna_sm.genome\r\n"
       ]
      },
      {
       "output_type": "stream",
       "stream": "stdout",
       "text": [
        "[2015-01-21 09:17:33] Preparing reads\r\n"
       ]
      },
      {
       "output_type": "stream",
       "stream": "stdout",
       "text": [
        "\t left reads: min. length=101, max. length=101, 59205358 kept reads (1361814 discarded)\r\n"
       ]
      },
      {
       "output_type": "stream",
       "stream": "stdout",
       "text": [
        "[2015-01-21 10:02:03] Mapping left_kept_reads to genome Crassostrea_gigas.GCA_000297895.1.24.dna_sm.genome with Bowtie2 \r\n"
       ]
      },
      {
       "output_type": "stream",
       "stream": "stdout",
       "text": [
        "[2015-01-21 12:17:17] Mapping left_kept_reads_seg1 to genome Crassostrea_gigas.GCA_000297895.1.24.dna_sm.genome with Bowtie2 (1/4)\r\n"
       ]
      },
      {
       "output_type": "stream",
       "stream": "stdout",
       "text": [
        "[2015-01-21 12:32:50] Mapping left_kept_reads_seg2 to genome Crassostrea_gigas.GCA_000297895.1.24.dna_sm.genome with Bowtie2 (2/4)\r\n"
       ]
      },
      {
       "output_type": "stream",
       "stream": "stdout",
       "text": [
        "[2015-01-21 12:47:36] Mapping left_kept_reads_seg3 to genome Crassostrea_gigas.GCA_000297895.1.24.dna_sm.genome with Bowtie2 (3/4)\r\n"
       ]
      },
      {
       "output_type": "stream",
       "stream": "stdout",
       "text": [
        "[2015-01-21 13:02:27] Mapping left_kept_reads_seg4 to genome Crassostrea_gigas.GCA_000297895.1.24.dna_sm.genome with Bowtie2 (4/4)\r\n"
       ]
      },
      {
       "output_type": "stream",
       "stream": "stdout",
       "text": [
        "[2015-01-21 13:21:35] Searching for junctions via segment mapping\r\n"
       ]
      },
      {
       "output_type": "stream",
       "stream": "stdout",
       "text": [
        "[2015-01-21 13:36:24] Retrieving sequences for splices\r\n"
       ]
      },
      {
       "output_type": "stream",
       "stream": "stdout",
       "text": [
        "[2015-01-21 13:37:03] Indexing splices\r\n"
       ]
      },
      {
       "output_type": "stream",
       "stream": "stdout",
       "text": [
        "[2015-01-21 13:39:08] Mapping left_kept_reads_seg1 to genome segment_juncs with Bowtie2 (1/4)\r\n"
       ]
      },
      {
       "output_type": "stream",
       "stream": "stdout",
       "text": [
        "[2015-01-21 13:47:15] Mapping left_kept_reads_seg2 to genome segment_juncs with Bowtie2 (2/4)\r\n"
       ]
      },
      {
       "output_type": "stream",
       "stream": "stdout",
       "text": [
        "[2015-01-21 13:55:35] Mapping left_kept_reads_seg3 to genome segment_juncs with Bowtie2 (3/4)\r\n"
       ]
      },
      {
       "output_type": "stream",
       "stream": "stdout",
       "text": [
        "[2015-01-21 14:03:00] Mapping left_kept_reads_seg4 to genome segment_juncs with Bowtie2 (4/4)\r\n"
       ]
      },
      {
       "output_type": "stream",
       "stream": "stdout",
       "text": [
        "[2015-01-21 14:11:16] Joining segment hits\r\n"
       ]
      },
      {
       "output_type": "stream",
       "stream": "stdout",
       "text": [
        "[2015-01-21 14:32:04] Reporting output tracks\r\n"
       ]
      },
      {
       "output_type": "stream",
       "stream": "stdout",
       "text": [
        "-----------------------------------------------\r\n",
        "[2015-01-21 15:13:22] A summary of the alignment counts can be found in ./tophat_out/align_summary.txt\r\n",
        "[2015-01-21 15:13:22] Run complete: 05:55:59 elapsed\r\n",
        "\r\n",
        "real\t356m0.633s\r\n",
        "user\t1678m42.203s\r\n",
        "sys\t81m22.768s\r\n"
       ]
      }
     ],
     "prompt_number": 8
    },
    {
     "cell_type": "code",
     "collapsed": false,
     "input": [
      "#ouch that overwrote the entire run from the day before.\n",
      "!pwd"
     ],
     "language": "python",
     "metadata": {},
     "outputs": [
      {
       "output_type": "stream",
       "stream": "stdout",
       "text": [
        "/Volumes/Data/Sam/fish546_2015/gigasHSrnaSeq/analysis\r\n"
       ]
      }
     ],
     "prompt_number": 10
    },
    {
     "cell_type": "code",
     "collapsed": false,
     "input": [
      "!mkdir tophat_preHS"
     ],
     "language": "python",
     "metadata": {},
     "outputs": [],
     "prompt_number": 11
    },
    {
     "cell_type": "code",
     "collapsed": false,
     "input": [
      "mkdir tophat_postHS"
     ],
     "language": "python",
     "metadata": {},
     "outputs": [],
     "prompt_number": 12
    },
    {
     "cell_type": "code",
     "collapsed": false,
     "input": [
      "cd tophat_preHS/"
     ],
     "language": "python",
     "metadata": {},
     "outputs": [
      {
       "output_type": "stream",
       "stream": "stdout",
       "text": [
        "/Volumes/Data/Sam/fish546_2015/gigasHSrnaSeq/analysis/tophat_preHS\n"
       ]
      }
     ],
     "prompt_number": 13
    },
    {
     "cell_type": "code",
     "collapsed": false,
     "input": [
      "#re-run tophat2 using 7 CPU threads (-p 7) on 3 non-HS samples\n",
      "#output should end up in this directory\n",
      "!time tophat2 -p 7 /Volumes/Eagle/trilobite/Crassostrea_gigas_ensembl_tracks/Crassostrea_gigas.GCA_000297895.1.24.dna_sm.genome \\\n",
      "/Volumes/Owl/nightingales/C_gigas/2M_AGTCAA_L001_R1_001.fastq.gz,\\\n",
      "/Volumes/Owl/nightingales/C_gigas/4M_AGTTCC_L001_R1_001.fastq.gz,\\\n",
      "/Volumes/Owl/nightingales/C_gigas/6M_ATGTCA_L001_R1_001.fastq.gz"
     ],
     "language": "python",
     "metadata": {},
     "outputs": [
      {
       "output_type": "stream",
       "stream": "stdout",
       "text": [
        "\r\n",
        "[2015-01-21 16:22:25] Beginning TopHat run (v2.0.13)\r\n",
        "-----------------------------------------------\r\n",
        "[2015-01-21 16:22:25] Checking for Bowtie\r\n"
       ]
      },
      {
       "output_type": "stream",
       "stream": "stdout",
       "text": [
        "\t\t  Bowtie version:\t 2.1.0.0\r\n",
        "[2015-01-21 16:22:26] Checking for Bowtie index files (genome)..\r\n"
       ]
      },
      {
       "output_type": "stream",
       "stream": "stdout",
       "text": [
        "[2015-01-21 16:22:26] Checking for reference FASTA file\r\n",
        "[2015-01-21 16:22:26] Generating SAM header for /Volumes/Eagle/trilobite/Crassostrea_gigas_ensembl_tracks/Crassostrea_gigas.GCA_000297895.1.24.dna_sm.genome\r\n"
       ]
      },
      {
       "output_type": "stream",
       "stream": "stdout",
       "text": [
        "[2015-01-21 16:22:37] Preparing reads\r\n"
       ]
      },
      {
       "output_type": "stream",
       "stream": "stdout",
       "text": [
        "\t left reads: min. length=101, max. length=101, 76124033 kept reads (488712 discarded)\r\n",
        "[2015-01-21 17:19:58] Mapping left_kept_reads to genome Crassostrea_gigas.GCA_000297895.1.24.dna_sm.genome with Bowtie2 \r\n"
       ]
      },
      {
       "output_type": "stream",
       "stream": "stdout",
       "text": [
        "[2015-01-21 19:44:59] Mapping left_kept_reads_seg1 to genome Crassostrea_gigas.GCA_000297895.1.24.dna_sm.genome with Bowtie2 (1/4)\r\n"
       ]
      },
      {
       "output_type": "stream",
       "stream": "stdout",
       "text": [
        "[2015-01-21 20:00:49] Mapping left_kept_reads_seg2 to genome Crassostrea_gigas.GCA_000297895.1.24.dna_sm.genome with Bowtie2 (2/4)\r\n"
       ]
      },
      {
       "output_type": "stream",
       "stream": "stdout",
       "text": [
        "[2015-01-21 20:16:36] Mapping left_kept_reads_seg3 to genome Crassostrea_gigas.GCA_000297895.1.24.dna_sm.genome with Bowtie2 (3/4)\r\n"
       ]
      },
      {
       "output_type": "stream",
       "stream": "stdout",
       "text": [
        "[2015-01-21 20:33:03] Mapping left_kept_reads_seg4 to genome Crassostrea_gigas.GCA_000297895.1.24.dna_sm.genome with Bowtie2 (4/4)\r\n"
       ]
      },
      {
       "output_type": "stream",
       "stream": "stdout",
       "text": [
        "[2015-01-21 20:55:53] Searching for junctions via segment mapping\r\n"
       ]
      },
      {
       "output_type": "stream",
       "stream": "stdout",
       "text": [
        "[2015-01-21 21:12:00] Retrieving sequences for splices\r\n"
       ]
      },
      {
       "output_type": "stream",
       "stream": "stdout",
       "text": [
        "[2015-01-21 21:12:40] Indexing splices\r\n"
       ]
      },
      {
       "output_type": "stream",
       "stream": "stdout",
       "text": [
        "[2015-01-21 21:15:10] Mapping left_kept_reads_seg1 to genome segment_juncs with Bowtie2 (1/4)\r\n"
       ]
      },
      {
       "output_type": "stream",
       "stream": "stdout",
       "text": [
        "[2015-01-21 21:24:13] Mapping left_kept_reads_seg2 to genome segment_juncs with Bowtie2 (2/4)\r\n"
       ]
      },
      {
       "output_type": "stream",
       "stream": "stdout",
       "text": [
        "[2015-01-21 21:33:06] Mapping left_kept_reads_seg3 to genome segment_juncs with Bowtie2 (3/4)\r\n"
       ]
      },
      {
       "output_type": "stream",
       "stream": "stdout",
       "text": [
        "[2015-01-21 21:42:02] Mapping left_kept_reads_seg4 to genome segment_juncs with Bowtie2 (4/4)\r\n"
       ]
      },
      {
       "output_type": "stream",
       "stream": "stdout",
       "text": [
        "[2015-01-21 21:53:24] Joining segment hits\r\n"
       ]
      },
      {
       "output_type": "stream",
       "stream": "stdout",
       "text": [
        "[2015-01-21 22:47:10] Reporting output tracks\r\n"
       ]
      },
      {
       "output_type": "stream",
       "stream": "stdout",
       "text": [
        "-----------------------------------------------\r\n",
        "[2015-01-21 23:45:19] A summary of the alignment counts can be found in ./tophat_out/align_summary.txt\r\n",
        "[2015-01-21 23:45:19] Run complete: 07:22:53 elapsed\r\n",
        "\r\n",
        "real\t442m54.358s\r\n",
        "user\t1844m11.859s\r\n",
        "sys\t88m50.076s\r\n"
       ]
      }
     ],
     "prompt_number": 14
    },
    {
     "cell_type": "code",
     "collapsed": false,
     "input": [
      "ls"
     ],
     "language": "python",
     "metadata": {},
     "outputs": [
      {
       "output_type": "stream",
       "stream": "stdout",
       "text": [
        "\u001b[34mtophat_out\u001b[m\u001b[m/\r\n"
       ]
      }
     ],
     "prompt_number": 15
    },
    {
     "cell_type": "code",
     "collapsed": false,
     "input": [
      "cd .."
     ],
     "language": "python",
     "metadata": {},
     "outputs": [
      {
       "output_type": "stream",
       "stream": "stdout",
       "text": [
        "/Volumes/Data/Sam/fish546_2015/gigasHSrnaSeq/analysis\n"
       ]
      }
     ],
     "prompt_number": 16
    },
    {
     "cell_type": "code",
     "collapsed": false,
     "input": [
      "ls"
     ],
     "language": "python",
     "metadata": {},
     "outputs": [
      {
       "output_type": "stream",
       "stream": "stdout",
       "text": [
        "readme.md      \u001b[30m\u001b[43mtophat_out\u001b[m\u001b[m/    \u001b[34mtophat_postHS\u001b[m\u001b[m/ \u001b[34mtophat_preHS\u001b[m\u001b[m/\r\n"
       ]
      }
     ],
     "prompt_number": 17
    },
    {
     "cell_type": "code",
     "collapsed": false,
     "input": [
      "#move all files in the tophat_out directory to the tophat_postHS directory\n",
      "!mv /Volumes/Data/Sam/fish546_2015/gigasHSrnaSeq/analysis/tophat_out/*.* \\\n",
      "/Volumes/Data/Sam/fish546_2015/gigasHSrnaSeq/analysis/tophat_postHS/"
     ],
     "language": "python",
     "metadata": {},
     "outputs": [],
     "prompt_number": 20
    },
    {
     "cell_type": "code",
     "collapsed": false,
     "input": [
      "#verify move worked\n",
      "ls tophat_out/"
     ],
     "language": "python",
     "metadata": {},
     "outputs": [
      {
       "output_type": "stream",
       "stream": "stdout",
       "text": [
        "\u001b[30m\u001b[43mlogs\u001b[m\u001b[m/\r\n"
       ]
      }
     ],
     "prompt_number": 21
    },
    {
     "cell_type": "code",
     "collapsed": false,
     "input": [
      "#mv logs directory\n",
      "!mv /Volumes/Data/Sam/fish546_2015/gigasHSrnaSeq/analysis/tophat_out/logs \\\n",
      "/Volumes/Data/Sam/fish546_2015/gigasHSrnaSeq/analysis/tophat_postHS/"
     ],
     "language": "python",
     "metadata": {},
     "outputs": [],
     "prompt_number": 22
    },
    {
     "cell_type": "code",
     "collapsed": false,
     "input": [
      "#verify move worked\n",
      "ls tophat_out/"
     ],
     "language": "python",
     "metadata": {},
     "outputs": [],
     "prompt_number": 23
    },
    {
     "cell_type": "code",
     "collapsed": false,
     "input": [
      "#verfity move worked\n",
      "ls tophat_postHS/"
     ],
     "language": "python",
     "metadata": {},
     "outputs": [
      {
       "output_type": "stream",
       "stream": "stdout",
       "text": [
        "accepted_hits.bam  deletions.bed      junctions.bed      prep_reads.info\r\n",
        "align_summary.txt  insertions.bed     \u001b[30m\u001b[43mlogs\u001b[m\u001b[m/              unmapped.bam\r\n"
       ]
      }
     ],
     "prompt_number": 24
    },
    {
     "cell_type": "code",
     "collapsed": false,
     "input": [
      "#remove empty tophat_out directory\n",
      "rm tophat_out/"
     ],
     "language": "python",
     "metadata": {},
     "outputs": [
      {
       "output_type": "stream",
       "stream": "stdout",
       "text": [
        "rm: tophat_out/: is a directory\r\n"
       ]
      }
     ],
     "prompt_number": 25
    },
    {
     "cell_type": "code",
     "collapsed": false,
     "input": [
      "#remove empty tophat_out directory\n",
      "rm -rf tophat_out/"
     ],
     "language": "python",
     "metadata": {},
     "outputs": [],
     "prompt_number": 26
    },
    {
     "cell_type": "code",
     "collapsed": false,
     "input": [],
     "language": "python",
     "metadata": {},
     "outputs": []
    }
   ],
   "metadata": {}
  }
 ]
}
