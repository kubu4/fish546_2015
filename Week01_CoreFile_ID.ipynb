{
 "metadata": {
  "name": "",
  "signature": "sha256:d628f9bdee45dbc5b9e6a43f6b2540851708b0f6eb3c3d3a92adeee9a69b2d3a"
 },
 "nbformat": 3,
 "nbformat_minor": 0,
 "worksheets": [
  {
   "cells": [
    {
     "cell_type": "markdown",
     "metadata": {},
     "source": [
      "##SSH tunnel in to Hummingbird##\n",
      "\n",
      "This allows me to run IPython on Hummingbird, but use the IPython GUI on my computer through a browser.\n",
      "\n",
      "Cannot be performed within IPython.\n",
      "\n",
      "Here's the shell command to create a tunnel:\n",
      "\n",
      "`ssh -L 9000:localhost:9000 Sam@<hummingbird.IP.address>`\n",
      "\n",
      "The command opens port 9000 on my computer and port 9000 on Hummingbird and connects me to Hummingbird."
     ]
    },
    {
     "cell_type": "markdown",
     "metadata": {},
     "source": [
      "##Launch IPython on Hummingbird##\n",
      "\n",
      "I need to start IPython without the browser on Hummingbird and tell it which port to use.\n",
      "\n",
      "`ipython notebook --no-browser --port=9000`"
     ]
    },
    {
     "cell_type": "markdown",
     "metadata": {},
     "source": [
      "##Run IPython in my local browser##\n",
      "\n",
      "Open my browser on my computer and enter the following in the URL bar to connect to the instance of IPython running on Hummingbird\n",
      "\n",
      "`localhost:9000`"
     ]
    },
    {
     "cell_type": "code",
     "collapsed": false,
     "input": [
      "#identify computer that I'm working on\n",
      "!scutil --get ComputerName"
     ],
     "language": "python",
     "metadata": {},
     "outputs": [
      {
       "output_type": "stream",
       "stream": "stdout",
       "text": [
        "hummingbird\r\n"
       ]
      }
     ],
     "prompt_number": 1
    },
    {
     "cell_type": "markdown",
     "metadata": {},
     "source": [
      "##Mount Owl directory where core project files are located##\n",
      "\n",
      "Has to be done outside of IPython GUI because mounting requires password entry\n",
      "\n",
      "Here's the command:\n",
      "\n",
      "`mount_afp -i \"afp://kubu4@owl.fish.washington.edu/web/nightingales\" /Volumes/Owl`"
     ]
    },
    {
     "cell_type": "code",
     "collapsed": false,
     "input": [
      "cd /Volumes/Owl"
     ],
     "language": "python",
     "metadata": {},
     "outputs": [
      {
       "output_type": "stream",
       "stream": "stdout",
       "text": [
        "/Volumes/Owl\n"
       ]
      }
     ],
     "prompt_number": 2
    },
    {
     "cell_type": "code",
     "collapsed": false,
     "input": [
      "ls"
     ],
     "language": "python",
     "metadata": {},
     "outputs": [
      {
       "output_type": "stream",
       "stream": "stdout",
       "text": [
        "\u001b[31m.DS_Store\u001b[m\u001b[m*       \u001b[34mH_cracherodii\u001b[m\u001b[m/   \u001b[34mO_kisutch\u001b[m\u001b[m/       \u001b[34mQPX\u001b[m\u001b[m/\r\n",
        "\u001b[31m.htaccess\u001b[m\u001b[m*       \u001b[34mH_kamtschatkana\u001b[m\u001b[m/ \u001b[34mO_lurida\u001b[m\u001b[m/        \u001b[34mS_namaycush\u001b[m\u001b[m/\r\n",
        "\u001b[34mC_gigas\u001b[m\u001b[m/         \u001b[34mM_mercenaria\u001b[m\u001b[m/    \u001b[34mP_flavescens\u001b[m\u001b[m/    \u001b[34mV_philippinarum\u001b[m\u001b[m/\r\n",
        "\u001b[34mC_pallasii\u001b[m\u001b[m/      \u001b[34mO_keta\u001b[m\u001b[m/          \u001b[34mP_helianthoides\u001b[m\u001b[m/ \u001b[34mV_tubiashii\u001b[m\u001b[m/\r\n"
       ]
      }
     ],
     "prompt_number": 3
    },
    {
     "cell_type": "code",
     "collapsed": false,
     "input": [
      "cd C_gigas"
     ],
     "language": "python",
     "metadata": {},
     "outputs": [
      {
       "output_type": "stream",
       "stream": "stdout",
       "text": [
        "/Volumes/Owl/C_gigas\n"
       ]
      }
     ],
     "prompt_number": 3
    },
    {
     "cell_type": "code",
     "collapsed": false,
     "input": [
      "ls"
     ],
     "language": "python",
     "metadata": {},
     "outputs": [
      {
       "output_type": "stream",
       "stream": "stdout",
       "text": [
        "2M-HS_CCGTCC_L001_R1_001.fastq.gz\r\n",
        "2M_AGTCAA_L001_R1_001.fastq.gz\r\n",
        "4M-HS_GTCCGC_L001_R1_001.fastq.gz\r\n",
        "4M_AGTTCC_L001_R1_001.fastq.gz\r\n",
        "6M-HS_GTGAAA_L001_R1_001.fastq.gz\r\n",
        "6M_ATGTCA_L001_R1_001.fastq.gz\r\n",
        "\u001b[31mBiGillRNA_GACTAAGA_1.fastq.gz\u001b[m\u001b[m*\r\n",
        "\u001b[31mBiGillRNA_GACTAAGA_2.fastq.gz\u001b[m\u001b[m*\r\n",
        "\u001b[31mBiGoRNA_GTGTCTAC_1.fastq.gz\u001b[m\u001b[m*\r\n",
        "\u001b[31mBiGoRNA_GTGTCTAC_2.fastq.gz\u001b[m\u001b[m*\r\n",
        "CgF_CGATGT_L003_R1_001.fastq.gz\r\n",
        "CgF_CGATGT_L003_R2_001.fastq.gz\r\n",
        "\u001b[31mCgM1_R1a.fastq\u001b[m\u001b[m*\r\n",
        "\u001b[31mCgM1_R2a.fastq\u001b[m\u001b[m*\r\n",
        "\u001b[31mCgM3_R1a.fastq\u001b[m\u001b[m*\r\n",
        "\u001b[31mCgM3_R2a.fastq\u001b[m\u001b[m*\r\n",
        "\u001b[31mCgT1D3_R1a.fastq\u001b[m\u001b[m*\r\n",
        "\u001b[31mCgT1D3_R2a.fastq\u001b[m\u001b[m*\r\n",
        "\u001b[31mCgT1D5_R1a.fastq\u001b[m\u001b[m*\r\n",
        "\u001b[31mCgT1D5_R2a.fastq\u001b[m\u001b[m*\r\n",
        "\u001b[31mCgT3D3_R1a.fastq\u001b[m\u001b[m*\r\n",
        "\u001b[31mCgT3D3_R2a.fastq\u001b[m\u001b[m*\r\n",
        "\u001b[31mCgT3D5_R1a.fastq\u001b[m\u001b[m*\r\n",
        "\u001b[31mCgT3D5_R2a.fastq\u001b[m\u001b[m*\r\n",
        "Y38_ACAGTG_L003_R1_001.fastq.gz\r\n",
        "Y38_ACAGTG_L003_R2_001.fastq.gz\r\n",
        "\u001b[31mY38_control_GTGAAA_L007_R2.fastq.gz\u001b[m\u001b[m*\r\n",
        "\u001b[31mY54_Mix_GTGGCC_L007_R2_001.fastq.gz\u001b[m\u001b[m*\r\n",
        "\u001b[31mY54_Mix_GTGGCC_L007_R2_002.fastq.gz\u001b[m\u001b[m*\r\n",
        "\u001b[31mchecksums.md5\u001b[m\u001b[m*\r\n",
        "\u001b[31mfiltered_174gm_A_BiGosperm_L006_R1.fastq.gz\u001b[m\u001b[m*\r\n",
        "\u001b[31mfiltered_174gm_A_BiGosperm_L006_R2.fastq.gz\u001b[m\u001b[m*\r\n",
        "\u001b[31mfiltered_BS_CgF_ACAGTG_L004_R1.fastq.gz\u001b[m\u001b[m*\r\n",
        "\u001b[31mfiltered_BS_CgF_ACAGTG_L004_R2.fastq.gz\u001b[m\u001b[m*\r\n",
        "\u001b[31mfiltered_BS_CgF_TTAGGC_L004_R1.fastq.gz\u001b[m\u001b[m*\r\n",
        "\u001b[31mfiltered_BS_CgF_TTAGGC_L004_R2.fastq.gz\u001b[m\u001b[m*\r\n",
        "\u001b[31mfiltered_BS_CgF_TTAGGC_L007_R1.fastq.gz\u001b[m\u001b[m*\r\n",
        "\u001b[31mfiltered_BS_CgF_TTAGGC_L007_R2.fastq.gz\u001b[m\u001b[m*\r\n",
        "\u001b[31mfiltered_BS_CgLarv_T1D3_TGACCA_L004_R1.fastq.gz\u001b[m\u001b[m*\r\n",
        "\u001b[31mfiltered_BS_CgLarv_T1D3_TGACCA_L004_R2.fastq.gz\u001b[m\u001b[m*\r\n",
        "\u001b[31mfiltered_BS_CgLarv_T1D3_TGACCA_L007_R1.fastq.gz\u001b[m\u001b[m*\r\n",
        "\u001b[31mfiltered_BS_CgLarv_T1D3_TGACCA_L007_R2.fastq.gz\u001b[m\u001b[m*\r\n",
        "\u001b[31mfiltered_BS_CgLarv_T1D5_ACAGTG_L004_R1.fastq.gz\u001b[m\u001b[m*\r\n",
        "\u001b[31mfiltered_BS_CgLarv_T1D5_ACAGTG_L004_R2.fastq.gz\u001b[m\u001b[m*\r\n",
        "\u001b[31mfiltered_BS_CgLarv_T1D5_ACAGTG_L007_R1.fastq.gz\u001b[m\u001b[m*\r\n",
        "\u001b[31mfiltered_BS_CgLarv_T1D5_ACAGTG_L007_R2.fastq.gz\u001b[m\u001b[m*\r\n",
        "\u001b[31mfiltered_BS_CgLarv_T3D5_CAGATC_L004_R1.fastq.gz\u001b[m\u001b[m*\r\n",
        "\u001b[31mfiltered_BS_CgLarv_T3D5_CAGATC_L004_R2.fastq.gz\u001b[m\u001b[m*\r\n",
        "\u001b[31mfiltered_BS_CgLarv_T3D5_CAGATC_L007_R1.fastq.gz\u001b[m\u001b[m*\r\n",
        "\u001b[31mfiltered_BS_CgLarv_T3D5_CAGATC_L007_R2.fastq.gz\u001b[m\u001b[m*\r\n",
        "\u001b[31mfiltered_BS_CgM1_ACTTGA_L004_R1.fastq.gz\u001b[m\u001b[m*\r\n",
        "\u001b[31mfiltered_BS_CgM1_ACTTGA_L004_R2.fastq.gz\u001b[m\u001b[m*\r\n",
        "\u001b[31mfiltered_BS_CgM1_ACTTGA_L007_R1.fastq.gz\u001b[m\u001b[m*\r\n",
        "\u001b[31mfiltered_BS_CgM1_ACTTGA_L007_R2.fastq.gz\u001b[m\u001b[m*\r\n",
        "\u001b[31mfiltered_BS_CgM3_GATCAG_L004_R1.fastq.gz\u001b[m\u001b[m*\r\n",
        "\u001b[31mfiltered_BS_CgM3_GATCAG_L004_R2.fastq.gz\u001b[m\u001b[m*\r\n",
        "\u001b[31mfiltered_BS_CgM3_GATCAG_L007_R1.fastq.gz\u001b[m\u001b[m*\r\n",
        "\u001b[31mfiltered_BS_CgM3_GATCAG_L007_R2.fastq.gz\u001b[m\u001b[m*\r\n",
        "\u001b[31mfiltered_BSseqGill_L003_R1.fastq.gz\u001b[m\u001b[m*\r\n",
        "\u001b[31mfiltered_Bs_CgLarve_T3D3_GCCAAT_L004_R1.fastq.gz\u001b[m\u001b[m*\r\n",
        "\u001b[31mfiltered_Bs_CgLarve_T3D3_GCCAAT_L004_R2.fastq.gz\u001b[m\u001b[m*\r\n",
        "\u001b[31mfiltered_Bs_CgLarve_T3D3_GCCAAT_L007_R1.fastq.gz\u001b[m\u001b[m*\r\n",
        "\u001b[31mfiltered_Bs_CgLarve_T3D3_GCCAAT_L007_R2.fastq.gz\u001b[m\u001b[m*\r\n",
        "\u001b[31mfiltered_Y38_control_GTGAAA_L005_R1.fastq.gz\u001b[m\u001b[m*\r\n",
        "\u001b[31mfiltered_Y38_control_GTGAAA_L005_R2.fastq.gz\u001b[m\u001b[m*\r\n",
        "\u001b[31mfiltered_Y38_control_GTGAAA_L007_R1.fastq.gz\u001b[m\u001b[m*\r\n",
        "\u001b[31mfiltered_Y54_Mix_GTGGCC_L005_R1.fastq.gz\u001b[m\u001b[m*\r\n",
        "\u001b[31mfiltered_Y54_Mix_GTGGCC_L005_R2.fastq.gz\u001b[m\u001b[m*\r\n",
        "\u001b[31mfiltered_Y54_Mix_GTGGCC_L007_R1.fastq.gz\u001b[m\u001b[m*\r\n",
        "\u001b[31msolid0078_20091105_BB3.tar.gz\u001b[m\u001b[m*\r\n",
        "\u001b[31msolid0078_20091105_DH3.tar.gz\u001b[m\u001b[m*\r\n",
        "\u001b[31msolid0078_20091105_RbbertsLab_DH2_F3.tar.gz\u001b[m\u001b[m*\r\n",
        "\u001b[31msolid0078_20091105_RbbertsLab_GE_F3.tar.gz\u001b[m\u001b[m*\r\n",
        "\u001b[31msolid0078_20100107_MD_Roberts_Hao_64A_71A_64B_Roberts_GC_F3.tar.gz\u001b[m\u001b[m*\r\n",
        "\u001b[31msolid0078_20110412_FRAG_BC_WHITE_WHITE_F3_SB_METH.tar.gz\u001b[m\u001b[m*\r\n",
        "\u001b[31msolid0078_20110412_FRAG_BC_WHITE_WHITE_F3_SB_UNMETH.tar.gz\u001b[m\u001b[m*\r\n"
       ]
      }
     ],
     "prompt_number": 4
    },
    {
     "cell_type": "code",
     "collapsed": false,
     "input": [
      "#location of RNA-Seq data I'll be using\n",
      "!pwd"
     ],
     "language": "python",
     "metadata": {},
     "outputs": [
      {
       "output_type": "stream",
       "stream": "stdout",
       "text": [
        "/Volumes/Owl/C_gigas\r\n"
       ]
      }
     ],
     "prompt_number": 5
    },
    {
     "cell_type": "markdown",
     "metadata": {},
     "source": [
      "##RNA-Seq files I'll be using:##\n",
      "\n",
      "2M-HS_CCGTCC_L001_R1_001.fastq.gz\n",
      "\n",
      "2M_AGTCAA_L001_R1_001.fastq.gz\n",
      "\n",
      "4M-HS_GTCCGC_L001_R1_001.fastq.gz\n",
      "\n",
      "4M_AGTTCC_L001_R1_001.fastq.gz\n",
      "\n",
      "6M-HS_GTGAAA_L001_R1_001.fastq.gz\n",
      "\n",
      "6M_ATGTCA_L001_R1_001.fastq.gz"
     ]
    },
    {
     "cell_type": "markdown",
     "metadata": {},
     "source": [
      "##Will use Ensembl reference genome located here:##\n",
      "\n",
      "`/Volumes/Eagle/web/trilobite/Crassostrea_gigas_ensembl_tracks/Crassostrea_gigas.GCA_000297895.1.24.dna_sm.genome.fa`"
     ]
    },
    {
     "cell_type": "markdown",
     "metadata": {},
     "source": [
      "##Sequence annotation files##\n",
      "\n",
      "###UniProt###\n",
      "\n",
      "https://sqlshare.escience.washington.edu/sqlshare/#s=query/samwhite%40washington.edu/UniprotProtNamesReviewed_yes20130610\n",
      "\n",
      "However, it's been nearly two years since we grabbed these.  There are now ~7,000 more entries (which is only ~1.5% more). Might consider obtaining current UniProt file anyway:\n",
      "\n",
      "http://www.uniprot.org/uniprot/\n",
      "\n",
      "###Gene Ontology (GO)###\n",
      "\n",
      "Have to figure out where these are located."
     ]
    }
   ],
   "metadata": {}
  }
 ]
}