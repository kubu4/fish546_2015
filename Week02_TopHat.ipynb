{
 "metadata": {
  "name": ""
 },
 "nbformat": 3,
 "nbformat_minor": 0,
 "worksheets": [
  {
   "cells": [
    {
     "cell_type": "markdown",
     "metadata": {},
     "source": [
      "##Set up file directory structure"
     ]
    },
    {
     "cell_type": "code",
     "collapsed": false,
     "input": [
      "ls"
     ],
     "language": "python",
     "metadata": {},
     "outputs": [
      {
       "output_type": "stream",
       "stream": "stdout",
       "text": [
        "README.md                 Week01_CoreFile_ID.ipynb  Week02_TopHat.ipynb\r\n"
       ]
      }
     ],
     "prompt_number": 1
    },
    {
     "cell_type": "code",
     "collapsed": false,
     "input": [
      "mkdir gigasHSrnaSeq"
     ],
     "language": "python",
     "metadata": {},
     "outputs": [],
     "prompt_number": 2
    },
    {
     "cell_type": "code",
     "collapsed": false,
     "input": [
      "cd gigasHSrnaSeq/"
     ],
     "language": "python",
     "metadata": {},
     "outputs": [
      {
       "output_type": "stream",
       "stream": "stdout",
       "text": [
        "/Users/Sam/Documents/gigasHSrnaSeq\n"
       ]
      }
     ],
     "prompt_number": 3
    },
    {
     "cell_type": "code",
     "collapsed": false,
     "input": [
      "mkdir raw_data"
     ],
     "language": "python",
     "metadata": {},
     "outputs": [],
     "prompt_number": 4
    },
    {
     "cell_type": "code",
     "collapsed": false,
     "input": [
      "mkdir analysis"
     ],
     "language": "python",
     "metadata": {},
     "outputs": [],
     "prompt_number": 6
    },
    {
     "cell_type": "code",
     "collapsed": false,
     "input": [
      "nano ../.gitignore"
     ],
     "language": "python",
     "metadata": {},
     "outputs": [
      {
       "ename": "SyntaxError",
       "evalue": "invalid syntax (<ipython-input-7-bc23598a1776>, line 1)",
       "output_type": "pyerr",
       "traceback": [
        "\u001b[0;36m  File \u001b[0;32m\"<ipython-input-7-bc23598a1776>\"\u001b[0;36m, line \u001b[0;32m1\u001b[0m\n\u001b[0;31m    nano ../.gitignore\u001b[0m\n\u001b[0m          ^\u001b[0m\n\u001b[0;31mSyntaxError\u001b[0m\u001b[0;31m:\u001b[0m invalid syntax\n"
       ]
      }
     ],
     "prompt_number": 7
    },
    {
     "cell_type": "code",
     "collapsed": false,
     "input": [
      "cd .."
     ],
     "language": "python",
     "metadata": {},
     "outputs": [
      {
       "output_type": "stream",
       "stream": "stdout",
       "text": [
        "/Users/Sam/Documents\n"
       ]
      }
     ],
     "prompt_number": 8
    },
    {
     "cell_type": "code",
     "collapsed": false,
     "input": [
      "#attempt to use text editor through IPython; probably will not work\n",
      "nano .gitignore"
     ],
     "language": "python",
     "metadata": {},
     "outputs": [
      {
       "ename": "NameError",
       "evalue": "name 'nano' is not defined",
       "output_type": "pyerr",
       "traceback": [
        "\u001b[0;31m---------------------------------------------------------------------------\u001b[0m\n\u001b[0;31mNameError\u001b[0m                                 Traceback (most recent call last)",
        "\u001b[0;32m<ipython-input-9-2897b271768e>\u001b[0m in \u001b[0;36m<module>\u001b[0;34m()\u001b[0m\n\u001b[0;32m----> 1\u001b[0;31m \u001b[0mnano\u001b[0m \u001b[0;34m.\u001b[0m\u001b[0mgitignore\u001b[0m\u001b[0;34m\u001b[0m\u001b[0m\n\u001b[0m",
        "\u001b[0;31mNameError\u001b[0m: name 'nano' is not defined"
       ]
      }
     ],
     "prompt_number": 9
    },
    {
     "cell_type": "code",
     "collapsed": false,
     "input": [
      "cat .gitignore"
     ],
     "language": "python",
     "metadata": {},
     "outputs": [
      {
       "output_type": "stream",
       "stream": "stdout",
       "text": [
        ".ipynb_checkpoints/\r\n",
        ".localized\r\n",
        "\r\n"
       ]
      }
     ],
     "prompt_number": 10
    },
    {
     "cell_type": "code",
     "collapsed": false,
     "input": [
      "#edited .gitignore file to ignore the raw_data\n",
      "cat .gitignore"
     ],
     "language": "python",
     "metadata": {},
     "outputs": [
      {
       "ename": "NameError",
       "evalue": "name 'cat' is not defined",
       "output_type": "pyerr",
       "traceback": [
        "\u001b[0;31m---------------------------------------------------------------------------\u001b[0m\n\u001b[0;31mNameError\u001b[0m                                 Traceback (most recent call last)",
        "\u001b[0;32m<ipython-input-11-4a8d1e6a78d8>\u001b[0m in \u001b[0;36m<module>\u001b[0;34m()\u001b[0m\n\u001b[1;32m      1\u001b[0m \u001b[0;31m#edited .gitignore file to ignore the raw_data\u001b[0m\u001b[0;34m\u001b[0m\u001b[0;34m\u001b[0m\u001b[0m\n\u001b[0;32m----> 2\u001b[0;31m \u001b[0mcat\u001b[0m \u001b[0;34m.\u001b[0m\u001b[0mgitignore\u001b[0m\u001b[0;34m\u001b[0m\u001b[0m\n\u001b[0m",
        "\u001b[0;31mNameError\u001b[0m: name 'cat' is not defined"
       ]
      }
     ],
     "prompt_number": 11
    },
    {
     "cell_type": "code",
     "collapsed": false,
     "input": [
      "#edited .gitignore file to ignore the raw_data\n",
      "!cat .gitignore"
     ],
     "language": "python",
     "metadata": {},
     "outputs": [
      {
       "output_type": "stream",
       "stream": "stdout",
       "text": [
        ".ipynb_checkpoints/\r\n",
        ".localized\r\n",
        "/gigasHSrnaSeq/raw_data\r\n"
       ]
      }
     ],
     "prompt_number": 12
    },
    {
     "cell_type": "code",
     "collapsed": false,
     "input": [
      "pwd"
     ],
     "language": "python",
     "metadata": {},
     "outputs": [
      {
       "metadata": {},
       "output_type": "pyout",
       "prompt_number": 13,
       "text": [
        "u'/Users/Sam/Documents'"
       ]
      }
     ],
     "prompt_number": 13
    },
    {
     "cell_type": "code",
     "collapsed": false,
     "input": [
      "mkdir gigasHSrnaSeq/scripts"
     ],
     "language": "python",
     "metadata": {},
     "outputs": [],
     "prompt_number": 14
    },
    {
     "cell_type": "code",
     "collapsed": false,
     "input": [
      "#create readme.md files within each directory of project\n",
      "!touch gigasHSrnaSeq/readme.md gigasHSrnaSeq/analysis/readme.md gigasHSrnaSeq/raw_data/readme.md gigasHSrnaSeq/scripts/readme.md"
     ],
     "language": "python",
     "metadata": {},
     "outputs": [],
     "prompt_number": 15
    },
    {
     "cell_type": "code",
     "collapsed": false,
     "input": [
      "#see if bowtie (necessary for TopHat to run) is installed\n",
      "#looking in the directory that contains all of the bioinformatics tools\n",
      "#that are currently installed\n",
      "#using wildcard character (asterisk) to match anything starting with bowtie\n",
      "!find /usr/local/bioinformatics/ -name \"bowtie*\""
     ],
     "language": "python",
     "metadata": {},
     "outputs": [
      {
       "output_type": "stream",
       "stream": "stdout",
       "text": [
        "/usr/local/bioinformatics//bowtie\r\n",
        "/usr/local/bioinformatics//bowtie-1.0.0\r\n",
        "/usr/local/bioinformatics//bowtie-1.0.0/bowtie\r\n",
        "/usr/local/bioinformatics//bowtie-1.0.0/bowtie-build\r\n",
        "/usr/local/bioinformatics//bowtie-1.0.0/bowtie-build-debug\r\n",
        "/usr/local/bioinformatics//bowtie-1.0.0/bowtie-debug\r\n",
        "/usr/local/bioinformatics//bowtie-1.0.0/bowtie-inspect\r\n",
        "/usr/local/bioinformatics//bowtie-1.0.0/bowtie-inspect-debug\r\n"
       ]
      },
      {
       "output_type": "stream",
       "stream": "stdout",
       "text": [
        "/usr/local/bioinformatics//bowtie2\r\n",
        "/usr/local/bioinformatics//bowtie2-2.1.0\r\n",
        "/usr/local/bioinformatics//bowtie2-2.1.0/bowtie2\r\n",
        "/usr/local/bioinformatics//bowtie2-2.1.0/bowtie2-align\r\n",
        "/usr/local/bioinformatics//bowtie2-2.1.0/bowtie2-align-debug\r\n",
        "/usr/local/bioinformatics//bowtie2-2.1.0/bowtie2-build\r\n",
        "/usr/local/bioinformatics//bowtie2-2.1.0/bowtie2-build-debug\r\n",
        "/usr/local/bioinformatics//bowtie2-2.1.0/bowtie2-inspect\r\n",
        "/usr/local/bioinformatics//bowtie2-2.1.0/bowtie2-inspect-debug\r\n"
       ]
      },
      {
       "output_type": "stream",
       "stream": "stdout",
       "text": [
        "/usr/local/bioinformatics//rsem-1.2.10/sam/misc/bowtie2sam.pl\r\n"
       ]
      }
     ],
     "prompt_number": 1
    },
    {
     "cell_type": "code",
     "collapsed": false,
     "input": [
      "#could also use the \"which\" command\n",
      "!which bowtie"
     ],
     "language": "python",
     "metadata": {},
     "outputs": [
      {
       "output_type": "stream",
       "stream": "stdout",
       "text": [
        "/usr/local/bioinformatics/bowtie/bowtie\r\n"
       ]
      }
     ],
     "prompt_number": 2
    },
    {
     "cell_type": "code",
     "collapsed": false,
     "input": [
      "#but the \"find\" command allows me to see all aspects (and versions) of bowtie that are installed\n"
     ],
     "language": "python",
     "metadata": {},
     "outputs": [],
     "prompt_number": 3
    },
    {
     "cell_type": "code",
     "collapsed": false,
     "input": [
      "#check for TopHat\n",
      "!which tophat"
     ],
     "language": "python",
     "metadata": {},
     "outputs": [],
     "prompt_number": 4
    },
    {
     "cell_type": "code",
     "collapsed": false,
     "input": [
      "#which doens't find anything in the $PATH\n",
      "#let's try using \"find\"\n",
      "!find /usr/local/bioinformatics/ -name \"tophat*\""
     ],
     "language": "python",
     "metadata": {},
     "outputs": [],
     "prompt_number": 5
    },
    {
     "cell_type": "code",
     "collapsed": false,
     "input": [
      "#nothing\n",
      "#TopHat is not installed\n",
      "#need to get/install TopHat"
     ],
     "language": "python",
     "metadata": {},
     "outputs": [],
     "prompt_number": 6
    },
    {
     "cell_type": "code",
     "collapsed": false,
     "input": [
      "cd /usr/local/bioinformatics/"
     ],
     "language": "python",
     "metadata": {},
     "outputs": [
      {
       "output_type": "stream",
       "stream": "stdout",
       "text": [
        "/usr/local/bioinformatics\n"
       ]
      }
     ],
     "prompt_number": 1
    },
    {
     "cell_type": "code",
     "collapsed": false,
     "input": [
      "ls /usr/local/bioinformatics/"
     ],
     "language": "python",
     "metadata": {},
     "outputs": [
      {
       "output_type": "stream",
       "stream": "stdout",
       "text": [
        "\u001b[35mTrimmomatic\u001b[m\u001b[m@             \u001b[34mdbs\u001b[m\u001b[m/                     \u001b[34mngsplot-2.08\u001b[m\u001b[m/\r\n",
        "\u001b[34mTrimmomatic-0.30\u001b[m\u001b[m/        \u001b[35mfastx_toolkit\u001b[m\u001b[m@           \u001b[35mrsem\u001b[m\u001b[m@\r\n",
        "\u001b[35mTrinotate\u001b[m\u001b[m@               \u001b[34mfastx_toolkit-0.0.13.2\u001b[m\u001b[m/  \u001b[34mrsem-1.2.10\u001b[m\u001b[m/\r\n",
        "\u001b[34mTrinotate_r20140708\u001b[m\u001b[m/     \u001b[35mhmmer\u001b[m\u001b[m@                   \u001b[34msignalp-4.1\u001b[m\u001b[m/\r\n",
        "\u001b[34manaconda\u001b[m\u001b[m/                \u001b[34mhmmer-3.1b1\u001b[m\u001b[m/             source.sh\r\n",
        "\u001b[35mbowtie\u001b[m\u001b[m@                  \u001b[34mlibgtextutils-0.6.1\u001b[m\u001b[m/     \u001b[35mstacks\u001b[m\u001b[m@\r\n",
        "\u001b[34mbowtie-1.0.0\u001b[m\u001b[m/            \u001b[35mncbi-blast\u001b[m\u001b[m@              \u001b[34mstacks-1.13\u001b[m\u001b[m/\r\n",
        "\u001b[35mbowtie2\u001b[m\u001b[m@                 \u001b[34mncbi-blast-2.2.29+\u001b[m\u001b[m/      \u001b[35mtrinity\u001b[m\u001b[m@\r\n",
        "\u001b[34mbowtie2-2.1.0\u001b[m\u001b[m/           \u001b[35mngsplot\u001b[m\u001b[m@                 \u001b[34mtrinityrnaseq_r20131110\u001b[m\u001b[m/\r\n"
       ]
      }
     ],
     "prompt_number": 4
    },
    {
     "cell_type": "code",
     "collapsed": false,
     "input": [
      "ls"
     ],
     "language": "python",
     "metadata": {},
     "outputs": [
      {
       "output_type": "stream",
       "stream": "stdout",
       "text": [
        "\u001b[35mTrimmomatic\u001b[m\u001b[m@             \u001b[34mdbs\u001b[m\u001b[m/                     \u001b[34mngsplot-2.08\u001b[m\u001b[m/\r\n",
        "\u001b[34mTrimmomatic-0.30\u001b[m\u001b[m/        \u001b[35mfastx_toolkit\u001b[m\u001b[m@           \u001b[35mrsem\u001b[m\u001b[m@\r\n",
        "\u001b[35mTrinotate\u001b[m\u001b[m@               \u001b[34mfastx_toolkit-0.0.13.2\u001b[m\u001b[m/  \u001b[34mrsem-1.2.10\u001b[m\u001b[m/\r\n",
        "\u001b[34mTrinotate_r20140708\u001b[m\u001b[m/     \u001b[35mhmmer\u001b[m\u001b[m@                   \u001b[34msignalp-4.1\u001b[m\u001b[m/\r\n",
        "\u001b[34manaconda\u001b[m\u001b[m/                \u001b[34mhmmer-3.1b1\u001b[m\u001b[m/             source.sh\r\n",
        "\u001b[35mbowtie\u001b[m\u001b[m@                  \u001b[34mlibgtextutils-0.6.1\u001b[m\u001b[m/     \u001b[35mstacks\u001b[m\u001b[m@\r\n",
        "\u001b[34mbowtie-1.0.0\u001b[m\u001b[m/            \u001b[35mncbi-blast\u001b[m\u001b[m@              \u001b[34mstacks-1.13\u001b[m\u001b[m/\r\n",
        "\u001b[35mbowtie2\u001b[m\u001b[m@                 \u001b[34mncbi-blast-2.2.29+\u001b[m\u001b[m/      \u001b[35mtrinity\u001b[m\u001b[m@\r\n",
        "\u001b[34mbowtie2-2.1.0\u001b[m\u001b[m/           \u001b[35mngsplot\u001b[m\u001b[m@                 \u001b[34mtrinityrnaseq_r20131110\u001b[m\u001b[m/\r\n"
       ]
      }
     ],
     "prompt_number": 5
    },
    {
     "cell_type": "code",
     "collapsed": false,
     "input": [
      "!curl -O http://ccb.jhu.edu/software/tophat/downloads/tophat-2.0.13.OSX_x86_64.tar.gz"
     ],
     "language": "python",
     "metadata": {},
     "outputs": [
      {
       "output_type": "stream",
       "stream": "stdout",
       "text": [
        "  % Total    % Received % Xferd  Average Speed   Time    Time     Time  Current\r\n",
        "                                 Dload  Upload   Total   Spent    Left  Speed\r\n",
        "\r",
        "  0     0    0     0    0     0      0      0 --:--:-- --:--:-- --:--:--     0"
       ]
      },
      {
       "output_type": "stream",
       "stream": "stdout",
       "text": [
        "Warning: Failed to create the file tophat-2.0.13.OSX_x86_64.tar.gz: Permission \r\n",
        "Warning: denied\r\n"
       ]
      },
      {
       "output_type": "stream",
       "stream": "stdout",
       "text": [
        "\r",
        "  0 2032k    0  2636    0     0  18508      0  0:01:52 --:--:--  0:01:52 18563\r\n",
        "curl: (23) Failed writing body (0 != 2636)\r\n"
       ]
      }
     ],
     "prompt_number": 6
    },
    {
     "cell_type": "code",
     "collapsed": false,
     "input": [
      "#Looks like I don't have write permissions for this folder.  Let's check.\n",
      "!cd ..\n",
      "!ls -l\n"
     ],
     "language": "python",
     "metadata": {},
     "outputs": [
      {
       "output_type": "stream",
       "stream": "stdout",
       "text": [
        "total 96\r\n",
        "lrwxr-xr-x    1 root  wheel    16 Feb 11  2014 \u001b[35mTrimmomatic\u001b[m\u001b[m -> Trimmomatic-0.30\r\n",
        "drwxr-xr-x    5 root  wheel   170 Feb 11  2014 \u001b[34mTrimmomatic-0.30\u001b[m\u001b[m\r\n",
        "lrwxr-xr-x    1 root  wheel    19 Aug  8 14:04 \u001b[35mTrinotate\u001b[m\u001b[m -> Trinotate_r20140708\r\n",
        "drwxr-xr-x   14 root  wheel   476 Aug  8 14:03 \u001b[34mTrinotate_r20140708\u001b[m\u001b[m\r\n",
        "drwxr-xr-x   15 root  wheel   510 May 28  2014 \u001b[34manaconda\u001b[m\u001b[m\r\n",
        "lrwxr-xr-x    1 root  wheel    12 Feb  5  2014 \u001b[35mbowtie\u001b[m\u001b[m -> bowtie-1.0.0\r\n",
        "drwxr-xr-x   20 root  wheel   680 Feb  5  2014 \u001b[34mbowtie-1.0.0\u001b[m\u001b[m\r\n",
        "lrwxr-xr-x    1 root  wheel    13 Feb  5  2014 \u001b[35mbowtie2\u001b[m\u001b[m -> bowtie2-2.1.0\r\n",
        "drwxr-xr-x   19 root  wheel   646 Feb  5  2014 \u001b[34mbowtie2-2.1.0\u001b[m\u001b[m\r\n",
        "drwxr-xr-x   37 root  wheel  1258 Aug 11 10:10 \u001b[34mdbs\u001b[m\u001b[m\r\n",
        "lrwxr-xr-x    1 root  wheel    22 Feb 11  2014 \u001b[35mfastx_toolkit\u001b[m\u001b[m -> fastx_toolkit-0.0.13.2\r\n",
        "drwxr-xr-x    4 root  wheel   136 Feb 11  2014 \u001b[34mfastx_toolkit-0.0.13.2\u001b[m\u001b[m\r\n",
        "lrwxr-xr-x    1 root  wheel    11 Jun 30  2014 \u001b[35mhmmer\u001b[m\u001b[m -> hmmer-3.1b1\r\n",
        "drwxr-xr-x   42 root  wheel  1428 Jun 30  2014 \u001b[34mhmmer-3.1b1\u001b[m\u001b[m\r\n",
        "drwxr-xr-x    5 root  wheel   170 Feb 11  2014 \u001b[34mlibgtextutils-0.6.1\u001b[m\u001b[m\r\n",
        "lrwxr-xr-x    1 root  wheel    18 May 28  2014 \u001b[35mncbi-blast\u001b[m\u001b[m -> ncbi-blast-2.2.29+\r\n",
        "drwxr-xr-x@   8 root  wheel   272 May 28  2014 \u001b[34mncbi-blast-2.2.29+\u001b[m\u001b[m\r\n",
        "lrwxr-xr-x    1 root  wheel    12 Apr 28  2014 \u001b[35mngsplot\u001b[m\u001b[m -> ngsplot-2.08\r\n",
        "drwxr-xr-x    9 root  wheel   306 Apr 28  2014 \u001b[34mngsplot-2.08\u001b[m\u001b[m\r\n",
        "lrwxr-xr-x    1 root  wheel    11 Feb  5  2014 \u001b[35mrsem\u001b[m\u001b[m -> rsem-1.2.10\r\n",
        "drwxr-xr-x  107 root  wheel  3638 Feb  5  2014 \u001b[34mrsem-1.2.10\u001b[m\u001b[m\r\n",
        "drwxr-xr-x   10 root  wheel   340 Aug  8 14:00 \u001b[34msignalp-4.1\u001b[m\u001b[m\r\n",
        "-rw-r--r--    1 root  wheel  1125 Aug  8 14:03 source.sh\r\n",
        "lrwxr-xr-x    1 root  wheel    11 Feb 27  2014 \u001b[35mstacks\u001b[m\u001b[m -> stacks-1.13\r\n",
        "drwxr-xr-x    4 root  wheel   136 Feb 27  2014 \u001b[34mstacks-1.13\u001b[m\u001b[m\r\n",
        "lrwxr-xr-x    1 root  wheel    23 Feb  5  2014 \u001b[35mtrinity\u001b[m\u001b[m -> trinityrnaseq_r20131110\r\n",
        "drwxr-xr-x   20 root  wheel   680 Feb  5  2014 \u001b[34mtrinityrnaseq_r20131110\u001b[m\u001b[m\r\n"
       ]
      }
     ],
     "prompt_number": 8
    },
    {
     "cell_type": "code",
     "collapsed": false,
     "input": [
      "!cd .."
     ],
     "language": "python",
     "metadata": {},
     "outputs": [],
     "prompt_number": 9
    },
    {
     "cell_type": "code",
     "collapsed": false,
     "input": [
      "!ls -l"
     ],
     "language": "python",
     "metadata": {},
     "outputs": [
      {
       "output_type": "stream",
       "stream": "stdout",
       "text": [
        "total 96\r\n",
        "lrwxr-xr-x    1 root  wheel    16 Feb 11  2014 \u001b[35mTrimmomatic\u001b[m\u001b[m -> Trimmomatic-0.30\r\n",
        "drwxr-xr-x    5 root  wheel   170 Feb 11  2014 \u001b[34mTrimmomatic-0.30\u001b[m\u001b[m\r\n",
        "lrwxr-xr-x    1 root  wheel    19 Aug  8 14:04 \u001b[35mTrinotate\u001b[m\u001b[m -> Trinotate_r20140708\r\n",
        "drwxr-xr-x   14 root  wheel   476 Aug  8 14:03 \u001b[34mTrinotate_r20140708\u001b[m\u001b[m\r\n",
        "drwxr-xr-x   15 root  wheel   510 May 28  2014 \u001b[34manaconda\u001b[m\u001b[m\r\n",
        "lrwxr-xr-x    1 root  wheel    12 Feb  5  2014 \u001b[35mbowtie\u001b[m\u001b[m -> bowtie-1.0.0\r\n",
        "drwxr-xr-x   20 root  wheel   680 Feb  5  2014 \u001b[34mbowtie-1.0.0\u001b[m\u001b[m\r\n",
        "lrwxr-xr-x    1 root  wheel    13 Feb  5  2014 \u001b[35mbowtie2\u001b[m\u001b[m -> bowtie2-2.1.0\r\n",
        "drwxr-xr-x   19 root  wheel   646 Feb  5  2014 \u001b[34mbowtie2-2.1.0\u001b[m\u001b[m\r\n",
        "drwxr-xr-x   37 root  wheel  1258 Aug 11 10:10 \u001b[34mdbs\u001b[m\u001b[m\r\n",
        "lrwxr-xr-x    1 root  wheel    22 Feb 11  2014 \u001b[35mfastx_toolkit\u001b[m\u001b[m -> fastx_toolkit-0.0.13.2\r\n",
        "drwxr-xr-x    4 root  wheel   136 Feb 11  2014 \u001b[34mfastx_toolkit-0.0.13.2\u001b[m\u001b[m\r\n",
        "lrwxr-xr-x    1 root  wheel    11 Jun 30  2014 \u001b[35mhmmer\u001b[m\u001b[m -> hmmer-3.1b1\r\n",
        "drwxr-xr-x   42 root  wheel  1428 Jun 30  2014 \u001b[34mhmmer-3.1b1\u001b[m\u001b[m\r\n",
        "drwxr-xr-x    5 root  wheel   170 Feb 11  2014 \u001b[34mlibgtextutils-0.6.1\u001b[m\u001b[m\r\n",
        "lrwxr-xr-x    1 root  wheel    18 May 28  2014 \u001b[35mncbi-blast\u001b[m\u001b[m -> ncbi-blast-2.2.29+\r\n",
        "drwxr-xr-x@   8 root  wheel   272 May 28  2014 \u001b[34mncbi-blast-2.2.29+\u001b[m\u001b[m\r\n",
        "lrwxr-xr-x    1 root  wheel    12 Apr 28  2014 \u001b[35mngsplot\u001b[m\u001b[m -> ngsplot-2.08\r\n",
        "drwxr-xr-x    9 root  wheel   306 Apr 28  2014 \u001b[34mngsplot-2.08\u001b[m\u001b[m\r\n",
        "lrwxr-xr-x    1 root  wheel    11 Feb  5  2014 \u001b[35mrsem\u001b[m\u001b[m -> rsem-1.2.10\r\n",
        "drwxr-xr-x  107 root  wheel  3638 Feb  5  2014 \u001b[34mrsem-1.2.10\u001b[m\u001b[m\r\n",
        "drwxr-xr-x   10 root  wheel   340 Aug  8 14:00 \u001b[34msignalp-4.1\u001b[m\u001b[m\r\n",
        "-rw-r--r--    1 root  wheel  1125 Aug  8 14:03 source.sh\r\n",
        "lrwxr-xr-x    1 root  wheel    11 Feb 27  2014 \u001b[35mstacks\u001b[m\u001b[m -> stacks-1.13\r\n",
        "drwxr-xr-x    4 root  wheel   136 Feb 27  2014 \u001b[34mstacks-1.13\u001b[m\u001b[m\r\n",
        "lrwxr-xr-x    1 root  wheel    23 Feb  5  2014 \u001b[35mtrinity\u001b[m\u001b[m -> trinityrnaseq_r20131110\r\n",
        "drwxr-xr-x   20 root  wheel   680 Feb  5  2014 \u001b[34mtrinityrnaseq_r20131110\u001b[m\u001b[m\r\n"
       ]
      }
     ],
     "prompt_number": 10
    },
    {
     "cell_type": "code",
     "collapsed": false,
     "input": [
      "!cd .."
     ],
     "language": "python",
     "metadata": {},
     "outputs": [],
     "prompt_number": 11
    },
    {
     "cell_type": "code",
     "collapsed": false,
     "input": [
      "pwd"
     ],
     "language": "python",
     "metadata": {},
     "outputs": [
      {
       "metadata": {},
       "output_type": "pyout",
       "prompt_number": 12,
       "text": [
        "u'/usr/local/bioinformatics'"
       ]
      }
     ],
     "prompt_number": 12
    },
    {
     "cell_type": "code",
     "collapsed": false,
     "input": [
      "cd .."
     ],
     "language": "python",
     "metadata": {},
     "outputs": [
      {
       "output_type": "stream",
       "stream": "stdout",
       "text": [
        "/usr/local\n"
       ]
      }
     ],
     "prompt_number": 13
    },
    {
     "cell_type": "code",
     "collapsed": false,
     "input": [
      "ls -l"
     ],
     "language": "python",
     "metadata": {},
     "outputs": [
      {
       "output_type": "stream",
       "stream": "stdout",
       "text": [
        "total 0\r\n",
        "drwxr-xr-x   6 root  wheel  204 Oct 13 09:35 \u001b[34mbin\u001b[m\u001b[m/\r\n",
        "drwxr-xr-x  29 root  wheel  986 Aug  8 14:04 \u001b[34mbioinformatics\u001b[m\u001b[m/\r\n",
        "drwxr-xr-x  29 root  wheel  986 Oct 13 09:35 \u001b[34minclude\u001b[m\u001b[m/\r\n",
        "drwxr-xr-x  20 root  wheel  680 Oct 13 09:35 \u001b[34mlib\u001b[m\u001b[m/\r\n",
        "drwxr-xr-x   5 root  wheel  170 Mar 29  2013 \u001b[34mman\u001b[m\u001b[m/\r\n",
        "drwxr-xr-x   3 root  wheel  102 Mar 29  2013 \u001b[34mshare\u001b[m\u001b[m/\r\n"
       ]
      }
     ],
     "prompt_number": 14
    },
    {
     "cell_type": "code",
     "collapsed": false,
     "input": [
      "#Don't have write permissions (evidenced by the \"r-x\" in the third group."
     ],
     "language": "python",
     "metadata": {},
     "outputs": [],
     "prompt_number": 15
    },
    {
     "cell_type": "code",
     "collapsed": false,
     "input": [
      "#had to run the curl command using sudo in shell, outside of IPython\n",
      "#sudo curl -O http://ccb.jhu.edu/software/tophat/downloads/tophat-2.0.13.OSX_x86_64.tar.gz"
     ],
     "language": "python",
     "metadata": {},
     "outputs": [],
     "prompt_number": 16
    },
    {
     "cell_type": "code",
     "collapsed": false,
     "input": [
      "ls bioinformatics/"
     ],
     "language": "python",
     "metadata": {},
     "outputs": [
      {
       "output_type": "stream",
       "stream": "stdout",
       "text": [
        "\u001b[35mTrimmomatic\u001b[m\u001b[m@                     \u001b[34mlibgtextutils-0.6.1\u001b[m\u001b[m/\r\n",
        "\u001b[34mTrimmomatic-0.30\u001b[m\u001b[m/                \u001b[35mncbi-blast\u001b[m\u001b[m@\r\n",
        "\u001b[35mTrinotate\u001b[m\u001b[m@                       \u001b[34mncbi-blast-2.2.29+\u001b[m\u001b[m/\r\n",
        "\u001b[34mTrinotate_r20140708\u001b[m\u001b[m/             \u001b[35mngsplot\u001b[m\u001b[m@\r\n",
        "\u001b[34manaconda\u001b[m\u001b[m/                        \u001b[34mngsplot-2.08\u001b[m\u001b[m/\r\n",
        "\u001b[35mbowtie\u001b[m\u001b[m@                          \u001b[35mrsem\u001b[m\u001b[m@\r\n",
        "\u001b[34mbowtie-1.0.0\u001b[m\u001b[m/                    \u001b[34mrsem-1.2.10\u001b[m\u001b[m/\r\n",
        "\u001b[35mbowtie2\u001b[m\u001b[m@                         \u001b[34msignalp-4.1\u001b[m\u001b[m/\r\n",
        "\u001b[34mbowtie2-2.1.0\u001b[m\u001b[m/                   source.sh\r\n",
        "\u001b[34mdbs\u001b[m\u001b[m/                             \u001b[35mstacks\u001b[m\u001b[m@\r\n",
        "\u001b[35mfastx_toolkit\u001b[m\u001b[m@                   \u001b[34mstacks-1.13\u001b[m\u001b[m/\r\n",
        "\u001b[34mfastx_toolkit-0.0.13.2\u001b[m\u001b[m/          tophat-2.0.13.OSX_x86_64.tar.gz\r\n",
        "\u001b[35mhmmer\u001b[m\u001b[m@                           \u001b[35mtrinity\u001b[m\u001b[m@\r\n",
        "\u001b[34mhmmer-3.1b1\u001b[m\u001b[m/                     \u001b[34mtrinityrnaseq_r20131110\u001b[m\u001b[m/\r\n"
       ]
      }
     ],
     "prompt_number": 17
    },
    {
     "cell_type": "code",
     "collapsed": false,
     "input": [
      "cd bioinformatics/"
     ],
     "language": "python",
     "metadata": {},
     "outputs": [
      {
       "output_type": "stream",
       "stream": "stdout",
       "text": [
        "/usr/local/bioinformatics\n"
       ]
      }
     ],
     "prompt_number": 18
    },
    {
     "cell_type": "code",
     "collapsed": false,
     "input": [
      "!tar -zxvf tophat-2.0.13.OSX_x86_64.tar.gz"
     ],
     "language": "python",
     "metadata": {},
     "outputs": [
      {
       "output_type": "stream",
       "stream": "stdout",
       "text": [
        "x tophat-2.0.13.OSX_x86_64/: Can't create 'tophat-2.0.13.OSX_x86_64'\r\n",
        "x tophat-2.0.13.OSX_x86_64/AUTHORS: Failed to create dir 'tophat-2.0.13.OSX_x86_64'Can't create 'tophat-2.0.13.OSX_x86_64/AUTHORS'\r\n",
        "x tophat-2.0.13.OSX_x86_64/bam2fastx: Failed to create dir 'tophat-2.0.13.OSX_x86_64'Can't create 'tophat-2.0.13.OSX_x86_64/bam2fastx'\r\n",
        "x tophat-2.0.13.OSX_x86_64/bam_merge: Failed to create dir 'tophat-2.0.13.OSX_x86_64'Can't create 'tophat-2.0.13.OSX_x86_64/bam_merge'\r\n",
        "x tophat-2.0.13.OSX_x86_64/bed_to_juncs: Failed to create dir 'tophat-2.0.13.OSX_x86_64'Can't create 'tophat-2.0.13.OSX_x86_64/bed_to_juncs'\r\n",
        "x tophat-2.0.13.OSX_x86_64/contig_to_chr_coords: Failed to create dir 'tophat-2.0.13.OSX_x86_64'Can't create 'tophat-2.0.13.OSX_x86_64/contig_to_chr_coords'\r\n",
        "x tophat-2.0.13.OSX_x86_64/COPYING: Failed to create dir 'tophat-2.0.13.OSX_x86_64'Can't create 'tophat-2.0.13.OSX_x86_64/COPYING'\r\n",
        "x tophat-2.0.13.OSX_x86_64/fix_map_ordering: Failed to create dir 'tophat-2.0.13.OSX_x86_64'Can't create 'tophat-2.0.13.OSX_x86_64/fix_map_ordering'\r\n",
        "x tophat-2.0.13.OSX_x86_64/gtf_juncs: Failed to create dir 'tophat-2.0.13.OSX_x86_64'Can't create 'tophat-2.0.13.OSX_x86_64/gtf_juncs'\r\n",
        "x tophat-2.0.13.OSX_x86_64/gtf_to_fasta: Failed to create dir 'tophat-2.0.13.OSX_x86_64'Can't create 'tophat-2.0.13.OSX_x86_64/gtf_to_fasta'\r\n",
        "x tophat-2.0.13.OSX_x86_64/juncs_db: Failed to create dir 'tophat-2.0.13.OSX_x86_64'Can't create 'tophat-2.0.13.OSX_x86_64/juncs_db'\r\n",
        "x tophat-2.0.13.OSX_x86_64/long_spanning_reads: Failed to create dir 'tophat-2.0.13.OSX_x86_64'Can't create 'tophat-2.0.13.OSX_x86_64/long_spanning_reads'\r\n",
        "x tophat-2.0.13.OSX_x86_64/map2gtf: Failed to create dir 'tophat-2.0.13.OSX_x86_64'Can't create 'tophat-2.0.13.OSX_x86_64/map2gtf'\r\n",
        "x tophat-2.0.13.OSX_x86_64/prep_reads: Failed to create dir 'tophat-2.0.13.OSX_x86_64'Can't create 'tophat-2.0.13.OSX_x86_64/prep_reads'\r\n",
        "x tophat-2.0.13.OSX_x86_64/README: Failed to create dir 'tophat-2.0.13.OSX_x86_64'Can't create 'tophat-2.0.13.OSX_x86_64/README'\r\n",
        "x tophat-2.0.13.OSX_x86_64/sam_juncs: Failed to create dir 'tophat-2.0.13.OSX_x86_64'Can't create 'tophat-2.0.13.OSX_x86_64/sam_juncs'\r\n",
        "x tophat-2.0.13.OSX_x86_64/samtools_0.1.18: Failed to create dir 'tophat-2.0.13.OSX_x86_64'Can't create 'tophat-2.0.13.OSX_x86_64/samtools_0.1.18'\r\n",
        "x tophat-2.0.13.OSX_x86_64/segment_juncs: Failed to create dir 'tophat-2.0.13.OSX_x86_64'Can't create 'tophat-2.0.13.OSX_x86_64/segment_juncs'\r\n",
        "x tophat-2.0.13.OSX_x86_64/sra_to_solid: Failed to create dir 'tophat-2.0.13.OSX_x86_64'Can't create 'tophat-2.0.13.OSX_x86_64/sra_to_solid'\r\n",
        "x tophat-2.0.13.OSX_x86_64/tophat: Failed to create dir 'tophat-2.0.13.OSX_x86_64'Can't create 'tophat-2.0.13.OSX_x86_64/tophat'\r\n",
        "x tophat-2.0.13.OSX_x86_64/tophat-fusion-post: Failed to create dir 'tophat-2.0.13.OSX_x86_64'Can't create 'tophat-2.0.13.OSX_x86_64/tophat-fusion-post'\r\n",
        "x tophat-2.0.13.OSX_x86_64/tophat2: Failed to create dir 'tophat-2.0.13.OSX_x86_64'Can't create 'tophat-2.0.13.OSX_x86_64/tophat2'\r\n",
        "x tophat-2.0.13.OSX_x86_64/tophat_reports: Failed to create dir 'tophat-2.0.13.OSX_x86_64'Can't create 'tophat-2.0.13.OSX_x86_64/tophat_reports'\r\n",
        "tar: Error exit delayed from previous errors.\r\n"
       ]
      }
     ],
     "prompt_number": 19
    },
    {
     "cell_type": "code",
     "collapsed": false,
     "input": [
      "#Ugh, same permissions issue.  Have to use sudo.  BRB..."
     ],
     "language": "python",
     "metadata": {},
     "outputs": [],
     "prompt_number": 20
    },
    {
     "cell_type": "code",
     "collapsed": false,
     "input": [
      "#ran this command to unpack file\n",
      "#sudo tar -zxvf tophat-2.0.13.OSX_x86_64.tar.gz"
     ],
     "language": "python",
     "metadata": {},
     "outputs": [],
     "prompt_number": 21
    },
    {
     "cell_type": "code",
     "collapsed": false,
     "input": [
      "ls"
     ],
     "language": "python",
     "metadata": {},
     "outputs": [
      {
       "output_type": "stream",
       "stream": "stdout",
       "text": [
        "\u001b[35mTrimmomatic\u001b[m\u001b[m@                     \u001b[35mncbi-blast\u001b[m\u001b[m@\r\n",
        "\u001b[34mTrimmomatic-0.30\u001b[m\u001b[m/                \u001b[34mncbi-blast-2.2.29+\u001b[m\u001b[m/\r\n",
        "\u001b[35mTrinotate\u001b[m\u001b[m@                       \u001b[35mngsplot\u001b[m\u001b[m@\r\n",
        "\u001b[34mTrinotate_r20140708\u001b[m\u001b[m/             \u001b[34mngsplot-2.08\u001b[m\u001b[m/\r\n",
        "\u001b[34manaconda\u001b[m\u001b[m/                        \u001b[35mrsem\u001b[m\u001b[m@\r\n",
        "\u001b[35mbowtie\u001b[m\u001b[m@                          \u001b[34mrsem-1.2.10\u001b[m\u001b[m/\r\n",
        "\u001b[34mbowtie-1.0.0\u001b[m\u001b[m/                    \u001b[34msignalp-4.1\u001b[m\u001b[m/\r\n",
        "\u001b[35mbowtie2\u001b[m\u001b[m@                         source.sh\r\n",
        "\u001b[34mbowtie2-2.1.0\u001b[m\u001b[m/                   \u001b[35mstacks\u001b[m\u001b[m@\r\n",
        "\u001b[34mdbs\u001b[m\u001b[m/                             \u001b[34mstacks-1.13\u001b[m\u001b[m/\r\n",
        "\u001b[35mfastx_toolkit\u001b[m\u001b[m@                   \u001b[34mtophat-2.0.13.OSX_x86_64\u001b[m\u001b[m/\r\n",
        "\u001b[34mfastx_toolkit-0.0.13.2\u001b[m\u001b[m/          tophat-2.0.13.OSX_x86_64.tar.gz\r\n",
        "\u001b[35mhmmer\u001b[m\u001b[m@                           \u001b[35mtrinity\u001b[m\u001b[m@\r\n",
        "\u001b[34mhmmer-3.1b1\u001b[m\u001b[m/                     \u001b[34mtrinityrnaseq_r20131110\u001b[m\u001b[m/\r\n",
        "\u001b[34mlibgtextutils-0.6.1\u001b[m\u001b[m/\r\n"
       ]
      }
     ],
     "prompt_number": 22
    },
    {
     "cell_type": "code",
     "collapsed": false,
     "input": [
      "#removing the tophat gz file requires sudo\n",
      "#sudo rm top