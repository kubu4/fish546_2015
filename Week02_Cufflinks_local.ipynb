{
 "metadata": {
  "name": "",
  "signature": "sha256:d9c80366ffaa296413a7eb985b2accb3043fdba48ce4e0bec4af17bd8384219f"
 },
 "nbformat": 3,
 "nbformat_minor": 0,
 "worksheets": [
  {
   "cells": [
    {
     "cell_type": "code",
     "collapsed": false,
     "input": [
      "#see which/if cufflinks is installed\n",
      "!which cufflinks"
     ],
     "language": "python",
     "metadata": {},
     "outputs": [],
     "prompt_number": 1
    },
    {
     "cell_type": "code",
     "collapsed": false,
     "input": [
      "ls /usr/local/bioinformatics/"
     ],
     "language": "python",
     "metadata": {},
     "outputs": [
      {
       "output_type": "stream",
       "stream": "stdout",
       "text": [
        "\u001b[34mFastQC\u001b[m\u001b[m/                   \u001b[34mdbs\u001b[m\u001b[m/                      \u001b[35mrsem\u001b[m\u001b[m@\r\n",
        "\u001b[35mTrimmomatic\u001b[m\u001b[m@              \u001b[35mfastx_toolkit\u001b[m\u001b[m@            \u001b[34mrsem-1.2.10\u001b[m\u001b[m/\r\n",
        "\u001b[34mTrimmomatic-0.30\u001b[m\u001b[m/         \u001b[34mfastx_toolkit-0.0.13.2\u001b[m\u001b[m/   \u001b[34msignalp-4.1\u001b[m\u001b[m/\r\n",
        "\u001b[35mTrinotate\u001b[m\u001b[m@                \u001b[35mhmmer\u001b[m\u001b[m@                    source.sh\r\n",
        "\u001b[34mTrinotate_r20140708\u001b[m\u001b[m/      \u001b[34mhmmer-3.1b1\u001b[m\u001b[m/              \u001b[35mstacks\u001b[m\u001b[m@\r\n",
        "\u001b[34manaconda\u001b[m\u001b[m/                 \u001b[34mlibgtextutils-0.6.1\u001b[m\u001b[m/      \u001b[34mstacks-1.13\u001b[m\u001b[m/\r\n",
        "\u001b[35mbowtie\u001b[m\u001b[m@                   \u001b[35mncbi-blast\u001b[m\u001b[m@               \u001b[34mtophat-2.0.13.OSX_x86_64\u001b[m\u001b[m/\r\n",
        "\u001b[34mbowtie-1.0.0\u001b[m\u001b[m/             \u001b[34mncbi-blast-2.2.29+\u001b[m\u001b[m/       \u001b[35mtrinity\u001b[m\u001b[m@\r\n",
        "\u001b[35mbowtie2\u001b[m\u001b[m@                  \u001b[35mngsplot\u001b[m\u001b[m@                  \u001b[34mtrinityrnaseq_r20131110\u001b[m\u001b[m/\r\n",
        "\u001b[34mbowtie2-2.1.0\u001b[m\u001b[m/            \u001b[34mngsplot-2.08\u001b[m\u001b[m/\r\n"
       ]
      }
     ],
     "prompt_number": 2
    },
    {
     "cell_type": "code",
     "collapsed": false,
     "input": [
      "cd /usr/local/bioinformatics/"
     ],
     "language": "python",
     "metadata": {},
     "outputs": [
      {
       "output_type": "stream",
       "stream": "stdout",
       "text": [
        "/usr/local/bioinformatics\n"
       ]
      }
     ],
     "prompt_number": 4
    },
    {
     "cell_type": "code",
     "collapsed": false,
     "input": [
      "!cat source.sh"
     ],
     "language": "python",
     "metadata": {},
     "outputs": [
      {
       "output_type": "stream",
       "stream": "stdout",
       "text": [
        "# Variables to use the Bioinformatics directory\r\n",
        "\r\n",
        "export BIO=/usr/local/bioinformatics\r\n",
        "\r\n",
        "# Anaconda\r\n",
        "export PATH=${BIO}/anaconda/bin:${PATH}\r\n",
        "\r\n",
        "# PYTHONPATH for using R with iPython\r\n",
        "export PYTHONPATH=/opt/local/Library/Frameworks/Python.framework/Versions/2.7/lib/python2.7/site-packages\r\n",
        "\r\n",
        "# BLAST\r\n",
        "export PATH=${BIO}/ncbi-blast/bin:${PATH}\r\n",
        "export BLASTDB=/Volumes/Data/blast_db\r\n",
        "\r\n",
        "# Trinity\r\n",
        "export PATH=${BIO}/trinity:${PATH}\r\n",
        "\r\n",
        "# HMMER\r\n",
        "export PATH=${BIO}/hmmer:${PATH}\r\n",
        "\r\n",
        "# Bowtie1\r\n",
        "export PATH=${BIO}/bowtie:${PATH}\r\n",
        "\r\n",
        "# Bowtie2\r\n",
        "export PATH=${BIO}/bowtie2:${PATH}\r\n",
        "\r\n",
        "# RSEM\r\n",
        "export PATH=${BIO}/rsem:${PATH}\r\n",
        "\r\n",
        "# Khmer tools\r\n",
        "export PATH=/opt/local/Library/Frameworks/Python.framework/Versions/2.7/bin:${PATH}\r\n",
        "\r\n",
        "# FASTX toolkit\r\n",
        "export PATH=${BIO}/fastx_toolkit/bin:${PATH}\r\n",
        "\r\n",
        "# Samtools (via RSEM)\r\n",
        "export PATH=${BIO}/rsem/sam:${PATH}\r\n",
        "\r\n",
        "# stacks\r\n",
        "export PATH=${BIO}/stacks/bin:${PATH}\r\n",
        "\r\n",
        "# Trimmomatic\r\n",
        "alias trimmomatic=\"java -jar ${BIO}/Trimmomatic/trimmomatic-0.30.jar\"\r\n",
        "\r\n",
        "# ngsplot\r\n",
        "export PATH=${BIO}/ngsplot/bin:${PATH}\r\n",
        "export NGSPLOT=${BIO}/ngsplot\r\n",
        "\r\n",
        "# Trinotate\r\n",
        "export PATH=${BIO}/Trinotate:${PATH}\r\n",
        "\r\n",
        "# signalp\r\n",
        "export PATH=${BIO}/signalp-4.1:${PATH}\r\n",
        "\r\n",
        "# Tophat\r\n",
        "export PATH=${BIO}/tophat-2.0.13.OSX_x86_64:${PATH}\r\n",
        "\r\n",
        "# FastQC\r\n",
        "export PATH=${BIO}/FastQC:${PATH}\r\n"
       ]
      }
     ],
     "prompt_number": 5
    },
    {
     "cell_type": "code",
     "collapsed": false,
     "input": [],
     "language": "python",
     "metadata": {},
     "outputs": []
    }
   ],
   "metadata": {}
  }
 ]
}