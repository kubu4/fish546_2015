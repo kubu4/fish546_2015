{
 "metadata": {
  "name": "",
  "signature": "sha256:19e3bee4413b7a31a642a0626549e5fcad5be4f214737a14701574404e575d7e"
 },
 "nbformat": 3,
 "nbformat_minor": 0,
 "worksheets": [
  {
   "cells": [
    {
     "cell_type": "code",
     "collapsed": false,
     "input": [
      "#see which/if cufflinks is installed\n",
      "!which cufflinks"
     ],
     "language": "python",
     "metadata": {},
     "outputs": [],
     "prompt_number": 1
    },
    {
     "cell_type": "code",
     "collapsed": false,
     "input": [
      "ls /usr/local/bioinformatics/"
     ],
     "language": "python",
     "metadata": {},
     "outputs": [
      {
       "output_type": "stream",
       "stream": "stdout",
       "text": [
        "\u001b[34mFastQC\u001b[m\u001b[m/                   \u001b[34mdbs\u001b[m\u001b[m/                      \u001b[35mrsem\u001b[m\u001b[m@\r\n",
        "\u001b[35mTrimmomatic\u001b[m\u001b[m@              \u001b[35mfastx_toolkit\u001b[m\u001b[m@            \u001b[34mrsem-1.2.10\u001b[m\u001b[m/\r\n",
        "\u001b[34mTrimmomatic-0.30\u001b[m\u001b[m/         \u001b[34mfastx_toolkit-0.0.13.2\u001b[m\u001b[m/   \u001b[34msignalp-4.1\u001b[m\u001b[m/\r\n",
        "\u001b[35mTrinotate\u001b[m\u001b[m@                \u001b[35mhmmer\u001b[m\u001b[m@                    source.sh\r\n",
        "\u001b[34mTrinotate_r20140708\u001b[m\u001b[m/      \u001b[34mhmmer-3.1b1\u001b[m\u001b[m/              \u001b[35mstacks\u001b[m\u001b[m@\r\n",
        "\u001b[34manaconda\u001b[m\u001b[m/                 \u001b[34mlibgtextutils-0.6.1\u001b[m\u001b[m/      \u001b[34mstacks-1.13\u001b[m\u001b[m/\r\n",
        "\u001b[35mbowtie\u001b[m\u001b[m@                   \u001b[35mncbi-blast\u001b[m\u001b[m@               \u001b[34mtophat-2.0.13.OSX_x86_64\u001b[m\u001b[m/\r\n",
        "\u001b[34mbowtie-1.0.0\u001b[m\u001b[m/             \u001b[34mncbi-blast-2.2.29+\u001b[m\u001b[m/       \u001b[35mtrinity\u001b[m\u001b[m@\r\n",
        "\u001b[35mbowtie2\u001b[m\u001b[m@                  \u001b[35mngsplot\u001b[m\u001b[m@                  \u001b[34mtrinityrnaseq_r20131110\u001b[m\u001b[m/\r\n",
        "\u001b[34mbowtie2-2.1.0\u001b[m\u001b[m/            \u001b[34mngsplot-2.08\u001b[m\u001b[m/\r\n"
       ]
      }
     ],
     "prompt_number": 2
    },
    {
     "cell_type": "code",
     "collapsed": false,
     "input": [
      "cd /usr/local/bioinformatics/"
     ],
     "language": "python",
     "metadata": {},
     "outputs": [
      {
       "output_type": "stream",
       "stream": "stdout",
       "text": [
        "/usr/local/bioinformatics\n"
       ]
      }
     ],
     "prompt_number": 4
    },
    {
     "cell_type": "code",
     "collapsed": false,
     "input": [
      "!cat source.sh"
     ],
     "language": "python",
     "metadata": {},
     "outputs": [
      {
       "output_type": "stream",
       "stream": "stdout",
       "text": [
        "# Variables to use the Bioinformatics directory\r\n",
        "\r\n",
        "export BIO=/usr/local/bioinformatics\r\n",
        "\r\n",
        "# Anaconda\r\n",
        "export PATH=${BIO}/anaconda/bin:${PATH}\r\n",
        "\r\n",
        "# PYTHONPATH for using R with iPython\r\n",
        "export PYTHONPATH=/opt/local/Library/Frameworks/Python.framework/Versions/2.7/lib/python2.7/site-packages\r\n",
        "\r\n",
        "# BLAST\r\n",
        "export PATH=${BIO}/ncbi-blast/bin:${PATH}\r\n",
        "export BLASTDB=/Volumes/Data/blast_db\r\n",
        "\r\n",
        "# Trinity\r\n",
        "export PATH=${BIO}/trinity:${PATH}\r\n",
        "\r\n",
        "# HMMER\r\n",
        "export PATH=${BIO}/hmmer:${PATH}\r\n",
        "\r\n",
        "# Bowtie1\r\n",
        "export PATH=${BIO}/bowtie:${PATH}\r\n",
        "\r\n",
        "# Bowtie2\r\n",
        "export PATH=${BIO}/bowtie2:${PATH}\r\n",
        "\r\n",
        "# RSEM\r\n",
        "export PATH=${BIO}/rsem:${PATH}\r\n",
        "\r\n",
        "# Khmer tools\r\n",
        "export PATH=/opt/local/Library/Frameworks/Python.framework/Versions/2.7/bin:${PATH}\r\n",
        "\r\n",
        "# FASTX toolkit\r\n",
        "export PATH=${BIO}/fastx_toolkit/bin:${PATH}\r\n",
        "\r\n",
        "# Samtools (via RSEM)\r\n",
        "export PATH=${BIO}/rsem/sam:${PATH}\r\n",
        "\r\n",
        "# stacks\r\n",
        "export PATH=${BIO}/stacks/bin:${PATH}\r\n",
        "\r\n",
        "# Trimmomatic\r\n",
        "alias trimmomatic=\"java -jar ${BIO}/Trimmomatic/trimmomatic-0.30.jar\"\r\n",
        "\r\n",
        "# ngsplot\r\n",
        "export PATH=${BIO}/ngsplot/bin:${PATH}\r\n",
        "export NGSPLOT=${BIO}/ngsplot\r\n",
        "\r\n",
        "# Trinotate\r\n",
        "export PATH=${BIO}/Trinotate:${PATH}\r\n",
        "\r\n",
        "# signalp\r\n",
        "export PATH=${BIO}/signalp-4.1:${PATH}\r\n",
        "\r\n",
        "# Tophat\r\n",
        "export PATH=${BIO}/tophat-2.0.13.OSX_x86_64:${PATH}\r\n",
        "\r\n",
        "# FastQC\r\n",
        "export PATH=${BIO}/FastQC:${PATH}\r\n"
       ]
      }
     ],
     "prompt_number": 5
    },
    {
     "cell_type": "code",
     "collapsed": false,
     "input": [
      "cd /usr/local/bioinformatics/"
     ],
     "language": "python",
     "metadata": {},
     "outputs": [
      {
       "output_type": "stream",
       "stream": "stdout",
       "text": [
        "/usr/local/bioinformatics\n"
       ]
      }
     ],
     "prompt_number": 6
    },
    {
     "cell_type": "code",
     "collapsed": false,
     "input": [
      "#download cufflinks\n",
      "!curl -O http://cole-trapnell-lab.github.io/cufflinks/assets/downloads/cufflinks-2.2.1.OSX_x86_64.tar.gz"
     ],
     "language": "python",
     "metadata": {},
     "outputs": [
      {
       "output_type": "stream",
       "stream": "stdout",
       "text": [
        "  % Total    % Received % Xferd  Average Speed   Time    Time     Time  Current\r\n",
        "                                 Dload  Upload   Total   Spent    Left  Speed\r\n",
        "\r",
        "  0     0    0     0    0     0      0      0 --:--:-- --:--:-- --:--:--     0"
       ]
      },
      {
       "output_type": "stream",
       "stream": "stdout",
       "text": [
        "\r",
        "  0 5428k    0 14027    0     0  14602      0  0:06:20 --:--:--  0:06:20 14596"
       ]
      },
      {
       "output_type": "stream",
       "stream": "stdout",
       "text": [
        "\r",
        " 13 5428k   13  751k    0     0   629k      0  0:00:08  0:00:01  0:00:07  629k"
       ]
      },
      {
       "output_type": "stream",
       "stream": "stdout",
       "text": [
        "\r",
        "100 5428k  100 5428k    0     0  3194k      0  0:00:01  0:00:01 --:--:-- 3192k\r\n"
       ]
      }
     ],
     "prompt_number": 7
    },
    {
     "cell_type": "code",
     "collapsed": false,
     "input": [
      "#unpack gzipped tarbtall\n",
      "!time tar -zxvf cufflinks-2.2.1.OSX_x86_64.tar.gz"
     ],
     "language": "python",
     "metadata": {},
     "outputs": [
      {
       "output_type": "stream",
       "stream": "stdout",
       "text": [
        "x cufflinks-2.2.1.OSX_x86_64/\r\n",
        "x cufflinks-2.2.1.OSX_x86_64/AUTHORS\r\n",
        "x cufflinks-2.2.1.OSX_x86_64/cuffcompare\r\n",
        "x cufflinks-2.2.1.OSX_x86_64/cuffdiff\r\n",
        "x cufflinks-2.2.1.OSX_x86_64/cufflinks"
       ]
      },
      {
       "output_type": "stream",
       "stream": "stdout",
       "text": [
        "\r\n",
        "x cufflinks-2.2.1.OSX_x86_64/cuffmerge\r\n",
        "x cufflinks-2.2.1.OSX_x86_64/cuffnorm\r\n",
        "x cufflinks-2.2.1.OSX_x86_64/cuffquant\r\n",
        "x cufflinks-2.2.1.OSX_x86_64/gffread\r\n",
        "x cufflinks-2.2.1.OSX_x86_64/gtf_to_sam"
       ]
      },
      {
       "output_type": "stream",
       "stream": "stdout",
       "text": [
        "\r\n",
        "x cufflinks-2.2.1.OSX_x86_64/LICENSE\r\n",
        "x cufflinks-2.2.1.OSX_x86_64/README\r\n",
        "\r\n",
        "real\t0m0.112s\r\n",
        "user\t0m0.085s\r\n",
        "sys\t0m0.024s\r\n"
       ]
      }
     ],
     "prompt_number": 8
    },
    {
     "cell_type": "code",
     "collapsed": false,
     "input": [
      "!rm cufflinks-2.2.1.OSX_x86_64.tar.gz"
     ],
     "language": "python",
     "metadata": {},
     "outputs": [],
     "prompt_number": 9
    },
    {
     "cell_type": "code",
     "collapsed": false,
     "input": [
      "ls"
     ],
     "language": "python",
     "metadata": {},
     "outputs": [
      {
       "output_type": "stream",
       "stream": "stdout",
       "text": [
        "\u001b[34mFastQC\u001b[m\u001b[m/                     \u001b[34mhmmer-3.1b1\u001b[m\u001b[m/\r\n",
        "\u001b[35mTrimmomatic\u001b[m\u001b[m@                \u001b[34mlibgtextutils-0.6.1\u001b[m\u001b[m/\r\n",
        "\u001b[34mTrimmomatic-0.30\u001b[m\u001b[m/           \u001b[35mncbi-blast\u001b[m\u001b[m@\r\n",
        "\u001b[35mTrinotate\u001b[m\u001b[m@                  \u001b[34mncbi-blast-2.2.29+\u001b[m\u001b[m/\r\n",
        "\u001b[34mTrinotate_r20140708\u001b[m\u001b[m/        \u001b[35mngsplot\u001b[m\u001b[m@\r\n",
        "\u001b[34manaconda\u001b[m\u001b[m/                   \u001b[34mngsplot-2.08\u001b[m\u001b[m/\r\n",
        "\u001b[35mbowtie\u001b[m\u001b[m@                     \u001b[35mrsem\u001b[m\u001b[m@\r\n",
        "\u001b[34mbowtie-1.0.0\u001b[m\u001b[m/               \u001b[34mrsem-1.2.10\u001b[m\u001b[m/\r\n",
        "\u001b[35mbowtie2\u001b[m\u001b[m@                    \u001b[34msignalp-4.1\u001b[m\u001b[m/\r\n",
        "\u001b[34mbowtie2-2.1.0\u001b[m\u001b[m/              source.sh\r\n",
        "\u001b[34mcufflinks-2.2.1.OSX_x86_64\u001b[m\u001b[m/ \u001b[35mstacks\u001b[m\u001b[m@\r\n",
        "\u001b[34mdbs\u001b[m\u001b[m/                        \u001b[34mstacks-1.13\u001b[m\u001b[m/\r\n",
        "\u001b[35mfastx_toolkit\u001b[m\u001b[m@              \u001b[34mtophat-2.0.13.OSX_x86_64\u001b[m\u001b[m/\r\n",
        "\u001b[34mfastx_toolkit-0.0.13.2\u001b[m\u001b[m/     \u001b[35mtrinity\u001b[m\u001b[m@\r\n",
        "\u001b[35mhmmer\u001b[m\u001b[m@                      \u001b[34mtrinityrnaseq_r20131110\u001b[m\u001b[m/\r\n"
       ]
      }
     ],
     "prompt_number": 10
    },
    {
     "cell_type": "code",
     "collapsed": false,
     "input": [
      "#Add cufflinks to PATH by adding the following to source.sh file\n",
      "## Cufflinks\n",
      "#export PATH=${BIO}/cufflinks-2.2.1.OSX_x86_64:${PATH}\n"
     ],
     "language": "python",
     "metadata": {},
     "outputs": [],
     "prompt_number": 1
    },
    {
     "cell_type": "code",
     "collapsed": false,
     "input": [
      "#verify cufflinks is in PATH\n",
      "!which cufflinks"
     ],
     "language": "python",
     "metadata": {},
     "outputs": [
      {
       "output_type": "stream",
       "stream": "stdout",
       "text": [
        "/usr/local/bioinformatics/cufflinks-2.2.1.OSX_x86_64/cufflinks\r\n"
       ]
      }
     ],
     "prompt_number": 2
    },
    {
     "cell_type": "code",
     "collapsed": false,
     "input": [
      "cd /Volumes/Data/Sam/fish546_2015/gigasHSrnaSeq/analysis/"
     ],
     "language": "python",
     "metadata": {},
     "outputs": [
      {
       "output_type": "stream",
       "stream": "stdout",
       "text": [
        "/Volumes/Data/Sam/fish546_2015/gigasHSrnaSeq/analysis\n"
       ]
      }
     ],
     "prompt_number": 1
    },
    {
     "cell_type": "code",
     "collapsed": false,
     "input": [
      "ls"
     ],
     "language": "python",
     "metadata": {},
     "outputs": [
      {
       "output_type": "stream",
       "stream": "stdout",
       "text": [
        ".DS_Store        readme.md        \u001b[34mtophat_preHS_2M\u001b[m\u001b[m/\r\n",
        "\u001b[34mcufflinks_preHS\u001b[m\u001b[m/ \u001b[34mtophat_postHS\u001b[m\u001b[m/   \u001b[34mtophat_preHS_4M\u001b[m\u001b[m/\r\n",
        "\u001b[30m\u001b[43mfastqc\u001b[m\u001b[m/          \u001b[34mtophat_preHS\u001b[m\u001b[m/    \u001b[34mtophat_preHS_6M\u001b[m\u001b[m/\r\n"
       ]
      }
     ],
     "prompt_number": 2
    },
    {
     "cell_type": "code",
     "collapsed": false,
     "input": [
      "cd cufflinks_preHS/"
     ],
     "language": "python",
     "metadata": {},
     "outputs": [
      {
       "output_type": "stream",
       "stream": "stdout",
       "text": [
        "/Volumes/Data/Sam/fish546_2015/gigasHSrnaSeq/analysis/cufflinks_preHS\n"
       ]
      }
     ],
     "prompt_number": 3
    },
    {
     "cell_type": "code",
     "collapsed": false,
     "input": [
      "#commenting this out because output to IPython notebook\n",
      "#results in a notebook >100MB and can't be uploaded to Github\n",
      "#think I could've use the -o flag to have all that info written to a separate file...\n",
      "\n",
      "#!time cufflinks /Volumes/Data/Sam/fish546_2015/gigasHSrnaSeq/analysis/tophat_preHS/tophat_out/accepted_hits.bam"
     ],
     "language": "python",
     "metadata": {},
     "outputs": [],
     "prompt_number": 11
    },
    {
     "cell_type": "code",
     "collapsed": false,
     "input": [
      "!mkdir /Volumes/Data/Sam/fish546_2015/gigasHSrnaSeq/analysis/cufflinks_postHS"
     ],
     "language": "python",
     "metadata": {},
     "outputs": [],
     "prompt_number": 6
    },
    {
     "cell_type": "code",
     "collapsed": false,
     "input": [
      "cd /Volumes/Data/Sam/fish546_2015/gigasHSrnaSeq/analysis/cufflinks_postHS"
     ],
     "language": "python",
     "metadata": {},
     "outputs": [
      {
       "output_type": "stream",
       "stream": "stdout",
       "text": [
        "/Volumes/Data/Sam/fish546_2015/gigasHSrnaSeq/analysis/cufflinks_postHS\n"
       ]
      }
     ],
     "prompt_number": 7
    },
    {
     "cell_type": "code",
     "collapsed": false,
     "input": [
      "!time cufflinks /Volumes/Data/Sam/fish546_2015/gigasHSrnaSeq/analysis/tophat_postHS/tophat_out/accepted_hits.bam"
     ],
     "language": "python",
     "metadata": {},
     "outputs": [
      {
       "output_type": "stream",
       "stream": "stdout",
       "text": [
        "You are using Cufflinks v2.2.1, which is the most recent release.\r\n"
       ]
      },
      {
       "output_type": "stream",
       "stream": "stdout",
       "text": [
        "[19:45:18] Inspecting reads and determining fragment length distribution.\r\n"
       ]
      },
      {
       "output_type": "stream",
       "stream": "stdout",
       "text": [
        "/bin/sh: line 1: 44853 Segmentation fault: 11  cufflinks /Volumes/Data/Sam/fish546_2015/gigasHSrnaSeq/analysis/tophat_postHS/tophat_out/accepted_hits.bam\r\n",
        "\r\n",
        "real\t0m0.798s\r\n",
        "user\t0m0.024s\r\n",
        "sys\t0m0.005s\r\n"
       ]
      }
     ],
     "prompt_number": 8
    },
    {
     "cell_type": "code",
     "collapsed": false,
     "input": [
      "pwd"
     ],
     "language": "python",
     "metadata": {},
     "outputs": [
      {
       "metadata": {},
       "output_type": "pyout",
       "prompt_number": 9,
       "text": [
        "u'/Volumes/Data/Sam/fish546_2015/gigasHSrnaSeq/analysis/cufflinks_postHS'"
       ]
      }
     ],
     "prompt_number": 9
    },
    {
     "cell_type": "code",
     "collapsed": false,
     "input": [
      "#commenting this out because output to IPython notebook\n",
      "#results in a notebook >100MB and can't be uploaded to Github\n",
      "#think I could've use the -o flag to have all that info written to a separate file...\n",
      "\n",
      "#!time cufflinks /Volumes/Data/Sam/fish546_2015/gigasHSrnaSeq/analysis/tophat_postHS/tophat_out/accepted_hits.bam"
     ],
     "language": "python",
     "metadata": {},
     "outputs": [],
     "prompt_number": 12
    },
    {
     "cell_type": "code",
     "collapsed": false,
     "input": [
      "pwd"
     ],
     "language": "python",
     "metadata": {},
     "outputs": [
      {
       "metadata": {},
       "output_type": "pyout",
       "prompt_number": 1,
       "text": [
        "u'/Users/Sam'"
       ]
      }
     ],
     "prompt_number": 1
    },
    {
     "cell_type": "code",
     "collapsed": false,
     "input": [
      "cd /Volumes/Data/Sam/fish546_2015/gigasHSrnaSeq/analysis/"
     ],
     "language": "python",
     "metadata": {},
     "outputs": [
      {
       "output_type": "stream",
       "stream": "stdout",
       "text": [
        "/Volumes/Data/Sam/fish546_2015/gigasHSrnaSeq/analysis\n"
       ]
      }
     ],
     "prompt_number": 2
    },
    {
     "cell_type": "code",
     "collapsed": false,
     "input": [
      "ls"
     ],
     "language": "python",
     "metadata": {},
     "outputs": [
      {
       "output_type": "stream",
       "stream": "stdout",
       "text": [
        ".DS_Store         \u001b[30m\u001b[43mfastqc\u001b[m\u001b[m/           \u001b[34mtophat_preHS\u001b[m\u001b[m/     \u001b[34mtophat_preHS_6M\u001b[m\u001b[m/\r\n",
        "\u001b[34mcufflinks_postHS\u001b[m\u001b[m/ readme.md         \u001b[34mtophat_preHS_2M\u001b[m\u001b[m/\r\n",
        "\u001b[34mcufflinks_preHS\u001b[m\u001b[m/  \u001b[34mtophat_postHS\u001b[m\u001b[m/    \u001b[34mtophat_preHS_4M\u001b[m\u001b[m/\r\n"
       ]
      }
     ],
     "prompt_number": 3
    },
    {
     "cell_type": "code",
     "collapsed": false,
     "input": [
      "!mkdir cuffmerge"
     ],
     "language": "python",
     "metadata": {},
     "outputs": [],
     "prompt_number": 4
    },
    {
     "cell_type": "code",
     "collapsed": false,
     "input": [
      "#outside of IPython made a \"manifest\" file that\n",
      "#lists the full paths to each GTF file made by cufflinks\n",
      "#full paths required by cuffmerge\n",
      "\n",
      "#move to new directory\n",
      "!mv cufflinks_preHS/cufflinksManifest.txt cuffmerge/"
     ],
     "language": "python",
     "metadata": {},
     "outputs": [],
     "prompt_number": 5
    },
    {
     "cell_type": "code",
     "collapsed": false,
     "input": [
      "ls cuffmerge/"
     ],
     "language": "python",
     "metadata": {},
     "outputs": [
      {
       "output_type": "stream",
       "stream": "stdout",
       "text": [
        "cufflinksManifest.txt\r\n"
       ]
      }
     ],
     "prompt_number": 6
    },
    {
     "cell_type": "code",
     "collapsed": false,
     "input": [
      "#check manifest file contents\n",
      "!cat cuffmerge/cufflinksManifest.txt"
     ],
     "language": "python",
     "metadata": {},
     "outputs": [
      {
       "output_type": "stream",
       "stream": "stdout",
       "text": [
        "/Volumes/Data/Sam/fish546_2015/gigasHSrnaSeq/analysis/cufflinks_preHS/transcripts.gtf\r\n",
        "/Volumes/Data/Sam/fish546_2015/gigasHSrnaSeq/analysis/cufflinks_postHS/transcripts.gtf\r\n"
       ]
      }
     ],
     "prompt_number": 7
    },
    {
     "cell_type": "code",
     "collapsed": false,
     "input": [
      "#check for cuffmerge program\n",
      "!which cuffmerge"
     ],
     "language": "python",
     "metadata": {},
     "outputs": [
      {
       "output_type": "stream",
       "stream": "stdout",
       "text": [
        "/usr/local/bioinformatics/cufflinks-2.2.1.OSX_x86_64/cuffmerge\r\n"
       ]
      }
     ],
     "prompt_number": 9
    },
    {
     "cell_type": "code",
     "collapsed": false,
     "input": [
      "cd cuffmerge/"
     ],
     "language": "python",
     "metadata": {},
     "outputs": [
      {
       "output_type": "stream",
       "stream": "stdout",
       "text": [
        "/Volumes/Data/Sam/fish546_2015/gigasHSrnaSeq/analysis/cuffmerge\n"
       ]
      }
     ],
     "prompt_number": 10
    },
    {
     "cell_type": "code",
     "collapsed": false,
     "input": [
      "#run cuffmerge with 7 CPU threads (-p 7)\n",
      "!time cuffmerge -p 7 cufflinksManifest.txt"
     ],
     "language": "python",
     "metadata": {},
     "outputs": [
      {
       "output_type": "stream",
       "stream": "stdout",
       "text": [
        "\r\n",
        "[Tue Feb  3 12:41:42 2015] Beginning transcriptome assembly merge\r\n",
        "-------------------------------------------\r\n",
        "\r\n",
        "[Tue Feb  3 12:41:42 2015] Preparing output location ./merged_asm/\r\n",
        "Warning: no reference GTF provided!\r\n"
       ]
      },
      {
       "output_type": "stream",
       "stream": "stdout",
       "text": [
        "[Tue Feb  3 12:41:45 2015] Converting GTF files to SAM\r\n"
       ]
      },
      {
       "output_type": "stream",
       "stream": "stdout",
       "text": [
        "[12:41:45] Loading reference annotation.\r\n"
       ]
      },
      {
       "output_type": "stream",
       "stream": "stdout",
       "text": [
        "[12:41:53] Loading reference annotation.\r\n"
       ]
      },
      {
       "output_type": "stream",
       "stream": "stdout",
       "text": [
        "[Tue Feb  3 12:42:01 2015] Assembling transcripts\r\n"
       ]
      },
      {
       "output_type": "stream",
       "stream": "stdout",
       "text": [
        "You are using Cufflinks v2.2.1, which is the most recent release.\r\n",
        "Command line:\r\n",
        "cufflinks -o ./merged_asm/ -F 0.05 -q --overhang-tolerance 200 --library-type=transfrags -A 0.0 --min-frags-per-transfrag 0 --no-5-extend -p 7 ./merged_asm/tmp/mergeSam_tmp.2.1DHrjI \r\n",
        "[bam_header_read] EOF marker is absent. The input is probably truncated.\r\n",
        "[bam_header_read] invalid BAM binary header (this is not a BAM file).\r\n",
        "File ./merged_asm/tmp/mergeSam_tmp.2.1DHrjI doesn't appear to be a valid BAM file, trying SAM...\r\n",
        "[12:42:01] Inspecting reads and determining fragment length distribution.\r\n"
       ]
      },
      {
       "output_type": "stream",
       "stream": "stdout",
       "text": [
        "Processed 38671 loci.                       \r\n",
        "> Map Properties:\r\n",
        ">\tNormalized Map Mass: 103147.00\r\n",
        ">\tRaw Map Mass: 103147.00\r\n",
        ">\tFragment Length Distribution: Truncated Gaussian (default)\r\n",
        ">\t              Default Mean: 200\r\n",
        ">\t           Default Std Dev: 80\r\n"
       ]
      },
      {
       "output_type": "stream",
       "stream": "stdout",
       "text": [
        "[12:42:07] Assembling transcripts and estimating abundances.\r\n"
       ]
      },
      {
       "output_type": "stream",
       "stream": "stdout",
       "text": [
        "Processed 38671 loci.                       \r\n"
       ]
      },
      {
       "output_type": "stream",
       "stream": "stdout",
       "text": [
        "[Tue Feb  3 12:42:29 2015] Comparing against reference file None\r\n"
       ]
      },
      {
       "output_type": "stream",
       "stream": "stdout",
       "text": [
        "You are using Cufflinks v2.2.1, which is the most recent release.\r\n"
       ]
      },
      {
       "output_type": "stream",
       "stream": "stdout",
       "text": [
        "[Tue Feb  3 12:42:44 2015] Comparing against reference file None\r\n"
       ]
      },
      {
       "output_type": "stream",
       "stream": "stdout",
       "text": [
        "You are using Cufflinks v2.2.1, which is the most recent release.\r\n"
       ]
      },
      {
       "output_type": "stream",
       "stream": "stdout",
       "text": [
        "\r\n",
        "real\t1m14.453s\r\n",
        "user\t1m27.441s\r\n",
        "sys\t0m5.324s\r\n"
       ]
      }
     ],
     "prompt_number": 11
    },
    {
     "cell_type": "code",
     "collapsed": false,
     "input": [
      "ls"
     ],
     "language": "python",
     "metadata": {},
     "outputs": [
      {
       "output_type": "stream",
       "stream": "stdout",
       "text": [
        "cufflinksManifest.txt  \u001b[34mmerged_asm\u001b[m\u001b[m/\r\n"
       ]
      }
     ],
     "prompt_number": 12
    },
    {
     "cell_type": "code",
     "collapsed": false,
     "input": [],
     "language": "python",
     "metadata": {},
     "outputs": []
    }
   ],
   "metadata": {}
  }
 ]
}