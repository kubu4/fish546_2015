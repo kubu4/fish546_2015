{
 "metadata": {
  "name": "",
  "signature": "sha256:21b644013f000e64fb7ab13c2dcd0c0d9e1b7ad37fb29f00d8660a4f32ba0ccf"
 },
 "nbformat": 3,
 "nbformat_minor": 0,
 "worksheets": [
  {
   "cells": [
    {
     "cell_type": "code",
     "collapsed": false,
     "input": [
      "#see which/if cufflinks is installed\n",
      "!which cufflinks"
     ],
     "language": "python",
     "metadata": {},
     "outputs": [],
     "prompt_number": 1
    },
    {
     "cell_type": "code",
     "collapsed": false,
     "input": [
      "ls /usr/local/bioinformatics/"
     ],
     "language": "python",
     "metadata": {},
     "outputs": [
      {
       "output_type": "stream",
       "stream": "stdout",
       "text": [
        "\u001b[34mFastQC\u001b[m\u001b[m/                   \u001b[34mdbs\u001b[m\u001b[m/                      \u001b[35mrsem\u001b[m\u001b[m@\r\n",
        "\u001b[35mTrimmomatic\u001b[m\u001b[m@              \u001b[35mfastx_toolkit\u001b[m\u001b[m@            \u001b[34mrsem-1.2.10\u001b[m\u001b[m/\r\n",
        "\u001b[34mTrimmomatic-0.30\u001b[m\u001b[m/         \u001b[34mfastx_toolkit-0.0.13.2\u001b[m\u001b[m/   \u001b[34msignalp-4.1\u001b[m\u001b[m/\r\n",
        "\u001b[35mTrinotate\u001b[m\u001b[m@                \u001b[35mhmmer\u001b[m\u001b[m@                    source.sh\r\n",
        "\u001b[34mTrinotate_r20140708\u001b[m\u001b[m/      \u001b[34mhmmer-3.1b1\u001b[m\u001b[m/              \u001b[35mstacks\u001b[m\u001b[m@\r\n",
        "\u001b[34manaconda\u001b[m\u001b[m/                 \u001b[34mlibgtextutils-0.6.1\u001b[m\u001b[m/      \u001b[34mstacks-1.13\u001b[m\u001b[m/\r\n",
        "\u001b[35mbowtie\u001b[m\u001b[m@                   \u001b[35mncbi-blast\u001b[m\u001b[m@               \u001b[34mtophat-2.0.13.OSX_x86_64\u001b[m\u001b[m/\r\n",
        "\u001b[34mbowtie-1.0.0\u001b[m\u001b[m/             \u001b[34mncbi-blast-2.2.29+\u001b[m\u001b[m/       \u001b[35mtrinity\u001b[m\u001b[m@\r\n",
        "\u001b[35mbowtie2\u001b[m\u001b[m@                  \u001b[35mngsplot\u001b[m\u001b[m@                  \u001b[34mtrinityrnaseq_r20131110\u001b[m\u001b[m/\r\n",
        "\u001b[34mbowtie2-2.1.0\u001b[m\u001b[m/            \u001b[34mngsplot-2.08\u001b[m\u001b[m/\r\n"
       ]
      }
     ],
     "prompt_number": 2
    },
    {
     "cell_type": "code",
     "collapsed": false,
     "input": [
      "cd /usr/local/bioinformatics/"
     ],
     "language": "python",
     "metadata": {},
     "outputs": [
      {
       "output_type": "stream",
       "stream": "stdout",
       "text": [
        "/usr/local/bioinformatics\n"
       ]
      }
     ],
     "prompt_number": 4
    },
    {
     "cell_type": "code",
     "collapsed": false,
     "input": [
      "!cat source.sh"
     ],
     "language": "python",
     "metadata": {},
     "outputs": [
      {
       "output_type": "stream",
       "stream": "stdout",
       "text": [
        "# Variables to use the Bioinformatics directory\r\n",
        "\r\n",
        "export BIO=/usr/local/bioinformatics\r\n",
        "\r\n",
        "# Anaconda\r\n",
        "export PATH=${BIO}/anaconda/bin:${PATH}\r\n",
        "\r\n",
        "# PYTHONPATH for using R with iPython\r\n",
        "export PYTHONPATH=/opt/local/Library/Frameworks/Python.framework/Versions/2.7/lib/python2.7/site-packages\r\n",
        "\r\n",
        "# BLAST\r\n",
        "export PATH=${BIO}/ncbi-blast/bin:${PATH}\r\n",
        "export BLASTDB=/Volumes/Data/blast_db\r\n",
        "\r\n",
        "# Trinity\r\n",
        "export PATH=${BIO}/trinity:${PATH}\r\n",
        "\r\n",
        "# HMMER\r\n",
        "export PATH=${BIO}/hmmer:${PATH}\r\n",
        "\r\n",
        "# Bowtie1\r\n",
        "export PATH=${BIO}/bowtie:${PATH}\r\n",
        "\r\n",
        "# Bowtie2\r\n",
        "export PATH=${BIO}/bowtie2:${PATH}\r\n",
        "\r\n",
        "# RSEM\r\n",
        "export PATH=${BIO}/rsem:${PATH}\r\n",
        "\r\n",
        "# Khmer tools\r\n",
        "export PATH=/opt/local/Library/Frameworks/Python.framework/Versions/2.7/bin:${PATH}\r\n",
        "\r\n",
        "# FASTX toolkit\r\n",
        "export PATH=${BIO}/fastx_toolkit/bin:${PATH}\r\n",
        "\r\n",
        "# Samtools (via RSEM)\r\n",
        "export PATH=${BIO}/rsem/sam:${PATH}\r\n",
        "\r\n",
        "# stacks\r\n",
        "export PATH=${BIO}/stacks/bin:${PATH}\r\n",
        "\r\n",
        "# Trimmomatic\r\n",
        "alias trimmomatic=\"java -jar ${BIO}/Trimmomatic/trimmomatic-0.30.jar\"\r\n",
        "\r\n",
        "# ngsplot\r\n",
        "export PATH=${BIO}/ngsplot/bin:${PATH}\r\n",
        "export NGSPLOT=${BIO}/ngsplot\r\n",
        "\r\n",
        "# Trinotate\r\n",
        "export PATH=${BIO}/Trinotate:${PATH}\r\n",
        "\r\n",
        "# signalp\r\n",
        "export PATH=${BIO}/signalp-4.1:${PATH}\r\n",
        "\r\n",
        "# Tophat\r\n",
        "export PATH=${BIO}/tophat-2.0.13.OSX_x86_64:${PATH}\r\n",
        "\r\n",
        "# FastQC\r\n",
        "export PATH=${BIO}/FastQC:${PATH}\r\n"
       ]
      }
     ],
     "prompt_number": 5
    },
    {
     "cell_type": "code",
     "collapsed": false,
     "input": [
      "cd /usr/local/bioinformatics/"
     ],
     "language": "python",
     "metadata": {},
     "outputs": [
      {
       "output_type": "stream",
       "stream": "stdout",
       "text": [
        "/usr/local/bioinformatics\n"
       ]
      }
     ],
     "prompt_number": 6
    },
    {
     "cell_type": "code",
     "collapsed": false,
     "input": [
      "#download cufflinks\n",
      "!curl -O http://cole-trapnell-lab.github.io/cufflinks/assets/downloads/cufflinks-2.2.1.OSX_x86_64.tar.gz"
     ],
     "language": "python",
     "metadata": {},
     "outputs": [
      {
       "output_type": "stream",
       "stream": "stdout",
       "text": [
        "  % Total    % Received % Xferd  Average Speed   Time    Time     Time  Current\r\n",
        "                                 Dload  Upload   Total   Spent    Left  Speed\r\n",
        "\r",
        "  0     0    0     0    0     0      0      0 --:--:-- --:--:-- --:--:--     0"
       ]
      },
      {
       "output_type": "stream",
       "stream": "stdout",
       "text": [
        "\r",
        "  0 5428k    0 14027    0     0  14602      0  0:06:20 --:--:--  0:06:20 14596"
       ]
      },
      {
       "output_type": "stream",
       "stream": "stdout",
       "text": [
        "\r",
        " 13 5428k   13  751k    0     0   629k      0  0:00:08  0:00:01  0:00:07  629k"
       ]
      },
      {
       "output_type": "stream",
       "stream": "stdout",
       "text": [
        "\r",
        "100 5428k  100 5428k    0     0  3194k      0  0:00:01  0:00:01 --:--:-- 3192k\r\n"
       ]
      }
     ],
     "prompt_number": 7
    },
    {
     "cell_type": "code",
     "collapsed": false,
     "input": [
      "#unpack gzipped tarbtall\n",
      "!time tar -zxvf cufflinks-2.2.1.OSX_x86_64.tar.gz"
     ],
     "language": "python",
     "metadata": {},
     "outputs": [
      {
       "output_type": "stream",
       "stream": "stdout",
       "text": [
        "x cufflinks-2.2.1.OSX_x86_64/\r\n",
        "x cufflinks-2.2.1.OSX_x86_64/AUTHORS\r\n",
        "x cufflinks-2.2.1.OSX_x86_64/cuffcompare\r\n",
        "x cufflinks-2.2.1.OSX_x86_64/cuffdiff\r\n",
        "x cufflinks-2.2.1.OSX_x86_64/cufflinks"
       ]
      },
      {
       "output_type": "stream",
       "stream": "stdout",
       "text": [
        "\r\n",
        "x cufflinks-2.2.1.OSX_x86_64/cuffmerge\r\n",
        "x cufflinks-2.2.1.OSX_x86_64/cuffnorm\r\n",
        "x cufflinks-2.2.1.OSX_x86_64/cuffquant\r\n",
        "x cufflinks-2.2.1.OSX_x86_64/gffread\r\n",
        "x cufflinks-2.2.1.OSX_x86_64/gtf_to_sam"
       ]
      },
      {
       "output_type": "stream",
       "stream": "stdout",
       "text": [
        "\r\n",
        "x cufflinks-2.2.1.OSX_x86_64/LICENSE\r\n",
        "x cufflinks-2.2.1.OSX_x86_64/README\r\n",
        "\r\n",
        "real\t0m0.112s\r\n",
        "user\t0m0.085s\r\n",
        "sys\t0m0.024s\r\n"
       ]
      }
     ],
     "prompt_number": 8
    },
    {
     "cell_type": "code",
     "collapsed": false,
     "input": [
      "!rm cufflinks-2.2.1.OSX_x86_64.tar.gz"
     ],
     "language": "python",
     "metadata": {},
     "outputs": [],
     "prompt_number": 9
    },
    {
     "cell_type": "code",
     "collapsed": false,
     "input": [
      "ls"
     ],
     "language": "python",
     "metadata": {},
     "outputs": [
      {
       "output_type": "stream",
       "stream": "stdout",
       "text": [
        "\u001b[34mFastQC\u001b[m\u001b[m/                     \u001b[34mhmmer-3.1b1\u001b[m\u001b[m/\r\n",
        "\u001b[35mTrimmomatic\u001b[m\u001b[m@                \u001b[34mlibgtextutils-0.6.1\u001b[m\u001b[m/\r\n",
        "\u001b[34mTrimmomatic-0.30\u001b[m\u001b[m/           \u001b[35mncbi-blast\u001b[m\u001b[m@\r\n",
        "\u001b[35mTrinotate\u001b[m\u001b[m@                  \u001b[34mncbi-blast-2.2.29+\u001b[m\u001b[m/\r\n",
        "\u001b[34mTrinotate_r20140708\u001b[m\u001b[m/        \u001b[35mngsplot\u001b[m\u001b[m@\r\n",
        "\u001b[34manaconda\u001b[m\u001b[m/                   \u001b[34mngsplot-2.08\u001b[m\u001b[m/\r\n",
        "\u001b[35mbowtie\u001b[m\u001b[m@                     \u001b[35mrsem\u001b[m\u001b[m@\r\n",
        "\u001b[34mbowtie-1.0.0\u001b[m\u001b[m/               \u001b[34mrsem-1.2.10\u001b[m\u001b[m/\r\n",
        "\u001b[35mbowtie2\u001b[m\u001b[m@                    \u001b[34msignalp-4.1\u001b[m\u001b[m/\r\n",
        "\u001b[34mbowtie2-2.1.0\u001b[m\u001b[m/              source.sh\r\n",
        "\u001b[34mcufflinks-2.2.1.OSX_x86_64\u001b[m\u001b[m/ \u001b[35mstacks\u001b[m\u001b[m@\r\n",
        "\u001b[34mdbs\u001b[m\u001b[m/                        \u001b[34mstacks-1.13\u001b[m\u001b[m/\r\n",
        "\u001b[35mfastx_toolkit\u001b[m\u001b[m@              \u001b[34mtophat-2.0.13.OSX_x86_64\u001b[m\u001b[m/\r\n",
        "\u001b[34mfastx_toolkit-0.0.13.2\u001b[m\u001b[m/     \u001b[35mtrinity\u001b[m\u001b[m@\r\n",
        "\u001b[35mhmmer\u001b[m\u001b[m@                      \u001b[34mtrinityrnaseq_r20131110\u001b[m\u001b[m/\r\n"
       ]
      }
     ],
     "prompt_number": 10
    },
    {
     "cell_type": "code",
     "collapsed": false,
     "input": [
      "#Add cufflinks to PATH by adding the following to source.sh file\n",
      "## Cufflinks\n",
      "#export PATH=${BIO}/cufflinks-2.2.1.OSX_x86_64:${PATH}\n"
     ],
     "language": "python",
     "metadata": {},
     "outputs": []
    }
   ],
   "metadata": {}
  }
 ]
}