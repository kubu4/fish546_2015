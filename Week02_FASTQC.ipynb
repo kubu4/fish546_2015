{
 "metadata": {
  "name": ""
 },
 "nbformat": 3,
 "nbformat_minor": 0,
 "worksheets": [
  {
   "cells": [
    {
     "cell_type": "code",
     "collapsed": false,
     "input": [
      "#download FASTQC\n",
      "!curl -O http://www.bioinformatics.babraham.ac.uk/projects/fastqc/fastqc_v0.11.2.dmg"
     ],
     "language": "python",
     "metadata": {},
     "outputs": [
      {
       "output_type": "stream",
       "stream": "stdout",
       "text": [
        "  % Total    % Received % Xferd  Average Speed   Time    Time     Time  Current\r\n",
        "                                 Dload  Upload   Total   Spent    Left  Speed\r\n",
        "\r",
        "  0     0    0     0    0     0      0      0 --:--:-- --:--:-- --:--:--     0"
       ]
      },
      {
       "output_type": "stream",
       "stream": "stdout",
       "text": [
        "\r",
        "  0 1645k    0  2616    0     0   4048      0  0:06:56 --:--:--  0:06:56  4043"
       ]
      },
      {
       "output_type": "stream",
       "stream": "stdout",
       "text": [
        "\r",
        "  5 1645k    5 95288    0     0  59688      0  0:00:28  0:00:01  0:00:27 59666"
       ]
      },
      {
       "output_type": "stream",
       "stream": "stdout",
       "text": [
        "\r",
        " 50 1645k   50  823k    0     0   301k      0  0:00:05  0:00:02  0:00:03  301k"
       ]
      },
      {
       "output_type": "stream",
       "stream": "stdout",
       "text": [
        "\r",
        " 88 1645k   88 1462k    0     0   398k      0  0:00:04  0:00:03  0:00:01  398k"
       ]
      },
      {
       "output_type": "stream",
       "stream": "stdout",
       "text": [
        "\r",
        "100 1645k  100 1645k    0     0   425k      0  0:00:03  0:00:03 --:--:--  425k\r\n"
       ]
      }
     ],
     "prompt_number": 2
    },
    {
     "cell_type": "code",
     "collapsed": false,
     "input": [
      "#mount the disk image\n",
      "!hdiutil mount fastqc_v0.11.2.dmg"
     ],
     "language": "python",
     "metadata": {},
     "outputs": [
      {
       "output_type": "stream",
       "stream": "stdout",
       "text": [
        "Checksumming Protective Master Boot Record (MBR : 0)\u2026\r\n",
        "Protective Master Boot Record (MBR :: verified   CRC32 $7667D1E4\r\n",
        "Checksumming GPT Header (Primary GPT Header : 1)\u2026\r\n"
       ]
      },
      {
       "output_type": "stream",
       "stream": "stdout",
       "text": [
        " GPT Header (Primary GPT Header : 1): verified   CRC32 $9BC8E891\r\n",
        "Checksumming GPT Partition Data (Primary GPT Table : 2)\u2026\r\n",
        "GPT Partition Data (Primary GPT Tabl: verified   CRC32 $0CA4FE39\r\n",
        "Checksumming  (Apple_Free : 3)\u2026\r\n"
       ]
      },
      {
       "output_type": "stream",
       "stream": "stdout",
       "text": [
        "                    (Apple_Free : 3): verified   CRC32 $00000000\r\n",
        "Checksumming disk image (Apple_HFS : 4)\u2026\r\n",
        "          disk image (Apple_HFS : 4): verified   CRC32 $8F2DF2F8\r\n",
        "Checksumming  (Apple_Free : 5)\u2026\r\n"
       ]
      },
      {
       "output_type": "stream",
       "stream": "stdout",
       "text": [
        "                    (Apple_Free : 5): verified   CRC32 $00000000\r\n",
        "Checksumming GPT Partition Data (Backup GPT Table : 6)\u2026\r\n",
        "GPT Partition Data (Backup GPT Table: verified   CRC32 $0CA4FE39\r\n",
        "Checksumming GPT Header (Backup GPT Header : 7)\u2026\r\n",
        "  GPT Header (Backup GPT Header : 7): verified   CRC32 $519DB2FE\r\n",
        "verified   CRC32 $C9EFA727\r\n"
       ]
      },
      {
       "output_type": "stream",
       "stream": "stdout",
       "text": [
        "/dev/disk1          \tGUID_partition_scheme          \t\r\n",
        "/dev/disk1s1        \tApple_HFS                      \t/Volumes/FastQC\r\n"
       ]
      }
     ],
     "prompt_number": 3
    },
    {
     "cell_type": "code",
     "collapsed": false,
     "input": [
      "#Install FASTQC by copying contents of FASTQC to Applications folder\n",
      "#-R flag is to copy recursively so all sub-files/folders get copied\n",
      "!cp -R /Volumes/FastQC/FastQC.app/ /Applications/"
     ],
     "language": "python",
     "metadata": {},
     "outputs": [],
     "prompt_number": 5
    },
    {
     "cell_type": "code",
     "collapsed": false,
     "input": [
      "#unmount disk image\n",
      "!hdiutil unmount /Volumes/FastQC/"
     ],
     "language": "python",
     "metadata": {},
     "outputs": [
      {
       "output_type": "stream",
       "stream": "stdout",
       "text": [
        "\"/Volumes/FastQC/\" unmounted successfully.\r\n"
       ]
      }
     ],
     "prompt_number": 6
    },
    {
     "cell_type": "code",
     "collapsed": false,
     "input": [
      "cd /usr/local/bioinformatics/"
     ],
     "language": "python",
     "metadata": {},
     "outputs": [
      {
       "output_type": "stream",
       "stream": "stdout",
       "text": [
        "/usr/local/bioinformatics\n"
       ]
      }
     ],
     "prompt_number": 7
    },
    {
     "cell_type": "code",
     "collapsed": false,
     "input": [
      "#turns out I don't want the version above\n",
      "#want this one instead\n",
      "!curl -O http://www.bioinformatics.babraham.ac.uk/projects/fastqc/fastqc_v0.11.2.zip"
     ],
     "language": "python",
     "metadata": {},
     "outputs": [
      {
       "output_type": "stream",
       "stream": "stdout",
       "text": [
        "  % Total    % Received % Xferd  Average Speed   Time    Time     Time  Current\r\n",
        "                                 Dload  Upload   Total   Spent    Left  Speed\r\n",
        "\r",
        "  0     0    0     0    0     0      0      0 --:--:-- --:--:-- --:--:--     0\r",
        "  0     0    0     0    0     0      0      0 --:--:-- --:--:-- --:--:--     0"
       ]
      },
      {
       "output_type": "stream",
       "stream": "stdout",
       "text": [
        "\r",
        "  0  929k    0  2626    0     0   2520      0  0:06:17  0:00:01  0:06:16  2520"
       ]
      },
      {
       "output_type": "stream",
       "stream": "stdout",
       "text": [
        "\r",
        " 19  929k   19  181k    0     0  88161      0  0:00:10  0:00:02  0:00:08 88143"
       ]
      },
      {
       "output_type": "stream",
       "stream": "stdout",
       "text": [
        "\r",
        " 99  929k   99  929k    0     0   231k      0  0:00:04  0:00:04 --:--:--  231k"
       ]
      },
      {
       "output_type": "stream",
       "stream": "stdout",
       "text": [
        "\r",
        " 99  929k   99  929k    0     0   185k      0  0:00:05  0:00:05 --:--:--  185k"
       ]
      },
      {
       "output_type": "stream",
       "stream": "stdout",
       "text": [
        "\r",
        " 99  929k   99  929k    0     0   154k      0  0:00:06  0:00:06 --:--:--  154k"
       ]
      },
      {
       "output_type": "stream",
       "stream": "stdout",
       "text": [
        "\r",
        " 99  929k   99  929k    0     0   132k      0  0:00:07  0:00:07 --:--:--  154k"
       ]
      },
      {
       "output_type": "stream",
       "stream": "stdout",
       "text": [
        "\r",
        " 99  929k   99  929k    0     0   115k      0  0:00:08  0:00:08 --:--:--  126k"
       ]
      },
      {
       "output_type": "stream",
       "stream": "stdout",
       "text": [
        "\r",
        " 99  929k   99  929k    0     0   102k      0  0:00:09  0:00:09 --:--:--     0"
       ]
      },
      {
       "output_type": "stream",
       "stream": "stdout",
       "text": [
        "\r",
        "100  929k  100  929k    0     0   102k      0  0:00:09  0:00:09 --:--:--   169\r\n"
       ]
      }
     ],
     "prompt_number": 8
    },
    {
     "cell_type": "code",
     "collapsed": false,
     "input": [
      "!guzip fastq"
     ],
     "language": "python",
     "metadata": {},
     "outputs": [],
     "prompt_number": 9
    },
    {
     "cell_type": "code",
     "collapsed": false,
     "input": [
      "ls"
     ],
     "language": "python",
     "metadata": {},
     "outputs": [
      {
       "output_type": "stream",
       "stream": "stdout",
       "text": [
        "\u001b[35mTrimmomatic\u001b[m\u001b[m@              fastqc_v0.11.2.zip.gz     \u001b[35mrsem\u001b[m\u001b[m@\r\n",
        "\u001b[34mTrimmomatic-0.30\u001b[m\u001b[m/         \u001b[35mfastx_toolkit\u001b[m\u001b[m@            \u001b[34mrsem-1.2.10\u001b[m\u001b[m/\r\n",
        "\u001b[35mTrinotate\u001b[m\u001b[m@                \u001b[34mfastx_toolkit-0.0.13.2\u001b[m\u001b[m/   \u001b[34msignalp-4.1\u001b[m\u001b[m/\r\n",
        "\u001b[34mTrinotate_r20140708\u001b[m\u001b[m/      \u001b[35mhmmer\u001b[m\u001b[m@                    source.sh\r\n",
        "\u001b[34manaconda\u001b[m\u001b[m/                 \u001b[34mhmmer-3.1b1\u001b[m\u001b[m/              \u001b[35mstacks\u001b[m\u001b[m@\r\n",
        "\u001b[35mbowtie\u001b[m\u001b[m@                   \u001b[34mlibgtextutils-0.6.1\u001b[m\u001b[m/      \u001b[34mstacks-1.13\u001b[m\u001b[m/\r\n",
        "\u001b[34mbowtie-1.0.0\u001b[m\u001b[m/             \u001b[35mncbi-blast\u001b[m\u001b[m@               \u001b[34mtophat-2.0.13.OSX_x86_64\u001b[m\u001b[m/\r\n",
        "\u001b[35mbowtie2\u001b[m\u001b[m@                  \u001b[34mncbi-blast-2.2.29+\u001b[m\u001b[m/       \u001b[35mtrinity\u001b[m\u001b[m@\r\n",
        "\u001b[34mbowtie2-2.1.0\u001b[m\u001b[m/            \u001b[35mngsplot\u001b[m\u001b[m@                  \u001b[34mtrinityrnaseq_r20131110\u001b[m\u001b[m/\r\n",
        "\u001b[34mdbs\u001b[m\u001b[m/                      \u001b[34mngsplot-2.08\u001b[m\u001b[m/\r\n"
       ]
      }
     ],
     "prompt_number": 10
    },
    {
     "cell_type": "code",
     "collapsed": false,
     "input": [],
     "language": "python",
     "metadata": {},
     "outputs": []
    }
   ],
   "metadata": {}
  }
 ]
}