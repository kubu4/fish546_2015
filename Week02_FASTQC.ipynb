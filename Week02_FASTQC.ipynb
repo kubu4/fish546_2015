{
 "metadata": {
  "name": ""
 },
 "nbformat": 3,
 "nbformat_minor": 0,
 "worksheets": [
  {
   "cells": [
    {
     "cell_type": "code",
     "collapsed": false,
     "input": [
      "#download FASTQC\n",
      "!curl -O http://www.bioinformatics.babraham.ac.uk/projects/fastqc/fastqc_v0.11.2.dmg"
     ],
     "language": "python",
     "metadata": {},
     "outputs": [
      {
       "output_type": "stream",
       "stream": "stdout",
       "text": [
        "  % Total    % Received % Xferd  Average Speed   Time    Time     Time  Current\r\n",
        "                                 Dload  Upload   Total   Spent    Left  Speed\r\n",
        "\r",
        "  0     0    0     0    0     0      0      0 --:--:-- --:--:-- --:--:--     0"
       ]
      },
      {
       "output_type": "stream",
       "stream": "stdout",
       "text": [
        "\r",
        "  0 1645k    0  2616    0     0   4048      0  0:06:56 --:--:--  0:06:56  4043"
       ]
      },
      {
       "output_type": "stream",
       "stream": "stdout",
       "text": [
        "\r",
        "  5 1645k    5 95288    0     0  59688      0  0:00:28  0:00:01  0:00:27 59666"
       ]
      },
      {
       "output_type": "stream",
       "stream": "stdout",
       "text": [
        "\r",
        " 50 1645k   50  823k    0     0   301k      0  0:00:05  0:00:02  0:00:03  301k"
       ]
      },
      {
       "output_type": "stream",
       "stream": "stdout",
       "text": [
        "\r",
        " 88 1645k   88 1462k    0     0   398k      0  0:00:04  0:00:03  0:00:01  398k"
       ]
      },
      {
       "output_type": "stream",
       "stream": "stdout",
       "text": [
        "\r",
        "100 1645k  100 1645k    0     0   425k      0  0:00:03  0:00:03 --:--:--  425k\r\n"
       ]
      }
     ],
     "prompt_number": 2
    },
    {
     "cell_type": "code",
     "collapsed": false,
     "input": [
      "#mount the disk image\n",
      "!hdiutil mount fastqc_v0.11.2.dmg"
     ],
     "language": "python",
     "metadata": {},
     "outputs": [
      {
       "output_type": "stream",
       "stream": "stdout",
       "text": [
        "Checksumming Protective Master Boot Record (MBR : 0)\u2026\r\n",
        "Protective Master Boot Record (MBR :: verified   CRC32 $7667D1E4\r\n",
        "Checksumming GPT Header (Primary GPT Header : 1)\u2026\r\n"
       ]
      },
      {
       "output_type": "stream",
       "stream": "stdout",
       "text": [
        " GPT Header (Primary GPT Header : 1): verified   CRC32 $9BC8E891\r\n",
        "Checksumming GPT Partition Data (Primary GPT Table : 2)\u2026\r\n",
        "GPT Partition Data (Primary GPT Tabl: verified   CRC32 $0CA4FE39\r\n",
        "Checksumming  (Apple_Free : 3)\u2026\r\n"
       ]
      },
      {
       "output_type": "stream",
       "stream": "stdout",
       "text": [
        "                    (Apple_Free : 3): verified   CRC32 $00000000\r\n",
        "Checksumming disk image (Apple_HFS : 4)\u2026\r\n",
        "          disk image (Apple_HFS : 4): verified   CRC32 $8F2DF2F8\r\n",
        "Checksumming  (Apple_Free : 5)\u2026\r\n"
       ]
      },
      {
       "output_type": "stream",
       "stream": "stdout",
       "text": [
        "                    (Apple_Free : 5): verified   CRC32 $00000000\r\n",
        "Checksumming GPT Partition Data (Backup GPT Table : 6)\u2026\r\n",
        "GPT Partition Data (Backup GPT Table: verified   CRC32 $0CA4FE39\r\n",
        "Checksumming GPT Header (Backup GPT Header : 7)\u2026\r\n",
        "  GPT Header (Backup GPT Header : 7): verified   CRC32 $519DB2FE\r\n",
        "verified   CRC32 $C9EFA727\r\n"
       ]
      },
      {
       "output_type": "stream",
       "stream": "stdout",
       "text": [
        "/dev/disk1          \tGUID_partition_scheme          \t\r\n",
        "/dev/disk1s1        \tApple_HFS                      \t/Volumes/FastQC\r\n"
       ]
      }
     ],
     "prompt_number": 3
    },
    {
     "cell_type": "code",
     "collapsed": false,
     "input": [
      "#Install FASTQC by copying contents of FASTQC to Applications folder\n",
      "#-R flag is to copy recursively so all sub-files/folders get copied\n",
      "!cp -R /Volumes/FastQC/FastQC.app/ /Applications/"
     ],
     "language": "python",
     "metadata": {},
     "outputs": [],
     "prompt_number": 5
    },
    {
     "cell_type": "code",
     "collapsed": false,
     "input": [
      "#unmount disk image\n",
      "!hdiutil unmount /Volumes/FastQC/"
     ],
     "language": "python",
     "metadata": {},
     "outputs": [
      {
       "output_type": "stream",
       "stream": "stdout",
       "text": [
        "\"/Volumes/FastQC/\" unmounted successfully.\r\n"
       ]
      }
     ],
     "prompt_number": 6
    },
    {
     "cell_type": "code",
     "collapsed": false,
     "input": [],
     "language": "python",
     "metadata": {},
     "outputs": []
    }
   ],
   "metadata": {}
  }
 ]
}