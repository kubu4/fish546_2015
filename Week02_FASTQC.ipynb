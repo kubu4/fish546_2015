{
 "metadata": {
  "name": ""
 },
 "nbformat": 3,
 "nbformat_minor": 0,
 "worksheets": [
  {
   "cells": [
    {
     "cell_type": "code",
     "collapsed": false,
     "input": [
      "#download FASTQC\n",
      "!curl -O http://www.bioinformatics.babraham.ac.uk/projects/fastqc/fastqc_v0.11.2.dmg"
     ],
     "language": "python",
     "metadata": {},
     "outputs": [
      {
       "output_type": "stream",
       "stream": "stdout",
       "text": [
        "  % Total    % Received % Xferd  Average Speed   Time    Time     Time  Current\r\n",
        "                                 Dload  Upload   Total   Spent    Left  Speed\r\n",
        "\r",
        "  0     0    0     0    0     0      0      0 --:--:-- --:--:-- --:--:--     0"
       ]
      },
      {
       "output_type": "stream",
       "stream": "stdout",
       "text": [
        "\r",
        "  0 1645k    0  2616    0     0   4048      0  0:06:56 --:--:--  0:06:56  4043"
       ]
      },
      {
       "output_type": "stream",
       "stream": "stdout",
       "text": [
        "\r",
        "  5 1645k    5 95288    0     0  59688      0  0:00:28  0:00:01  0:00:27 59666"
       ]
      },
      {
       "output_type": "stream",
       "stream": "stdout",
       "text": [
        "\r",
        " 50 1645k   50  823k    0     0   301k      0  0:00:05  0:00:02  0:00:03  301k"
       ]
      },
      {
       "output_type": "stream",
       "stream": "stdout",
       "text": [
        "\r",
        " 88 1645k   88 1462k    0     0   398k      0  0:00:04  0:00:03  0:00:01  398k"
       ]
      },
      {
       "output_type": "stream",
       "stream": "stdout",
       "text": [
        "\r",
        "100 1645k  100 1645k    0     0   425k      0  0:00:03  0:00:03 --:--:--  425k\r\n"
       ]
      }
     ],
     "prompt_number": 2
    },
    {
     "cell_type": "code",
     "collapsed": false,
     "input": [
      "#mount the disk image\n",
      "!hdiutil mount fastqc_v0.11.2.dmg"
     ],
     "language": "python",
     "metadata": {},
     "outputs": [
      {
       "output_type": "stream",
       "stream": "stdout",
       "text": [
        "Checksumming Protective Master Boot Record (MBR : 0)\u2026\r\n",
        "Protective Master Boot Record (MBR :: verified   CRC32 $7667D1E4\r\n",
        "Checksumming GPT Header (Primary GPT Header : 1)\u2026\r\n"
       ]
      },
      {
       "output_type": "stream",
       "stream": "stdout",
       "text": [
        " GPT Header (Primary GPT Header : 1): verified   CRC32 $9BC8E891\r\n",
        "Checksumming GPT Partition Data (Primary GPT Table : 2)\u2026\r\n",
        "GPT Partition Data (Primary GPT Tabl: verified   CRC32 $0CA4FE39\r\n",
        "Checksumming  (Apple_Free : 3)\u2026\r\n"
       ]
      },
      {
       "output_type": "stream",
       "stream": "stdout",
       "text": [
        "                    (Apple_Free : 3): verified   CRC32 $00000000\r\n",
        "Checksumming disk image (Apple_HFS : 4)\u2026\r\n",
        "          disk image (Apple_HFS : 4): verified   CRC32 $8F2DF2F8\r\n",
        "Checksumming  (Apple_Free : 5)\u2026\r\n"
       ]
      },
      {
       "output_type": "stream",
       "stream": "stdout",
       "text": [
        "                    (Apple_Free : 5): verified   CRC32 $00000000\r\n",
        "Checksumming GPT Partition Data (Backup GPT Table : 6)\u2026\r\n",
        "GPT Partition Data (Backup GPT Table: verified   CRC32 $0CA4FE39\r\n",
        "Checksumming GPT Header (Backup GPT Header : 7)\u2026\r\n",
        "  GPT Header (Backup GPT Header : 7): verified   CRC32 $519DB2FE\r\n",
        "verified   CRC32 $C9EFA727\r\n"
       ]
      },
      {
       "output_type": "stream",
       "stream": "stdout",
       "text": [
        "/dev/disk1          \tGUID_partition_scheme          \t\r\n",
        "/dev/disk1s1        \tApple_HFS                      \t/Volumes/FastQC\r\n"
       ]
      }
     ],
     "prompt_number": 3
    },
    {
     "cell_type": "code",
     "collapsed": false,
     "input": [
      "#Install FASTQC by copying contents of FASTQC to Applications folder\n",
      "#-R flag is to copy recursively so all sub-files/folders get copied\n",
      "!cp -R /Volumes/FastQC/FastQC.app/ /Applications/"
     ],
     "language": "python",
     "metadata": {},
     "outputs": [],
     "prompt_number": 5
    },
    {
     "cell_type": "code",
     "collapsed": false,
     "input": [
      "#unmount disk image\n",
      "!hdiutil unmount /Volumes/FastQC/"
     ],
     "language": "python",
     "metadata": {},
     "outputs": [
      {
       "output_type": "stream",
       "stream": "stdout",
       "text": [
        "\"/Volumes/FastQC/\" unmounted successfully.\r\n"
       ]
      }
     ],
     "prompt_number": 6
    },
    {
     "cell_type": "code",
     "collapsed": false,
     "input": [
      "cd /usr/local/bioinformatics/"
     ],
     "language": "python",
     "metadata": {},
     "outputs": [
      {
       "output_type": "stream",
       "stream": "stdout",
       "text": [
        "/usr/local/bioinformatics\n"
       ]
      }
     ],
     "prompt_number": 7
    },
    {
     "cell_type": "code",
     "collapsed": false,
     "input": [
      "#turns out I don't want the version above\n",
      "#want this one instead\n",
      "!curl -O http://www.bioinformatics.babraham.ac.uk/projects/fastqc/fastqc_v0.11.2.zip"
     ],
     "language": "python",
     "metadata": {},
     "outputs": [
      {
       "output_type": "stream",
       "stream": "stdout",
       "text": [
        "  % Total    % Received % Xferd  Average Speed   Time    Time     Time  Current\r\n",
        "                                 Dload  Upload   Total   Spent    Left  Speed\r\n",
        "\r",
        "  0     0    0     0    0     0      0      0 --:--:-- --:--:-- --:--:--     0\r",
        "  0     0    0     0    0     0      0      0 --:--:-- --:--:-- --:--:--     0"
       ]
      },
      {
       "output_type": "stream",
       "stream": "stdout",
       "text": [
        "\r",
        "  0  929k    0  2626    0     0   2520      0  0:06:17  0:00:01  0:06:16  2520"
       ]
      },
      {
       "output_type": "stream",
       "stream": "stdout",
       "text": [
        "\r",
        " 19  929k   19  181k    0     0  88161      0  0:00:10  0:00:02  0:00:08 88143"
       ]
      },
      {
       "output_type": "stream",
       "stream": "stdout",
       "text": [
        "\r",
        " 99  929k   99  929k    0     0   231k      0  0:00:04  0:00:04 --:--:--  231k"
       ]
      },
      {
       "output_type": "stream",
       "stream": "stdout",
       "text": [
        "\r",
        " 99  929k   99  929k    0     0   185k      0  0:00:05  0:00:05 --:--:--  185k"
       ]
      },
      {
       "output_type": "stream",
       "stream": "stdout",
       "text": [
        "\r",
        " 99  929k   99  929k    0     0   154k      0  0:00:06  0:00:06 --:--:--  154k"
       ]
      },
      {
       "output_type": "stream",
       "stream": "stdout",
       "text": [
        "\r",
        " 99  929k   99  929k    0     0   132k      0  0:00:07  0:00:07 --:--:--  154k"
       ]
      },
      {
       "output_type": "stream",
       "stream": "stdout",
       "text": [
        "\r",
        " 99  929k   99  929k    0     0   115k      0  0:00:08  0:00:08 --:--:--  126k"
       ]
      },
      {
       "output_type": "stream",
       "stream": "stdout",
       "text": [
        "\r",
        " 99  929k   99  929k    0     0   102k      0  0:00:09  0:00:09 --:--:--     0"
       ]
      },
      {
       "output_type": "stream",
       "stream": "stdout",
       "text": [
        "\r",
        "100  929k  100  929k    0     0   102k      0  0:00:09  0:00:09 --:--:--   169\r\n"
       ]
      }
     ],
     "prompt_number": 8
    },
    {
     "cell_type": "code",
     "collapsed": false,
     "input": [
      "!unzip fastqc_v0.11.2.zip"
     ],
     "language": "python",
     "metadata": {},
     "outputs": [
      {
       "output_type": "stream",
       "stream": "stdout",
       "text": [
        "Archive:  fastqc_v0.11.2.zip\r\n",
        "   creating: FastQC/Configuration/\r\n",
        "  inflating: FastQC/Configuration/adapter_list.txt  \r\n",
        "  inflating: FastQC/Configuration/contaminant_list.txt  \r\n",
        "  inflating: FastQC/Configuration/limits.txt  \r\n",
        "  inflating: FastQC/fastqc           \r\n",
        "  inflating: FastQC/fastqc_icon.ico  \r\n",
        "   creating: FastQC/Help/\r\n",
        "   creating: FastQC/Help/1 Introduction/\r\n",
        "  inflating: FastQC/Help/1 Introduction/1.1 What is FastQC.html  \r\n",
        "   creating: FastQC/Help/2 Basic Operations/\r\n",
        "  inflating: FastQC/Help/2 Basic Operations/2.1 Opening a sequence file.html  \r\n",
        "  inflating: FastQC/Help/2 Basic Operations/2.2 Evaluating Results.html  \r\n",
        "  inflating: FastQC/Help/2 Basic Operations/2.3 Saving a Report.html  \r\n",
        "   creating: FastQC/Help/3 Analysis Modules/\r\n",
        "  inflating: FastQC/Help/3 Analysis Modules/1 Basic Statistics.html  \r\n",
        "  inflating: FastQC/Help/3 Analysis Modules/10 Adapter Content.html  \r\n",
        "  inflating: FastQC/Help/3 Analysis Modules/11 Kmer Content.html  \r\n",
        "  inflating: FastQC/Help/3 Analysis Modules/12 Per Tile Sequence Quality.html  \r\n",
        "  inflating: FastQC/Help/3 Analysis Modules/2 Per Base Sequence Quality.html  \r\n",
        "  inflating: FastQC/Help/3 Analysis Modules/3 Per Sequence Quality Scores.html  \r\n",
        "  inflating: FastQC/Help/3 Analysis Modules/4 Per Base Sequence Content.html  \r\n",
        "  inflating: FastQC/Help/3 Analysis Modules/5 Per Sequence GC Content.html  \r\n",
        "  inflating: FastQC/Help/3 Analysis Modules/6 Per Base N Content.html  \r\n",
        "  inflating: FastQC/Help/3 Analysis Modules/7 Sequence Length Distribution.html  \r\n",
        "  inflating: FastQC/Help/3 Analysis Modules/8 Duplicate Sequences.html  \r\n",
        "  inflating: FastQC/Help/3 Analysis Modules/9 Overrepresented Sequences.html  \r\n",
        "  inflating: FastQC/Help/3 Analysis Modules/duplication_levels.png  \r\n",
        "  inflating: FastQC/Help/3 Analysis Modules/kmer_profiles.png  \r\n",
        "  inflating: FastQC/Help/3 Analysis Modules/per_base_gc_content.png  \r\n",
        "  inflating: FastQC/Help/3 Analysis Modules/per_base_n_content.png  \r\n",
        "  inflating: FastQC/Help/3 Analysis Modules/per_base_quality.png  \r\n",
        "  inflating: FastQC/Help/3 Analysis Modules/per_base_sequence_content.png  \r\n",
        "  inflating: FastQC/Help/3 Analysis Modules/per_sequence_gc_content.png  \r\n",
        "  inflating: FastQC/Help/3 Analysis Modules/per_sequence_quality.png  \r\n",
        "  inflating: FastQC/Help/3 Analysis Modules/per_tile_quality.png  \r\n",
        "  inflating: FastQC/Help/3 Analysis Modules/sequence_length_distribution.png  \r\n",
        "  inflating: FastQC/INSTALL.txt      \r\n",
        "  inflating: FastQC/jbzip2-0.9.jar   \r\n",
        "  inflating: FastQC/LICENSE.txt      \r\n",
        "   creating: FastQC/net/\r\n",
        "   creating: FastQC/net/sourceforge/\r\n",
        "   creating: FastQC/net/sourceforge/iharder/\r\n",
        "   creating: FastQC/net/sourceforge/iharder/base64/\r\n",
        "  inflating: FastQC/net/sourceforge/iharder/base64/Base64$1.class  \r\n",
        "  inflating: FastQC/net/sourceforge/iharder/base64/Base64$InputStream.class  \r\n",
        "  inflating: FastQC/net/sourceforge/iharder/base64/Base64$OutputStream.class  \r\n",
        "  inflating: FastQC/net/sourceforge/iharder/base64/Base64.class  \r\n",
        "   creating: FastQC/org/\r\n",
        "   creating: FastQC/org/apache/\r\n",
        "   creating: FastQC/org/apache/commons/\r\n",
        "   creating: FastQC/org/apache/commons/math3/\r\n",
        "   creating: FastQC/org/apache/commons/math3/analysis/\r\n",
        "   creating: FastQC/org/apache/commons/math3/analysis/solvers/\r\n",
        "  inflating: FastQC/org/apache/commons/math3/analysis/solvers/AbstractUnivariateSolver.class  \r\n",
        "  inflating: FastQC/org/apache/commons/math3/analysis/solvers/AllowedSolution.class  \r\n",
        "  inflating: FastQC/org/apache/commons/math3/analysis/solvers/BaseAbstractUnivariateSolver.class  \r\n",
        "  inflating: FastQC/org/apache/commons/math3/analysis/solvers/BaseUnivariateSolver.class  \r\n",
        "  inflating: FastQC/org/apache/commons/math3/analysis/solvers/BracketedUnivariateSolver.class  \r\n",
        "  inflating: FastQC/org/apache/commons/math3/analysis/solvers/BrentSolver.class  \r\n",
        "  inflating: FastQC/org/apache/commons/math3/analysis/solvers/UnivariateSolver.class  \r\n",
        "  inflating: FastQC/org/apache/commons/math3/analysis/solvers/UnivariateSolverUtils.class  \r\n",
        "  inflating: FastQC/org/apache/commons/math3/analysis/UnivariateFunction.class  \r\n",
        "   creating: FastQC/org/apache/commons/math3/distribution/\r\n",
        "  inflating: FastQC/org/apache/commons/math3/distribution/AbstractIntegerDistribution.class  \r\n",
        "  inflating: FastQC/org/apache/commons/math3/distribution/AbstractRealDistribution$1.class  \r\n",
        "  inflating: FastQC/org/apache/commons/math3/distribution/AbstractRealDistribution.class  \r\n",
        "  inflating: FastQC/org/apache/commons/math3/distribution/BetaDistribution.class  \r\n",
        "  inflating: FastQC/org/apache/commons/math3/distribution/BinomialDistribution.class  \r\n",
        "  inflating: FastQC/org/apache/commons/math3/distribution/CauchyDistribution.class  \r\n",
        "  inflating: FastQC/org/apache/commons/math3/distribution/ChiSquaredDistribution.class  \r\n",
        "  inflating: FastQC/org/apache/commons/math3/distribution/FDistribution.class  \r\n",
        "  inflating: FastQC/org/apache/commons/math3/distribution/GammaDistribution.class  \r\n",
        "  inflating: FastQC/org/apache/commons/math3/distribution/HypergeometricDistribution.class  \r\n",
        "  inflating: FastQC/org/apache/commons/math3/distribution/IntegerDistribution.class  \r\n",
        "  inflating: FastQC/org/apache/commons/math3/distribution/NormalDistribution.class  \r\n",
        "  inflating: FastQC/org/apache/commons/math3/distribution/PascalDistribution.class  \r\n",
        "  inflating: FastQC/org/apache/commons/math3/distribution/PoissonDistribution.class  \r\n",
        "  inflating: FastQC/org/apache/commons/math3/distribution/RealDistribution.class  \r\n",
        "  inflating: FastQC/org/apache/commons/math3/distribution/SaddlePointExpansion.class  \r\n",
        "  inflating: FastQC/org/apache/commons/math3/distribution/TDistribution.class  \r\n",
        "  inflating: FastQC/org/apache/commons/math3/distribution/WeibullDistribution.class  \r\n",
        "  inflating: FastQC/org/apache/commons/math3/distribution/ZipfDistribution.class  \r\n",
        "   creating: FastQC/org/apache/commons/math3/exception/\r\n",
        "  inflating: FastQC/org/apache/commons/math3/exception/ConvergenceException.class  \r\n",
        "  inflating: FastQC/org/apache/commons/math3/exception/DimensionMismatchException.class  \r\n",
        "  inflating: FastQC/org/apache/commons/math3/exception/MathArithmeticException.class  \r\n",
        "  inflating: FastQC/org/apache/commons/math3/exception/MathIllegalArgumentException.class  \r\n",
        "  inflating: FastQC/org/apache/commons/math3/exception/MathIllegalNumberException.class  \r\n",
        "  inflating: FastQC/org/apache/commons/math3/exception/MathIllegalStateException.class  \r\n",
        "  inflating: FastQC/org/apache/commons/math3/exception/MathInternalError.class  \r\n",
        "  inflating: FastQC/org/apache/commons/math3/exception/MaxCountExceededException.class  \r\n",
        "  inflating: FastQC/org/apache/commons/math3/exception/NoBracketingException.class  \r\n",
        "  inflating: FastQC/org/apache/commons/math3/exception/NotFiniteNumberException.class  \r\n",
        "  inflating: FastQC/org/apache/commons/math3/exception/NotPositiveException.class  \r\n",
        "  inflating: FastQC/org/apache/commons/math3/exception/NotStrictlyPositiveException.class  \r\n",
        "  inflating: FastQC/org/apache/commons/math3/exception/NullArgumentException.class  \r\n",
        "  inflating: FastQC/org/apache/commons/math3/exception/NumberIsTooLargeException.class  \r\n",
        "  inflating: FastQC/org/apache/commons/math3/exception/NumberIsTooSmallException.class  \r\n",
        "  inflating: FastQC/org/apache/commons/math3/exception/OutOfRangeException.class  \r\n",
        "  inflating: FastQC/org/apache/commons/math3/exception/TooManyEvaluationsException.class  \r\n",
        "   creating: FastQC/org/apache/commons/math3/exception/util/\r\n",
        "  inflating: FastQC/org/apache/commons/math3/exception/util/ArgUtils.class  \r\n",
        "  inflating: FastQC/org/apache/commons/math3/exception/util/ExceptionContext.class  \r\n",
        "  inflating: FastQC/org/apache/commons/math3/exception/util/ExceptionContextProvider.class  \r\n",
        "  inflating: FastQC/org/apache/commons/math3/exception/util/Localizable.class  \r\n",
        "  inflating: FastQC/org/apache/commons/math3/exception/util/LocalizedFormats.class  \r\n",
        "   creating: FastQC/org/apache/commons/math3/random/\r\n",
        "  inflating: FastQC/org/apache/commons/math3/random/AbstractWell.class  \r\n",
        "  inflating: FastQC/org/apache/commons/math3/random/BitsStreamGenerator.class  \r\n",
        "  inflating: FastQC/org/apache/commons/math3/random/RandomData.class  \r\n",
        "  inflating: FastQC/org/apache/commons/math3/random/RandomDataImpl.class  \r\n",
        "  inflating: FastQC/org/apache/commons/math3/random/RandomGenerator.class  \r\n",
        "  inflating: FastQC/org/apache/commons/math3/random/Well19937c.class  \r\n",
        "   creating: FastQC/org/apache/commons/math3/special/\r\n",
        "  inflating: FastQC/org/apache/commons/math3/special/Beta$1.class  \r\n",
        "  inflating: FastQC/org/apache/commons/math3/special/Beta.class  \r\n",
        "  inflating: FastQC/org/apache/commons/math3/special/Erf.class  \r\n",
        "  inflating: FastQC/org/apache/commons/math3/special/Gamma$1.class  \r\n",
        "  inflating: FastQC/org/apache/commons/math3/special/Gamma.class  \r\n",
        "   creating: FastQC/org/apache/commons/math3/util/\r\n",
        "  inflating: FastQC/org/apache/commons/math3/util/ArithmeticUtils.class  \r\n",
        "  inflating: FastQC/org/apache/commons/math3/util/ContinuedFraction.class  \r\n",
        "  inflating: FastQC/org/apache/commons/math3/util/DoubleArray.class  \r\n",
        "  inflating: FastQC/org/apache/commons/math3/util/FastMath$ExpFracTable.class  \r\n",
        "  inflating: FastQC/org/apache/commons/math3/util/FastMath$ExpIntTable.class  \r\n",
        "  inflating: FastQC/org/apache/commons/math3/util/FastMath$lnMant.class  \r\n",
        "  inflating: FastQC/org/apache/commons/math3/util/FastMath.class  \r\n",
        "  inflating: FastQC/org/apache/commons/math3/util/FastMathCalc.class  \r\n",
        "  inflating: FastQC/org/apache/commons/math3/util/FastMathLiteralArrays.class  \r\n",
        "  inflating: FastQC/org/apache/commons/math3/util/Incrementor$1.class  \r\n",
        "  inflating: FastQC/org/apache/commons/math3/util/Incrementor$MaxCountExceededCallback.class  \r\n",
        "  inflating: FastQC/org/apache/commons/math3/util/Incrementor.class  \r\n",
        "  inflating: FastQC/org/apache/commons/math3/util/MathUtils.class  \r\n",
        "  inflating: FastQC/org/apache/commons/math3/util/Precision.class  \r\n",
        "  inflating: FastQC/org/apache/commons/math3/util/ResizableDoubleArray.class  \r\n",
        "  inflating: FastQC/README.txt       \r\n",
        "  inflating: FastQC/RELEASE_NOTES.txt  \r\n",
        "  inflating: FastQC/run_fastqc.bat   \r\n",
        "  inflating: FastQC/sam-1.103.jar    "
       ]
      },
      {
       "output_type": "stream",
       "stream": "stdout",
       "text": [
        "\r\n",
        "   creating: FastQC/Templates/\r\n",
        "  inflating: FastQC/Templates/fastqc2fo.xsl  \r\n",
        "  inflating: FastQC/Templates/header_template.html  \r\n",
        "   creating: FastQC/Templates/Icons/\r\n",
        " extracting: FastQC/Templates/Icons/error.png  \r\n",
        " extracting: FastQC/Templates/Icons/fastqc_icon.png  \r\n",
        " extracting: FastQC/Templates/Icons/tick.png  \r\n",
        " extracting: FastQC/Templates/Icons/warning.png  \r\n",
        "   creating: FastQC/uk/\r\n",
        "   creating: FastQC/uk/ac/\r\n",
        "   creating: FastQC/uk/ac/babraham/\r\n",
        "   creating: FastQC/uk/ac/babraham/FastQC/\r\n",
        "   creating: FastQC/uk/ac/babraham/FastQC/Analysis/\r\n",
        "  inflating: FastQC/uk/ac/babraham/FastQC/Analysis/AnalysisListener.class  \r\n",
        "  inflating: FastQC/uk/ac/babraham/FastQC/Analysis/AnalysisQueue.class  \r\n",
        "  inflating: FastQC/uk/ac/babraham/FastQC/Analysis/AnalysisRunner.class  \r\n",
        "  inflating: FastQC/uk/ac/babraham/FastQC/Analysis/OfflineRunner.class  \r\n",
        "   creating: FastQC/uk/ac/babraham/FastQC/Dialogs/\r\n",
        "  inflating: FastQC/uk/ac/babraham/FastQC/Dialogs/AboutDialog$1.class  \r\n",
        "  inflating: FastQC/uk/ac/babraham/FastQC/Dialogs/AboutDialog.class  \r\n",
        "  inflating: FastQC/uk/ac/babraham/FastQC/Dialogs/FastQCTitlePanel$SmoothJLabel.class  \r\n",
        "  inflating: FastQC/uk/ac/babraham/FastQC/Dialogs/FastQCTitlePanel.class  \r\n",
        "  inflating: FastQC/uk/ac/babraham/FastQC/Dialogs/WelcomePanel.class  \r\n",
        "  inflating: FastQC/uk/ac/babraham/FastQC/FastQCApplication$1.class  \r\n",
        "  inflating: FastQC/uk/ac/babraham/FastQC/FastQCApplication.class  \r\n",
        "  inflating: FastQC/uk/ac/babraham/FastQC/FastQCConfig.class  \r\n",
        "  inflating: FastQC/uk/ac/babraham/FastQC/FastQCMenuBar.class  \r\n",
        "   creating: FastQC/uk/ac/babraham/FastQC/FileFilters/\r\n",
        "  inflating: FastQC/uk/ac/babraham/FastQC/FileFilters/BAMFileFilter.class  \r\n",
        "  inflating: FastQC/uk/ac/babraham/FastQC/FileFilters/CasavaFastQFileFilter.class  \r\n",
        "  inflating: FastQC/uk/ac/babraham/FastQC/FileFilters/FastQFileFilter.class  \r\n",
        "  inflating: FastQC/uk/ac/babraham/FastQC/FileFilters/GobyFileFilter.class  \r\n",
        "  inflating: FastQC/uk/ac/babraham/FastQC/FileFilters/MappedBAMFileFilter.class  \r\n",
        "  inflating: FastQC/uk/ac/babraham/FastQC/FileFilters/SequenceFileFilter.class  \r\n",
        "   creating: FastQC/uk/ac/babraham/FastQC/Graphs/\r\n",
        "  inflating: FastQC/uk/ac/babraham/FastQC/Graphs/BaseGroup.class  \r\n",
        "  inflating: FastQC/uk/ac/babraham/FastQC/Graphs/LineGraph.class  \r\n",
        "  inflating: FastQC/uk/ac/babraham/FastQC/Graphs/QualityBoxPlot.class  \r\n",
        "  inflating: FastQC/uk/ac/babraham/FastQC/Graphs/TileGraph.class  \r\n",
        "   creating: FastQC/uk/ac/babraham/FastQC/Help/\r\n",
        "  inflating: FastQC/uk/ac/babraham/FastQC/Help/HelpDialog.class  \r\n",
        "  inflating: FastQC/uk/ac/babraham/FastQC/Help/HelpIndexRoot$FileSorter.class  \r\n",
        "  inflating: FastQC/uk/ac/babraham/FastQC/Help/HelpIndexRoot.class  \r\n",
        "  inflating: FastQC/uk/ac/babraham/FastQC/Help/HelpPage.class  \r\n",
        "  inflating: FastQC/uk/ac/babraham/FastQC/Help/HelpPageDisplay$HelpEditor.class  \r\n",
        "  inflating: FastQC/uk/ac/babraham/FastQC/Help/HelpPageDisplay.class  \r\n",
        "  inflating: FastQC/uk/ac/babraham/FastQC/Help/HelpSearchPanel.class  \r\n",
        "   creating: FastQC/uk/ac/babraham/FastQC/Modules/\r\n",
        "  inflating: FastQC/uk/ac/babraham/FastQC/Modules/AbstractQCModule.class  \r\n",
        "  inflating: FastQC/uk/ac/babraham/FastQC/Modules/AdapterContent$Adapter.class  \r\n",
        "  inflating: FastQC/uk/ac/babraham/FastQC/Modules/AdapterContent$ResultsTable.class  \r\n",
        "  inflating: FastQC/uk/ac/babraham/FastQC/Modules/AdapterContent.class  \r\n",
        "  inflating: FastQC/uk/ac/babraham/FastQC/Modules/BasicStats$ResultsTable.class  \r\n",
        "  inflating: FastQC/uk/ac/babraham/FastQC/Modules/BasicStats.class  \r\n",
        "  inflating: FastQC/uk/ac/babraham/FastQC/Modules/DuplicationLevel.class  \r\n",
        "   creating: FastQC/uk/ac/babraham/FastQC/Modules/GCModel/\r\n",
        "  inflating: FastQC/uk/ac/babraham/FastQC/Modules/GCModel/GCModel.class  \r\n",
        "  inflating: FastQC/uk/ac/babraham/FastQC/Modules/GCModel/GCModelValue.class  \r\n",
        "  inflating: FastQC/uk/ac/babraham/FastQC/Modules/KmerContent$Kmer.class  \r\n",
        "  inflating: FastQC/uk/ac/babraham/FastQC/Modules/KmerContent$ResultsTable.class  \r\n",
        "  inflating: FastQC/uk/ac/babraham/FastQC/Modules/KmerContent.class  \r\n",
        "  inflating: FastQC/uk/ac/babraham/FastQC/Modules/ModuleConfig.class  \r\n",
        "  inflating: FastQC/uk/ac/babraham/FastQC/Modules/NContent.class  \r\n",
        "  inflating: FastQC/uk/ac/babraham/FastQC/Modules/OverRepresentedSeqs$OverrepresentedSeq.class  \r\n",
        "  inflating: FastQC/uk/ac/babraham/FastQC/Modules/OverRepresentedSeqs$ResultsTable.class  \r\n",
        "  inflating: FastQC/uk/ac/babraham/FastQC/Modules/OverRepresentedSeqs.class  \r\n",
        "  inflating: FastQC/uk/ac/babraham/FastQC/Modules/PerBaseQualityScores.class  \r\n",
        "  inflating: FastQC/uk/ac/babraham/FastQC/Modules/PerBaseSequenceContent.class  \r\n",
        "  inflating: FastQC/uk/ac/babraham/FastQC/Modules/PerSequenceGCContent.class  \r\n",
        "  inflating: FastQC/uk/ac/babraham/FastQC/Modules/PerSequenceQualityScores.class  \r\n",
        "  inflating: FastQC/uk/ac/babraham/FastQC/Modules/PerTileQualityScores.class  \r\n",
        "  inflating: FastQC/uk/ac/babraham/FastQC/Modules/QCModule.class  \r\n",
        "  inflating: FastQC/uk/ac/babraham/FastQC/Modules/SequenceLengthDistribution.class  \r\n",
        "   creating: FastQC/uk/ac/babraham/FastQC/Report/\r\n",
        "  inflating: FastQC/uk/ac/babraham/FastQC/Report/HTMLReportArchive.class  \r\n",
        "  inflating: FastQC/uk/ac/babraham/FastQC/Report/stylesheet.txt  \r\n",
        "   creating: FastQC/uk/ac/babraham/FastQC/Resources/\r\n",
        " extracting: FastQC/uk/ac/babraham/FastQC/Resources/error.png  \r\n",
        " extracting: FastQC/uk/ac/babraham/FastQC/Resources/fastqc_icon.png  \r\n",
        "  inflating: FastQC/uk/ac/babraham/FastQC/Resources/fastqc_icon.svg  \r\n",
        " extracting: FastQC/uk/ac/babraham/FastQC/Resources/fastqc_icon_100.png  \r\n",
        " extracting: FastQC/uk/ac/babraham/FastQC/Resources/tick.png  \r\n",
        " extracting: FastQC/uk/ac/babraham/FastQC/Resources/warning.png  \r\n",
        "   creating: FastQC/uk/ac/babraham/FastQC/Results/\r\n",
        "  inflating: FastQC/uk/ac/babraham/FastQC/Results/ResultsPanel$ModuleRenderer.class  \r\n",
        "  inflating: FastQC/uk/ac/babraham/FastQC/Results/ResultsPanel.class  \r\n",
        "   creating: FastQC/uk/ac/babraham/FastQC/Sequence/\r\n",
        "  inflating: FastQC/uk/ac/babraham/FastQC/Sequence/BAMFile.class  \r\n",
        "   creating: FastQC/uk/ac/babraham/FastQC/Sequence/Contaminant/\r\n",
        "  inflating: FastQC/uk/ac/babraham/FastQC/Sequence/Contaminant/Contaminant.class  \r\n",
        "  inflating: FastQC/uk/ac/babraham/FastQC/Sequence/Contaminant/ContaminantHit.class  \r\n",
        "  inflating: FastQC/uk/ac/babraham/FastQC/Sequence/Contaminant/ContaminentFinder.class  \r\n",
        "  inflating: FastQC/uk/ac/babraham/FastQC/Sequence/FastQFile.class  \r\n",
        "   creating: FastQC/uk/ac/babraham/FastQC/Sequence/QualityEncoding/\r\n",
        "  inflating: FastQC/uk/ac/babraham/FastQC/Sequence/QualityEncoding/PhredEncoding.class  \r\n",
        "  inflating: FastQC/uk/ac/babraham/FastQC/Sequence/Sequence.class  \r\n",
        "  inflating: FastQC/uk/ac/babraham/FastQC/Sequence/SequenceFactory.class  \r\n",
        "  inflating: FastQC/uk/ac/babraham/FastQC/Sequence/SequenceFile.class  \r\n",
        "  inflating: FastQC/uk/ac/babraham/FastQC/Sequence/SequenceFileGroup.class  \r\n",
        "  inflating: FastQC/uk/ac/babraham/FastQC/Sequence/SequenceFormatException.class  \r\n",
        "   creating: FastQC/uk/ac/babraham/FastQC/Statistics/\r\n",
        "  inflating: FastQC/uk/ac/babraham/FastQC/Statistics/NormalDistribution.class  \r\n",
        "  inflating: FastQC/uk/ac/babraham/FastQC/Statistics/PearsonCorrelation.class  \r\n",
        "   creating: FastQC/uk/ac/babraham/FastQC/Utilities/\r\n",
        "  inflating: FastQC/uk/ac/babraham/FastQC/Utilities/CasavaBasename.class  \r\n",
        "  inflating: FastQC/uk/ac/babraham/FastQC/Utilities/HotColdColourGradient.class  \r\n",
        "  inflating: FastQC/uk/ac/babraham/FastQC/Utilities/ImageToBase64.class  \r\n",
        "  inflating: FastQC/uk/ac/babraham/FastQC/Utilities/MultiMemberGZIPInputStream.class  \r\n",
        "  inflating: FastQC/uk/ac/babraham/FastQC/Utilities/NameFormatException.class  \r\n",
        "  inflating: FastQC/uk/ac/babraham/FastQC/Utilities/QualityCount.class  \r\n",
        "  inflating: FastQC/uk/ac/babraham/FastQC/Utilities/RGB.class  \r\n"
       ]
      }
     ],
     "prompt_number": 14
    },
    {
     "cell_type": "code",
     "collapsed": false,
     "input": [
      "ls"
     ],
     "language": "python",
     "metadata": {},
     "outputs": [
      {
       "output_type": "stream",
       "stream": "stdout",
       "text": [
        "\u001b[34mFastQC\u001b[m\u001b[m/                   \u001b[34mdbs\u001b[m\u001b[m/                      \u001b[34mngsplot-2.08\u001b[m\u001b[m/\r\n",
        "\u001b[35mTrimmomatic\u001b[m\u001b[m@              fastqc_v0.11.2.zip        \u001b[35mrsem\u001b[m\u001b[m@\r\n",
        "\u001b[34mTrimmomatic-0.30\u001b[m\u001b[m/         \u001b[35mfastx_toolkit\u001b[m\u001b[m@            \u001b[34mrsem-1.2.10\u001b[m\u001b[m/\r\n",
        "\u001b[35mTrinotate\u001b[m\u001b[m@                \u001b[34mfastx_toolkit-0.0.13.2\u001b[m\u001b[m/   \u001b[34msignalp-4.1\u001b[m\u001b[m/\r\n",
        "\u001b[34mTrinotate_r20140708\u001b[m\u001b[m/      \u001b[35mhmmer\u001b[m\u001b[m@                    source.sh\r\n",
        "\u001b[34manaconda\u001b[m\u001b[m/                 \u001b[34mhmmer-3.1b1\u001b[m\u001b[m/              \u001b[35mstacks\u001b[m\u001b[m@\r\n",
        "\u001b[35mbowtie\u001b[m\u001b[m@                   \u001b[34mlibgtextutils-0.6.1\u001b[m\u001b[m/      \u001b[34mstacks-1.13\u001b[m\u001b[m/\r\n",
        "\u001b[34mbowtie-1.0.0\u001b[m\u001b[m/             \u001b[35mncbi-blast\u001b[m\u001b[m@               \u001b[34mtophat-2.0.13.OSX_x86_64\u001b[m\u001b[m/\r\n",
        "\u001b[35mbowtie2\u001b[m\u001b[m@                  \u001b[34mncbi-blast-2.2.29+\u001b[m\u001b[m/       \u001b[35mtrinity\u001b[m\u001b[m@\r\n",
        "\u001b[34mbowtie2-2.1.0\u001b[m\u001b[m/            \u001b[35mngsplot\u001b[m\u001b[m@                  \u001b[34mtrinityrnaseq_r20131110\u001b[m\u001b[m/\r\n"
       ]
      }
     ],
     "prompt_number": 15
    },
    {
     "cell_type": "code",
     "collapsed": false,
     "input": [
      "!rm fastqc_v0.11.2.zip"
     ],
     "language": "python",
     "metadata": {},
     "outputs": [],
     "prompt_number": 16
    },
    {
     "cell_type": "code",
     "collapsed": false,
     "input": [
      "#edited source.sh file to add FastQC to path\n",
      "#had to do this outside of IPython\n",
      "#Added the following to the source.sh file:\n",
      "## FastQC\n",
      "#export PATH=${BIO}/FastQC:${PATH}"
     ],
     "language": "python",
     "metadata": {},
     "outputs": [],
     "prompt_number": 18
    },
    {
     "cell_type": "code",
     "collapsed": false,
     "input": [
      "#change permissions so that fastqc is exectuble\n",
      "#performed outside of IPtyon\n",
      "#sudo chmod 755 /usr/local/bioinformatics/FastQC/fastqc"
     ],
     "language": "python",
     "metadata": {},
     "outputs": [],
     "prompt_number": 1
    },
    {
     "cell_type": "code",
     "collapsed": false,
     "input": [
      "#verify fastqc is installed\n",
      "!which fastqc"
     ],
     "language": "python",
     "metadata": {},
     "outputs": [
      {
       "output_type": "stream",
       "stream": "stdout",
       "text": [
        "/usr/local/bioinformatics/FastQC/fastqc\r\n"
       ]
      }
     ],
     "prompt_number": 2
    },
    {
     "cell_type": "code",
     "collapsed": false,
     "input": [],
     "language": "python",
     "metadata": {},
     "outputs": []
    }
   ],
   "metadata": {}
  }
 ]
}